{
 "cells": [
  {
   "cell_type": "markdown",
   "id": "6177db05",
   "metadata": {},
   "source": [
    "IMPORTING LIBRARIES"
   ]
  },
  {
   "cell_type": "code",
   "execution_count": 3,
   "id": "2168254d",
   "metadata": {},
   "outputs": [],
   "source": [
    "import pandas as pd\n",
    "import numpy as np\n",
    "import seaborn as sns\n",
    "import matplotlib.pyplot as plt\n",
    "import warnings\n",
    "warnings.filterwarnings('ignore')\n"
   ]
  },
  {
   "cell_type": "markdown",
   "id": "3660649b",
   "metadata": {},
   "source": [
    "LOADING THE DATA SETS(train_data)"
   ]
  },
  {
   "cell_type": "code",
   "execution_count": 16,
   "id": "419b7450",
   "metadata": {},
   "outputs": [
    {
     "data": {
      "text/html": [
       "<div>\n",
       "<style scoped>\n",
       "    .dataframe tbody tr th:only-of-type {\n",
       "        vertical-align: middle;\n",
       "    }\n",
       "\n",
       "    .dataframe tbody tr th {\n",
       "        vertical-align: top;\n",
       "    }\n",
       "\n",
       "    .dataframe thead th {\n",
       "        text-align: right;\n",
       "    }\n",
       "</style>\n",
       "<table border=\"1\" class=\"dataframe\">\n",
       "  <thead>\n",
       "    <tr style=\"text-align: right;\">\n",
       "      <th></th>\n",
       "      <th>Item_Identifier</th>\n",
       "      <th>Item_Weight</th>\n",
       "      <th>Item_Fat_Content</th>\n",
       "      <th>Item_Visibility</th>\n",
       "      <th>Item_Type</th>\n",
       "      <th>Item_MRP</th>\n",
       "      <th>Outlet_Identifier</th>\n",
       "      <th>Outlet_Establishment_Year</th>\n",
       "      <th>Outlet_Size</th>\n",
       "      <th>Outlet_Location_Type</th>\n",
       "      <th>Outlet_Type</th>\n",
       "      <th>Item_Outlet_Sales</th>\n",
       "    </tr>\n",
       "  </thead>\n",
       "  <tbody>\n",
       "    <tr>\n",
       "      <th>0</th>\n",
       "      <td>FDA15</td>\n",
       "      <td>9.30</td>\n",
       "      <td>Low Fat</td>\n",
       "      <td>0.016047</td>\n",
       "      <td>Dairy</td>\n",
       "      <td>249.8092</td>\n",
       "      <td>OUT049</td>\n",
       "      <td>1999</td>\n",
       "      <td>Medium</td>\n",
       "      <td>Tier 1</td>\n",
       "      <td>Supermarket Type1</td>\n",
       "      <td>3735.1380</td>\n",
       "    </tr>\n",
       "    <tr>\n",
       "      <th>1</th>\n",
       "      <td>DRC01</td>\n",
       "      <td>5.92</td>\n",
       "      <td>Regular</td>\n",
       "      <td>0.019278</td>\n",
       "      <td>Soft Drinks</td>\n",
       "      <td>48.2692</td>\n",
       "      <td>OUT018</td>\n",
       "      <td>2009</td>\n",
       "      <td>Medium</td>\n",
       "      <td>Tier 3</td>\n",
       "      <td>Supermarket Type2</td>\n",
       "      <td>443.4228</td>\n",
       "    </tr>\n",
       "    <tr>\n",
       "      <th>2</th>\n",
       "      <td>FDN15</td>\n",
       "      <td>17.50</td>\n",
       "      <td>Low Fat</td>\n",
       "      <td>0.016760</td>\n",
       "      <td>Meat</td>\n",
       "      <td>141.6180</td>\n",
       "      <td>OUT049</td>\n",
       "      <td>1999</td>\n",
       "      <td>Medium</td>\n",
       "      <td>Tier 1</td>\n",
       "      <td>Supermarket Type1</td>\n",
       "      <td>2097.2700</td>\n",
       "    </tr>\n",
       "    <tr>\n",
       "      <th>3</th>\n",
       "      <td>FDX07</td>\n",
       "      <td>19.20</td>\n",
       "      <td>Regular</td>\n",
       "      <td>0.000000</td>\n",
       "      <td>Fruits and Vegetables</td>\n",
       "      <td>182.0950</td>\n",
       "      <td>OUT010</td>\n",
       "      <td>1998</td>\n",
       "      <td>NaN</td>\n",
       "      <td>Tier 3</td>\n",
       "      <td>Grocery Store</td>\n",
       "      <td>732.3800</td>\n",
       "    </tr>\n",
       "    <tr>\n",
       "      <th>4</th>\n",
       "      <td>NCD19</td>\n",
       "      <td>8.93</td>\n",
       "      <td>Low Fat</td>\n",
       "      <td>0.000000</td>\n",
       "      <td>Household</td>\n",
       "      <td>53.8614</td>\n",
       "      <td>OUT013</td>\n",
       "      <td>1987</td>\n",
       "      <td>High</td>\n",
       "      <td>Tier 3</td>\n",
       "      <td>Supermarket Type1</td>\n",
       "      <td>994.7052</td>\n",
       "    </tr>\n",
       "  </tbody>\n",
       "</table>\n",
       "</div>"
      ],
      "text/plain": [
       "  Item_Identifier  Item_Weight Item_Fat_Content  Item_Visibility  \\\n",
       "0           FDA15         9.30          Low Fat         0.016047   \n",
       "1           DRC01         5.92          Regular         0.019278   \n",
       "2           FDN15        17.50          Low Fat         0.016760   \n",
       "3           FDX07        19.20          Regular         0.000000   \n",
       "4           NCD19         8.93          Low Fat         0.000000   \n",
       "\n",
       "               Item_Type  Item_MRP Outlet_Identifier  \\\n",
       "0                  Dairy  249.8092            OUT049   \n",
       "1            Soft Drinks   48.2692            OUT018   \n",
       "2                   Meat  141.6180            OUT049   \n",
       "3  Fruits and Vegetables  182.0950            OUT010   \n",
       "4              Household   53.8614            OUT013   \n",
       "\n",
       "   Outlet_Establishment_Year Outlet_Size Outlet_Location_Type  \\\n",
       "0                       1999      Medium               Tier 1   \n",
       "1                       2009      Medium               Tier 3   \n",
       "2                       1999      Medium               Tier 1   \n",
       "3                       1998         NaN               Tier 3   \n",
       "4                       1987        High               Tier 3   \n",
       "\n",
       "         Outlet_Type  Item_Outlet_Sales  \n",
       "0  Supermarket Type1          3735.1380  \n",
       "1  Supermarket Type2           443.4228  \n",
       "2  Supermarket Type1          2097.2700  \n",
       "3      Grocery Store           732.3800  \n",
       "4  Supermarket Type1           994.7052  "
      ]
     },
     "execution_count": 16,
     "metadata": {},
     "output_type": "execute_result"
    }
   ],
   "source": [
    "train_data=pd.read_csv('big_data_mart_train.csv')\n",
    "train_data.head()"
   ]
  },
  {
   "cell_type": "markdown",
   "id": "53f96494",
   "metadata": {},
   "source": [
    "Top 5 heads of the train data"
   ]
  },
  {
   "cell_type": "code",
   "execution_count": 7,
   "id": "90e0055d",
   "metadata": {},
   "outputs": [
    {
     "data": {
      "text/plain": [
       "(8523, 12)"
      ]
     },
     "execution_count": 7,
     "metadata": {},
     "output_type": "execute_result"
    }
   ],
   "source": [
    "train_data.shape"
   ]
  },
  {
   "cell_type": "markdown",
   "id": "9df31900",
   "metadata": {},
   "source": [
    "In train_data there is 8523 rows and 12 columns"
   ]
  },
  {
   "cell_type": "code",
   "execution_count": 8,
   "id": "6128967b",
   "metadata": {},
   "outputs": [
    {
     "data": {
      "text/plain": [
       "Item_Identifier               object\n",
       "Item_Weight                  float64\n",
       "Item_Fat_Content              object\n",
       "Item_Visibility              float64\n",
       "Item_Type                     object\n",
       "Item_MRP                     float64\n",
       "Outlet_Identifier             object\n",
       "Outlet_Establishment_Year      int64\n",
       "Outlet_Size                   object\n",
       "Outlet_Location_Type          object\n",
       "Outlet_Type                   object\n",
       "Item_Outlet_Sales            float64\n",
       "dtype: object"
      ]
     },
     "execution_count": 8,
     "metadata": {},
     "output_type": "execute_result"
    }
   ],
   "source": [
    "train_data.dtypes"
   ]
  },
  {
   "cell_type": "markdown",
   "id": "ca38f9c0",
   "metadata": {},
   "source": [
    "we have 4 float data type columns, 1 integer data type columns and 7 object data type columns in train data."
   ]
  },
  {
   "cell_type": "code",
   "execution_count": 9,
   "id": "e4d091f3",
   "metadata": {},
   "outputs": [
    {
     "data": {
      "text/plain": [
       "Item_Identifier              1559\n",
       "Item_Weight                   416\n",
       "Item_Fat_Content                5\n",
       "Item_Visibility              7880\n",
       "Item_Type                      16\n",
       "Item_MRP                     5938\n",
       "Outlet_Identifier              10\n",
       "Outlet_Establishment_Year       9\n",
       "Outlet_Size                     4\n",
       "Outlet_Location_Type            3\n",
       "Outlet_Type                     4\n",
       "Item_Outlet_Sales            3493\n",
       "dtype: int64"
      ]
     },
     "execution_count": 9,
     "metadata": {},
     "output_type": "execute_result"
    }
   ],
   "source": [
    "# checking unique value in the dataset\n",
    "train_data.apply(lambda x: len(x.unique()))"
   ]
  },
  {
   "cell_type": "markdown",
   "id": "8ad18726",
   "metadata": {},
   "source": [
    "columns with more number of unique values are of integer data type."
   ]
  },
  {
   "cell_type": "code",
   "execution_count": 11,
   "id": "d036e549",
   "metadata": {},
   "outputs": [
    {
     "data": {
      "text/plain": [
       "Item_Identifier                 0\n",
       "Item_Weight                  1463\n",
       "Item_Fat_Content                0\n",
       "Item_Visibility                 0\n",
       "Item_Type                       0\n",
       "Item_MRP                        0\n",
       "Outlet_Identifier               0\n",
       "Outlet_Establishment_Year       0\n",
       "Outlet_Size                  2410\n",
       "Outlet_Location_Type            0\n",
       "Outlet_Type                     0\n",
       "Item_Outlet_Sales               0\n",
       "dtype: int64"
      ]
     },
     "execution_count": 11,
     "metadata": {},
     "output_type": "execute_result"
    }
   ],
   "source": [
    "#checking null values\n",
    "\n",
    "train_data.isnull().sum()"
   ]
  },
  {
   "cell_type": "markdown",
   "id": "5918a88e",
   "metadata": {},
   "source": [
    "we have 2 columns with missing values that is Item_weight and outlet_size."
   ]
  },
  {
   "cell_type": "code",
   "execution_count": null,
   "id": "0a9e14b8",
   "metadata": {},
   "outputs": [],
   "source": []
  },
  {
   "cell_type": "markdown",
   "id": "570c9dea",
   "metadata": {},
   "source": [
    "LOADING THE DATASET(test_data)"
   ]
  },
  {
   "cell_type": "code",
   "execution_count": 18,
   "id": "4a40338d",
   "metadata": {},
   "outputs": [
    {
     "data": {
      "text/html": [
       "<div>\n",
       "<style scoped>\n",
       "    .dataframe tbody tr th:only-of-type {\n",
       "        vertical-align: middle;\n",
       "    }\n",
       "\n",
       "    .dataframe tbody tr th {\n",
       "        vertical-align: top;\n",
       "    }\n",
       "\n",
       "    .dataframe thead th {\n",
       "        text-align: right;\n",
       "    }\n",
       "</style>\n",
       "<table border=\"1\" class=\"dataframe\">\n",
       "  <thead>\n",
       "    <tr style=\"text-align: right;\">\n",
       "      <th></th>\n",
       "      <th>Item_Identifier</th>\n",
       "      <th>Item_Weight</th>\n",
       "      <th>Item_Fat_Content</th>\n",
       "      <th>Item_Visibility</th>\n",
       "      <th>Item_Type</th>\n",
       "      <th>Item_MRP</th>\n",
       "      <th>Outlet_Identifier</th>\n",
       "      <th>Outlet_Establishment_Year</th>\n",
       "      <th>Outlet_Size</th>\n",
       "      <th>Outlet_Location_Type</th>\n",
       "      <th>Outlet_Type</th>\n",
       "    </tr>\n",
       "  </thead>\n",
       "  <tbody>\n",
       "    <tr>\n",
       "      <th>0</th>\n",
       "      <td>FDW58</td>\n",
       "      <td>20.750</td>\n",
       "      <td>Low Fat</td>\n",
       "      <td>0.007565</td>\n",
       "      <td>Snack Foods</td>\n",
       "      <td>107.8622</td>\n",
       "      <td>OUT049</td>\n",
       "      <td>1999</td>\n",
       "      <td>Medium</td>\n",
       "      <td>Tier 1</td>\n",
       "      <td>Supermarket Type1</td>\n",
       "    </tr>\n",
       "    <tr>\n",
       "      <th>1</th>\n",
       "      <td>FDW14</td>\n",
       "      <td>8.300</td>\n",
       "      <td>reg</td>\n",
       "      <td>0.038428</td>\n",
       "      <td>Dairy</td>\n",
       "      <td>87.3198</td>\n",
       "      <td>OUT017</td>\n",
       "      <td>2007</td>\n",
       "      <td>NaN</td>\n",
       "      <td>Tier 2</td>\n",
       "      <td>Supermarket Type1</td>\n",
       "    </tr>\n",
       "    <tr>\n",
       "      <th>2</th>\n",
       "      <td>NCN55</td>\n",
       "      <td>14.600</td>\n",
       "      <td>Low Fat</td>\n",
       "      <td>0.099575</td>\n",
       "      <td>Others</td>\n",
       "      <td>241.7538</td>\n",
       "      <td>OUT010</td>\n",
       "      <td>1998</td>\n",
       "      <td>NaN</td>\n",
       "      <td>Tier 3</td>\n",
       "      <td>Grocery Store</td>\n",
       "    </tr>\n",
       "    <tr>\n",
       "      <th>3</th>\n",
       "      <td>FDQ58</td>\n",
       "      <td>7.315</td>\n",
       "      <td>Low Fat</td>\n",
       "      <td>0.015388</td>\n",
       "      <td>Snack Foods</td>\n",
       "      <td>155.0340</td>\n",
       "      <td>OUT017</td>\n",
       "      <td>2007</td>\n",
       "      <td>NaN</td>\n",
       "      <td>Tier 2</td>\n",
       "      <td>Supermarket Type1</td>\n",
       "    </tr>\n",
       "    <tr>\n",
       "      <th>4</th>\n",
       "      <td>FDY38</td>\n",
       "      <td>NaN</td>\n",
       "      <td>Regular</td>\n",
       "      <td>0.118599</td>\n",
       "      <td>Dairy</td>\n",
       "      <td>234.2300</td>\n",
       "      <td>OUT027</td>\n",
       "      <td>1985</td>\n",
       "      <td>Medium</td>\n",
       "      <td>Tier 3</td>\n",
       "      <td>Supermarket Type3</td>\n",
       "    </tr>\n",
       "  </tbody>\n",
       "</table>\n",
       "</div>"
      ],
      "text/plain": [
       "  Item_Identifier  Item_Weight Item_Fat_Content  Item_Visibility    Item_Type  \\\n",
       "0           FDW58       20.750          Low Fat         0.007565  Snack Foods   \n",
       "1           FDW14        8.300              reg         0.038428        Dairy   \n",
       "2           NCN55       14.600          Low Fat         0.099575       Others   \n",
       "3           FDQ58        7.315          Low Fat         0.015388  Snack Foods   \n",
       "4           FDY38          NaN          Regular         0.118599        Dairy   \n",
       "\n",
       "   Item_MRP Outlet_Identifier  Outlet_Establishment_Year Outlet_Size  \\\n",
       "0  107.8622            OUT049                       1999      Medium   \n",
       "1   87.3198            OUT017                       2007         NaN   \n",
       "2  241.7538            OUT010                       1998         NaN   \n",
       "3  155.0340            OUT017                       2007         NaN   \n",
       "4  234.2300            OUT027                       1985      Medium   \n",
       "\n",
       "  Outlet_Location_Type        Outlet_Type  \n",
       "0               Tier 1  Supermarket Type1  \n",
       "1               Tier 2  Supermarket Type1  \n",
       "2               Tier 3      Grocery Store  \n",
       "3               Tier 2  Supermarket Type1  \n",
       "4               Tier 3  Supermarket Type3  "
      ]
     },
     "execution_count": 18,
     "metadata": {},
     "output_type": "execute_result"
    }
   ],
   "source": [
    "test_data=pd.read_csv('big_data_mart_test.csv')\n",
    "test_data.head()"
   ]
  },
  {
   "cell_type": "markdown",
   "id": "8342f607",
   "metadata": {},
   "source": [
    "top 5 heads of the test_data only difference is Item_Outlet_Sales column is misssing here."
   ]
  },
  {
   "cell_type": "code",
   "execution_count": 20,
   "id": "5c38b06e",
   "metadata": {},
   "outputs": [
    {
     "data": {
      "text/plain": [
       "(5681, 11)"
      ]
     },
     "execution_count": 20,
     "metadata": {},
     "output_type": "execute_result"
    }
   ],
   "source": [
    "test_data.shape"
   ]
  },
  {
   "cell_type": "markdown",
   "id": "c7e4ff51",
   "metadata": {},
   "source": [
    "In test_data we have 5681 rows and 11 columns."
   ]
  },
  {
   "cell_type": "code",
   "execution_count": 22,
   "id": "deca329d",
   "metadata": {},
   "outputs": [
    {
     "data": {
      "text/plain": [
       "Item_Identifier               object\n",
       "Item_Weight                  float64\n",
       "Item_Fat_Content              object\n",
       "Item_Visibility              float64\n",
       "Item_Type                     object\n",
       "Item_MRP                     float64\n",
       "Outlet_Identifier             object\n",
       "Outlet_Establishment_Year      int64\n",
       "Outlet_Size                   object\n",
       "Outlet_Location_Type          object\n",
       "Outlet_Type                   object\n",
       "dtype: object"
      ]
     },
     "execution_count": 22,
     "metadata": {},
     "output_type": "execute_result"
    }
   ],
   "source": [
    "test_data.dtypes"
   ]
  },
  {
   "cell_type": "markdown",
   "id": "fcbebd14",
   "metadata": {},
   "source": [
    "we have 3 float data type columns, 1 integer data type columns and 7 object data type columns in  test_data."
   ]
  },
  {
   "cell_type": "code",
   "execution_count": 24,
   "id": "cabcc42d",
   "metadata": {},
   "outputs": [
    {
     "data": {
      "text/plain": [
       "Item_Identifier              1543\n",
       "Item_Weight                   411\n",
       "Item_Fat_Content                5\n",
       "Item_Visibility              5277\n",
       "Item_Type                      16\n",
       "Item_MRP                     4402\n",
       "Outlet_Identifier              10\n",
       "Outlet_Establishment_Year       9\n",
       "Outlet_Size                     4\n",
       "Outlet_Location_Type            3\n",
       "Outlet_Type                     4\n",
       "dtype: int64"
      ]
     },
     "execution_count": 24,
     "metadata": {},
     "output_type": "execute_result"
    }
   ],
   "source": [
    "# checking unique value in the dataset\n",
    "test_data.apply(lambda x: len(x.unique()))"
   ]
  },
  {
   "cell_type": "markdown",
   "id": "9074028c",
   "metadata": {},
   "source": [
    "columns with more number of unique values are of integer data type."
   ]
  },
  {
   "cell_type": "code",
   "execution_count": 25,
   "id": "fced5448",
   "metadata": {},
   "outputs": [
    {
     "data": {
      "text/plain": [
       "Item_Identifier                 0\n",
       "Item_Weight                   976\n",
       "Item_Fat_Content                0\n",
       "Item_Visibility                 0\n",
       "Item_Type                       0\n",
       "Item_MRP                        0\n",
       "Outlet_Identifier               0\n",
       "Outlet_Establishment_Year       0\n",
       "Outlet_Size                  1606\n",
       "Outlet_Location_Type            0\n",
       "Outlet_Type                     0\n",
       "dtype: int64"
      ]
     },
     "execution_count": 25,
     "metadata": {},
     "output_type": "execute_result"
    }
   ],
   "source": [
    "#checking null values\n",
    "\n",
    "test_data.isnull().sum()"
   ]
  },
  {
   "cell_type": "markdown",
   "id": "6471ae38",
   "metadata": {},
   "source": [
    "we have 2 columns with missing values that is Item_weight and outlet_size.\n",
    "\n"
   ]
  },
  {
   "cell_type": "code",
   "execution_count": null,
   "id": "d845aa0f",
   "metadata": {},
   "outputs": [],
   "source": []
  },
  {
   "cell_type": "markdown",
   "id": "b752ca06",
   "metadata": {},
   "source": [
    "PREPROCESSING THE DATASETS"
   ]
  },
  {
   "cell_type": "code",
   "execution_count": 26,
   "id": "a26bea76",
   "metadata": {},
   "outputs": [
    {
     "data": {
      "text/plain": [
       "array(['Low Fat', 'Regular', 'low fat', 'LF', 'reg'], dtype=object)"
      ]
     },
     "execution_count": 26,
     "metadata": {},
     "output_type": "execute_result"
    }
   ],
   "source": [
    "train_data['Item_Fat_Content'].unique()"
   ]
  },
  {
   "cell_type": "code",
   "execution_count": 27,
   "id": "841129ea",
   "metadata": {},
   "outputs": [
    {
     "data": {
      "text/plain": [
       "array(['Low Fat', 'reg', 'Regular', 'LF', 'low fat'], dtype=object)"
      ]
     },
     "execution_count": 27,
     "metadata": {},
     "output_type": "execute_result"
    }
   ],
   "source": [
    "test_data['Item_Fat_Content'].unique()"
   ]
  },
  {
   "cell_type": "markdown",
   "id": "4e0fc60b",
   "metadata": {},
   "source": [
    "In both the datasets , there is 4 unique values in Item_Fat_Content column with two time repetations."
   ]
  },
  {
   "cell_type": "code",
   "execution_count": null,
   "id": "466095b1",
   "metadata": {},
   "outputs": [],
   "source": []
  },
  {
   "cell_type": "code",
   "execution_count": 28,
   "id": "f3ed5f16",
   "metadata": {},
   "outputs": [],
   "source": [
    "#comibining Item_Fat_Content to avoid repetations in both the datasets\n",
    "train_data['Item_Fat_Content'].replace(['low fat','LF','reg'],['Low Fat','Low Fat','Regular'],inplace = True)\n",
    "\n",
    "test_data['Item_Fat_Content'].replace(['low fat','LF','reg'],['Low Fat','Low Fat','Regular'],inplace = True)"
   ]
  },
  {
   "cell_type": "code",
   "execution_count": 29,
   "id": "3702ae8a",
   "metadata": {},
   "outputs": [],
   "source": [
    "#creating new columns\n",
    "train_data['num_years'] = train_data['Outlet_Establishment_Year'].apply(lambda x: 2013 - x) \n",
    "\n",
    "test_data['num_years'] = test_data['Outlet_Establishment_Year'].apply(lambda x: 2013 - x)"
   ]
  },
  {
   "cell_type": "code",
   "execution_count": null,
   "id": "dce9b576",
   "metadata": {},
   "outputs": [],
   "source": []
  },
  {
   "cell_type": "code",
   "execution_count": 30,
   "id": "513b2800",
   "metadata": {},
   "outputs": [
    {
     "data": {
      "text/plain": [
       "array(['Dairy', 'Soft Drinks', 'Meat', 'Fruits and Vegetables',\n",
       "       'Household', 'Baking Goods', 'Snack Foods', 'Frozen Foods',\n",
       "       'Breakfast', 'Health and Hygiene', 'Hard Drinks', 'Canned',\n",
       "       'Breads', 'Starchy Foods', 'Others', 'Seafood'], dtype=object)"
      ]
     },
     "execution_count": 30,
     "metadata": {},
     "output_type": "execute_result"
    }
   ],
   "source": [
    "train_data['Item_Type'].unique()"
   ]
  },
  {
   "cell_type": "markdown",
   "id": "14e33ea0",
   "metadata": {},
   "source": [
    "many unique values in Item_type column"
   ]
  },
  {
   "cell_type": "code",
   "execution_count": null,
   "id": "6b00334f",
   "metadata": {},
   "outputs": [],
   "source": []
  },
  {
   "cell_type": "markdown",
   "id": "5badf583",
   "metadata": {},
   "source": [
    "EDA\n",
    "\n",
    "FOR NUMERICAL COLUMNS"
   ]
  },
  {
   "cell_type": "code",
   "execution_count": 32,
   "id": "053be6fb",
   "metadata": {},
   "outputs": [
    {
     "data": {
      "text/plain": [
       "<AxesSubplot:xlabel='Item_Weight', ylabel='Density'>"
      ]
     },
     "execution_count": 32,
     "metadata": {},
     "output_type": "execute_result"
    },
    {
     "data": {
      "image/png": "[encoded data removed]",
      "text/plain": [
       "<Figure size 432x288 with 1 Axes>"
      ]
     },
     "metadata": {
      "needs_background": "light"
     },
     "output_type": "display_data"
    }
   ],
   "source": [
    "sns.distplot(train_data['Item_Weight'])"
   ]
  },
  {
   "cell_type": "code",
   "execution_count": 34,
   "id": "53344bdb",
   "metadata": {},
   "outputs": [
    {
     "data": {
      "text/plain": [
       "<AxesSubplot:xlabel='Item_Weight', ylabel='Density'>"
      ]
     },
     "execution_count": 34,
     "metadata": {},
     "output_type": "execute_result"
    },
    {
     "data": {
      "image/png": "[encoded data removed]",
      "text/plain": [
       "<Figure size 432x288 with 1 Axes>"
      ]
     },
     "metadata": {
      "needs_background": "light"
     },
     "output_type": "display_data"
    }
   ],
   "source": [
    "sns.distplot(test_data['Item_Weight'])"
   ]
  },
  {
   "cell_type": "markdown",
   "id": "644cfa53",
   "metadata": {},
   "source": [
    "Both the plot is looking same in both the datasets. the items weight is in range between 4kg to 23 kg approx."
   ]
  },
  {
   "cell_type": "code",
   "execution_count": null,
   "id": "1b7b28e6",
   "metadata": {},
   "outputs": [],
   "source": []
  },
  {
   "cell_type": "code",
   "execution_count": 35,
   "id": "84aec311",
   "metadata": {},
   "outputs": [
    {
     "data": {
      "text/plain": [
       "<AxesSubplot:xlabel='Item_Visibility', ylabel='Density'>"
      ]
     },
     "execution_count": 35,
     "metadata": {},
     "output_type": "execute_result"
    },
    {
     "data": {
      "image/png": "[encoded data removed]",
      "text/plain": [
       "<Figure size 432x288 with 1 Axes>"
      ]
     },
     "metadata": {
      "needs_background": "light"
     },
     "output_type": "display_data"
    }
   ],
   "source": [
    "sns.distplot(train_data['Item_Visibility'])"
   ]
  },
  {
   "cell_type": "code",
   "execution_count": 36,
   "id": "a3160c19",
   "metadata": {},
   "outputs": [
    {
     "data": {
      "text/plain": [
       "<AxesSubplot:xlabel='Item_Visibility', ylabel='Density'>"
      ]
     },
     "execution_count": 36,
     "metadata": {},
     "output_type": "execute_result"
    },
    {
     "data": {
      "image/png": "[encoded data removed]",
      "text/plain": [
       "<Figure size 432x288 with 1 Axes>"
      ]
     },
     "metadata": {
      "needs_background": "light"
     },
     "output_type": "display_data"
    }
   ],
   "source": [
    "sns.distplot(test_data['Item_Visibility'])"
   ]
  },
  {
   "cell_type": "markdown",
   "id": "4b9e26e0",
   "metadata": {},
   "source": [
    "skewness is present in the both the datasets."
   ]
  },
  {
   "cell_type": "code",
   "execution_count": 38,
   "id": "f4f83074",
   "metadata": {},
   "outputs": [],
   "source": [
    "#Removing skewness\n",
    "train_data['Item_Visibility']=np.log(1+train_data['Item_Visibility'])\n",
    "\n",
    "test_data['Item_Visibility']=np.log(1+test_data['Item_Visibility'])"
   ]
  },
  {
   "cell_type": "code",
   "execution_count": null,
   "id": "330f945d",
   "metadata": {},
   "outputs": [],
   "source": []
  },
  {
   "cell_type": "code",
   "execution_count": 40,
   "id": "888c666d",
   "metadata": {},
   "outputs": [
    {
     "data": {
      "text/plain": [
       "<AxesSubplot:xlabel='Item_MRP', ylabel='Density'>"
      ]
     },
     "execution_count": 40,
     "metadata": {},
     "output_type": "execute_result"
    },
    {
     "data": {
      "image/png": "[encoded data removed]",
      "text/plain": [
       "<Figure size 432x288 with 1 Axes>"
      ]
     },
     "metadata": {
      "needs_background": "light"
     },
     "output_type": "display_data"
    }
   ],
   "source": [
    "sns.distplot(train_data['Item_MRP'])\n"
   ]
  },
  {
   "cell_type": "code",
   "execution_count": 41,
   "id": "e2c1da42",
   "metadata": {},
   "outputs": [
    {
     "data": {
      "text/plain": [
       "<AxesSubplot:xlabel='Item_MRP', ylabel='Density'>"
      ]
     },
     "execution_count": 41,
     "metadata": {},
     "output_type": "execute_result"
    },
    {
     "data": {
      "image/png": "[encoded data removed]",
      "text/plain": [
       "<Figure size 432x288 with 1 Axes>"
      ]
     },
     "metadata": {
      "needs_background": "light"
     },
     "output_type": "display_data"
    }
   ],
   "source": [
    "sns.distplot(test_data['Item_MRP'])"
   ]
  },
  {
   "cell_type": "markdown",
   "id": "0842ceae",
   "metadata": {},
   "source": [
    "the price of item range in between 30 to 260 in both the datasets."
   ]
  },
  {
   "cell_type": "code",
   "execution_count": null,
   "id": "ff905639",
   "metadata": {},
   "outputs": [],
   "source": []
  },
  {
   "cell_type": "code",
   "execution_count": 42,
   "id": "54c1bed4",
   "metadata": {},
   "outputs": [
    {
     "data": {
      "text/plain": [
       "<AxesSubplot:xlabel='Item_Outlet_Sales', ylabel='Density'>"
      ]
     },
     "execution_count": 42,
     "metadata": {},
     "output_type": "execute_result"
    },
    {
     "data": {
      "image/png": "[encoded data removed]",
      "text/plain": [
       "<Figure size 432x288 with 1 Axes>"
      ]
     },
     "metadata": {
      "needs_background": "light"
     },
     "output_type": "display_data"
    }
   ],
   "source": [
    "sns.distplot(train_data['Item_Outlet_Sales'])"
   ]
  },
  {
   "cell_type": "markdown",
   "id": "14d2c07b",
   "metadata": {},
   "source": [
    "The sales range in between 0 to 14000 , and skewness is present.\n",
    "\n"
   ]
  },
  {
   "cell_type": "code",
   "execution_count": null,
   "id": "831ea4a2",
   "metadata": {},
   "outputs": [],
   "source": []
  },
  {
   "cell_type": "markdown",
   "id": "e9eccf81",
   "metadata": {},
   "source": [
    "FOR CATEGORICAL COLUMNS"
   ]
  },
  {
   "cell_type": "code",
   "execution_count": 44,
   "id": "d17c2696",
   "metadata": {},
   "outputs": [
    {
     "data": {
      "text/plain": [
       "<AxesSubplot:xlabel='Item_Fat_Content', ylabel='count'>"
      ]
     },
     "execution_count": 44,
     "metadata": {},
     "output_type": "execute_result"
    },
    {
     "data": {
      "image/png": "[encoded data removed]",
      "text/plain": [
       "<Figure size 432x288 with 1 Axes>"
      ]
     },
     "metadata": {
      "needs_background": "light"
     },
     "output_type": "display_data"
    }
   ],
   "source": [
    "sns.countplot(train_data['Item_Fat_Content'])"
   ]
  },
  {
   "cell_type": "code",
   "execution_count": 45,
   "id": "e144a5de",
   "metadata": {},
   "outputs": [
    {
     "data": {
      "text/plain": [
       "<AxesSubplot:xlabel='Item_Fat_Content', ylabel='count'>"
      ]
     },
     "execution_count": 45,
     "metadata": {},
     "output_type": "execute_result"
    },
    {
     "data": {
      "image/png": "[encoded data removed]",
      "text/plain": [
       "<Figure size 432x288 with 1 Axes>"
      ]
     },
     "metadata": {
      "needs_background": "light"
     },
     "output_type": "display_data"
    }
   ],
   "source": [
    "sns.countplot(test_data['Item_Fat_Content'])"
   ]
  },
  {
   "cell_type": "markdown",
   "id": "8a0ef300",
   "metadata": {},
   "source": [
    "Blue color is showing Low Fat item with approx 5500 and Yellow color is showing Regular item with approx 3000 in train_data.\n",
    "\n",
    "Blue color is showing Low Fat item with approx 3700 and Yellow color is showing Regular item with approx 2000 in test_data."
   ]
  },
  {
   "cell_type": "code",
   "execution_count": null,
   "id": "e9741188",
   "metadata": {},
   "outputs": [],
   "source": []
  },
  {
   "cell_type": "code",
   "execution_count": 46,
   "id": "3767c51b",
   "metadata": {},
   "outputs": [
    {
     "data": {
      "text/plain": [
       "<AxesSubplot:xlabel='Outlet_Establishment_Year', ylabel='count'>"
      ]
     },
     "execution_count": 46,
     "metadata": {},
     "output_type": "execute_result"
    },
    {
     "data": {
      "image/png": "[encoded data removed]",
      "text/plain": [
       "<Figure size 432x288 with 1 Axes>"
      ]
     },
     "metadata": {
      "needs_background": "light"
     },
     "output_type": "display_data"
    }
   ],
   "source": [
    "sns.countplot(train_data['Outlet_Establishment_Year'])"
   ]
  },
  {
   "cell_type": "code",
   "execution_count": 47,
   "id": "ea6303bf",
   "metadata": {},
   "outputs": [
    {
     "data": {
      "text/plain": [
       "<AxesSubplot:xlabel='Outlet_Establishment_Year', ylabel='count'>"
      ]
     },
     "execution_count": 47,
     "metadata": {},
     "output_type": "execute_result"
    },
    {
     "data": {
      "image/png": "[encoded data removed]",
      "text/plain": [
       "<Figure size 432x288 with 1 Axes>"
      ]
     },
     "metadata": {
      "needs_background": "light"
     },
     "output_type": "display_data"
    }
   ],
   "source": [
    "sns.countplot(test_data['Outlet_Establishment_Year'])"
   ]
  },
  {
   "cell_type": "markdown",
   "id": "4358abb4",
   "metadata": {},
   "source": [
    "only one oulets have more number of count showing in blue color established in 1985 , other than that outlets are in equal distribution in both the datasets."
   ]
  },
  {
   "cell_type": "code",
   "execution_count": null,
   "id": "71053b16",
   "metadata": {},
   "outputs": [],
   "source": []
  },
  {
   "cell_type": "code",
   "execution_count": 48,
   "id": "509dce19",
   "metadata": {},
   "outputs": [
    {
     "data": {
      "text/plain": [
       "<AxesSubplot:xlabel='Outlet_Size', ylabel='count'>"
      ]
     },
     "execution_count": 48,
     "metadata": {},
     "output_type": "execute_result"
    },
    {
     "data": {
      "image/png": "[encoded data removed]",
      "text/plain": [
       "<Figure size 432x288 with 1 Axes>"
      ]
     },
     "metadata": {
      "needs_background": "light"
     },
     "output_type": "display_data"
    }
   ],
   "source": [
    "sns.countplot(train_data['Outlet_Size'])"
   ]
  },
  {
   "cell_type": "code",
   "execution_count": 49,
   "id": "38ef4a39",
   "metadata": {},
   "outputs": [
    {
     "data": {
      "text/plain": [
       "<AxesSubplot:xlabel='Outlet_Size', ylabel='count'>"
      ]
     },
     "execution_count": 49,
     "metadata": {},
     "output_type": "execute_result"
    },
    {
     "data": {
      "image/png": "[encoded data removed]",
      "text/plain": [
       "<Figure size 432x288 with 1 Axes>"
      ]
     },
     "metadata": {
      "needs_background": "light"
     },
     "output_type": "display_data"
    }
   ],
   "source": [
    "sns.countplot(test_data['Outlet_Size'])"
   ]
  },
  {
   "cell_type": "markdown",
   "id": "329ab2e3",
   "metadata": {},
   "source": [
    "(in train_data , most of the outlets are medium showing in blue color.\n",
    "\n",
    "Medium outlets are ranging less than 3000.\n",
    "\n",
    "High outlets are ranging approx 2500 showing in green color.)\n",
    "\n",
    "(in test_data , most of the outlets are medium showing in blue color.\n",
    "\n",
    "Medium outlets are ranging less than 2000 showing in blue color.\n",
    "\n",
    "High outlets are ranging approx 700 showing in green color.)"
   ]
  },
  {
   "cell_type": "code",
   "execution_count": null,
   "id": "3c199656",
   "metadata": {},
   "outputs": [],
   "source": []
  },
  {
   "cell_type": "code",
   "execution_count": 50,
   "id": "8e34189a",
   "metadata": {},
   "outputs": [
    {
     "data": {
      "text/plain": [
       "<AxesSubplot:xlabel='Outlet_Location_Type', ylabel='count'>"
      ]
     },
     "execution_count": 50,
     "metadata": {},
     "output_type": "execute_result"
    },
    {
     "data": {
      "image/png": "[encoded data removed]",
      "text/plain": [
       "<Figure size 432x288 with 1 Axes>"
      ]
     },
     "metadata": {
      "needs_background": "light"
     },
     "output_type": "display_data"
    }
   ],
   "source": [
    "sns.countplot(train_data['Outlet_Location_Type'])"
   ]
  },
  {
   "cell_type": "code",
   "execution_count": 51,
   "id": "9e4259a6",
   "metadata": {},
   "outputs": [
    {
     "data": {
      "text/plain": [
       "<AxesSubplot:xlabel='Outlet_Location_Type', ylabel='count'>"
      ]
     },
     "execution_count": 51,
     "metadata": {},
     "output_type": "execute_result"
    },
    {
     "data": {
      "image/png": "[encoded data removed]",
      "text/plain": [
       "<Figure size 432x288 with 1 Axes>"
      ]
     },
     "metadata": {
      "needs_background": "light"
     },
     "output_type": "display_data"
    }
   ],
   "source": [
    "sns.countplot(test_data['Outlet_Location_Type'])"
   ]
  },
  {
   "cell_type": "markdown",
   "id": "10678b24",
   "metadata": {},
   "source": [
    "There is not much difference in the locations of the outlets in both the datasets."
   ]
  },
  {
   "cell_type": "code",
   "execution_count": null,
   "id": "8c873f32",
   "metadata": {},
   "outputs": [],
   "source": []
  },
  {
   "cell_type": "code",
   "execution_count": 52,
   "id": "7d7bf16d",
   "metadata": {},
   "outputs": [
    {
     "data": {
      "text/plain": [
       "<AxesSubplot:xlabel='Outlet_Type', ylabel='count'>"
      ]
     },
     "execution_count": 52,
     "metadata": {},
     "output_type": "execute_result"
    },
    {
     "data": {
      "image/png": "[encoded data removed]",
      "text/plain": [
       "<Figure size 432x288 with 1 Axes>"
      ]
     },
     "metadata": {
      "needs_background": "light"
     },
     "output_type": "display_data"
    }
   ],
   "source": [
    "sns.countplot(train_data['Outlet_Type'])"
   ]
  },
  {
   "cell_type": "code",
   "execution_count": 53,
   "id": "a5ee611e",
   "metadata": {},
   "outputs": [
    {
     "data": {
      "text/plain": [
       "<AxesSubplot:xlabel='Outlet_Type', ylabel='count'>"
      ]
     },
     "execution_count": 53,
     "metadata": {},
     "output_type": "execute_result"
    },
    {
     "data": {
      "image/png": "[encoded data removed]",
      "text/plain": [
       "<Figure size 432x288 with 1 Axes>"
      ]
     },
     "metadata": {
      "needs_background": "light"
     },
     "output_type": "display_data"
    }
   ],
   "source": [
    "sns.countplot(test_data['Outlet_Type'])"
   ]
  },
  {
   "cell_type": "markdown",
   "id": "3d26e3d2",
   "metadata": {},
   "source": [
    "we can see most of the outlets are supermarket type in both the datasets."
   ]
  },
  {
   "cell_type": "code",
   "execution_count": null,
   "id": "393c3898",
   "metadata": {},
   "outputs": [],
   "source": []
  },
  {
   "cell_type": "markdown",
   "id": "f09180ca",
   "metadata": {},
   "source": [
    "CORRELATION MATRIX"
   ]
  },
  {
   "cell_type": "code",
   "execution_count": 55,
   "id": "1b578559",
   "metadata": {},
   "outputs": [
    {
     "data": {
      "text/html": [
       "<div>\n",
       "<style scoped>\n",
       "    .dataframe tbody tr th:only-of-type {\n",
       "        vertical-align: middle;\n",
       "    }\n",
       "\n",
       "    .dataframe tbody tr th {\n",
       "        vertical-align: top;\n",
       "    }\n",
       "\n",
       "    .dataframe thead th {\n",
       "        text-align: right;\n",
       "    }\n",
       "</style>\n",
       "<table border=\"1\" class=\"dataframe\">\n",
       "  <thead>\n",
       "    <tr style=\"text-align: right;\">\n",
       "      <th></th>\n",
       "      <th>Item_Weight</th>\n",
       "      <th>Item_Visibility</th>\n",
       "      <th>Item_MRP</th>\n",
       "      <th>Outlet_Establishment_Year</th>\n",
       "      <th>Item_Outlet_Sales</th>\n",
       "      <th>num_years</th>\n",
       "    </tr>\n",
       "  </thead>\n",
       "  <tbody>\n",
       "    <tr>\n",
       "      <th>Item_Weight</th>\n",
       "      <td>1.000000</td>\n",
       "      <td>-0.013955</td>\n",
       "      <td>0.027141</td>\n",
       "      <td>-0.011588</td>\n",
       "      <td>0.014123</td>\n",
       "      <td>0.011588</td>\n",
       "    </tr>\n",
       "    <tr>\n",
       "      <th>Item_Visibility</th>\n",
       "      <td>-0.013955</td>\n",
       "      <td>1.000000</td>\n",
       "      <td>-0.000701</td>\n",
       "      <td>-0.072349</td>\n",
       "      <td>-0.125600</td>\n",
       "      <td>0.072349</td>\n",
       "    </tr>\n",
       "    <tr>\n",
       "      <th>Item_MRP</th>\n",
       "      <td>0.027141</td>\n",
       "      <td>-0.000701</td>\n",
       "      <td>1.000000</td>\n",
       "      <td>0.005020</td>\n",
       "      <td>0.567574</td>\n",
       "      <td>-0.005020</td>\n",
       "    </tr>\n",
       "    <tr>\n",
       "      <th>Outlet_Establishment_Year</th>\n",
       "      <td>-0.011588</td>\n",
       "      <td>-0.072349</td>\n",
       "      <td>0.005020</td>\n",
       "      <td>1.000000</td>\n",
       "      <td>-0.049135</td>\n",
       "      <td>-1.000000</td>\n",
       "    </tr>\n",
       "    <tr>\n",
       "      <th>Item_Outlet_Sales</th>\n",
       "      <td>0.014123</td>\n",
       "      <td>-0.125600</td>\n",
       "      <td>0.567574</td>\n",
       "      <td>-0.049135</td>\n",
       "      <td>1.000000</td>\n",
       "      <td>0.049135</td>\n",
       "    </tr>\n",
       "    <tr>\n",
       "      <th>num_years</th>\n",
       "      <td>0.011588</td>\n",
       "      <td>0.072349</td>\n",
       "      <td>-0.005020</td>\n",
       "      <td>-1.000000</td>\n",
       "      <td>0.049135</td>\n",
       "      <td>1.000000</td>\n",
       "    </tr>\n",
       "  </tbody>\n",
       "</table>\n",
       "</div>"
      ],
      "text/plain": [
       "                           Item_Weight  Item_Visibility  Item_MRP  \\\n",
       "Item_Weight                   1.000000        -0.013955  0.027141   \n",
       "Item_Visibility              -0.013955         1.000000 -0.000701   \n",
       "Item_MRP                      0.027141        -0.000701  1.000000   \n",
       "Outlet_Establishment_Year    -0.011588        -0.072349  0.005020   \n",
       "Item_Outlet_Sales             0.014123        -0.125600  0.567574   \n",
       "num_years                     0.011588         0.072349 -0.005020   \n",
       "\n",
       "                           Outlet_Establishment_Year  Item_Outlet_Sales  \\\n",
       "Item_Weight                                -0.011588           0.014123   \n",
       "Item_Visibility                            -0.072349          -0.125600   \n",
       "Item_MRP                                    0.005020           0.567574   \n",
       "Outlet_Establishment_Year                   1.000000          -0.049135   \n",
       "Item_Outlet_Sales                          -0.049135           1.000000   \n",
       "num_years                                  -1.000000           0.049135   \n",
       "\n",
       "                           num_years  \n",
       "Item_Weight                 0.011588  \n",
       "Item_Visibility             0.072349  \n",
       "Item_MRP                   -0.005020  \n",
       "Outlet_Establishment_Year  -1.000000  \n",
       "Item_Outlet_Sales           0.049135  \n",
       "num_years                   1.000000  "
      ]
     },
     "execution_count": 55,
     "metadata": {},
     "output_type": "execute_result"
    }
   ],
   "source": [
    "#train data\n",
    "cor=train_data.corr()\n",
    "cor\n"
   ]
  },
  {
   "cell_type": "code",
   "execution_count": 58,
   "id": "b0aaedce",
   "metadata": {},
   "outputs": [
    {
     "data": {
      "text/plain": [
       "(array([0.5, 1.5, 2.5, 3.5, 4.5, 5.5]),\n",
       " [Text(0, 0.5, 'Item_Weight'),\n",
       "  Text(0, 1.5, 'Item_Visibility'),\n",
       "  Text(0, 2.5, 'Item_MRP'),\n",
       "  Text(0, 3.5, 'Outlet_Establishment_Year'),\n",
       "  Text(0, 4.5, 'Item_Outlet_Sales'),\n",
       "  Text(0, 5.5, 'num_years')])"
      ]
     },
     "execution_count": 58,
     "metadata": {},
     "output_type": "execute_result"
    },
    {
     "data": {
      "image/png": "[encoded data removed]",
      "text/plain": [
       "<Figure size 1008x864 with 2 Axes>"
      ]
     },
     "metadata": {
      "needs_background": "light"
     },
     "output_type": "display_data"
    }
   ],
   "source": [
    "plt.figure(figsize=(14,12))\n",
    "sns.heatmap(train_data.corr(),linewidths=.1,cmap=\"BrBG\", annot=True, annot_kws={\"size\": 7})\n",
    "plt.yticks(rotation=0)"
   ]
  },
  {
   "cell_type": "markdown",
   "id": "308053d8",
   "metadata": {},
   "source": [
    "Item_MRP is possitively correlated  with Item_Outlet_sales.\n",
    "\n",
    "Item_MRP is negatively correlated with Item_Visibility."
   ]
  },
  {
   "cell_type": "code",
   "execution_count": null,
   "id": "a5b5f167",
   "metadata": {},
   "outputs": [],
   "source": []
  },
  {
   "cell_type": "code",
   "execution_count": 59,
   "id": "483357d7",
   "metadata": {},
   "outputs": [
    {
     "data": {
      "text/html": [
       "<div>\n",
       "<style scoped>\n",
       "    .dataframe tbody tr th:only-of-type {\n",
       "        vertical-align: middle;\n",
       "    }\n",
       "\n",
       "    .dataframe tbody tr th {\n",
       "        vertical-align: top;\n",
       "    }\n",
       "\n",
       "    .dataframe thead th {\n",
       "        text-align: right;\n",
       "    }\n",
       "</style>\n",
       "<table border=\"1\" class=\"dataframe\">\n",
       "  <thead>\n",
       "    <tr style=\"text-align: right;\">\n",
       "      <th></th>\n",
       "      <th>Item_Weight</th>\n",
       "      <th>Item_Visibility</th>\n",
       "      <th>Item_MRP</th>\n",
       "      <th>Outlet_Establishment_Year</th>\n",
       "      <th>num_years</th>\n",
       "    </tr>\n",
       "  </thead>\n",
       "  <tbody>\n",
       "    <tr>\n",
       "      <th>Item_Weight</th>\n",
       "      <td>1.000000</td>\n",
       "      <td>-0.019427</td>\n",
       "      <td>0.049809</td>\n",
       "      <td>0.018918</td>\n",
       "      <td>-0.018918</td>\n",
       "    </tr>\n",
       "    <tr>\n",
       "      <th>Item_Visibility</th>\n",
       "      <td>-0.019427</td>\n",
       "      <td>1.000000</td>\n",
       "      <td>-0.013148</td>\n",
       "      <td>-0.095084</td>\n",
       "      <td>0.095084</td>\n",
       "    </tr>\n",
       "    <tr>\n",
       "      <th>Item_MRP</th>\n",
       "      <td>0.049809</td>\n",
       "      <td>-0.013148</td>\n",
       "      <td>1.000000</td>\n",
       "      <td>-0.007233</td>\n",
       "      <td>0.007233</td>\n",
       "    </tr>\n",
       "    <tr>\n",
       "      <th>Outlet_Establishment_Year</th>\n",
       "      <td>0.018918</td>\n",
       "      <td>-0.095084</td>\n",
       "      <td>-0.007233</td>\n",
       "      <td>1.000000</td>\n",
       "      <td>-1.000000</td>\n",
       "    </tr>\n",
       "    <tr>\n",
       "      <th>num_years</th>\n",
       "      <td>-0.018918</td>\n",
       "      <td>0.095084</td>\n",
       "      <td>0.007233</td>\n",
       "      <td>-1.000000</td>\n",
       "      <td>1.000000</td>\n",
       "    </tr>\n",
       "  </tbody>\n",
       "</table>\n",
       "</div>"
      ],
      "text/plain": [
       "                           Item_Weight  Item_Visibility  Item_MRP  \\\n",
       "Item_Weight                   1.000000        -0.019427  0.049809   \n",
       "Item_Visibility              -0.019427         1.000000 -0.013148   \n",
       "Item_MRP                      0.049809        -0.013148  1.000000   \n",
       "Outlet_Establishment_Year     0.018918        -0.095084 -0.007233   \n",
       "num_years                    -0.018918         0.095084  0.007233   \n",
       "\n",
       "                           Outlet_Establishment_Year  num_years  \n",
       "Item_Weight                                 0.018918  -0.018918  \n",
       "Item_Visibility                            -0.095084   0.095084  \n",
       "Item_MRP                                   -0.007233   0.007233  \n",
       "Outlet_Establishment_Year                   1.000000  -1.000000  \n",
       "num_years                                  -1.000000   1.000000  "
      ]
     },
     "execution_count": 59,
     "metadata": {},
     "output_type": "execute_result"
    }
   ],
   "source": [
    "##test data\n",
    "corr=test_data.corr()\n",
    "corr\n"
   ]
  },
  {
   "cell_type": "code",
   "execution_count": 60,
   "id": "fa76d48d",
   "metadata": {},
   "outputs": [
    {
     "data": {
      "text/plain": [
       "(array([0.5, 1.5, 2.5, 3.5, 4.5]),\n",
       " [Text(0, 0.5, 'Item_Weight'),\n",
       "  Text(0, 1.5, 'Item_Visibility'),\n",
       "  Text(0, 2.5, 'Item_MRP'),\n",
       "  Text(0, 3.5, 'Outlet_Establishment_Year'),\n",
       "  Text(0, 4.5, 'num_years')])"
      ]
     },
     "execution_count": 60,
     "metadata": {},
     "output_type": "execute_result"
    },
    {
     "data": {
      "image/png": "[encoded data removed]",
      "text/plain": [
       "<Figure size 1008x864 with 2 Axes>"
      ]
     },
     "metadata": {
      "needs_background": "light"
     },
     "output_type": "display_data"
    }
   ],
   "source": [
    "plt.figure(figsize=(14,12))\n",
    "sns.heatmap(test_data.corr(),linewidths=.1,cmap=\"BrBG\", annot=True, annot_kws={\"size\": 7})\n",
    "plt.yticks(rotation=0)"
   ]
  },
  {
   "cell_type": "markdown",
   "id": "fb84375c",
   "metadata": {},
   "source": [
    "correlation  matrix is showing some relations between the columns."
   ]
  },
  {
   "cell_type": "code",
   "execution_count": null,
   "id": "2f6fce7c",
   "metadata": {},
   "outputs": [],
   "source": []
  },
  {
   "cell_type": "markdown",
   "id": "addabfcb",
   "metadata": {},
   "source": [
    "FILLING NULL VALUES"
   ]
  },
  {
   "cell_type": "code",
   "execution_count": 61,
   "id": "b8371e09",
   "metadata": {},
   "outputs": [],
   "source": [
    "full_data=[train_data,test_data]"
   ]
  },
  {
   "cell_type": "code",
   "execution_count": 62,
   "id": "e5f5b02a",
   "metadata": {},
   "outputs": [],
   "source": [
    "for data in full_data:\n",
    "    data['Item_Weight'].fillna(data['Item_Weight'].mean(),inplace = True)\n",
    "    data['Outlet_Size'].fillna('Medium',inplace = True)"
   ]
  },
  {
   "cell_type": "code",
   "execution_count": 63,
   "id": "905ff5d0",
   "metadata": {},
   "outputs": [],
   "source": [
    "col = ['Item_Fat_Content', 'Item_Type', 'Outlet_Size', 'Outlet_Location_Type', 'Outlet_Type']"
   ]
  },
  {
   "cell_type": "code",
   "execution_count": null,
   "id": "75e4b67f",
   "metadata": {},
   "outputs": [],
   "source": []
  },
  {
   "cell_type": "markdown",
   "id": "2b9b95ab",
   "metadata": {},
   "source": [
    "HANDLING CATEGORICAL VARIABLES"
   ]
  },
  {
   "cell_type": "code",
   "execution_count": 64,
   "id": "9eb4622f",
   "metadata": {},
   "outputs": [],
   "source": [
    "train_datar = pd.get_dummies(train_data, columns = col, drop_first = True)\n",
    "test_datar = pd.get_dummies(test_data, columns = col,drop_first = True)"
   ]
  },
  {
   "cell_type": "code",
   "execution_count": 65,
   "id": "19aeacd0",
   "metadata": {},
   "outputs": [],
   "source": [
    "feat_cols = ['Item_Weight', 'Item_Visibility', 'Item_MRP', 'num_years',\n",
    "       'Item_Fat_Content_Regular', 'Item_Type_Breads', 'Item_Type_Breakfast',\n",
    "       'Item_Type_Canned', 'Item_Type_Dairy', 'Item_Type_Frozen Foods',\n",
    "       'Item_Type_Fruits and Vegetables', 'Item_Type_Hard Drinks',\n",
    "       'Item_Type_Health and Hygiene', 'Item_Type_Household', 'Item_Type_Meat',\n",
    "       'Item_Type_Others', 'Item_Type_Seafood', 'Item_Type_Snack Foods',\n",
    "       'Item_Type_Soft Drinks', 'Item_Type_Starchy Foods',\n",
    "       'Outlet_Size_Medium', 'Outlet_Size_Small',\n",
    "       'Outlet_Location_Type_Tier 2', 'Outlet_Location_Type_Tier 3',\n",
    "       'Outlet_Type_Supermarket Type1', 'Outlet_Type_Supermarket Type2',\n",
    "       'Outlet_Type_Supermarket Type3']"
   ]
  },
  {
   "cell_type": "code",
   "execution_count": null,
   "id": "1674c92f",
   "metadata": {},
   "outputs": [],
   "source": []
  },
  {
   "cell_type": "markdown",
   "id": "13c91a42",
   "metadata": {},
   "source": [
    "SPLITTING THE DATASETS"
   ]
  },
  {
   "cell_type": "code",
   "execution_count": 72,
   "id": "78ab6e1a",
   "metadata": {},
   "outputs": [],
   "source": [
    "x = train_datar[feat_cols]\n",
    "y = train_datar['Item_Outlet_Sales']"
   ]
  },
  {
   "cell_type": "code",
   "execution_count": null,
   "id": "b3371435",
   "metadata": {},
   "outputs": [],
   "source": []
  },
  {
   "cell_type": "markdown",
   "id": "7309f469",
   "metadata": {},
   "source": [
    "TRAIN TESTN SPLIT"
   ]
  },
  {
   "cell_type": "code",
   "execution_count": 73,
   "id": "ac29ba34",
   "metadata": {},
   "outputs": [],
   "source": [
    "from sklearn.model_selection import train_test_split\n",
    "x_train, x_test, y_train, y_test = train_test_split(x, y, test_size = 0.2,random_state = 0)"
   ]
  },
  {
   "cell_type": "code",
   "execution_count": null,
   "id": "1912e5fb",
   "metadata": {},
   "outputs": [],
   "source": []
  },
  {
   "cell_type": "markdown",
   "id": "62ad8e24",
   "metadata": {},
   "source": [
    "BUILDING MODEL"
   ]
  },
  {
   "cell_type": "code",
   "execution_count": 69,
   "id": "c619e1c8",
   "metadata": {},
   "outputs": [],
   "source": [
    "from sklearn.model_selection import cross_val_score\n",
    "from sklearn.metrics import mean_squared_error,mean_absolute_error\n",
    "from sklearn.metrics import r2_score\n",
    "from sklearn.linear_model import LinearRegression, Ridge, Lasso ,ElasticNet"
   ]
  },
  {
   "cell_type": "code",
   "execution_count": 74,
   "id": "bc951a96",
   "metadata": {},
   "outputs": [
    {
     "name": "stdout",
     "output_type": "stream",
     "text": [
      "r2 score 0.5620662805850926\n",
      "error\n",
      "mean absolute error 852.4482045517628\n",
      "mean squared error 1281770.446388599\n",
      "root mean squared error 1132.1530136817191\n"
     ]
    }
   ],
   "source": [
    "\n",
    "\n",
    "\n",
    "#for Linear Regression\n",
    "\n",
    "lr=LinearRegression()\n",
    "lr.fit(x_train,y_train)\n",
    "pred_y=lr.predict(x_test)\n",
    "print('r2 score',r2_score(y_test,pred_y))\n",
    "\n",
    "print('error')\n",
    "print('mean absolute error', mean_absolute_error(y_test,pred_y))\n",
    "print('mean squared error', mean_squared_error(y_test,pred_y))\n",
    "\n",
    "print('root mean squared error', np.sqrt(mean_squared_error(y_test,pred_y)))"
   ]
  },
  {
   "cell_type": "code",
   "execution_count": 75,
   "id": "d461ae33",
   "metadata": {},
   "outputs": [
    {
     "data": {
      "text/plain": [
       "array([-1.54701750e+00, -4.07745311e+02,  1.55483807e+01, -4.41284710e+01,\n",
       "        3.35756041e+01, -6.05211760e+01, -6.97404187e-01,  1.71647671e+01,\n",
       "       -1.17634912e+02, -6.78001391e+01, -1.11740205e+01, -1.39205393e+01,\n",
       "       -4.94714218e+01, -6.58978242e+01, -2.06293917e+01, -4.05347952e+01,\n",
       "        1.80291280e+02, -2.61150233e+01, -7.59627607e+01,  7.03868143e+01,\n",
       "       -9.63572103e+02, -8.96622696e+02, -2.48549917e+02, -4.84185153e+02,\n",
       "        1.41047213e+03,  1.11224952e+03,  3.89702394e+03])"
      ]
     },
     "execution_count": 75,
     "metadata": {},
     "output_type": "execute_result"
    }
   ],
   "source": [
    "lr.coef_"
   ]
  },
  {
   "cell_type": "markdown",
   "id": "aa26156e",
   "metadata": {},
   "source": [
    "coefficient of the Linear Regression"
   ]
  },
  {
   "cell_type": "code",
   "execution_count": null,
   "id": "66095cb9",
   "metadata": {},
   "outputs": [],
   "source": []
  },
  {
   "cell_type": "code",
   "execution_count": 76,
   "id": "b1f1f492",
   "metadata": {},
   "outputs": [
    {
     "name": "stdout",
     "output_type": "stream",
     "text": [
      "r2 score 0.5623034303508442\n",
      "error\n",
      "mean absolute error 851.0655283773598\n",
      "mean squared error 1281076.3423549691\n",
      "root mean squared error 1131.846430552736\n"
     ]
    }
   ],
   "source": [
    "#For Lasso\n",
    "from sklearn.linear_model import Lasso\n",
    "\n",
    "ls=Lasso()\n",
    "\n",
    "ls.fit(x_train,y_train)\n",
    "pred_y=ls.predict(x_test)\n",
    "print('r2 score',r2_score(y_test,pred_y))\n",
    "\n",
    "print('error')\n",
    "print('mean absolute error', mean_absolute_error(y_test,pred_y))\n",
    "print('mean squared error', mean_squared_error(y_test,pred_y))\n",
    "\n",
    "print('root mean squared error', np.sqrt(mean_squared_error(y_test,pred_y)))\n"
   ]
  },
  {
   "cell_type": "code",
   "execution_count": 77,
   "id": "6ccd32c5",
   "metadata": {},
   "outputs": [
    {
     "data": {
      "text/plain": [
       "array([-1.39168436e+00, -0.00000000e+00,  1.55428868e+01, -1.23970678e+01,\n",
       "        3.53617472e+01, -2.29738769e+00,  0.00000000e+00,  2.65000829e+01,\n",
       "       -8.15619697e+01, -3.28629946e+01,  4.32982118e+00,  0.00000000e+00,\n",
       "       -4.93757191e+00, -2.95030145e+01,  0.00000000e+00, -0.00000000e+00,\n",
       "        6.15493758e+01, -0.00000000e+00, -2.96762591e+01,  3.90883456e+01,\n",
       "       -1.03545235e+02, -5.70703244e+01, -4.64258411e+01, -0.00000000e+00,\n",
       "        1.84974795e+03,  1.39919113e+03,  3.42143889e+03])"
      ]
     },
     "execution_count": 77,
     "metadata": {},
     "output_type": "execute_result"
    }
   ],
   "source": [
    "ls.coef_"
   ]
  },
  {
   "cell_type": "markdown",
   "id": "377f45bb",
   "metadata": {},
   "source": [
    "coefficient of the Lasso Regression"
   ]
  },
  {
   "cell_type": "code",
   "execution_count": null,
   "id": "d1ce6612",
   "metadata": {},
   "outputs": [],
   "source": []
  },
  {
   "cell_type": "code",
   "execution_count": 78,
   "id": "b051a617",
   "metadata": {},
   "outputs": [
    {
     "name": "stdout",
     "output_type": "stream",
     "text": [
      "r2 score 0.5620560343847554\n",
      "error\n",
      "mean absolute error 852.1876367965333\n",
      "mean squared error 1281800.4355769116\n",
      "root mean squared error 1132.1662579219146\n"
     ]
    }
   ],
   "source": [
    "# for Ridge\n",
    "from sklearn.linear_model import Ridge\n",
    "\n",
    "#For Ridge\n",
    "\n",
    "rd=Ridge()\n",
    "\n",
    "rd.fit(x_train,y_train)\n",
    "pred_y=rd.predict(x_test)\n",
    "print('r2 score',r2_score(y_test,pred_y))\n",
    "\n",
    "print('error')\n",
    "print('mean absolute error', mean_absolute_error(y_test,pred_y))\n",
    "print('mean squared error', mean_squared_error(y_test,pred_y))\n",
    "\n",
    "print('root mean squared error', np.sqrt(mean_squared_error(y_test,pred_y)))\n",
    "\n"
   ]
  },
  {
   "cell_type": "code",
   "execution_count": 79,
   "id": "079eb78b",
   "metadata": {},
   "outputs": [
    {
     "data": {
      "text/plain": [
       "array([-1.53701065e+00, -3.94765772e+02,  1.55475604e+01, -3.80385694e+01,\n",
       "        3.36693638e+01, -5.97516066e+01, -4.59708054e-01,  1.76942153e+01,\n",
       "       -1.16712662e+02, -6.68692913e+01, -1.08125203e+01, -1.41468356e+01,\n",
       "       -4.87140753e+01, -6.50147894e+01, -1.98185431e+01, -4.02190575e+01,\n",
       "        1.76596815e+02, -2.53136465e+01, -7.50165985e+01,  7.10660754e+01,\n",
       "       -8.01259134e+02, -7.39975614e+02, -2.10647253e+02, -3.93612240e+02,\n",
       "        1.48819025e+03,  1.16218093e+03,  3.79723806e+03])"
      ]
     },
     "execution_count": 79,
     "metadata": {},
     "output_type": "execute_result"
    }
   ],
   "source": [
    "rd.coef_"
   ]
  },
  {
   "cell_type": "markdown",
   "id": "1964b0f2",
   "metadata": {},
   "source": [
    "coefficient of the Ridge Regression"
   ]
  },
  {
   "cell_type": "code",
   "execution_count": null,
   "id": "5592fc6e",
   "metadata": {},
   "outputs": [],
   "source": []
  },
  {
   "cell_type": "code",
   "execution_count": 80,
   "id": "57c07c98",
   "metadata": {},
   "outputs": [
    {
     "name": "stdout",
     "output_type": "stream",
     "text": [
      "r2 score 0.36569735033817197\n",
      "error\n",
      "mean absolute error 1020.9658499204712\n",
      "mean squared error 1856514.706126638\n",
      "root mean squared error 1362.539799832151\n"
     ]
    }
   ],
   "source": [
    "#For ElasticNet\n",
    "from sklearn.linear_model import ElasticNet\n",
    "\n",
    "\n",
    "en=ElasticNet()\n",
    "\n",
    "en.fit(x_train,y_train)\n",
    "pred_y=en.predict(x_test)\n",
    "print('r2 score',r2_score(y_test,pred_y))\n",
    "\n",
    "print('error')\n",
    "print('mean absolute error', mean_absolute_error(y_test,pred_y))\n",
    "print('mean squared error', mean_squared_error(y_test,pred_y))\n",
    "\n",
    "print('root mean squared error', np.sqrt(mean_squared_error(y_test,pred_y)))\n"
   ]
  },
  {
   "cell_type": "code",
   "execution_count": 81,
   "id": "d0cfbf79",
   "metadata": {},
   "outputs": [
    {
     "data": {
      "text/plain": [
       "array([-1.83675734e+00, -1.72318667e+01,  1.55607012e+01,  1.01891817e+01,\n",
       "        9.24908875e+00, -0.00000000e+00, -1.26768137e+00,  1.15974699e+01,\n",
       "       -1.13328374e+01, -4.49831862e+00,  5.07484683e+00,  4.57929581e-01,\n",
       "       -1.10603331e-01, -5.24977867e+00, -6.59990423e-01, -3.03280009e+00,\n",
       "        1.09587253e+00,  2.03177112e+00, -1.57452918e+00,  3.66788695e+00,\n",
       "        9.34575346e+01, -9.06789789e+01,  9.00565186e+01,  3.94664991e+01,\n",
       "        1.65692571e+02, -4.37995343e-01,  2.62793366e+02])"
      ]
     },
     "execution_count": 81,
     "metadata": {},
     "output_type": "execute_result"
    }
   ],
   "source": [
    "en.coef_"
   ]
  },
  {
   "cell_type": "markdown",
   "id": "55f36218",
   "metadata": {},
   "source": [
    "coefficient of ElasticNet regression"
   ]
  },
  {
   "cell_type": "code",
   "execution_count": null,
   "id": "74d702bc",
   "metadata": {},
   "outputs": [],
   "source": []
  },
  {
   "cell_type": "markdown",
   "id": "8c4ce4b0",
   "metadata": {},
   "source": [
    "CROSS VALIDATION"
   ]
  },
  {
   "cell_type": "code",
   "execution_count": 82,
   "id": "d4458639",
   "metadata": {},
   "outputs": [
    {
     "name": "stdout",
     "output_type": "stream",
     "text": [
      "cv score 0.5587468379325318\n"
     ]
    }
   ],
   "source": [
    "# For Linear Regression\n",
    "\n",
    "\n",
    "score=cross_val_score(lr,x,y,cv=5)\n",
    "print('cv score',np.mean(score))\n"
   ]
  },
  {
   "cell_type": "code",
   "execution_count": null,
   "id": "b80b4194",
   "metadata": {},
   "outputs": [],
   "source": []
  },
  {
   "cell_type": "code",
   "execution_count": 83,
   "id": "cab9da83",
   "metadata": {},
   "outputs": [
    {
     "name": "stdout",
     "output_type": "stream",
     "text": [
      "cv score 0.5593314942346627\n"
     ]
    }
   ],
   "source": [
    "# For Lasso\n",
    "\n",
    "\n",
    "score=cross_val_score(ls,x,y,cv=5)\n",
    "print('cv score',np.mean(score))"
   ]
  },
  {
   "cell_type": "code",
   "execution_count": null,
   "id": "37990051",
   "metadata": {},
   "outputs": [],
   "source": []
  },
  {
   "cell_type": "code",
   "execution_count": 84,
   "id": "1691bae2",
   "metadata": {},
   "outputs": [
    {
     "name": "stdout",
     "output_type": "stream",
     "text": [
      "cv score 0.558762958301401\n"
     ]
    }
   ],
   "source": [
    "# For Ridge\n",
    "\n",
    "\n",
    "score=cross_val_score(rd,x,y,cv=5)\n",
    "print('cv score',np.mean(score))"
   ]
  },
  {
   "cell_type": "code",
   "execution_count": null,
   "id": "91765841",
   "metadata": {},
   "outputs": [],
   "source": []
  },
  {
   "cell_type": "code",
   "execution_count": 85,
   "id": "9aa187f7",
   "metadata": {},
   "outputs": [
    {
     "name": "stdout",
     "output_type": "stream",
     "text": [
      "cv score 0.3712623961373764\n"
     ]
    }
   ],
   "source": [
    "\n",
    "#For ElasticNet\n",
    "\n",
    "score=cross_val_score(en,x,y,cv=5)\n",
    "print('cv score',np.mean(score))"
   ]
  },
  {
   "cell_type": "markdown",
   "id": "7ad74454",
   "metadata": {},
   "source": [
    "cross validation score is almost 55% of Linear Regression ,Lasso, ridge and 37% of ElasticNet. "
   ]
  },
  {
   "cell_type": "code",
   "execution_count": null,
   "id": "414bd1db",
   "metadata": {},
   "outputs": [],
   "source": []
  },
  {
   "cell_type": "markdown",
   "id": "56f6c933",
   "metadata": {},
   "source": [
    "HYPER PARAMETER TUNING"
   ]
  },
  {
   "cell_type": "code",
   "execution_count": 91,
   "id": "5e5c2f1f",
   "metadata": {},
   "outputs": [
    {
     "name": "stdout",
     "output_type": "stream",
     "text": [
      "r2 score :  0.559815340390128\n",
      "Residual sum of squares: 1281486.40\n",
      "mean absolute error 1020.9658499204712\n",
      "mean squared error 1856514.706126638\n",
      "root mean squared error 1362.539799832151\n"
     ]
    }
   ],
   "source": [
    "from sklearn.model_selection import GridSearchCV\n",
    "\n",
    "model =LinearRegression()\n",
    "parameters = {'fit_intercept':[True,False], 'normalize':[True,False], 'copy_X':[True, False]}\n",
    "grid = GridSearchCV(model,parameters, cv=None)\n",
    "grid.fit(X_train, y_train)\n",
    "print (\"r2 score : \", grid.best_score_)\n",
    "print(\"Residual sum of squares: %.2f\"\n",
    "              % np.mean((grid.predict(X_test) - y_test) ** 2))\n",
    "print('mean absolute error', mean_absolute_error(y_test,pred_y))\n",
    "print('mean squared error', mean_squared_error(y_test,pred_y))\n",
    "\n",
    "print('root mean squared error', np.sqrt(mean_squared_error(y_test,pred_y)))\n"
   ]
  },
  {
   "cell_type": "markdown",
   "id": "13160d4e",
   "metadata": {},
   "source": [
    "getiing 55% r2 score after cross validation and hyper parameter tuning."
   ]
  },
  {
   "cell_type": "code",
   "execution_count": null,
   "id": "d72ddd2a",
   "metadata": {},
   "outputs": [],
   "source": []
  },
  {
   "cell_type": "markdown",
   "id": "5ded1d42",
   "metadata": {},
   "source": [
    "PREDICTIING THE MODEL ON TEST DATA"
   ]
  },
  {
   "cell_type": "code",
   "execution_count": 93,
   "id": "be30b52c",
   "metadata": {},
   "outputs": [],
   "source": [
    "X_t = test_datar[feat_cols]\n",
    "y_result = lr.predict(X_t)"
   ]
  },
  {
   "cell_type": "code",
   "execution_count": 94,
   "id": "58057497",
   "metadata": {},
   "outputs": [
    {
     "data": {
      "text/plain": [
       "array([1816.20711256, 1550.29776246, 1918.68156151, ..., 1836.65402091,\n",
       "       3668.98343009, 1320.38271421])"
      ]
     },
     "execution_count": 94,
     "metadata": {},
     "output_type": "execute_result"
    }
   ],
   "source": [
    "y_result"
   ]
  },
  {
   "cell_type": "code",
   "execution_count": null,
   "id": "847b88f2",
   "metadata": {},
   "outputs": [],
   "source": []
  },
  {
   "cell_type": "markdown",
   "id": "af504ea5",
   "metadata": {},
   "source": [
    "SAVING THE RESULT ON THE CSV FILE"
   ]
  },
  {
   "cell_type": "code",
   "execution_count": 95,
   "id": "f99eb1eb",
   "metadata": {},
   "outputs": [],
   "source": [
    "result = pd.DataFrame()\n",
    "result['Item_Identifier'] = test_datar['Item_Identifier']\n",
    "result['Outlet_Identifier'] = test_datar['Outlet_Identifier']\n",
    "\n",
    "result[\"Item_Outlet_Sales\"] = y_result\n",
    "result = result.sort_index()\n",
    "result.to_csv('Bigmart_LinearRegression.csv',index = False)"
   ]
  },
  {
   "cell_type": "code",
   "execution_count": 96,
   "id": "31dffc61",
   "metadata": {},
   "outputs": [
    {
     "data": {
      "text/html": [
       "<div>\n",
       "<style scoped>\n",
       "    .dataframe tbody tr th:only-of-type {\n",
       "        vertical-align: middle;\n",
       "    }\n",
       "\n",
       "    .dataframe tbody tr th {\n",
       "        vertical-align: top;\n",
       "    }\n",
       "\n",
       "    .dataframe thead th {\n",
       "        text-align: right;\n",
       "    }\n",
       "</style>\n",
       "<table border=\"1\" class=\"dataframe\">\n",
       "  <thead>\n",
       "    <tr style=\"text-align: right;\">\n",
       "      <th></th>\n",
       "      <th>Item_Identifier</th>\n",
       "      <th>Outlet_Identifier</th>\n",
       "      <th>Item_Outlet_Sales</th>\n",
       "    </tr>\n",
       "  </thead>\n",
       "  <tbody>\n",
       "    <tr>\n",
       "      <th>0</th>\n",
       "      <td>FDW58</td>\n",
       "      <td>OUT049</td>\n",
       "      <td>1816.207113</td>\n",
       "    </tr>\n",
       "    <tr>\n",
       "      <th>1</th>\n",
       "      <td>FDW14</td>\n",
       "      <td>OUT017</td>\n",
       "      <td>1550.297762</td>\n",
       "    </tr>\n",
       "    <tr>\n",
       "      <th>2</th>\n",
       "      <td>NCN55</td>\n",
       "      <td>OUT010</td>\n",
       "      <td>1918.681562</td>\n",
       "    </tr>\n",
       "    <tr>\n",
       "      <th>3</th>\n",
       "      <td>FDQ58</td>\n",
       "      <td>OUT017</td>\n",
       "      <td>2671.760411</td>\n",
       "    </tr>\n",
       "    <tr>\n",
       "      <th>4</th>\n",
       "      <td>FDY38</td>\n",
       "      <td>OUT027</td>\n",
       "      <td>5077.479736</td>\n",
       "    </tr>\n",
       "  </tbody>\n",
       "</table>\n",
       "</div>"
      ],
      "text/plain": [
       "  Item_Identifier Outlet_Identifier  Item_Outlet_Sales\n",
       "0           FDW58            OUT049        1816.207113\n",
       "1           FDW14            OUT017        1550.297762\n",
       "2           NCN55            OUT010        1918.681562\n",
       "3           FDQ58            OUT017        2671.760411\n",
       "4           FDY38            OUT027        5077.479736"
      ]
     },
     "execution_count": 96,
     "metadata": {},
     "output_type": "execute_result"
    }
   ],
   "source": [
    "df=pd.read_csv('Bigmart_LinearRegression.csv')\n",
    "df.head()"
   ]
  },
  {
   "cell_type": "markdown",
   "id": "656b746c",
   "metadata": {},
   "source": [
    "That will be the sales ,nd here is only 5 heads of the datasset."
   ]
  },
  {
   "cell_type": "code",
   "execution_count": null,
   "id": "c7aec963",
   "metadata": {},
   "outputs": [],
   "source": []
  }
 ],
 "metadata": {
  "kernelspec": {
   "display_name": "Python 3",
   "language": "python",
   "name": "python3"
  },
  "language_info": {
   "codemirror_mode": {
    "name": "ipython",
    "version": 3
   },
   "file_extension": ".py",
   "mimetype": "text/x-python",
   "name": "python",
   "nbconvert_exporter": "python",
   "pygments_lexer": "ipython3",
   "version": "3.8.8"
  }
 },
 "nbformat": 4,
 "nbformat_minor": 5
}
