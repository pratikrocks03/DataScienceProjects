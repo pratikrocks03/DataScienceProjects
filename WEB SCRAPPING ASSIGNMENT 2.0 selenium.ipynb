{
 "cells": [
  {
   "cell_type": "code",
   "execution_count": 1,
   "id": "16b0eec7",
   "metadata": {},
   "outputs": [
    {
     "name": "stdout",
     "output_type": "stream",
     "text": [
      "Requirement already satisfied: selenium in c:\\programdata\\anaconda2\\lib\\site-packages (3.141.0)\n",
      "Requirement already satisfied: urllib3 in c:\\programdata\\anaconda2\\lib\\site-packages (from selenium) (1.26.4)\n"
     ]
    }
   ],
   "source": [
    "# First install the selenium Library\n",
    "!pip install selenium"
   ]
  },
  {
   "cell_type": "code",
   "execution_count": 6,
   "id": "12092c28",
   "metadata": {},
   "outputs": [],
   "source": [
    "# Now import all libraries\n",
    "import selenium \n",
    "import pandas as pd\n",
    "from selenium import webdriver\n",
    "from selenium.common.exceptions import NoSuchElementException"
   ]
  },
  {
   "cell_type": "code",
   "execution_count": 7,
   "id": "86625f49",
   "metadata": {},
   "outputs": [],
   "source": [
    "# connecting to the web driver\n",
    "driver=webdriver.Chrome('chromedriver.exe')"
   ]
  },
  {
   "cell_type": "code",
   "execution_count": null,
   "id": "7c14ad14",
   "metadata": {},
   "outputs": [],
   "source": []
  },
  {
   "cell_type": "markdown",
   "id": "3cc0edcb",
   "metadata": {},
   "source": [
    "# Q1) Write a python program to scrape data for “Data Analyst” Job position in \n",
    "“Bangalore” location. You have to scrape the job-title, job-location, company_name,\n",
    "experience_required. You have to scrape first 10 jobs data.\n"
   ]
  },
  {
   "cell_type": "code",
   "execution_count": 4,
   "id": "fa1c6acc",
   "metadata": {},
   "outputs": [],
   "source": [
    "url='https://www.naukri.com/'\n",
    "driver.get(url)"
   ]
  },
  {
   "cell_type": "code",
   "execution_count": 5,
   "id": "9fe7e51c",
   "metadata": {},
   "outputs": [
    {
     "data": {
      "text/plain": [
       "<selenium.webdriver.remote.webelement.WebElement (session=\"605091af86d80b6f2d9e024e4d2e0392\", element=\"2bb6a195-9c53-40be-969c-710295715615\")>"
      ]
     },
     "execution_count": 5,
     "metadata": {},
     "output_type": "execute_result"
    }
   ],
   "source": [
    "# finding element for job search bar\n",
    "search_job=driver.find_element_by_id('qsb-keyword-sugg')\n",
    "search_job"
   ]
  },
  {
   "cell_type": "code",
   "execution_count": 6,
   "id": "d806a819",
   "metadata": {},
   "outputs": [],
   "source": [
    "# writing on search bar\n",
    "search_job.send_keys('Data Analyst')"
   ]
  },
  {
   "cell_type": "code",
   "execution_count": 7,
   "id": "4ffaf9dc",
   "metadata": {},
   "outputs": [
    {
     "data": {
      "text/plain": [
       "<selenium.webdriver.remote.webelement.WebElement (session=\"605091af86d80b6f2d9e024e4d2e0392\", element=\"2790a5b4-717f-4982-8f0a-f27832952bea\")>"
      ]
     },
     "execution_count": 7,
     "metadata": {},
     "output_type": "execute_result"
    }
   ],
   "source": [
    "# finding element for job loacation bar\n",
    "search_loc=driver.find_element_by_id('qsb-location-sugg')\n",
    "search_loc"
   ]
  },
  {
   "cell_type": "code",
   "execution_count": 8,
   "id": "f703245b",
   "metadata": {},
   "outputs": [],
   "source": [
    "# writing on search bar\n",
    "search_loc.send_keys('Bangalore')"
   ]
  },
  {
   "cell_type": "code",
   "execution_count": 9,
   "id": "ef5283b1",
   "metadata": {},
   "outputs": [],
   "source": [
    "# clicking on search bar\n",
    "search_btn=driver.find_element_by_xpath(\"//button[@class='btn']\")\n",
    "search_btn.click()"
   ]
  },
  {
   "cell_type": "code",
   "execution_count": 10,
   "id": "c3df0eae",
   "metadata": {
    "scrolled": true
   },
   "outputs": [
    {
     "data": {
      "text/plain": [
       "[<selenium.webdriver.remote.webelement.WebElement (session=\"605091af86d80b6f2d9e024e4d2e0392\", element=\"2ea3284c-682d-43c7-a118-44d0f8187abe\")>,\n",
       " <selenium.webdriver.remote.webelement.WebElement (session=\"605091af86d80b6f2d9e024e4d2e0392\", element=\"a011c463-4133-4d38-933c-e54e578f98d3\")>,\n",
       " <selenium.webdriver.remote.webelement.WebElement (session=\"605091af86d80b6f2d9e024e4d2e0392\", element=\"836e1cd0-3eec-4ac8-8244-1e5d6ce75ad9\")>,\n",
       " <selenium.webdriver.remote.webelement.WebElement (session=\"605091af86d80b6f2d9e024e4d2e0392\", element=\"10f63941-b8ba-4c7c-8ced-794c74eef858\")>,\n",
       " <selenium.webdriver.remote.webelement.WebElement (session=\"605091af86d80b6f2d9e024e4d2e0392\", element=\"9f6d8c10-9ff7-4e0a-9672-02e248ef6a6a\")>,\n",
       " <selenium.webdriver.remote.webelement.WebElement (session=\"605091af86d80b6f2d9e024e4d2e0392\", element=\"60655312-02f6-4b86-8548-26d4223559e8\")>,\n",
       " <selenium.webdriver.remote.webelement.WebElement (session=\"605091af86d80b6f2d9e024e4d2e0392\", element=\"df4238f5-91e7-4149-9bef-dcad180cea91\")>,\n",
       " <selenium.webdriver.remote.webelement.WebElement (session=\"605091af86d80b6f2d9e024e4d2e0392\", element=\"b1809bb8-144e-495f-9764-fa676e26c8a6\")>,\n",
       " <selenium.webdriver.remote.webelement.WebElement (session=\"605091af86d80b6f2d9e024e4d2e0392\", element=\"29300bca-5b5d-4826-9b68-f5a0f6d78fe9\")>,\n",
       " <selenium.webdriver.remote.webelement.WebElement (session=\"605091af86d80b6f2d9e024e4d2e0392\", element=\"761b1701-38a7-4639-bcd6-0ccdf0e2b020\")>,\n",
       " <selenium.webdriver.remote.webelement.WebElement (session=\"605091af86d80b6f2d9e024e4d2e0392\", element=\"0fe83598-401b-4642-99a9-7e126b2f5d0b\")>,\n",
       " <selenium.webdriver.remote.webelement.WebElement (session=\"605091af86d80b6f2d9e024e4d2e0392\", element=\"ff6a5912-c7c4-4ede-ac41-8779199533bb\")>,\n",
       " <selenium.webdriver.remote.webelement.WebElement (session=\"605091af86d80b6f2d9e024e4d2e0392\", element=\"3254afff-cf3c-4a62-8d04-d17c29e359ff\")>,\n",
       " <selenium.webdriver.remote.webelement.WebElement (session=\"605091af86d80b6f2d9e024e4d2e0392\", element=\"e8371cc3-fffc-4fb8-bdf2-d6837ee29d62\")>,\n",
       " <selenium.webdriver.remote.webelement.WebElement (session=\"605091af86d80b6f2d9e024e4d2e0392\", element=\"66151ed2-033e-4bdb-b755-26a0157c4656\")>,\n",
       " <selenium.webdriver.remote.webelement.WebElement (session=\"605091af86d80b6f2d9e024e4d2e0392\", element=\"5da5bee7-d792-432e-9dc0-4c2737eab06a\")>,\n",
       " <selenium.webdriver.remote.webelement.WebElement (session=\"605091af86d80b6f2d9e024e4d2e0392\", element=\"58d7c7d6-86bf-4424-b72b-551499c2079b\")>,\n",
       " <selenium.webdriver.remote.webelement.WebElement (session=\"605091af86d80b6f2d9e024e4d2e0392\", element=\"96e5210f-e65f-489a-80f5-aeb39752366d\")>,\n",
       " <selenium.webdriver.remote.webelement.WebElement (session=\"605091af86d80b6f2d9e024e4d2e0392\", element=\"7d5c7a66-fe94-433b-8ea5-8b5ab9ec5bd4\")>,\n",
       " <selenium.webdriver.remote.webelement.WebElement (session=\"605091af86d80b6f2d9e024e4d2e0392\", element=\"7cb429c4-963e-4106-be7c-191fe88215c7\")>]"
      ]
     },
     "execution_count": 10,
     "metadata": {},
     "output_type": "execute_result"
    }
   ],
   "source": [
    "# now extracting the tags having job-titles\n",
    "titles_tags=driver.find_elements_by_xpath(\"//a[@class='title fw500 ellipsis']\")\n",
    "titles_tags"
   ]
  },
  {
   "cell_type": "code",
   "execution_count": 14,
   "id": "e2074596",
   "metadata": {},
   "outputs": [
    {
     "data": {
      "text/plain": [
       "['Data Scientist / Data Analyst -Business Analyst',\n",
       " 'Data analysts',\n",
       " 'Data Analyst (2positions)//immediate Joiners//bangalore',\n",
       " 'Data analysts',\n",
       " 'Data Analyst',\n",
       " 'Data Analyst',\n",
       " 'Data Analyst - Category Demand Management (Revenue & Growth)',\n",
       " 'Job Opportunity For Talent Data Analyst - Cornerstone OnDemand',\n",
       " 'Consultant-Data Analyst -Bangalore',\n",
       " 'Data Analyst - Work from Home']"
      ]
     },
     "execution_count": 14,
     "metadata": {},
     "output_type": "execute_result"
    }
   ],
   "source": [
    "# Now the text of the job title is inside the tags extracted above.\n",
    "\n",
    "job_titles=[]\n",
    "\n",
    "for i in titles_tags:\n",
    "    job_titles.append(i.text)\n",
    "job_titles[:10]    \n",
    "    \n",
    "    "
   ]
  },
  {
   "cell_type": "code",
   "execution_count": null,
   "id": "e3abbb53",
   "metadata": {},
   "outputs": [],
   "source": []
  },
  {
   "cell_type": "code",
   "execution_count": 19,
   "id": "73fc67e8",
   "metadata": {},
   "outputs": [
    {
     "data": {
      "text/plain": [
       "[<selenium.webdriver.remote.webelement.WebElement (session=\"605091af86d80b6f2d9e024e4d2e0392\", element=\"ffa7dda8-fb06-41c8-b1cd-943aeaa399c6\")>,\n",
       " <selenium.webdriver.remote.webelement.WebElement (session=\"605091af86d80b6f2d9e024e4d2e0392\", element=\"8605cc06-ec38-434c-9d35-38819ce12bd4\")>,\n",
       " <selenium.webdriver.remote.webelement.WebElement (session=\"605091af86d80b6f2d9e024e4d2e0392\", element=\"08256a3c-3283-4494-b7a9-8a0d8d3be921\")>,\n",
       " <selenium.webdriver.remote.webelement.WebElement (session=\"605091af86d80b6f2d9e024e4d2e0392\", element=\"aa90955a-5c98-4064-b65d-5065b070feee\")>,\n",
       " <selenium.webdriver.remote.webelement.WebElement (session=\"605091af86d80b6f2d9e024e4d2e0392\", element=\"c4fbc59e-a52e-4e36-a98b-c688a5553ca9\")>,\n",
       " <selenium.webdriver.remote.webelement.WebElement (session=\"605091af86d80b6f2d9e024e4d2e0392\", element=\"561dce72-8c7f-4244-bcbd-81b702156ad5\")>,\n",
       " <selenium.webdriver.remote.webelement.WebElement (session=\"605091af86d80b6f2d9e024e4d2e0392\", element=\"6e1fe549-4645-4363-8a75-07502a671b0e\")>,\n",
       " <selenium.webdriver.remote.webelement.WebElement (session=\"605091af86d80b6f2d9e024e4d2e0392\", element=\"4ab75ee6-cbf4-46f8-a848-eb16a92515c5\")>,\n",
       " <selenium.webdriver.remote.webelement.WebElement (session=\"605091af86d80b6f2d9e024e4d2e0392\", element=\"d15d24f6-1ca6-4f59-b976-00c4fce7d4a8\")>,\n",
       " <selenium.webdriver.remote.webelement.WebElement (session=\"605091af86d80b6f2d9e024e4d2e0392\", element=\"4356caab-9b32-4e33-b2da-4eb2f72d12b8\")>,\n",
       " <selenium.webdriver.remote.webelement.WebElement (session=\"605091af86d80b6f2d9e024e4d2e0392\", element=\"01859dd9-d26a-4b41-b4ab-dbc74a464ee5\")>,\n",
       " <selenium.webdriver.remote.webelement.WebElement (session=\"605091af86d80b6f2d9e024e4d2e0392\", element=\"7099de44-26f5-4c8a-9007-855de6c24bb5\")>,\n",
       " <selenium.webdriver.remote.webelement.WebElement (session=\"605091af86d80b6f2d9e024e4d2e0392\", element=\"7fae5cac-d379-4b13-8cf6-c469e4d01c17\")>,\n",
       " <selenium.webdriver.remote.webelement.WebElement (session=\"605091af86d80b6f2d9e024e4d2e0392\", element=\"dde61452-59d6-467d-ba62-1c8e98b384ef\")>,\n",
       " <selenium.webdriver.remote.webelement.WebElement (session=\"605091af86d80b6f2d9e024e4d2e0392\", element=\"e207acb2-e470-4717-86c9-7beb4e9074cd\")>,\n",
       " <selenium.webdriver.remote.webelement.WebElement (session=\"605091af86d80b6f2d9e024e4d2e0392\", element=\"dc942cc6-d3cf-44ec-a245-6915e986d08a\")>,\n",
       " <selenium.webdriver.remote.webelement.WebElement (session=\"605091af86d80b6f2d9e024e4d2e0392\", element=\"3721080b-046a-4480-95d0-e427f32c6dfd\")>,\n",
       " <selenium.webdriver.remote.webelement.WebElement (session=\"605091af86d80b6f2d9e024e4d2e0392\", element=\"abad11d9-33fb-4095-8f9b-9736d638e071\")>,\n",
       " <selenium.webdriver.remote.webelement.WebElement (session=\"605091af86d80b6f2d9e024e4d2e0392\", element=\"8a422549-2cf7-4c0c-8d85-0b4a4786fafe\")>,\n",
       " <selenium.webdriver.remote.webelement.WebElement (session=\"605091af86d80b6f2d9e024e4d2e0392\", element=\"5041493a-b922-4bb9-bdf2-e4763bc95990\")>]"
      ]
     },
     "execution_count": 19,
     "metadata": {},
     "output_type": "execute_result"
    }
   ],
   "source": [
    "# Now extracting the tags having company names\n",
    "companies_tags=driver.find_elements_by_xpath(\"//div[@class='mt-7 companyInfo subheading lh16']\")\n",
    "companies_tags"
   ]
  },
  {
   "cell_type": "code",
   "execution_count": 20,
   "id": "fea8e693",
   "metadata": {},
   "outputs": [
    {
     "data": {
      "text/plain": [
       "['Inflexion Analytix Private Limited',\n",
       " 'IBM India Pvt. Limited\\n4.0\\n(9816 Reviews)',\n",
       " 'Tech Mahindra Ltd.\\n3.6\\n(11299 Reviews)',\n",
       " 'IBM India Pvt. Limited\\n4.0\\n(9816 Reviews)',\n",
       " 'Myntra Designs Pvt. Ltd.\\n4.1\\n(760 Reviews)',\n",
       " 'Myntra Designs Pvt. Ltd.\\n4.1\\n(760 Reviews)',\n",
       " 'Myntra Designs Pvt. Ltd.\\n4.1\\n(760 Reviews)',\n",
       " 'Cornerstone OnDemand Services India Pvt Ltd\\n4.4\\n(14 Reviews)',\n",
       " 'Innovsource Services Private Limited\\n4.2\\n(636 Reviews)',\n",
       " 'POWER STORES E COMMERCE PRIVATE LIMITED']"
      ]
     },
     "execution_count": 20,
     "metadata": {},
     "output_type": "execute_result"
    }
   ],
   "source": [
    "# Now extracting the company names from tags\n",
    "company_names=[]\n",
    "for i in companies_tags:\n",
    "    company_names.append(i.text)\n",
    "company_names[:10]    "
   ]
  },
  {
   "cell_type": "code",
   "execution_count": null,
   "id": "ac392593",
   "metadata": {},
   "outputs": [],
   "source": []
  },
  {
   "cell_type": "code",
   "execution_count": 24,
   "id": "c0102df0",
   "metadata": {},
   "outputs": [
    {
     "data": {
      "text/plain": [
       "[<selenium.webdriver.remote.webelement.WebElement (session=\"605091af86d80b6f2d9e024e4d2e0392\", element=\"c64c6e6d-3919-4e6e-ba06-342fe2c20554\")>,\n",
       " <selenium.webdriver.remote.webelement.WebElement (session=\"605091af86d80b6f2d9e024e4d2e0392\", element=\"11bc5523-5c88-46da-8f00-d44b56a61063\")>,\n",
       " <selenium.webdriver.remote.webelement.WebElement (session=\"605091af86d80b6f2d9e024e4d2e0392\", element=\"dc9a7a3b-d352-4eed-be21-1e2c58125a1f\")>,\n",
       " <selenium.webdriver.remote.webelement.WebElement (session=\"605091af86d80b6f2d9e024e4d2e0392\", element=\"79008bfb-b858-4a02-8cff-b5d61aa159fa\")>,\n",
       " <selenium.webdriver.remote.webelement.WebElement (session=\"605091af86d80b6f2d9e024e4d2e0392\", element=\"c6d5ff6d-d1e4-4a6c-af8a-264ac7c38b9d\")>,\n",
       " <selenium.webdriver.remote.webelement.WebElement (session=\"605091af86d80b6f2d9e024e4d2e0392\", element=\"9f71f396-8867-488e-9420-05aae416698d\")>,\n",
       " <selenium.webdriver.remote.webelement.WebElement (session=\"605091af86d80b6f2d9e024e4d2e0392\", element=\"459aabef-b80b-413a-99b1-eb1cfae0debb\")>,\n",
       " <selenium.webdriver.remote.webelement.WebElement (session=\"605091af86d80b6f2d9e024e4d2e0392\", element=\"5a8a2f51-2791-4c73-ba27-eaae838359a0\")>,\n",
       " <selenium.webdriver.remote.webelement.WebElement (session=\"605091af86d80b6f2d9e024e4d2e0392\", element=\"9747e942-c187-4642-9acf-4f6f3b3db778\")>,\n",
       " <selenium.webdriver.remote.webelement.WebElement (session=\"605091af86d80b6f2d9e024e4d2e0392\", element=\"e96092c2-f0b6-488c-95b9-0e89bda4ae75\")>,\n",
       " <selenium.webdriver.remote.webelement.WebElement (session=\"605091af86d80b6f2d9e024e4d2e0392\", element=\"26776976-e481-4924-84aa-f2b4b3b81738\")>,\n",
       " <selenium.webdriver.remote.webelement.WebElement (session=\"605091af86d80b6f2d9e024e4d2e0392\", element=\"a6fa5827-16c8-4884-b37b-332577564973\")>,\n",
       " <selenium.webdriver.remote.webelement.WebElement (session=\"605091af86d80b6f2d9e024e4d2e0392\", element=\"46d684fe-2909-4192-9fa2-f5d614aa6f89\")>,\n",
       " <selenium.webdriver.remote.webelement.WebElement (session=\"605091af86d80b6f2d9e024e4d2e0392\", element=\"6c8a85ab-7977-4740-833d-4cf649ede2dd\")>,\n",
       " <selenium.webdriver.remote.webelement.WebElement (session=\"605091af86d80b6f2d9e024e4d2e0392\", element=\"d062cf2c-df18-457e-87c0-d836a3c603c3\")>,\n",
       " <selenium.webdriver.remote.webelement.WebElement (session=\"605091af86d80b6f2d9e024e4d2e0392\", element=\"8d92e93b-cd85-46c8-92e8-8cec0bf3acff\")>,\n",
       " <selenium.webdriver.remote.webelement.WebElement (session=\"605091af86d80b6f2d9e024e4d2e0392\", element=\"71738e16-e400-45c9-aac9-e82f0703d788\")>,\n",
       " <selenium.webdriver.remote.webelement.WebElement (session=\"605091af86d80b6f2d9e024e4d2e0392\", element=\"69308435-5ee0-46dd-8ed6-2eb371c28fd1\")>,\n",
       " <selenium.webdriver.remote.webelement.WebElement (session=\"605091af86d80b6f2d9e024e4d2e0392\", element=\"fcd1edc1-8f49-4e46-82fa-0518a9222231\")>,\n",
       " <selenium.webdriver.remote.webelement.WebElement (session=\"605091af86d80b6f2d9e024e4d2e0392\", element=\"a82b6ea6-8248-41f9-a02c-8dedf2b398f2\")>]"
      ]
     },
     "execution_count": 24,
     "metadata": {},
     "output_type": "execute_result"
    }
   ],
   "source": [
    "loc=driver.find_elements_by_xpath(\"//li[@class='fleft grey-text br2 placeHolderLi location']\")\n",
    "loc"
   ]
  },
  {
   "cell_type": "code",
   "execution_count": 25,
   "id": "87f10d1d",
   "metadata": {},
   "outputs": [
    {
     "data": {
      "text/plain": [
       "['Mumbai, Hyderabad/Secunderabad, Pune, Gurgaon/Gurugram, Chennai, Bangalore/Bengaluru',\n",
       " 'Bengaluru/Bangalore',\n",
       " 'Bangalore/Bengaluru',\n",
       " 'Bangalore/Bengaluru',\n",
       " 'Bangalore/Bengaluru',\n",
       " 'Bangalore/Bengaluru',\n",
       " 'Bangalore/Bengaluru',\n",
       " 'Kolkata, Pune, Chennai, Bangalore/Bengaluru, Delhi / NCR, Mumbai (All Areas)',\n",
       " 'Bangalore/Bengaluru',\n",
       " 'Pune, Bangalore/Bengaluru, Mumbai (All Areas)']"
      ]
     },
     "execution_count": 25,
     "metadata": {},
     "output_type": "execute_result"
    }
   ],
   "source": [
    "# extracting locations from the tags\n",
    "locations=[]\n",
    "\n",
    "for i in loc:\n",
    "    locations.append(i.text)\n",
    "    \n",
    "locations[:10]    "
   ]
  },
  {
   "cell_type": "code",
   "execution_count": null,
   "id": "5d13db0a",
   "metadata": {},
   "outputs": [],
   "source": []
  },
  {
   "cell_type": "code",
   "execution_count": 27,
   "id": "879e6011",
   "metadata": {},
   "outputs": [
    {
     "data": {
      "text/plain": [
       "[<selenium.webdriver.remote.webelement.WebElement (session=\"605091af86d80b6f2d9e024e4d2e0392\", element=\"bf50375b-bdff-4b08-a570-d5b7d6fcdd4e\")>,\n",
       " <selenium.webdriver.remote.webelement.WebElement (session=\"605091af86d80b6f2d9e024e4d2e0392\", element=\"02c995fc-51cf-426d-85f1-6181a61407ec\")>,\n",
       " <selenium.webdriver.remote.webelement.WebElement (session=\"605091af86d80b6f2d9e024e4d2e0392\", element=\"38c509bf-13a5-4f6f-befc-d7cb2cbe46ef\")>,\n",
       " <selenium.webdriver.remote.webelement.WebElement (session=\"605091af86d80b6f2d9e024e4d2e0392\", element=\"8ca272b3-fcc1-4485-8c7f-7a0e1f9a45f0\")>,\n",
       " <selenium.webdriver.remote.webelement.WebElement (session=\"605091af86d80b6f2d9e024e4d2e0392\", element=\"9186517d-11ed-4ab2-89ab-f3e2b709bd8e\")>,\n",
       " <selenium.webdriver.remote.webelement.WebElement (session=\"605091af86d80b6f2d9e024e4d2e0392\", element=\"dc71d048-f522-413e-ad26-7467ceff4c0a\")>,\n",
       " <selenium.webdriver.remote.webelement.WebElement (session=\"605091af86d80b6f2d9e024e4d2e0392\", element=\"aad09c2f-0375-423d-bc08-a807361dabbc\")>,\n",
       " <selenium.webdriver.remote.webelement.WebElement (session=\"605091af86d80b6f2d9e024e4d2e0392\", element=\"353fa61a-9418-4e06-9a4d-d1c629bd51b4\")>,\n",
       " <selenium.webdriver.remote.webelement.WebElement (session=\"605091af86d80b6f2d9e024e4d2e0392\", element=\"7c46e7a9-9fd9-40e9-9658-40f31dc42538\")>,\n",
       " <selenium.webdriver.remote.webelement.WebElement (session=\"605091af86d80b6f2d9e024e4d2e0392\", element=\"332de0c3-dc04-4164-a5eb-f628ff2b4668\")>,\n",
       " <selenium.webdriver.remote.webelement.WebElement (session=\"605091af86d80b6f2d9e024e4d2e0392\", element=\"497381c2-f23a-48b4-bccf-6a7e2cb3955c\")>,\n",
       " <selenium.webdriver.remote.webelement.WebElement (session=\"605091af86d80b6f2d9e024e4d2e0392\", element=\"fa23f478-5f6b-4ad4-8e25-76ca7a63731b\")>,\n",
       " <selenium.webdriver.remote.webelement.WebElement (session=\"605091af86d80b6f2d9e024e4d2e0392\", element=\"70a6c4a1-7f26-4a7f-b526-1f62d6098a81\")>,\n",
       " <selenium.webdriver.remote.webelement.WebElement (session=\"605091af86d80b6f2d9e024e4d2e0392\", element=\"a9541591-e5ca-476b-811f-ddcabad8cd5d\")>,\n",
       " <selenium.webdriver.remote.webelement.WebElement (session=\"605091af86d80b6f2d9e024e4d2e0392\", element=\"27afd3b3-3c5f-4b45-a010-c8a7f998f5d4\")>,\n",
       " <selenium.webdriver.remote.webelement.WebElement (session=\"605091af86d80b6f2d9e024e4d2e0392\", element=\"40efc13e-f8de-43ad-8bdc-9c7acc202963\")>,\n",
       " <selenium.webdriver.remote.webelement.WebElement (session=\"605091af86d80b6f2d9e024e4d2e0392\", element=\"2e66a797-2b88-4e13-8306-087543a12f0d\")>,\n",
       " <selenium.webdriver.remote.webelement.WebElement (session=\"605091af86d80b6f2d9e024e4d2e0392\", element=\"af30dc1d-c209-4ed2-a14d-3675e65179b9\")>,\n",
       " <selenium.webdriver.remote.webelement.WebElement (session=\"605091af86d80b6f2d9e024e4d2e0392\", element=\"1c54b08f-bf38-4bab-9fcf-99d76a20a795\")>,\n",
       " <selenium.webdriver.remote.webelement.WebElement (session=\"605091af86d80b6f2d9e024e4d2e0392\", element=\"0df84265-0932-4aca-a3d3-25d0cc95facf\")>]"
      ]
     },
     "execution_count": 27,
     "metadata": {},
     "output_type": "execute_result"
    }
   ],
   "source": [
    "# extracting the tags having experience\n",
    "exp=driver.find_elements_by_xpath(\"//li[@class='fleft grey-text br2 placeHolderLi experience']\")\n",
    "exp"
   ]
  },
  {
   "cell_type": "code",
   "execution_count": 28,
   "id": "31fbd889",
   "metadata": {},
   "outputs": [
    {
     "data": {
      "text/plain": [
       "['0-3 Yrs',\n",
       " '5-6 Yrs',\n",
       " '4-8 Yrs',\n",
       " '3-5 Yrs',\n",
       " '3-5 Yrs',\n",
       " '3-8 Yrs',\n",
       " '1-4 Yrs',\n",
       " '3-5 Yrs',\n",
       " '2-7 Yrs',\n",
       " '2-5 Yrs']"
      ]
     },
     "execution_count": 28,
     "metadata": {},
     "output_type": "execute_result"
    }
   ],
   "source": [
    "# extracting experirnce from the tags\n",
    "experience=[]\n",
    "\n",
    "for i in exp:\n",
    "    experience.append(i.text)\n",
    "experience[:10]    "
   ]
  },
  {
   "cell_type": "code",
   "execution_count": 29,
   "id": "26149d77",
   "metadata": {},
   "outputs": [
    {
     "data": {
      "text/html": [
       "<div>\n",
       "<style scoped>\n",
       "    .dataframe tbody tr th:only-of-type {\n",
       "        vertical-align: middle;\n",
       "    }\n",
       "\n",
       "    .dataframe tbody tr th {\n",
       "        vertical-align: top;\n",
       "    }\n",
       "\n",
       "    .dataframe thead th {\n",
       "        text-align: right;\n",
       "    }\n",
       "</style>\n",
       "<table border=\"1\" class=\"dataframe\">\n",
       "  <thead>\n",
       "    <tr style=\"text-align: right;\">\n",
       "      <th></th>\n",
       "      <th>Title</th>\n",
       "      <th>Company</th>\n",
       "      <th>Experience</th>\n",
       "      <th>Locations</th>\n",
       "    </tr>\n",
       "  </thead>\n",
       "  <tbody>\n",
       "    <tr>\n",
       "      <th>0</th>\n",
       "      <td>Data Scientist / Data Analyst -Business Analyst</td>\n",
       "      <td>Inflexion Analytix Private Limited</td>\n",
       "      <td>0-3 Yrs</td>\n",
       "      <td>Mumbai, Hyderabad/Secunderabad, Pune, Gurgaon/...</td>\n",
       "    </tr>\n",
       "    <tr>\n",
       "      <th>1</th>\n",
       "      <td>Data analysts</td>\n",
       "      <td>IBM India Pvt. Limited\\n4.0\\n(9816 Reviews)</td>\n",
       "      <td>5-6 Yrs</td>\n",
       "      <td>Bengaluru/Bangalore</td>\n",
       "    </tr>\n",
       "    <tr>\n",
       "      <th>2</th>\n",
       "      <td>Data Analyst (2positions)//immediate Joiners//...</td>\n",
       "      <td>Tech Mahindra Ltd.\\n3.6\\n(11299 Reviews)</td>\n",
       "      <td>4-8 Yrs</td>\n",
       "      <td>Bangalore/Bengaluru</td>\n",
       "    </tr>\n",
       "    <tr>\n",
       "      <th>3</th>\n",
       "      <td>Data analysts</td>\n",
       "      <td>IBM India Pvt. Limited\\n4.0\\n(9816 Reviews)</td>\n",
       "      <td>3-5 Yrs</td>\n",
       "      <td>Bangalore/Bengaluru</td>\n",
       "    </tr>\n",
       "    <tr>\n",
       "      <th>4</th>\n",
       "      <td>Data Analyst</td>\n",
       "      <td>Myntra Designs Pvt. Ltd.\\n4.1\\n(760 Reviews)</td>\n",
       "      <td>3-5 Yrs</td>\n",
       "      <td>Bangalore/Bengaluru</td>\n",
       "    </tr>\n",
       "    <tr>\n",
       "      <th>5</th>\n",
       "      <td>Data Analyst</td>\n",
       "      <td>Myntra Designs Pvt. Ltd.\\n4.1\\n(760 Reviews)</td>\n",
       "      <td>3-8 Yrs</td>\n",
       "      <td>Bangalore/Bengaluru</td>\n",
       "    </tr>\n",
       "    <tr>\n",
       "      <th>6</th>\n",
       "      <td>Data Analyst - Category Demand Management (Rev...</td>\n",
       "      <td>Myntra Designs Pvt. Ltd.\\n4.1\\n(760 Reviews)</td>\n",
       "      <td>1-4 Yrs</td>\n",
       "      <td>Bangalore/Bengaluru</td>\n",
       "    </tr>\n",
       "    <tr>\n",
       "      <th>7</th>\n",
       "      <td>Job Opportunity For Talent Data Analyst - Corn...</td>\n",
       "      <td>Cornerstone OnDemand Services India Pvt Ltd\\n4...</td>\n",
       "      <td>3-5 Yrs</td>\n",
       "      <td>Kolkata, Pune, Chennai, Bangalore/Bengaluru, D...</td>\n",
       "    </tr>\n",
       "    <tr>\n",
       "      <th>8</th>\n",
       "      <td>Consultant-Data Analyst -Bangalore</td>\n",
       "      <td>Innovsource Services Private Limited\\n4.2\\n(63...</td>\n",
       "      <td>2-7 Yrs</td>\n",
       "      <td>Bangalore/Bengaluru</td>\n",
       "    </tr>\n",
       "    <tr>\n",
       "      <th>9</th>\n",
       "      <td>Data Analyst - Work from Home</td>\n",
       "      <td>POWER STORES E COMMERCE PRIVATE LIMITED</td>\n",
       "      <td>2-5 Yrs</td>\n",
       "      <td>Pune, Bangalore/Bengaluru, Mumbai (All Areas)</td>\n",
       "    </tr>\n",
       "  </tbody>\n",
       "</table>\n",
       "</div>"
      ],
      "text/plain": [
       "                                               Title  \\\n",
       "0    Data Scientist / Data Analyst -Business Analyst   \n",
       "1                                      Data analysts   \n",
       "2  Data Analyst (2positions)//immediate Joiners//...   \n",
       "3                                      Data analysts   \n",
       "4                                       Data Analyst   \n",
       "5                                       Data Analyst   \n",
       "6  Data Analyst - Category Demand Management (Rev...   \n",
       "7  Job Opportunity For Talent Data Analyst - Corn...   \n",
       "8                 Consultant-Data Analyst -Bangalore   \n",
       "9                      Data Analyst - Work from Home   \n",
       "\n",
       "                                             Company Experience  \\\n",
       "0                 Inflexion Analytix Private Limited    0-3 Yrs   \n",
       "1        IBM India Pvt. Limited\\n4.0\\n(9816 Reviews)    5-6 Yrs   \n",
       "2           Tech Mahindra Ltd.\\n3.6\\n(11299 Reviews)    4-8 Yrs   \n",
       "3        IBM India Pvt. Limited\\n4.0\\n(9816 Reviews)    3-5 Yrs   \n",
       "4       Myntra Designs Pvt. Ltd.\\n4.1\\n(760 Reviews)    3-5 Yrs   \n",
       "5       Myntra Designs Pvt. Ltd.\\n4.1\\n(760 Reviews)    3-8 Yrs   \n",
       "6       Myntra Designs Pvt. Ltd.\\n4.1\\n(760 Reviews)    1-4 Yrs   \n",
       "7  Cornerstone OnDemand Services India Pvt Ltd\\n4...    3-5 Yrs   \n",
       "8  Innovsource Services Private Limited\\n4.2\\n(63...    2-7 Yrs   \n",
       "9            POWER STORES E COMMERCE PRIVATE LIMITED    2-5 Yrs   \n",
       "\n",
       "                                           Locations  \n",
       "0  Mumbai, Hyderabad/Secunderabad, Pune, Gurgaon/...  \n",
       "1                                Bengaluru/Bangalore  \n",
       "2                                Bangalore/Bengaluru  \n",
       "3                                Bangalore/Bengaluru  \n",
       "4                                Bangalore/Bengaluru  \n",
       "5                                Bangalore/Bengaluru  \n",
       "6                                Bangalore/Bengaluru  \n",
       "7  Kolkata, Pune, Chennai, Bangalore/Bengaluru, D...  \n",
       "8                                Bangalore/Bengaluru  \n",
       "9      Pune, Bangalore/Bengaluru, Mumbai (All Areas)  "
      ]
     },
     "execution_count": 29,
     "metadata": {},
     "output_type": "execute_result"
    }
   ],
   "source": [
    "# Now making a Data Frame\n",
    "jobs=pd.DataFrame({})\n",
    "jobs['Title']=job_titles\n",
    "jobs['Company']=company_names\n",
    "jobs['Experience']=experience\n",
    "jobs['Locations']=locations\n",
    "jobs[:10]"
   ]
  },
  {
   "cell_type": "markdown",
   "id": "df01b9d0",
   "metadata": {},
   "source": [
    "Data for Data Analyst Jobs."
   ]
  },
  {
   "cell_type": "code",
   "execution_count": null,
   "id": "150a30e0",
   "metadata": {},
   "outputs": [],
   "source": []
  },
  {
   "cell_type": "code",
   "execution_count": null,
   "id": "c902fd4f",
   "metadata": {},
   "outputs": [],
   "source": []
  },
  {
   "cell_type": "markdown",
   "id": "ea4a108a",
   "metadata": {},
   "source": [
    "# Q2) Write a python program to scrape data for “Data Scientist” Job position in \n",
    "“Bangalore” location. You have to scrape the job-title, job-location,\n",
    "company_name, full job-description. You have to scrape first 10 jobs data."
   ]
  },
  {
   "cell_type": "code",
   "execution_count": 138,
   "id": "ef17801c",
   "metadata": {},
   "outputs": [],
   "source": [
    "url='https://www.naukri.com/'\n",
    "driver.get(url)"
   ]
  },
  {
   "cell_type": "code",
   "execution_count": 137,
   "id": "a89a4f12",
   "metadata": {},
   "outputs": [],
   "source": [
    "# connecting to the web driver\n",
    "driver=webdriver.Chrome('chromedriver.exe')"
   ]
  },
  {
   "cell_type": "code",
   "execution_count": 140,
   "id": "0465f879",
   "metadata": {},
   "outputs": [],
   "source": [
    "#finding elements by job search bar and searching\n",
    "search_job=driver.find_element_by_id('qsb-keyword-sugg')\n",
    "search_job.send_keys('Data scientist')"
   ]
  },
  {
   "cell_type": "code",
   "execution_count": 141,
   "id": "7dcca6ac",
   "metadata": {},
   "outputs": [],
   "source": [
    "# finding locations search bar and searching\n",
    "search_loc=driver.find_element_by_id('qsb-location-sugg')\n",
    "search_loc.send_keys('Bangalore')"
   ]
  },
  {
   "cell_type": "code",
   "execution_count": 142,
   "id": "ab38e637",
   "metadata": {},
   "outputs": [],
   "source": [
    "# clicking on search bar\n",
    "search_btn=driver.find_element_by_xpath(\"//button[@class='btn']\")\n",
    "search_btn.click()"
   ]
  },
  {
   "cell_type": "code",
   "execution_count": 144,
   "id": "1fef4b07",
   "metadata": {},
   "outputs": [
    {
     "data": {
      "text/plain": [
       "['Data Scientist / Data Analyst -Business Analyst',\n",
       " 'data scientist',\n",
       " 'Data analytics / Data scientist intern (work from Home)',\n",
       " 'Senior Data Scientist',\n",
       " 'VP - Sr. Data Scientist For Morgan Stanley, Bangalore',\n",
       " 'Senior Data Scientist',\n",
       " 'Senior Data Scientist',\n",
       " 'Senior Data Scientist',\n",
       " 'Senior Data Scientist with Python',\n",
       " 'Senior Data Scientist',\n",
       " 'Sr Data Scientist',\n",
       " 'Senior Data Scientist (Marketplace)',\n",
       " 'Data Scientist - IBM Garage',\n",
       " 'Digital Enterprise Architect (Data Scientist)',\n",
       " 'Data Scientist',\n",
       " 'Data Scientist',\n",
       " 'Data Scientist',\n",
       " 'Lead Data Scientist',\n",
       " 'Data Scientist (Visualization)',\n",
       " 'Data Scientist']"
      ]
     },
     "execution_count": 144,
     "metadata": {},
     "output_type": "execute_result"
    }
   ],
   "source": [
    "# extracting job titles\n",
    "titles_tags=driver.find_elements_by_xpath(\"//a[@class='title fw500 ellipsis']\")\n",
    "job=[]\n",
    "\n",
    "for i in titles_tags:\n",
    "    job.append(i.text)\n",
    "job   \n",
    "    "
   ]
  },
  {
   "cell_type": "code",
   "execution_count": 104,
   "id": "758257fe",
   "metadata": {},
   "outputs": [
    {
     "data": {
      "text/plain": [
       "['https://www.naukri.com/job-listings-data-scientist-data-analyst-business-analyst-inflexion-analytix-private-limited-mumbai-hyderabad-secunderabad-pune-gurgaon-gurugram-chennai-bangalore-bengaluru-0-to-3-years-100521000368?src=jobsearchDesk&sid=16236513689448246&xp=1&px=1',\n",
       " 'https://www.naukri.com/job-listings-data-scientist-global-talent-pool-bangalore-bengaluru-0-to-2-years-310521500397?src=jobsearchDesk&sid=16236513689448246&xp=2&px=1',\n",
       " 'https://www.naukri.com/job-listings-data-analytics-data-scientist-intern-work-from-home-talkvalley-llc-kolkata-bangalore-bengaluru-delhi-ncr-0-to-5-years-050621000128?src=jobsearchDesk&sid=16236513689448246&xp=3&px=1',\n",
       " 'https://www.naukri.com/job-listings-senior-data-scientist-redbus-in-ibibo-group-private-limited-bangalore-bengaluru-5-to-8-years-090621001584?src=jobsearchDesk&sid=16236513689448246&xp=4&px=1',\n",
       " 'https://www.naukri.com/job-listings-vp-sr-data-scientist-for-morgan-stanley-bangalore-morgan-stanley-advantage-services-pvt-ltd-bangalore-bengaluru-8-to-13-years-010621002131?src=jobsearchDesk&sid=16236513689448246&xp=5&px=1',\n",
       " 'https://www.naukri.com/job-listings-senior-data-scientist-infocrunch-campaigns-pvt-ltd-hyderabad-secunderabad-bangalore-bengaluru-delhi-ncr-3-to-7-years-140621000178?src=jobsearchDesk&sid=16236513689448246&xp=6&px=1',\n",
       " 'https://www.naukri.com/job-listings-senior-data-scientist-walmart-labs-bangalore-bengaluru-8-to-10-years-020621500403?src=jobsearchDesk&sid=16236513689448246&xp=7&px=1',\n",
       " 'https://www.naukri.com/job-listings-senior-data-scientist-execboardinasia-bangalore-bengaluru-5-to-10-years-030621500359?src=jobsearchDesk&sid=16236513689448246&xp=8&px=1',\n",
       " 'https://www.naukri.com/job-listings-senior-data-scientist-perform-group-bangalore-bengaluru-4-to-7-years-310521501774?src=jobsearchDesk&sid=16236513689448246&xp=9&px=1',\n",
       " 'https://www.naukri.com/job-listings-sr-data-scientist-intelligent-industrial-internet-systems-pvt-ltd-bangalore-bengaluru-mumbai-all-areas-3-to-6-years-030621003155?src=jobsearchDesk&sid=16236513689448246&xp=10&px=1',\n",
       " 'https://www.naukri.com/job-listings-senior-data-scientist-marketplace-walmart-labs-bangalore-bengaluru-5-to-9-years-310521500781?src=jobsearchDesk&sid=16236513689448246&xp=11&px=1',\n",
       " 'https://www.naukri.com/job-listings-data-scientist-ibm-garage-ibm-india-pvt-limited-bengaluru-bangalore-2-to-6-years-080621904251?src=jobsearchDesk&sid=16236513689448246&xp=12&px=1',\n",
       " 'https://www.naukri.com/job-listings-digital-enterprise-architect-data-scientist-mphasis-limited-bangalore-bengaluru-10-to-13-years-030621902728?src=jobsearchDesk&sid=16236513689448246&xp=13&px=1',\n",
       " 'https://www.naukri.com/job-listings-data-scientist-ibm-india-pvt-limited-bangalore-bengaluru-3-to-6-years-020621905994?src=jobsearchDesk&sid=16236513689448246&xp=14&px=1',\n",
       " 'https://www.naukri.com/job-listings-data-scientist-ibm-india-pvt-limited-bangalore-bengaluru-3-to-6-years-030621907010?src=jobsearchDesk&sid=16236513689448246&xp=15&px=1',\n",
       " 'https://www.naukri.com/job-listings-data-scientist-oracle-india-pvt-ltd-noida-bangalore-bengaluru-5-to-9-years-010621004567?src=jobsearchDesk&sid=16236513689448246&xp=16&px=1',\n",
       " 'https://www.naukri.com/job-listings-lead-data-scientist-fractal-analytics-pvt-ltd-gurgaon-gurugram-bangalore-bengaluru-mumbai-all-areas-10-to-15-years-110621003012?src=jobsearchDesk&sid=16236513689448246&xp=17&px=1',\n",
       " 'https://www.naukri.com/job-listings-data-scientist-visualization-aruba-networks-bangalore-bengaluru-4-to-8-years-090621501101?src=jobsearchDesk&sid=16236513689448246&xp=18&px=1',\n",
       " 'https://www.naukri.com/job-listings-data-scientist-fractal-analytics-ltd-mumbai-gurgaon-gurugram-bangalore-bengaluru-3-to-7-years-070621501457?src=jobsearchDesk&sid=16236513689448246&xp=19&px=1',\n",
       " 'https://www.naukri.com/job-listings-lead-data-scientist-bd-bangalore-bengaluru-2-to-7-years-310521500918?src=jobsearchDesk&sid=16236513689448246&xp=20&px=1']"
      ]
     },
     "execution_count": 104,
     "metadata": {},
     "output_type": "execute_result"
    }
   ],
   "source": [
    "urls"
   ]
  },
  {
   "cell_type": "code",
   "execution_count": null,
   "id": "49e1d5c8",
   "metadata": {},
   "outputs": [],
   "source": []
  },
  {
   "cell_type": "code",
   "execution_count": 145,
   "id": "faae81d3",
   "metadata": {},
   "outputs": [
    {
     "data": {
      "text/plain": [
       "['Mumbai, Hyderabad/Secunderabad, Pune, Gurgaon/Gurugram, Chennai, Bangalore/Bengaluru',\n",
       " 'Bangalore/Bengaluru',\n",
       " 'Kolkata, Bangalore/Bengaluru, Delhi / NCR',\n",
       " 'Bangalore/Bengaluru',\n",
       " 'Bangalore/Bengaluru',\n",
       " 'Hyderabad/Secunderabad, Bangalore/Bengaluru, Delhi / NCR',\n",
       " 'Bangalore/Bengaluru',\n",
       " 'Bangalore/Bengaluru',\n",
       " 'Kolkata, Chandigarh, Hyderabad/Secunderabad, Pune, Ahmedabad, Chennai, Bangalore/Bengaluru, Delhi / NCR, Mumbai (All Areas)',\n",
       " 'Bangalore/Bengaluru',\n",
       " 'Bangalore/Bengaluru, Mumbai (All Areas)',\n",
       " 'Bangalore/Bengaluru',\n",
       " 'Bengaluru/Bangalore',\n",
       " 'Bangalore/Bengaluru',\n",
       " 'Bangalore/Bengaluru',\n",
       " 'Bangalore/Bengaluru',\n",
       " 'Noida, Bangalore/Bengaluru',\n",
       " 'Gurgaon/Gurugram, Bangalore/Bengaluru, Mumbai (All Areas)',\n",
       " 'Bangalore/Bengaluru',\n",
       " 'Mumbai, Gurgaon/Gurugram, Bangalore/Bengaluru']"
      ]
     },
     "execution_count": 145,
     "metadata": {},
     "output_type": "execute_result"
    }
   ],
   "source": [
    "# Extracting location\n",
    "loc=driver.find_elements_by_xpath(\"//li[@class='fleft grey-text br2 placeHolderLi location']/span\")\n",
    "\n",
    "location=[]\n",
    "\n",
    "for i in loc:\n",
    "    location.append(i.text)\n",
    "    \n",
    "location"
   ]
  },
  {
   "cell_type": "code",
   "execution_count": 146,
   "id": "6e067774",
   "metadata": {},
   "outputs": [
    {
     "data": {
      "text/plain": [
       "['Inflexion Analytix Private Limited',\n",
       " 'Global Talent Pool',\n",
       " 'TalkValley LLC',\n",
       " 'RedBus',\n",
       " 'Morgan Stanley Advantage Services',\n",
       " 'Infocrunch Campaigns Pvt Ltd',\n",
       " 'Walmart Labs',\n",
       " 'ExecBoardinAsia',\n",
       " 'Next Bee Corporation',\n",
       " 'Perform Group',\n",
       " 'intelligent industrial internet systems pvt ltd.',\n",
       " 'Walmart Labs',\n",
       " 'IBM India Pvt. Limited',\n",
       " 'Mphasis Limited',\n",
       " 'IBM India Pvt. Limited',\n",
       " 'IBM India Pvt. Limited',\n",
       " 'Oracle India Pvt. Ltd.',\n",
       " 'Fractal Analytics',\n",
       " 'Aruba Networks',\n",
       " 'Fractal Analytics']"
      ]
     },
     "execution_count": 146,
     "metadata": {},
     "output_type": "execute_result"
    }
   ],
   "source": [
    "# Extracting company name\n",
    "companies_tags=driver.find_elements_by_xpath(\"//a[@class='subTitle ellipsis fleft']\")\n",
    "company_names=[]\n",
    "for i in companies_tags:\n",
    "    company_names.append(i.text)\n",
    "company_names "
   ]
  },
  {
   "cell_type": "code",
   "execution_count": 147,
   "id": "f3659367",
   "metadata": {},
   "outputs": [
    {
     "data": {
      "text/plain": [
       "['Applications invited from all Freshers and experienced candidates (0-3 yrs) aspiring to...',\n",
       " 'Graduate level math and statistics knowledge is preferred Good Python programmers with ...',\n",
       " 'Duration of the internship: 3 months+ internship completion certificate We are a group ...',\n",
       " 'Job Role: Senior Data Scientist Reporting To: Head of Data Science Total Exp: 5 - 7 yea...',\n",
       " 'About UsMorgan Stanley is a leading global financial services firm providing a wide ran...',\n",
       " 'Degree / Masters in Data Science, Computer Science, Mathematics, Computational Linguist...',\n",
       " 'Experience with Python, Pyspark, Tensorflow, PyTorch or other related big data and mach...',\n",
       " 'The Senior Data Scientist is an exciting role in the Data Science Centre of Excellence ...',\n",
       " 'Familiarity with Agile Methodology, Test-Driven Development, and software design patter...',\n",
       " 'Understanding of deep learning fundamentals including network architectures, training a...',\n",
       " 'Roles and Responsibilities - Create an industry-changing product from scratch without a...',\n",
       " 'o Solid experience working with state-of-the-art supervised and unsupervised machine le...',\n",
       " 'Required Technical and Professional ExpertisePreferred Technical and Professional Exper...',\n",
       " 'Experience working with enterprise architecture for the complex solutions solving busin...',\n",
       " 'Experience in creating and using advanced machine learning algorithms and statistics su...',\n",
       " 'Should have hired and nurtured talent and grow them in market facing specialists and co...',\n",
       " 'Experience in delivering data science solutions in multiple tenancies is a plus Have a ...',\n",
       " 'Experience of working on end-to-end data science pipeline: problem scoping, data gather...',\n",
       " 'Our Minimum Requirements for this role are Additional preferred skills Experience with ...',\n",
       " 'Experience of working on end-to-end data science pipeline: problem scoping, data gather...']"
      ]
     },
     "execution_count": 147,
     "metadata": {},
     "output_type": "execute_result"
    }
   ],
   "source": [
    "# Extracting Description\n",
    "desc=driver.find_elements_by_xpath(\"//div[@class='job-description fs12 grey-text']\")\n",
    "Discription=[]\n",
    "for i in desc:\n",
    "    Discription.append(i.text)\n",
    "Discription"
   ]
  },
  {
   "cell_type": "code",
   "execution_count": 150,
   "id": "3886a9b4",
   "metadata": {},
   "outputs": [
    {
     "data": {
      "text/html": [
       "<div>\n",
       "<style scoped>\n",
       "    .dataframe tbody tr th:only-of-type {\n",
       "        vertical-align: middle;\n",
       "    }\n",
       "\n",
       "    .dataframe tbody tr th {\n",
       "        vertical-align: top;\n",
       "    }\n",
       "\n",
       "    .dataframe thead th {\n",
       "        text-align: right;\n",
       "    }\n",
       "</style>\n",
       "<table border=\"1\" class=\"dataframe\">\n",
       "  <thead>\n",
       "    <tr style=\"text-align: right;\">\n",
       "      <th></th>\n",
       "      <th>JOBS TITLES</th>\n",
       "      <th>JOB LOCATIONS</th>\n",
       "      <th>COMPANY NAME</th>\n",
       "      <th>JOB DESCRIPTION</th>\n",
       "    </tr>\n",
       "  </thead>\n",
       "  <tbody>\n",
       "    <tr>\n",
       "      <th>0</th>\n",
       "      <td>Data Scientist / Data Analyst -Business Analyst</td>\n",
       "      <td>Mumbai, Hyderabad/Secunderabad, Pune, Gurgaon/...</td>\n",
       "      <td>Inflexion Analytix Private Limited</td>\n",
       "      <td>Applications invited from all Freshers and exp...</td>\n",
       "    </tr>\n",
       "    <tr>\n",
       "      <th>1</th>\n",
       "      <td>data scientist</td>\n",
       "      <td>Bangalore/Bengaluru</td>\n",
       "      <td>Global Talent Pool</td>\n",
       "      <td>Graduate level math and statistics knowledge i...</td>\n",
       "    </tr>\n",
       "    <tr>\n",
       "      <th>2</th>\n",
       "      <td>Data analytics / Data scientist intern (work f...</td>\n",
       "      <td>Kolkata, Bangalore/Bengaluru, Delhi / NCR</td>\n",
       "      <td>TalkValley LLC</td>\n",
       "      <td>Duration of the internship: 3 months+ internsh...</td>\n",
       "    </tr>\n",
       "    <tr>\n",
       "      <th>3</th>\n",
       "      <td>Senior Data Scientist</td>\n",
       "      <td>Bangalore/Bengaluru</td>\n",
       "      <td>RedBus</td>\n",
       "      <td>Job Role: Senior Data Scientist Reporting To: ...</td>\n",
       "    </tr>\n",
       "    <tr>\n",
       "      <th>4</th>\n",
       "      <td>VP - Sr. Data Scientist For Morgan Stanley, Ba...</td>\n",
       "      <td>Bangalore/Bengaluru</td>\n",
       "      <td>Morgan Stanley Advantage Services</td>\n",
       "      <td>About UsMorgan Stanley is a leading global fin...</td>\n",
       "    </tr>\n",
       "    <tr>\n",
       "      <th>5</th>\n",
       "      <td>Senior Data Scientist</td>\n",
       "      <td>Hyderabad/Secunderabad, Bangalore/Bengaluru, D...</td>\n",
       "      <td>Infocrunch Campaigns Pvt Ltd</td>\n",
       "      <td>Degree / Masters in Data Science, Computer Sci...</td>\n",
       "    </tr>\n",
       "    <tr>\n",
       "      <th>6</th>\n",
       "      <td>Senior Data Scientist</td>\n",
       "      <td>Bangalore/Bengaluru</td>\n",
       "      <td>Walmart Labs</td>\n",
       "      <td>Experience with Python, Pyspark, Tensorflow, P...</td>\n",
       "    </tr>\n",
       "    <tr>\n",
       "      <th>7</th>\n",
       "      <td>Senior Data Scientist</td>\n",
       "      <td>Bangalore/Bengaluru</td>\n",
       "      <td>ExecBoardinAsia</td>\n",
       "      <td>The Senior Data Scientist is an exciting role ...</td>\n",
       "    </tr>\n",
       "    <tr>\n",
       "      <th>8</th>\n",
       "      <td>Senior Data Scientist with Python</td>\n",
       "      <td>Kolkata, Chandigarh, Hyderabad/Secunderabad, P...</td>\n",
       "      <td>Next Bee Corporation</td>\n",
       "      <td>Familiarity with Agile Methodology, Test-Drive...</td>\n",
       "    </tr>\n",
       "    <tr>\n",
       "      <th>9</th>\n",
       "      <td>Senior Data Scientist</td>\n",
       "      <td>Bangalore/Bengaluru</td>\n",
       "      <td>Perform Group</td>\n",
       "      <td>Understanding of deep learning fundamentals in...</td>\n",
       "    </tr>\n",
       "  </tbody>\n",
       "</table>\n",
       "</div>"
      ],
      "text/plain": [
       "                                         JOBS TITLES  \\\n",
       "0    Data Scientist / Data Analyst -Business Analyst   \n",
       "1                                     data scientist   \n",
       "2  Data analytics / Data scientist intern (work f...   \n",
       "3                              Senior Data Scientist   \n",
       "4  VP - Sr. Data Scientist For Morgan Stanley, Ba...   \n",
       "5                              Senior Data Scientist   \n",
       "6                              Senior Data Scientist   \n",
       "7                              Senior Data Scientist   \n",
       "8                  Senior Data Scientist with Python   \n",
       "9                              Senior Data Scientist   \n",
       "\n",
       "                                       JOB LOCATIONS  \\\n",
       "0  Mumbai, Hyderabad/Secunderabad, Pune, Gurgaon/...   \n",
       "1                                Bangalore/Bengaluru   \n",
       "2          Kolkata, Bangalore/Bengaluru, Delhi / NCR   \n",
       "3                                Bangalore/Bengaluru   \n",
       "4                                Bangalore/Bengaluru   \n",
       "5  Hyderabad/Secunderabad, Bangalore/Bengaluru, D...   \n",
       "6                                Bangalore/Bengaluru   \n",
       "7                                Bangalore/Bengaluru   \n",
       "8  Kolkata, Chandigarh, Hyderabad/Secunderabad, P...   \n",
       "9                                Bangalore/Bengaluru   \n",
       "\n",
       "                         COMPANY NAME  \\\n",
       "0  Inflexion Analytix Private Limited   \n",
       "1                  Global Talent Pool   \n",
       "2                      TalkValley LLC   \n",
       "3                              RedBus   \n",
       "4   Morgan Stanley Advantage Services   \n",
       "5        Infocrunch Campaigns Pvt Ltd   \n",
       "6                        Walmart Labs   \n",
       "7                     ExecBoardinAsia   \n",
       "8                Next Bee Corporation   \n",
       "9                       Perform Group   \n",
       "\n",
       "                                     JOB DESCRIPTION  \n",
       "0  Applications invited from all Freshers and exp...  \n",
       "1  Graduate level math and statistics knowledge i...  \n",
       "2  Duration of the internship: 3 months+ internsh...  \n",
       "3  Job Role: Senior Data Scientist Reporting To: ...  \n",
       "4  About UsMorgan Stanley is a leading global fin...  \n",
       "5  Degree / Masters in Data Science, Computer Sci...  \n",
       "6  Experience with Python, Pyspark, Tensorflow, P...  \n",
       "7  The Senior Data Scientist is an exciting role ...  \n",
       "8  Familiarity with Agile Methodology, Test-Drive...  \n",
       "9  Understanding of deep learning fundamentals in...  "
      ]
     },
     "execution_count": 150,
     "metadata": {},
     "output_type": "execute_result"
    }
   ],
   "source": [
    "# Creating Data Frame\n",
    "jobs_=pd.DataFrame({})\n",
    "jobs_['JOBS TITLES']=job\n",
    "jobs_['JOB LOCATIONS']=location\n",
    "jobs_['COMPANY NAME']=company_names\n",
    "jobs_['JOB DESCRIPTION']=Discription\n",
    "jobs_[:10]"
   ]
  },
  {
   "cell_type": "code",
   "execution_count": null,
   "id": "54b74489",
   "metadata": {},
   "outputs": [],
   "source": []
  },
  {
   "cell_type": "markdown",
   "id": "f918631c",
   "metadata": {},
   "source": [
    "# Q3) scrape data using the filters available on the webpage\n"
   ]
  },
  {
   "cell_type": "code",
   "execution_count": 152,
   "id": "bd002bf9",
   "metadata": {},
   "outputs": [],
   "source": [
    "# connecting to the web driver\n",
    "driver=webdriver.Chrome('chromedriver.exe')"
   ]
  },
  {
   "cell_type": "code",
   "execution_count": 153,
   "id": "4086a2ff",
   "metadata": {},
   "outputs": [],
   "source": [
    "url='https://www.naukri.com/'\n",
    "driver.get(url)"
   ]
  },
  {
   "cell_type": "code",
   "execution_count": 154,
   "id": "387411a7",
   "metadata": {},
   "outputs": [],
   "source": [
    "#finding elements by job search bar and searching\n",
    "search_job=driver.find_element_by_id('qsb-keyword-sugg')\n",
    "search_job.send_keys('Data scientist')"
   ]
  },
  {
   "cell_type": "code",
   "execution_count": 155,
   "id": "09179739",
   "metadata": {},
   "outputs": [],
   "source": [
    "# clicking on search bar\n",
    "search_btn=driver.find_element_by_xpath(\"//button[@class='btn']\")\n",
    "search_btn.click()"
   ]
  },
  {
   "cell_type": "code",
   "execution_count": 157,
   "id": "11f66e8b",
   "metadata": {},
   "outputs": [],
   "source": [
    "# Using location filter\n",
    "loc=driver.find_element_by_xpath(\"//i[@class='fleft naukicon naukicon-checkbox']\")\n",
    "loc.click()"
   ]
  },
  {
   "cell_type": "code",
   "execution_count": 158,
   "id": "99ac59d9",
   "metadata": {},
   "outputs": [],
   "source": [
    "# using salary filter\n",
    "salary=driver.find_element_by_xpath(\"//p[@class='grey-text lH20 fleft ml-8 txtLbl']\")\n",
    "salary.click()"
   ]
  },
  {
   "cell_type": "code",
   "execution_count": 159,
   "id": "275b4189",
   "metadata": {},
   "outputs": [
    {
     "data": {
      "text/plain": [
       "['Data Scientist / Data Analyst -Business Analyst',\n",
       " 'Data analytics / Data scientist intern (work from Home)',\n",
       " 'Chaayos is Looking For Data Scientist',\n",
       " 'Data Scientist',\n",
       " 'Junior Data Scientist',\n",
       " 'We are hiring- Data Scientist +Python- Noida',\n",
       " 'Data Scientist',\n",
       " 'Data Analyst/Scientist Big Data, Statistical Techniques',\n",
       " 'Senior Data Scientist',\n",
       " 'Data Scientist - High growth VC backed Influencer Marketplace']"
      ]
     },
     "execution_count": 159,
     "metadata": {},
     "output_type": "execute_result"
    }
   ],
   "source": [
    "# extracting  job title\n",
    "title=driver.find_elements_by_xpath(\"//a[@class='title fw500 ellipsis']\")\n",
    "titles=[]\n",
    "\n",
    "for i in title:\n",
    "    titles.append(i.text)\n",
    "titles[:10]"
   ]
  },
  {
   "cell_type": "code",
   "execution_count": 160,
   "id": "8bea228b",
   "metadata": {},
   "outputs": [
    {
     "data": {
      "text/plain": [
       "['Mumbai, Hyderabad/Secunderabad, Pune, Gurgaon/Gurugram, Chennai, Bangalore/Bengaluru',\n",
       " 'Kolkata, Bangalore/Bengaluru, Delhi / NCR',\n",
       " 'New Delhi',\n",
       " 'Mumbai, Gurgaon/Gurugram, Bangalore/Bengaluru',\n",
       " 'Noida(Sector-59 Noida)',\n",
       " 'Noida, Gurgaon/Gurugram, Delhi / NCR',\n",
       " 'Gurgaon/Gurugram, Delhi / NCR',\n",
       " 'Gurgaon/Gurugram',\n",
       " 'Delhi',\n",
       " 'Bangalore/Bengaluru, Delhi / NCR, Mumbai (All Areas)']"
      ]
     },
     "execution_count": 160,
     "metadata": {},
     "output_type": "execute_result"
    }
   ],
   "source": [
    "# Extracting Locations\n",
    "loc=driver.find_elements_by_xpath(\"//li[@class='fleft grey-text br2 placeHolderLi location']/span\")\n",
    "# Extracting locations from the tags\n",
    "location=[]\n",
    "for i in loc:\n",
    "    location.append(i.text)\n",
    "location[:10]    "
   ]
  },
  {
   "cell_type": "code",
   "execution_count": 161,
   "id": "7a2a4277",
   "metadata": {},
   "outputs": [
    {
     "data": {
      "text/plain": [
       "['Inflexion Analytix Private Limited',\n",
       " 'TalkValley LLC',\n",
       " 'Chaayos (Sunshine Teahouse Pvt. Ltd.)',\n",
       " 'Fractal Analytics',\n",
       " 'R Systems International Ltd.',\n",
       " 'RANDSTAD INDIA PVT LTD',\n",
       " 'Milliman India Pvt Ltd',\n",
       " 'The Search House (A Div of JSD Search House Pvt. L td.)',\n",
       " 'iNICU',\n",
       " 'Ravgins International Pvt. Ltd.']"
      ]
     },
     "execution_count": 161,
     "metadata": {},
     "output_type": "execute_result"
    }
   ],
   "source": [
    "# extracting company name\n",
    "company=driver.find_elements_by_xpath(\"//a[@class='subTitle ellipsis fleft']\")\n",
    "companies=[]\n",
    "\n",
    "for i in company:\n",
    "    companies.append(i.text)\n",
    "companies[:10]    "
   ]
  },
  {
   "cell_type": "code",
   "execution_count": 162,
   "id": "7a4cb419",
   "metadata": {},
   "outputs": [
    {
     "data": {
      "text/plain": [
       "['0-3 Yrs',\n",
       " '0-5 Yrs',\n",
       " '0-5 Yrs',\n",
       " '3-7 Yrs',\n",
       " '3-5 Yrs',\n",
       " '4-7 Yrs',\n",
       " '2-5 Yrs',\n",
       " '2-7 Yrs',\n",
       " '1-5 Yrs',\n",
       " '3-5 Yrs']"
      ]
     },
     "execution_count": 162,
     "metadata": {},
     "output_type": "execute_result"
    }
   ],
   "source": [
    "#  Extracting Experience\n",
    "exp=driver.find_elements_by_xpath(\"//li[@class='fleft grey-text br2 placeHolderLi experience']/span\")\n",
    "experience=[]\n",
    "for i in exp:\n",
    "    experience.append(i.text)\n",
    "experience[:10]    "
   ]
  },
  {
   "cell_type": "code",
   "execution_count": 163,
   "id": "8c5a2e73",
   "metadata": {},
   "outputs": [
    {
     "data": {
      "text/html": [
       "<div>\n",
       "<style scoped>\n",
       "    .dataframe tbody tr th:only-of-type {\n",
       "        vertical-align: middle;\n",
       "    }\n",
       "\n",
       "    .dataframe tbody tr th {\n",
       "        vertical-align: top;\n",
       "    }\n",
       "\n",
       "    .dataframe thead th {\n",
       "        text-align: right;\n",
       "    }\n",
       "</style>\n",
       "<table border=\"1\" class=\"dataframe\">\n",
       "  <thead>\n",
       "    <tr style=\"text-align: right;\">\n",
       "      <th></th>\n",
       "      <th>Title</th>\n",
       "      <th>Locations</th>\n",
       "      <th>Company</th>\n",
       "      <th>Experience</th>\n",
       "    </tr>\n",
       "  </thead>\n",
       "  <tbody>\n",
       "    <tr>\n",
       "      <th>0</th>\n",
       "      <td>Data Scientist / Data Analyst -Business Analyst</td>\n",
       "      <td>Mumbai, Hyderabad/Secunderabad, Pune, Gurgaon/...</td>\n",
       "      <td>Inflexion Analytix Private Limited</td>\n",
       "      <td>0-3 Yrs</td>\n",
       "    </tr>\n",
       "    <tr>\n",
       "      <th>1</th>\n",
       "      <td>Data analytics / Data scientist intern (work f...</td>\n",
       "      <td>Kolkata, Bangalore/Bengaluru, Delhi / NCR</td>\n",
       "      <td>TalkValley LLC</td>\n",
       "      <td>0-5 Yrs</td>\n",
       "    </tr>\n",
       "    <tr>\n",
       "      <th>2</th>\n",
       "      <td>Chaayos is Looking For Data Scientist</td>\n",
       "      <td>New Delhi</td>\n",
       "      <td>Chaayos (Sunshine Teahouse Pvt. Ltd.)</td>\n",
       "      <td>0-5 Yrs</td>\n",
       "    </tr>\n",
       "    <tr>\n",
       "      <th>3</th>\n",
       "      <td>Data Scientist</td>\n",
       "      <td>Mumbai, Gurgaon/Gurugram, Bangalore/Bengaluru</td>\n",
       "      <td>Fractal Analytics</td>\n",
       "      <td>3-7 Yrs</td>\n",
       "    </tr>\n",
       "    <tr>\n",
       "      <th>4</th>\n",
       "      <td>Junior Data Scientist</td>\n",
       "      <td>Noida(Sector-59 Noida)</td>\n",
       "      <td>R Systems International Ltd.</td>\n",
       "      <td>3-5 Yrs</td>\n",
       "    </tr>\n",
       "    <tr>\n",
       "      <th>5</th>\n",
       "      <td>We are hiring- Data Scientist +Python- Noida</td>\n",
       "      <td>Noida, Gurgaon/Gurugram, Delhi / NCR</td>\n",
       "      <td>RANDSTAD INDIA PVT LTD</td>\n",
       "      <td>4-7 Yrs</td>\n",
       "    </tr>\n",
       "    <tr>\n",
       "      <th>6</th>\n",
       "      <td>Data Scientist</td>\n",
       "      <td>Gurgaon/Gurugram, Delhi / NCR</td>\n",
       "      <td>Milliman India Pvt Ltd</td>\n",
       "      <td>2-5 Yrs</td>\n",
       "    </tr>\n",
       "    <tr>\n",
       "      <th>7</th>\n",
       "      <td>Data Analyst/Scientist Big Data, Statistical T...</td>\n",
       "      <td>Gurgaon/Gurugram</td>\n",
       "      <td>The Search House (A Div of JSD Search House Pv...</td>\n",
       "      <td>2-7 Yrs</td>\n",
       "    </tr>\n",
       "    <tr>\n",
       "      <th>8</th>\n",
       "      <td>Senior Data Scientist</td>\n",
       "      <td>Delhi</td>\n",
       "      <td>iNICU</td>\n",
       "      <td>1-5 Yrs</td>\n",
       "    </tr>\n",
       "    <tr>\n",
       "      <th>9</th>\n",
       "      <td>Data Scientist - High growth VC backed Influen...</td>\n",
       "      <td>Bangalore/Bengaluru, Delhi / NCR, Mumbai (All ...</td>\n",
       "      <td>Ravgins International Pvt. Ltd.</td>\n",
       "      <td>3-5 Yrs</td>\n",
       "    </tr>\n",
       "  </tbody>\n",
       "</table>\n",
       "</div>"
      ],
      "text/plain": [
       "                                               Title  \\\n",
       "0    Data Scientist / Data Analyst -Business Analyst   \n",
       "1  Data analytics / Data scientist intern (work f...   \n",
       "2              Chaayos is Looking For Data Scientist   \n",
       "3                                     Data Scientist   \n",
       "4                              Junior Data Scientist   \n",
       "5       We are hiring- Data Scientist +Python- Noida   \n",
       "6                                     Data Scientist   \n",
       "7  Data Analyst/Scientist Big Data, Statistical T...   \n",
       "8                              Senior Data Scientist   \n",
       "9  Data Scientist - High growth VC backed Influen...   \n",
       "\n",
       "                                           Locations  \\\n",
       "0  Mumbai, Hyderabad/Secunderabad, Pune, Gurgaon/...   \n",
       "1          Kolkata, Bangalore/Bengaluru, Delhi / NCR   \n",
       "2                                          New Delhi   \n",
       "3      Mumbai, Gurgaon/Gurugram, Bangalore/Bengaluru   \n",
       "4                             Noida(Sector-59 Noida)   \n",
       "5               Noida, Gurgaon/Gurugram, Delhi / NCR   \n",
       "6                      Gurgaon/Gurugram, Delhi / NCR   \n",
       "7                                   Gurgaon/Gurugram   \n",
       "8                                              Delhi   \n",
       "9  Bangalore/Bengaluru, Delhi / NCR, Mumbai (All ...   \n",
       "\n",
       "                                             Company Experience  \n",
       "0                 Inflexion Analytix Private Limited    0-3 Yrs  \n",
       "1                                     TalkValley LLC    0-5 Yrs  \n",
       "2              Chaayos (Sunshine Teahouse Pvt. Ltd.)    0-5 Yrs  \n",
       "3                                  Fractal Analytics    3-7 Yrs  \n",
       "4                       R Systems International Ltd.    3-5 Yrs  \n",
       "5                             RANDSTAD INDIA PVT LTD    4-7 Yrs  \n",
       "6                             Milliman India Pvt Ltd    2-5 Yrs  \n",
       "7  The Search House (A Div of JSD Search House Pv...    2-7 Yrs  \n",
       "8                                              iNICU    1-5 Yrs  \n",
       "9                    Ravgins International Pvt. Ltd.    3-5 Yrs  "
      ]
     },
     "execution_count": 163,
     "metadata": {},
     "output_type": "execute_result"
    }
   ],
   "source": [
    "# Creating data frame\n",
    "JOB=pd.DataFrame({})\n",
    "JOB['Title']=titles\n",
    "JOB['Locations']=location\n",
    "JOB['Company']=companies\n",
    "JOB['Experience']=experience\n",
    "JOB[:10]"
   ]
  },
  {
   "cell_type": "code",
   "execution_count": null,
   "id": "709a18b8",
   "metadata": {},
   "outputs": [],
   "source": []
  },
  {
   "cell_type": "code",
   "execution_count": null,
   "id": "3c7c5dd1",
   "metadata": {},
   "outputs": [],
   "source": [
    "\n"
   ]
  },
  {
   "cell_type": "markdown",
   "id": "265f2442",
   "metadata": {},
   "source": [
    "# Q4) Write a python program to scrape data for first 10 job results for Data scientist \n",
    "Designation in Noida location. You have to scrape company_name, No. of days \n",
    "ago when job was posted, Rating of the company."
   ]
  },
  {
   "cell_type": "code",
   "execution_count": 97,
   "id": "f084e3fc",
   "metadata": {},
   "outputs": [],
   "source": [
    "# connecting to the web driver\n",
    "driver=webdriver.Chrome('chromedriver.exe')"
   ]
  },
  {
   "cell_type": "code",
   "execution_count": 164,
   "id": "93c249fe",
   "metadata": {},
   "outputs": [],
   "source": [
    "url='https://www.glassdoor.co.in/index.htm'\n",
    "driver.get(url)"
   ]
  },
  {
   "cell_type": "code",
   "execution_count": 165,
   "id": "eb77fce0",
   "metadata": {},
   "outputs": [],
   "source": [
    "# finding elements by job search bar and searching\n",
    "search_jobs=driver.find_element_by_id('sc.keyword')\n",
    "search_jobs.send_keys('Data Scientist')"
   ]
  },
  {
   "cell_type": "code",
   "execution_count": 166,
   "id": "d49abe2b",
   "metadata": {},
   "outputs": [],
   "source": [
    "# finding elemnts by location search bar ans searching\n",
    "loc=driver.find_element_by_id('sc.location')\n",
    "loc.send_keys('Noida')"
   ]
  },
  {
   "cell_type": "code",
   "execution_count": 167,
   "id": "78a37342",
   "metadata": {},
   "outputs": [],
   "source": [
    "# clicking on search bar\n",
    "button=driver.find_element_by_xpath(\"//button[@class='gd-ui-button ml-std col-auto SearchStyles__newSearchButton css-iixdfr']\")\n",
    "button.click()"
   ]
  },
  {
   "cell_type": "code",
   "execution_count": null,
   "id": "3fc1d3d1",
   "metadata": {},
   "outputs": [],
   "source": []
  },
  {
   "cell_type": "code",
   "execution_count": 168,
   "id": "7247042b",
   "metadata": {},
   "outputs": [
    {
     "data": {
      "text/plain": [
       "['Taboola',\n",
       " 'Bechtel',\n",
       " 'Knoldus Inc',\n",
       " 'CRMNEXT',\n",
       " 'Ginger Webs Pvt. Ltd.',\n",
       " 'Biz2Credit Inc',\n",
       " 'Lantern Digital Services',\n",
       " 'Priority Vendor',\n",
       " 'Genpact',\n",
       " 'Ericsson']"
      ]
     },
     "execution_count": 168,
     "metadata": {},
     "output_type": "execute_result"
    }
   ],
   "source": [
    "# Extracting company name\n",
    "company=driver.find_elements_by_xpath(\"//div[@class='d-flex justify-content-between align-items-start']\")\n",
    "companies=[]\n",
    "for i in company:\n",
    "    companies.append(i.text)\n",
    "companies[:10]"
   ]
  },
  {
   "cell_type": "code",
   "execution_count": 169,
   "id": "372bad7d",
   "metadata": {},
   "outputs": [
    {
     "data": {
      "text/plain": [
       "['3d', '13d', '9d', '10d', '3d', '19d', '5d', '10d', '4d', '9d']"
      ]
     },
     "execution_count": 169,
     "metadata": {},
     "output_type": "execute_result"
    }
   ],
   "source": [
    "# Extrating No of days since job was posted\n",
    "day=driver.find_elements_by_xpath(\"//div[@class='d-flex align-items-end pl-std css-mi55ob']\")\n",
    "days=[]\n",
    "for i in day:\n",
    "    days.append(i.text)\n",
    "days[:10]    "
   ]
  },
  {
   "cell_type": "code",
   "execution_count": 170,
   "id": "dc69bf2b",
   "metadata": {},
   "outputs": [
    {
     "data": {
      "text/plain": [
       "['4.2', '3.9', '4.1', '3.7', '', '3.7', '3.5', '3.7', '3.8', '4.1']"
      ]
     },
     "execution_count": 170,
     "metadata": {},
     "output_type": "execute_result"
    }
   ],
   "source": [
    "# Extracting Ratings\n",
    "rate=driver.find_elements_by_xpath(\"//div[@class='d-flex flex-column css-x75kgh e1rrn5ka3']\")\n",
    "rating=[]\n",
    "for i in rate:\n",
    "    if i.text is None:\n",
    "        rating.append('Not')\n",
    "    else:\n",
    "        rating.append(i.text)\n",
    "    \n",
    "\n",
    "    \n",
    "rating[:10]    \n",
    "    "
   ]
  },
  {
   "cell_type": "code",
   "execution_count": 171,
   "id": "1b6d785e",
   "metadata": {},
   "outputs": [
    {
     "data": {
      "text/html": [
       "<div>\n",
       "<style scoped>\n",
       "    .dataframe tbody tr th:only-of-type {\n",
       "        vertical-align: middle;\n",
       "    }\n",
       "\n",
       "    .dataframe tbody tr th {\n",
       "        vertical-align: top;\n",
       "    }\n",
       "\n",
       "    .dataframe thead th {\n",
       "        text-align: right;\n",
       "    }\n",
       "</style>\n",
       "<table border=\"1\" class=\"dataframe\">\n",
       "  <thead>\n",
       "    <tr style=\"text-align: right;\">\n",
       "      <th></th>\n",
       "      <th>Company</th>\n",
       "      <th>Days Since Job Posted</th>\n",
       "      <th>Ratings of the company</th>\n",
       "    </tr>\n",
       "  </thead>\n",
       "  <tbody>\n",
       "    <tr>\n",
       "      <th>0</th>\n",
       "      <td>Taboola</td>\n",
       "      <td>3d</td>\n",
       "      <td>4.2</td>\n",
       "    </tr>\n",
       "    <tr>\n",
       "      <th>1</th>\n",
       "      <td>Bechtel</td>\n",
       "      <td>13d</td>\n",
       "      <td>3.9</td>\n",
       "    </tr>\n",
       "    <tr>\n",
       "      <th>2</th>\n",
       "      <td>Knoldus Inc</td>\n",
       "      <td>9d</td>\n",
       "      <td>4.1</td>\n",
       "    </tr>\n",
       "    <tr>\n",
       "      <th>3</th>\n",
       "      <td>CRMNEXT</td>\n",
       "      <td>10d</td>\n",
       "      <td>3.7</td>\n",
       "    </tr>\n",
       "    <tr>\n",
       "      <th>4</th>\n",
       "      <td>Ginger Webs Pvt. Ltd.</td>\n",
       "      <td>3d</td>\n",
       "      <td></td>\n",
       "    </tr>\n",
       "    <tr>\n",
       "      <th>5</th>\n",
       "      <td>Biz2Credit Inc</td>\n",
       "      <td>19d</td>\n",
       "      <td>3.7</td>\n",
       "    </tr>\n",
       "    <tr>\n",
       "      <th>6</th>\n",
       "      <td>Lantern Digital Services</td>\n",
       "      <td>5d</td>\n",
       "      <td>3.5</td>\n",
       "    </tr>\n",
       "    <tr>\n",
       "      <th>7</th>\n",
       "      <td>Priority Vendor</td>\n",
       "      <td>10d</td>\n",
       "      <td>3.7</td>\n",
       "    </tr>\n",
       "    <tr>\n",
       "      <th>8</th>\n",
       "      <td>Genpact</td>\n",
       "      <td>4d</td>\n",
       "      <td>3.8</td>\n",
       "    </tr>\n",
       "    <tr>\n",
       "      <th>9</th>\n",
       "      <td>Ericsson</td>\n",
       "      <td>9d</td>\n",
       "      <td>4.1</td>\n",
       "    </tr>\n",
       "  </tbody>\n",
       "</table>\n",
       "</div>"
      ],
      "text/plain": [
       "                    Company Days Since Job Posted Ratings of the company\n",
       "0                   Taboola                    3d                    4.2\n",
       "1                   Bechtel                   13d                    3.9\n",
       "2               Knoldus Inc                    9d                    4.1\n",
       "3                   CRMNEXT                   10d                    3.7\n",
       "4     Ginger Webs Pvt. Ltd.                    3d                       \n",
       "5            Biz2Credit Inc                   19d                    3.7\n",
       "6  Lantern Digital Services                    5d                    3.5\n",
       "7           Priority Vendor                   10d                    3.7\n",
       "8                   Genpact                    4d                    3.8\n",
       "9                  Ericsson                    9d                    4.1"
      ]
     },
     "execution_count": 171,
     "metadata": {},
     "output_type": "execute_result"
    }
   ],
   "source": [
    "# Creating data frame\n",
    "jobs_data=pd.DataFrame({})\n",
    "jobs_data['Company']=companies\n",
    "jobs_data['Days Since Job Posted']=days\n",
    "jobs_data['Ratings of the company']=rating\n",
    "jobs_data[:10]"
   ]
  },
  {
   "cell_type": "code",
   "execution_count": null,
   "id": "e7575fcf",
   "metadata": {},
   "outputs": [],
   "source": []
  },
  {
   "cell_type": "code",
   "execution_count": null,
   "id": "1b1d937c",
   "metadata": {},
   "outputs": [],
   "source": []
  },
  {
   "cell_type": "markdown",
   "id": "473eeb95",
   "metadata": {},
   "source": [
    "# Q5) Write a python program to scrape the salary data for Data Scientist designation \n",
    "in Noida location.\n",
    "You have to scrape Company name, Number of salaries, Average salary, Min\n",
    "salary, Max Salary"
   ]
  },
  {
   "cell_type": "code",
   "execution_count": 105,
   "id": "1f58598f",
   "metadata": {},
   "outputs": [],
   "source": [
    "# connecting to the web driver\n",
    "driver=webdriver.Chrome('chromedriver.exe')"
   ]
  },
  {
   "cell_type": "code",
   "execution_count": 106,
   "id": "3dca6851",
   "metadata": {},
   "outputs": [],
   "source": [
    "url='https://www.glassdoor.co.in/Salaries/index.htm'\n",
    "driver.get(url)"
   ]
  },
  {
   "cell_type": "code",
   "execution_count": 107,
   "id": "db84c7e5",
   "metadata": {},
   "outputs": [],
   "source": [
    "#finding elements by job search bar and searching\n",
    "search_job=driver.find_element_by_id('KeywordSearch')\n",
    "search_job.send_keys('Data scientist')"
   ]
  },
  {
   "cell_type": "code",
   "execution_count": 108,
   "id": "8b5ba047",
   "metadata": {},
   "outputs": [],
   "source": [
    "# finding location by location search bar and searching\n",
    "loc=driver.find_element_by_id('LocationSearch')\n",
    "loc.send_keys('Noida')"
   ]
  },
  {
   "cell_type": "code",
   "execution_count": 109,
   "id": "a07ee9fd",
   "metadata": {},
   "outputs": [],
   "source": [
    "# clicking on search bar\n",
    "btn=driver.find_element_by_xpath(\"//button[@class='gd-btn-mkt']\")\n",
    "btn.click()"
   ]
  },
  {
   "cell_type": "code",
   "execution_count": null,
   "id": "48ad8f02",
   "metadata": {},
   "outputs": [],
   "source": []
  },
  {
   "cell_type": "code",
   "execution_count": 27,
   "id": "a243d691",
   "metadata": {},
   "outputs": [
    {
     "data": {
      "text/plain": [
       "[<selenium.webdriver.remote.webelement.WebElement (session=\"4faef41cc12ced45200f2aa4da34a82e\", element=\"fdae7de3-f0c6-4b85-911b-a901b1d2742f\")>,\n",
       " <selenium.webdriver.remote.webelement.WebElement (session=\"4faef41cc12ced45200f2aa4da34a82e\", element=\"322f6ede-cb11-437d-a65a-00943e9a8128\")>,\n",
       " <selenium.webdriver.remote.webelement.WebElement (session=\"4faef41cc12ced45200f2aa4da34a82e\", element=\"2e1b5185-e136-44e4-9eff-3d3f0e0fbac0\")>,\n",
       " <selenium.webdriver.remote.webelement.WebElement (session=\"4faef41cc12ced45200f2aa4da34a82e\", element=\"d0c7834a-4679-43b9-9cfb-4ef94254f95f\")>,\n",
       " <selenium.webdriver.remote.webelement.WebElement (session=\"4faef41cc12ced45200f2aa4da34a82e\", element=\"c69bf8fe-f8ec-472b-8a44-0f3d619c79a8\")>,\n",
       " <selenium.webdriver.remote.webelement.WebElement (session=\"4faef41cc12ced45200f2aa4da34a82e\", element=\"e41741c6-2cc8-4f6b-bbfe-b794ff2226d3\")>,\n",
       " <selenium.webdriver.remote.webelement.WebElement (session=\"4faef41cc12ced45200f2aa4da34a82e\", element=\"eb4ac660-273a-497c-a10d-52431496448a\")>,\n",
       " <selenium.webdriver.remote.webelement.WebElement (session=\"4faef41cc12ced45200f2aa4da34a82e\", element=\"09f0a216-470c-4ccc-abec-d942fdc1511b\")>,\n",
       " <selenium.webdriver.remote.webelement.WebElement (session=\"4faef41cc12ced45200f2aa4da34a82e\", element=\"8ab860b3-edf6-4378-bf0a-e48e467346a3\")>,\n",
       " <selenium.webdriver.remote.webelement.WebElement (session=\"4faef41cc12ced45200f2aa4da34a82e\", element=\"77e6f7de-64de-4b05-8c8f-67245f5865bd\")>,\n",
       " <selenium.webdriver.remote.webelement.WebElement (session=\"4faef41cc12ced45200f2aa4da34a82e\", element=\"c5b4dc6b-523a-449b-bead-018875db2c06\")>,\n",
       " <selenium.webdriver.remote.webelement.WebElement (session=\"4faef41cc12ced45200f2aa4da34a82e\", element=\"c96d316f-0ab2-401a-a5e6-ad5f753d2081\")>,\n",
       " <selenium.webdriver.remote.webelement.WebElement (session=\"4faef41cc12ced45200f2aa4da34a82e\", element=\"41f976b4-8dae-4ce2-8065-8a55db4629f9\")>,\n",
       " <selenium.webdriver.remote.webelement.WebElement (session=\"4faef41cc12ced45200f2aa4da34a82e\", element=\"da09a268-5dfb-4af1-b20e-cacbb0edfb4a\")>,\n",
       " <selenium.webdriver.remote.webelement.WebElement (session=\"4faef41cc12ced45200f2aa4da34a82e\", element=\"ee4962fe-3e4b-4041-92d8-ac8e4315fc65\")>,\n",
       " <selenium.webdriver.remote.webelement.WebElement (session=\"4faef41cc12ced45200f2aa4da34a82e\", element=\"c6095634-f20f-4317-adaf-add5a2a708e2\")>,\n",
       " <selenium.webdriver.remote.webelement.WebElement (session=\"4faef41cc12ced45200f2aa4da34a82e\", element=\"cf1105ad-1057-40bb-a82a-a8a2719fb9e8\")>,\n",
       " <selenium.webdriver.remote.webelement.WebElement (session=\"4faef41cc12ced45200f2aa4da34a82e\", element=\"7fcc9e83-e613-498f-9f40-fe5f754e02e9\")>,\n",
       " <selenium.webdriver.remote.webelement.WebElement (session=\"4faef41cc12ced45200f2aa4da34a82e\", element=\"2b086065-4c86-47c8-af40-7a5e7b2c9171\")>,\n",
       " <selenium.webdriver.remote.webelement.WebElement (session=\"4faef41cc12ced45200f2aa4da34a82e\", element=\"42e8d751-3cd4-48df-a60e-29d1fc7e36da\")>]"
      ]
     },
     "execution_count": 27,
     "metadata": {},
     "output_type": "execute_result"
    }
   ],
   "source": [
    "# Extracting tags having company name\n",
    "company=driver.find_elements_by_xpath(\"//p[@class='m-0 ']\")\n",
    "company"
   ]
  },
  {
   "cell_type": "code",
   "execution_count": 28,
   "id": "1ba0e038",
   "metadata": {},
   "outputs": [
    {
     "data": {
      "text/plain": [
       "['Tata Consultancy Services',\n",
       " 'IBM',\n",
       " 'Accenture',\n",
       " 'Ericsson-Worldwide',\n",
       " 'Delhivery',\n",
       " 'UnitedHealth Group',\n",
       " 'Optum Global Solutions',\n",
       " 'Valiance Solutions',\n",
       " 'ZS Associates',\n",
       " 'EXL Service']"
      ]
     },
     "execution_count": 28,
     "metadata": {},
     "output_type": "execute_result"
    }
   ],
   "source": [
    "# Extracting company names from tags\n",
    "companies=[]\n",
    "for i in company:\n",
    "    companies.append(i.text)\n",
    "companies[:10]    \n",
    "    "
   ]
  },
  {
   "cell_type": "code",
   "execution_count": null,
   "id": "6f2410a2",
   "metadata": {},
   "outputs": [],
   "source": []
  },
  {
   "cell_type": "code",
   "execution_count": 43,
   "id": "e749a5ea",
   "metadata": {
    "scrolled": true
   },
   "outputs": [
    {
     "data": {
      "text/plain": [
       "[<selenium.webdriver.remote.webelement.WebElement (session=\"4faef41cc12ced45200f2aa4da34a82e\", element=\"00bed6cd-00cc-40cb-b26b-137553c9749c\")>,\n",
       " <selenium.webdriver.remote.webelement.WebElement (session=\"4faef41cc12ced45200f2aa4da34a82e\", element=\"6f26e621-1fb2-4eac-87e6-834c070c405d\")>,\n",
       " <selenium.webdriver.remote.webelement.WebElement (session=\"4faef41cc12ced45200f2aa4da34a82e\", element=\"35158164-ffee-4232-a8ed-6b806727f937\")>,\n",
       " <selenium.webdriver.remote.webelement.WebElement (session=\"4faef41cc12ced45200f2aa4da34a82e\", element=\"3f8333db-565b-4241-a640-bc7b70df7c4f\")>,\n",
       " <selenium.webdriver.remote.webelement.WebElement (session=\"4faef41cc12ced45200f2aa4da34a82e\", element=\"cf5ef099-e35f-4382-a46a-3e4c23dbe9c4\")>,\n",
       " <selenium.webdriver.remote.webelement.WebElement (session=\"4faef41cc12ced45200f2aa4da34a82e\", element=\"c554491d-0629-4ff3-a074-d688017c1db0\")>,\n",
       " <selenium.webdriver.remote.webelement.WebElement (session=\"4faef41cc12ced45200f2aa4da34a82e\", element=\"52af0817-6ce5-4723-b9e5-55afbdbfd650\")>,\n",
       " <selenium.webdriver.remote.webelement.WebElement (session=\"4faef41cc12ced45200f2aa4da34a82e\", element=\"2442e935-6c66-44fe-9c2c-fd193cb97637\")>,\n",
       " <selenium.webdriver.remote.webelement.WebElement (session=\"4faef41cc12ced45200f2aa4da34a82e\", element=\"bfbcbfa2-22e7-4709-a9bb-8f4aca3aa8f2\")>,\n",
       " <selenium.webdriver.remote.webelement.WebElement (session=\"4faef41cc12ced45200f2aa4da34a82e\", element=\"e2f7616f-c05c-41d7-9b5f-c9efd7649b7a\")>,\n",
       " <selenium.webdriver.remote.webelement.WebElement (session=\"4faef41cc12ced45200f2aa4da34a82e\", element=\"6101418f-dce6-444a-8d0b-acbaacd7b414\")>,\n",
       " <selenium.webdriver.remote.webelement.WebElement (session=\"4faef41cc12ced45200f2aa4da34a82e\", element=\"89258b50-0776-4964-ba0d-cdf02cc883a8\")>,\n",
       " <selenium.webdriver.remote.webelement.WebElement (session=\"4faef41cc12ced45200f2aa4da34a82e\", element=\"e5b0caf6-2174-435a-a2bc-110ae24ad44f\")>,\n",
       " <selenium.webdriver.remote.webelement.WebElement (session=\"4faef41cc12ced45200f2aa4da34a82e\", element=\"84751a1d-0918-460a-b4e6-b7cee0195da0\")>,\n",
       " <selenium.webdriver.remote.webelement.WebElement (session=\"4faef41cc12ced45200f2aa4da34a82e\", element=\"1d431a9f-05a3-4bee-b46c-67b91758a058\")>,\n",
       " <selenium.webdriver.remote.webelement.WebElement (session=\"4faef41cc12ced45200f2aa4da34a82e\", element=\"447f7e4d-ff68-46f4-a32e-ba7dd83ebe89\")>,\n",
       " <selenium.webdriver.remote.webelement.WebElement (session=\"4faef41cc12ced45200f2aa4da34a82e\", element=\"1a35c7d4-ccf7-489a-9443-8c5f19b41e0f\")>,\n",
       " <selenium.webdriver.remote.webelement.WebElement (session=\"4faef41cc12ced45200f2aa4da34a82e\", element=\"67875f35-2021-45cd-a47f-1257fd9cb11d\")>,\n",
       " <selenium.webdriver.remote.webelement.WebElement (session=\"4faef41cc12ced45200f2aa4da34a82e\", element=\"13b6e36a-267f-4077-8cb7-de545a11aff0\")>,\n",
       " <selenium.webdriver.remote.webelement.WebElement (session=\"4faef41cc12ced45200f2aa4da34a82e\", element=\"4d16b6fa-6f3d-4723-bf87-56531e198525\")>]"
      ]
     },
     "execution_count": 43,
     "metadata": {},
     "output_type": "execute_result"
    }
   ],
   "source": [
    "#Extracting tags having Average Salary\n",
    "salary=driver.find_elements_by_xpath(\"//div[@class='col-2 d-none d-md-flex flex-row justify-content-end']\")\n",
    "salary"
   ]
  },
  {
   "cell_type": "code",
   "execution_count": 61,
   "id": "3992595c",
   "metadata": {},
   "outputs": [
    {
     "data": {
      "text/plain": [
       "['₹ 6,14,306/yr',\n",
       " '₹ 9,00,000/yr',\n",
       " '₹ 11,46,533/yr',\n",
       " '₹ 7,38,057/yr',\n",
       " '₹ 12,39,781/yr',\n",
       " '₹ 13,36,142/yr',\n",
       " '₹ 13,26,575/yr',\n",
       " '₹ 8,15,192/yr',\n",
       " '₹ 11,35,221/yr',\n",
       " '₹ 11,44,243/yr']"
      ]
     },
     "execution_count": 61,
     "metadata": {},
     "output_type": "execute_result"
    }
   ],
   "source": [
    "# Extracting Average salary from tags\n",
    "avg=[]\n",
    "for i in salary:\n",
    "    avg.append(i.text.replace('\\n',''))\n",
    "avg[:10]    "
   ]
  },
  {
   "cell_type": "code",
   "execution_count": null,
   "id": "3cf45fd4",
   "metadata": {},
   "outputs": [],
   "source": []
  },
  {
   "cell_type": "code",
   "execution_count": 72,
   "id": "ab86e0c1",
   "metadata": {},
   "outputs": [
    {
     "data": {
      "text/plain": [
       "[<selenium.webdriver.remote.webelement.WebElement (session=\"4faef41cc12ced45200f2aa4da34a82e\", element=\"6d96f6dd-cc96-48b0-88f0-8f724565f59d\")>,\n",
       " <selenium.webdriver.remote.webelement.WebElement (session=\"4faef41cc12ced45200f2aa4da34a82e\", element=\"10290a85-9cdf-4dd7-9148-3d6532879cde\")>,\n",
       " <selenium.webdriver.remote.webelement.WebElement (session=\"4faef41cc12ced45200f2aa4da34a82e\", element=\"ee42cb7f-166a-47f3-8229-9c9739d6a0ac\")>,\n",
       " <selenium.webdriver.remote.webelement.WebElement (session=\"4faef41cc12ced45200f2aa4da34a82e\", element=\"e9aab8c9-7284-4e3d-9716-ca3b9e748085\")>,\n",
       " <selenium.webdriver.remote.webelement.WebElement (session=\"4faef41cc12ced45200f2aa4da34a82e\", element=\"2190094a-5a12-481b-aaae-8d47f63ab67c\")>,\n",
       " <selenium.webdriver.remote.webelement.WebElement (session=\"4faef41cc12ced45200f2aa4da34a82e\", element=\"bf2b0c5e-b95c-4e5b-a280-0ae2ab7bb253\")>,\n",
       " <selenium.webdriver.remote.webelement.WebElement (session=\"4faef41cc12ced45200f2aa4da34a82e\", element=\"b412ef52-ebdb-49fb-a346-2c70e70bbce3\")>,\n",
       " <selenium.webdriver.remote.webelement.WebElement (session=\"4faef41cc12ced45200f2aa4da34a82e\", element=\"d0d63914-a312-4347-9b7f-0ee480745f49\")>,\n",
       " <selenium.webdriver.remote.webelement.WebElement (session=\"4faef41cc12ced45200f2aa4da34a82e\", element=\"39bc7e4b-7fbb-4690-9839-6b27e7531779\")>,\n",
       " <selenium.webdriver.remote.webelement.WebElement (session=\"4faef41cc12ced45200f2aa4da34a82e\", element=\"dda94e71-c606-4393-9b3f-489fcc5850f8\")>,\n",
       " <selenium.webdriver.remote.webelement.WebElement (session=\"4faef41cc12ced45200f2aa4da34a82e\", element=\"820e87cf-c458-4c55-90b9-ff871b1a05d4\")>,\n",
       " <selenium.webdriver.remote.webelement.WebElement (session=\"4faef41cc12ced45200f2aa4da34a82e\", element=\"1487c60d-33a5-4374-88fe-17c896e9b7ab\")>,\n",
       " <selenium.webdriver.remote.webelement.WebElement (session=\"4faef41cc12ced45200f2aa4da34a82e\", element=\"70d9fbab-6aec-4665-83ce-de8b44e357f9\")>,\n",
       " <selenium.webdriver.remote.webelement.WebElement (session=\"4faef41cc12ced45200f2aa4da34a82e\", element=\"c8ebcb30-9c61-420f-833f-a4edb1b2cff7\")>,\n",
       " <selenium.webdriver.remote.webelement.WebElement (session=\"4faef41cc12ced45200f2aa4da34a82e\", element=\"e253de62-b2fe-42c0-a872-1d61309d0a8c\")>,\n",
       " <selenium.webdriver.remote.webelement.WebElement (session=\"4faef41cc12ced45200f2aa4da34a82e\", element=\"bb17ba9a-e037-47e3-9611-3be5e718a2f5\")>,\n",
       " <selenium.webdriver.remote.webelement.WebElement (session=\"4faef41cc12ced45200f2aa4da34a82e\", element=\"173e1c97-4ecb-412f-96df-238f2f50bf14\")>,\n",
       " <selenium.webdriver.remote.webelement.WebElement (session=\"4faef41cc12ced45200f2aa4da34a82e\", element=\"771ca2de-0ee4-4397-84b9-de728fc3603e\")>,\n",
       " <selenium.webdriver.remote.webelement.WebElement (session=\"4faef41cc12ced45200f2aa4da34a82e\", element=\"f698f271-85c4-4e1f-85ad-e6325a4aadbc\")>,\n",
       " <selenium.webdriver.remote.webelement.WebElement (session=\"4faef41cc12ced45200f2aa4da34a82e\", element=\"ff910f38-1625-427a-8ec9-3f107c235840\")>]"
      ]
     },
     "execution_count": 72,
     "metadata": {},
     "output_type": "execute_result"
    }
   ],
   "source": [
    "# Extracting tags having minimum and maximum  salary\n",
    "min_max=driver.find_elements_by_xpath(\"//div[@class='common__RangeBarStyle__rangeBar undefined undefined ']\")\n",
    "                                      \n",
    "min_max"
   ]
  },
  {
   "cell_type": "code",
   "execution_count": 74,
   "id": "72ffe8f0",
   "metadata": {},
   "outputs": [
    {
     "data": {
      "text/plain": [
       "['₹343K    ₹1,250K',\n",
       " '₹586K    ₹2,730K',\n",
       " '₹577K    ₹2,213K',\n",
       " '₹355K    ₹1,613K',\n",
       " '₹450K    ₹11,622K',\n",
       " '₹1,069K    ₹1,520K',\n",
       " '₹350K    ₹2,149K',\n",
       " '₹502K    ₹1,465K',\n",
       " '₹202K    ₹1,809K',\n",
       " '₹575K    ₹1,520K']"
      ]
     },
     "execution_count": 74,
     "metadata": {},
     "output_type": "execute_result"
    }
   ],
   "source": [
    "# Extracting minimum and maximu salary from tags\n",
    "salary=[]\n",
    "for i in min_max:\n",
    "    salary.append(i.text.replace('\\n','    '))\n",
    "salary[:10]    \n",
    "    "
   ]
  },
  {
   "cell_type": "code",
   "execution_count": null,
   "id": "9e8d9309",
   "metadata": {},
   "outputs": [],
   "source": []
  },
  {
   "cell_type": "code",
   "execution_count": 110,
   "id": "226be0d5",
   "metadata": {},
   "outputs": [
    {
     "data": {
      "text/plain": [
       "[<selenium.webdriver.remote.webelement.WebElement (session=\"8bfe7286ac99679f90622407433ea58a\", element=\"77617dfe-822e-4b68-a9c2-a313fad2c94e\")>,\n",
       " <selenium.webdriver.remote.webelement.WebElement (session=\"8bfe7286ac99679f90622407433ea58a\", element=\"877a798a-36ba-43f9-b585-43ae48a79193\")>,\n",
       " <selenium.webdriver.remote.webelement.WebElement (session=\"8bfe7286ac99679f90622407433ea58a\", element=\"6444a790-e461-4ec9-8c90-997fa3feaacb\")>,\n",
       " <selenium.webdriver.remote.webelement.WebElement (session=\"8bfe7286ac99679f90622407433ea58a\", element=\"4a6a01d9-485d-4949-a138-ebb10c0d3ed3\")>,\n",
       " <selenium.webdriver.remote.webelement.WebElement (session=\"8bfe7286ac99679f90622407433ea58a\", element=\"e06a30ae-7f5b-4666-a6fc-b80e696ae029\")>,\n",
       " <selenium.webdriver.remote.webelement.WebElement (session=\"8bfe7286ac99679f90622407433ea58a\", element=\"63d40ea8-101e-4ac9-a1f7-1d7d512885cf\")>,\n",
       " <selenium.webdriver.remote.webelement.WebElement (session=\"8bfe7286ac99679f90622407433ea58a\", element=\"5418abbf-2a9d-4f7c-9965-c615da6b87d9\")>,\n",
       " <selenium.webdriver.remote.webelement.WebElement (session=\"8bfe7286ac99679f90622407433ea58a\", element=\"51d7e4cf-1bcc-4a6a-90a2-c31993ce6a42\")>,\n",
       " <selenium.webdriver.remote.webelement.WebElement (session=\"8bfe7286ac99679f90622407433ea58a\", element=\"a37a2183-fd4b-4312-a8e5-57de0eab7aae\")>,\n",
       " <selenium.webdriver.remote.webelement.WebElement (session=\"8bfe7286ac99679f90622407433ea58a\", element=\"67303a0f-76fd-4c58-a27e-072e68cd0e92\")>,\n",
       " <selenium.webdriver.remote.webelement.WebElement (session=\"8bfe7286ac99679f90622407433ea58a\", element=\"be874bb7-d072-4230-a611-feb54f010928\")>,\n",
       " <selenium.webdriver.remote.webelement.WebElement (session=\"8bfe7286ac99679f90622407433ea58a\", element=\"cf5c84f8-a76a-4fbf-97c6-e313dfd07bd2\")>,\n",
       " <selenium.webdriver.remote.webelement.WebElement (session=\"8bfe7286ac99679f90622407433ea58a\", element=\"f336dc94-def7-4e08-937b-44cb44481c63\")>,\n",
       " <selenium.webdriver.remote.webelement.WebElement (session=\"8bfe7286ac99679f90622407433ea58a\", element=\"7c0dc457-cce1-4058-8674-16e6496538dd\")>,\n",
       " <selenium.webdriver.remote.webelement.WebElement (session=\"8bfe7286ac99679f90622407433ea58a\", element=\"52eed411-6f6a-4957-bd86-9eb0ac96aa93\")>,\n",
       " <selenium.webdriver.remote.webelement.WebElement (session=\"8bfe7286ac99679f90622407433ea58a\", element=\"af6fb930-0fc7-48d0-99b8-bec5dd854166\")>,\n",
       " <selenium.webdriver.remote.webelement.WebElement (session=\"8bfe7286ac99679f90622407433ea58a\", element=\"d2496600-a3bc-4e08-b4da-7227e22465a3\")>,\n",
       " <selenium.webdriver.remote.webelement.WebElement (session=\"8bfe7286ac99679f90622407433ea58a\", element=\"cd722d7a-bcaa-487f-b322-339624ac061c\")>,\n",
       " <selenium.webdriver.remote.webelement.WebElement (session=\"8bfe7286ac99679f90622407433ea58a\", element=\"0022a3fd-e2ee-4577-be6d-3c455c08e5e1\")>,\n",
       " <selenium.webdriver.remote.webelement.WebElement (session=\"8bfe7286ac99679f90622407433ea58a\", element=\"3a6640f2-e179-4b2b-ade3-43c9aed74c61\")>]"
      ]
     },
     "execution_count": 110,
     "metadata": {},
     "output_type": "execute_result"
    }
   ],
   "source": [
    "# Extracting tags having ratings\n",
    "rate=driver.find_elements_by_xpath(\"//div[@class='d-flex align-items-center mt-xxsm']\")\n",
    "rate"
   ]
  },
  {
   "cell_type": "code",
   "execution_count": 114,
   "id": "ce30b197",
   "metadata": {},
   "outputs": [
    {
     "data": {
      "text/plain": [
       "['3.9★', '3.9★', '4★', '4★', '3.8★', '3.6★', '3.9★', '4.1★', '4★', '3.6★']"
      ]
     },
     "execution_count": 114,
     "metadata": {},
     "output_type": "execute_result"
    }
   ],
   "source": [
    "# Extracting Number of salaries from tags\n",
    "rating=[]\n",
    "for i in rate:\n",
    "    rating.append(i.text.replace('\\n',''))\n",
    "rating[:10]    "
   ]
  },
  {
   "cell_type": "code",
   "execution_count": null,
   "id": "24feaec0",
   "metadata": {},
   "outputs": [],
   "source": []
  },
  {
   "cell_type": "code",
   "execution_count": 115,
   "id": "1e7ad3a9",
   "metadata": {},
   "outputs": [
    {
     "data": {
      "text/html": [
       "<div>\n",
       "<style scoped>\n",
       "    .dataframe tbody tr th:only-of-type {\n",
       "        vertical-align: middle;\n",
       "    }\n",
       "\n",
       "    .dataframe tbody tr th {\n",
       "        vertical-align: top;\n",
       "    }\n",
       "\n",
       "    .dataframe thead th {\n",
       "        text-align: right;\n",
       "    }\n",
       "</style>\n",
       "<table border=\"1\" class=\"dataframe\">\n",
       "  <thead>\n",
       "    <tr style=\"text-align: right;\">\n",
       "      <th></th>\n",
       "      <th>Company</th>\n",
       "      <th>Average Salary in a year</th>\n",
       "      <th>Minimum and Maximum Salary</th>\n",
       "      <th>Ratings Of the companies</th>\n",
       "    </tr>\n",
       "  </thead>\n",
       "  <tbody>\n",
       "    <tr>\n",
       "      <th>0</th>\n",
       "      <td>Tata Consultancy Services</td>\n",
       "      <td>₹ 6,14,306/yr</td>\n",
       "      <td>₹343K    ₹1,250K</td>\n",
       "      <td>3.9★</td>\n",
       "    </tr>\n",
       "    <tr>\n",
       "      <th>1</th>\n",
       "      <td>IBM</td>\n",
       "      <td>₹ 9,00,000/yr</td>\n",
       "      <td>₹586K    ₹2,730K</td>\n",
       "      <td>3.9★</td>\n",
       "    </tr>\n",
       "    <tr>\n",
       "      <th>2</th>\n",
       "      <td>Accenture</td>\n",
       "      <td>₹ 11,46,533/yr</td>\n",
       "      <td>₹577K    ₹2,213K</td>\n",
       "      <td>4★</td>\n",
       "    </tr>\n",
       "    <tr>\n",
       "      <th>3</th>\n",
       "      <td>Ericsson-Worldwide</td>\n",
       "      <td>₹ 7,38,057/yr</td>\n",
       "      <td>₹355K    ₹1,613K</td>\n",
       "      <td>4★</td>\n",
       "    </tr>\n",
       "    <tr>\n",
       "      <th>4</th>\n",
       "      <td>Delhivery</td>\n",
       "      <td>₹ 12,39,781/yr</td>\n",
       "      <td>₹450K    ₹11,622K</td>\n",
       "      <td>3.8★</td>\n",
       "    </tr>\n",
       "    <tr>\n",
       "      <th>5</th>\n",
       "      <td>UnitedHealth Group</td>\n",
       "      <td>₹ 13,36,142/yr</td>\n",
       "      <td>₹1,069K    ₹1,520K</td>\n",
       "      <td>3.6★</td>\n",
       "    </tr>\n",
       "    <tr>\n",
       "      <th>6</th>\n",
       "      <td>Optum Global Solutions</td>\n",
       "      <td>₹ 13,26,575/yr</td>\n",
       "      <td>₹350K    ₹2,149K</td>\n",
       "      <td>3.9★</td>\n",
       "    </tr>\n",
       "    <tr>\n",
       "      <th>7</th>\n",
       "      <td>Valiance Solutions</td>\n",
       "      <td>₹ 8,15,192/yr</td>\n",
       "      <td>₹502K    ₹1,465K</td>\n",
       "      <td>4.1★</td>\n",
       "    </tr>\n",
       "    <tr>\n",
       "      <th>8</th>\n",
       "      <td>ZS Associates</td>\n",
       "      <td>₹ 11,35,221/yr</td>\n",
       "      <td>₹202K    ₹1,809K</td>\n",
       "      <td>4★</td>\n",
       "    </tr>\n",
       "    <tr>\n",
       "      <th>9</th>\n",
       "      <td>EXL Service</td>\n",
       "      <td>₹ 11,44,243/yr</td>\n",
       "      <td>₹575K    ₹1,520K</td>\n",
       "      <td>3.6★</td>\n",
       "    </tr>\n",
       "  </tbody>\n",
       "</table>\n",
       "</div>"
      ],
      "text/plain": [
       "                     Company Average Salary in a year  \\\n",
       "0  Tata Consultancy Services            ₹ 6,14,306/yr   \n",
       "1                        IBM            ₹ 9,00,000/yr   \n",
       "2                  Accenture           ₹ 11,46,533/yr   \n",
       "3         Ericsson-Worldwide            ₹ 7,38,057/yr   \n",
       "4                  Delhivery           ₹ 12,39,781/yr   \n",
       "5         UnitedHealth Group           ₹ 13,36,142/yr   \n",
       "6     Optum Global Solutions           ₹ 13,26,575/yr   \n",
       "7         Valiance Solutions            ₹ 8,15,192/yr   \n",
       "8              ZS Associates           ₹ 11,35,221/yr   \n",
       "9                EXL Service           ₹ 11,44,243/yr   \n",
       "\n",
       "  Minimum and Maximum Salary Ratings Of the companies  \n",
       "0           ₹343K    ₹1,250K                     3.9★  \n",
       "1           ₹586K    ₹2,730K                     3.9★  \n",
       "2           ₹577K    ₹2,213K                       4★  \n",
       "3           ₹355K    ₹1,613K                       4★  \n",
       "4          ₹450K    ₹11,622K                     3.8★  \n",
       "5         ₹1,069K    ₹1,520K                     3.6★  \n",
       "6           ₹350K    ₹2,149K                     3.9★  \n",
       "7           ₹502K    ₹1,465K                     4.1★  \n",
       "8           ₹202K    ₹1,809K                       4★  \n",
       "9           ₹575K    ₹1,520K                     3.6★  "
      ]
     },
     "execution_count": 115,
     "metadata": {},
     "output_type": "execute_result"
    }
   ],
   "source": [
    "#Creating Data Framd\n",
    "jobs=pd.DataFrame({})\n",
    "jobs['Company']=companies\n",
    "jobs['Average Salary in a year']=avg\n",
    "jobs['Minimum and Maximum Salary']=salary\n",
    "jobs['Ratings Of the companies']=rating\n",
    "jobs[:10]"
   ]
  },
  {
   "cell_type": "markdown",
   "id": "76668a3c",
   "metadata": {},
   "source": [
    "Data of the companies having average , minimum and maximum salary with ratings."
   ]
  },
  {
   "cell_type": "code",
   "execution_count": null,
   "id": "3c8f177c",
   "metadata": {},
   "outputs": [],
   "source": []
  },
  {
   "cell_type": "code",
   "execution_count": null,
   "id": "974a2943",
   "metadata": {},
   "outputs": [],
   "source": []
  },
  {
   "cell_type": "markdown",
   "id": "205ef971",
   "metadata": {},
   "source": [
    "# Q6) Scrape data of first 100 sunglasses listings on flipkart.com. You have to \n",
    "scrape four attributes:\n",
    "1. Brand\n",
    "2. Product Description\n",
    "3. Price\n",
    "4. Discount %"
   ]
  },
  {
   "cell_type": "code",
   "execution_count": 26,
   "id": "07529678",
   "metadata": {},
   "outputs": [],
   "source": [
    "url='https://www.flipkart.com/'\n",
    "driver.get(url)"
   ]
  },
  {
   "cell_type": "code",
   "execution_count": 27,
   "id": "949c878c",
   "metadata": {},
   "outputs": [],
   "source": [
    "# finding elements for sunglasses and searching\n",
    "sun_g = driver.find_element_by_xpath(\"//input[@class='_3704LK']\")\n",
    "\n",
    "sun_g.send_keys('Sunglasses')"
   ]
  },
  {
   "cell_type": "code",
   "execution_count": 29,
   "id": "f5478630",
   "metadata": {},
   "outputs": [],
   "source": [
    "# clicking on search bar\n",
    "search_btn = driver.find_element_by_xpath(\"//button[@class='L0Z3Pu']\")\n",
    "\n",
    "search_btn.click()"
   ]
  },
  {
   "cell_type": "code",
   "execution_count": 56,
   "id": "4f393322",
   "metadata": {},
   "outputs": [],
   "source": [
    "import time"
   ]
  },
  {
   "cell_type": "code",
   "execution_count": 33,
   "id": "9b2171f8",
   "metadata": {},
   "outputs": [],
   "source": [
    "# Extracting brand\n",
    "while(True):\n",
    "    time.sleep(2)\n",
    "\n",
    "    \n",
    "titles_tags=driver.find_elements_by_xpath(\"//div[@class='_2WkVRV']\")\n",
    "brands=[]\n",
    "for i in titles_tags:\n",
    "     if(len(brands)<100>)\n",
    "        brands.append(i.text)\n",
    "    else:\n",
    "        break\n",
    "        \n",
    "           "
   ]
  },
  {
   "cell_type": "code",
   "execution_count": 38,
   "id": "6fe92109",
   "metadata": {},
   "outputs": [],
   "source": [
    "# extracting discription\n",
    "while(True):\n",
    "    time.sleep(2)\n",
    "disc = driver.find_elements_by_xpath(\"//a[@class='IRpwTa']\")\n",
    "discription=[]\n",
    "for i in disc:\n",
    "     if(len(discription)<100>)\n",
    "        discription.append(i.text)\n",
    "    else:\n",
    "        break\n",
    "        \n",
    "           "
   ]
  },
  {
   "cell_type": "code",
   "execution_count": 41,
   "id": "64e76777",
   "metadata": {},
   "outputs": [],
   "source": [
    "# Extracting Price\n",
    "while(True):\n",
    "    time.sleep(2)\n",
    "price = driver.find_elements_by_xpath(\"//div[@class='_30jeq3']\")\n",
    "prod_price=[]\n",
    "for i in price[:40]:\n",
    "    if(len(prod_price)<100>)\n",
    "       prod_price.append(i.text)\n",
    "\n",
    "    else:\n",
    "        break\n",
    "        \n",
    "      \n",
    "        "
   ]
  },
  {
   "cell_type": "code",
   "execution_count": 43,
   "id": "c851a322",
   "metadata": {},
   "outputs": [],
   "source": [
    "# Extracting Discount%\n",
    "while(True):\n",
    "    time.sleep(2)\n",
    "discount = driver.find_elements_by_xpath(\"//div[@class='_3Ay6Sb']\")\n",
    "disco=[]\n",
    " for i in discount[:40]:\n",
    "        if(len(disco)<100>)\n",
    "          disco.append(i.text)\n",
    "        else:\n",
    "            break\n",
    "           \n",
    "         if(len(n)>=100):\n",
    "            break\n",
    "        \n",
    "\n",
    "            \n",
    "    \n",
    "\n"
   ]
  },
  {
   "cell_type": "code",
   "execution_count": null,
   "id": "d5f1b26b",
   "metadata": {},
   "outputs": [],
   "source": [
    "driver.find_element_by_xpath(\"//a[@class='_1LKTO3']\").click()"
   ]
  },
  {
   "cell_type": "code",
   "execution_count": 51,
   "id": "eb339e3a",
   "metadata": {},
   "outputs": [],
   "source": [
    "# Creating data frame\n",
    "sunglasses=pd.DataFrame({})\n",
    "sunglasses['Comapny']=brands\n",
    "sunglasses['Product Discription']=discription\n",
    "sunglasses['Price']=prod_price\n",
    "sunglasses['Discount %']=disco"
   ]
  },
  {
   "cell_type": "code",
   "execution_count": 54,
   "id": "7d68ddfc",
   "metadata": {},
   "outputs": [
    {
     "data": {
      "text/html": [
       "<div>\n",
       "<style scoped>\n",
       "    .dataframe tbody tr th:only-of-type {\n",
       "        vertical-align: middle;\n",
       "    }\n",
       "\n",
       "    .dataframe tbody tr th {\n",
       "        vertical-align: top;\n",
       "    }\n",
       "\n",
       "    .dataframe thead th {\n",
       "        text-align: right;\n",
       "    }\n",
       "</style>\n",
       "<table border=\"1\" class=\"dataframe\">\n",
       "  <thead>\n",
       "    <tr style=\"text-align: right;\">\n",
       "      <th></th>\n",
       "      <th>Comapny</th>\n",
       "      <th>Product Discription</th>\n",
       "      <th>Price</th>\n",
       "      <th>Discount %</th>\n",
       "    </tr>\n",
       "  </thead>\n",
       "  <tbody>\n",
       "    <tr>\n",
       "      <th>0</th>\n",
       "      <td>ROYAL SON</td>\n",
       "      <td>UV Protection Retro Square Sunglasses (88)</td>\n",
       "      <td>₹479</td>\n",
       "      <td>76% off</td>\n",
       "    </tr>\n",
       "    <tr>\n",
       "      <th>1</th>\n",
       "      <td>ROZZETTA CRAFT</td>\n",
       "      <td>UV Protection, Gradient Round Sunglasses (Free...</td>\n",
       "      <td>₹426</td>\n",
       "      <td>88% off</td>\n",
       "    </tr>\n",
       "    <tr>\n",
       "      <th>2</th>\n",
       "      <td>PIRASO</td>\n",
       "      <td>UV Protection Aviator Sunglasses (54)</td>\n",
       "      <td>₹237</td>\n",
       "      <td>85% off</td>\n",
       "    </tr>\n",
       "    <tr>\n",
       "      <th>3</th>\n",
       "      <td>Fastrack</td>\n",
       "      <td>UV Protection Rectangular Sunglasses (Free Size)</td>\n",
       "      <td>₹541</td>\n",
       "      <td>32% off</td>\n",
       "    </tr>\n",
       "    <tr>\n",
       "      <th>4</th>\n",
       "      <td>PIRASO</td>\n",
       "      <td>UV Protection Aviator Sunglasses (54)</td>\n",
       "      <td>₹237</td>\n",
       "      <td>85% off</td>\n",
       "    </tr>\n",
       "    <tr>\n",
       "      <th>5</th>\n",
       "      <td>PIRASO</td>\n",
       "      <td>UV Protection Aviator Sunglasses (54)</td>\n",
       "      <td>₹237</td>\n",
       "      <td>85% off</td>\n",
       "    </tr>\n",
       "    <tr>\n",
       "      <th>6</th>\n",
       "      <td>Fastrack</td>\n",
       "      <td>Gradient, UV Protection Wayfarer Sunglasses (F...</td>\n",
       "      <td>₹509</td>\n",
       "      <td>36% off</td>\n",
       "    </tr>\n",
       "    <tr>\n",
       "      <th>7</th>\n",
       "      <td>NuVew</td>\n",
       "      <td>UV Protection Aviator Sunglasses (57)</td>\n",
       "      <td>₹261</td>\n",
       "      <td>71% off</td>\n",
       "    </tr>\n",
       "    <tr>\n",
       "      <th>8</th>\n",
       "      <td>DEIXELS</td>\n",
       "      <td>UV Protection Aviator, Wayfarer Sunglasses (Fr...</td>\n",
       "      <td>₹213</td>\n",
       "      <td>82% off</td>\n",
       "    </tr>\n",
       "    <tr>\n",
       "      <th>9</th>\n",
       "      <td>PIRASO</td>\n",
       "      <td>UV Protection Aviator Sunglasses (Free Size)</td>\n",
       "      <td>₹331</td>\n",
       "      <td>79% off</td>\n",
       "    </tr>\n",
       "  </tbody>\n",
       "</table>\n",
       "</div>"
      ],
      "text/plain": [
       "          Comapny                                Product Discription Price  \\\n",
       "0       ROYAL SON         UV Protection Retro Square Sunglasses (88)  ₹479   \n",
       "1  ROZZETTA CRAFT  UV Protection, Gradient Round Sunglasses (Free...  ₹426   \n",
       "2          PIRASO              UV Protection Aviator Sunglasses (54)  ₹237   \n",
       "3        Fastrack   UV Protection Rectangular Sunglasses (Free Size)  ₹541   \n",
       "4          PIRASO              UV Protection Aviator Sunglasses (54)  ₹237   \n",
       "5          PIRASO              UV Protection Aviator Sunglasses (54)  ₹237   \n",
       "6        Fastrack  Gradient, UV Protection Wayfarer Sunglasses (F...  ₹509   \n",
       "7           NuVew              UV Protection Aviator Sunglasses (57)  ₹261   \n",
       "8         DEIXELS  UV Protection Aviator, Wayfarer Sunglasses (Fr...  ₹213   \n",
       "9          PIRASO       UV Protection Aviator Sunglasses (Free Size)  ₹331   \n",
       "\n",
       "  Discount %  \n",
       "0    76% off  \n",
       "1    88% off  \n",
       "2    85% off  \n",
       "3    32% off  \n",
       "4    85% off  \n",
       "5    85% off  \n",
       "6    36% off  \n",
       "7    71% off  \n",
       "8    82% off  \n",
       "9    79% off  "
      ]
     },
     "execution_count": 54,
     "metadata": {},
     "output_type": "execute_result"
    }
   ],
   "source": [
    "sunglasses.head(10)"
   ]
  },
  {
   "cell_type": "markdown",
   "id": "4e2fa530",
   "metadata": {},
   "source": [
    "sunglasses data."
   ]
  },
  {
   "cell_type": "code",
   "execution_count": null,
   "id": "58eed84e",
   "metadata": {},
   "outputs": [],
   "source": []
  },
  {
   "cell_type": "code",
   "execution_count": null,
   "id": "032ebeb0",
   "metadata": {},
   "outputs": [],
   "source": []
  },
  {
   "cell_type": "code",
   "execution_count": null,
   "id": "17b36557",
   "metadata": {},
   "outputs": [],
   "source": []
  },
  {
   "cell_type": "code",
   "execution_count": null,
   "id": "5a0956aa",
   "metadata": {},
   "outputs": [],
   "source": []
  },
  {
   "cell_type": "markdown",
   "id": "c2b9bfa4",
   "metadata": {},
   "source": [
    "# Q7) Scrape 100 reviews data from flipkart.com for iphone11 phone."
   ]
  },
  {
   "cell_type": "code",
   "execution_count": null,
   "id": "33e3f93f",
   "metadata": {},
   "outputs": [],
   "source": []
  },
  {
   "cell_type": "code",
   "execution_count": 33,
   "id": "c9410244",
   "metadata": {},
   "outputs": [],
   "source": [
    "url='https://www.flipkart.com/apple-iphone-11-black-64-gb-includes-earpods-power-adapter/product-reviews/itm0f37c2240b217?pid=MOBFKCTSVZAXUHGR&lid=LSTMOBFKCTSVZAXUHGREPBFGI&marketplace=FLIPKART'\n",
    "driver.get(url)"
   ]
  },
  {
   "cell_type": "code",
   "execution_count": 34,
   "id": "531d6bfa",
   "metadata": {},
   "outputs": [],
   "source": [
    "#gathering the data\n",
    "\n",
    "rating = []\n",
    "\n",
    "review_summary=[]\n",
    "\n",
    "full_review=[]"
   ]
  },
  {
   "cell_type": "code",
   "execution_count": null,
   "id": "b63b3fc1",
   "metadata": {},
   "outputs": [],
   "source": []
  },
  {
   "cell_type": "code",
   "execution_count": 65,
   "id": "726c9a9e",
   "metadata": {},
   "outputs": [],
   "source": [
    "# Scrapping The data\n",
    "j=0\n",
    "while j<10:\n",
    "    ratings=driver.find_elements_by_xpath('//div[@class=\"_3LWZlK _1BLPMq\"]')\n",
    "    for i in ratings:\n",
    "        rating.append(i.text)\n",
    "        \n",
    "    \n",
    "    reviews=driver.find_elements_by_xpath('//p[@class=\"_2-N8zT\"]')\n",
    "    for i in reviews:\n",
    "        review_summary.append(i.text)\n",
    "        \n",
    "    full_reviews=driver.find_elements_by_xpath('//div[@class=\"t-ZTKy\"]')\n",
    "    for i in full_reviews:\n",
    "        full_review.append(i.text)\n",
    "        \n",
    "        \n",
    "    driver.find_element_by_xpath('//a[@class=\"_1LKTO3\"]').click()\n",
    "    j+=1\n",
    "          \n",
    "            \n",
    "            "
   ]
  },
  {
   "cell_type": "code",
   "execution_count": 69,
   "id": "6bd2baf3",
   "metadata": {},
   "outputs": [],
   "source": [
    "# Creating DataFrame\n",
    "Iphone=pd.DataFrame({})\n",
    "Iphone['Rating']=rating\n",
    "Iphone['Review Summary']=review_summary\n",
    "Iphone['Full Review']=full_review"
   ]
  },
  {
   "cell_type": "code",
   "execution_count": 73,
   "id": "3b6bf4d8",
   "metadata": {},
   "outputs": [
    {
     "data": {
      "text/html": [
       "<div>\n",
       "<style scoped>\n",
       "    .dataframe tbody tr th:only-of-type {\n",
       "        vertical-align: middle;\n",
       "    }\n",
       "\n",
       "    .dataframe tbody tr th {\n",
       "        vertical-align: top;\n",
       "    }\n",
       "\n",
       "    .dataframe thead th {\n",
       "        text-align: right;\n",
       "    }\n",
       "</style>\n",
       "<table border=\"1\" class=\"dataframe\">\n",
       "  <thead>\n",
       "    <tr style=\"text-align: right;\">\n",
       "      <th></th>\n",
       "      <th>Rating</th>\n",
       "      <th>Review Summary</th>\n",
       "      <th>Full Review</th>\n",
       "    </tr>\n",
       "  </thead>\n",
       "  <tbody>\n",
       "    <tr>\n",
       "      <th>0</th>\n",
       "      <td>NaN</td>\n",
       "      <td>NaN</td>\n",
       "      <td>The Best Phone for the Money\\n\\nThe iPhone 11 ...</td>\n",
       "    </tr>\n",
       "    <tr>\n",
       "      <th>1</th>\n",
       "      <td>NaN</td>\n",
       "      <td>NaN</td>\n",
       "      <td>Amazing phone with great cameras and better ba...</td>\n",
       "    </tr>\n",
       "    <tr>\n",
       "      <th>2</th>\n",
       "      <td>NaN</td>\n",
       "      <td>NaN</td>\n",
       "      <td>Amazing Powerful and Durable Gadget.\\n\\nI’m am...</td>\n",
       "    </tr>\n",
       "    <tr>\n",
       "      <th>3</th>\n",
       "      <td>NaN</td>\n",
       "      <td>NaN</td>\n",
       "      <td>Previously I was using one plus 3t it was a gr...</td>\n",
       "    </tr>\n",
       "    <tr>\n",
       "      <th>4</th>\n",
       "      <td>NaN</td>\n",
       "      <td>NaN</td>\n",
       "      <td>This is my first iOS phone. I am very happy wi...</td>\n",
       "    </tr>\n",
       "    <tr>\n",
       "      <th>5</th>\n",
       "      <td>NaN</td>\n",
       "      <td>NaN</td>\n",
       "      <td>So far it’s been an AMAZING experience coming ...</td>\n",
       "    </tr>\n",
       "    <tr>\n",
       "      <th>6</th>\n",
       "      <td>NaN</td>\n",
       "      <td>NaN</td>\n",
       "      <td>iphone 11 is a very good phone to buy only if ...</td>\n",
       "    </tr>\n",
       "    <tr>\n",
       "      <th>7</th>\n",
       "      <td>NaN</td>\n",
       "      <td>NaN</td>\n",
       "      <td>It’s a must buy who is looking for an upgrade ...</td>\n",
       "    </tr>\n",
       "    <tr>\n",
       "      <th>8</th>\n",
       "      <td>NaN</td>\n",
       "      <td>NaN</td>\n",
       "      <td>Value for money❤️❤️\\nIts awesome mobile phone ...</td>\n",
       "    </tr>\n",
       "    <tr>\n",
       "      <th>9</th>\n",
       "      <td>NaN</td>\n",
       "      <td>NaN</td>\n",
       "      <td>Best budget Iphone till date ❤️ go for it guys...</td>\n",
       "    </tr>\n",
       "  </tbody>\n",
       "</table>\n",
       "</div>"
      ],
      "text/plain": [
       "   Rating  Review Summary                                        Full Review\n",
       "0     NaN             NaN  The Best Phone for the Money\\n\\nThe iPhone 11 ...\n",
       "1     NaN             NaN  Amazing phone with great cameras and better ba...\n",
       "2     NaN             NaN  Amazing Powerful and Durable Gadget.\\n\\nI’m am...\n",
       "3     NaN             NaN  Previously I was using one plus 3t it was a gr...\n",
       "4     NaN             NaN  This is my first iOS phone. I am very happy wi...\n",
       "5     NaN             NaN  So far it’s been an AMAZING experience coming ...\n",
       "6     NaN             NaN  iphone 11 is a very good phone to buy only if ...\n",
       "7     NaN             NaN  It’s a must buy who is looking for an upgrade ...\n",
       "8     NaN             NaN  Value for money❤️❤️\\nIts awesome mobile phone ...\n",
       "9     NaN             NaN  Best budget Iphone till date ❤️ go for it guys..."
      ]
     },
     "execution_count": 73,
     "metadata": {},
     "output_type": "execute_result"
    }
   ],
   "source": [
    "Iphone.head(10)"
   ]
  },
  {
   "cell_type": "code",
   "execution_count": null,
   "id": "152fd15f",
   "metadata": {},
   "outputs": [],
   "source": []
  },
  {
   "cell_type": "code",
   "execution_count": null,
   "id": "a9b504f7",
   "metadata": {},
   "outputs": [],
   "source": []
  },
  {
   "cell_type": "markdown",
   "id": "fa76344d",
   "metadata": {},
   "source": [
    "# Q8) Scrape data for first 100 sneakers you find when you visit flipkart.com and \n",
    "search for “sneakers” in the search field."
   ]
  },
  {
   "cell_type": "code",
   "execution_count": 122,
   "id": "ff50aa62",
   "metadata": {},
   "outputs": [],
   "source": [
    "url='https://www.flipkart.com/'\n",
    "driver.get(url)"
   ]
  },
  {
   "cell_type": "code",
   "execution_count": 75,
   "id": "ef518452",
   "metadata": {},
   "outputs": [],
   "source": [
    "# Finding sneakers from he search bar and searching\n",
    "\n",
    "sneakers = driver.find_element_by_xpath(\"//input[@class='_3704LK']\")\n",
    "\n",
    "sneakers.send_keys('Sunglasses')"
   ]
  },
  {
   "cell_type": "code",
   "execution_count": 76,
   "id": "2d6e1c6b",
   "metadata": {},
   "outputs": [],
   "source": [
    "# clicking on search bar\n",
    "search_btn = driver.find_element_by_xpath(\"//button[@class='L0Z3Pu']\")\n",
    "\n",
    "search_btn.click()"
   ]
  },
  {
   "cell_type": "code",
   "execution_count": 123,
   "id": "70fb6123",
   "metadata": {},
   "outputs": [],
   "source": []
  },
  {
   "cell_type": "code",
   "execution_count": 124,
   "id": "bdf7a8b9",
   "metadata": {},
   "outputs": [],
   "source": [
    "# Extracting brand\n",
    "while(True):\n",
    "    time.sleep(2)\n",
    "\n",
    "    \n",
    "titles_tags=driver.find_elements_by_xpath(\"//div[@class='_2WkVRV']\")\n",
    "brands=[]\n",
    "for i in titles_tags:\n",
    "     if(len(brands)<100>)\n",
    "        brands.append(i.text)\n",
    "    else:\n",
    "        break\n",
    "        \n",
    "           "
   ]
  },
  {
   "cell_type": "code",
   "execution_count": 125,
   "id": "7ef67238",
   "metadata": {},
   "outputs": [],
   "source": [
    "# extracting discription\n",
    "while(True):\n",
    "    time.sleep(2)\n",
    "disc = driver.find_elements_by_xpath(\"//a[@class='IRpwTa']\")\n",
    "discription=[]\n",
    "for i in disc:\n",
    "     if(len(discription)<100>)\n",
    "        discription.append(i.text)\n",
    "    else:\n",
    "        break\n",
    "        \n",
    "           "
   ]
  },
  {
   "cell_type": "code",
   "execution_count": 126,
   "id": "3a819080",
   "metadata": {},
   "outputs": [],
   "source": [
    "# Extracting Price\n",
    "while(True):\n",
    "    time.sleep(2)\n",
    "price = driver.find_elements_by_xpath(\"//div[@class='_30jeq3']\")\n",
    "prod_price=[]\n",
    "for i in price[:40]:\n",
    "    if(len(prod_price)<100>)\n",
    "       prod_price.append(i.text)\n",
    "\n",
    "    else:\n",
    "        break\n",
    "        \n",
    "      \n",
    "        "
   ]
  },
  {
   "cell_type": "code",
   "execution_count": 127,
   "id": "fc2254f0",
   "metadata": {},
   "outputs": [],
   "source": [
    "# Extracting Discount%\n",
    "while(True):\n",
    "    time.sleep(2)\n",
    "discount = driver.find_elements_by_xpath(\"//div[@class='_3Ay6Sb']\")\n",
    "disco=[]\n",
    " for i in discount[:40]:\n",
    "        if(len(disco)<100>)\n",
    "          disco.append(i.text)\n",
    "        else:\n",
    "            break\n",
    "           \n",
    "         if(len(n)>=100):\n",
    "            break\n",
    "        \n",
    "\n",
    "            \n",
    "    \n",
    "\n"
   ]
  },
  {
   "cell_type": "code",
   "execution_count": 48,
   "id": "9dcf01d9",
   "metadata": {},
   "outputs": [],
   "source": [
    "driver.find_element_by_xpath(\"//a[@class='_1LKTO3']\").click()"
   ]
  },
  {
   "cell_type": "code",
   "execution_count": 128,
   "id": "73e0a750",
   "metadata": {},
   "outputs": [],
   "source": [
    "# Creating Data Frame\n",
    "sneakers=pd.DataFrame({})\n",
    "sneakers['Brand']=brands\n",
    "sneakers['Product Description']=desc\n",
    "sneakers['Price']=price\n",
    "sneakers['Discount %']=discount"
   ]
  },
  {
   "cell_type": "code",
   "execution_count": 129,
   "id": "b0686a00",
   "metadata": {},
   "outputs": [
    {
     "data": {
      "text/html": [
       "<div>\n",
       "<style scoped>\n",
       "    .dataframe tbody tr th:only-of-type {\n",
       "        vertical-align: middle;\n",
       "    }\n",
       "\n",
       "    .dataframe tbody tr th {\n",
       "        vertical-align: top;\n",
       "    }\n",
       "\n",
       "    .dataframe thead th {\n",
       "        text-align: right;\n",
       "    }\n",
       "</style>\n",
       "<table border=\"1\" class=\"dataframe\">\n",
       "  <thead>\n",
       "    <tr style=\"text-align: right;\">\n",
       "      <th></th>\n",
       "      <th>Brand</th>\n",
       "      <th>Product Description</th>\n",
       "      <th>Price</th>\n",
       "      <th>Discount %</th>\n",
       "    </tr>\n",
       "  </thead>\n",
       "  <tbody>\n",
       "    <tr>\n",
       "      <th>0</th>\n",
       "      <td>WROGN</td>\n",
       "      <td>Men Sneakers</td>\n",
       "      <td>Rs. 1084Rs. 3099(65% OFF)</td>\n",
       "      <td>(65% OFF)</td>\n",
       "    </tr>\n",
       "    <tr>\n",
       "      <th>1</th>\n",
       "      <td>Mast &amp; Harbour</td>\n",
       "      <td>Men Solid Sneakers</td>\n",
       "      <td>Rs. 1079Rs. 2699(60% OFF)</td>\n",
       "      <td>(60% OFF)</td>\n",
       "    </tr>\n",
       "    <tr>\n",
       "      <th>2</th>\n",
       "      <td>Roadster</td>\n",
       "      <td>Men Printed Sneakers</td>\n",
       "      <td>Rs. 959Rs. 3199(70% OFF)</td>\n",
       "      <td>(70% OFF)</td>\n",
       "    </tr>\n",
       "    <tr>\n",
       "      <th>3</th>\n",
       "      <td>Roadster</td>\n",
       "      <td>Men Solid Sneakers</td>\n",
       "      <td>Rs. 1119Rs. 2799(60% OFF)</td>\n",
       "      <td>(60% OFF)</td>\n",
       "    </tr>\n",
       "    <tr>\n",
       "      <th>4</th>\n",
       "      <td>WROGN</td>\n",
       "      <td>Men Solid Sneakers</td>\n",
       "      <td>Rs. 1394Rs. 3099(55% OFF)</td>\n",
       "      <td>(55% OFF)</td>\n",
       "    </tr>\n",
       "    <tr>\n",
       "      <th>5</th>\n",
       "      <td>WROGN</td>\n",
       "      <td>Men Solid Sneakers</td>\n",
       "      <td>Rs. 1469Rs. 4199(65% OFF)</td>\n",
       "      <td>(65% OFF)</td>\n",
       "    </tr>\n",
       "    <tr>\n",
       "      <th>6</th>\n",
       "      <td>Roadster</td>\n",
       "      <td>Men Sneakers</td>\n",
       "      <td>Rs. 1304Rs. 2899(55% OFF)</td>\n",
       "      <td>(55% OFF)</td>\n",
       "    </tr>\n",
       "    <tr>\n",
       "      <th>7</th>\n",
       "      <td>Roadster</td>\n",
       "      <td>Men Woven Design Sneakers</td>\n",
       "      <td>Rs. 1039Rs. 2599(60% OFF)</td>\n",
       "      <td>(60% OFF)</td>\n",
       "    </tr>\n",
       "    <tr>\n",
       "      <th>8</th>\n",
       "      <td>Roadster</td>\n",
       "      <td>Men Woven Design Sneakers</td>\n",
       "      <td>Rs. 1088Rs. 3299(67% OFF)</td>\n",
       "      <td>(67% OFF)</td>\n",
       "    </tr>\n",
       "    <tr>\n",
       "      <th>9</th>\n",
       "      <td>Mast &amp; Harbour</td>\n",
       "      <td>Men Sneakers</td>\n",
       "      <td>Rs. 1299Rs. 2599(50% OFF)</td>\n",
       "      <td>(50% OFF)</td>\n",
       "    </tr>\n",
       "    <tr>\n",
       "      <th>10</th>\n",
       "      <td>Roadster</td>\n",
       "      <td>Men Solid Sneakers</td>\n",
       "      <td>Rs. 1299Rs. 2599(50% OFF)</td>\n",
       "      <td>(50% OFF)</td>\n",
       "    </tr>\n",
       "    <tr>\n",
       "      <th>11</th>\n",
       "      <td>Roadster</td>\n",
       "      <td>Men Sneakers</td>\n",
       "      <td>Rs. 1484Rs. 3299(55% OFF)</td>\n",
       "      <td>(55% OFF)</td>\n",
       "    </tr>\n",
       "    <tr>\n",
       "      <th>12</th>\n",
       "      <td>Mast &amp; Harbour</td>\n",
       "      <td>Men Solid Driving Shoes</td>\n",
       "      <td>Rs. 758Rs. 2299(67% OFF)</td>\n",
       "      <td>(67% OFF)</td>\n",
       "    </tr>\n",
       "    <tr>\n",
       "      <th>13</th>\n",
       "      <td>WROGN</td>\n",
       "      <td>Men Self Design Sneakers</td>\n",
       "      <td>Rs. 1469Rs. 4199(65% OFF)</td>\n",
       "      <td>(65% OFF)</td>\n",
       "    </tr>\n",
       "    <tr>\n",
       "      <th>14</th>\n",
       "      <td>Mast &amp; Harbour</td>\n",
       "      <td>Men Solid Boat Shoes</td>\n",
       "      <td>Rs. 749Rs. 2499(70% OFF)</td>\n",
       "      <td>(70% OFF)</td>\n",
       "    </tr>\n",
       "    <tr>\n",
       "      <th>15</th>\n",
       "      <td>Roadster</td>\n",
       "      <td>Men Solid Sneakers</td>\n",
       "      <td>Rs. 1088Rs. 3299(67% OFF)</td>\n",
       "      <td>(67% OFF)</td>\n",
       "    </tr>\n",
       "    <tr>\n",
       "      <th>16</th>\n",
       "      <td>Roadster</td>\n",
       "      <td>Men Solid Sneakers</td>\n",
       "      <td>Rs. 857Rs. 2599(67% OFF)</td>\n",
       "      <td>(67% OFF)</td>\n",
       "    </tr>\n",
       "    <tr>\n",
       "      <th>17</th>\n",
       "      <td>WROGN</td>\n",
       "      <td>Men Solid Espadrilles</td>\n",
       "      <td>Rs. 699Rs. 1999(65% OFF)</td>\n",
       "      <td>(65% OFF)</td>\n",
       "    </tr>\n",
       "    <tr>\n",
       "      <th>18</th>\n",
       "      <td>Roadster</td>\n",
       "      <td>Men Perforations Sneakers</td>\n",
       "      <td>Rs. 1014Rs. 2899(65% OFF)</td>\n",
       "      <td>(65% OFF)</td>\n",
       "    </tr>\n",
       "    <tr>\n",
       "      <th>19</th>\n",
       "      <td>Roadster</td>\n",
       "      <td>Men Sneakers</td>\n",
       "      <td>Rs. 1449Rs. 2899(50% OFF)</td>\n",
       "      <td>(50% OFF)</td>\n",
       "    </tr>\n",
       "  </tbody>\n",
       "</table>\n",
       "</div>"
      ],
      "text/plain": [
       "             Brand        Product Description                      Price  \\\n",
       "0            WROGN               Men Sneakers  Rs. 1084Rs. 3099(65% OFF)   \n",
       "1   Mast & Harbour         Men Solid Sneakers  Rs. 1079Rs. 2699(60% OFF)   \n",
       "2         Roadster       Men Printed Sneakers   Rs. 959Rs. 3199(70% OFF)   \n",
       "3         Roadster         Men Solid Sneakers  Rs. 1119Rs. 2799(60% OFF)   \n",
       "4            WROGN         Men Solid Sneakers  Rs. 1394Rs. 3099(55% OFF)   \n",
       "5            WROGN         Men Solid Sneakers  Rs. 1469Rs. 4199(65% OFF)   \n",
       "6         Roadster               Men Sneakers  Rs. 1304Rs. 2899(55% OFF)   \n",
       "7         Roadster  Men Woven Design Sneakers  Rs. 1039Rs. 2599(60% OFF)   \n",
       "8         Roadster  Men Woven Design Sneakers  Rs. 1088Rs. 3299(67% OFF)   \n",
       "9   Mast & Harbour               Men Sneakers  Rs. 1299Rs. 2599(50% OFF)   \n",
       "10        Roadster         Men Solid Sneakers  Rs. 1299Rs. 2599(50% OFF)   \n",
       "11        Roadster               Men Sneakers  Rs. 1484Rs. 3299(55% OFF)   \n",
       "12  Mast & Harbour    Men Solid Driving Shoes   Rs. 758Rs. 2299(67% OFF)   \n",
       "13           WROGN   Men Self Design Sneakers  Rs. 1469Rs. 4199(65% OFF)   \n",
       "14  Mast & Harbour       Men Solid Boat Shoes   Rs. 749Rs. 2499(70% OFF)   \n",
       "15        Roadster         Men Solid Sneakers  Rs. 1088Rs. 3299(67% OFF)   \n",
       "16        Roadster         Men Solid Sneakers   Rs. 857Rs. 2599(67% OFF)   \n",
       "17           WROGN      Men Solid Espadrilles   Rs. 699Rs. 1999(65% OFF)   \n",
       "18        Roadster  Men Perforations Sneakers  Rs. 1014Rs. 2899(65% OFF)   \n",
       "19        Roadster               Men Sneakers  Rs. 1449Rs. 2899(50% OFF)   \n",
       "\n",
       "   Discount %  \n",
       "0   (65% OFF)  \n",
       "1   (60% OFF)  \n",
       "2   (70% OFF)  \n",
       "3   (60% OFF)  \n",
       "4   (55% OFF)  \n",
       "5   (65% OFF)  \n",
       "6   (55% OFF)  \n",
       "7   (60% OFF)  \n",
       "8   (67% OFF)  \n",
       "9   (50% OFF)  \n",
       "10  (50% OFF)  \n",
       "11  (55% OFF)  \n",
       "12  (67% OFF)  \n",
       "13  (65% OFF)  \n",
       "14  (70% OFF)  \n",
       "15  (67% OFF)  \n",
       "16  (67% OFF)  \n",
       "17  (65% OFF)  \n",
       "18  (65% OFF)  \n",
       "19  (50% OFF)  "
      ]
     },
     "execution_count": 129,
     "metadata": {},
     "output_type": "execute_result"
    }
   ],
   "source": [
    "sneakers.head(20)"
   ]
  },
  {
   "cell_type": "markdown",
   "id": "4d09df3d",
   "metadata": {},
   "source": [
    "sneakers data."
   ]
  },
  {
   "cell_type": "markdown",
   "id": "c1b023f8",
   "metadata": {},
   "source": [
    "# @9) Go to the link - https://www.myntra.com/shoes\n",
    "Set Price filter to “Rs. 6649 to Rs. 13099” , Color filter to “Black And then scrape First 100 shoes data you get. The data should include “Brand” of \n",
    "the shoes , Short Shoe description, price of the shoe as shown in the below image"
   ]
  },
  {
   "cell_type": "code",
   "execution_count": 85,
   "id": "311b2bea",
   "metadata": {},
   "outputs": [],
   "source": [
    "url='https://www.myntra.com/shoes'\n",
    "driver.get(url)"
   ]
  },
  {
   "cell_type": "code",
   "execution_count": 90,
   "id": "ffaeb90d",
   "metadata": {},
   "outputs": [],
   "source": [
    "# using price filter\n",
    "price=driver.find_element_by_xpath(\"//div[@class='common-checkboxIndicator']\")\n",
    "price.click()"
   ]
  },
  {
   "cell_type": "code",
   "execution_count": 93,
   "id": "04fe6e4f",
   "metadata": {},
   "outputs": [],
   "source": [
    "# Using color filter\n",
    "color=driver.find_element_by_xpath(\"//span[@class='colour-label colour-colorDisplay']\")\n",
    "color.click()"
   ]
  },
  {
   "cell_type": "code",
   "execution_count": 95,
   "id": "7256b45b",
   "metadata": {},
   "outputs": [
    {
     "data": {
      "text/plain": [
       "['https://www.myntra.com/shoes?f=Color%3ABlack_36454f%3A%3AGender%3Amen%2Cmen%20women&plaEnabled=false&rf=Price%3A6649.0_13099.0_6649.0%20TO%2013099.0&p=2',\n",
       " 'https://www.myntra.com/shoes?f=Color%3ABlack_36454f%3A%3AGender%3Amen%2Cmen%20women&plaEnabled=false&rf=Price%3A6649.0_13099.0_6649.0%20TO%2013099.0&p=3',\n",
       " 'https://www.myntra.com/shoes?f=Color%3ABlack_36454f%3A%3AGender%3Amen%2Cmen%20women&plaEnabled=false&rf=Price%3A6649.0_13099.0_6649.0%20TO%2013099.0&p=4',\n",
       " 'https://www.myntra.com/shoes?f=Color%3ABlack_36454f%3A%3AGender%3Amen%2Cmen%20women&plaEnabled=false&rf=Price%3A6649.0_13099.0_6649.0%20TO%2013099.0&p=5',\n",
       " 'https://www.myntra.com/shoes?f=Color%3ABlack_36454f%3A%3AGender%3Amen%2Cmen%20women&plaEnabled=false&rf=Price%3A6649.0_13099.0_6649.0%20TO%2013099.0&p=6',\n",
       " 'https://www.myntra.com/shoes?f=Color%3ABlack_36454f%3A%3AGender%3Amen%2Cmen%20women&plaEnabled=false&rf=Price%3A6649.0_13099.0_6649.0%20TO%2013099.0&p=7',\n",
       " 'https://www.myntra.com/shoes?f=Color%3ABlack_36454f%3A%3AGender%3Amen%2Cmen%20women&plaEnabled=false&rf=Price%3A6649.0_13099.0_6649.0%20TO%2013099.0&p=8',\n",
       " 'https://www.myntra.com/shoes?f=Color%3ABlack_36454f%3A%3AGender%3Amen%2Cmen%20women&plaEnabled=false&rf=Price%3A6649.0_13099.0_6649.0%20TO%2013099.0&p=9']"
      ]
     },
     "execution_count": 95,
     "metadata": {},
     "output_type": "execute_result"
    }
   ],
   "source": [
    "# Extracting tags for pages\n",
    "page_urls=[]\n",
    "url=driver.find_elements_by_xpath(\"//li[@class='pagination-number']/a\")\n",
    "for i in url:\n",
    "    page_urls.append(i.get_attribute('href'))\n",
    "page_urls    "
   ]
  },
  {
   "cell_type": "code",
   "execution_count": null,
   "id": "ccd7f55b",
   "metadata": {},
   "outputs": [],
   "source": []
  },
  {
   "cell_type": "code",
   "execution_count": 100,
   "id": "e2dfa20d",
   "metadata": {},
   "outputs": [],
   "source": [
    "# Extractin Brands\n",
    "brands=[]\n",
    "for i in page_urls[:2]:\n",
    "    driver.get(i)\n",
    "    brand=driver.find_elements_by_xpath(\"//h3[@class='product-brand']\")\n",
    "    for i in brand:\n",
    "        brands.append(i.text)"
   ]
  },
  {
   "cell_type": "code",
   "execution_count": 101,
   "id": "80472bb4",
   "metadata": {},
   "outputs": [
    {
     "data": {
      "text/plain": [
       "['J.FONTINI',\n",
       " 'Hush Puppies',\n",
       " 'Hush Puppies',\n",
       " 'Nike',\n",
       " 'Nike',\n",
       " 'Nike',\n",
       " 'Nike',\n",
       " 'Nike',\n",
       " 'Nike',\n",
       " 'Lacoste',\n",
       " 'Lacoste',\n",
       " 'Reebok',\n",
       " 'UNDER ARMOUR',\n",
       " 'Nike',\n",
       " 'Ruosh',\n",
       " 'UNDER ARMOUR',\n",
       " 'Heel & Buckle London',\n",
       " 'Hush Puppies',\n",
       " 'Ruosh',\n",
       " 'ASICS',\n",
       " 'Puma',\n",
       " 'Hush Puppies',\n",
       " 'Teakwood Leathers',\n",
       " 'ASICS',\n",
       " 'Florsheim',\n",
       " 'one8 Select BY VIRAT KOHLI',\n",
       " 'UNDER ARMOUR',\n",
       " 'Florsheim',\n",
       " 'one8 Select BY VIRAT KOHLI',\n",
       " 'PUMA Motorsport',\n",
       " 'UNDER ARMOUR',\n",
       " 'Nike',\n",
       " 'Ruosh',\n",
       " 'Nike',\n",
       " 'J.FONTINI',\n",
       " 'Heel & Buckle London',\n",
       " 'Puma',\n",
       " 'ADIDAS',\n",
       " 'Nike',\n",
       " 'Puma',\n",
       " 'DAVINCHI',\n",
       " 'DAVINCHI',\n",
       " 'DAVINCHI',\n",
       " 'ALDO',\n",
       " 'ALDO',\n",
       " 'ASICS',\n",
       " 'ADIDAS',\n",
       " 'UNDER ARMOUR',\n",
       " 'Puma',\n",
       " 'Nike',\n",
       " 'ROSSO BRUNELLO',\n",
       " 'Heel & Buckle London',\n",
       " 'Clarks',\n",
       " 'Bugatti',\n",
       " 'Puma',\n",
       " 'Lacoste',\n",
       " 'Puma',\n",
       " 'hummel',\n",
       " 'Heel & Buckle London',\n",
       " 'ROSSO BRUNELLO',\n",
       " 'DAVINCHI',\n",
       " 'Florsheim',\n",
       " 'Heel & Buckle London',\n",
       " 'ALDO',\n",
       " 'ALDO',\n",
       " 'Nike',\n",
       " 'Nike',\n",
       " 'Nike',\n",
       " 'UNDER ARMOUR',\n",
       " 'UNDER ARMOUR',\n",
       " 'Skechers',\n",
       " 'Skechers',\n",
       " 'Geox',\n",
       " 'Geox',\n",
       " 'Nike',\n",
       " 'Reebok',\n",
       " 'ADIDAS',\n",
       " 'Nike',\n",
       " 'San Frissco',\n",
       " 'Skechers',\n",
       " 'ADIDAS',\n",
       " 'ALDO',\n",
       " 'ADIDAS',\n",
       " 'ADIDAS',\n",
       " 'ASICS',\n",
       " 'ADIDAS',\n",
       " 'ADIDAS',\n",
       " 'ADIDAS',\n",
       " 'J.FONTINI',\n",
       " 'UNDER ARMOUR',\n",
       " 'Hush Puppies',\n",
       " 'Onitsuka Tiger',\n",
       " 'J.FONTINI',\n",
       " 'Heel & Buckle London',\n",
       " 'Puma',\n",
       " 'ALDO',\n",
       " 'CAT',\n",
       " 'ADIDAS Originals',\n",
       " 'Hush Puppies',\n",
       " 'Hush Puppies']"
      ]
     },
     "execution_count": 101,
     "metadata": {},
     "output_type": "execute_result"
    }
   ],
   "source": [
    "brands"
   ]
  },
  {
   "cell_type": "code",
   "execution_count": null,
   "id": "2461feea",
   "metadata": {},
   "outputs": [],
   "source": []
  },
  {
   "cell_type": "code",
   "execution_count": 103,
   "id": "5b57dc9c",
   "metadata": {},
   "outputs": [],
   "source": [
    "# extracting description\n",
    "desc=[]\n",
    "for i in page_urls[:2]:\n",
    "    driver.get(i)\n",
    "    Desc=driver.find_elements_by_xpath(\"//h4[@class='product-product']\")\n",
    "    for i in Desc:\n",
    "        desc.append(i.text)"
   ]
  },
  {
   "cell_type": "code",
   "execution_count": 105,
   "id": "592a5543",
   "metadata": {},
   "outputs": [
    {
     "data": {
      "text/plain": [
       "['Men Colourblocked Driving Shoes',\n",
       " 'Men Leather Slip-On Sneakers',\n",
       " 'Men DBREAK-TYPE Sneakers',\n",
       " 'Men ZOOM WINFLO 6 Running',\n",
       " 'Men AIR ZOOM PEGASUS 38 Run',\n",
       " 'Men JORDAN ONE TAKE II Shoes',\n",
       " 'Men REACT MILER 2 Running',\n",
       " 'Men AIR FLIGHT 89 Sneakers',\n",
       " 'Men Woven Design Sneakers',\n",
       " 'Unisex Zig Kinetica II Running',\n",
       " 'Men Woven Design Slip-On Sneakers',\n",
       " 'Charged Pursuit 2 Running',\n",
       " 'Men REACT MILER 2 Running',\n",
       " 'Liquify Rebel Running Shoes',\n",
       " 'Men Leather Formal Oxfords',\n",
       " 'Men Formal Leather Brogues',\n",
       " 'Men Running Shoes',\n",
       " 'Men UltraRide Running Shoes',\n",
       " 'Men Solid Leather Formal Monks',\n",
       " 'Men Running Shoes',\n",
       " 'Men Solid Leather Loafers',\n",
       " 'Men Charged Impulse Running',\n",
       " 'Men Solid Leather Formal Loafers',\n",
       " 'Men Solid Leather Handcrafted Sole Classy Italian Concept Formal Oxfords',\n",
       " 'Men Solid Leather Formal Derbys',\n",
       " 'Men Textured Derbys',\n",
       " 'HOVR Infinite 2 Running Shoes',\n",
       " 'Men Leather Formal Derbys',\n",
       " 'Men Ferrari Race Kart Sneakers',\n",
       " 'Men Leather Formal Derbys',\n",
       " 'Men AIR MAX INFINITY Sneakers',\n",
       " 'Men PG 5 EP Basketball Shoes',\n",
       " 'Men ZOOM WINFLO8 Running Shoes',\n",
       " 'Men Formal Derbys',\n",
       " 'Men Solid Leather Formal Derbys',\n",
       " 'Men Leather Formal Brogues',\n",
       " 'Men Solid Leather Formal Penny Loafers',\n",
       " 'Calibrate Restored Sneakers',\n",
       " 'Men Supernova Running Shoes',\n",
       " 'Unisex RS-Fast Sneakers',\n",
       " 'Men Formal Leather Slip-Ons',\n",
       " 'Men Solid Leather Loafers',\n",
       " 'Men Textured Formal Leather Loafers',\n",
       " 'Men Solid Formal Leather Slip-On Shoes',\n",
       " 'Men Solid Leather Formal Oxfords',\n",
       " 'Men EvoRide TOKYO Shoes',\n",
       " 'Men Adizero Ubersonic 4 Tennis',\n",
       " 'Men HOVR Rise 2 Training Shoes',\n",
       " 'Men Ultra Triller FM Shoes',\n",
       " 'Men Casual Shoes',\n",
       " 'Men Solid Leather Formal Derbys',\n",
       " 'Men Solid Leather Formal Monk Shoes',\n",
       " 'Men Solid Leather Formal Derbys',\n",
       " 'Men Solid Leather Formal Derbys',\n",
       " 'Future Rider Peanuts Sneakers',\n",
       " 'Woven Design Casual Sneakers',\n",
       " 'Men ONE 1 IL Football Shoes',\n",
       " 'Men Leather Sneakers',\n",
       " 'Men Penny Leather Loafers',\n",
       " 'Men Solid Monk Shoes',\n",
       " 'Men Leather Formal Loafers',\n",
       " 'Men Solid Leather Formal Brogues',\n",
       " 'Men Leather Sneakers',\n",
       " 'KD TREY 5 Basketball Shoes',\n",
       " 'AIR ZOOM PEGASUS Running Shoes',\n",
       " 'Men JORDAN WHY NOT Basketball',\n",
       " 'Leather Solid Loafers',\n",
       " 'Men Driving Shoes',\n",
       " 'Men Liquify Running Shoes',\n",
       " 'Unisex SC 3ZER0 IV Basketball',\n",
       " 'Men GO RUN 7+ Running Shoes',\n",
       " 'Men Leather Driving Shoes',\n",
       " 'Men Flex Advantage 4.0Upstream',\n",
       " 'Men Leather Formal Slip-Ons',\n",
       " 'Men AIR ZOOM Running Shoes',\n",
       " 'Men Nano X1 Training Shoes',\n",
       " 'Men Supernova Running Shoes',\n",
       " 'Men Zoom Winflo 8 Running',\n",
       " 'Men Leather Loafers',\n",
       " 'Men VIPER COMPETITOR Training',\n",
       " 'Unisex Court Vision 2 Shoes',\n",
       " 'Men Solid Driving Shoes',\n",
       " 'Men X9000L2 Running Shoes',\n",
       " 'Unisex Harden Stepback 2 Shoes',\n",
       " 'Men GT-1000 10 Running Shoes',\n",
       " 'Unisex Harden Vol.5 Basketball',\n",
       " 'Men X9000L3 Heat.RDY Running',\n",
       " 'Men Edge XT Running Shoes',\n",
       " 'Men Leather Formal Loafers',\n",
       " 'Men Charged Escape 3 Evo',\n",
       " 'Men Leather Formal Loafers',\n",
       " 'Unisex Fabre EX Sneakers',\n",
       " 'Men Leather Derbys',\n",
       " 'Men Leather Boots',\n",
       " 'Men Velvet Loafers',\n",
       " 'Unisex RS-Fast Sneakers',\n",
       " 'Men Woven Design Sneakers',\n",
       " 'Men Superstar Sneakers',\n",
       " 'Men Leather Slip-On Sneakers',\n",
       " 'Men Solid Leather Formal Slip-Ons']"
      ]
     },
     "execution_count": 105,
     "metadata": {},
     "output_type": "execute_result"
    }
   ],
   "source": [
    "desc"
   ]
  },
  {
   "cell_type": "code",
   "execution_count": null,
   "id": "3aaa9532",
   "metadata": {},
   "outputs": [],
   "source": []
  },
  {
   "cell_type": "code",
   "execution_count": 108,
   "id": "e298bf63",
   "metadata": {},
   "outputs": [],
   "source": [
    "# Extracting price\n",
    "price=[]\n",
    "for i in page_urls[:2]:\n",
    "    driver.get(i)\n",
    "    Price=driver.find_elements_by_xpath(\"//div[@class='product-price']\")\n",
    "    for i in Price:\n",
    "        price.append(i.text)"
   ]
  },
  {
   "cell_type": "code",
   "execution_count": 109,
   "id": "76182e97",
   "metadata": {},
   "outputs": [
    {
     "data": {
      "text/plain": [
       "['Rs. 9999',\n",
       " 'Rs. 8195',\n",
       " 'Rs. 7195Rs. 7995(10% OFF)',\n",
       " 'Rs. 9995',\n",
       " 'Rs. 8990',\n",
       " 'Rs. 7465Rs. 8295(10% OFF)',\n",
       " 'Rs. 10295',\n",
       " 'Rs. 8621Rs. 11495(25% OFF)',\n",
       " 'Rs. 8500',\n",
       " 'Rs. 8500',\n",
       " 'Rs. 9999',\n",
       " 'Rs. 6999',\n",
       " 'Rs. 8621Rs. 11495(25% OFF)',\n",
       " 'Rs. 8999',\n",
       " 'Rs. 6999',\n",
       " 'Rs. 7693Rs. 10990(30% OFF)',\n",
       " 'Rs. 11999',\n",
       " 'Rs. 6990',\n",
       " 'Rs. 7199Rs. 8999(20% OFF)',\n",
       " 'Rs. 9999',\n",
       " 'Rs. 6999',\n",
       " 'Rs. 6990',\n",
       " 'Rs. 7999',\n",
       " 'Rs. 6995',\n",
       " 'Rs. 8499',\n",
       " 'Rs. 7999',\n",
       " 'Rs. 6995',\n",
       " 'Rs. 9999',\n",
       " 'Rs. 7999',\n",
       " 'Rs. 7999Rs. 9999(20% OFF)',\n",
       " 'Rs. 11999',\n",
       " 'Rs. 7050Rs. 8295(15% OFF)',\n",
       " 'Rs. 7436Rs. 9295(20% OFF)',\n",
       " 'Rs. 6990',\n",
       " 'Rs. 8792Rs. 10990(20% OFF)',\n",
       " 'Rs. 7490',\n",
       " 'Rs. 11999',\n",
       " 'Rs. 7499Rs. 9999(25% OFF)',\n",
       " 'Rs. 8295',\n",
       " 'Rs. 9999',\n",
       " 'Rs. 8990',\n",
       " 'Rs. 8990',\n",
       " 'Rs. 6990',\n",
       " 'Rs. 6999Rs. 13999(50% OFF)',\n",
       " 'Rs. 7999Rs. 15999(50% OFF)',\n",
       " 'Rs. 7999Rs. 9999(20% OFF)',\n",
       " 'Rs. 11199Rs. 13999(20% OFF)',\n",
       " 'Rs. 9999',\n",
       " 'Rs. 6749Rs. 8999(25% OFF)',\n",
       " 'Rs. 8295',\n",
       " 'Rs. 7999Rs. 9999(20% OFF)',\n",
       " 'Rs. 7400Rs. 14800(50% OFF)',\n",
       " 'Rs. 7999',\n",
       " 'Rs. 6999Rs. 9999(30% OFF)',\n",
       " 'Rs. 8999',\n",
       " 'Rs. 7595Rs. 10850(30% OFF)',\n",
       " 'Rs. 11249Rs. 14999(25% OFF)',\n",
       " 'Rs. 9999',\n",
       " 'Rs. 9793Rs. 13990(30% OFF)',\n",
       " 'Rs. 9199Rs. 11499(20% OFF)',\n",
       " 'Rs. 6990',\n",
       " 'Rs. 7495',\n",
       " 'Rs. 6993Rs. 9990(30% OFF)',\n",
       " 'Rs. 7995',\n",
       " 'Rs. 11495',\n",
       " 'Rs. 11495',\n",
       " 'Rs. 7499Rs. 14999(50% OFF)',\n",
       " 'Rs. 7999Rs. 15999(50% OFF)',\n",
       " 'Rs. 10999',\n",
       " 'Rs. 8999',\n",
       " 'Rs. 9999',\n",
       " 'Rs. 7124Rs. 9499(25% OFF)',\n",
       " 'Rs. 6749Rs. 8999(25% OFF)',\n",
       " 'Rs. 6999',\n",
       " 'Rs. 10121Rs. 13495(25% OFF)',\n",
       " 'Rs. 7499Rs. 9999(25% OFF)',\n",
       " 'Rs. 7999Rs. 9999(20% OFF)',\n",
       " 'Rs. 7050Rs. 8295(15% OFF)',\n",
       " 'Rs. 7497Rs. 14995(50% OFF)',\n",
       " 'Rs. 6999',\n",
       " 'Rs. 6749Rs. 8999(25% OFF)',\n",
       " 'Rs. 7499Rs. 14999(50% OFF)',\n",
       " 'Rs. 7999Rs. 9999(20% OFF)',\n",
       " 'Rs. 7199Rs. 8999(20% OFF)',\n",
       " 'Rs. 8999',\n",
       " 'Rs. 12999',\n",
       " 'Rs. 8999Rs. 11999(25% OFF)',\n",
       " 'Rs. 9599Rs. 11999(20% OFF)',\n",
       " 'Rs. 6990',\n",
       " 'Rs. 8999',\n",
       " 'Rs. 7999',\n",
       " 'Rs. 9999',\n",
       " 'Rs. 6990',\n",
       " 'Rs. 7693Rs. 10990(30% OFF)',\n",
       " 'Rs. 7499Rs. 9999(25% OFF)',\n",
       " 'Rs. 6999Rs. 13999(50% OFF)',\n",
       " 'Rs. 8999Rs. 9999(10% OFF)',\n",
       " 'Rs. 7199Rs. 8999(20% OFF)',\n",
       " 'Rs. 6999',\n",
       " 'Rs. 9999']"
      ]
     },
     "execution_count": 109,
     "metadata": {},
     "output_type": "execute_result"
    }
   ],
   "source": [
    "price"
   ]
  },
  {
   "cell_type": "code",
   "execution_count": null,
   "id": "59b233e2",
   "metadata": {},
   "outputs": [],
   "source": []
  },
  {
   "cell_type": "code",
   "execution_count": 112,
   "id": "787b8a87",
   "metadata": {},
   "outputs": [
    {
     "data": {
      "text/html": [
       "<div>\n",
       "<style scoped>\n",
       "    .dataframe tbody tr th:only-of-type {\n",
       "        vertical-align: middle;\n",
       "    }\n",
       "\n",
       "    .dataframe tbody tr th {\n",
       "        vertical-align: top;\n",
       "    }\n",
       "\n",
       "    .dataframe thead th {\n",
       "        text-align: right;\n",
       "    }\n",
       "</style>\n",
       "<table border=\"1\" class=\"dataframe\">\n",
       "  <thead>\n",
       "    <tr style=\"text-align: right;\">\n",
       "      <th></th>\n",
       "      <th>Brands</th>\n",
       "      <th>Short Description</th>\n",
       "      <th>Price</th>\n",
       "    </tr>\n",
       "  </thead>\n",
       "  <tbody>\n",
       "    <tr>\n",
       "      <th>0</th>\n",
       "      <td>J.FONTINI</td>\n",
       "      <td>Men Colourblocked Driving Shoes</td>\n",
       "      <td>Rs. 9999</td>\n",
       "    </tr>\n",
       "    <tr>\n",
       "      <th>1</th>\n",
       "      <td>Hush Puppies</td>\n",
       "      <td>Men Leather Slip-On Sneakers</td>\n",
       "      <td>Rs. 8195</td>\n",
       "    </tr>\n",
       "    <tr>\n",
       "      <th>2</th>\n",
       "      <td>Hush Puppies</td>\n",
       "      <td>Men DBREAK-TYPE Sneakers</td>\n",
       "      <td>Rs. 7195Rs. 7995(10% OFF)</td>\n",
       "    </tr>\n",
       "    <tr>\n",
       "      <th>3</th>\n",
       "      <td>Nike</td>\n",
       "      <td>Men ZOOM WINFLO 6 Running</td>\n",
       "      <td>Rs. 9995</td>\n",
       "    </tr>\n",
       "    <tr>\n",
       "      <th>4</th>\n",
       "      <td>Nike</td>\n",
       "      <td>Men AIR ZOOM PEGASUS 38 Run</td>\n",
       "      <td>Rs. 8990</td>\n",
       "    </tr>\n",
       "    <tr>\n",
       "      <th>...</th>\n",
       "      <td>...</td>\n",
       "      <td>...</td>\n",
       "      <td>...</td>\n",
       "    </tr>\n",
       "    <tr>\n",
       "      <th>95</th>\n",
       "      <td>ALDO</td>\n",
       "      <td>Unisex RS-Fast Sneakers</td>\n",
       "      <td>Rs. 6999Rs. 13999(50% OFF)</td>\n",
       "    </tr>\n",
       "    <tr>\n",
       "      <th>96</th>\n",
       "      <td>CAT</td>\n",
       "      <td>Men Woven Design Sneakers</td>\n",
       "      <td>Rs. 8999Rs. 9999(10% OFF)</td>\n",
       "    </tr>\n",
       "    <tr>\n",
       "      <th>97</th>\n",
       "      <td>ADIDAS Originals</td>\n",
       "      <td>Men Superstar Sneakers</td>\n",
       "      <td>Rs. 7199Rs. 8999(20% OFF)</td>\n",
       "    </tr>\n",
       "    <tr>\n",
       "      <th>98</th>\n",
       "      <td>Hush Puppies</td>\n",
       "      <td>Men Leather Slip-On Sneakers</td>\n",
       "      <td>Rs. 6999</td>\n",
       "    </tr>\n",
       "    <tr>\n",
       "      <th>99</th>\n",
       "      <td>Hush Puppies</td>\n",
       "      <td>Men Solid Leather Formal Slip-Ons</td>\n",
       "      <td>Rs. 9999</td>\n",
       "    </tr>\n",
       "  </tbody>\n",
       "</table>\n",
       "<p>100 rows × 3 columns</p>\n",
       "</div>"
      ],
      "text/plain": [
       "              Brands                  Short Description  \\\n",
       "0          J.FONTINI    Men Colourblocked Driving Shoes   \n",
       "1       Hush Puppies       Men Leather Slip-On Sneakers   \n",
       "2       Hush Puppies           Men DBREAK-TYPE Sneakers   \n",
       "3               Nike          Men ZOOM WINFLO 6 Running   \n",
       "4               Nike        Men AIR ZOOM PEGASUS 38 Run   \n",
       "..               ...                                ...   \n",
       "95              ALDO            Unisex RS-Fast Sneakers   \n",
       "96               CAT          Men Woven Design Sneakers   \n",
       "97  ADIDAS Originals             Men Superstar Sneakers   \n",
       "98      Hush Puppies       Men Leather Slip-On Sneakers   \n",
       "99      Hush Puppies  Men Solid Leather Formal Slip-Ons   \n",
       "\n",
       "                         Price  \n",
       "0                     Rs. 9999  \n",
       "1                     Rs. 8195  \n",
       "2    Rs. 7195Rs. 7995(10% OFF)  \n",
       "3                     Rs. 9995  \n",
       "4                     Rs. 8990  \n",
       "..                         ...  \n",
       "95  Rs. 6999Rs. 13999(50% OFF)  \n",
       "96   Rs. 8999Rs. 9999(10% OFF)  \n",
       "97   Rs. 7199Rs. 8999(20% OFF)  \n",
       "98                    Rs. 6999  \n",
       "99                    Rs. 9999  \n",
       "\n",
       "[100 rows x 3 columns]"
      ]
     },
     "execution_count": 112,
     "metadata": {},
     "output_type": "execute_result"
    }
   ],
   "source": [
    "# Creating datab frame\n",
    "shoes=pd.DataFrame({})\n",
    "shoes['Brands']=brands\n",
    "shoes['Short Description']=desc\n",
    "shoes['Price']=price\n",
    "shoes"
   ]
  },
  {
   "cell_type": "markdown",
   "id": "6501f831",
   "metadata": {},
   "source": [
    "Shoes data."
   ]
  },
  {
   "cell_type": "code",
   "execution_count": null,
   "id": "4d944282",
   "metadata": {},
   "outputs": [],
   "source": []
  },
  {
   "cell_type": "code",
   "execution_count": null,
   "id": "24050efb",
   "metadata": {},
   "outputs": [],
   "source": []
  },
  {
   "cell_type": "markdown",
   "id": "ed42ade8",
   "metadata": {},
   "source": [
    "# @10) Go to webpage https://www.amazon.in/\n",
    " Enter “Laptop” in the search field and then click the search icon.\n",
    " Then set CPU Type filter to “Intel Core i7” and “Intel Core i9” After setting the filters scrape first 10 laptops data. You have to scrape 3 attributes \n",
    "for each laptop:\n",
    "1. title\n",
    "2. Ratings\n",
    "3. Price"
   ]
  },
  {
   "cell_type": "code",
   "execution_count": 9,
   "id": "0e5cde5e",
   "metadata": {},
   "outputs": [],
   "source": [
    "url='https://www.amazon.in/'\n",
    "driver.get(url)"
   ]
  },
  {
   "cell_type": "code",
   "execution_count": 10,
   "id": "d0cf933e",
   "metadata": {},
   "outputs": [],
   "source": [
    "# Creating empty ist\n",
    "item_title=[]\n",
    "price=[]\n",
    "rating=[]"
   ]
  },
  {
   "cell_type": "code",
   "execution_count": 16,
   "id": "cf7e1467",
   "metadata": {},
   "outputs": [],
   "source": [
    "# searching the laptops\n",
    "Lappy=driver.find_element_by_xpath('//input[@id=\"twotabsearchtextbox\"]')\n",
    "Lappy.send_keys('Laptops')"
   ]
  },
  {
   "cell_type": "code",
   "execution_count": 17,
   "id": "e2cf2bb9",
   "metadata": {},
   "outputs": [],
   "source": [
    "# Clicking on search button\n",
    "button=driver.find_element_by_xpath('//input[@type=\"submit\"]')\n",
    "button.click()"
   ]
  },
  {
   "cell_type": "code",
   "execution_count": 22,
   "id": "bd9359e6",
   "metadata": {},
   "outputs": [],
   "source": [
    "#Let's apply filter for \"Intel Core i7\"\n",
    "driver.find_element_by_xpath('//*[@id=\"p_n_feature_thirteen_browse-bin/12598163031\"]/span/a').click()"
   ]
  },
  {
   "cell_type": "code",
   "execution_count": 23,
   "id": "5b044369",
   "metadata": {},
   "outputs": [],
   "source": [
    "#Let's apply filter for \"Intel Core i9\" \n",
    "driver.find_element_by_xpath('//*[@id=\"p_n_feature_thirteen_browse-bin/16757432031\"]/span/a').click()"
   ]
  },
  {
   "cell_type": "code",
   "execution_count": 24,
   "id": "e66eec50",
   "metadata": {},
   "outputs": [
    {
     "data": {
      "text/plain": [
       "['Lenovo Yoga Slim 7 10th Gen Intel Core i7 14 inch Full HD IPS Thin and Light Laptop (8GB/512GB SSD/Windows 10/MS Office 2019/NVIDIA MX350 2GB GDDR5 Graphics/Slate Grey/1.55Kg), 82A1009KIN',\n",
       " 'Lenovo Yoga 7 11th Gen Intel Core i7 14\" (35.56cms) Full HD IPS 2-in-1 Touchscreen Laptop (16GB/512GB SSD/Windows 10/MS Office 2019/Fingerprint Reader/Slate Grey/Aluminium Surface/1.43Kg), 82BH004HIN',\n",
       " 'Lenovo Ideapad 5 Intel i7 11th Gen 15.6\" Thin and Light (16GB/512SSD/Win10 +Office Home/Intel Iris Xe Graphics/Graphite Grey/1.66kg), 82FG0117IN',\n",
       " 'HP Pavilion x360 (2021) 14\" (35.56cms) FHD Touchscreen Laptop, 11th Gen Core i7, 8 GB RAM, 512GB SSD, 2-in-1 Convertible, Windows 10, MS Office, Finger Print Reader (14-dw1040TU)',\n",
       " 'ASUS VivoBook S S14 Intel Core i7-1165G7 11th Gen, 14-inch FHD Thin and Light Laptop (8GB RAM/512GB SSD + 32GB Optane Memory/Windows 10/Office 2019/Iris X Graphics- Indie Black/1.4 Kg), S433EA-AM701TS',\n",
       " 'Lenovo ThinkPad E15 (2021) Intel Core i7 11th Gen 15.6\" FHD Thin and Light Laptop (16GB RAM/512GB SSD/Windows 10/MS Office/Fingerprint Reader/Black/Aluminium Surface/ 1.7 kg), 20TDS0G100',\n",
       " 'HP Pavilion (2021) Thin & Light 11th Gen Core i7 Laptop, 16 GB RAM, 1TB SSD, Iris Xe Graphics, 14\" (35.56cms) FHD Screen, Windows 10, MS Office, Backlit Keyboard (14-dv0058TU)',\n",
       " 'HP Pavilion Gaming 10th Gen Intel Core i7 Processor 15.6-inch FHD Gaming Laptop (16GB/512GB SSD + 32GB Intel Optane/Windows 10/NVIDIA 1650Ti 4GB/Shadow Black), 15-dk1509TX',\n",
       " 'Acer Predator Helios 300 Core i7 10th Generation (16 GB/1 TB SSD/Windows 10 Home/6 GB Graphics/NVIDIA GeForce RTX 3060/144 Hz) PH315-53 Gaming Laptop (15.6\" (39.62cms), Abyssal Black, 2.5 kg)',\n",
       " '(Renewed) Dell G7 7500 15.6inch FHD 300 Hz Display Gaming Laptop (10th Gen i9-10885H / 16 GB / 1TB SSD / NVIDIA RTX 2070 8GB Graphics / 1Yr Premium Warranty / Win 10 + MS Office H&S 2019) D560233WIN9B, Black',\n",
       " 'Life Digital Laptop 15.6-inch (39.62 cms) (Intel Core i7, 4GB RAM, 256GB SSD, Windows 10), ZED AIR CX7',\n",
       " 'Lenovo IdeaPad Gaming 3 10th Gen Intel Core i7 15.6-inch FHD IPS Gaming Laptop (8GB/1TB HDD + 256 GB SSD/Windows 10/NVIDIA GTX 1650 4GB GDDR6/with M100 RGB Gaming Mouse/Onyx Black/2.2Kg), 81Y400VAIN',\n",
       " 'Dell XPS 9310 13.4\" OLED Display 3.5K Touch Laptop (i7-1185G7/ 16GB / 1TB SSD / Integrated Graphics / 1Yr Premium Plus Warranty / Win 10 + MSO / Backlit KB + FPR / Silver) D560048WIN9S',\n",
       " 'Mi Notebook Horizon Edition 14 Intel Core i5-10210U 10th Gen 14-inch (35.56 cms) Thin and Light Laptop(8GB/512GB SSD/Windows 10/Nvidia MX350 2GB Graphics/Grey/1.35Kg), XMA1904-AR+Webcam',\n",
       " 'Mi Notebook Horizon Edition 14 Intel Core i5-10210U 10th Gen 14-inch (35.56 cms) Thin and Light Laptop(8GB/512GB SSD/Windows 10/Nvidia MX350 2GB Graphics/Grey/1.35Kg), XMA1904-AR+Webcam',\n",
       " 'MSI GS66 Stealth, Intel 10th Gen. i7-10875H, 15.6\" (39.62cms) FHD Gaming Laptop (16GB*2/1TB NVMe SSD/Windows 10 Home/Nvidia RTX 2070 Super Max-Q/ Black/2.1Kg), 10SFS-488IN',\n",
       " 'Lenovo Yoga 7 11th Gen Intel Core i7 14\" (35.56cms) Full HD IPS 2-in-1 Touchscreen Laptop (16GB/512GB SSD/Windows 10/MS Office 2019/Fingerprint Reader/Slate Grey/Aluminium Surface/1.43Kg), 82BH004HIN',\n",
       " 'MSI GF65 Thin, Intel i7-10750H, 15.6\" FHD (39.6 cm) IPS-Level 144Hz Panel Laptop (16GB/512GB NVMe SSD/Windows 10 Home/Nvidia GTX1660 Ti 6GB GDDR6/Black/1.86Kg), 10SDR-1280IN',\n",
       " 'Lenovo Yoga Slim 7i 11th Gen Intel Core i7 14\" FHD IPS Thin and Light Laptop (16GB/1TB SSD/Win 10/Office/Intel Iris Xe Graphics/Fingerprint/HD IR Camera/Aluminium Surface/Slate Grey/1.36Kg) 82A3009QIN',\n",
       " '(Renewed) Lenovo T430 14-inch Laptop (Core i7/ 8GB RAM(Upgradable to 16)/512GB SSD/Windows 10 Pro/MS Office 2019, Intel Integrated Graphics, PAN INDIA WARRANTY) Black',\n",
       " 'Lenovo Ideapad 5 i7 15.6\" Thin and Light Laptop (16GB/512SSD/Win10 + MSO/Intel Iris Xe Graphics/Graphite Grey/1.66kg), 82FG0117IN + Lenovo 110 Stereo USB-A Headset',\n",
       " 'Dell G3 3500 Gaming Laptop 15.6\" (39.62cms) FHD 120 Hz (10th Gen Core i7-10750H/8GB/512GB SSD/Windows 10 Home Plus & MS Office/NVIDIA1650 Ti Graphics/Eclipse Black) D560260WIN9BE',\n",
       " 'ASUS ZenBook Pro Duo 15 OLED (2021), Intel Core i7-10870H 11th Gen, 15.6\" 4K Dual-Screen Touch Laptop (32GB/1TB SSD/8GB GeForce RTX 3070/Office 2019/Windows 10/Celestial Blue/2.34 Kg), UX582LR-H701TS',\n",
       " 'ASUS ZenBook 14 (2020) Intel Core i7-1165G7 11th Gen 14\" (35.56cms) FHD T&L Laptop (16GB RAM/512GB NVMe SSD/Windows 10/MS Office 2019/Intel Iris Xáµ‰ Graphics/Pine Grey/1.17 kg), UX425EA-BM701TS',\n",
       " 'HP Omen 10th Gen Intel Core i7 Processor 15.6-inch FHD Gaming Laptop (i7-10750H/16GB/1TB SSD/Windows 10/300 Nits/144 Hz/NVIDIA GTX 1660ti 6GB/Shadow Black/2.36 kg), 15-ek0020TX',\n",
       " '(Renewed) Lenovo T430 14-inch Laptop (Core i7/ 8GB RAM (Upgradable to 16)/500GB HDD/Windows 10 Pro/MS Office 2019, Intel Integrated Graphics, PAN INDIA WARRANTY) Black',\n",
       " 'Lenovo Legion 5 10th Gen Intel Core i7 15.6 inch Full HD IPS Gaming Laptop (16GB/1TB HDD + 256GB SSD/Windows 10/120 Hz/NVIDIA GTX 1650 4GB GDDR6 Graphics/Phantom Black/2.3Kg), 82AU00KKIN',\n",
       " 'HP Envy x360 Convertible Touchscreen 13.3-inch FHD Laptop (11th Gen Intel Core i7-1165G7/16GB/512GB SSD/Win 10 Home/Alexa Built-in/Pale Gold/1.32kg), 13-bd0063TU',\n",
       " 'ASUS ZenBook Flip S OLED, Intel Evo Core i7-1165G7 11th Gen, 13.3-inch UHD Touch Thin and Light 2-in-1 Laptop (16GB/1TB SSD/Windows 10/Office 2019/Iris X Graphics/Jade Black/1.2 kg), UX371EA-HL701TS',\n",
       " 'Asus zenbook 3 Deluxe UX490UA-BE045T']"
      ]
     },
     "execution_count": 24,
     "metadata": {},
     "output_type": "execute_result"
    }
   ],
   "source": [
    "# extracting titles\n",
    "titles=driver.find_elements_by_xpath('//span[@class=\"a-size-medium a-color-base a-text-normal\"]')\n",
    "for i in titles:\n",
    "    item_title.append(i.text)\n",
    "item_title    "
   ]
  },
  {
   "cell_type": "code",
   "execution_count": 26,
   "id": "dff9a508",
   "metadata": {},
   "outputs": [
    {
     "data": {
      "text/plain": [
       "['83,990',\n",
       " '97,990',\n",
       " '76,990',\n",
       " '78,990',\n",
       " '77,175',\n",
       " '90,990',\n",
       " '84,990',\n",
       " '86,990',\n",
       " '1,29,990',\n",
       " '1,70,587',\n",
       " '26,990',\n",
       " '77,990',\n",
       " '1,89,990',\n",
       " '54,999',\n",
       " '54,999',\n",
       " '2,56,072',\n",
       " '97,990',\n",
       " '90,733',\n",
       " '99,990',\n",
       " '51,999',\n",
       " '79,789',\n",
       " '86,290',\n",
       " '2,39,990',\n",
       " '99,990',\n",
       " '1,29,500',\n",
       " '50,499',\n",
       " '1,02,990',\n",
       " '1,45,490',\n",
       " '98,990']"
      ]
     },
     "execution_count": 26,
     "metadata": {},
     "output_type": "execute_result"
    }
   ],
   "source": [
    "# Extracting Price\n",
    "prices=driver.find_elements_by_xpath('//span[@class=\"a-price-whole\"]')\n",
    "for i in prices:\n",
    "    price.append(i.text)\n",
    "    \n",
    "        \n",
    "        \n",
    "price      "
   ]
  },
  {
   "cell_type": "code",
   "execution_count": 28,
   "id": "faf3f70b",
   "metadata": {},
   "outputs": [
    {
     "data": {
      "text/plain": [
       "['3.2 out of 5 stars',\n",
       " '4.2 out of 5 stars',\n",
       " '5.0 out of 5 stars',\n",
       " '3.8 out of 5 stars',\n",
       " '4.3 out of 5 stars',\n",
       " '4.5 out of 5 stars',\n",
       " '4.1 out of 5 stars',\n",
       " '3.0 out of 5 stars',\n",
       " '3.1 out of 5 stars',\n",
       " '4.3 out of 5 stars',\n",
       " '4.4 out of 5 stars',\n",
       " '4.4 out of 5 stars',\n",
       " '3.0 out of 5 stars',\n",
       " '4.2 out of 5 stars',\n",
       " '5.0 out of 5 stars',\n",
       " '4.1 out of 5 stars',\n",
       " '4.4 out of 5 stars',\n",
       " '3.1 out of 5 stars',\n",
       " '4.4 out of 5 stars',\n",
       " '4.5 out of 5 stars',\n",
       " '4.6 out of 5 stars',\n",
       " '3.3 out of 5 stars']"
      ]
     },
     "execution_count": 28,
     "metadata": {},
     "output_type": "execute_result"
    }
   ],
   "source": [
    "# Extracting rating\n",
    "ratings=driver.find_elements_by_xpath('//div[@class=\"a-row a-size-small\"]/span[1]')\n",
    "for i in ratings:\n",
    "    rating.append(i.get_attribute('aria-label'))\n",
    "rating    "
   ]
  },
  {
   "cell_type": "code",
   "execution_count": 31,
   "id": "7015977d",
   "metadata": {},
   "outputs": [],
   "source": [
    "# Creating DataFrame\n",
    "Laptops=pd.DataFrame({})\n",
    "Laptops['TITLE']=item_title[:10]\n",
    "Laptops['PRICE']=price[:10]\n",
    "Laptops['Rating']=rating[:10]"
   ]
  },
  {
   "cell_type": "code",
   "execution_count": 32,
   "id": "d7ca6283",
   "metadata": {},
   "outputs": [
    {
     "data": {
      "text/html": [
       "<div>\n",
       "<style scoped>\n",
       "    .dataframe tbody tr th:only-of-type {\n",
       "        vertical-align: middle;\n",
       "    }\n",
       "\n",
       "    .dataframe tbody tr th {\n",
       "        vertical-align: top;\n",
       "    }\n",
       "\n",
       "    .dataframe thead th {\n",
       "        text-align: right;\n",
       "    }\n",
       "</style>\n",
       "<table border=\"1\" class=\"dataframe\">\n",
       "  <thead>\n",
       "    <tr style=\"text-align: right;\">\n",
       "      <th></th>\n",
       "      <th>TITLE</th>\n",
       "      <th>PRICE</th>\n",
       "      <th>Rating</th>\n",
       "    </tr>\n",
       "  </thead>\n",
       "  <tbody>\n",
       "    <tr>\n",
       "      <th>0</th>\n",
       "      <td>Lenovo Yoga Slim 7 10th Gen Intel Core i7 14 i...</td>\n",
       "      <td>83,990</td>\n",
       "      <td>3.2 out of 5 stars</td>\n",
       "    </tr>\n",
       "    <tr>\n",
       "      <th>1</th>\n",
       "      <td>Lenovo Yoga 7 11th Gen Intel Core i7 14\" (35.5...</td>\n",
       "      <td>97,990</td>\n",
       "      <td>4.2 out of 5 stars</td>\n",
       "    </tr>\n",
       "    <tr>\n",
       "      <th>2</th>\n",
       "      <td>Lenovo Ideapad 5 Intel i7 11th Gen 15.6\" Thin ...</td>\n",
       "      <td>76,990</td>\n",
       "      <td>5.0 out of 5 stars</td>\n",
       "    </tr>\n",
       "    <tr>\n",
       "      <th>3</th>\n",
       "      <td>HP Pavilion x360 (2021) 14\" (35.56cms) FHD Tou...</td>\n",
       "      <td>78,990</td>\n",
       "      <td>3.8 out of 5 stars</td>\n",
       "    </tr>\n",
       "    <tr>\n",
       "      <th>4</th>\n",
       "      <td>ASUS VivoBook S S14 Intel Core i7-1165G7 11th ...</td>\n",
       "      <td>77,175</td>\n",
       "      <td>4.3 out of 5 stars</td>\n",
       "    </tr>\n",
       "    <tr>\n",
       "      <th>5</th>\n",
       "      <td>Lenovo ThinkPad E15 (2021) Intel Core i7 11th ...</td>\n",
       "      <td>90,990</td>\n",
       "      <td>4.5 out of 5 stars</td>\n",
       "    </tr>\n",
       "    <tr>\n",
       "      <th>6</th>\n",
       "      <td>HP Pavilion (2021) Thin &amp; Light 11th Gen Core ...</td>\n",
       "      <td>84,990</td>\n",
       "      <td>4.1 out of 5 stars</td>\n",
       "    </tr>\n",
       "    <tr>\n",
       "      <th>7</th>\n",
       "      <td>HP Pavilion Gaming 10th Gen Intel Core i7 Proc...</td>\n",
       "      <td>86,990</td>\n",
       "      <td>3.0 out of 5 stars</td>\n",
       "    </tr>\n",
       "    <tr>\n",
       "      <th>8</th>\n",
       "      <td>Acer Predator Helios 300 Core i7 10th Generati...</td>\n",
       "      <td>1,29,990</td>\n",
       "      <td>3.1 out of 5 stars</td>\n",
       "    </tr>\n",
       "    <tr>\n",
       "      <th>9</th>\n",
       "      <td>(Renewed) Dell G7 7500 15.6inch FHD 300 Hz Dis...</td>\n",
       "      <td>1,70,587</td>\n",
       "      <td>4.3 out of 5 stars</td>\n",
       "    </tr>\n",
       "  </tbody>\n",
       "</table>\n",
       "</div>"
      ],
      "text/plain": [
       "                                               TITLE     PRICE  \\\n",
       "0  Lenovo Yoga Slim 7 10th Gen Intel Core i7 14 i...    83,990   \n",
       "1  Lenovo Yoga 7 11th Gen Intel Core i7 14\" (35.5...    97,990   \n",
       "2  Lenovo Ideapad 5 Intel i7 11th Gen 15.6\" Thin ...    76,990   \n",
       "3  HP Pavilion x360 (2021) 14\" (35.56cms) FHD Tou...    78,990   \n",
       "4  ASUS VivoBook S S14 Intel Core i7-1165G7 11th ...    77,175   \n",
       "5  Lenovo ThinkPad E15 (2021) Intel Core i7 11th ...    90,990   \n",
       "6  HP Pavilion (2021) Thin & Light 11th Gen Core ...    84,990   \n",
       "7  HP Pavilion Gaming 10th Gen Intel Core i7 Proc...    86,990   \n",
       "8  Acer Predator Helios 300 Core i7 10th Generati...  1,29,990   \n",
       "9  (Renewed) Dell G7 7500 15.6inch FHD 300 Hz Dis...  1,70,587   \n",
       "\n",
       "               Rating  \n",
       "0  3.2 out of 5 stars  \n",
       "1  4.2 out of 5 stars  \n",
       "2  5.0 out of 5 stars  \n",
       "3  3.8 out of 5 stars  \n",
       "4  4.3 out of 5 stars  \n",
       "5  4.5 out of 5 stars  \n",
       "6  4.1 out of 5 stars  \n",
       "7  3.0 out of 5 stars  \n",
       "8  3.1 out of 5 stars  \n",
       "9  4.3 out of 5 stars  "
      ]
     },
     "execution_count": 32,
     "metadata": {},
     "output_type": "execute_result"
    }
   ],
   "source": [
    "Laptops"
   ]
  },
  {
   "cell_type": "code",
   "execution_count": null,
   "id": "59afed40",
   "metadata": {},
   "outputs": [],
   "source": []
  }
 ],
 "metadata": {
  "kernelspec": {
   "display_name": "Python 3",
   "language": "python",
   "name": "python3"
  },
  "language_info": {
   "codemirror_mode": {
    "name": "ipython",
    "version": 3
   },
   "file_extension": ".py",
   "mimetype": "text/x-python",
   "name": "python",
   "nbconvert_exporter": "python",
   "pygments_lexer": "ipython3",
   "version": "3.8.8"
  }
 },
 "nbformat": 4,
 "nbformat_minor": 5
}
