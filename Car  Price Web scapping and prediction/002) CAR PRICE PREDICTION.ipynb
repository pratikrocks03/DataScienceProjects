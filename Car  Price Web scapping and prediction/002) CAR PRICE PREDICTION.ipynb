{
 "cells": [
  {
   "cell_type": "markdown",
   "id": "a68191bf",
   "metadata": {},
   "source": [
    "# CAR PRICE PREDICTION\n",
    "With the covid 19 impact in the market, we have seen lot of changes in the car market. Now some \n",
    "cars are in demand hence making them costly and some are not in demand hence cheaper. One \n",
    "of our clients works with small traders, who sell used cars. With the change in market due to covid \n",
    "19 impact, our client is facing problems with their previous car price valuation machine learning \n",
    "models. So, they are looking for new machine learning models from new data. We have to make \n",
    "car price valuation model. This project contains two phase\n",
    "# \u0002Data Collection Phase\n",
    "You have to scrape at least 5000 used cars data. You can scrape more data as well, it’s up to you. \n",
    "more the data better the model\n",
    "In this section You need to scrape the data of used cars from websites (Olx, cardekho, Cars24 \n",
    "etc.) You need web scraping for this. You have to fetch data for different locations. The number of\n",
    "columns for data doesn’t have limit, it’s up to you and your creativity. Generally, these columns are \n",
    "Brand, model, variant, manufacturing year, driven kilometers, fuel, number of owners, location and \n",
    "at last target variable Price of the car. This data is to give you a hint about important variables in \n",
    "used car model. You can make changes to it, you can add or you can remove some columns, it \n",
    "completely depends on the website from which you are fetching the data.\n",
    "Try to include all types of cars in your data for example- SUV, Sedans, Coupe, minivan, \n",
    "Hatchback.\n",
    "Note – The data which you are collecting is important to us. Kindly don’t share it on any public platforms.\n",
    "# Model Building Phase\n",
    "After collecting the data, you need to build a machine learning model. Before model building do all \n",
    "data pre-processing steps. Try different models with different hyper parameters and select the best \n",
    "model."
   ]
  },
  {
   "cell_type": "markdown",
   "id": "5c2e55e7",
   "metadata": {},
   "source": [
    "## WebScrapping"
   ]
  },
  {
   "cell_type": "code",
   "execution_count": 1,
   "id": "853b23a7",
   "metadata": {},
   "outputs": [
    {
     "name": "stdout",
     "output_type": "stream",
     "text": [
      "Requirement already satisfied: selenium in c:\\programdata\\anaconda2\\lib\\site-packages (3.141.0)\n",
      "Requirement already satisfied: urllib3 in c:\\programdata\\anaconda2\\lib\\site-packages (from selenium) (1.26.6)\n"
     ]
    },
    {
     "name": "stderr",
     "output_type": "stream",
     "text": [
      "WARNING: Ignoring invalid distribution -ikit-learn (c:\\programdata\\anaconda2\\lib\\site-packages)\n",
      "WARNING: Ignoring invalid distribution -ikit-learn (c:\\programdata\\anaconda2\\lib\\site-packages)\n",
      "WARNING: Ignoring invalid distribution - (c:\\programdata\\anaconda2\\lib\\site-packages)\n",
      "WARNING: Ignoring invalid distribution -cikit-learn (c:\\programdata\\anaconda2\\lib\\site-packages)\n",
      "WARNING: Ignoring invalid distribution -ikit-learn (c:\\programdata\\anaconda2\\lib\\site-packages)\n",
      "WARNING: Ignoring invalid distribution -ikit-learn (c:\\programdata\\anaconda2\\lib\\site-packages)\n",
      "WARNING: Ignoring invalid distribution - (c:\\programdata\\anaconda2\\lib\\site-packages)\n",
      "WARNING: Ignoring invalid distribution -cikit-learn (c:\\programdata\\anaconda2\\lib\\site-packages)\n",
      "WARNING: Ignoring invalid distribution -ikit-learn (c:\\programdata\\anaconda2\\lib\\site-packages)\n",
      "WARNING: Ignoring invalid distribution -ikit-learn (c:\\programdata\\anaconda2\\lib\\site-packages)\n",
      "WARNING: Ignoring invalid distribution - (c:\\programdata\\anaconda2\\lib\\site-packages)\n",
      "WARNING: Ignoring invalid distribution -cikit-learn (c:\\programdata\\anaconda2\\lib\\site-packages)\n",
      "WARNING: Ignoring invalid distribution -ikit-learn (c:\\programdata\\anaconda2\\lib\\site-packages)\n",
      "WARNING: Ignoring invalid distribution -ikit-learn (c:\\programdata\\anaconda2\\lib\\site-packages)\n",
      "WARNING: Ignoring invalid distribution - (c:\\programdata\\anaconda2\\lib\\site-packages)\n",
      "WARNING: Ignoring invalid distribution -cikit-learn (c:\\programdata\\anaconda2\\lib\\site-packages)\n",
      "WARNING: Ignoring invalid distribution -ikit-learn (c:\\programdata\\anaconda2\\lib\\site-packages)\n",
      "WARNING: Ignoring invalid distribution -ikit-learn (c:\\programdata\\anaconda2\\lib\\site-packages)\n",
      "WARNING: Ignoring invalid distribution - (c:\\programdata\\anaconda2\\lib\\site-packages)\n",
      "WARNING: Ignoring invalid distribution -cikit-learn (c:\\programdata\\anaconda2\\lib\\site-packages)\n",
      "WARNING: Ignoring invalid distribution -ikit-learn (c:\\programdata\\anaconda2\\lib\\site-packages)\n",
      "WARNING: Ignoring invalid distribution -ikit-learn (c:\\programdata\\anaconda2\\lib\\site-packages)\n",
      "WARNING: Ignoring invalid distribution - (c:\\programdata\\anaconda2\\lib\\site-packages)\n",
      "WARNING: Ignoring invalid distribution -cikit-learn (c:\\programdata\\anaconda2\\lib\\site-packages)\n"
     ]
    }
   ],
   "source": [
    "!pip install selenium\n"
   ]
  },
  {
   "cell_type": "markdown",
   "id": "212523d1",
   "metadata": {},
   "source": [
    "# Importing libraries"
   ]
  },
  {
   "cell_type": "code",
   "execution_count": 2,
   "id": "eb1b55e4",
   "metadata": {},
   "outputs": [],
   "source": [
    "import pandas as pd\n",
    "import selenium\n",
    "from selenium import webdriver\n",
    "import time\n",
    "from selenium.common.exceptions import StaleElementReferenceException, NoSuchElementException"
   ]
  },
  {
   "cell_type": "markdown",
   "id": "a79435e1",
   "metadata": {},
   "source": [
    "# Scrapping Data for car "
   ]
  },
  {
   "cell_type": "code",
   "execution_count": 3,
   "id": "469f859e",
   "metadata": {},
   "outputs": [],
   "source": [
    "driver=webdriver.Chrome(\"chromedriver.exe\") "
   ]
  },
  {
   "cell_type": "code",
   "execution_count": 5,
   "id": "7a16f1e7",
   "metadata": {},
   "outputs": [],
   "source": [
    "# Creating empty list\n",
    "car=[]\n",
    "variant=[]\n",
    "km=[]\n",
    "owner=[]\n",
    "tank=[]\n",
    "emi=[]\n",
    "price=[]\n",
    "discount=[]"
   ]
  },
  {
   "cell_type": "code",
   "execution_count": 11,
   "id": "3f387e47",
   "metadata": {},
   "outputs": [],
   "source": [
    "# scrapping detail\n",
    "start=0\n",
    "end=25\n",
    "for page in range(start,end):\n",
    "    cars=driver.find_elements_by_xpath(\"//h2[@class='_3FpCg']\")\n",
    "    for i in cars:\n",
    "        try:\n",
    "            car.append(i.text)\n",
    "        except NoSuchElementException:\n",
    "            car.append(\"-\")\n",
    "            \n",
    "            \n",
    "    var=driver.find_elements_by_xpath(\"//p[@class='cvakB']\")\n",
    "    for i in var:\n",
    "        try:\n",
    "            variant.append(i.text)\n",
    "        except NoSuchElementException:\n",
    "            variant.appne('--')\n",
    "            \n",
    "            \n",
    "    kms=driver.find_elements_by_xpath(\"//ul[@class='bVR0c']/li\")\n",
    "    for i in kms:\n",
    "        try:\n",
    "            km.append(i.text)\n",
    "        except NoSuchElementException:\n",
    "            km.appned(\"--\")\n",
    "            \n",
    "            \n",
    "    \n",
    "    emis=driver.find_elements_by_xpath(\"//div[@class='_2HFRN']\")\n",
    "    for i in emis:\n",
    "        try:\n",
    "            emi.append(i.text)\n",
    "        except NoSuchElementException:\n",
    "            emi.append(\"--\")\n",
    "            \n",
    "            \n",
    "   \n",
    "            \n",
    "    disc=driver.find_elements_by_xpath(\"//p[@class='_31Wtw']\")\n",
    "    for i in disc:\n",
    "        try:\n",
    "            discount.append(i.text)\n",
    "        except NoSuchElementException:\n",
    "            discount.append('--')\n",
    "            \n",
    "            \n",
    "            \n",
    "    prc=driver.find_elements_by_xpath(\"//div[@class='_7udZZ']\")\n",
    "    for i in prc:\n",
    "        try:\n",
    "            price.append(i.text)\n",
    "        except NoSuchElementException:\n",
    "            price.append(\"--\")\n",
    "        \n",
    "        \n",
    "            "
   ]
  },
  {
   "cell_type": "code",
   "execution_count": 44,
   "id": "2b744679",
   "metadata": {},
   "outputs": [],
   "source": [
    "discount_percentage=[]\n",
    "downpayment=[]\n",
    "star=0\n",
    "end=25\n",
    "for page in range(start,end):\n",
    "    dpr=driver.find_elements_by_xpath(\"//div[@class='_3mZ8j']\")\n",
    "    for i in dpr:\n",
    "        try:\n",
    "            discount_percentage.append(i.text)\n",
    "        except NoSuchElementException:\n",
    "            discount_percentage(\"--\")\n",
    "            \n",
    "            \n",
    "    dp=driver.find_elements_by_xpath(\"//div[@class='JvSRy']/span)\n",
    "    for i in dp:\n",
    "        try:\n",
    "            downpayment.append(i.text)\n",
    "        except NoSuchElementException:\n",
    "            downpayment.append(\"--\")\n",
    "            \n",
    "            \n",
    "        \n",
    "    "
   ]
  },
  {
   "cell_type": "code",
   "execution_count": 49,
   "id": "194dd0e5",
   "metadata": {},
   "outputs": [],
   "source": [
    "start=0\n",
    "end=25\n",
    "for page in range(start,end):\n",
    "    dp=driver.find_elements_by_xpath(\"//div[@class='JvSRy']/span\")\n",
    "    try:\n",
    "        downpayment.append(i.text)\n",
    "    except NoSuchElementException:\n",
    "        downpayment.append(\"--\")\n",
    "        \n",
    "            \n",
    "        \n",
    "    "
   ]
  },
  {
   "cell_type": "code",
   "execution_count": 54,
   "id": "5a0d59fd",
   "metadata": {},
   "outputs": [],
   "source": [
    "# creating dataframe\n",
    "df=pd.DataFrame({})\n",
    "df['Car Name and Model']=car[:11000]\n",
    "df['Variant']=variant[:11000]\n",
    "df['Other Details']=km[:11000]\n",
    "df['Discount Percentage']=discount_percentage[:11000]\n",
    "df['EMI']=emi[:11000]\n",
    "df['Discount']=discount[:11000]\n",
    "df['Price']=price[:11000]"
   ]
  },
  {
   "cell_type": "code",
   "execution_count": 56,
   "id": "0b265441",
   "metadata": {},
   "outputs": [
    {
     "data": {
      "text/html": [
       "<div>\n",
       "<style scoped>\n",
       "    .dataframe tbody tr th:only-of-type {\n",
       "        vertical-align: middle;\n",
       "    }\n",
       "\n",
       "    .dataframe tbody tr th {\n",
       "        vertical-align: top;\n",
       "    }\n",
       "\n",
       "    .dataframe thead th {\n",
       "        text-align: right;\n",
       "    }\n",
       "</style>\n",
       "<table border=\"1\" class=\"dataframe\">\n",
       "  <thead>\n",
       "    <tr style=\"text-align: right;\">\n",
       "      <th></th>\n",
       "      <th>Car Name and Model</th>\n",
       "      <th>Variant</th>\n",
       "      <th>Other Details</th>\n",
       "      <th>Discount Percentage</th>\n",
       "      <th>EMI</th>\n",
       "      <th>Discount</th>\n",
       "      <th>Price</th>\n",
       "    </tr>\n",
       "  </thead>\n",
       "  <tbody>\n",
       "    <tr>\n",
       "      <th>0</th>\n",
       "      <td>2014 Maruti Alto 800</td>\n",
       "      <td>VXI Manual</td>\n",
       "      <td>12,535 km</td>\n",
       "      <td>₹28,000 OFF</td>\n",
       "      <td>₹6,531/month</td>\n",
       "      <td>₹3,21,599</td>\n",
       "      <td>₹2,93,599</td>\n",
       "    </tr>\n",
       "    <tr>\n",
       "      <th>1</th>\n",
       "      <td>2021 Hyundai VENUE</td>\n",
       "      <td>S MT 1.2 KAPPA</td>\n",
       "      <td>1st Owner</td>\n",
       "      <td>₹14,000 OFF</td>\n",
       "      <td>₹17,678/month</td>\n",
       "      <td>₹8,08,699</td>\n",
       "      <td>₹7,94,699</td>\n",
       "    </tr>\n",
       "    <tr>\n",
       "      <th>2</th>\n",
       "      <td>2014 Hyundai Grand i10</td>\n",
       "      <td>SPORTS 1.2 VTVT Manual</td>\n",
       "      <td>Petrol</td>\n",
       "      <td>₹35,000 OFF</td>\n",
       "      <td>₹8,386/month</td>\n",
       "      <td>₹4,11,999</td>\n",
       "      <td>₹3,76,999</td>\n",
       "    </tr>\n",
       "    <tr>\n",
       "      <th>3</th>\n",
       "      <td>2017 Maruti Alto K10</td>\n",
       "      <td>VXI Manual</td>\n",
       "      <td>2,589 km</td>\n",
       "      <td>₹29,000 OFF</td>\n",
       "      <td>₹7,843/month</td>\n",
       "      <td>₹3,81,599</td>\n",
       "      <td>₹3,52,599</td>\n",
       "    </tr>\n",
       "    <tr>\n",
       "      <th>4</th>\n",
       "      <td>2011 Maruti Alto K10</td>\n",
       "      <td>VXI Manual</td>\n",
       "      <td>1st Owner</td>\n",
       "      <td>₹9,000 OFF</td>\n",
       "      <td>₹4,734/month</td>\n",
       "      <td>₹2,21,799</td>\n",
       "      <td>₹2,12,799</td>\n",
       "    </tr>\n",
       "    <tr>\n",
       "      <th>...</th>\n",
       "      <td>...</td>\n",
       "      <td>...</td>\n",
       "      <td>...</td>\n",
       "      <td>...</td>\n",
       "      <td>...</td>\n",
       "      <td>...</td>\n",
       "      <td>...</td>\n",
       "    </tr>\n",
       "    <tr>\n",
       "      <th>10995</th>\n",
       "      <td>2015 Toyota Etios Liva</td>\n",
       "      <td>GD Manual</td>\n",
       "      <td>2,723 km</td>\n",
       "      <td>₹18,000 OFF</td>\n",
       "      <td>₹10,264/month</td>\n",
       "      <td>₹5,59,199</td>\n",
       "      <td>₹4,61,399</td>\n",
       "    </tr>\n",
       "    <tr>\n",
       "      <th>10996</th>\n",
       "      <td>2017 Maruti Alto 800</td>\n",
       "      <td>LXI Manual</td>\n",
       "      <td>1st Owner</td>\n",
       "      <td>₹31,000 OFF</td>\n",
       "      <td>₹6,466/month</td>\n",
       "      <td>₹3,94,699</td>\n",
       "      <td>₹2,90,699</td>\n",
       "    </tr>\n",
       "    <tr>\n",
       "      <th>10997</th>\n",
       "      <td>2013 Maruti Ritz</td>\n",
       "      <td>VXI BS IV Manual</td>\n",
       "      <td>Petrol</td>\n",
       "      <td>₹24,000 OFF</td>\n",
       "      <td>₹6,075/month</td>\n",
       "      <td>₹4,00,999</td>\n",
       "      <td>₹2,73,099</td>\n",
       "    </tr>\n",
       "    <tr>\n",
       "      <th>10998</th>\n",
       "      <td>2010 Maruti Alto</td>\n",
       "      <td>LXI Manual</td>\n",
       "      <td>2,147 km</td>\n",
       "      <td>₹5,000 OFF</td>\n",
       "      <td>₹3,526/month</td>\n",
       "      <td>₹4,12,499</td>\n",
       "      <td>₹1,58,499</td>\n",
       "    </tr>\n",
       "    <tr>\n",
       "      <th>10999</th>\n",
       "      <td>2020 Honda Amaze</td>\n",
       "      <td>1.2 SMT I VTEC Manual</td>\n",
       "      <td>1st Owner</td>\n",
       "      <td>₹27,000 OFF</td>\n",
       "      <td>₹15,291/month</td>\n",
       "      <td>₹3,10,000</td>\n",
       "      <td>₹6,87,399</td>\n",
       "    </tr>\n",
       "  </tbody>\n",
       "</table>\n",
       "<p>11000 rows × 7 columns</p>\n",
       "</div>"
      ],
      "text/plain": [
       "           Car Name and Model                 Variant Other Details  \\\n",
       "0        2014 Maruti Alto 800              VXI Manual     12,535 km   \n",
       "1          2021 Hyundai VENUE          S MT 1.2 KAPPA     1st Owner   \n",
       "2      2014 Hyundai Grand i10  SPORTS 1.2 VTVT Manual        Petrol   \n",
       "3        2017 Maruti Alto K10              VXI Manual      2,589 km   \n",
       "4        2011 Maruti Alto K10              VXI Manual     1st Owner   \n",
       "...                       ...                     ...           ...   \n",
       "10995  2015 Toyota Etios Liva               GD Manual      2,723 km   \n",
       "10996    2017 Maruti Alto 800              LXI Manual     1st Owner   \n",
       "10997        2013 Maruti Ritz        VXI BS IV Manual        Petrol   \n",
       "10998        2010 Maruti Alto              LXI Manual      2,147 km   \n",
       "10999        2020 Honda Amaze   1.2 SMT I VTEC Manual     1st Owner   \n",
       "\n",
       "      Discount Percentage            EMI   Discount      Price  \n",
       "0             ₹28,000 OFF   ₹6,531/month  ₹3,21,599  ₹2,93,599  \n",
       "1             ₹14,000 OFF  ₹17,678/month  ₹8,08,699  ₹7,94,699  \n",
       "2             ₹35,000 OFF   ₹8,386/month  ₹4,11,999  ₹3,76,999  \n",
       "3             ₹29,000 OFF   ₹7,843/month  ₹3,81,599  ₹3,52,599  \n",
       "4              ₹9,000 OFF   ₹4,734/month  ₹2,21,799  ₹2,12,799  \n",
       "...                   ...            ...        ...        ...  \n",
       "10995         ₹18,000 OFF  ₹10,264/month  ₹5,59,199  ₹4,61,399  \n",
       "10996         ₹31,000 OFF   ₹6,466/month  ₹3,94,699  ₹2,90,699  \n",
       "10997         ₹24,000 OFF   ₹6,075/month  ₹4,00,999  ₹2,73,099  \n",
       "10998          ₹5,000 OFF   ₹3,526/month  ₹4,12,499  ₹1,58,499  \n",
       "10999         ₹27,000 OFF  ₹15,291/month  ₹3,10,000  ₹6,87,399  \n",
       "\n",
       "[11000 rows x 7 columns]"
      ]
     },
     "execution_count": 56,
     "metadata": {},
     "output_type": "execute_result"
    }
   ],
   "source": [
    "df"
   ]
  },
  {
   "cell_type": "code",
   "execution_count": 57,
   "id": "b07bd8b4",
   "metadata": {},
   "outputs": [],
   "source": [
    "# saving Dataframe into csv\n",
    "df.to_csv('car_price.csv')"
   ]
  },
  {
   "cell_type": "markdown",
   "id": "f2ec64fe",
   "metadata": {},
   "source": [
    "## Model Building Phase\n",
    "## Importing Libraries"
   ]
  },
  {
   "cell_type": "code",
   "execution_count": 5,
   "id": "4bac19f1",
   "metadata": {},
   "outputs": [],
   "source": [
    "import numpy as np\n",
    "import seaborn as sns\n",
    "import matplotlib.pyplot as plt\n",
    "import warnings\n",
    "warnings.filterwarnings('ignore')"
   ]
  },
  {
   "cell_type": "markdown",
   "id": "fad1350e",
   "metadata": {},
   "source": [
    "## Loading the Dataset"
   ]
  },
  {
   "cell_type": "code",
   "execution_count": 6,
   "id": "e80ad578",
   "metadata": {},
   "outputs": [
    {
     "data": {
      "text/html": [
       "<div>\n",
       "<style scoped>\n",
       "    .dataframe tbody tr th:only-of-type {\n",
       "        vertical-align: middle;\n",
       "    }\n",
       "\n",
       "    .dataframe tbody tr th {\n",
       "        vertical-align: top;\n",
       "    }\n",
       "\n",
       "    .dataframe thead th {\n",
       "        text-align: right;\n",
       "    }\n",
       "</style>\n",
       "<table border=\"1\" class=\"dataframe\">\n",
       "  <thead>\n",
       "    <tr style=\"text-align: right;\">\n",
       "      <th></th>\n",
       "      <th>Unnamed: 0</th>\n",
       "      <th>Car Name and Model</th>\n",
       "      <th>Variant</th>\n",
       "      <th>Other Details</th>\n",
       "      <th>Discount Percentage</th>\n",
       "      <th>EMI</th>\n",
       "      <th>Discount</th>\n",
       "      <th>Price</th>\n",
       "    </tr>\n",
       "  </thead>\n",
       "  <tbody>\n",
       "    <tr>\n",
       "      <th>0</th>\n",
       "      <td>0</td>\n",
       "      <td>2014 Maruti Alto 800</td>\n",
       "      <td>VXI Manual</td>\n",
       "      <td>12,535 km</td>\n",
       "      <td>₹28,000 OFF</td>\n",
       "      <td>₹6,531/month</td>\n",
       "      <td>₹3,21,599</td>\n",
       "      <td>₹2,93,599</td>\n",
       "    </tr>\n",
       "    <tr>\n",
       "      <th>1</th>\n",
       "      <td>1</td>\n",
       "      <td>2021 Hyundai VENUE</td>\n",
       "      <td>S MT 1.2 KAPPA</td>\n",
       "      <td>1st Owner</td>\n",
       "      <td>₹14,000 OFF</td>\n",
       "      <td>₹17,678/month</td>\n",
       "      <td>₹8,08,699</td>\n",
       "      <td>₹7,94,699</td>\n",
       "    </tr>\n",
       "    <tr>\n",
       "      <th>2</th>\n",
       "      <td>2</td>\n",
       "      <td>2014 Hyundai Grand i10</td>\n",
       "      <td>SPORTS 1.2 VTVT Manual</td>\n",
       "      <td>Petrol</td>\n",
       "      <td>₹35,000 OFF</td>\n",
       "      <td>₹8,386/month</td>\n",
       "      <td>₹4,11,999</td>\n",
       "      <td>₹3,76,999</td>\n",
       "    </tr>\n",
       "    <tr>\n",
       "      <th>3</th>\n",
       "      <td>3</td>\n",
       "      <td>2017 Maruti Alto K10</td>\n",
       "      <td>VXI Manual</td>\n",
       "      <td>2,589 km</td>\n",
       "      <td>₹29,000 OFF</td>\n",
       "      <td>₹7,843/month</td>\n",
       "      <td>₹3,81,599</td>\n",
       "      <td>₹3,52,599</td>\n",
       "    </tr>\n",
       "    <tr>\n",
       "      <th>4</th>\n",
       "      <td>4</td>\n",
       "      <td>2011 Maruti Alto K10</td>\n",
       "      <td>VXI Manual</td>\n",
       "      <td>1st Owner</td>\n",
       "      <td>₹9,000 OFF</td>\n",
       "      <td>₹4,734/month</td>\n",
       "      <td>₹2,21,799</td>\n",
       "      <td>₹2,12,799</td>\n",
       "    </tr>\n",
       "  </tbody>\n",
       "</table>\n",
       "</div>"
      ],
      "text/plain": [
       "   Unnamed: 0      Car Name and Model                 Variant Other Details  \\\n",
       "0           0    2014 Maruti Alto 800              VXI Manual     12,535 km   \n",
       "1           1      2021 Hyundai VENUE          S MT 1.2 KAPPA     1st Owner   \n",
       "2           2  2014 Hyundai Grand i10  SPORTS 1.2 VTVT Manual        Petrol   \n",
       "3           3    2017 Maruti Alto K10              VXI Manual      2,589 km   \n",
       "4           4    2011 Maruti Alto K10              VXI Manual     1st Owner   \n",
       "\n",
       "  Discount Percentage            EMI   Discount      Price  \n",
       "0         ₹28,000 OFF   ₹6,531/month  ₹3,21,599  ₹2,93,599  \n",
       "1         ₹14,000 OFF  ₹17,678/month  ₹8,08,699  ₹7,94,699  \n",
       "2         ₹35,000 OFF   ₹8,386/month  ₹4,11,999  ₹3,76,999  \n",
       "3         ₹29,000 OFF   ₹7,843/month  ₹3,81,599  ₹3,52,599  \n",
       "4          ₹9,000 OFF   ₹4,734/month  ₹2,21,799  ₹2,12,799  "
      ]
     },
     "execution_count": 6,
     "metadata": {},
     "output_type": "execute_result"
    }
   ],
   "source": [
    "df=pd.read_csv('car_price.csv')\n",
    "df.head()"
   ]
  },
  {
   "cell_type": "markdown",
   "id": "ba40bfd4",
   "metadata": {},
   "source": [
    "Top 5 heads of the datasets."
   ]
  },
  {
   "cell_type": "markdown",
   "id": "2fee3b44",
   "metadata": {},
   "source": [
    "# EDA"
   ]
  },
  {
   "cell_type": "code",
   "execution_count": 7,
   "id": "3d6d92d1",
   "metadata": {},
   "outputs": [
    {
     "data": {
      "text/plain": [
       "(11000, 8)"
      ]
     },
     "execution_count": 7,
     "metadata": {},
     "output_type": "execute_result"
    }
   ],
   "source": [
    "# checking shape\n",
    "df.shape"
   ]
  },
  {
   "cell_type": "markdown",
   "id": "2665c3bc",
   "metadata": {},
   "source": [
    "we have 11000 rows and 8 columns in the dataset."
   ]
  },
  {
   "cell_type": "code",
   "execution_count": 8,
   "id": "8161d6f1",
   "metadata": {},
   "outputs": [
    {
     "data": {
      "text/plain": [
       "Unnamed: 0              int64\n",
       "Car Name and Model     object\n",
       "Variant                object\n",
       "Other Details          object\n",
       "Discount Percentage    object\n",
       "EMI                    object\n",
       "Discount               object\n",
       "Price                  object\n",
       "dtype: object"
      ]
     },
     "execution_count": 8,
     "metadata": {},
     "output_type": "execute_result"
    }
   ],
   "source": [
    "# checking datatype\n",
    "df.dtypes"
   ]
  },
  {
   "cell_type": "markdown",
   "id": "549d419e",
   "metadata": {},
   "source": [
    "7 object type columns and 1 integer type columns present in the dataset."
   ]
  },
  {
   "cell_type": "code",
   "execution_count": 9,
   "id": "1f1e3014",
   "metadata": {},
   "outputs": [
    {
     "data": {
      "text/plain": [
       "Unnamed: 0             0\n",
       "Car Name and Model     0\n",
       "Variant                0\n",
       "Other Details          0\n",
       "Discount Percentage    0\n",
       "EMI                    0\n",
       "Discount               0\n",
       "Price                  0\n",
       "dtype: int64"
      ]
     },
     "execution_count": 9,
     "metadata": {},
     "output_type": "execute_result"
    }
   ],
   "source": [
    "# checking null values\n",
    "df.isnull().sum()"
   ]
  },
  {
   "cell_type": "markdown",
   "id": "9a53f231",
   "metadata": {},
   "source": [
    "Null values are not present in the dataset."
   ]
  },
  {
   "cell_type": "code",
   "execution_count": 13,
   "id": "d7ae2f40",
   "metadata": {},
   "outputs": [],
   "source": [
    "# deleting unnecessary column \n",
    "del df['Unnamed: 0']"
   ]
  },
  {
   "cell_type": "code",
   "execution_count": 14,
   "id": "c4eaccf4",
   "metadata": {},
   "outputs": [],
   "source": [
    "# Label Encoding to convert object column into numerical column for further analysis\n",
    "from sklearn.preprocessing import LabelEncoder\n",
    "\n",
    "enc =LabelEncoder()\n",
    "\n",
    "for i in df.columns:\n",
    "    if df[i].dtypes=='object':\n",
    "        df[i]=enc.fit_transform(df[i].values.reshape(-1,1))"
   ]
  },
  {
   "cell_type": "code",
   "execution_count": 15,
   "id": "3dd01ee3",
   "metadata": {},
   "outputs": [
    {
     "data": {
      "text/html": [
       "<div>\n",
       "<style scoped>\n",
       "    .dataframe tbody tr th:only-of-type {\n",
       "        vertical-align: middle;\n",
       "    }\n",
       "\n",
       "    .dataframe tbody tr th {\n",
       "        vertical-align: top;\n",
       "    }\n",
       "\n",
       "    .dataframe thead th {\n",
       "        text-align: right;\n",
       "    }\n",
       "</style>\n",
       "<table border=\"1\" class=\"dataframe\">\n",
       "  <thead>\n",
       "    <tr style=\"text-align: right;\">\n",
       "      <th></th>\n",
       "      <th>Car Name and Model</th>\n",
       "      <th>Variant</th>\n",
       "      <th>Other Details</th>\n",
       "      <th>Discount Percentage</th>\n",
       "      <th>EMI</th>\n",
       "      <th>Discount</th>\n",
       "      <th>Price</th>\n",
       "    </tr>\n",
       "  </thead>\n",
       "  <tbody>\n",
       "    <tr>\n",
       "      <th>0</th>\n",
       "      <td>86</td>\n",
       "      <td>154</td>\n",
       "      <td>26</td>\n",
       "      <td>20</td>\n",
       "      <td>299</td>\n",
       "      <td>158</td>\n",
       "      <td>161</td>\n",
       "    </tr>\n",
       "    <tr>\n",
       "      <th>1</th>\n",
       "      <td>202</td>\n",
       "      <td>109</td>\n",
       "      <td>69</td>\n",
       "      <td>5</td>\n",
       "      <td>131</td>\n",
       "      <td>429</td>\n",
       "      <td>488</td>\n",
       "    </tr>\n",
       "    <tr>\n",
       "      <th>2</th>\n",
       "      <td>83</td>\n",
       "      <td>116</td>\n",
       "      <td>524</td>\n",
       "      <td>28</td>\n",
       "      <td>417</td>\n",
       "      <td>267</td>\n",
       "      <td>279</td>\n",
       "    </tr>\n",
       "    <tr>\n",
       "      <th>3</th>\n",
       "      <td>141</td>\n",
       "      <td>154</td>\n",
       "      <td>73</td>\n",
       "      <td>21</td>\n",
       "      <td>383</td>\n",
       "      <td>234</td>\n",
       "      <td>245</td>\n",
       "    </tr>\n",
       "    <tr>\n",
       "      <th>4</th>\n",
       "      <td>32</td>\n",
       "      <td>154</td>\n",
       "      <td>69</td>\n",
       "      <td>54</td>\n",
       "      <td>199</td>\n",
       "      <td>46</td>\n",
       "      <td>59</td>\n",
       "    </tr>\n",
       "    <tr>\n",
       "      <th>...</th>\n",
       "      <td>...</td>\n",
       "      <td>...</td>\n",
       "      <td>...</td>\n",
       "      <td>...</td>\n",
       "      <td>...</td>\n",
       "      <td>...</td>\n",
       "      <td>...</td>\n",
       "    </tr>\n",
       "    <tr>\n",
       "      <th>10995</th>\n",
       "      <td>116</td>\n",
       "      <td>71</td>\n",
       "      <td>74</td>\n",
       "      <td>9</td>\n",
       "      <td>12</td>\n",
       "      <td>377</td>\n",
       "      <td>366</td>\n",
       "    </tr>\n",
       "    <tr>\n",
       "      <th>10996</th>\n",
       "      <td>140</td>\n",
       "      <td>86</td>\n",
       "      <td>69</td>\n",
       "      <td>24</td>\n",
       "      <td>295</td>\n",
       "      <td>247</td>\n",
       "      <td>157</td>\n",
       "    </tr>\n",
       "    <tr>\n",
       "      <th>10997</th>\n",
       "      <td>69</td>\n",
       "      <td>153</td>\n",
       "      <td>524</td>\n",
       "      <td>16</td>\n",
       "      <td>271</td>\n",
       "      <td>256</td>\n",
       "      <td>133</td>\n",
       "    </tr>\n",
       "    <tr>\n",
       "      <th>10998</th>\n",
       "      <td>19</td>\n",
       "      <td>86</td>\n",
       "      <td>70</td>\n",
       "      <td>40</td>\n",
       "      <td>163</td>\n",
       "      <td>268</td>\n",
       "      <td>15</td>\n",
       "    </tr>\n",
       "    <tr>\n",
       "      <th>10999</th>\n",
       "      <td>183</td>\n",
       "      <td>18</td>\n",
       "      <td>69</td>\n",
       "      <td>19</td>\n",
       "      <td>121</td>\n",
       "      <td>141</td>\n",
       "      <td>477</td>\n",
       "    </tr>\n",
       "  </tbody>\n",
       "</table>\n",
       "<p>11000 rows × 7 columns</p>\n",
       "</div>"
      ],
      "text/plain": [
       "       Car Name and Model  Variant  Other Details  Discount Percentage  EMI  \\\n",
       "0                      86      154             26                   20  299   \n",
       "1                     202      109             69                    5  131   \n",
       "2                      83      116            524                   28  417   \n",
       "3                     141      154             73                   21  383   \n",
       "4                      32      154             69                   54  199   \n",
       "...                   ...      ...            ...                  ...  ...   \n",
       "10995                 116       71             74                    9   12   \n",
       "10996                 140       86             69                   24  295   \n",
       "10997                  69      153            524                   16  271   \n",
       "10998                  19       86             70                   40  163   \n",
       "10999                 183       18             69                   19  121   \n",
       "\n",
       "       Discount  Price  \n",
       "0           158    161  \n",
       "1           429    488  \n",
       "2           267    279  \n",
       "3           234    245  \n",
       "4            46     59  \n",
       "...         ...    ...  \n",
       "10995       377    366  \n",
       "10996       247    157  \n",
       "10997       256    133  \n",
       "10998       268     15  \n",
       "10999       141    477  \n",
       "\n",
       "[11000 rows x 7 columns]"
      ]
     },
     "execution_count": 15,
     "metadata": {},
     "output_type": "execute_result"
    }
   ],
   "source": [
    "df"
   ]
  },
  {
   "cell_type": "markdown",
   "id": "d7533bbc",
   "metadata": {},
   "source": [
    "now the columns has been converted into numeric format."
   ]
  },
  {
   "cell_type": "markdown",
   "id": "69b37e30",
   "metadata": {},
   "source": [
    "## visualization of data through distribution plot"
   ]
  },
  {
   "cell_type": "code",
   "execution_count": 17,
   "id": "f4e331a4",
   "metadata": {},
   "outputs": [
    {
     "data": {
      "text/plain": [
       "<AxesSubplot:xlabel='Car Name and Model', ylabel='Density'>"
      ]
     },
     "execution_count": 17,
     "metadata": {},
     "output_type": "execute_result"
    },
    {
     "data": {
      "image/png": "[encoded data removed]",
      "text/plain": [
       "<Figure size 432x288 with 1 Axes>"
      ]
     },
     "metadata": {
      "needs_background": "light"
     },
     "output_type": "display_data"
    }
   ],
   "source": [
    "sns.distplot(df['Car Name and Model'])"
   ]
  },
  {
   "cell_type": "markdown",
   "id": "82ad29b8",
   "metadata": {},
   "source": [
    "Car Name and Model column is looking somehow normally distributed in the ranges between 0 to 200."
   ]
  },
  {
   "cell_type": "code",
   "execution_count": null,
   "id": "38d03104",
   "metadata": {},
   "outputs": [],
   "source": []
  },
  {
   "cell_type": "code",
   "execution_count": 18,
   "id": "ce0ed57b",
   "metadata": {},
   "outputs": [
    {
     "data": {
      "text/plain": [
       "<AxesSubplot:xlabel='Variant', ylabel='Density'>"
      ]
     },
     "execution_count": 18,
     "metadata": {},
     "output_type": "execute_result"
    },
    {
     "data": {
      "image/png": "[encoded data removed]",
      "text/plain": [
       "<Figure size 432x288 with 1 Axes>"
      ]
     },
     "metadata": {
      "needs_background": "light"
     },
     "output_type": "display_data"
    }
   ],
   "source": [
    "sns.distplot(df['Variant'])"
   ]
  },
  {
   "cell_type": "markdown",
   "id": "886b7656",
   "metadata": {},
   "source": [
    "Variant column is showing the cars are availble in different Variant."
   ]
  },
  {
   "cell_type": "code",
   "execution_count": null,
   "id": "1c5b5d85",
   "metadata": {},
   "outputs": [],
   "source": []
  },
  {
   "cell_type": "code",
   "execution_count": 20,
   "id": "6bd9222a",
   "metadata": {},
   "outputs": [
    {
     "data": {
      "text/plain": [
       "<AxesSubplot:xlabel='Discount Percentage', ylabel='Density'>"
      ]
     },
     "execution_count": 20,
     "metadata": {},
     "output_type": "execute_result"
    },
    {
     "data": {
      "image/png": "[encoded data removed]",
      "text/plain": [
       "<Figure size 432x288 with 1 Axes>"
      ]
     },
     "metadata": {
      "needs_background": "light"
     },
     "output_type": "display_data"
    }
   ],
   "source": [
    "sns.distplot(df['Discount Percentage'])"
   ]
  },
  {
   "cell_type": "markdown",
   "id": "8bf43753",
   "metadata": {},
   "source": [
    "Discount Percentage column is showing the offers in two different groups and between 0 to 30 is more than the 35 to spprox 60."
   ]
  },
  {
   "cell_type": "code",
   "execution_count": null,
   "id": "cb9de5e9",
   "metadata": {},
   "outputs": [],
   "source": []
  },
  {
   "cell_type": "code",
   "execution_count": 21,
   "id": "4f694254",
   "metadata": {},
   "outputs": [
    {
     "data": {
      "text/plain": [
       "<AxesSubplot:xlabel='EMI', ylabel='Density'>"
      ]
     },
     "execution_count": 21,
     "metadata": {},
     "output_type": "execute_result"
    },
    {
     "data": {
      "image/png": "[encoded data removed]",
      "text/plain": [
       "<Figure size 432x288 with 1 Axes>"
      ]
     },
     "metadata": {
      "needs_background": "light"
     },
     "output_type": "display_data"
    }
   ],
   "source": [
    "sns.distplot(df['EMI'])"
   ]
  },
  {
   "cell_type": "markdown",
   "id": "187980eb",
   "metadata": {},
   "source": [
    "EMI column is looking normally distributed."
   ]
  },
  {
   "cell_type": "code",
   "execution_count": null,
   "id": "fee6ecda",
   "metadata": {},
   "outputs": [],
   "source": []
  },
  {
   "cell_type": "code",
   "execution_count": 22,
   "id": "97b49b1c",
   "metadata": {},
   "outputs": [
    {
     "data": {
      "text/plain": [
       "<AxesSubplot:xlabel='Discount', ylabel='Density'>"
      ]
     },
     "execution_count": 22,
     "metadata": {},
     "output_type": "execute_result"
    },
    {
     "data": {
      "image/png": "[encoded data removed]",
      "text/plain": [
       "<Figure size 432x288 with 1 Axes>"
      ]
     },
     "metadata": {
      "needs_background": "light"
     },
     "output_type": "display_data"
    }
   ],
   "source": [
    "sns.distplot(df['Discount'])"
   ]
  },
  {
   "cell_type": "markdown",
   "id": "1150d11e",
   "metadata": {},
   "source": [
    "Discount column is looking normally distributed."
   ]
  },
  {
   "cell_type": "code",
   "execution_count": null,
   "id": "3041c6d1",
   "metadata": {},
   "outputs": [],
   "source": []
  },
  {
   "cell_type": "code",
   "execution_count": 23,
   "id": "a8d591dd",
   "metadata": {},
   "outputs": [
    {
     "data": {
      "text/plain": [
       "<AxesSubplot:xlabel='Price', ylabel='Density'>"
      ]
     },
     "execution_count": 23,
     "metadata": {},
     "output_type": "execute_result"
    },
    {
     "data": {
      "image/png": "[encoded data removed]",
      "text/plain": [
       "<Figure size 432x288 with 1 Axes>"
      ]
     },
     "metadata": {
      "needs_background": "light"
     },
     "output_type": "display_data"
    }
   ],
   "source": [
    "sns.distplot(df['Price'])"
   ]
  },
  {
   "cell_type": "markdown",
   "id": "76746ce4",
   "metadata": {},
   "source": [
    "Price column is looking normally distributed."
   ]
  },
  {
   "cell_type": "raw",
   "id": "c633cfb9",
   "metadata": {},
   "source": [
    "During analysis I found that all the cars are from NCR(National Capital Region), Fuel type of all the cars are Petrol , all the cars are of 1st owner and km driven of all the cars is not more than 20000."
   ]
  },
  {
   "cell_type": "markdown",
   "id": "2c89a11a",
   "metadata": {},
   "source": [
    "## Checking Outliers"
   ]
  },
  {
   "cell_type": "code",
   "execution_count": 24,
   "id": "d83e7956",
   "metadata": {},
   "outputs": [
    {
     "data": {
      "text/plain": [
       "Car Name and Model         AxesSubplot(0.125,0.71587;0.352273x0.16413)\n",
       "Variant                 AxesSubplot(0.547727,0.71587;0.352273x0.16413)\n",
       "Other Details             AxesSubplot(0.125,0.518913;0.352273x0.16413)\n",
       "Discount Percentage    AxesSubplot(0.547727,0.518913;0.352273x0.16413)\n",
       "EMI                       AxesSubplot(0.125,0.321957;0.352273x0.16413)\n",
       "Discount               AxesSubplot(0.547727,0.321957;0.352273x0.16413)\n",
       "Price                        AxesSubplot(0.125,0.125;0.352273x0.16413)\n",
       "dtype: object"
      ]
     },
     "execution_count": 24,
     "metadata": {},
     "output_type": "execute_result"
    },
    {
     "data": {
      "image/png": "[encoded data removed]",
      "text/plain": [
       "<Figure size 1584x504 with 8 Axes>"
      ]
     },
     "metadata": {
      "needs_background": "light"
     },
     "output_type": "display_data"
    }
   ],
   "source": [
    "df.plot(kind='box',subplots=True, layout=(4,2), figsize=(22,7))"
   ]
  },
  {
   "cell_type": "markdown",
   "id": "d0edb143",
   "metadata": {},
   "source": [
    "Outliers are not present in any of the columns."
   ]
  },
  {
   "cell_type": "markdown",
   "id": "776a361d",
   "metadata": {},
   "source": [
    "## Statistical Summary"
   ]
  },
  {
   "cell_type": "code",
   "execution_count": 25,
   "id": "f4a4ec77",
   "metadata": {},
   "outputs": [
    {
     "data": {
      "text/html": [
       "<div>\n",
       "<style scoped>\n",
       "    .dataframe tbody tr th:only-of-type {\n",
       "        vertical-align: middle;\n",
       "    }\n",
       "\n",
       "    .dataframe tbody tr th {\n",
       "        vertical-align: top;\n",
       "    }\n",
       "\n",
       "    .dataframe thead th {\n",
       "        text-align: right;\n",
       "    }\n",
       "</style>\n",
       "<table border=\"1\" class=\"dataframe\">\n",
       "  <thead>\n",
       "    <tr style=\"text-align: right;\">\n",
       "      <th></th>\n",
       "      <th>Car Name and Model</th>\n",
       "      <th>Variant</th>\n",
       "      <th>Other Details</th>\n",
       "      <th>Discount Percentage</th>\n",
       "      <th>EMI</th>\n",
       "      <th>Discount</th>\n",
       "      <th>Price</th>\n",
       "    </tr>\n",
       "  </thead>\n",
       "  <tbody>\n",
       "    <tr>\n",
       "      <th>count</th>\n",
       "      <td>11000.000000</td>\n",
       "      <td>11000.000000</td>\n",
       "      <td>11000.000000</td>\n",
       "      <td>11000.000000</td>\n",
       "      <td>11000.000000</td>\n",
       "      <td>11000.000000</td>\n",
       "      <td>11000.00000</td>\n",
       "    </tr>\n",
       "    <tr>\n",
       "      <th>mean</th>\n",
       "      <td>106.076636</td>\n",
       "      <td>102.557273</td>\n",
       "      <td>291.089727</td>\n",
       "      <td>24.142818</td>\n",
       "      <td>246.213364</td>\n",
       "      <td>217.422909</td>\n",
       "      <td>246.28100</td>\n",
       "    </tr>\n",
       "    <tr>\n",
       "      <th>std</th>\n",
       "      <td>54.966583</td>\n",
       "      <td>43.635898</td>\n",
       "      <td>200.660155</td>\n",
       "      <td>16.652867</td>\n",
       "      <td>141.288701</td>\n",
       "      <td>124.440598</td>\n",
       "      <td>141.69406</td>\n",
       "    </tr>\n",
       "    <tr>\n",
       "      <th>min</th>\n",
       "      <td>0.000000</td>\n",
       "      <td>0.000000</td>\n",
       "      <td>0.000000</td>\n",
       "      <td>0.000000</td>\n",
       "      <td>0.000000</td>\n",
       "      <td>0.000000</td>\n",
       "      <td>0.00000</td>\n",
       "    </tr>\n",
       "    <tr>\n",
       "      <th>25%</th>\n",
       "      <td>62.000000</td>\n",
       "      <td>81.000000</td>\n",
       "      <td>69.000000</td>\n",
       "      <td>8.000000</td>\n",
       "      <td>124.000000</td>\n",
       "      <td>112.000000</td>\n",
       "      <td>126.00000</td>\n",
       "    </tr>\n",
       "    <tr>\n",
       "      <th>50%</th>\n",
       "      <td>111.000000</td>\n",
       "      <td>98.000000</td>\n",
       "      <td>267.000000</td>\n",
       "      <td>21.000000</td>\n",
       "      <td>250.000000</td>\n",
       "      <td>216.000000</td>\n",
       "      <td>243.00000</td>\n",
       "    </tr>\n",
       "    <tr>\n",
       "      <th>75%</th>\n",
       "      <td>149.250000</td>\n",
       "      <td>139.000000</td>\n",
       "      <td>524.000000</td>\n",
       "      <td>40.000000</td>\n",
       "      <td>367.250000</td>\n",
       "      <td>325.000000</td>\n",
       "      <td>367.00000</td>\n",
       "    </tr>\n",
       "    <tr>\n",
       "      <th>max</th>\n",
       "      <td>203.000000</td>\n",
       "      <td>172.000000</td>\n",
       "      <td>524.000000</td>\n",
       "      <td>55.000000</td>\n",
       "      <td>489.000000</td>\n",
       "      <td>436.000000</td>\n",
       "      <td>496.00000</td>\n",
       "    </tr>\n",
       "  </tbody>\n",
       "</table>\n",
       "</div>"
      ],
      "text/plain": [
       "       Car Name and Model       Variant  Other Details  Discount Percentage  \\\n",
       "count        11000.000000  11000.000000   11000.000000         11000.000000   \n",
       "mean           106.076636    102.557273     291.089727            24.142818   \n",
       "std             54.966583     43.635898     200.660155            16.652867   \n",
       "min              0.000000      0.000000       0.000000             0.000000   \n",
       "25%             62.000000     81.000000      69.000000             8.000000   \n",
       "50%            111.000000     98.000000     267.000000            21.000000   \n",
       "75%            149.250000    139.000000     524.000000            40.000000   \n",
       "max            203.000000    172.000000     524.000000            55.000000   \n",
       "\n",
       "                EMI      Discount        Price  \n",
       "count  11000.000000  11000.000000  11000.00000  \n",
       "mean     246.213364    217.422909    246.28100  \n",
       "std      141.288701    124.440598    141.69406  \n",
       "min        0.000000      0.000000      0.00000  \n",
       "25%      124.000000    112.000000    126.00000  \n",
       "50%      250.000000    216.000000    243.00000  \n",
       "75%      367.250000    325.000000    367.00000  \n",
       "max      489.000000    436.000000    496.00000  "
      ]
     },
     "execution_count": 25,
     "metadata": {},
     "output_type": "execute_result"
    }
   ],
   "source": [
    "df.describe()"
   ]
  },
  {
   "cell_type": "markdown",
   "id": "e8f8602f",
   "metadata": {},
   "source": [
    "Number of values are same in every column.\n",
    "\n",
    "Not much difference between mean and median in any of the column.\n",
    "\n",
    "Data is not much deviated.\n",
    "\n",
    "Not much difference between 75% and max in any of the column."
   ]
  },
  {
   "cell_type": "markdown",
   "id": "3e551a84",
   "metadata": {},
   "source": [
    "## Correlation matrix"
   ]
  },
  {
   "cell_type": "code",
   "execution_count": 26,
   "id": "a56af87e",
   "metadata": {},
   "outputs": [
    {
     "data": {
      "text/plain": [
       "<AxesSubplot:>"
      ]
     },
     "execution_count": 26,
     "metadata": {},
     "output_type": "execute_result"
    },
    {
     "data": {
      "image/png": "[encoded data removed]",
      "text/plain": [
       "<Figure size 1584x504 with 2 Axes>"
      ]
     },
     "metadata": {
      "needs_background": "light"
     },
     "output_type": "display_data"
    }
   ],
   "source": [
    "plt.figure(figsize=(22,7))\n",
    "sns.heatmap(df.corr(),annot=True)"
   ]
  },
  {
   "cell_type": "markdown",
   "id": "4cc456cf",
   "metadata": {},
   "source": [
    "Car Name and model column is positively correlated with target column Price.\n",
    "\n",
    "EMI column is negatively correlated with the target column Price."
   ]
  },
  {
   "cell_type": "markdown",
   "id": "c1c5eb25",
   "metadata": {},
   "source": [
    "## Splitting the dataset"
   ]
  },
  {
   "cell_type": "code",
   "execution_count": 28,
   "id": "374d1482",
   "metadata": {},
   "outputs": [],
   "source": [
    "x=df.drop('Price',axis=1)\n",
    "y=df['Price']"
   ]
  },
  {
   "cell_type": "code",
   "execution_count": 29,
   "id": "7521749a",
   "metadata": {},
   "outputs": [
    {
     "data": {
      "text/plain": [
       "(11000, 6)"
      ]
     },
     "execution_count": 29,
     "metadata": {},
     "output_type": "execute_result"
    }
   ],
   "source": [
    "x.shape"
   ]
  },
  {
   "cell_type": "code",
   "execution_count": 30,
   "id": "0ef754a1",
   "metadata": {},
   "outputs": [
    {
     "data": {
      "text/plain": [
       "(11000,)"
      ]
     },
     "execution_count": 30,
     "metadata": {},
     "output_type": "execute_result"
    }
   ],
   "source": [
    "y.shape"
   ]
  },
  {
   "cell_type": "markdown",
   "id": "5b70bfb3",
   "metadata": {},
   "source": [
    "## Lets bring all features to a common scale"
   ]
  },
  {
   "cell_type": "code",
   "execution_count": 41,
   "id": "71e60b4d",
   "metadata": {},
   "outputs": [],
   "source": [
    "from sklearn.preprocessing import StandardScaler\n",
    "sc=StandardScaler()\n",
    "\n",
    "x=sc.fit_transform(df)\n",
    "\n",
    "x=pd.DataFrame(x,columns=df.columns)"
   ]
  },
  {
   "cell_type": "markdown",
   "id": "523c69d3",
   "metadata": {},
   "source": [
    "## Train Test Split"
   ]
  },
  {
   "cell_type": "code",
   "execution_count": 42,
   "id": "77f1b8ab",
   "metadata": {},
   "outputs": [
    {
     "name": "stdout",
     "output_type": "stream",
     "text": [
      "(8800, 7)\n",
      "(2200, 7)\n",
      "(8800,)\n",
      "(2200,)\n"
     ]
    }
   ],
   "source": [
    "from sklearn.model_selection import train_test_split\n",
    "x_train,x_test,y_train,y_test=train_test_split(x,y,test_size=.20,random_state=47)\n",
    "print(x_train.shape)\n",
    "print(x_test.shape)\n",
    "print(y_train.shape)\n",
    "print(y_test.shape)"
   ]
  },
  {
   "cell_type": "markdown",
   "id": "f33781dd",
   "metadata": {},
   "source": [
    "## Model building"
   ]
  },
  {
   "cell_type": "code",
   "execution_count": 43,
   "id": "1fd20a9d",
   "metadata": {},
   "outputs": [],
   "source": [
    "from sklearn.linear_model import LinearRegression , Lasso, Ridge, ElasticNet\n",
    "from sklearn.metrics import r2_score, mean_squared_error, mean_absolute_error\n",
    "from sklearn.model_selection import cross_val_score\n"
   ]
  },
  {
   "cell_type": "code",
   "execution_count": 44,
   "id": "f51da086",
   "metadata": {},
   "outputs": [
    {
     "name": "stdout",
     "output_type": "stream",
     "text": [
      "r2 score 1.0\n",
      "error\n",
      "mean absolute error 9.987001125079008e-14\n",
      "mean squared error 1.6163306711531168e-26\n",
      "root mean squared error 1.2713499404778832e-13\n"
     ]
    }
   ],
   "source": [
    "# for Linear Regression\n",
    "lr=LinearRegression()\n",
    "lr.fit(x_train,y_train)\n",
    "pred_y=lr.predict(x_test)\n",
    "print('r2 score',r2_score(y_test,pred_y))\n",
    "\n",
    "print('error')\n",
    "print('mean absolute error',mean_absolute_error(y_test,pred_y))\n",
    "print('mean squared error',mean_squared_error(y_test,pred_y))\n",
    "print('root mean squared error',np.sqrt(mean_squared_error(y_test,pred_y)))"
   ]
  },
  {
   "cell_type": "code",
   "execution_count": 45,
   "id": "1fb937c0",
   "metadata": {},
   "outputs": [
    {
     "name": "stdout",
     "output_type": "stream",
     "text": [
      "cv score 1.0\n"
     ]
    }
   ],
   "source": [
    "# cross validation \n",
    "score=cross_val_score(lr,x,y,cv=10)\n",
    "print('cv score',np.mean(score))"
   ]
  },
  {
   "cell_type": "markdown",
   "id": "152ad775",
   "metadata": {},
   "source": [
    "Both r2 score  and cv score is 100% , so data is over fitted."
   ]
  },
  {
   "cell_type": "code",
   "execution_count": null,
   "id": "3b5e01a0",
   "metadata": {},
   "outputs": [],
   "source": []
  },
  {
   "cell_type": "code",
   "execution_count": 48,
   "id": "6ef461f8",
   "metadata": {},
   "outputs": [
    {
     "name": "stdout",
     "output_type": "stream",
     "text": [
      "r2 score 0.9999501805042103\n",
      "error\n",
      "mean absolute error 0.8592222696470111\n",
      "mean squared error 0.9973968244184441\n",
      "root mean squared error 0.9986975640395065\n"
     ]
    }
   ],
   "source": [
    "# for Lasso\n",
    "\n",
    "ls=Lasso()\n",
    "\n",
    "ls.fit(x_train,y_train)\n",
    "pred_y=ls.predict(x_test)\n",
    "print('r2 score',r2_score(y_test,pred_y))\n",
    "\n",
    "print('error')\n",
    "print('mean absolute error', mean_absolute_error(y_test,pred_y))\n",
    "print('mean squared error', mean_squared_error(y_test,pred_y))\n",
    "\n",
    "print('root mean squared error', np.sqrt(mean_squared_error(y_test,pred_y)))\n"
   ]
  },
  {
   "cell_type": "code",
   "execution_count": 50,
   "id": "ea97207d",
   "metadata": {},
   "outputs": [
    {
     "name": "stdout",
     "output_type": "stream",
     "text": [
      "cv score 0.9999501824984094\n"
     ]
    }
   ],
   "source": [
    "# cross validation of Lasso\n",
    "score=cross_val_score(ls,x,y,cv=10)\n",
    "print('cv score',np.mean(score))"
   ]
  },
  {
   "cell_type": "markdown",
   "id": "0cf8d94b",
   "metadata": {},
   "source": [
    "Both r2 score and cv score is 99%."
   ]
  },
  {
   "cell_type": "code",
   "execution_count": null,
   "id": "7fe943fc",
   "metadata": {},
   "outputs": [],
   "source": []
  },
  {
   "cell_type": "code",
   "execution_count": 51,
   "id": "62c36995",
   "metadata": {},
   "outputs": [
    {
     "name": "stdout",
     "output_type": "stream",
     "text": [
      "r2 score 0.9999999801785396\n",
      "error\n",
      "mean absolute error 0.016560551353461093\n",
      "mean squared error 0.00039682982150776255\n",
      "root mean squared error 0.01992058788057628\n"
     ]
    }
   ],
   "source": [
    "# for Ridge\n",
    "rd=Ridge()\n",
    "rd.fit(x_train,y_train)\n",
    "pred_y=rd.predict(x_test)\n",
    "print('r2 score',r2_score(y_test,pred_y))\n",
    "\n",
    "print('error')\n",
    "print('mean absolute error',mean_absolute_error(y_test,pred_y))\n",
    "print('mean squared error',mean_squared_error(y_test,pred_y))\n",
    "print('root mean squared error',np.sqrt(mean_squared_error(y_test,pred_y)))"
   ]
  },
  {
   "cell_type": "code",
   "execution_count": 52,
   "id": "66f0bff1",
   "metadata": {},
   "outputs": [
    {
     "name": "stdout",
     "output_type": "stream",
     "text": [
      "cv score 0.9999999835401752\n"
     ]
    }
   ],
   "source": [
    "# cross validation ridge\n",
    "score=cross_val_score(rd,x,y,cv=10)\n",
    "print('cv score',np.mean(score))"
   ]
  },
  {
   "cell_type": "markdown",
   "id": "b311a543",
   "metadata": {},
   "source": [
    "Both r2 score and cv score is 99%"
   ]
  },
  {
   "cell_type": "code",
   "execution_count": null,
   "id": "61455c03",
   "metadata": {},
   "outputs": [],
   "source": []
  },
  {
   "cell_type": "code",
   "execution_count": 53,
   "id": "ae69a2d7",
   "metadata": {},
   "outputs": [
    {
     "name": "stdout",
     "output_type": "stream",
     "text": [
      "r2 score 0.8950138985579602\n",
      "error\n",
      "mean absolute error 39.38031655101981\n",
      "mean squared error 2101.843917253328\n",
      "root mean squared error 45.84587132178129\n"
     ]
    }
   ],
   "source": [
    "# for ElasticNet\n",
    "en=ElasticNet()\n",
    "en.fit(x_train,y_train)\n",
    "pred_y=en.predict(x_test)\n",
    "print('r2 score',r2_score(y_test,pred_y))\n",
    "\n",
    "print('error')\n",
    "print('mean absolute error',mean_absolute_error(y_test,pred_y))\n",
    "print('mean squared error',mean_squared_error(y_test,pred_y))\n",
    "print('root mean squared error',np.sqrt(mean_squared_error(y_test,pred_y)))"
   ]
  },
  {
   "cell_type": "code",
   "execution_count": 55,
   "id": "a5ca6753",
   "metadata": {},
   "outputs": [
    {
     "name": "stdout",
     "output_type": "stream",
     "text": [
      "cv score 0.8920393654493817\n"
     ]
    }
   ],
   "source": [
    "# cross validation ElasticNet\n",
    "score=cross_val_score(en,x,y,cv=10)\n",
    "print('cv score',np.mean(score))"
   ]
  },
  {
   "cell_type": "markdown",
   "id": "8e644bb9",
   "metadata": {},
   "source": [
    "r2 score is 89.50 and cv score is 89.20."
   ]
  },
  {
   "cell_type": "markdown",
   "id": "69a04152",
   "metadata": {},
   "source": [
    "## Hyper Parameter Tuning"
   ]
  },
  {
   "cell_type": "code",
   "execution_count": 56,
   "id": "4f155fdb",
   "metadata": {},
   "outputs": [],
   "source": [
    "from sklearn.ensemble import RandomForestRegressor\n",
    "from sklearn.model_selection import GridSearchCV"
   ]
  },
  {
   "cell_type": "code",
   "execution_count": 58,
   "id": "d7860d61",
   "metadata": {},
   "outputs": [
    {
     "name": "stdout",
     "output_type": "stream",
     "text": [
      "{'criterion': 'mae', 'max_depth': 5, 'max_features': 'auto'}\n"
     ]
    }
   ],
   "source": [
    "parameters={'criterion':['mse','mae'],'max_features':['auto','sqrt','log'],'max_depth':[0,5]}\n",
    "rf=RandomForestRegressor()\n",
    "clf=GridSearchCV(rf,parameters)\n",
    "clf.fit(x_train,y_train)\n",
    "print(clf.best_params_)"
   ]
  },
  {
   "cell_type": "code",
   "execution_count": 63,
   "id": "d7cb61fe",
   "metadata": {},
   "outputs": [
    {
     "name": "stdout",
     "output_type": "stream",
     "text": [
      "r2 score 99.95930931496511\n",
      "cv score 99.964565936423\n"
     ]
    }
   ],
   "source": [
    "rf=RandomForestRegressor(criterion='mae',max_features='auto',max_depth=5)\n",
    "rf.fit(x_train,y_train)\n",
    "rf.score(x_train,y_train)\n",
    "pred_decision=rf.predict(x_test)\n",
    "\n",
    "rfs=r2_score(y_test,pred_decision)\n",
    "print('r2 score',rfs*100)\n",
    "\n",
    "rfscore=cross_val_score(rf,x,y,cv=5)\n",
    "rfc=rfscore.mean()\n",
    "print('cv score', rfc*100)\n"
   ]
  },
  {
   "cell_type": "markdown",
   "id": "58e35c0d",
   "metadata": {},
   "source": [
    "So after Hyper Paremeter Tuning of the model I am getting 99.95% r2 score and 99.96% cross validation score from RandomForestRegressor, So I am taking it as a best suited model."
   ]
  },
  {
   "cell_type": "markdown",
   "id": "e11cd21a",
   "metadata": {},
   "source": [
    "## Saving the model"
   ]
  },
  {
   "cell_type": "code",
   "execution_count": 64,
   "id": "d25c0736",
   "metadata": {},
   "outputs": [],
   "source": [
    "import pickle\n",
    "filename='car_price_pred.pkl'\n",
    "pickle.dump(rf,open(filename,'wb'))"
   ]
  },
  {
   "cell_type": "markdown",
   "id": "49feffb4",
   "metadata": {},
   "source": [
    "## conclusion"
   ]
  },
  {
   "cell_type": "code",
   "execution_count": 67,
   "id": "120944d1",
   "metadata": {},
   "outputs": [
    {
     "name": "stdout",
     "output_type": "stream",
     "text": [
      "0.9995930931496511\n"
     ]
    }
   ],
   "source": [
    "loaded_model=pickle.load(open('car_price_pred.pkl','rb'))\n",
    "result=loaded_model.score(x_test,y_test)\n",
    "print(result)"
   ]
  },
  {
   "cell_type": "code",
   "execution_count": 68,
   "id": "1caf2ff1",
   "metadata": {},
   "outputs": [
    {
     "data": {
      "text/html": [
       "<div>\n",
       "<style scoped>\n",
       "    .dataframe tbody tr th:only-of-type {\n",
       "        vertical-align: middle;\n",
       "    }\n",
       "\n",
       "    .dataframe tbody tr th {\n",
       "        vertical-align: top;\n",
       "    }\n",
       "\n",
       "    .dataframe thead th {\n",
       "        text-align: right;\n",
       "    }\n",
       "</style>\n",
       "<table border=\"1\" class=\"dataframe\">\n",
       "  <thead>\n",
       "    <tr style=\"text-align: right;\">\n",
       "      <th></th>\n",
       "      <th>0</th>\n",
       "      <th>1</th>\n",
       "      <th>2</th>\n",
       "      <th>3</th>\n",
       "      <th>4</th>\n",
       "      <th>5</th>\n",
       "      <th>6</th>\n",
       "      <th>7</th>\n",
       "      <th>8</th>\n",
       "      <th>9</th>\n",
       "      <th>...</th>\n",
       "      <th>2190</th>\n",
       "      <th>2191</th>\n",
       "      <th>2192</th>\n",
       "      <th>2193</th>\n",
       "      <th>2194</th>\n",
       "      <th>2195</th>\n",
       "      <th>2196</th>\n",
       "      <th>2197</th>\n",
       "      <th>2198</th>\n",
       "      <th>2199</th>\n",
       "    </tr>\n",
       "  </thead>\n",
       "  <tbody>\n",
       "    <tr>\n",
       "      <th>predicted</th>\n",
       "      <td>227.23</td>\n",
       "      <td>488.265</td>\n",
       "      <td>101.655</td>\n",
       "      <td>408.305</td>\n",
       "      <td>102.265</td>\n",
       "      <td>358.45</td>\n",
       "      <td>101.655</td>\n",
       "      <td>180.77</td>\n",
       "      <td>165.44</td>\n",
       "      <td>381.47</td>\n",
       "      <td>...</td>\n",
       "      <td>202.39</td>\n",
       "      <td>332.03</td>\n",
       "      <td>488.265</td>\n",
       "      <td>336.9</td>\n",
       "      <td>69.0</td>\n",
       "      <td>275.18</td>\n",
       "      <td>274.395</td>\n",
       "      <td>102.265</td>\n",
       "      <td>457.695</td>\n",
       "      <td>224.675</td>\n",
       "    </tr>\n",
       "    <tr>\n",
       "      <th>original</th>\n",
       "      <td>227.23</td>\n",
       "      <td>488.265</td>\n",
       "      <td>101.655</td>\n",
       "      <td>408.305</td>\n",
       "      <td>102.265</td>\n",
       "      <td>358.45</td>\n",
       "      <td>101.655</td>\n",
       "      <td>180.77</td>\n",
       "      <td>165.44</td>\n",
       "      <td>381.47</td>\n",
       "      <td>...</td>\n",
       "      <td>202.39</td>\n",
       "      <td>332.03</td>\n",
       "      <td>488.265</td>\n",
       "      <td>336.9</td>\n",
       "      <td>69.0</td>\n",
       "      <td>275.18</td>\n",
       "      <td>274.395</td>\n",
       "      <td>102.265</td>\n",
       "      <td>457.695</td>\n",
       "      <td>224.675</td>\n",
       "    </tr>\n",
       "  </tbody>\n",
       "</table>\n",
       "<p>2 rows × 2200 columns</p>\n",
       "</div>"
      ],
      "text/plain": [
       "             0        1        2        3        4       5        6     \\\n",
       "predicted  227.23  488.265  101.655  408.305  102.265  358.45  101.655   \n",
       "original   227.23  488.265  101.655  408.305  102.265  358.45  101.655   \n",
       "\n",
       "             7       8       9     ...    2190    2191     2192   2193  2194  \\\n",
       "predicted  180.77  165.44  381.47  ...  202.39  332.03  488.265  336.9  69.0   \n",
       "original   180.77  165.44  381.47  ...  202.39  332.03  488.265  336.9  69.0   \n",
       "\n",
       "             2195     2196     2197     2198     2199  \n",
       "predicted  275.18  274.395  102.265  457.695  224.675  \n",
       "original   275.18  274.395  102.265  457.695  224.675  \n",
       "\n",
       "[2 rows x 2200 columns]"
      ]
     },
     "execution_count": 68,
     "metadata": {},
     "output_type": "execute_result"
    }
   ],
   "source": [
    "conclusion=pd.DataFrame([loaded_model.predict(x_test)[:],pred_decision[:]],index=['predicted','original'])\n",
    "conclusion"
   ]
  },
  {
   "cell_type": "raw",
   "id": "fccce6ef",
   "metadata": {},
   "source": [
    "As our conclusion we proclaim that, after checking r2 score, cross validation, Ensemble Techniques, I declare Random Forest regressor is best suited model for our purpose of predicting car price."
   ]
  },
  {
   "cell_type": "code",
   "execution_count": null,
   "id": "62011fc4",
   "metadata": {},
   "outputs": [],
   "source": []
  }
 ],
 "metadata": {
  "kernelspec": {
   "display_name": "Python 3",
   "language": "python",
   "name": "python3"
  },
  "language_info": {
   "codemirror_mode": {
    "name": "ipython",
    "version": 3
   },
   "file_extension": ".py",
   "mimetype": "text/x-python",
   "name": "python",
   "nbconvert_exporter": "python",
   "pygments_lexer": "ipython3",
   "version": "3.8.10"
  }
 },
 "nbformat": 4,
 "nbformat_minor": 5
}
