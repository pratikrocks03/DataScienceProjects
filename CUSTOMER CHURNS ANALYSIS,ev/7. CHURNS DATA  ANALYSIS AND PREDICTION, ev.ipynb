{
 "cells": [
  {
   "cell_type": "markdown",
   "id": "735647ec",
   "metadata": {},
   "source": [
    "# Customer Churn Analysis\n",
    "Problem Statement:\n",
    "Customer churn is when a company’s customers stop doing business with that company. Businesses are very keen on measuring churn because keeping an existing customer is far less expensive than acquiring a new customer. New business involves working leads through a sales funnel, using marketing and sales budgets to gain additional customers. Existing customers will often have a higher volume of service consumption and can generate additional customer referrals.\n",
    "\n",
    "Customer retention can be achieved with good customer service and products. But the most effective way for a company to prevent attrition of customers is to truly know them. The vast volumes of data collected about customers can be used to build churn prediction models. Knowing who is most likely to defect means that a company can prioritise focused marketing efforts on that subset of their customer base.\n",
    "\n",
    "Preventing customer churn is critically important to the telecommunications sector, as the barriers to entry for switching services are so low. \n",
    "\n",
    "You will examine customer data from IBM Sample Data Sets with the aim of building and comparing several customer churn prediction models. \n",
    "\n"
   ]
  },
  {
   "cell_type": "markdown",
   "id": "6b1786a4",
   "metadata": {},
   "source": [
    "# IMPORTING THE DATASETS"
   ]
  },
  {
   "cell_type": "code",
   "execution_count": 1,
   "id": "6f8a86b5",
   "metadata": {},
   "outputs": [],
   "source": [
    "import pandas as pd\n",
    "import numpy as np\n",
    "import warnings\n",
    "warnings.filterwarnings('ignore')\n",
    "import matplotlib.pyplot as plt\n",
    "import seaborn as sns"
   ]
  },
  {
   "cell_type": "code",
   "execution_count": 2,
   "id": "26fda7c3",
   "metadata": {},
   "outputs": [
    {
     "data": {
      "text/html": [
       "<div>\n",
       "<style scoped>\n",
       "    .dataframe tbody tr th:only-of-type {\n",
       "        vertical-align: middle;\n",
       "    }\n",
       "\n",
       "    .dataframe tbody tr th {\n",
       "        vertical-align: top;\n",
       "    }\n",
       "\n",
       "    .dataframe thead th {\n",
       "        text-align: right;\n",
       "    }\n",
       "</style>\n",
       "<table border=\"1\" class=\"dataframe\">\n",
       "  <thead>\n",
       "    <tr style=\"text-align: right;\">\n",
       "      <th></th>\n",
       "      <th>customerID</th>\n",
       "      <th>gender</th>\n",
       "      <th>SeniorCitizen</th>\n",
       "      <th>Partner</th>\n",
       "      <th>Dependents</th>\n",
       "      <th>tenure</th>\n",
       "      <th>PhoneService</th>\n",
       "      <th>MultipleLines</th>\n",
       "      <th>InternetService</th>\n",
       "      <th>OnlineSecurity</th>\n",
       "      <th>...</th>\n",
       "      <th>DeviceProtection</th>\n",
       "      <th>TechSupport</th>\n",
       "      <th>StreamingTV</th>\n",
       "      <th>StreamingMovies</th>\n",
       "      <th>Contract</th>\n",
       "      <th>PaperlessBilling</th>\n",
       "      <th>PaymentMethod</th>\n",
       "      <th>MonthlyCharges</th>\n",
       "      <th>TotalCharges</th>\n",
       "      <th>Churn</th>\n",
       "    </tr>\n",
       "  </thead>\n",
       "  <tbody>\n",
       "    <tr>\n",
       "      <th>0</th>\n",
       "      <td>7590-VHVEG</td>\n",
       "      <td>Female</td>\n",
       "      <td>0</td>\n",
       "      <td>Yes</td>\n",
       "      <td>No</td>\n",
       "      <td>1</td>\n",
       "      <td>No</td>\n",
       "      <td>No phone service</td>\n",
       "      <td>DSL</td>\n",
       "      <td>No</td>\n",
       "      <td>...</td>\n",
       "      <td>No</td>\n",
       "      <td>No</td>\n",
       "      <td>No</td>\n",
       "      <td>No</td>\n",
       "      <td>Month-to-month</td>\n",
       "      <td>Yes</td>\n",
       "      <td>Electronic check</td>\n",
       "      <td>29.85</td>\n",
       "      <td>29.85</td>\n",
       "      <td>No</td>\n",
       "    </tr>\n",
       "    <tr>\n",
       "      <th>1</th>\n",
       "      <td>5575-GNVDE</td>\n",
       "      <td>Male</td>\n",
       "      <td>0</td>\n",
       "      <td>No</td>\n",
       "      <td>No</td>\n",
       "      <td>34</td>\n",
       "      <td>Yes</td>\n",
       "      <td>No</td>\n",
       "      <td>DSL</td>\n",
       "      <td>Yes</td>\n",
       "      <td>...</td>\n",
       "      <td>Yes</td>\n",
       "      <td>No</td>\n",
       "      <td>No</td>\n",
       "      <td>No</td>\n",
       "      <td>One year</td>\n",
       "      <td>No</td>\n",
       "      <td>Mailed check</td>\n",
       "      <td>56.95</td>\n",
       "      <td>1889.5</td>\n",
       "      <td>No</td>\n",
       "    </tr>\n",
       "    <tr>\n",
       "      <th>2</th>\n",
       "      <td>3668-QPYBK</td>\n",
       "      <td>Male</td>\n",
       "      <td>0</td>\n",
       "      <td>No</td>\n",
       "      <td>No</td>\n",
       "      <td>2</td>\n",
       "      <td>Yes</td>\n",
       "      <td>No</td>\n",
       "      <td>DSL</td>\n",
       "      <td>Yes</td>\n",
       "      <td>...</td>\n",
       "      <td>No</td>\n",
       "      <td>No</td>\n",
       "      <td>No</td>\n",
       "      <td>No</td>\n",
       "      <td>Month-to-month</td>\n",
       "      <td>Yes</td>\n",
       "      <td>Mailed check</td>\n",
       "      <td>53.85</td>\n",
       "      <td>108.15</td>\n",
       "      <td>Yes</td>\n",
       "    </tr>\n",
       "    <tr>\n",
       "      <th>3</th>\n",
       "      <td>7795-CFOCW</td>\n",
       "      <td>Male</td>\n",
       "      <td>0</td>\n",
       "      <td>No</td>\n",
       "      <td>No</td>\n",
       "      <td>45</td>\n",
       "      <td>No</td>\n",
       "      <td>No phone service</td>\n",
       "      <td>DSL</td>\n",
       "      <td>Yes</td>\n",
       "      <td>...</td>\n",
       "      <td>Yes</td>\n",
       "      <td>Yes</td>\n",
       "      <td>No</td>\n",
       "      <td>No</td>\n",
       "      <td>One year</td>\n",
       "      <td>No</td>\n",
       "      <td>Bank transfer (automatic)</td>\n",
       "      <td>42.30</td>\n",
       "      <td>1840.75</td>\n",
       "      <td>No</td>\n",
       "    </tr>\n",
       "    <tr>\n",
       "      <th>4</th>\n",
       "      <td>9237-HQITU</td>\n",
       "      <td>Female</td>\n",
       "      <td>0</td>\n",
       "      <td>No</td>\n",
       "      <td>No</td>\n",
       "      <td>2</td>\n",
       "      <td>Yes</td>\n",
       "      <td>No</td>\n",
       "      <td>Fiber optic</td>\n",
       "      <td>No</td>\n",
       "      <td>...</td>\n",
       "      <td>No</td>\n",
       "      <td>No</td>\n",
       "      <td>No</td>\n",
       "      <td>No</td>\n",
       "      <td>Month-to-month</td>\n",
       "      <td>Yes</td>\n",
       "      <td>Electronic check</td>\n",
       "      <td>70.70</td>\n",
       "      <td>151.65</td>\n",
       "      <td>Yes</td>\n",
       "    </tr>\n",
       "  </tbody>\n",
       "</table>\n",
       "<p>5 rows × 21 columns</p>\n",
       "</div>"
      ],
      "text/plain": [
       "   customerID  gender  SeniorCitizen Partner Dependents  tenure PhoneService  \\\n",
       "0  7590-VHVEG  Female              0     Yes         No       1           No   \n",
       "1  5575-GNVDE    Male              0      No         No      34          Yes   \n",
       "2  3668-QPYBK    Male              0      No         No       2          Yes   \n",
       "3  7795-CFOCW    Male              0      No         No      45           No   \n",
       "4  9237-HQITU  Female              0      No         No       2          Yes   \n",
       "\n",
       "      MultipleLines InternetService OnlineSecurity  ... DeviceProtection  \\\n",
       "0  No phone service             DSL             No  ...               No   \n",
       "1                No             DSL            Yes  ...              Yes   \n",
       "2                No             DSL            Yes  ...               No   \n",
       "3  No phone service             DSL            Yes  ...              Yes   \n",
       "4                No     Fiber optic             No  ...               No   \n",
       "\n",
       "  TechSupport StreamingTV StreamingMovies        Contract PaperlessBilling  \\\n",
       "0          No          No              No  Month-to-month              Yes   \n",
       "1          No          No              No        One year               No   \n",
       "2          No          No              No  Month-to-month              Yes   \n",
       "3         Yes          No              No        One year               No   \n",
       "4          No          No              No  Month-to-month              Yes   \n",
       "\n",
       "               PaymentMethod MonthlyCharges  TotalCharges Churn  \n",
       "0           Electronic check          29.85         29.85    No  \n",
       "1               Mailed check          56.95        1889.5    No  \n",
       "2               Mailed check          53.85        108.15   Yes  \n",
       "3  Bank transfer (automatic)          42.30       1840.75    No  \n",
       "4           Electronic check          70.70        151.65   Yes  \n",
       "\n",
       "[5 rows x 21 columns]"
      ]
     },
     "execution_count": 2,
     "metadata": {},
     "output_type": "execute_result"
    }
   ],
   "source": [
    "df=pd.read_csv('churns_data.csv')\n",
    "df.head()"
   ]
  },
  {
   "cell_type": "markdown",
   "id": "630cf2e8",
   "metadata": {},
   "source": [
    "Top 5 heads of the Dataset."
   ]
  },
  {
   "cell_type": "code",
   "execution_count": 3,
   "id": "66cec94f",
   "metadata": {},
   "outputs": [
    {
     "data": {
      "text/plain": [
       "(7043, 21)"
      ]
     },
     "execution_count": 3,
     "metadata": {},
     "output_type": "execute_result"
    }
   ],
   "source": [
    "df.shape"
   ]
  },
  {
   "cell_type": "markdown",
   "id": "f1dfb01d",
   "metadata": {},
   "source": [
    " 7043 rows and 21 columns in the dataset."
   ]
  },
  {
   "cell_type": "markdown",
   "id": "01f2e64e",
   "metadata": {},
   "source": [
    "# CHECKING NULL VALUES IN THE DATAFRAME"
   ]
  },
  {
   "cell_type": "code",
   "execution_count": 4,
   "id": "d69856d6",
   "metadata": {},
   "outputs": [
    {
     "data": {
      "text/plain": [
       "customerID          0\n",
       "gender              0\n",
       "SeniorCitizen       0\n",
       "Partner             0\n",
       "Dependents          0\n",
       "tenure              0\n",
       "PhoneService        0\n",
       "MultipleLines       0\n",
       "InternetService     0\n",
       "OnlineSecurity      0\n",
       "OnlineBackup        0\n",
       "DeviceProtection    0\n",
       "TechSupport         0\n",
       "StreamingTV         0\n",
       "StreamingMovies     0\n",
       "Contract            0\n",
       "PaperlessBilling    0\n",
       "PaymentMethod       0\n",
       "MonthlyCharges      0\n",
       "TotalCharges        0\n",
       "Churn               0\n",
       "dtype: int64"
      ]
     },
     "execution_count": 4,
     "metadata": {},
     "output_type": "execute_result"
    }
   ],
   "source": [
    "df.isnull().sum()"
   ]
  },
  {
   "cell_type": "markdown",
   "id": "ce92ad95",
   "metadata": {},
   "source": [
    "No null values in dataset."
   ]
  },
  {
   "cell_type": "code",
   "execution_count": 5,
   "id": "615e3583",
   "metadata": {},
   "outputs": [
    {
     "data": {
      "text/plain": [
       "<AxesSubplot:>"
      ]
     },
     "execution_count": 5,
     "metadata": {},
     "output_type": "execute_result"
    },
    {
     "data": {
      "image/png": "[encoded data removed]",
      "text/plain": [
       "<Figure size 432x288 with 2 Axes>"
      ]
     },
     "metadata": {
      "needs_background": "light"
     },
     "output_type": "display_data"
    }
   ],
   "source": [
    "# Checking null values through heatmap\n",
    "sns.heatmap(df.isnull())"
   ]
  },
  {
   "cell_type": "markdown",
   "id": "b5e2e358",
   "metadata": {},
   "source": [
    "No null values in the dataset."
   ]
  },
  {
   "cell_type": "markdown",
   "id": "12749ebf",
   "metadata": {},
   "source": [
    "# CHECKING DATATYPES OF THE COLUMNS"
   ]
  },
  {
   "cell_type": "code",
   "execution_count": 6,
   "id": "045824d9",
   "metadata": {},
   "outputs": [
    {
     "data": {
      "text/plain": [
       "customerID           object\n",
       "gender               object\n",
       "SeniorCitizen         int64\n",
       "Partner              object\n",
       "Dependents           object\n",
       "tenure                int64\n",
       "PhoneService         object\n",
       "MultipleLines        object\n",
       "InternetService      object\n",
       "OnlineSecurity       object\n",
       "OnlineBackup         object\n",
       "DeviceProtection     object\n",
       "TechSupport          object\n",
       "StreamingTV          object\n",
       "StreamingMovies      object\n",
       "Contract             object\n",
       "PaperlessBilling     object\n",
       "PaymentMethod        object\n",
       "MonthlyCharges      float64\n",
       "TotalCharges         object\n",
       "Churn                object\n",
       "dtype: object"
      ]
     },
     "execution_count": 6,
     "metadata": {},
     "output_type": "execute_result"
    }
   ],
   "source": [
    "df.dtypes"
   ]
  },
  {
   "cell_type": "markdown",
   "id": "851b9877",
   "metadata": {},
   "source": [
    "we can observe that the 'total charges' has continuous data but it is an object type. Let us handle this column."
   ]
  },
  {
   "cell_type": "code",
   "execution_count": 7,
   "id": "0b7691f0",
   "metadata": {},
   "outputs": [
    {
     "data": {
      "text/plain": [
       "array(['29.85', '1889.5', '108.15', ..., '346.45', '306.6', '6844.5'],\n",
       "      dtype=object)"
      ]
     },
     "execution_count": 7,
     "metadata": {},
     "output_type": "execute_result"
    }
   ],
   "source": [
    "df['TotalCharges'].unique()"
   ]
  },
  {
   "cell_type": "code",
   "execution_count": 8,
   "id": "306980af",
   "metadata": {},
   "outputs": [
    {
     "data": {
      "text/html": [
       "<div>\n",
       "<style scoped>\n",
       "    .dataframe tbody tr th:only-of-type {\n",
       "        vertical-align: middle;\n",
       "    }\n",
       "\n",
       "    .dataframe tbody tr th {\n",
       "        vertical-align: top;\n",
       "    }\n",
       "\n",
       "    .dataframe thead th {\n",
       "        text-align: right;\n",
       "    }\n",
       "</style>\n",
       "<table border=\"1\" class=\"dataframe\">\n",
       "  <thead>\n",
       "    <tr style=\"text-align: right;\">\n",
       "      <th></th>\n",
       "      <th>customerID</th>\n",
       "      <th>gender</th>\n",
       "      <th>SeniorCitizen</th>\n",
       "      <th>Partner</th>\n",
       "      <th>Dependents</th>\n",
       "      <th>tenure</th>\n",
       "      <th>PhoneService</th>\n",
       "      <th>MultipleLines</th>\n",
       "      <th>InternetService</th>\n",
       "      <th>OnlineSecurity</th>\n",
       "      <th>...</th>\n",
       "      <th>DeviceProtection</th>\n",
       "      <th>TechSupport</th>\n",
       "      <th>StreamingTV</th>\n",
       "      <th>StreamingMovies</th>\n",
       "      <th>Contract</th>\n",
       "      <th>PaperlessBilling</th>\n",
       "      <th>PaymentMethod</th>\n",
       "      <th>MonthlyCharges</th>\n",
       "      <th>TotalCharges</th>\n",
       "      <th>Churn</th>\n",
       "    </tr>\n",
       "  </thead>\n",
       "  <tbody>\n",
       "    <tr>\n",
       "      <th>488</th>\n",
       "      <td>4472-LVYGI</td>\n",
       "      <td>Female</td>\n",
       "      <td>0</td>\n",
       "      <td>Yes</td>\n",
       "      <td>Yes</td>\n",
       "      <td>0</td>\n",
       "      <td>No</td>\n",
       "      <td>No phone service</td>\n",
       "      <td>DSL</td>\n",
       "      <td>Yes</td>\n",
       "      <td>...</td>\n",
       "      <td>Yes</td>\n",
       "      <td>Yes</td>\n",
       "      <td>Yes</td>\n",
       "      <td>No</td>\n",
       "      <td>Two year</td>\n",
       "      <td>Yes</td>\n",
       "      <td>Bank transfer (automatic)</td>\n",
       "      <td>52.55</td>\n",
       "      <td></td>\n",
       "      <td>No</td>\n",
       "    </tr>\n",
       "    <tr>\n",
       "      <th>753</th>\n",
       "      <td>3115-CZMZD</td>\n",
       "      <td>Male</td>\n",
       "      <td>0</td>\n",
       "      <td>No</td>\n",
       "      <td>Yes</td>\n",
       "      <td>0</td>\n",
       "      <td>Yes</td>\n",
       "      <td>No</td>\n",
       "      <td>No</td>\n",
       "      <td>No internet service</td>\n",
       "      <td>...</td>\n",
       "      <td>No internet service</td>\n",
       "      <td>No internet service</td>\n",
       "      <td>No internet service</td>\n",
       "      <td>No internet service</td>\n",
       "      <td>Two year</td>\n",
       "      <td>No</td>\n",
       "      <td>Mailed check</td>\n",
       "      <td>20.25</td>\n",
       "      <td></td>\n",
       "      <td>No</td>\n",
       "    </tr>\n",
       "    <tr>\n",
       "      <th>936</th>\n",
       "      <td>5709-LVOEQ</td>\n",
       "      <td>Female</td>\n",
       "      <td>0</td>\n",
       "      <td>Yes</td>\n",
       "      <td>Yes</td>\n",
       "      <td>0</td>\n",
       "      <td>Yes</td>\n",
       "      <td>No</td>\n",
       "      <td>DSL</td>\n",
       "      <td>Yes</td>\n",
       "      <td>...</td>\n",
       "      <td>Yes</td>\n",
       "      <td>No</td>\n",
       "      <td>Yes</td>\n",
       "      <td>Yes</td>\n",
       "      <td>Two year</td>\n",
       "      <td>No</td>\n",
       "      <td>Mailed check</td>\n",
       "      <td>80.85</td>\n",
       "      <td></td>\n",
       "      <td>No</td>\n",
       "    </tr>\n",
       "    <tr>\n",
       "      <th>1082</th>\n",
       "      <td>4367-NUYAO</td>\n",
       "      <td>Male</td>\n",
       "      <td>0</td>\n",
       "      <td>Yes</td>\n",
       "      <td>Yes</td>\n",
       "      <td>0</td>\n",
       "      <td>Yes</td>\n",
       "      <td>Yes</td>\n",
       "      <td>No</td>\n",
       "      <td>No internet service</td>\n",
       "      <td>...</td>\n",
       "      <td>No internet service</td>\n",
       "      <td>No internet service</td>\n",
       "      <td>No internet service</td>\n",
       "      <td>No internet service</td>\n",
       "      <td>Two year</td>\n",
       "      <td>No</td>\n",
       "      <td>Mailed check</td>\n",
       "      <td>25.75</td>\n",
       "      <td></td>\n",
       "      <td>No</td>\n",
       "    </tr>\n",
       "    <tr>\n",
       "      <th>1340</th>\n",
       "      <td>1371-DWPAZ</td>\n",
       "      <td>Female</td>\n",
       "      <td>0</td>\n",
       "      <td>Yes</td>\n",
       "      <td>Yes</td>\n",
       "      <td>0</td>\n",
       "      <td>No</td>\n",
       "      <td>No phone service</td>\n",
       "      <td>DSL</td>\n",
       "      <td>Yes</td>\n",
       "      <td>...</td>\n",
       "      <td>Yes</td>\n",
       "      <td>Yes</td>\n",
       "      <td>Yes</td>\n",
       "      <td>No</td>\n",
       "      <td>Two year</td>\n",
       "      <td>No</td>\n",
       "      <td>Credit card (automatic)</td>\n",
       "      <td>56.05</td>\n",
       "      <td></td>\n",
       "      <td>No</td>\n",
       "    </tr>\n",
       "    <tr>\n",
       "      <th>3331</th>\n",
       "      <td>7644-OMVMY</td>\n",
       "      <td>Male</td>\n",
       "      <td>0</td>\n",
       "      <td>Yes</td>\n",
       "      <td>Yes</td>\n",
       "      <td>0</td>\n",
       "      <td>Yes</td>\n",
       "      <td>No</td>\n",
       "      <td>No</td>\n",
       "      <td>No internet service</td>\n",
       "      <td>...</td>\n",
       "      <td>No internet service</td>\n",
       "      <td>No internet service</td>\n",
       "      <td>No internet service</td>\n",
       "      <td>No internet service</td>\n",
       "      <td>Two year</td>\n",
       "      <td>No</td>\n",
       "      <td>Mailed check</td>\n",
       "      <td>19.85</td>\n",
       "      <td></td>\n",
       "      <td>No</td>\n",
       "    </tr>\n",
       "    <tr>\n",
       "      <th>3826</th>\n",
       "      <td>3213-VVOLG</td>\n",
       "      <td>Male</td>\n",
       "      <td>0</td>\n",
       "      <td>Yes</td>\n",
       "      <td>Yes</td>\n",
       "      <td>0</td>\n",
       "      <td>Yes</td>\n",
       "      <td>Yes</td>\n",
       "      <td>No</td>\n",
       "      <td>No internet service</td>\n",
       "      <td>...</td>\n",
       "      <td>No internet service</td>\n",
       "      <td>No internet service</td>\n",
       "      <td>No internet service</td>\n",
       "      <td>No internet service</td>\n",
       "      <td>Two year</td>\n",
       "      <td>No</td>\n",
       "      <td>Mailed check</td>\n",
       "      <td>25.35</td>\n",
       "      <td></td>\n",
       "      <td>No</td>\n",
       "    </tr>\n",
       "    <tr>\n",
       "      <th>4380</th>\n",
       "      <td>2520-SGTTA</td>\n",
       "      <td>Female</td>\n",
       "      <td>0</td>\n",
       "      <td>Yes</td>\n",
       "      <td>Yes</td>\n",
       "      <td>0</td>\n",
       "      <td>Yes</td>\n",
       "      <td>No</td>\n",
       "      <td>No</td>\n",
       "      <td>No internet service</td>\n",
       "      <td>...</td>\n",
       "      <td>No internet service</td>\n",
       "      <td>No internet service</td>\n",
       "      <td>No internet service</td>\n",
       "      <td>No internet service</td>\n",
       "      <td>Two year</td>\n",
       "      <td>No</td>\n",
       "      <td>Mailed check</td>\n",
       "      <td>20.00</td>\n",
       "      <td></td>\n",
       "      <td>No</td>\n",
       "    </tr>\n",
       "    <tr>\n",
       "      <th>5218</th>\n",
       "      <td>2923-ARZLG</td>\n",
       "      <td>Male</td>\n",
       "      <td>0</td>\n",
       "      <td>Yes</td>\n",
       "      <td>Yes</td>\n",
       "      <td>0</td>\n",
       "      <td>Yes</td>\n",
       "      <td>No</td>\n",
       "      <td>No</td>\n",
       "      <td>No internet service</td>\n",
       "      <td>...</td>\n",
       "      <td>No internet service</td>\n",
       "      <td>No internet service</td>\n",
       "      <td>No internet service</td>\n",
       "      <td>No internet service</td>\n",
       "      <td>One year</td>\n",
       "      <td>Yes</td>\n",
       "      <td>Mailed check</td>\n",
       "      <td>19.70</td>\n",
       "      <td></td>\n",
       "      <td>No</td>\n",
       "    </tr>\n",
       "    <tr>\n",
       "      <th>6670</th>\n",
       "      <td>4075-WKNIU</td>\n",
       "      <td>Female</td>\n",
       "      <td>0</td>\n",
       "      <td>Yes</td>\n",
       "      <td>Yes</td>\n",
       "      <td>0</td>\n",
       "      <td>Yes</td>\n",
       "      <td>Yes</td>\n",
       "      <td>DSL</td>\n",
       "      <td>No</td>\n",
       "      <td>...</td>\n",
       "      <td>Yes</td>\n",
       "      <td>Yes</td>\n",
       "      <td>Yes</td>\n",
       "      <td>No</td>\n",
       "      <td>Two year</td>\n",
       "      <td>No</td>\n",
       "      <td>Mailed check</td>\n",
       "      <td>73.35</td>\n",
       "      <td></td>\n",
       "      <td>No</td>\n",
       "    </tr>\n",
       "    <tr>\n",
       "      <th>6754</th>\n",
       "      <td>2775-SEFEE</td>\n",
       "      <td>Male</td>\n",
       "      <td>0</td>\n",
       "      <td>No</td>\n",
       "      <td>Yes</td>\n",
       "      <td>0</td>\n",
       "      <td>Yes</td>\n",
       "      <td>Yes</td>\n",
       "      <td>DSL</td>\n",
       "      <td>Yes</td>\n",
       "      <td>...</td>\n",
       "      <td>No</td>\n",
       "      <td>Yes</td>\n",
       "      <td>No</td>\n",
       "      <td>No</td>\n",
       "      <td>Two year</td>\n",
       "      <td>Yes</td>\n",
       "      <td>Bank transfer (automatic)</td>\n",
       "      <td>61.90</td>\n",
       "      <td></td>\n",
       "      <td>No</td>\n",
       "    </tr>\n",
       "  </tbody>\n",
       "</table>\n",
       "<p>11 rows × 21 columns</p>\n",
       "</div>"
      ],
      "text/plain": [
       "      customerID  gender  SeniorCitizen Partner Dependents  tenure  \\\n",
       "488   4472-LVYGI  Female              0     Yes        Yes       0   \n",
       "753   3115-CZMZD    Male              0      No        Yes       0   \n",
       "936   5709-LVOEQ  Female              0     Yes        Yes       0   \n",
       "1082  4367-NUYAO    Male              0     Yes        Yes       0   \n",
       "1340  1371-DWPAZ  Female              0     Yes        Yes       0   \n",
       "3331  7644-OMVMY    Male              0     Yes        Yes       0   \n",
       "3826  3213-VVOLG    Male              0     Yes        Yes       0   \n",
       "4380  2520-SGTTA  Female              0     Yes        Yes       0   \n",
       "5218  2923-ARZLG    Male              0     Yes        Yes       0   \n",
       "6670  4075-WKNIU  Female              0     Yes        Yes       0   \n",
       "6754  2775-SEFEE    Male              0      No        Yes       0   \n",
       "\n",
       "     PhoneService     MultipleLines InternetService       OnlineSecurity  ...  \\\n",
       "488            No  No phone service             DSL                  Yes  ...   \n",
       "753           Yes                No              No  No internet service  ...   \n",
       "936           Yes                No             DSL                  Yes  ...   \n",
       "1082          Yes               Yes              No  No internet service  ...   \n",
       "1340           No  No phone service             DSL                  Yes  ...   \n",
       "3331          Yes                No              No  No internet service  ...   \n",
       "3826          Yes               Yes              No  No internet service  ...   \n",
       "4380          Yes                No              No  No internet service  ...   \n",
       "5218          Yes                No              No  No internet service  ...   \n",
       "6670          Yes               Yes             DSL                   No  ...   \n",
       "6754          Yes               Yes             DSL                  Yes  ...   \n",
       "\n",
       "         DeviceProtection          TechSupport          StreamingTV  \\\n",
       "488                   Yes                  Yes                  Yes   \n",
       "753   No internet service  No internet service  No internet service   \n",
       "936                   Yes                   No                  Yes   \n",
       "1082  No internet service  No internet service  No internet service   \n",
       "1340                  Yes                  Yes                  Yes   \n",
       "3331  No internet service  No internet service  No internet service   \n",
       "3826  No internet service  No internet service  No internet service   \n",
       "4380  No internet service  No internet service  No internet service   \n",
       "5218  No internet service  No internet service  No internet service   \n",
       "6670                  Yes                  Yes                  Yes   \n",
       "6754                   No                  Yes                   No   \n",
       "\n",
       "          StreamingMovies  Contract PaperlessBilling  \\\n",
       "488                    No  Two year              Yes   \n",
       "753   No internet service  Two year               No   \n",
       "936                   Yes  Two year               No   \n",
       "1082  No internet service  Two year               No   \n",
       "1340                   No  Two year               No   \n",
       "3331  No internet service  Two year               No   \n",
       "3826  No internet service  Two year               No   \n",
       "4380  No internet service  Two year               No   \n",
       "5218  No internet service  One year              Yes   \n",
       "6670                   No  Two year               No   \n",
       "6754                   No  Two year              Yes   \n",
       "\n",
       "                  PaymentMethod MonthlyCharges  TotalCharges Churn  \n",
       "488   Bank transfer (automatic)          52.55                  No  \n",
       "753                Mailed check          20.25                  No  \n",
       "936                Mailed check          80.85                  No  \n",
       "1082               Mailed check          25.75                  No  \n",
       "1340    Credit card (automatic)          56.05                  No  \n",
       "3331               Mailed check          19.85                  No  \n",
       "3826               Mailed check          25.35                  No  \n",
       "4380               Mailed check          20.00                  No  \n",
       "5218               Mailed check          19.70                  No  \n",
       "6670               Mailed check          73.35                  No  \n",
       "6754  Bank transfer (automatic)          61.90                  No  \n",
       "\n",
       "[11 rows x 21 columns]"
      ]
     },
     "execution_count": 8,
     "metadata": {},
     "output_type": "execute_result"
    }
   ],
   "source": [
    "df.loc[df['TotalCharges']==\" \"]"
   ]
  },
  {
   "cell_type": "markdown",
   "id": "86569dbb",
   "metadata": {},
   "source": [
    " we saw the some columns have space as the value, and we we know python will consider space as a object."
   ]
  },
  {
   "cell_type": "code",
   "execution_count": 9,
   "id": "170c1921",
   "metadata": {},
   "outputs": [],
   "source": [
    "#replacing the space in TotalCharges coulmn by null values\n",
    "\n",
    "df['TotalCharges']=df['TotalCharges'].replace(\" \",np.nan)"
   ]
  },
  {
   "cell_type": "code",
   "execution_count": 10,
   "id": "0811f12c",
   "metadata": {},
   "outputs": [
    {
     "data": {
      "text/plain": [
       "customerID           0\n",
       "gender               0\n",
       "SeniorCitizen        0\n",
       "Partner              0\n",
       "Dependents           0\n",
       "tenure               0\n",
       "PhoneService         0\n",
       "MultipleLines        0\n",
       "InternetService      0\n",
       "OnlineSecurity       0\n",
       "OnlineBackup         0\n",
       "DeviceProtection     0\n",
       "TechSupport          0\n",
       "StreamingTV          0\n",
       "StreamingMovies      0\n",
       "Contract             0\n",
       "PaperlessBilling     0\n",
       "PaymentMethod        0\n",
       "MonthlyCharges       0\n",
       "TotalCharges        11\n",
       "Churn                0\n",
       "dtype: int64"
      ]
     },
     "execution_count": 10,
     "metadata": {},
     "output_type": "execute_result"
    }
   ],
   "source": [
    "# checking null values again \n",
    "df.isnull().sum()"
   ]
  },
  {
   "cell_type": "markdown",
   "id": "dde27cc2",
   "metadata": {},
   "source": [
    "Now after removing the space with null values , Total Charges column has been converted into object to float. and, we have 11 null values in TotalCharges column.\n",
    "\n"
   ]
  },
  {
   "cell_type": "markdown",
   "id": "1866e104",
   "metadata": {},
   "source": [
    "# HANDLING NULL VALUES and replacing it with the mean of the column, as the column is continuous in nature"
   ]
  },
  {
   "cell_type": "code",
   "execution_count": 11,
   "id": "acc3a53d",
   "metadata": {},
   "outputs": [],
   "source": [
    "# converting the column type from object to float\n",
    "df['TotalCharges']=df['TotalCharges'].astype(float)"
   ]
  },
  {
   "cell_type": "code",
   "execution_count": 12,
   "id": "f4d6e9aa",
   "metadata": {},
   "outputs": [],
   "source": [
    "df['TotalCharges']=df['TotalCharges'].fillna(np.mean(df['TotalCharges']))"
   ]
  },
  {
   "cell_type": "code",
   "execution_count": 13,
   "id": "d5ffc85d",
   "metadata": {},
   "outputs": [
    {
     "data": {
      "text/plain": [
       "customerID          0\n",
       "gender              0\n",
       "SeniorCitizen       0\n",
       "Partner             0\n",
       "Dependents          0\n",
       "tenure              0\n",
       "PhoneService        0\n",
       "MultipleLines       0\n",
       "InternetService     0\n",
       "OnlineSecurity      0\n",
       "OnlineBackup        0\n",
       "DeviceProtection    0\n",
       "TechSupport         0\n",
       "StreamingTV         0\n",
       "StreamingMovies     0\n",
       "Contract            0\n",
       "PaperlessBilling    0\n",
       "PaymentMethod       0\n",
       "MonthlyCharges      0\n",
       "TotalCharges        0\n",
       "Churn               0\n",
       "dtype: int64"
      ]
     },
     "execution_count": 13,
     "metadata": {},
     "output_type": "execute_result"
    }
   ],
   "source": [
    "df.isnull().sum()"
   ]
  },
  {
   "cell_type": "markdown",
   "id": "cb56cde5",
   "metadata": {},
   "source": [
    "now we have no null values in the dataset."
   ]
  },
  {
   "cell_type": "code",
   "execution_count": 14,
   "id": "35368ad4",
   "metadata": {},
   "outputs": [
    {
     "data": {
      "text/plain": [
       "customerID           object\n",
       "gender               object\n",
       "SeniorCitizen         int64\n",
       "Partner              object\n",
       "Dependents           object\n",
       "tenure                int64\n",
       "PhoneService         object\n",
       "MultipleLines        object\n",
       "InternetService      object\n",
       "OnlineSecurity       object\n",
       "OnlineBackup         object\n",
       "DeviceProtection     object\n",
       "TechSupport          object\n",
       "StreamingTV          object\n",
       "StreamingMovies      object\n",
       "Contract             object\n",
       "PaperlessBilling     object\n",
       "PaymentMethod        object\n",
       "MonthlyCharges      float64\n",
       "TotalCharges        float64\n",
       "Churn                object\n",
       "dtype: object"
      ]
     },
     "execution_count": 14,
     "metadata": {},
     "output_type": "execute_result"
    }
   ],
   "source": [
    "#final datatype\n",
    "df.dtypes"
   ]
  },
  {
   "cell_type": "markdown",
   "id": "9191625e",
   "metadata": {},
   "source": [
    "# MAKING DATAFRAME FOR NOMINAL DATA"
   ]
  },
  {
   "cell_type": "code",
   "execution_count": 15,
   "id": "9158a5fa",
   "metadata": {},
   "outputs": [],
   "source": [
    "df_nominal=df[['customerID','gender','Partner','Dependents','PhoneService','MultipleLines','InternetService','OnlineSecurity','OnlineBackup','DeviceProtection','TechSupport','StreamingTV','StreamingMovies','Contract','PaperlessBilling','PaymentMethod','Churn','SeniorCitizen']]"
   ]
  },
  {
   "cell_type": "code",
   "execution_count": 16,
   "id": "aa49401e",
   "metadata": {},
   "outputs": [
    {
     "data": {
      "text/plain": [
       "Index(['customerID', 'gender', 'Partner', 'Dependents', 'PhoneService',\n",
       "       'MultipleLines', 'InternetService', 'OnlineSecurity', 'OnlineBackup',\n",
       "       'DeviceProtection', 'TechSupport', 'StreamingTV', 'StreamingMovies',\n",
       "       'Contract', 'PaperlessBilling', 'PaymentMethod', 'Churn',\n",
       "       'SeniorCitizen'],\n",
       "      dtype='object')"
      ]
     },
     "execution_count": 16,
     "metadata": {},
     "output_type": "execute_result"
    }
   ],
   "source": [
    "df_nominal.columns"
   ]
  },
  {
   "cell_type": "markdown",
   "id": "18f545c8",
   "metadata": {},
   "source": [
    "# VISUALIZATION OF NOMINAL DATA BY COUNT PLOT"
   ]
  },
  {
   "cell_type": "code",
   "execution_count": 23,
   "id": "75cebdb6",
   "metadata": {},
   "outputs": [
    {
     "name": "stdout",
     "output_type": "stream",
     "text": [
      "Male      3555\n",
      "Female    3488\n",
      "Name: gender, dtype: int64\n"
     ]
    },
    {
     "data": {
      "image/png": "[encoded data removed]",
      "text/plain": [
       "<Figure size 432x288 with 1 Axes>"
      ]
     },
     "metadata": {
      "needs_background": "light"
     },
     "output_type": "display_data"
    }
   ],
   "source": [
    "ax=sns.countplot(x='gender',data=df_nominal)\n",
    "print(df_nominal['gender'].value_counts())"
   ]
  },
  {
   "cell_type": "markdown",
   "id": "db21b8a8",
   "metadata": {},
   "source": [
    "From the above observations the total number of male is 3555 and toTAL number of female customer is 3488, both the data is approximately same."
   ]
  },
  {
   "cell_type": "code",
   "execution_count": null,
   "id": "dc31bc56",
   "metadata": {},
   "outputs": [],
   "source": []
  },
  {
   "cell_type": "code",
   "execution_count": 24,
   "id": "3ca8b0ff",
   "metadata": {},
   "outputs": [
    {
     "name": "stdout",
     "output_type": "stream",
     "text": [
      "0    5901\n",
      "1    1142\n",
      "Name: SeniorCitizen, dtype: int64\n"
     ]
    },
    {
     "data": {
      "image/png": "[encoded data removed]",
      "text/plain": [
       "<Figure size 432x288 with 1 Axes>"
      ]
     },
     "metadata": {
      "needs_background": "light"
     },
     "output_type": "display_data"
    }
   ],
   "source": [
    "ax=sns.countplot(x='SeniorCitizen',data=df_nominal)\n",
    "print(df_nominal['SeniorCitizen'].value_counts())"
   ]
  },
  {
   "cell_type": "markdown",
   "id": "44db34ad",
   "metadata": {},
   "source": [
    "0 indicates the no seior citizen and 1 indicates the senior citizen. from the above observations the total number of younger customer is 5901 and total number of senior citizen is 1142."
   ]
  },
  {
   "cell_type": "code",
   "execution_count": null,
   "id": "203e3340",
   "metadata": {},
   "outputs": [],
   "source": []
  },
  {
   "cell_type": "code",
   "execution_count": 25,
   "id": "a190f3f5",
   "metadata": {},
   "outputs": [
    {
     "name": "stdout",
     "output_type": "stream",
     "text": [
      "No     3641\n",
      "Yes    3402\n",
      "Name: Partner, dtype: int64\n"
     ]
    },
    {
     "data": {
      "image/png": "[encoded data removed]",
      "text/plain": [
       "<Figure size 432x288 with 1 Axes>"
      ]
     },
     "metadata": {
      "needs_background": "light"
     },
     "output_type": "display_data"
    }
   ],
   "source": [
    "ax=sns.countplot(x='Partner',data=df_nominal)\n",
    "print(df_nominal['Partner'].value_counts())"
   ]
  },
  {
   "cell_type": "markdown",
   "id": "16942e02",
   "metadata": {},
   "source": [
    "From the above observations the total number of married customer is 3402 and the total number of unmarried customer is 3641."
   ]
  },
  {
   "cell_type": "code",
   "execution_count": null,
   "id": "40baa6c0",
   "metadata": {},
   "outputs": [],
   "source": []
  },
  {
   "cell_type": "code",
   "execution_count": 27,
   "id": "b4cb6011",
   "metadata": {},
   "outputs": [
    {
     "name": "stdout",
     "output_type": "stream",
     "text": [
      "No     4933\n",
      "Yes    2110\n",
      "Name: Dependents, dtype: int64\n"
     ]
    },
    {
     "data": {
      "image/png": "[encoded data removed]",
      "text/plain": [
       "<Figure size 432x288 with 1 Axes>"
      ]
     },
     "metadata": {
      "needs_background": "light"
     },
     "output_type": "display_data"
    }
   ],
   "source": [
    "ax=sns.countplot(x='Dependents',data=df_nominal)\n",
    "print(df_nominal['Dependents'].value_counts())"
   ]
  },
  {
   "cell_type": "markdown",
   "id": "c3001bcf",
   "metadata": {},
   "source": [
    "From the above observations the total number of dependent customer is 2110 and the total number of independent customer is 4933."
   ]
  },
  {
   "cell_type": "code",
   "execution_count": null,
   "id": "74c9f2de",
   "metadata": {},
   "outputs": [],
   "source": []
  },
  {
   "cell_type": "code",
   "execution_count": 28,
   "id": "eb1bef90",
   "metadata": {},
   "outputs": [
    {
     "name": "stdout",
     "output_type": "stream",
     "text": [
      "Yes    6361\n",
      "No      682\n",
      "Name: PhoneService, dtype: int64\n"
     ]
    },
    {
     "data": {
      "image/png": "[encoded data removed]",
      "text/plain": [
       "<Figure size 432x288 with 1 Axes>"
      ]
     },
     "metadata": {
      "needs_background": "light"
     },
     "output_type": "display_data"
    }
   ],
   "source": [
    "ax=sns.countplot(x='PhoneService',data=df_nominal)\n",
    "print(df_nominal['PhoneService'].value_counts())"
   ]
  },
  {
   "cell_type": "markdown",
   "id": "e7303077",
   "metadata": {},
   "source": [
    "From the above observations the total number of customer using phone service is 6361 and total number of customer not using phone service is 682."
   ]
  },
  {
   "cell_type": "code",
   "execution_count": null,
   "id": "51f1b386",
   "metadata": {},
   "outputs": [],
   "source": []
  },
  {
   "cell_type": "code",
   "execution_count": 29,
   "id": "7958b635",
   "metadata": {},
   "outputs": [
    {
     "name": "stdout",
     "output_type": "stream",
     "text": [
      "No                  3390\n",
      "Yes                 2971\n",
      "No phone service     682\n",
      "Name: MultipleLines, dtype: int64\n"
     ]
    },
    {
     "data": {
      "image/png": "[encoded data removed]",
      "text/plain": [
       "<Figure size 432x288 with 1 Axes>"
      ]
     },
     "metadata": {
      "needs_background": "light"
     },
     "output_type": "display_data"
    }
   ],
   "source": [
    "ax=sns.countplot(x='MultipleLines',data=df_nominal)\n",
    "print(df_nominal['MultipleLines'].value_counts())"
   ]
  },
  {
   "cell_type": "markdown",
   "id": "0b91520e",
   "metadata": {},
   "source": [
    "From the above observations total number of customer notusing any phone service is 682, using no multiple services is 3390, and using multiple services is 2971."
   ]
  },
  {
   "cell_type": "code",
   "execution_count": null,
   "id": "1109eb24",
   "metadata": {},
   "outputs": [],
   "source": []
  },
  {
   "cell_type": "code",
   "execution_count": 30,
   "id": "6c7beaf3",
   "metadata": {},
   "outputs": [
    {
     "name": "stdout",
     "output_type": "stream",
     "text": [
      "Fiber optic    3096\n",
      "DSL            2421\n",
      "No             1526\n",
      "Name: InternetService, dtype: int64\n"
     ]
    },
    {
     "data": {
      "image/png": "[encoded data removed]",
      "text/plain": [
       "<Figure size 432x288 with 1 Axes>"
      ]
     },
     "metadata": {
      "needs_background": "light"
     },
     "output_type": "display_data"
    }
   ],
   "source": [
    "ax=sns.countplot(x='InternetService',data=df_nominal)\n",
    "print(df_nominal['InternetService'].value_counts())"
   ]
  },
  {
   "cell_type": "markdown",
   "id": "2c6ad1d2",
   "metadata": {},
   "source": [
    "From the above observations total number of customer not using any internet services is 1526, fibre optic internet services is 3096 and using DSL is 2421."
   ]
  },
  {
   "cell_type": "code",
   "execution_count": null,
   "id": "cfbbc7b5",
   "metadata": {},
   "outputs": [],
   "source": []
  },
  {
   "cell_type": "code",
   "execution_count": 31,
   "id": "d40913a3",
   "metadata": {},
   "outputs": [
    {
     "name": "stdout",
     "output_type": "stream",
     "text": [
      "No                     3498\n",
      "Yes                    2019\n",
      "No internet service    1526\n",
      "Name: OnlineSecurity, dtype: int64\n"
     ]
    },
    {
     "data": {
      "image/png": "[encoded data removed]",
      "text/plain": [
       "<Figure size 432x288 with 1 Axes>"
      ]
     },
     "metadata": {
      "needs_background": "light"
     },
     "output_type": "display_data"
    }
   ],
   "source": [
    "ax=sns.countplot(x='OnlineSecurity',data=df_nominal)\n",
    "print(df_nominal['OnlineSecurity'].value_counts())"
   ]
  },
  {
   "cell_type": "markdown",
   "id": "8c889cd8",
   "metadata": {},
   "source": [
    "From the above observations total number of customer not using any internet services is 1526, usimg online security is 2019 , and using no online security is 3498."
   ]
  },
  {
   "cell_type": "code",
   "execution_count": null,
   "id": "41167239",
   "metadata": {},
   "outputs": [],
   "source": []
  },
  {
   "cell_type": "code",
   "execution_count": 32,
   "id": "288f7fea",
   "metadata": {},
   "outputs": [
    {
     "name": "stdout",
     "output_type": "stream",
     "text": [
      "No                     3088\n",
      "Yes                    2429\n",
      "No internet service    1526\n",
      "Name: OnlineBackup, dtype: int64\n"
     ]
    },
    {
     "data": {
      "image/png": "[encoded data removed]",
      "text/plain": [
       "<Figure size 432x288 with 1 Axes>"
      ]
     },
     "metadata": {
      "needs_background": "light"
     },
     "output_type": "display_data"
    }
   ],
   "source": [
    "ax=sns.countplot(x='OnlineBackup',data=df_nominal)\n",
    "print(df_nominal['OnlineBackup'].value_counts())"
   ]
  },
  {
   "cell_type": "markdown",
   "id": "290ba9d9",
   "metadata": {},
   "source": [
    "From the above observations total number of customer not using any internet services is 1526, using online backup is 2429 andnot using online backup is 3088."
   ]
  },
  {
   "cell_type": "code",
   "execution_count": null,
   "id": "7250f84b",
   "metadata": {},
   "outputs": [],
   "source": []
  },
  {
   "cell_type": "code",
   "execution_count": 33,
   "id": "82461c84",
   "metadata": {},
   "outputs": [
    {
     "name": "stdout",
     "output_type": "stream",
     "text": [
      "No                     3473\n",
      "Yes                    2044\n",
      "No internet service    1526\n",
      "Name: TechSupport, dtype: int64\n"
     ]
    },
    {
     "data": {
      "image/png": "[encoded data removed]",
      "text/plain": [
       "<Figure size 432x288 with 1 Axes>"
      ]
     },
     "metadata": {
      "needs_background": "light"
     },
     "output_type": "display_data"
    }
   ],
   "source": [
    "ax=sns.countplot(x='TechSupport',data=df_nominal)\n",
    "print(df_nominal['TechSupport'].value_counts())"
   ]
  },
  {
   "cell_type": "markdown",
   "id": "78f3ef27",
   "metadata": {},
   "source": [
    "From the above observations total number of customer not using any internet services is 1526, using tech support is 2044 and not using tech support is 3473."
   ]
  },
  {
   "cell_type": "code",
   "execution_count": null,
   "id": "dbcf3932",
   "metadata": {},
   "outputs": [],
   "source": []
  },
  {
   "cell_type": "code",
   "execution_count": 34,
   "id": "0b763fe3",
   "metadata": {},
   "outputs": [
    {
     "name": "stdout",
     "output_type": "stream",
     "text": [
      "No                     3095\n",
      "Yes                    2422\n",
      "No internet service    1526\n",
      "Name: DeviceProtection, dtype: int64\n"
     ]
    },
    {
     "data": {
      "image/png": "[encoded data removed]",
      "text/plain": [
       "<Figure size 432x288 with 1 Axes>"
      ]
     },
     "metadata": {
      "needs_background": "light"
     },
     "output_type": "display_data"
    }
   ],
   "source": [
    "ax=sns.countplot(x='DeviceProtection',data=df_nominal)\n",
    "print(df_nominal['DeviceProtection'].value_counts())"
   ]
  },
  {
   "cell_type": "markdown",
   "id": "d9bc2406",
   "metadata": {},
   "source": [
    "From the above observations total number of customer not using any internet services is 1526, using device protection is 2422 and not using device protection is 3095."
   ]
  },
  {
   "cell_type": "code",
   "execution_count": null,
   "id": "817a4cf9",
   "metadata": {},
   "outputs": [],
   "source": []
  },
  {
   "cell_type": "code",
   "execution_count": 35,
   "id": "770c8aac",
   "metadata": {},
   "outputs": [
    {
     "name": "stdout",
     "output_type": "stream",
     "text": [
      "No                     2810\n",
      "Yes                    2707\n",
      "No internet service    1526\n",
      "Name: StreamingTV, dtype: int64\n"
     ]
    },
    {
     "data": {
      "image/png": "[encoded data removed]",
      "text/plain": [
       "<Figure size 432x288 with 1 Axes>"
      ]
     },
     "metadata": {
      "needs_background": "light"
     },
     "output_type": "display_data"
    }
   ],
   "source": [
    "ax=sns.countplot(x='StreamingTV',data=df_nominal)\n",
    "print(df_nominal['StreamingTV'].value_counts())"
   ]
  },
  {
   "cell_type": "markdown",
   "id": "841c463b",
   "metadata": {},
   "source": [
    "From the above observations total number of customer not using any internet services is 1526, using streamingTV is 2707 and not using streamingTV is 2810."
   ]
  },
  {
   "cell_type": "code",
   "execution_count": null,
   "id": "3ba50f74",
   "metadata": {},
   "outputs": [],
   "source": []
  },
  {
   "cell_type": "code",
   "execution_count": 36,
   "id": "c5400549",
   "metadata": {},
   "outputs": [
    {
     "name": "stdout",
     "output_type": "stream",
     "text": [
      "No                     2785\n",
      "Yes                    2732\n",
      "No internet service    1526\n",
      "Name: StreamingMovies, dtype: int64\n"
     ]
    },
    {
     "data": {
      "image/png": "[encoded data removed]",
      "text/plain": [
       "<Figure size 432x288 with 1 Axes>"
      ]
     },
     "metadata": {
      "needs_background": "light"
     },
     "output_type": "display_data"
    }
   ],
   "source": [
    "ax=sns.countplot(x='StreamingMovies',data=df_nominal)\n",
    "print(df_nominal['StreamingMovies'].value_counts())"
   ]
  },
  {
   "cell_type": "markdown",
   "id": "783a9f8c",
   "metadata": {},
   "source": [
    "From the above observations total number of customer not using any internet services is 1526, using streaming movies is 2732 and not using streaming movies is 2785."
   ]
  },
  {
   "cell_type": "code",
   "execution_count": null,
   "id": "cb9abc92",
   "metadata": {},
   "outputs": [],
   "source": []
  },
  {
   "cell_type": "code",
   "execution_count": 37,
   "id": "51d48ee6",
   "metadata": {},
   "outputs": [
    {
     "name": "stdout",
     "output_type": "stream",
     "text": [
      "Month-to-month    3875\n",
      "Two year          1695\n",
      "One year          1473\n",
      "Name: Contract, dtype: int64\n"
     ]
    },
    {
     "data": {
      "image/png": "[encoded data removed]",
      "text/plain": [
       "<Figure size 432x288 with 1 Axes>"
      ]
     },
     "metadata": {
      "needs_background": "light"
     },
     "output_type": "display_data"
    }
   ],
   "source": [
    "ax=sns.countplot(x='Contract',data=df_nominal)\n",
    "print(df_nominal['Contract'].value_counts())"
   ]
  },
  {
   "cell_type": "markdown",
   "id": "6cee0d55",
   "metadata": {},
   "source": [
    "From the above observations total numbers of customers applied for month-to-month contract is 3875, one year contract is 1473 and two year contract is 1695."
   ]
  },
  {
   "cell_type": "code",
   "execution_count": null,
   "id": "bfb03955",
   "metadata": {},
   "outputs": [],
   "source": []
  },
  {
   "cell_type": "code",
   "execution_count": 38,
   "id": "69952ddd",
   "metadata": {},
   "outputs": [
    {
     "name": "stdout",
     "output_type": "stream",
     "text": [
      "Yes    4171\n",
      "No     2872\n",
      "Name: PaperlessBilling, dtype: int64\n"
     ]
    },
    {
     "data": {
      "image/png": "[encoded data removed]",
      "text/plain": [
       "<Figure size 432x288 with 1 Axes>"
      ]
     },
     "metadata": {
      "needs_background": "light"
     },
     "output_type": "display_data"
    }
   ],
   "source": [
    "ax=sns.countplot(x='PaperlessBilling',data=df_nominal)\n",
    "print(df_nominal['PaperlessBilling'].value_counts())"
   ]
  },
  {
   "cell_type": "markdown",
   "id": "c5d66b9a",
   "metadata": {},
   "source": [
    "From the above observations total number of customer not using paperless billing is 2872, and using paperless billing is 4171."
   ]
  },
  {
   "cell_type": "code",
   "execution_count": null,
   "id": "8c85df27",
   "metadata": {},
   "outputs": [],
   "source": []
  },
  {
   "cell_type": "code",
   "execution_count": 39,
   "id": "437f53b3",
   "metadata": {},
   "outputs": [
    {
     "name": "stdout",
     "output_type": "stream",
     "text": [
      "Electronic check             2365\n",
      "Mailed check                 1612\n",
      "Bank transfer (automatic)    1544\n",
      "Credit card (automatic)      1522\n",
      "Name: PaymentMethod, dtype: int64\n"
     ]
    },
    {
     "data": {
      "image/png": "[encoded data removed]",
      "text/plain": [
       "<Figure size 432x288 with 1 Axes>"
      ]
     },
     "metadata": {
      "needs_background": "light"
     },
     "output_type": "display_data"
    }
   ],
   "source": [
    "ax=sns.countplot(x='PaymentMethod',data=df_nominal)\n",
    "print(df_nominal['PaymentMethod'].value_counts())"
   ]
  },
  {
   "cell_type": "markdown",
   "id": "607fdb27",
   "metadata": {},
   "source": [
    "From the above observations total number of customer using electronic check payment method is 2365, mailed check payment method is 1612, bank transfer payment method is 1544 and credit card payment method is 1522.\n",
    "\n"
   ]
  },
  {
   "cell_type": "code",
   "execution_count": null,
   "id": "0b6428ef",
   "metadata": {},
   "outputs": [],
   "source": []
  },
  {
   "cell_type": "code",
   "execution_count": 40,
   "id": "a6a7d6b0",
   "metadata": {},
   "outputs": [
    {
     "name": "stdout",
     "output_type": "stream",
     "text": [
      "No     5174\n",
      "Yes    1869\n",
      "Name: Churn, dtype: int64\n"
     ]
    },
    {
     "data": {
      "image/png": "[encoded data removed]",
      "text/plain": [
       "<Figure size 432x288 with 1 Axes>"
      ]
     },
     "metadata": {
      "needs_background": "light"
     },
     "output_type": "display_data"
    }
   ],
   "source": [
    "ax=sns.countplot(x='Churn',data=df_nominal)\n",
    "print(df_nominal['Churn'].value_counts())"
   ]
  },
  {
   "cell_type": "markdown",
   "id": "c4873b47",
   "metadata": {},
   "source": [
    "From the above observations total number of customer have not have chances to leaving is 5174 and the chances of leaving customer is 1869."
   ]
  },
  {
   "cell_type": "code",
   "execution_count": null,
   "id": "a5a3f8c5",
   "metadata": {},
   "outputs": [],
   "source": []
  },
  {
   "cell_type": "markdown",
   "id": "52085bc3",
   "metadata": {},
   "source": [
    "# MAKING DATAFRAME OF THE ORDINAL DATA"
   ]
  },
  {
   "cell_type": "code",
   "execution_count": 41,
   "id": "735f044b",
   "metadata": {},
   "outputs": [],
   "source": [
    "df_visualization_ordinal=df[['customerID','tenure']].copy"
   ]
  },
  {
   "cell_type": "code",
   "execution_count": 42,
   "id": "cf64080d",
   "metadata": {},
   "outputs": [
    {
     "data": {
      "text/plain": [
       "<seaborn.axisgrid.FacetGrid at 0x23fcb6e6b50>"
      ]
     },
     "execution_count": 42,
     "metadata": {},
     "output_type": "execute_result"
    },
    {
     "data": {
      "image/png": "[encoded data removed]",
      "text/plain": [
       "<Figure size 360x360 with 1 Axes>"
      ]
     },
     "metadata": {
      "needs_background": "light"
     },
     "output_type": "display_data"
    }
   ],
   "source": [
    "sns.catplot(x='SeniorCitizen',y='tenure',data=df)"
   ]
  },
  {
   "cell_type": "markdown",
   "id": "36ba7aa5",
   "metadata": {},
   "source": [
    "distribution of data is approx similar. both the younguster and senior citizen has not much diffrence according to the tenure.\n",
    "\n"
   ]
  },
  {
   "cell_type": "code",
   "execution_count": null,
   "id": "2a7549f5",
   "metadata": {},
   "outputs": [],
   "source": []
  },
  {
   "cell_type": "markdown",
   "id": "efd111b4",
   "metadata": {},
   "source": [
    "# CHECKING THE DISTRIBUTION OF THE FLOAT TYPE COLUMNS"
   ]
  },
  {
   "cell_type": "code",
   "execution_count": 43,
   "id": "87685ab8",
   "metadata": {},
   "outputs": [],
   "source": [
    "df_continuous=df[['MonthlyCharges','TotalCharges']].copy()"
   ]
  },
  {
   "cell_type": "code",
   "execution_count": 44,
   "id": "86c08acd",
   "metadata": {},
   "outputs": [
    {
     "data": {
      "text/plain": [
       "<AxesSubplot:xlabel='TotalCharges', ylabel='Density'>"
      ]
     },
     "execution_count": 44,
     "metadata": {},
     "output_type": "execute_result"
    },
    {
     "data": {
      "image/png": "[encoded data removed]",
      "text/plain": [
       "<Figure size 432x288 with 1 Axes>"
      ]
     },
     "metadata": {
      "needs_background": "light"
     },
     "output_type": "display_data"
    }
   ],
   "source": [
    "sns.distplot(df_continuous['TotalCharges'],kde=True)"
   ]
  },
  {
   "cell_type": "markdown",
   "id": "c4a151cf",
   "metadata": {},
   "source": [
    "The total charges starts from 0 to approx 9000."
   ]
  },
  {
   "cell_type": "code",
   "execution_count": null,
   "id": "8e91811a",
   "metadata": {},
   "outputs": [],
   "source": []
  },
  {
   "cell_type": "code",
   "execution_count": 45,
   "id": "677af4ae",
   "metadata": {},
   "outputs": [
    {
     "data": {
      "text/plain": [
       "<AxesSubplot:xlabel='MonthlyCharges', ylabel='Density'>"
      ]
     },
     "execution_count": 45,
     "metadata": {},
     "output_type": "execute_result"
    },
    {
     "data": {
      "image/png": "[encoded data removed]",
      "text/plain": [
       "<Figure size 432x288 with 1 Axes>"
      ]
     },
     "metadata": {
      "needs_background": "light"
     },
     "output_type": "display_data"
    }
   ],
   "source": [
    "sns.distplot(df_continuous['MonthlyCharges'],kde=True)"
   ]
  },
  {
   "cell_type": "markdown",
   "id": "10e38f61",
   "metadata": {},
   "source": [
    "Monthly charges ranges from 19 to approx 125 ."
   ]
  },
  {
   "cell_type": "code",
   "execution_count": null,
   "id": "58b08b95",
   "metadata": {},
   "outputs": [],
   "source": []
  },
  {
   "cell_type": "markdown",
   "id": "a88f6d19",
   "metadata": {},
   "source": [
    "# ENCODING THE DATAFRAME TO CONVERT STRING COLUMNS TO NUMERIC COLUMNS"
   ]
  },
  {
   "cell_type": "code",
   "execution_count": 17,
   "id": "4d7ca135",
   "metadata": {},
   "outputs": [],
   "source": [
    "from sklearn.preprocessing import OrdinalEncoder"
   ]
  },
  {
   "cell_type": "code",
   "execution_count": 18,
   "id": "f89fa376",
   "metadata": {},
   "outputs": [],
   "source": [
    "enc =OrdinalEncoder()\n",
    "\n",
    "for i in df.columns:\n",
    "    if df[i].dtypes=='object':\n",
    "        df[i]=enc.fit_transform(df[i].values.reshape(-1,1))"
   ]
  },
  {
   "cell_type": "code",
   "execution_count": 19,
   "id": "51a58629",
   "metadata": {},
   "outputs": [
    {
     "data": {
      "text/html": [
       "<div>\n",
       "<style scoped>\n",
       "    .dataframe tbody tr th:only-of-type {\n",
       "        vertical-align: middle;\n",
       "    }\n",
       "\n",
       "    .dataframe tbody tr th {\n",
       "        vertical-align: top;\n",
       "    }\n",
       "\n",
       "    .dataframe thead th {\n",
       "        text-align: right;\n",
       "    }\n",
       "</style>\n",
       "<table border=\"1\" class=\"dataframe\">\n",
       "  <thead>\n",
       "    <tr style=\"text-align: right;\">\n",
       "      <th></th>\n",
       "      <th>customerID</th>\n",
       "      <th>gender</th>\n",
       "      <th>SeniorCitizen</th>\n",
       "      <th>Partner</th>\n",
       "      <th>Dependents</th>\n",
       "      <th>tenure</th>\n",
       "      <th>PhoneService</th>\n",
       "      <th>MultipleLines</th>\n",
       "      <th>InternetService</th>\n",
       "      <th>OnlineSecurity</th>\n",
       "      <th>...</th>\n",
       "      <th>DeviceProtection</th>\n",
       "      <th>TechSupport</th>\n",
       "      <th>StreamingTV</th>\n",
       "      <th>StreamingMovies</th>\n",
       "      <th>Contract</th>\n",
       "      <th>PaperlessBilling</th>\n",
       "      <th>PaymentMethod</th>\n",
       "      <th>MonthlyCharges</th>\n",
       "      <th>TotalCharges</th>\n",
       "      <th>Churn</th>\n",
       "    </tr>\n",
       "  </thead>\n",
       "  <tbody>\n",
       "    <tr>\n",
       "      <th>0</th>\n",
       "      <td>5375.0</td>\n",
       "      <td>0.0</td>\n",
       "      <td>0</td>\n",
       "      <td>1.0</td>\n",
       "      <td>0.0</td>\n",
       "      <td>1</td>\n",
       "      <td>0.0</td>\n",
       "      <td>1.0</td>\n",
       "      <td>0.0</td>\n",
       "      <td>0.0</td>\n",
       "      <td>...</td>\n",
       "      <td>0.0</td>\n",
       "      <td>0.0</td>\n",
       "      <td>0.0</td>\n",
       "      <td>0.0</td>\n",
       "      <td>0.0</td>\n",
       "      <td>1.0</td>\n",
       "      <td>2.0</td>\n",
       "      <td>29.85</td>\n",
       "      <td>29.85</td>\n",
       "      <td>0.0</td>\n",
       "    </tr>\n",
       "    <tr>\n",
       "      <th>1</th>\n",
       "      <td>3962.0</td>\n",
       "      <td>1.0</td>\n",
       "      <td>0</td>\n",
       "      <td>0.0</td>\n",
       "      <td>0.0</td>\n",
       "      <td>34</td>\n",
       "      <td>1.0</td>\n",
       "      <td>0.0</td>\n",
       "      <td>0.0</td>\n",
       "      <td>2.0</td>\n",
       "      <td>...</td>\n",
       "      <td>2.0</td>\n",
       "      <td>0.0</td>\n",
       "      <td>0.0</td>\n",
       "      <td>0.0</td>\n",
       "      <td>1.0</td>\n",
       "      <td>0.0</td>\n",
       "      <td>3.0</td>\n",
       "      <td>56.95</td>\n",
       "      <td>1889.50</td>\n",
       "      <td>0.0</td>\n",
       "    </tr>\n",
       "    <tr>\n",
       "      <th>2</th>\n",
       "      <td>2564.0</td>\n",
       "      <td>1.0</td>\n",
       "      <td>0</td>\n",
       "      <td>0.0</td>\n",
       "      <td>0.0</td>\n",
       "      <td>2</td>\n",
       "      <td>1.0</td>\n",
       "      <td>0.0</td>\n",
       "      <td>0.0</td>\n",
       "      <td>2.0</td>\n",
       "      <td>...</td>\n",
       "      <td>0.0</td>\n",
       "      <td>0.0</td>\n",
       "      <td>0.0</td>\n",
       "      <td>0.0</td>\n",
       "      <td>0.0</td>\n",
       "      <td>1.0</td>\n",
       "      <td>3.0</td>\n",
       "      <td>53.85</td>\n",
       "      <td>108.15</td>\n",
       "      <td>1.0</td>\n",
       "    </tr>\n",
       "    <tr>\n",
       "      <th>3</th>\n",
       "      <td>5535.0</td>\n",
       "      <td>1.0</td>\n",
       "      <td>0</td>\n",
       "      <td>0.0</td>\n",
       "      <td>0.0</td>\n",
       "      <td>45</td>\n",
       "      <td>0.0</td>\n",
       "      <td>1.0</td>\n",
       "      <td>0.0</td>\n",
       "      <td>2.0</td>\n",
       "      <td>...</td>\n",
       "      <td>2.0</td>\n",
       "      <td>2.0</td>\n",
       "      <td>0.0</td>\n",
       "      <td>0.0</td>\n",
       "      <td>1.0</td>\n",
       "      <td>0.0</td>\n",
       "      <td>0.0</td>\n",
       "      <td>42.30</td>\n",
       "      <td>1840.75</td>\n",
       "      <td>0.0</td>\n",
       "    </tr>\n",
       "    <tr>\n",
       "      <th>4</th>\n",
       "      <td>6511.0</td>\n",
       "      <td>0.0</td>\n",
       "      <td>0</td>\n",
       "      <td>0.0</td>\n",
       "      <td>0.0</td>\n",
       "      <td>2</td>\n",
       "      <td>1.0</td>\n",
       "      <td>0.0</td>\n",
       "      <td>1.0</td>\n",
       "      <td>0.0</td>\n",
       "      <td>...</td>\n",
       "      <td>0.0</td>\n",
       "      <td>0.0</td>\n",
       "      <td>0.0</td>\n",
       "      <td>0.0</td>\n",
       "      <td>0.0</td>\n",
       "      <td>1.0</td>\n",
       "      <td>2.0</td>\n",
       "      <td>70.70</td>\n",
       "      <td>151.65</td>\n",
       "      <td>1.0</td>\n",
       "    </tr>\n",
       "    <tr>\n",
       "      <th>...</th>\n",
       "      <td>...</td>\n",
       "      <td>...</td>\n",
       "      <td>...</td>\n",
       "      <td>...</td>\n",
       "      <td>...</td>\n",
       "      <td>...</td>\n",
       "      <td>...</td>\n",
       "      <td>...</td>\n",
       "      <td>...</td>\n",
       "      <td>...</td>\n",
       "      <td>...</td>\n",
       "      <td>...</td>\n",
       "      <td>...</td>\n",
       "      <td>...</td>\n",
       "      <td>...</td>\n",
       "      <td>...</td>\n",
       "      <td>...</td>\n",
       "      <td>...</td>\n",
       "      <td>...</td>\n",
       "      <td>...</td>\n",
       "      <td>...</td>\n",
       "    </tr>\n",
       "    <tr>\n",
       "      <th>7038</th>\n",
       "      <td>4853.0</td>\n",
       "      <td>1.0</td>\n",
       "      <td>0</td>\n",
       "      <td>1.0</td>\n",
       "      <td>1.0</td>\n",
       "      <td>24</td>\n",
       "      <td>1.0</td>\n",
       "      <td>2.0</td>\n",
       "      <td>0.0</td>\n",
       "      <td>2.0</td>\n",
       "      <td>...</td>\n",
       "      <td>2.0</td>\n",
       "      <td>2.0</td>\n",
       "      <td>2.0</td>\n",
       "      <td>2.0</td>\n",
       "      <td>1.0</td>\n",
       "      <td>1.0</td>\n",
       "      <td>3.0</td>\n",
       "      <td>84.80</td>\n",
       "      <td>1990.50</td>\n",
       "      <td>0.0</td>\n",
       "    </tr>\n",
       "    <tr>\n",
       "      <th>7039</th>\n",
       "      <td>1525.0</td>\n",
       "      <td>0.0</td>\n",
       "      <td>0</td>\n",
       "      <td>1.0</td>\n",
       "      <td>1.0</td>\n",
       "      <td>72</td>\n",
       "      <td>1.0</td>\n",
       "      <td>2.0</td>\n",
       "      <td>1.0</td>\n",
       "      <td>0.0</td>\n",
       "      <td>...</td>\n",
       "      <td>2.0</td>\n",
       "      <td>0.0</td>\n",
       "      <td>2.0</td>\n",
       "      <td>2.0</td>\n",
       "      <td>1.0</td>\n",
       "      <td>1.0</td>\n",
       "      <td>1.0</td>\n",
       "      <td>103.20</td>\n",
       "      <td>7362.90</td>\n",
       "      <td>0.0</td>\n",
       "    </tr>\n",
       "    <tr>\n",
       "      <th>7040</th>\n",
       "      <td>3367.0</td>\n",
       "      <td>0.0</td>\n",
       "      <td>0</td>\n",
       "      <td>1.0</td>\n",
       "      <td>1.0</td>\n",
       "      <td>11</td>\n",
       "      <td>0.0</td>\n",
       "      <td>1.0</td>\n",
       "      <td>0.0</td>\n",
       "      <td>2.0</td>\n",
       "      <td>...</td>\n",
       "      <td>0.0</td>\n",
       "      <td>0.0</td>\n",
       "      <td>0.0</td>\n",
       "      <td>0.0</td>\n",
       "      <td>0.0</td>\n",
       "      <td>1.0</td>\n",
       "      <td>2.0</td>\n",
       "      <td>29.60</td>\n",
       "      <td>346.45</td>\n",
       "      <td>0.0</td>\n",
       "    </tr>\n",
       "    <tr>\n",
       "      <th>7041</th>\n",
       "      <td>5934.0</td>\n",
       "      <td>1.0</td>\n",
       "      <td>1</td>\n",
       "      <td>1.0</td>\n",
       "      <td>0.0</td>\n",
       "      <td>4</td>\n",
       "      <td>1.0</td>\n",
       "      <td>2.0</td>\n",
       "      <td>1.0</td>\n",
       "      <td>0.0</td>\n",
       "      <td>...</td>\n",
       "      <td>0.0</td>\n",
       "      <td>0.0</td>\n",
       "      <td>0.0</td>\n",
       "      <td>0.0</td>\n",
       "      <td>0.0</td>\n",
       "      <td>1.0</td>\n",
       "      <td>3.0</td>\n",
       "      <td>74.40</td>\n",
       "      <td>306.60</td>\n",
       "      <td>1.0</td>\n",
       "    </tr>\n",
       "    <tr>\n",
       "      <th>7042</th>\n",
       "      <td>2226.0</td>\n",
       "      <td>1.0</td>\n",
       "      <td>0</td>\n",
       "      <td>0.0</td>\n",
       "      <td>0.0</td>\n",
       "      <td>66</td>\n",
       "      <td>1.0</td>\n",
       "      <td>0.0</td>\n",
       "      <td>1.0</td>\n",
       "      <td>2.0</td>\n",
       "      <td>...</td>\n",
       "      <td>2.0</td>\n",
       "      <td>2.0</td>\n",
       "      <td>2.0</td>\n",
       "      <td>2.0</td>\n",
       "      <td>2.0</td>\n",
       "      <td>1.0</td>\n",
       "      <td>0.0</td>\n",
       "      <td>105.65</td>\n",
       "      <td>6844.50</td>\n",
       "      <td>0.0</td>\n",
       "    </tr>\n",
       "  </tbody>\n",
       "</table>\n",
       "<p>7043 rows × 21 columns</p>\n",
       "</div>"
      ],
      "text/plain": [
       "      customerID  gender  SeniorCitizen  Partner  Dependents  tenure  \\\n",
       "0         5375.0     0.0              0      1.0         0.0       1   \n",
       "1         3962.0     1.0              0      0.0         0.0      34   \n",
       "2         2564.0     1.0              0      0.0         0.0       2   \n",
       "3         5535.0     1.0              0      0.0         0.0      45   \n",
       "4         6511.0     0.0              0      0.0         0.0       2   \n",
       "...          ...     ...            ...      ...         ...     ...   \n",
       "7038      4853.0     1.0              0      1.0         1.0      24   \n",
       "7039      1525.0     0.0              0      1.0         1.0      72   \n",
       "7040      3367.0     0.0              0      1.0         1.0      11   \n",
       "7041      5934.0     1.0              1      1.0         0.0       4   \n",
       "7042      2226.0     1.0              0      0.0         0.0      66   \n",
       "\n",
       "      PhoneService  MultipleLines  InternetService  OnlineSecurity  ...  \\\n",
       "0              0.0            1.0              0.0             0.0  ...   \n",
       "1              1.0            0.0              0.0             2.0  ...   \n",
       "2              1.0            0.0              0.0             2.0  ...   \n",
       "3              0.0            1.0              0.0             2.0  ...   \n",
       "4              1.0            0.0              1.0             0.0  ...   \n",
       "...            ...            ...              ...             ...  ...   \n",
       "7038           1.0            2.0              0.0             2.0  ...   \n",
       "7039           1.0            2.0              1.0             0.0  ...   \n",
       "7040           0.0            1.0              0.0             2.0  ...   \n",
       "7041           1.0            2.0              1.0             0.0  ...   \n",
       "7042           1.0            0.0              1.0             2.0  ...   \n",
       "\n",
       "      DeviceProtection  TechSupport  StreamingTV  StreamingMovies  Contract  \\\n",
       "0                  0.0          0.0          0.0              0.0       0.0   \n",
       "1                  2.0          0.0          0.0              0.0       1.0   \n",
       "2                  0.0          0.0          0.0              0.0       0.0   \n",
       "3                  2.0          2.0          0.0              0.0       1.0   \n",
       "4                  0.0          0.0          0.0              0.0       0.0   \n",
       "...                ...          ...          ...              ...       ...   \n",
       "7038               2.0          2.0          2.0              2.0       1.0   \n",
       "7039               2.0          0.0          2.0              2.0       1.0   \n",
       "7040               0.0          0.0          0.0              0.0       0.0   \n",
       "7041               0.0          0.0          0.0              0.0       0.0   \n",
       "7042               2.0          2.0          2.0              2.0       2.0   \n",
       "\n",
       "      PaperlessBilling  PaymentMethod  MonthlyCharges  TotalCharges  Churn  \n",
       "0                  1.0            2.0           29.85         29.85    0.0  \n",
       "1                  0.0            3.0           56.95       1889.50    0.0  \n",
       "2                  1.0            3.0           53.85        108.15    1.0  \n",
       "3                  0.0            0.0           42.30       1840.75    0.0  \n",
       "4                  1.0            2.0           70.70        151.65    1.0  \n",
       "...                ...            ...             ...           ...    ...  \n",
       "7038               1.0            3.0           84.80       1990.50    0.0  \n",
       "7039               1.0            1.0          103.20       7362.90    0.0  \n",
       "7040               1.0            2.0           29.60        346.45    0.0  \n",
       "7041               1.0            3.0           74.40        306.60    1.0  \n",
       "7042               1.0            0.0          105.65       6844.50    0.0  \n",
       "\n",
       "[7043 rows x 21 columns]"
      ]
     },
     "execution_count": 19,
     "metadata": {},
     "output_type": "execute_result"
    }
   ],
   "source": [
    "df"
   ]
  },
  {
   "cell_type": "markdown",
   "id": "4fd6da3d",
   "metadata": {},
   "source": [
    "string columns has been converted into numeric column."
   ]
  },
  {
   "cell_type": "code",
   "execution_count": null,
   "id": "55a86302",
   "metadata": {},
   "outputs": [],
   "source": []
  },
  {
   "cell_type": "markdown",
   "id": "e71958f6",
   "metadata": {},
   "source": [
    "# STATISTICAL SUMMARY"
   ]
  },
  {
   "cell_type": "code",
   "execution_count": 20,
   "id": "8cab5961",
   "metadata": {},
   "outputs": [
    {
     "data": {
      "text/html": [
       "<div>\n",
       "<style scoped>\n",
       "    .dataframe tbody tr th:only-of-type {\n",
       "        vertical-align: middle;\n",
       "    }\n",
       "\n",
       "    .dataframe tbody tr th {\n",
       "        vertical-align: top;\n",
       "    }\n",
       "\n",
       "    .dataframe thead th {\n",
       "        text-align: right;\n",
       "    }\n",
       "</style>\n",
       "<table border=\"1\" class=\"dataframe\">\n",
       "  <thead>\n",
       "    <tr style=\"text-align: right;\">\n",
       "      <th></th>\n",
       "      <th>customerID</th>\n",
       "      <th>gender</th>\n",
       "      <th>SeniorCitizen</th>\n",
       "      <th>Partner</th>\n",
       "      <th>Dependents</th>\n",
       "      <th>tenure</th>\n",
       "      <th>PhoneService</th>\n",
       "      <th>MultipleLines</th>\n",
       "      <th>InternetService</th>\n",
       "      <th>OnlineSecurity</th>\n",
       "      <th>...</th>\n",
       "      <th>DeviceProtection</th>\n",
       "      <th>TechSupport</th>\n",
       "      <th>StreamingTV</th>\n",
       "      <th>StreamingMovies</th>\n",
       "      <th>Contract</th>\n",
       "      <th>PaperlessBilling</th>\n",
       "      <th>PaymentMethod</th>\n",
       "      <th>MonthlyCharges</th>\n",
       "      <th>TotalCharges</th>\n",
       "      <th>Churn</th>\n",
       "    </tr>\n",
       "  </thead>\n",
       "  <tbody>\n",
       "    <tr>\n",
       "      <th>count</th>\n",
       "      <td>7043.000000</td>\n",
       "      <td>7043.000000</td>\n",
       "      <td>7043.000000</td>\n",
       "      <td>7043.000000</td>\n",
       "      <td>7043.000000</td>\n",
       "      <td>7043.000000</td>\n",
       "      <td>7043.000000</td>\n",
       "      <td>7043.000000</td>\n",
       "      <td>7043.000000</td>\n",
       "      <td>7043.000000</td>\n",
       "      <td>...</td>\n",
       "      <td>7043.000000</td>\n",
       "      <td>7043.000000</td>\n",
       "      <td>7043.000000</td>\n",
       "      <td>7043.000000</td>\n",
       "      <td>7043.000000</td>\n",
       "      <td>7043.000000</td>\n",
       "      <td>7043.000000</td>\n",
       "      <td>7043.000000</td>\n",
       "      <td>7043.000000</td>\n",
       "      <td>7043.000000</td>\n",
       "    </tr>\n",
       "    <tr>\n",
       "      <th>mean</th>\n",
       "      <td>3521.000000</td>\n",
       "      <td>0.504756</td>\n",
       "      <td>0.162147</td>\n",
       "      <td>0.483033</td>\n",
       "      <td>0.299588</td>\n",
       "      <td>32.371149</td>\n",
       "      <td>0.903166</td>\n",
       "      <td>0.940508</td>\n",
       "      <td>0.872923</td>\n",
       "      <td>0.790004</td>\n",
       "      <td>...</td>\n",
       "      <td>0.904444</td>\n",
       "      <td>0.797104</td>\n",
       "      <td>0.985376</td>\n",
       "      <td>0.992475</td>\n",
       "      <td>0.690473</td>\n",
       "      <td>0.592219</td>\n",
       "      <td>1.574329</td>\n",
       "      <td>64.761692</td>\n",
       "      <td>2283.300441</td>\n",
       "      <td>0.265370</td>\n",
       "    </tr>\n",
       "    <tr>\n",
       "      <th>std</th>\n",
       "      <td>2033.283305</td>\n",
       "      <td>0.500013</td>\n",
       "      <td>0.368612</td>\n",
       "      <td>0.499748</td>\n",
       "      <td>0.458110</td>\n",
       "      <td>24.559481</td>\n",
       "      <td>0.295752</td>\n",
       "      <td>0.948554</td>\n",
       "      <td>0.737796</td>\n",
       "      <td>0.859848</td>\n",
       "      <td>...</td>\n",
       "      <td>0.879949</td>\n",
       "      <td>0.861551</td>\n",
       "      <td>0.885002</td>\n",
       "      <td>0.885091</td>\n",
       "      <td>0.833755</td>\n",
       "      <td>0.491457</td>\n",
       "      <td>1.068104</td>\n",
       "      <td>30.090047</td>\n",
       "      <td>2265.000258</td>\n",
       "      <td>0.441561</td>\n",
       "    </tr>\n",
       "    <tr>\n",
       "      <th>min</th>\n",
       "      <td>0.000000</td>\n",
       "      <td>0.000000</td>\n",
       "      <td>0.000000</td>\n",
       "      <td>0.000000</td>\n",
       "      <td>0.000000</td>\n",
       "      <td>0.000000</td>\n",
       "      <td>0.000000</td>\n",
       "      <td>0.000000</td>\n",
       "      <td>0.000000</td>\n",
       "      <td>0.000000</td>\n",
       "      <td>...</td>\n",
       "      <td>0.000000</td>\n",
       "      <td>0.000000</td>\n",
       "      <td>0.000000</td>\n",
       "      <td>0.000000</td>\n",
       "      <td>0.000000</td>\n",
       "      <td>0.000000</td>\n",
       "      <td>0.000000</td>\n",
       "      <td>18.250000</td>\n",
       "      <td>18.800000</td>\n",
       "      <td>0.000000</td>\n",
       "    </tr>\n",
       "    <tr>\n",
       "      <th>25%</th>\n",
       "      <td>1760.500000</td>\n",
       "      <td>0.000000</td>\n",
       "      <td>0.000000</td>\n",
       "      <td>0.000000</td>\n",
       "      <td>0.000000</td>\n",
       "      <td>9.000000</td>\n",
       "      <td>1.000000</td>\n",
       "      <td>0.000000</td>\n",
       "      <td>0.000000</td>\n",
       "      <td>0.000000</td>\n",
       "      <td>...</td>\n",
       "      <td>0.000000</td>\n",
       "      <td>0.000000</td>\n",
       "      <td>0.000000</td>\n",
       "      <td>0.000000</td>\n",
       "      <td>0.000000</td>\n",
       "      <td>0.000000</td>\n",
       "      <td>1.000000</td>\n",
       "      <td>35.500000</td>\n",
       "      <td>402.225000</td>\n",
       "      <td>0.000000</td>\n",
       "    </tr>\n",
       "    <tr>\n",
       "      <th>50%</th>\n",
       "      <td>3521.000000</td>\n",
       "      <td>1.000000</td>\n",
       "      <td>0.000000</td>\n",
       "      <td>0.000000</td>\n",
       "      <td>0.000000</td>\n",
       "      <td>29.000000</td>\n",
       "      <td>1.000000</td>\n",
       "      <td>1.000000</td>\n",
       "      <td>1.000000</td>\n",
       "      <td>1.000000</td>\n",
       "      <td>...</td>\n",
       "      <td>1.000000</td>\n",
       "      <td>1.000000</td>\n",
       "      <td>1.000000</td>\n",
       "      <td>1.000000</td>\n",
       "      <td>0.000000</td>\n",
       "      <td>1.000000</td>\n",
       "      <td>2.000000</td>\n",
       "      <td>70.350000</td>\n",
       "      <td>1400.550000</td>\n",
       "      <td>0.000000</td>\n",
       "    </tr>\n",
       "    <tr>\n",
       "      <th>75%</th>\n",
       "      <td>5281.500000</td>\n",
       "      <td>1.000000</td>\n",
       "      <td>0.000000</td>\n",
       "      <td>1.000000</td>\n",
       "      <td>1.000000</td>\n",
       "      <td>55.000000</td>\n",
       "      <td>1.000000</td>\n",
       "      <td>2.000000</td>\n",
       "      <td>1.000000</td>\n",
       "      <td>2.000000</td>\n",
       "      <td>...</td>\n",
       "      <td>2.000000</td>\n",
       "      <td>2.000000</td>\n",
       "      <td>2.000000</td>\n",
       "      <td>2.000000</td>\n",
       "      <td>1.000000</td>\n",
       "      <td>1.000000</td>\n",
       "      <td>2.000000</td>\n",
       "      <td>89.850000</td>\n",
       "      <td>3786.600000</td>\n",
       "      <td>1.000000</td>\n",
       "    </tr>\n",
       "    <tr>\n",
       "      <th>max</th>\n",
       "      <td>7042.000000</td>\n",
       "      <td>1.000000</td>\n",
       "      <td>1.000000</td>\n",
       "      <td>1.000000</td>\n",
       "      <td>1.000000</td>\n",
       "      <td>72.000000</td>\n",
       "      <td>1.000000</td>\n",
       "      <td>2.000000</td>\n",
       "      <td>2.000000</td>\n",
       "      <td>2.000000</td>\n",
       "      <td>...</td>\n",
       "      <td>2.000000</td>\n",
       "      <td>2.000000</td>\n",
       "      <td>2.000000</td>\n",
       "      <td>2.000000</td>\n",
       "      <td>2.000000</td>\n",
       "      <td>1.000000</td>\n",
       "      <td>3.000000</td>\n",
       "      <td>118.750000</td>\n",
       "      <td>8684.800000</td>\n",
       "      <td>1.000000</td>\n",
       "    </tr>\n",
       "  </tbody>\n",
       "</table>\n",
       "<p>8 rows × 21 columns</p>\n",
       "</div>"
      ],
      "text/plain": [
       "        customerID       gender  SeniorCitizen      Partner   Dependents  \\\n",
       "count  7043.000000  7043.000000    7043.000000  7043.000000  7043.000000   \n",
       "mean   3521.000000     0.504756       0.162147     0.483033     0.299588   \n",
       "std    2033.283305     0.500013       0.368612     0.499748     0.458110   \n",
       "min       0.000000     0.000000       0.000000     0.000000     0.000000   \n",
       "25%    1760.500000     0.000000       0.000000     0.000000     0.000000   \n",
       "50%    3521.000000     1.000000       0.000000     0.000000     0.000000   \n",
       "75%    5281.500000     1.000000       0.000000     1.000000     1.000000   \n",
       "max    7042.000000     1.000000       1.000000     1.000000     1.000000   \n",
       "\n",
       "            tenure  PhoneService  MultipleLines  InternetService  \\\n",
       "count  7043.000000   7043.000000    7043.000000      7043.000000   \n",
       "mean     32.371149      0.903166       0.940508         0.872923   \n",
       "std      24.559481      0.295752       0.948554         0.737796   \n",
       "min       0.000000      0.000000       0.000000         0.000000   \n",
       "25%       9.000000      1.000000       0.000000         0.000000   \n",
       "50%      29.000000      1.000000       1.000000         1.000000   \n",
       "75%      55.000000      1.000000       2.000000         1.000000   \n",
       "max      72.000000      1.000000       2.000000         2.000000   \n",
       "\n",
       "       OnlineSecurity  ...  DeviceProtection  TechSupport  StreamingTV  \\\n",
       "count     7043.000000  ...       7043.000000  7043.000000  7043.000000   \n",
       "mean         0.790004  ...          0.904444     0.797104     0.985376   \n",
       "std          0.859848  ...          0.879949     0.861551     0.885002   \n",
       "min          0.000000  ...          0.000000     0.000000     0.000000   \n",
       "25%          0.000000  ...          0.000000     0.000000     0.000000   \n",
       "50%          1.000000  ...          1.000000     1.000000     1.000000   \n",
       "75%          2.000000  ...          2.000000     2.000000     2.000000   \n",
       "max          2.000000  ...          2.000000     2.000000     2.000000   \n",
       "\n",
       "       StreamingMovies     Contract  PaperlessBilling  PaymentMethod  \\\n",
       "count      7043.000000  7043.000000       7043.000000    7043.000000   \n",
       "mean          0.992475     0.690473          0.592219       1.574329   \n",
       "std           0.885091     0.833755          0.491457       1.068104   \n",
       "min           0.000000     0.000000          0.000000       0.000000   \n",
       "25%           0.000000     0.000000          0.000000       1.000000   \n",
       "50%           1.000000     0.000000          1.000000       2.000000   \n",
       "75%           2.000000     1.000000          1.000000       2.000000   \n",
       "max           2.000000     2.000000          1.000000       3.000000   \n",
       "\n",
       "       MonthlyCharges  TotalCharges        Churn  \n",
       "count     7043.000000   7043.000000  7043.000000  \n",
       "mean        64.761692   2283.300441     0.265370  \n",
       "std         30.090047   2265.000258     0.441561  \n",
       "min         18.250000     18.800000     0.000000  \n",
       "25%         35.500000    402.225000     0.000000  \n",
       "50%         70.350000   1400.550000     0.000000  \n",
       "75%         89.850000   3786.600000     1.000000  \n",
       "max        118.750000   8684.800000     1.000000  \n",
       "\n",
       "[8 rows x 21 columns]"
      ]
     },
     "execution_count": 20,
     "metadata": {},
     "output_type": "execute_result"
    }
   ],
   "source": [
    "df.describe()"
   ]
  },
  {
   "cell_type": "code",
   "execution_count": 21,
   "id": "f8428542",
   "metadata": {},
   "outputs": [
    {
     "data": {
      "text/plain": [
       "<AxesSubplot:>"
      ]
     },
     "execution_count": 21,
     "metadata": {},
     "output_type": "execute_result"
    },
    {
     "data": {
      "image/png": "[encoded data removed]",
      "text/plain": [
       "<Figure size 1584x504 with 2 Axes>"
      ]
     },
     "metadata": {
      "needs_background": "light"
     },
     "output_type": "display_data"
    }
   ],
   "source": [
    "import matplotlib.pyplot as plt\n",
    "plt.figure(figsize=(22,7))\n",
    "sns.heatmap(df.describe(),annot=True,linewidths =0.1,fmt='0.2f')"
   ]
  },
  {
   "cell_type": "markdown",
   "id": "9e98309b",
   "metadata": {},
   "source": [
    "in total charges column , there is some difference values than the normal."
   ]
  },
  {
   "cell_type": "markdown",
   "id": "a8980b31",
   "metadata": {},
   "source": [
    "# CORRELATION MATRIX"
   ]
  },
  {
   "cell_type": "code",
   "execution_count": 22,
   "id": "18ae4889",
   "metadata": {},
   "outputs": [
    {
     "data": {
      "text/html": [
       "<div>\n",
       "<style scoped>\n",
       "    .dataframe tbody tr th:only-of-type {\n",
       "        vertical-align: middle;\n",
       "    }\n",
       "\n",
       "    .dataframe tbody tr th {\n",
       "        vertical-align: top;\n",
       "    }\n",
       "\n",
       "    .dataframe thead th {\n",
       "        text-align: right;\n",
       "    }\n",
       "</style>\n",
       "<table border=\"1\" class=\"dataframe\">\n",
       "  <thead>\n",
       "    <tr style=\"text-align: right;\">\n",
       "      <th></th>\n",
       "      <th>customerID</th>\n",
       "      <th>gender</th>\n",
       "      <th>SeniorCitizen</th>\n",
       "      <th>Partner</th>\n",
       "      <th>Dependents</th>\n",
       "      <th>tenure</th>\n",
       "      <th>PhoneService</th>\n",
       "      <th>MultipleLines</th>\n",
       "      <th>InternetService</th>\n",
       "      <th>OnlineSecurity</th>\n",
       "      <th>...</th>\n",
       "      <th>DeviceProtection</th>\n",
       "      <th>TechSupport</th>\n",
       "      <th>StreamingTV</th>\n",
       "      <th>StreamingMovies</th>\n",
       "      <th>Contract</th>\n",
       "      <th>PaperlessBilling</th>\n",
       "      <th>PaymentMethod</th>\n",
       "      <th>MonthlyCharges</th>\n",
       "      <th>TotalCharges</th>\n",
       "      <th>Churn</th>\n",
       "    </tr>\n",
       "  </thead>\n",
       "  <tbody>\n",
       "    <tr>\n",
       "      <th>customerID</th>\n",
       "      <td>1.000000</td>\n",
       "      <td>0.006288</td>\n",
       "      <td>-0.002074</td>\n",
       "      <td>-0.026729</td>\n",
       "      <td>-0.012823</td>\n",
       "      <td>0.008035</td>\n",
       "      <td>-0.006483</td>\n",
       "      <td>0.004316</td>\n",
       "      <td>-0.012407</td>\n",
       "      <td>0.013292</td>\n",
       "      <td>...</td>\n",
       "      <td>-0.006918</td>\n",
       "      <td>0.001140</td>\n",
       "      <td>-0.007777</td>\n",
       "      <td>-0.016746</td>\n",
       "      <td>0.015028</td>\n",
       "      <td>-0.001945</td>\n",
       "      <td>0.011604</td>\n",
       "      <td>-0.003916</td>\n",
       "      <td>-0.000270</td>\n",
       "      <td>-0.017447</td>\n",
       "    </tr>\n",
       "    <tr>\n",
       "      <th>gender</th>\n",
       "      <td>0.006288</td>\n",
       "      <td>1.000000</td>\n",
       "      <td>-0.001874</td>\n",
       "      <td>-0.001808</td>\n",
       "      <td>0.010517</td>\n",
       "      <td>0.005106</td>\n",
       "      <td>-0.006488</td>\n",
       "      <td>-0.006739</td>\n",
       "      <td>-0.000863</td>\n",
       "      <td>-0.015017</td>\n",
       "      <td>...</td>\n",
       "      <td>0.000549</td>\n",
       "      <td>-0.006825</td>\n",
       "      <td>-0.006421</td>\n",
       "      <td>-0.008743</td>\n",
       "      <td>0.000126</td>\n",
       "      <td>-0.011754</td>\n",
       "      <td>0.017352</td>\n",
       "      <td>-0.014569</td>\n",
       "      <td>0.000048</td>\n",
       "      <td>-0.008612</td>\n",
       "    </tr>\n",
       "    <tr>\n",
       "      <th>SeniorCitizen</th>\n",
       "      <td>-0.002074</td>\n",
       "      <td>-0.001874</td>\n",
       "      <td>1.000000</td>\n",
       "      <td>0.016479</td>\n",
       "      <td>-0.211185</td>\n",
       "      <td>0.016567</td>\n",
       "      <td>0.008576</td>\n",
       "      <td>0.146185</td>\n",
       "      <td>-0.032310</td>\n",
       "      <td>-0.128221</td>\n",
       "      <td>...</td>\n",
       "      <td>-0.021398</td>\n",
       "      <td>-0.151268</td>\n",
       "      <td>0.030776</td>\n",
       "      <td>0.047266</td>\n",
       "      <td>-0.142554</td>\n",
       "      <td>0.156530</td>\n",
       "      <td>-0.038551</td>\n",
       "      <td>0.220173</td>\n",
       "      <td>0.102395</td>\n",
       "      <td>0.150889</td>\n",
       "    </tr>\n",
       "    <tr>\n",
       "      <th>Partner</th>\n",
       "      <td>-0.026729</td>\n",
       "      <td>-0.001808</td>\n",
       "      <td>0.016479</td>\n",
       "      <td>1.000000</td>\n",
       "      <td>0.452676</td>\n",
       "      <td>0.379697</td>\n",
       "      <td>0.017706</td>\n",
       "      <td>0.142410</td>\n",
       "      <td>0.000891</td>\n",
       "      <td>0.150828</td>\n",
       "      <td>...</td>\n",
       "      <td>0.166330</td>\n",
       "      <td>0.126733</td>\n",
       "      <td>0.137341</td>\n",
       "      <td>0.129574</td>\n",
       "      <td>0.294806</td>\n",
       "      <td>-0.014877</td>\n",
       "      <td>-0.154798</td>\n",
       "      <td>0.096848</td>\n",
       "      <td>0.318812</td>\n",
       "      <td>-0.150448</td>\n",
       "    </tr>\n",
       "    <tr>\n",
       "      <th>Dependents</th>\n",
       "      <td>-0.012823</td>\n",
       "      <td>0.010517</td>\n",
       "      <td>-0.211185</td>\n",
       "      <td>0.452676</td>\n",
       "      <td>1.000000</td>\n",
       "      <td>0.159712</td>\n",
       "      <td>-0.001762</td>\n",
       "      <td>-0.024991</td>\n",
       "      <td>0.044590</td>\n",
       "      <td>0.152166</td>\n",
       "      <td>...</td>\n",
       "      <td>0.080537</td>\n",
       "      <td>0.133524</td>\n",
       "      <td>0.046885</td>\n",
       "      <td>0.021321</td>\n",
       "      <td>0.243187</td>\n",
       "      <td>-0.111377</td>\n",
       "      <td>-0.040292</td>\n",
       "      <td>-0.113890</td>\n",
       "      <td>0.064535</td>\n",
       "      <td>-0.164221</td>\n",
       "    </tr>\n",
       "    <tr>\n",
       "      <th>tenure</th>\n",
       "      <td>0.008035</td>\n",
       "      <td>0.005106</td>\n",
       "      <td>0.016567</td>\n",
       "      <td>0.379697</td>\n",
       "      <td>0.159712</td>\n",
       "      <td>1.000000</td>\n",
       "      <td>0.008448</td>\n",
       "      <td>0.343032</td>\n",
       "      <td>-0.030359</td>\n",
       "      <td>0.325468</td>\n",
       "      <td>...</td>\n",
       "      <td>0.371105</td>\n",
       "      <td>0.322942</td>\n",
       "      <td>0.289373</td>\n",
       "      <td>0.296866</td>\n",
       "      <td>0.671607</td>\n",
       "      <td>0.006152</td>\n",
       "      <td>-0.370436</td>\n",
       "      <td>0.247900</td>\n",
       "      <td>0.824757</td>\n",
       "      <td>-0.352229</td>\n",
       "    </tr>\n",
       "    <tr>\n",
       "      <th>PhoneService</th>\n",
       "      <td>-0.006483</td>\n",
       "      <td>-0.006488</td>\n",
       "      <td>0.008576</td>\n",
       "      <td>0.017706</td>\n",
       "      <td>-0.001762</td>\n",
       "      <td>0.008448</td>\n",
       "      <td>1.000000</td>\n",
       "      <td>-0.020538</td>\n",
       "      <td>0.387436</td>\n",
       "      <td>-0.015198</td>\n",
       "      <td>...</td>\n",
       "      <td>0.003727</td>\n",
       "      <td>-0.019158</td>\n",
       "      <td>0.055353</td>\n",
       "      <td>0.043870</td>\n",
       "      <td>0.002247</td>\n",
       "      <td>0.016505</td>\n",
       "      <td>-0.004184</td>\n",
       "      <td>0.247398</td>\n",
       "      <td>0.112851</td>\n",
       "      <td>0.011942</td>\n",
       "    </tr>\n",
       "    <tr>\n",
       "      <th>MultipleLines</th>\n",
       "      <td>0.004316</td>\n",
       "      <td>-0.006739</td>\n",
       "      <td>0.146185</td>\n",
       "      <td>0.142410</td>\n",
       "      <td>-0.024991</td>\n",
       "      <td>0.343032</td>\n",
       "      <td>-0.020538</td>\n",
       "      <td>1.000000</td>\n",
       "      <td>-0.109216</td>\n",
       "      <td>0.007141</td>\n",
       "      <td>...</td>\n",
       "      <td>0.122318</td>\n",
       "      <td>0.011466</td>\n",
       "      <td>0.175059</td>\n",
       "      <td>0.180957</td>\n",
       "      <td>0.110842</td>\n",
       "      <td>0.165146</td>\n",
       "      <td>-0.176793</td>\n",
       "      <td>0.433576</td>\n",
       "      <td>0.452883</td>\n",
       "      <td>0.038037</td>\n",
       "    </tr>\n",
       "    <tr>\n",
       "      <th>InternetService</th>\n",
       "      <td>-0.012407</td>\n",
       "      <td>-0.000863</td>\n",
       "      <td>-0.032310</td>\n",
       "      <td>0.000891</td>\n",
       "      <td>0.044590</td>\n",
       "      <td>-0.030359</td>\n",
       "      <td>0.387436</td>\n",
       "      <td>-0.109216</td>\n",
       "      <td>1.000000</td>\n",
       "      <td>-0.028416</td>\n",
       "      <td>...</td>\n",
       "      <td>0.044944</td>\n",
       "      <td>-0.026047</td>\n",
       "      <td>0.107417</td>\n",
       "      <td>0.098350</td>\n",
       "      <td>0.099721</td>\n",
       "      <td>-0.138625</td>\n",
       "      <td>0.086140</td>\n",
       "      <td>-0.323260</td>\n",
       "      <td>-0.175429</td>\n",
       "      <td>-0.047291</td>\n",
       "    </tr>\n",
       "    <tr>\n",
       "      <th>OnlineSecurity</th>\n",
       "      <td>0.013292</td>\n",
       "      <td>-0.015017</td>\n",
       "      <td>-0.128221</td>\n",
       "      <td>0.150828</td>\n",
       "      <td>0.152166</td>\n",
       "      <td>0.325468</td>\n",
       "      <td>-0.015198</td>\n",
       "      <td>0.007141</td>\n",
       "      <td>-0.028416</td>\n",
       "      <td>1.000000</td>\n",
       "      <td>...</td>\n",
       "      <td>0.175985</td>\n",
       "      <td>0.285028</td>\n",
       "      <td>0.044669</td>\n",
       "      <td>0.055954</td>\n",
       "      <td>0.374416</td>\n",
       "      <td>-0.157641</td>\n",
       "      <td>-0.096726</td>\n",
       "      <td>-0.053878</td>\n",
       "      <td>0.254308</td>\n",
       "      <td>-0.289309</td>\n",
       "    </tr>\n",
       "    <tr>\n",
       "      <th>OnlineBackup</th>\n",
       "      <td>-0.003334</td>\n",
       "      <td>-0.012057</td>\n",
       "      <td>-0.013632</td>\n",
       "      <td>0.153130</td>\n",
       "      <td>0.091015</td>\n",
       "      <td>0.370876</td>\n",
       "      <td>0.024105</td>\n",
       "      <td>0.117327</td>\n",
       "      <td>0.036138</td>\n",
       "      <td>0.185126</td>\n",
       "      <td>...</td>\n",
       "      <td>0.187757</td>\n",
       "      <td>0.195748</td>\n",
       "      <td>0.147186</td>\n",
       "      <td>0.136722</td>\n",
       "      <td>0.280980</td>\n",
       "      <td>-0.013370</td>\n",
       "      <td>-0.124847</td>\n",
       "      <td>0.119777</td>\n",
       "      <td>0.375362</td>\n",
       "      <td>-0.195525</td>\n",
       "    </tr>\n",
       "    <tr>\n",
       "      <th>DeviceProtection</th>\n",
       "      <td>-0.006918</td>\n",
       "      <td>0.000549</td>\n",
       "      <td>-0.021398</td>\n",
       "      <td>0.166330</td>\n",
       "      <td>0.080537</td>\n",
       "      <td>0.371105</td>\n",
       "      <td>0.003727</td>\n",
       "      <td>0.122318</td>\n",
       "      <td>0.044944</td>\n",
       "      <td>0.175985</td>\n",
       "      <td>...</td>\n",
       "      <td>1.000000</td>\n",
       "      <td>0.240593</td>\n",
       "      <td>0.276652</td>\n",
       "      <td>0.288799</td>\n",
       "      <td>0.350277</td>\n",
       "      <td>-0.038234</td>\n",
       "      <td>-0.135750</td>\n",
       "      <td>0.163652</td>\n",
       "      <td>0.388864</td>\n",
       "      <td>-0.178134</td>\n",
       "    </tr>\n",
       "    <tr>\n",
       "      <th>TechSupport</th>\n",
       "      <td>0.001140</td>\n",
       "      <td>-0.006825</td>\n",
       "      <td>-0.151268</td>\n",
       "      <td>0.126733</td>\n",
       "      <td>0.133524</td>\n",
       "      <td>0.322942</td>\n",
       "      <td>-0.019158</td>\n",
       "      <td>0.011466</td>\n",
       "      <td>-0.026047</td>\n",
       "      <td>0.285028</td>\n",
       "      <td>...</td>\n",
       "      <td>0.240593</td>\n",
       "      <td>1.000000</td>\n",
       "      <td>0.161305</td>\n",
       "      <td>0.161316</td>\n",
       "      <td>0.425367</td>\n",
       "      <td>-0.113600</td>\n",
       "      <td>-0.104670</td>\n",
       "      <td>-0.008682</td>\n",
       "      <td>0.276713</td>\n",
       "      <td>-0.282492</td>\n",
       "    </tr>\n",
       "    <tr>\n",
       "      <th>StreamingTV</th>\n",
       "      <td>-0.007777</td>\n",
       "      <td>-0.006421</td>\n",
       "      <td>0.030776</td>\n",
       "      <td>0.137341</td>\n",
       "      <td>0.046885</td>\n",
       "      <td>0.289373</td>\n",
       "      <td>0.055353</td>\n",
       "      <td>0.175059</td>\n",
       "      <td>0.107417</td>\n",
       "      <td>0.044669</td>\n",
       "      <td>...</td>\n",
       "      <td>0.276652</td>\n",
       "      <td>0.161305</td>\n",
       "      <td>1.000000</td>\n",
       "      <td>0.434772</td>\n",
       "      <td>0.227116</td>\n",
       "      <td>0.096642</td>\n",
       "      <td>-0.104234</td>\n",
       "      <td>0.336706</td>\n",
       "      <td>0.392291</td>\n",
       "      <td>-0.036581</td>\n",
       "    </tr>\n",
       "    <tr>\n",
       "      <th>StreamingMovies</th>\n",
       "      <td>-0.016746</td>\n",
       "      <td>-0.008743</td>\n",
       "      <td>0.047266</td>\n",
       "      <td>0.129574</td>\n",
       "      <td>0.021321</td>\n",
       "      <td>0.296866</td>\n",
       "      <td>0.043870</td>\n",
       "      <td>0.180957</td>\n",
       "      <td>0.098350</td>\n",
       "      <td>0.055954</td>\n",
       "      <td>...</td>\n",
       "      <td>0.288799</td>\n",
       "      <td>0.161316</td>\n",
       "      <td>0.434772</td>\n",
       "      <td>1.000000</td>\n",
       "      <td>0.231226</td>\n",
       "      <td>0.083700</td>\n",
       "      <td>-0.111241</td>\n",
       "      <td>0.335459</td>\n",
       "      <td>0.397909</td>\n",
       "      <td>-0.038492</td>\n",
       "    </tr>\n",
       "    <tr>\n",
       "      <th>Contract</th>\n",
       "      <td>0.015028</td>\n",
       "      <td>0.000126</td>\n",
       "      <td>-0.142554</td>\n",
       "      <td>0.294806</td>\n",
       "      <td>0.243187</td>\n",
       "      <td>0.671607</td>\n",
       "      <td>0.002247</td>\n",
       "      <td>0.110842</td>\n",
       "      <td>0.099721</td>\n",
       "      <td>0.374416</td>\n",
       "      <td>...</td>\n",
       "      <td>0.350277</td>\n",
       "      <td>0.425367</td>\n",
       "      <td>0.227116</td>\n",
       "      <td>0.231226</td>\n",
       "      <td>1.000000</td>\n",
       "      <td>-0.176733</td>\n",
       "      <td>-0.227543</td>\n",
       "      <td>-0.074195</td>\n",
       "      <td>0.449511</td>\n",
       "      <td>-0.396713</td>\n",
       "    </tr>\n",
       "    <tr>\n",
       "      <th>PaperlessBilling</th>\n",
       "      <td>-0.001945</td>\n",
       "      <td>-0.011754</td>\n",
       "      <td>0.156530</td>\n",
       "      <td>-0.014877</td>\n",
       "      <td>-0.111377</td>\n",
       "      <td>0.006152</td>\n",
       "      <td>0.016505</td>\n",
       "      <td>0.165146</td>\n",
       "      <td>-0.138625</td>\n",
       "      <td>-0.157641</td>\n",
       "      <td>...</td>\n",
       "      <td>-0.038234</td>\n",
       "      <td>-0.113600</td>\n",
       "      <td>0.096642</td>\n",
       "      <td>0.083700</td>\n",
       "      <td>-0.176733</td>\n",
       "      <td>1.000000</td>\n",
       "      <td>-0.062904</td>\n",
       "      <td>0.352150</td>\n",
       "      <td>0.157676</td>\n",
       "      <td>0.191825</td>\n",
       "    </tr>\n",
       "    <tr>\n",
       "      <th>PaymentMethod</th>\n",
       "      <td>0.011604</td>\n",
       "      <td>0.017352</td>\n",
       "      <td>-0.038551</td>\n",
       "      <td>-0.154798</td>\n",
       "      <td>-0.040292</td>\n",
       "      <td>-0.370436</td>\n",
       "      <td>-0.004184</td>\n",
       "      <td>-0.176793</td>\n",
       "      <td>0.086140</td>\n",
       "      <td>-0.096726</td>\n",
       "      <td>...</td>\n",
       "      <td>-0.135750</td>\n",
       "      <td>-0.104670</td>\n",
       "      <td>-0.104234</td>\n",
       "      <td>-0.111241</td>\n",
       "      <td>-0.227543</td>\n",
       "      <td>-0.062904</td>\n",
       "      <td>1.000000</td>\n",
       "      <td>-0.193407</td>\n",
       "      <td>-0.330151</td>\n",
       "      <td>0.107062</td>\n",
       "    </tr>\n",
       "    <tr>\n",
       "      <th>MonthlyCharges</th>\n",
       "      <td>-0.003916</td>\n",
       "      <td>-0.014569</td>\n",
       "      <td>0.220173</td>\n",
       "      <td>0.096848</td>\n",
       "      <td>-0.113890</td>\n",
       "      <td>0.247900</td>\n",
       "      <td>0.247398</td>\n",
       "      <td>0.433576</td>\n",
       "      <td>-0.323260</td>\n",
       "      <td>-0.053878</td>\n",
       "      <td>...</td>\n",
       "      <td>0.163652</td>\n",
       "      <td>-0.008682</td>\n",
       "      <td>0.336706</td>\n",
       "      <td>0.335459</td>\n",
       "      <td>-0.074195</td>\n",
       "      <td>0.352150</td>\n",
       "      <td>-0.193407</td>\n",
       "      <td>1.000000</td>\n",
       "      <td>0.650468</td>\n",
       "      <td>0.193356</td>\n",
       "    </tr>\n",
       "    <tr>\n",
       "      <th>TotalCharges</th>\n",
       "      <td>-0.000270</td>\n",
       "      <td>0.000048</td>\n",
       "      <td>0.102395</td>\n",
       "      <td>0.318812</td>\n",
       "      <td>0.064535</td>\n",
       "      <td>0.824757</td>\n",
       "      <td>0.112851</td>\n",
       "      <td>0.452883</td>\n",
       "      <td>-0.175429</td>\n",
       "      <td>0.254308</td>\n",
       "      <td>...</td>\n",
       "      <td>0.388864</td>\n",
       "      <td>0.276713</td>\n",
       "      <td>0.392291</td>\n",
       "      <td>0.397909</td>\n",
       "      <td>0.449511</td>\n",
       "      <td>0.157676</td>\n",
       "      <td>-0.330151</td>\n",
       "      <td>0.650468</td>\n",
       "      <td>1.000000</td>\n",
       "      <td>-0.199428</td>\n",
       "    </tr>\n",
       "    <tr>\n",
       "      <th>Churn</th>\n",
       "      <td>-0.017447</td>\n",
       "      <td>-0.008612</td>\n",
       "      <td>0.150889</td>\n",
       "      <td>-0.150448</td>\n",
       "      <td>-0.164221</td>\n",
       "      <td>-0.352229</td>\n",
       "      <td>0.011942</td>\n",
       "      <td>0.038037</td>\n",
       "      <td>-0.047291</td>\n",
       "      <td>-0.289309</td>\n",
       "      <td>...</td>\n",
       "      <td>-0.178134</td>\n",
       "      <td>-0.282492</td>\n",
       "      <td>-0.036581</td>\n",
       "      <td>-0.038492</td>\n",
       "      <td>-0.396713</td>\n",
       "      <td>0.191825</td>\n",
       "      <td>0.107062</td>\n",
       "      <td>0.193356</td>\n",
       "      <td>-0.199428</td>\n",
       "      <td>1.000000</td>\n",
       "    </tr>\n",
       "  </tbody>\n",
       "</table>\n",
       "<p>21 rows × 21 columns</p>\n",
       "</div>"
      ],
      "text/plain": [
       "                  customerID    gender  SeniorCitizen   Partner  Dependents  \\\n",
       "customerID          1.000000  0.006288      -0.002074 -0.026729   -0.012823   \n",
       "gender              0.006288  1.000000      -0.001874 -0.001808    0.010517   \n",
       "SeniorCitizen      -0.002074 -0.001874       1.000000  0.016479   -0.211185   \n",
       "Partner            -0.026729 -0.001808       0.016479  1.000000    0.452676   \n",
       "Dependents         -0.012823  0.010517      -0.211185  0.452676    1.000000   \n",
       "tenure              0.008035  0.005106       0.016567  0.379697    0.159712   \n",
       "PhoneService       -0.006483 -0.006488       0.008576  0.017706   -0.001762   \n",
       "MultipleLines       0.004316 -0.006739       0.146185  0.142410   -0.024991   \n",
       "InternetService    -0.012407 -0.000863      -0.032310  0.000891    0.044590   \n",
       "OnlineSecurity      0.013292 -0.015017      -0.128221  0.150828    0.152166   \n",
       "OnlineBackup       -0.003334 -0.012057      -0.013632  0.153130    0.091015   \n",
       "DeviceProtection   -0.006918  0.000549      -0.021398  0.166330    0.080537   \n",
       "TechSupport         0.001140 -0.006825      -0.151268  0.126733    0.133524   \n",
       "StreamingTV        -0.007777 -0.006421       0.030776  0.137341    0.046885   \n",
       "StreamingMovies    -0.016746 -0.008743       0.047266  0.129574    0.021321   \n",
       "Contract            0.015028  0.000126      -0.142554  0.294806    0.243187   \n",
       "PaperlessBilling   -0.001945 -0.011754       0.156530 -0.014877   -0.111377   \n",
       "PaymentMethod       0.011604  0.017352      -0.038551 -0.154798   -0.040292   \n",
       "MonthlyCharges     -0.003916 -0.014569       0.220173  0.096848   -0.113890   \n",
       "TotalCharges       -0.000270  0.000048       0.102395  0.318812    0.064535   \n",
       "Churn              -0.017447 -0.008612       0.150889 -0.150448   -0.164221   \n",
       "\n",
       "                    tenure  PhoneService  MultipleLines  InternetService  \\\n",
       "customerID        0.008035     -0.006483       0.004316        -0.012407   \n",
       "gender            0.005106     -0.006488      -0.006739        -0.000863   \n",
       "SeniorCitizen     0.016567      0.008576       0.146185        -0.032310   \n",
       "Partner           0.379697      0.017706       0.142410         0.000891   \n",
       "Dependents        0.159712     -0.001762      -0.024991         0.044590   \n",
       "tenure            1.000000      0.008448       0.343032        -0.030359   \n",
       "PhoneService      0.008448      1.000000      -0.020538         0.387436   \n",
       "MultipleLines     0.343032     -0.020538       1.000000        -0.109216   \n",
       "InternetService  -0.030359      0.387436      -0.109216         1.000000   \n",
       "OnlineSecurity    0.325468     -0.015198       0.007141        -0.028416   \n",
       "OnlineBackup      0.370876      0.024105       0.117327         0.036138   \n",
       "DeviceProtection  0.371105      0.003727       0.122318         0.044944   \n",
       "TechSupport       0.322942     -0.019158       0.011466        -0.026047   \n",
       "StreamingTV       0.289373      0.055353       0.175059         0.107417   \n",
       "StreamingMovies   0.296866      0.043870       0.180957         0.098350   \n",
       "Contract          0.671607      0.002247       0.110842         0.099721   \n",
       "PaperlessBilling  0.006152      0.016505       0.165146        -0.138625   \n",
       "PaymentMethod    -0.370436     -0.004184      -0.176793         0.086140   \n",
       "MonthlyCharges    0.247900      0.247398       0.433576        -0.323260   \n",
       "TotalCharges      0.824757      0.112851       0.452883        -0.175429   \n",
       "Churn            -0.352229      0.011942       0.038037        -0.047291   \n",
       "\n",
       "                  OnlineSecurity  ...  DeviceProtection  TechSupport  \\\n",
       "customerID              0.013292  ...         -0.006918     0.001140   \n",
       "gender                 -0.015017  ...          0.000549    -0.006825   \n",
       "SeniorCitizen          -0.128221  ...         -0.021398    -0.151268   \n",
       "Partner                 0.150828  ...          0.166330     0.126733   \n",
       "Dependents              0.152166  ...          0.080537     0.133524   \n",
       "tenure                  0.325468  ...          0.371105     0.322942   \n",
       "PhoneService           -0.015198  ...          0.003727    -0.019158   \n",
       "MultipleLines           0.007141  ...          0.122318     0.011466   \n",
       "InternetService        -0.028416  ...          0.044944    -0.026047   \n",
       "OnlineSecurity          1.000000  ...          0.175985     0.285028   \n",
       "OnlineBackup            0.185126  ...          0.187757     0.195748   \n",
       "DeviceProtection        0.175985  ...          1.000000     0.240593   \n",
       "TechSupport             0.285028  ...          0.240593     1.000000   \n",
       "StreamingTV             0.044669  ...          0.276652     0.161305   \n",
       "StreamingMovies         0.055954  ...          0.288799     0.161316   \n",
       "Contract                0.374416  ...          0.350277     0.425367   \n",
       "PaperlessBilling       -0.157641  ...         -0.038234    -0.113600   \n",
       "PaymentMethod          -0.096726  ...         -0.135750    -0.104670   \n",
       "MonthlyCharges         -0.053878  ...          0.163652    -0.008682   \n",
       "TotalCharges            0.254308  ...          0.388864     0.276713   \n",
       "Churn                  -0.289309  ...         -0.178134    -0.282492   \n",
       "\n",
       "                  StreamingTV  StreamingMovies  Contract  PaperlessBilling  \\\n",
       "customerID          -0.007777        -0.016746  0.015028         -0.001945   \n",
       "gender              -0.006421        -0.008743  0.000126         -0.011754   \n",
       "SeniorCitizen        0.030776         0.047266 -0.142554          0.156530   \n",
       "Partner              0.137341         0.129574  0.294806         -0.014877   \n",
       "Dependents           0.046885         0.021321  0.243187         -0.111377   \n",
       "tenure               0.289373         0.296866  0.671607          0.006152   \n",
       "PhoneService         0.055353         0.043870  0.002247          0.016505   \n",
       "MultipleLines        0.175059         0.180957  0.110842          0.165146   \n",
       "InternetService      0.107417         0.098350  0.099721         -0.138625   \n",
       "OnlineSecurity       0.044669         0.055954  0.374416         -0.157641   \n",
       "OnlineBackup         0.147186         0.136722  0.280980         -0.013370   \n",
       "DeviceProtection     0.276652         0.288799  0.350277         -0.038234   \n",
       "TechSupport          0.161305         0.161316  0.425367         -0.113600   \n",
       "StreamingTV          1.000000         0.434772  0.227116          0.096642   \n",
       "StreamingMovies      0.434772         1.000000  0.231226          0.083700   \n",
       "Contract             0.227116         0.231226  1.000000         -0.176733   \n",
       "PaperlessBilling     0.096642         0.083700 -0.176733          1.000000   \n",
       "PaymentMethod       -0.104234        -0.111241 -0.227543         -0.062904   \n",
       "MonthlyCharges       0.336706         0.335459 -0.074195          0.352150   \n",
       "TotalCharges         0.392291         0.397909  0.449511          0.157676   \n",
       "Churn               -0.036581        -0.038492 -0.396713          0.191825   \n",
       "\n",
       "                  PaymentMethod  MonthlyCharges  TotalCharges     Churn  \n",
       "customerID             0.011604       -0.003916     -0.000270 -0.017447  \n",
       "gender                 0.017352       -0.014569      0.000048 -0.008612  \n",
       "SeniorCitizen         -0.038551        0.220173      0.102395  0.150889  \n",
       "Partner               -0.154798        0.096848      0.318812 -0.150448  \n",
       "Dependents            -0.040292       -0.113890      0.064535 -0.164221  \n",
       "tenure                -0.370436        0.247900      0.824757 -0.352229  \n",
       "PhoneService          -0.004184        0.247398      0.112851  0.011942  \n",
       "MultipleLines         -0.176793        0.433576      0.452883  0.038037  \n",
       "InternetService        0.086140       -0.323260     -0.175429 -0.047291  \n",
       "OnlineSecurity        -0.096726       -0.053878      0.254308 -0.289309  \n",
       "OnlineBackup          -0.124847        0.119777      0.375362 -0.195525  \n",
       "DeviceProtection      -0.135750        0.163652      0.388864 -0.178134  \n",
       "TechSupport           -0.104670       -0.008682      0.276713 -0.282492  \n",
       "StreamingTV           -0.104234        0.336706      0.392291 -0.036581  \n",
       "StreamingMovies       -0.111241        0.335459      0.397909 -0.038492  \n",
       "Contract              -0.227543       -0.074195      0.449511 -0.396713  \n",
       "PaperlessBilling      -0.062904        0.352150      0.157676  0.191825  \n",
       "PaymentMethod          1.000000       -0.193407     -0.330151  0.107062  \n",
       "MonthlyCharges        -0.193407        1.000000      0.650468  0.193356  \n",
       "TotalCharges          -0.330151        0.650468      1.000000 -0.199428  \n",
       "Churn                  0.107062        0.193356     -0.199428  1.000000  \n",
       "\n",
       "[21 rows x 21 columns]"
      ]
     },
     "execution_count": 22,
     "metadata": {},
     "output_type": "execute_result"
    }
   ],
   "source": [
    "cor=df.corr()\n",
    "cor"
   ]
  },
  {
   "cell_type": "code",
   "execution_count": 23,
   "id": "6b3e188a",
   "metadata": {},
   "outputs": [
    {
     "data": {
      "text/plain": [
       "<AxesSubplot:>"
      ]
     },
     "execution_count": 23,
     "metadata": {},
     "output_type": "execute_result"
    },
    {
     "data": {
      "image/png": "[encoded data removed]",
      "text/plain": [
       "<Figure size 1584x504 with 2 Axes>"
      ]
     },
     "metadata": {
      "needs_background": "light"
     },
     "output_type": "display_data"
    }
   ],
   "source": [
    "plt.figure(figsize=(22,7))\n",
    "sns.heatmap(df.corr(),annot=True,linewidths =0.1,fmt='0.2f')"
   ]
  },
  {
   "cell_type": "markdown",
   "id": "70b01a86",
   "metadata": {},
   "source": [
    "No columns is showing correletations with target columns churns.\n",
    "\n",
    "tenure is positively correlated with total charges.\n",
    "\n",
    "Monthly charges column is positively correlated with total charges.\n",
    "\n",
    "Payment method is negatively correlated with total charges.\n",
    "\n",
    "Internet service is negatively correlated with total charges."
   ]
  },
  {
   "cell_type": "markdown",
   "id": "50759f84",
   "metadata": {},
   "source": [
    "# CHECKING SKEWNESS"
   ]
  },
  {
   "cell_type": "code",
   "execution_count": 24,
   "id": "f0b20cd1",
   "metadata": {},
   "outputs": [
    {
     "data": {
      "text/plain": [
       "customerID          0.000000\n",
       "gender             -0.019031\n",
       "SeniorCitizen       1.833633\n",
       "Partner             0.067922\n",
       "Dependents          0.875199\n",
       "tenure              0.239540\n",
       "PhoneService       -2.727153\n",
       "MultipleLines       0.118719\n",
       "InternetService     0.205423\n",
       "OnlineSecurity      0.416985\n",
       "OnlineBackup        0.182930\n",
       "DeviceProtection    0.186847\n",
       "TechSupport         0.402365\n",
       "StreamingTV         0.028486\n",
       "StreamingMovies     0.014657\n",
       "Contract            0.630959\n",
       "PaperlessBilling   -0.375396\n",
       "PaymentMethod      -0.170129\n",
       "MonthlyCharges     -0.220524\n",
       "TotalCharges        0.962394\n",
       "Churn               1.063031\n",
       "dtype: float64"
      ]
     },
     "execution_count": 24,
     "metadata": {},
     "output_type": "execute_result"
    }
   ],
   "source": [
    "df.skew()"
   ]
  },
  {
   "cell_type": "markdown",
   "id": "50864ea1",
   "metadata": {},
   "source": [
    "columns is in range between +.5 and -.5 are not skewed.\n",
    "\n",
    "skewed columns are:\n",
    "\n",
    "senior ctizen\n",
    "\n",
    "Dependents\n",
    "\n",
    "Phone service\n",
    "\n",
    "contracts\n",
    "\n",
    "Total charges\n",
    "\n",
    "churn\n",
    "Total charges column is the target and all the column is of categorical type then skewness is not to be treated."
   ]
  },
  {
   "cell_type": "code",
   "execution_count": null,
   "id": "39bcef2c",
   "metadata": {},
   "outputs": [],
   "source": []
  },
  {
   "cell_type": "markdown",
   "id": "57ce63b4",
   "metadata": {},
   "source": [
    "# CHECKING OUTLIERS on integer and float type column.\n"
   ]
  },
  {
   "cell_type": "code",
   "execution_count": 25,
   "id": "7b8fdf46",
   "metadata": {},
   "outputs": [
    {
     "data": {
      "text/plain": [
       "customerID          float64\n",
       "gender              float64\n",
       "SeniorCitizen         int64\n",
       "Partner             float64\n",
       "Dependents          float64\n",
       "tenure                int64\n",
       "PhoneService        float64\n",
       "MultipleLines       float64\n",
       "InternetService     float64\n",
       "OnlineSecurity      float64\n",
       "OnlineBackup        float64\n",
       "DeviceProtection    float64\n",
       "TechSupport         float64\n",
       "StreamingTV         float64\n",
       "StreamingMovies     float64\n",
       "Contract            float64\n",
       "PaperlessBilling    float64\n",
       "PaymentMethod       float64\n",
       "MonthlyCharges      float64\n",
       "TotalCharges        float64\n",
       "Churn               float64\n",
       "dtype: object"
      ]
     },
     "execution_count": 25,
     "metadata": {},
     "output_type": "execute_result"
    }
   ],
   "source": [
    "df.dtypes"
   ]
  },
  {
   "cell_type": "code",
   "execution_count": 26,
   "id": "7bd01186",
   "metadata": {},
   "outputs": [
    {
     "data": {
      "text/plain": [
       "<AxesSubplot:>"
      ]
     },
     "execution_count": 26,
     "metadata": {},
     "output_type": "execute_result"
    },
    {
     "data": {
      "image/png": "[encoded data removed]",
      "text/plain": [
       "<Figure size 432x288 with 1 Axes>"
      ]
     },
     "metadata": {
      "needs_background": "light"
     },
     "output_type": "display_data"
    }
   ],
   "source": [
    "df['SeniorCitizen'].plot.box()"
   ]
  },
  {
   "cell_type": "markdown",
   "id": "b38b8b6b",
   "metadata": {},
   "source": [
    "outlier is present but due to categorical column outlier will not be removed"
   ]
  },
  {
   "cell_type": "code",
   "execution_count": null,
   "id": "7ffa0f96",
   "metadata": {},
   "outputs": [],
   "source": []
  },
  {
   "cell_type": "code",
   "execution_count": 56,
   "id": "9630bb47",
   "metadata": {},
   "outputs": [
    {
     "data": {
      "text/plain": [
       "<AxesSubplot:>"
      ]
     },
     "execution_count": 56,
     "metadata": {},
     "output_type": "execute_result"
    },
    {
     "data": {
      "image/png": "[encoded data removed]",
      "text/plain": [
       "<Figure size 432x288 with 1 Axes>"
      ]
     },
     "metadata": {
      "needs_background": "light"
     },
     "output_type": "display_data"
    }
   ],
   "source": [
    "df['tenure'].plot.box()\n"
   ]
  },
  {
   "cell_type": "markdown",
   "id": "d2030a7e",
   "metadata": {},
   "source": [
    "outlier is not present."
   ]
  },
  {
   "cell_type": "code",
   "execution_count": null,
   "id": "91564de7",
   "metadata": {},
   "outputs": [],
   "source": []
  },
  {
   "cell_type": "code",
   "execution_count": 57,
   "id": "51edd39e",
   "metadata": {},
   "outputs": [
    {
     "data": {
      "text/plain": [
       "<AxesSubplot:>"
      ]
     },
     "execution_count": 57,
     "metadata": {},
     "output_type": "execute_result"
    },
    {
     "data": {
      "image/png": "[encoded data removed]",
      "text/plain": [
       "<Figure size 432x288 with 1 Axes>"
      ]
     },
     "metadata": {
      "needs_background": "light"
     },
     "output_type": "display_data"
    }
   ],
   "source": [
    "df['TotalCharges'].plot.box()"
   ]
  },
  {
   "cell_type": "markdown",
   "id": "25e0c570",
   "metadata": {},
   "source": [
    "outlier is not present."
   ]
  },
  {
   "cell_type": "code",
   "execution_count": null,
   "id": "b82af362",
   "metadata": {},
   "outputs": [],
   "source": []
  },
  {
   "cell_type": "code",
   "execution_count": 58,
   "id": "7c327e6a",
   "metadata": {},
   "outputs": [
    {
     "data": {
      "text/plain": [
       "<AxesSubplot:>"
      ]
     },
     "execution_count": 58,
     "metadata": {},
     "output_type": "execute_result"
    },
    {
     "data": {
      "image/png": "[encoded data removed]",
      "text/plain": [
       "<Figure size 432x288 with 1 Axes>"
      ]
     },
     "metadata": {
      "needs_background": "light"
     },
     "output_type": "display_data"
    }
   ],
   "source": [
    "df['MonthlyCharges'].plot.box()"
   ]
  },
  {
   "cell_type": "markdown",
   "id": "b06e93a9",
   "metadata": {},
   "source": [
    "outlier is not prsent"
   ]
  },
  {
   "cell_type": "raw",
   "id": "f2bac2f3",
   "metadata": {},
   "source": [
    "We can remove outliers because of object data type columns and Data loss."
   ]
  },
  {
   "cell_type": "code",
   "execution_count": null,
   "id": "dd2c903c",
   "metadata": {},
   "outputs": [],
   "source": []
  },
  {
   "cell_type": "markdown",
   "id": "87ece62e",
   "metadata": {},
   "source": [
    "# SEPRATING THE COLUMNS INTO FEATURES AND TARGET"
   ]
  },
  {
   "cell_type": "code",
   "execution_count": 27,
   "id": "dc0a5d5a",
   "metadata": {},
   "outputs": [],
   "source": [
    "x=df.drop('Churn',axis=1)\n",
    "y=df['Churn']"
   ]
  },
  {
   "cell_type": "markdown",
   "id": "6295ffaa",
   "metadata": {},
   "source": [
    "# HANDLING CLASS IMBALANCE PROBLEM BY OVERSAMPLING THE MINORITY CLASS"
   ]
  },
  {
   "cell_type": "code",
   "execution_count": 28,
   "id": "cffb4489",
   "metadata": {},
   "outputs": [],
   "source": [
    "# In Target column Differece is more between yes and no\n",
    "from imblearn.over_sampling import SMOTE\n",
    "SM=SMOTE()\n",
    "x_over, y_over=SM.fit_resample(x,y)\n"
   ]
  },
  {
   "cell_type": "code",
   "execution_count": 29,
   "id": "d83c4f95",
   "metadata": {},
   "outputs": [
    {
     "data": {
      "text/plain": [
       "0.0    5174\n",
       "1.0    5174\n",
       "Name: Churn, dtype: int64"
      ]
     },
     "execution_count": 29,
     "metadata": {},
     "output_type": "execute_result"
    }
   ],
   "source": [
    "y_over.value_counts()"
   ]
  },
  {
   "cell_type": "markdown",
   "id": "fd245e97",
   "metadata": {},
   "source": [
    "# TRAIN TEST SPLIT"
   ]
  },
  {
   "cell_type": "code",
   "execution_count": 30,
   "id": "da278123",
   "metadata": {},
   "outputs": [
    {
     "name": "stdout",
     "output_type": "stream",
     "text": [
      "(5493, 20)\n",
      "(1550, 20)\n",
      "(5493,)\n",
      "(1550,)\n"
     ]
    }
   ],
   "source": [
    "from sklearn.model_selection import train_test_split\n",
    "x_train, x_test, y_train, y_test= train_test_split(x,y,test_size=.22, random_state=47)\n",
    "print(x_train.shape)\n",
    "print(x_test.shape)\n",
    "print(y_train.shape)\n",
    "print(y_test.shape)"
   ]
  },
  {
   "cell_type": "markdown",
   "id": "0815b1f8",
   "metadata": {},
   "source": [
    "# MODEL BUILDING"
   ]
  },
  {
   "cell_type": "code",
   "execution_count": 31,
   "id": "c3364c8f",
   "metadata": {},
   "outputs": [],
   "source": [
    "from sklearn.linear_model import LogisticRegression\n",
    "from sklearn.ensemble import AdaBoostClassifier\n",
    "from sklearn.ensemble import RandomForestClassifier\n",
    "from sklearn.naive_bayes import GaussianNB\n",
    "from sklearn.svm import SVC\n",
    "from sklearn.tree import DecisionTreeClassifier\n",
    "from sklearn.model_selection import cross_val_score\n",
    "from sklearn.metrics import accuracy_score, confusion_matrix, classification_report\n",
    "from sklearn.metrics import roc_curve\n",
    "from sklearn.metrics import roc_auc_score"
   ]
  },
  {
   "cell_type": "code",
   "execution_count": 32,
   "id": "a1cdcd7c",
   "metadata": {},
   "outputs": [
    {
     "name": "stdout",
     "output_type": "stream",
     "text": [
      "0.7890322580645162\n",
      "[[1012  124]\n",
      " [ 203  211]]\n",
      "              precision    recall  f1-score   support\n",
      "\n",
      "         0.0       0.83      0.89      0.86      1136\n",
      "         1.0       0.63      0.51      0.56       414\n",
      "\n",
      "    accuracy                           0.79      1550\n",
      "   macro avg       0.73      0.70      0.71      1550\n",
      "weighted avg       0.78      0.79      0.78      1550\n",
      "\n"
     ]
    }
   ],
   "source": [
    "#LogisticRegression\n",
    "lr=LogisticRegression()\n",
    "lr.fit(x_train, y_train)\n",
    "predlr=lr.predict(x_test)\n",
    "print(accuracy_score(y_test,predlr))\n",
    "print(confusion_matrix(y_test,predlr))\n",
    "print(classification_report(y_test,predlr))\n",
    "    \n",
    "    "
   ]
  },
  {
   "cell_type": "code",
   "execution_count": 33,
   "id": "6e89fcf9",
   "metadata": {},
   "outputs": [
    {
     "name": "stdout",
     "output_type": "stream",
     "text": [
      "cross validation score 0.7996596554616426\n"
     ]
    }
   ],
   "source": [
    "# Logistic Regression Cross Validation\n",
    "\n",
    "scr=cross_val_score(lr,x,y,cv=5)\n",
    "print('cross validation score',scr.mean())"
   ]
  },
  {
   "cell_type": "markdown",
   "id": "4342fb76",
   "metadata": {},
   "source": [
    "Accuracy score is 78% and cv score is 79% of Logistic Reression."
   ]
  },
  {
   "cell_type": "code",
   "execution_count": 34,
   "id": "ea41a64b",
   "metadata": {},
   "outputs": [],
   "source": [
    "# AUC ROC CURVE Logistic Regression\n",
    "lr.fit(x_train,y_train)\n",
    "y_pred_proba=lr.predict_proba(x_test)[:,1]"
   ]
  },
  {
   "cell_type": "code",
   "execution_count": 35,
   "id": "ade7784a",
   "metadata": {},
   "outputs": [
    {
     "data": {
      "text/plain": [
       "array([0.01850352, 0.08779182, 0.18609909, ..., 0.10557904, 0.00999488,\n",
       "       0.16096037])"
      ]
     },
     "execution_count": 35,
     "metadata": {},
     "output_type": "execute_result"
    }
   ],
   "source": [
    "y_pred_proba"
   ]
  },
  {
   "cell_type": "code",
   "execution_count": 36,
   "id": "caacc3c9",
   "metadata": {},
   "outputs": [
    {
     "data": {
      "text/plain": [
       "array([0.        , 0.00241546, 0.03381643, 0.03381643, 0.04830918,\n",
       "       0.04830918, 0.05797101, 0.05797101, 0.06038647, 0.06038647,\n",
       "       0.07729469, 0.07729469, 0.08937198, 0.08937198, 0.09661836,\n",
       "       0.09661836, 0.10144928, 0.10144928, 0.10628019, 0.10628019,\n",
       "       0.12077295, 0.12077295, 0.12801932, 0.12801932, 0.13285024,\n",
       "       0.13285024, 0.16425121, 0.16425121, 0.16908213, 0.16908213,\n",
       "       0.17149758, 0.17149758, 0.17391304, 0.17391304, 0.18115942,\n",
       "       0.18115942, 0.1884058 , 0.1884058 , 0.19806763, 0.19806763,\n",
       "       0.20048309, 0.20048309, 0.21014493, 0.21014493, 0.21256039,\n",
       "       0.21256039, 0.21497585, 0.21497585, 0.2173913 , 0.2173913 ,\n",
       "       0.22222222, 0.22222222, 0.23188406, 0.23188406, 0.23429952,\n",
       "       0.23429952, 0.23913043, 0.23913043, 0.24154589, 0.24154589,\n",
       "       0.26086957, 0.26086957, 0.26328502, 0.26328502, 0.26570048,\n",
       "       0.26570048, 0.27294686, 0.27294686, 0.28985507, 0.28985507,\n",
       "       0.29468599, 0.29468599, 0.29951691, 0.29951691, 0.30676329,\n",
       "       0.30676329, 0.31642512, 0.31642512, 0.31884058, 0.31884058,\n",
       "       0.32125604, 0.32125604, 0.33091787, 0.33091787, 0.33333333,\n",
       "       0.33333333, 0.33574879, 0.33574879, 0.34057971, 0.34057971,\n",
       "       0.34541063, 0.34541063, 0.34782609, 0.34782609, 0.35748792,\n",
       "       0.35748792, 0.36231884, 0.36231884, 0.37439614, 0.37439614,\n",
       "       0.37681159, 0.37681159, 0.38405797, 0.38405797, 0.38647343,\n",
       "       0.38647343, 0.38888889, 0.38888889, 0.39613527, 0.39613527,\n",
       "       0.39855072, 0.39855072, 0.40096618, 0.40096618, 0.4057971 ,\n",
       "       0.4057971 , 0.41062802, 0.41062802, 0.41304348, 0.41304348,\n",
       "       0.42270531, 0.42270531, 0.43236715, 0.43236715, 0.43478261,\n",
       "       0.43478261, 0.44444444, 0.44444444, 0.45169082, 0.45169082,\n",
       "       0.45410628, 0.45410628, 0.45652174, 0.45652174, 0.4589372 ,\n",
       "       0.4589372 , 0.46135266, 0.46135266, 0.46376812, 0.46376812,\n",
       "       0.46618357, 0.46618357, 0.46859903, 0.46859903, 0.47101449,\n",
       "       0.47101449, 0.47584541, 0.47584541, 0.48309179, 0.48309179,\n",
       "       0.48550725, 0.48550725, 0.48792271, 0.48792271, 0.49033816,\n",
       "       0.49033816, 0.49516908, 0.49516908, 0.49758454, 0.49758454,\n",
       "       0.50483092, 0.50483092, 0.51207729, 0.51207729, 0.51690821,\n",
       "       0.51690821, 0.52657005, 0.52657005, 0.52898551, 0.52898551,\n",
       "       0.53381643, 0.53381643, 0.53623188, 0.53623188, 0.53864734,\n",
       "       0.53864734, 0.5410628 , 0.5410628 , 0.55072464, 0.55072464,\n",
       "       0.5531401 , 0.5531401 , 0.55555556, 0.55555556, 0.55797101,\n",
       "       0.55797101, 0.56280193, 0.56280193, 0.56763285, 0.56763285,\n",
       "       0.57487923, 0.57487923, 0.57971014, 0.57971014, 0.5821256 ,\n",
       "       0.5821256 , 0.58695652, 0.58695652, 0.58937198, 0.58937198,\n",
       "       0.59178744, 0.59178744, 0.5942029 , 0.5942029 , 0.59661836,\n",
       "       0.59661836, 0.60869565, 0.60869565, 0.61111111, 0.61111111,\n",
       "       0.61352657, 0.61352657, 0.61594203, 0.61594203, 0.61835749,\n",
       "       0.61835749, 0.62318841, 0.62318841, 0.62801932, 0.62801932,\n",
       "       0.63285024, 0.63285024, 0.6352657 , 0.6352657 , 0.63768116,\n",
       "       0.63768116, 0.64009662, 0.64009662, 0.64251208, 0.64251208,\n",
       "       0.64492754, 0.64492754, 0.65942029, 0.65942029, 0.66183575,\n",
       "       0.66183575, 0.66908213, 0.66908213, 0.67149758, 0.67149758,\n",
       "       0.67874396, 0.67874396, 0.68115942, 0.68115942, 0.68599034,\n",
       "       0.68599034, 0.69082126, 0.69082126, 0.69565217, 0.69565217,\n",
       "       0.69806763, 0.69806763, 0.70048309, 0.70048309, 0.70531401,\n",
       "       0.70531401, 0.71256039, 0.71256039, 0.71497585, 0.71497585,\n",
       "       0.71980676, 0.71980676, 0.72222222, 0.72222222, 0.72463768,\n",
       "       0.72463768, 0.72705314, 0.72705314, 0.7294686 , 0.7294686 ,\n",
       "       0.73188406, 0.73188406, 0.73671498, 0.73671498, 0.73913043,\n",
       "       0.73913043, 0.74154589, 0.74154589, 0.74396135, 0.74396135,\n",
       "       0.74637681, 0.74637681, 0.74879227, 0.74879227, 0.75120773,\n",
       "       0.75120773, 0.75845411, 0.75845411, 0.76086957, 0.76086957,\n",
       "       0.76328502, 0.76328502, 0.76811594, 0.76811594, 0.77294686,\n",
       "       0.77294686, 0.77536232, 0.77536232, 0.77777778, 0.77777778,\n",
       "       0.7826087 , 0.7826087 , 0.78502415, 0.78502415, 0.79227053,\n",
       "       0.79227053, 0.79468599, 0.79468599, 0.79710145, 0.79710145,\n",
       "       0.79951691, 0.79951691, 0.80434783, 0.80434783, 0.80676329,\n",
       "       0.80676329, 0.80917874, 0.80917874, 0.8115942 , 0.8115942 ,\n",
       "       0.81400966, 0.81400966, 0.81642512, 0.81642512, 0.82125604,\n",
       "       0.82125604, 0.8236715 , 0.8236715 , 0.82608696, 0.82608696,\n",
       "       0.82850242, 0.82850242, 0.83091787, 0.83091787, 0.83333333,\n",
       "       0.83333333, 0.83574879, 0.83574879, 0.83816425, 0.83816425,\n",
       "       0.84057971, 0.84057971, 0.84782609, 0.84782609, 0.852657  ,\n",
       "       0.852657  , 0.85507246, 0.85507246, 0.85748792, 0.85748792,\n",
       "       0.85990338, 0.85990338, 0.86231884, 0.86231884, 0.8647343 ,\n",
       "       0.8647343 , 0.86714976, 0.86714976, 0.87198068, 0.87198068,\n",
       "       0.87439614, 0.87439614, 0.87681159, 0.87681159, 0.88164251,\n",
       "       0.88164251, 0.88405797, 0.88405797, 0.88647343, 0.88647343,\n",
       "       0.88888889, 0.88888889, 0.89130435, 0.89130435, 0.89613527,\n",
       "       0.89613527, 0.89855072, 0.89855072, 0.90096618, 0.90096618,\n",
       "       0.90338164, 0.90338164, 0.9057971 , 0.9057971 , 0.90821256,\n",
       "       0.90821256, 0.91062802, 0.91062802, 0.91304348, 0.91304348,\n",
       "       0.91545894, 0.91545894, 0.9178744 , 0.9178744 , 0.92028986,\n",
       "       0.92028986, 0.92270531, 0.92270531, 0.92512077, 0.92512077,\n",
       "       0.92753623, 0.92753623, 0.92995169, 0.92995169, 0.93236715,\n",
       "       0.93236715, 0.93478261, 0.93478261, 0.93719807, 0.93719807,\n",
       "       0.93961353, 0.93961353, 0.94202899, 0.94202899, 0.94444444,\n",
       "       0.94444444, 0.9468599 , 0.9468599 , 0.94927536, 0.94927536,\n",
       "       0.95169082, 0.95169082, 0.95410628, 0.95410628, 0.95652174,\n",
       "       0.95652174, 0.9589372 , 0.9589372 , 0.96376812, 0.96376812,\n",
       "       0.96859903, 0.96859903, 0.97101449, 0.97101449, 0.97584541,\n",
       "       0.97584541, 0.97826087, 0.97826087, 0.98067633, 0.98067633,\n",
       "       0.98309179, 0.98309179, 0.98550725, 0.98550725, 0.98792271,\n",
       "       0.98792271, 0.99033816, 0.99033816, 0.99275362, 0.99275362,\n",
       "       0.99516908, 0.99516908, 1.        , 1.        ])"
      ]
     },
     "execution_count": 36,
     "metadata": {},
     "output_type": "execute_result"
    }
   ],
   "source": [
    "fpr,tpr,thresholds=roc_curve(y_test,y_pred_proba)\n",
    "fpr\n",
    "tpr"
   ]
  },
  {
   "cell_type": "code",
   "execution_count": 37,
   "id": "c38fdd7c",
   "metadata": {},
   "outputs": [
    {
     "data": {
      "image/png": "[encoded data removed]",
      "text/plain": [
       "<Figure size 432x288 with 1 Axes>"
      ]
     },
     "metadata": {
      "needs_background": "light"
     },
     "output_type": "display_data"
    }
   ],
   "source": [
    "plt.plot([0,1],[0,1],'k--')\n",
    "plt.plot(fpr,tpr,label='Logistic Regression')\n",
    "plt.xlabel('false positive rate')\n",
    "plt.ylabel('true positive rate')\n",
    "plt.title('LogisticRegression')\n",
    "plt.show()"
   ]
  },
  {
   "cell_type": "code",
   "execution_count": 38,
   "id": "e2ccce98",
   "metadata": {},
   "outputs": [
    {
     "name": "stdout",
     "output_type": "stream",
     "text": [
      "0.7002534530856638\n"
     ]
    }
   ],
   "source": [
    "auc_score=roc_auc_score(y_test,lr.predict(x_test))\n",
    "print(auc_score)"
   ]
  },
  {
   "cell_type": "markdown",
   "id": "78305ae7",
   "metadata": {},
   "source": [
    "Auc_score of Logistic Regression is 70%"
   ]
  },
  {
   "cell_type": "code",
   "execution_count": null,
   "id": "ed7ade39",
   "metadata": {},
   "outputs": [],
   "source": []
  },
  {
   "cell_type": "code",
   "execution_count": null,
   "id": "99371dfc",
   "metadata": {},
   "outputs": [],
   "source": []
  },
  {
   "cell_type": "code",
   "execution_count": 39,
   "id": "951292a6",
   "metadata": {},
   "outputs": [
    {
     "name": "stdout",
     "output_type": "stream",
     "text": [
      "0.7903225806451613\n",
      "[[1012  124]\n",
      " [ 201  213]]\n",
      "              precision    recall  f1-score   support\n",
      "\n",
      "         0.0       0.83      0.89      0.86      1136\n",
      "         1.0       0.63      0.51      0.57       414\n",
      "\n",
      "    accuracy                           0.79      1550\n",
      "   macro avg       0.73      0.70      0.71      1550\n",
      "weighted avg       0.78      0.79      0.78      1550\n",
      "\n"
     ]
    }
   ],
   "source": [
    "# AdaBoostClassifier\n",
    "ad=AdaBoostClassifier()\n",
    "ad.fit(x_train,y_train)\n",
    "predad=ad.predict(x_test)\n",
    "print(accuracy_score(y_test,predad))\n",
    "print(confusion_matrix(y_test,predad))\n",
    "print(classification_report(y_test,predad))\n"
   ]
  },
  {
   "cell_type": "code",
   "execution_count": 40,
   "id": "a1e9230d",
   "metadata": {},
   "outputs": [
    {
     "name": "stdout",
     "output_type": "stream",
     "text": [
      "cross validation score 0.8003683705400348\n"
     ]
    }
   ],
   "source": [
    "#For AdaBoostClassifier cross validation\n",
    "scr=cross_val_score(ad,x,y,cv=5)\n",
    "print('cross validation score',scr.mean())"
   ]
  },
  {
   "cell_type": "markdown",
   "id": "d84839ff",
   "metadata": {},
   "source": [
    "Accuracy score is 79% and cv score is 80% of adaboost classifier"
   ]
  },
  {
   "cell_type": "code",
   "execution_count": 41,
   "id": "255fbd8c",
   "metadata": {},
   "outputs": [],
   "source": [
    "# AUC ROC CURVE adaboost classifier\n",
    "ad.fit(x_train,y_train)\n",
    "y_pred_prob=ad.predict_proba(x_test)[:,1]\n"
   ]
  },
  {
   "cell_type": "code",
   "execution_count": 42,
   "id": "3e0f09a1",
   "metadata": {},
   "outputs": [
    {
     "data": {
      "text/plain": [
       "array([0.47535135, 0.49165588, 0.49430553, ..., 0.48696321, 0.47897854,\n",
       "       0.49359786])"
      ]
     },
     "execution_count": 42,
     "metadata": {},
     "output_type": "execute_result"
    }
   ],
   "source": [
    "y_pred_prob"
   ]
  },
  {
   "cell_type": "code",
   "execution_count": 43,
   "id": "bcc59bc9",
   "metadata": {},
   "outputs": [
    {
     "data": {
      "text/plain": [
       "array([0.        , 0.00241546, 0.00241546, 0.00483092, 0.01207729,\n",
       "       0.01449275, 0.01932367, 0.02657005, 0.02657005, 0.03381643,\n",
       "       0.03864734, 0.0410628 , 0.04830918, 0.05797101, 0.06763285,\n",
       "       0.07246377, 0.07487923, 0.07487923, 0.08937198, 0.08937198,\n",
       "       0.09178744, 0.09661836, 0.10386473, 0.10628019, 0.10628019,\n",
       "       0.11111111, 0.11111111, 0.11594203, 0.11835749, 0.13043478,\n",
       "       0.1352657 , 0.13768116, 0.13768116, 0.14009662, 0.14251208,\n",
       "       0.147343  , 0.147343  , 0.14975845, 0.14975845, 0.15217391,\n",
       "       0.15217391, 0.15458937, 0.15458937, 0.15700483, 0.15942029,\n",
       "       0.15942029, 0.16908213, 0.17391304, 0.18599034, 0.19082126,\n",
       "       0.19565217, 0.20289855, 0.20531401, 0.20531401, 0.21014493,\n",
       "       0.21014493, 0.21497585, 0.21497585, 0.21980676, 0.22222222,\n",
       "       0.22705314, 0.22705314, 0.23188406, 0.23188406, 0.23671498,\n",
       "       0.23671498, 0.23913043, 0.23913043, 0.25362319, 0.25362319,\n",
       "       0.25845411, 0.25845411, 0.26086957, 0.26086957, 0.26328502,\n",
       "       0.26328502, 0.26570048, 0.26570048, 0.2705314 , 0.2705314 ,\n",
       "       0.27294686, 0.27294686, 0.27536232, 0.28019324, 0.28985507,\n",
       "       0.29227053, 0.29951691, 0.29951691, 0.30193237, 0.30434783,\n",
       "       0.30434783, 0.30917874, 0.30917874, 0.31400966, 0.31400966,\n",
       "       0.32608696, 0.33091787, 0.33091787, 0.33574879, 0.33574879,\n",
       "       0.33816425, 0.34299517, 0.34299517, 0.34299517, 0.34541063,\n",
       "       0.34782609, 0.34782609, 0.35024155, 0.35024155, 0.352657  ,\n",
       "       0.352657  , 0.35507246, 0.35990338, 0.35990338, 0.36714976,\n",
       "       0.36714976, 0.36956522, 0.36956522, 0.37439614, 0.37439614,\n",
       "       0.37922705, 0.37922705, 0.38405797, 0.38405797, 0.38647343,\n",
       "       0.38647343, 0.39130435, 0.39130435, 0.39371981, 0.39371981,\n",
       "       0.40338164, 0.40338164, 0.4057971 , 0.4057971 , 0.41304348,\n",
       "       0.41304348, 0.42028986, 0.42270531, 0.42995169, 0.42995169,\n",
       "       0.43719807, 0.43961353, 0.44202899, 0.44202899, 0.44927536,\n",
       "       0.45410628, 0.4589372 , 0.4589372 , 0.46135266, 0.46135266,\n",
       "       0.46376812, 0.46376812, 0.46618357, 0.46618357, 0.46859903,\n",
       "       0.46859903, 0.47101449, 0.47101449, 0.47342995, 0.47342995,\n",
       "       0.47584541, 0.47584541, 0.47584541, 0.47826087, 0.47826087,\n",
       "       0.48309179, 0.48309179, 0.48550725, 0.48550725, 0.48550725,\n",
       "       0.48792271, 0.48792271, 0.49758454, 0.5       , 0.50483092,\n",
       "       0.50483092, 0.50966184, 0.50966184, 0.51449275, 0.51690821,\n",
       "       0.51690821, 0.52415459, 0.52415459, 0.52657005, 0.52657005,\n",
       "       0.52898551, 0.52898551, 0.53140097, 0.53140097, 0.53623188,\n",
       "       0.53623188, 0.53864734, 0.53864734, 0.54830918, 0.54830918,\n",
       "       0.5531401 , 0.5531401 , 0.55555556, 0.55797101, 0.55797101,\n",
       "       0.56280193, 0.56280193, 0.56763285, 0.56763285, 0.57246377,\n",
       "       0.57487923, 0.57729469, 0.57729469, 0.57971014, 0.57971014,\n",
       "       0.58454106, 0.58454106, 0.58937198, 0.58937198, 0.60386473,\n",
       "       0.60386473, 0.60628019, 0.60628019, 0.60869565, 0.60869565,\n",
       "       0.61111111, 0.61111111, 0.61352657, 0.61352657, 0.61835749,\n",
       "       0.61835749, 0.62077295, 0.62077295, 0.62801932, 0.62801932,\n",
       "       0.63043478, 0.63043478, 0.63285024, 0.63285024, 0.63768116,\n",
       "       0.63768116, 0.64009662, 0.64009662, 0.64492754, 0.64975845,\n",
       "       0.65217391, 0.65458937, 0.65458937, 0.65700483, 0.65700483,\n",
       "       0.65942029, 0.66183575, 0.66183575, 0.66183575, 0.66908213,\n",
       "       0.66908213, 0.67391304, 0.67391304, 0.68115942, 0.68115942,\n",
       "       0.68357488, 0.68357488, 0.68599034, 0.68599034, 0.69323671,\n",
       "       0.69323671, 0.69323671, 0.69565217, 0.69565217, 0.70048309,\n",
       "       0.70289855, 0.70289855, 0.70772947, 0.70772947, 0.71014493,\n",
       "       0.71014493, 0.71256039, 0.71256039, 0.71497585, 0.71497585,\n",
       "       0.7173913 , 0.7173913 , 0.71980676, 0.71980676, 0.71980676,\n",
       "       0.71980676, 0.72222222, 0.72222222, 0.72463768, 0.72463768,\n",
       "       0.72705314, 0.72705314, 0.7294686 , 0.7294686 , 0.7294686 ,\n",
       "       0.7294686 , 0.73429952, 0.73429952, 0.73913043, 0.73913043,\n",
       "       0.74154589, 0.74154589, 0.74396135, 0.74396135, 0.74879227,\n",
       "       0.74879227, 0.75120773, 0.75120773, 0.75603865, 0.75845411,\n",
       "       0.75845411, 0.76086957, 0.76086957, 0.76328502, 0.76328502,\n",
       "       0.76570048, 0.76570048, 0.76811594, 0.76811594, 0.7705314 ,\n",
       "       0.7705314 , 0.77536232, 0.77536232, 0.77777778, 0.77777778,\n",
       "       0.78019324, 0.78019324, 0.78502415, 0.78502415, 0.78743961,\n",
       "       0.78743961, 0.78985507, 0.78985507, 0.79227053, 0.79227053,\n",
       "       0.79468599, 0.79468599, 0.79951691, 0.79951691, 0.80193237,\n",
       "       0.80193237, 0.80193237, 0.80434783, 0.80434783, 0.80676329,\n",
       "       0.80676329, 0.8115942 , 0.8115942 , 0.81400966, 0.81400966,\n",
       "       0.81642512, 0.81642512, 0.81884058, 0.81884058, 0.82125604,\n",
       "       0.82125604, 0.82850242, 0.82850242, 0.83091787, 0.83091787,\n",
       "       0.83333333, 0.83333333, 0.83574879, 0.83574879, 0.84057971,\n",
       "       0.84057971, 0.84057971, 0.84057971, 0.84057971, 0.84057971,\n",
       "       0.84299517, 0.84299517, 0.84541063, 0.84541063, 0.84782609,\n",
       "       0.84782609, 0.85024155, 0.85024155, 0.85748792, 0.85748792,\n",
       "       0.85990338, 0.85990338, 0.86231884, 0.86231884, 0.86714976,\n",
       "       0.86714976, 0.87198068, 0.87198068, 0.87439614, 0.87439614,\n",
       "       0.87681159, 0.87681159, 0.87922705, 0.87922705, 0.88164251,\n",
       "       0.88405797, 0.88405797, 0.88405797, 0.88405797, 0.88647343,\n",
       "       0.88647343, 0.88888889, 0.88888889, 0.89130435, 0.89130435,\n",
       "       0.89371981, 0.89371981, 0.89613527, 0.89613527, 0.89855072,\n",
       "       0.89855072, 0.90096618, 0.90096618, 0.90096618, 0.90096618,\n",
       "       0.90338164, 0.90338164, 0.9057971 , 0.9057971 , 0.90821256,\n",
       "       0.90821256, 0.91062802, 0.91062802, 0.91304348, 0.91304348,\n",
       "       0.91545894, 0.91545894, 0.9178744 , 0.92028986, 0.92028986,\n",
       "       0.92028986, 0.92028986, 0.92270531, 0.92270531, 0.92512077,\n",
       "       0.92512077, 0.92753623, 0.92753623, 0.92753623, 0.93236715,\n",
       "       0.93236715, 0.93236715, 0.93236715, 0.93236715, 0.93236715,\n",
       "       0.93478261, 0.93478261, 0.93719807, 0.93719807, 0.93961353,\n",
       "       0.93961353, 0.94202899, 0.94202899, 0.94444444, 0.94444444,\n",
       "       0.9468599 , 0.9468599 , 0.94927536, 0.94927536, 0.95169082,\n",
       "       0.95169082, 0.95169082, 0.95410628, 0.95410628, 0.95652174,\n",
       "       0.95652174, 0.9589372 , 0.9589372 , 0.96135266, 0.96135266,\n",
       "       0.96376812, 0.96376812, 0.96618357, 0.96618357, 0.96859903,\n",
       "       0.96859903, 0.96859903, 0.96859903, 0.96859903, 0.96859903,\n",
       "       0.97342995, 0.97342995, 0.97342995, 0.97342995, 0.97584541,\n",
       "       0.97584541, 0.97826087, 0.97826087, 0.98067633, 0.98067633,\n",
       "       0.98067633, 0.98067633, 0.98550725, 0.98550725, 0.98550725,\n",
       "       0.98550725, 0.98550725, 0.98550725, 0.98550725, 0.98550725,\n",
       "       0.98550725, 0.98550725, 0.98550725, 0.98550725, 0.98550725,\n",
       "       0.98550725, 0.98550725, 0.98550725, 0.98550725, 0.98550725,\n",
       "       0.98550725, 0.98792271, 0.98792271, 0.98792271, 0.98792271,\n",
       "       0.98792271, 0.98792271, 0.99033816, 0.99033816, 0.99275362,\n",
       "       0.99275362, 0.99275362, 0.99275362, 0.99275362, 0.99275362,\n",
       "       0.99275362, 0.99275362, 0.99275362, 0.99275362, 0.99516908,\n",
       "       0.99516908, 0.99516908, 0.99516908, 0.99516908, 0.99516908,\n",
       "       0.99516908, 0.99516908, 0.99758454, 0.99758454, 0.99758454,\n",
       "       0.99758454, 0.99758454, 0.99758454, 0.99758454, 0.99758454,\n",
       "       0.99758454, 0.99758454, 0.99758454, 0.99758454, 0.99758454,\n",
       "       0.99758454, 0.99758454, 0.99758454, 0.99758454, 0.99758454,\n",
       "       0.99758454, 0.99758454, 0.99758454, 0.99758454, 0.99758454,\n",
       "       0.99758454, 0.99758454, 0.99758454, 1.        , 1.        ])"
      ]
     },
     "execution_count": 43,
     "metadata": {},
     "output_type": "execute_result"
    }
   ],
   "source": [
    "fpr,tpr,thresholds=roc_curve(y_test,y_pred_prob)\n",
    "fpr\n",
    "tpr"
   ]
  },
  {
   "cell_type": "code",
   "execution_count": 44,
   "id": "22f7453e",
   "metadata": {},
   "outputs": [
    {
     "data": {
      "image/png": "[encoded data removed]",
      "text/plain": [
       "<Figure size 432x288 with 1 Axes>"
      ]
     },
     "metadata": {
      "needs_background": "light"
     },
     "output_type": "display_data"
    }
   ],
   "source": [
    "plt.plot([0,1],[0,1],'k--')\n",
    "plt.plot(fpr,tpr,label='AdaBoost Classifeir')\n",
    "plt.xlabel('false positive rate')\n",
    "plt.ylabel('true positive rate')\n",
    "plt.title('AdaBoost Classifier')\n",
    "plt.show()"
   ]
  },
  {
   "cell_type": "code",
   "execution_count": 45,
   "id": "8cbfa3ef",
   "metadata": {},
   "outputs": [
    {
     "name": "stdout",
     "output_type": "stream",
     "text": [
      "0.7026689120228619\n"
     ]
    }
   ],
   "source": [
    "auc_score=roc_auc_score(y_test,ad.predict(x_test))\n",
    "print(auc_score)"
   ]
  },
  {
   "cell_type": "markdown",
   "id": "eb986d4f",
   "metadata": {},
   "source": [
    "Auc_score of Adaboost Classifier is 70%"
   ]
  },
  {
   "cell_type": "code",
   "execution_count": null,
   "id": "49af45cf",
   "metadata": {},
   "outputs": [],
   "source": []
  },
  {
   "cell_type": "code",
   "execution_count": null,
   "id": "e16e59f6",
   "metadata": {},
   "outputs": [],
   "source": []
  },
  {
   "cell_type": "code",
   "execution_count": 46,
   "id": "3124464a",
   "metadata": {},
   "outputs": [
    {
     "name": "stdout",
     "output_type": "stream",
     "text": [
      "0.7929032258064516\n",
      "[[1029  107]\n",
      " [ 214  200]]\n",
      "              precision    recall  f1-score   support\n",
      "\n",
      "         0.0       0.83      0.91      0.87      1136\n",
      "         1.0       0.65      0.48      0.55       414\n",
      "\n",
      "    accuracy                           0.79      1550\n",
      "   macro avg       0.74      0.69      0.71      1550\n",
      "weighted avg       0.78      0.79      0.78      1550\n",
      "\n"
     ]
    }
   ],
   "source": [
    "# RandomForestClassifier\n",
    "rf=RandomForestClassifier()\n",
    "rf.fit(x_train,y_train)\n",
    "predrf=rf.predict(x_test)\n",
    "print(accuracy_score(y_test,predrf))\n",
    "print(confusion_matrix(y_test,predrf))\n",
    "print(classification_report(y_test,predrf))"
   ]
  },
  {
   "cell_type": "code",
   "execution_count": 48,
   "id": "972d053d",
   "metadata": {},
   "outputs": [
    {
     "name": "stdout",
     "output_type": "stream",
     "text": [
      "cross validation score 0.7911421704626105\n"
     ]
    }
   ],
   "source": [
    "# Random FOrest Cross Validation\n",
    "\n",
    "scr=cross_val_score(rf,x,y,cv=5)\n",
    "print('cross validation score',scr.mean())"
   ]
  },
  {
   "cell_type": "markdown",
   "id": "5ca4c5d9",
   "metadata": {},
   "source": [
    "Accuracy score is 79.54% and cv score is 79.34% of Random Forest Classifier."
   ]
  },
  {
   "cell_type": "code",
   "execution_count": 80,
   "id": "08d865bb",
   "metadata": {},
   "outputs": [],
   "source": [
    "# AUC ROC CURVE RANDOM FOREST CLASSIFIER\n",
    "rf.fit(x_train,y_train)\n",
    "y_pred_prob=rf.predict_proba(x_test)[:,1]\n"
   ]
  },
  {
   "cell_type": "code",
   "execution_count": 81,
   "id": "b54f9331",
   "metadata": {},
   "outputs": [
    {
     "data": {
      "text/plain": [
       "array([0.  , 0.18, 0.42, ..., 0.09, 0.  , 0.18])"
      ]
     },
     "execution_count": 81,
     "metadata": {},
     "output_type": "execute_result"
    }
   ],
   "source": [
    "y_pred_prob"
   ]
  },
  {
   "cell_type": "code",
   "execution_count": 82,
   "id": "995af63a",
   "metadata": {},
   "outputs": [
    {
     "data": {
      "text/plain": [
       "array([0.        , 0.00483092, 0.01207729, 0.01690821, 0.02415459,\n",
       "       0.02657005, 0.02898551, 0.03623188, 0.0531401 , 0.06280193,\n",
       "       0.07004831, 0.07246377, 0.0821256 , 0.0942029 , 0.11352657,\n",
       "       0.12318841, 0.13285024, 0.14009662, 0.14975845, 0.16183575,\n",
       "       0.16666667, 0.17874396, 0.18599034, 0.20289855, 0.20772947,\n",
       "       0.22222222, 0.23913043, 0.24396135, 0.26328502, 0.27294686,\n",
       "       0.28019324, 0.29468599, 0.30917874, 0.3236715 , 0.34299517,\n",
       "       0.35507246, 0.37439614, 0.38647343, 0.39613527, 0.4057971 ,\n",
       "       0.41304348, 0.42753623, 0.43719807, 0.45410628, 0.47584541,\n",
       "       0.48067633, 0.49516908, 0.50483092, 0.51207729, 0.52173913,\n",
       "       0.53623188, 0.54347826, 0.56763285, 0.58695652, 0.5942029 ,\n",
       "       0.60628019, 0.62318841, 0.63768116, 0.647343  , 0.65942029,\n",
       "       0.66666667, 0.66908213, 0.68357488, 0.68599034, 0.69806763,\n",
       "       0.71014493, 0.72222222, 0.73188406, 0.74637681, 0.75845411,\n",
       "       0.76086957, 0.76811594, 0.78502415, 0.80193237, 0.8115942 ,\n",
       "       0.83091787, 0.84299517, 0.85507246, 0.86231884, 0.87198068,\n",
       "       0.87439614, 0.87922705, 0.88647343, 0.89613527, 0.89855072,\n",
       "       0.91545894, 0.93236715, 0.94444444, 0.94927536, 0.95169082,\n",
       "       0.96618357, 0.96859903, 0.97342995, 0.98067633, 0.98792271,\n",
       "       0.99275362, 1.        ])"
      ]
     },
     "execution_count": 82,
     "metadata": {},
     "output_type": "execute_result"
    }
   ],
   "source": [
    "fpr,tpr,thresholds=roc_curve(y_test,y_pred_prob)\n",
    "fpr\n",
    "tpr"
   ]
  },
  {
   "cell_type": "code",
   "execution_count": 83,
   "id": "3c07ee19",
   "metadata": {},
   "outputs": [
    {
     "data": {
      "image/png": "[encoded data removed]",
      "text/plain": [
       "<Figure size 432x288 with 1 Axes>"
      ]
     },
     "metadata": {
      "needs_background": "light"
     },
     "output_type": "display_data"
    }
   ],
   "source": [
    "plt.plot([0,1],[0,1],'k--')\n",
    "plt.plot(fpr,tpr,label='Random Forest Classifeir')\n",
    "plt.xlabel('false positive rate')\n",
    "plt.ylabel('true positive rate')\n",
    "plt.title('Random Forest Classifier')\n",
    "plt.show()"
   ]
  },
  {
   "cell_type": "code",
   "execution_count": 84,
   "id": "ff5503b8",
   "metadata": {},
   "outputs": [
    {
     "name": "stdout",
     "output_type": "stream",
     "text": [
      "0.7013697523304075\n"
     ]
    }
   ],
   "source": [
    "auc_score=roc_auc_score(y_test,rf.predict(x_test))\n",
    "print(auc_score)"
   ]
  },
  {
   "cell_type": "markdown",
   "id": "db651f63",
   "metadata": {},
   "source": [
    "Auc_score of Random Forest Classifier is 70%"
   ]
  },
  {
   "cell_type": "code",
   "execution_count": null,
   "id": "7fc18490",
   "metadata": {},
   "outputs": [],
   "source": []
  },
  {
   "cell_type": "code",
   "execution_count": null,
   "id": "e02160ff",
   "metadata": {},
   "outputs": [],
   "source": []
  },
  {
   "cell_type": "code",
   "execution_count": 85,
   "id": "769fe849",
   "metadata": {},
   "outputs": [
    {
     "name": "stdout",
     "output_type": "stream",
     "text": [
      "0.7361290322580645\n",
      "[[940 196]\n",
      " [213 201]]\n",
      "              precision    recall  f1-score   support\n",
      "\n",
      "         0.0       0.82      0.83      0.82      1136\n",
      "         1.0       0.51      0.49      0.50       414\n",
      "\n",
      "    accuracy                           0.74      1550\n",
      "   macro avg       0.66      0.66      0.66      1550\n",
      "weighted avg       0.73      0.74      0.73      1550\n",
      "\n"
     ]
    }
   ],
   "source": [
    "#DecisionTreeClassifier\n",
    "dt=DecisionTreeClassifier()\n",
    "dt.fit(x_train,y_train)\n",
    "preddt=dt.predict(x_test)\n",
    "print(accuracy_score(y_test,preddt))\n",
    "print(confusion_matrix(y_test,preddt))\n",
    "print(classification_report(y_test,preddt))"
   ]
  },
  {
   "cell_type": "code",
   "execution_count": 86,
   "id": "05397aea",
   "metadata": {},
   "outputs": [
    {
     "name": "stdout",
     "output_type": "stream",
     "text": [
      "cross validation score 0.7261118660881347\n"
     ]
    }
   ],
   "source": [
    "# For DecisionTreeClassifier cross validation\n",
    "scr=cross_val_score(dt,x,y,cv=5)\n",
    "print('cross validation score',scr.mean())"
   ]
  },
  {
   "cell_type": "markdown",
   "id": "bf2c5be9",
   "metadata": {},
   "source": [
    "Accuracy score is 73% and cross validation score is 72% for Decision Tree classifier."
   ]
  },
  {
   "cell_type": "code",
   "execution_count": 88,
   "id": "446996fc",
   "metadata": {},
   "outputs": [],
   "source": [
    "# AUC ROC CURVE DECISION TREE CLASSIFIER\n",
    "dt.fit(x_train,y_train)\n",
    "y_pred_prob=dt.predict_proba(x_test)[:,1]\n"
   ]
  },
  {
   "cell_type": "code",
   "execution_count": 89,
   "id": "eb604cd3",
   "metadata": {},
   "outputs": [
    {
     "data": {
      "text/plain": [
       "array([0., 0., 0., ..., 0., 0., 0.])"
      ]
     },
     "execution_count": 89,
     "metadata": {},
     "output_type": "execute_result"
    }
   ],
   "source": [
    "y_pred_prob"
   ]
  },
  {
   "cell_type": "code",
   "execution_count": 90,
   "id": "c8d273f8",
   "metadata": {},
   "outputs": [
    {
     "data": {
      "text/plain": [
       "array([0.       , 0.4589372, 1.       ])"
      ]
     },
     "execution_count": 90,
     "metadata": {},
     "output_type": "execute_result"
    }
   ],
   "source": [
    "fpr,tpr,thresholds=roc_curve(y_test,y_pred_prob)\n",
    "fpr\n",
    "tpr"
   ]
  },
  {
   "cell_type": "code",
   "execution_count": 91,
   "id": "fa9304c4",
   "metadata": {},
   "outputs": [
    {
     "data": {
      "image/png": "[encoded data removed]",
      "text/plain": [
       "<Figure size 432x288 with 1 Axes>"
      ]
     },
     "metadata": {
      "needs_background": "light"
     },
     "output_type": "display_data"
    }
   ],
   "source": [
    "plt.plot([0,1],[0,1],'k--')\n",
    "plt.plot(fpr,tpr,label='Decision Tree Classifeir')\n",
    "plt.xlabel('false positive rate')\n",
    "plt.ylabel('true positive rate')\n",
    "plt.title('Decison Tree Classifier')\n",
    "plt.show()"
   ]
  },
  {
   "cell_type": "code",
   "execution_count": 92,
   "id": "556a1184",
   "metadata": {},
   "outputs": [
    {
     "name": "stdout",
     "output_type": "stream",
     "text": [
      "0.6401200074845208\n"
     ]
    }
   ],
   "source": [
    "auc_score=roc_auc_score(y_test,dt.predict(x_test))\n",
    "print(auc_score)"
   ]
  },
  {
   "cell_type": "markdown",
   "id": "733de984",
   "metadata": {},
   "source": [
    "Auc_score of Decision Tree Classifier is 64%."
   ]
  },
  {
   "cell_type": "code",
   "execution_count": null,
   "id": "a4c06c9c",
   "metadata": {},
   "outputs": [],
   "source": []
  },
  {
   "cell_type": "code",
   "execution_count": null,
   "id": "db95048f",
   "metadata": {},
   "outputs": [],
   "source": []
  },
  {
   "cell_type": "code",
   "execution_count": 93,
   "id": "1df74c1e",
   "metadata": {},
   "outputs": [
    {
     "name": "stdout",
     "output_type": "stream",
     "text": [
      "0.7593548387096775\n",
      "[[887 249]\n",
      " [124 290]]\n",
      "              precision    recall  f1-score   support\n",
      "\n",
      "         0.0       0.88      0.78      0.83      1136\n",
      "         1.0       0.54      0.70      0.61       414\n",
      "\n",
      "    accuracy                           0.76      1550\n",
      "   macro avg       0.71      0.74      0.72      1550\n",
      "weighted avg       0.79      0.76      0.77      1550\n",
      "\n"
     ]
    }
   ],
   "source": [
    "# GaussianNB\n",
    "gnb=GaussianNB()\n",
    "gnb.fit(x_train,y_train)\n",
    "predgnb=gnb.predict(x_test)\n",
    "print(accuracy_score(y_test,predgnb))\n",
    "print(confusion_matrix(y_test,predgnb))\n",
    "print(classification_report(y_test,predgnb))"
   ]
  },
  {
   "cell_type": "code",
   "execution_count": 94,
   "id": "15efac58",
   "metadata": {},
   "outputs": [
    {
     "name": "stdout",
     "output_type": "stream",
     "text": [
      "cross validation score 0.7537994386734628\n"
     ]
    }
   ],
   "source": [
    "# For GaussianNb cross validation\n",
    "scr=cross_val_score(gnb,x,y,cv=5)\n",
    "print('cross validation score',scr.mean())"
   ]
  },
  {
   "cell_type": "markdown",
   "id": "1775589e",
   "metadata": {},
   "source": [
    "Accuracy score is 75.93% and cv score is 75.37% for gaussianNB."
   ]
  },
  {
   "cell_type": "code",
   "execution_count": 95,
   "id": "4a3ad117",
   "metadata": {},
   "outputs": [],
   "source": [
    "# AUC ROC CURVE GAUSSIANNB\n",
    "gnb.fit(x_train,y_train)\n",
    "y_pred_prob=gnb.predict_proba(x_test)[:,1]\n"
   ]
  },
  {
   "cell_type": "code",
   "execution_count": 96,
   "id": "8c6c57a3",
   "metadata": {},
   "outputs": [
    {
     "data": {
      "text/plain": [
       "array([5.10293434e-07, 4.74573500e-04, 8.10519523e-01, ...,\n",
       "       7.21730026e-06, 4.03891855e-08, 9.82753236e-05])"
      ]
     },
     "execution_count": 96,
     "metadata": {},
     "output_type": "execute_result"
    }
   ],
   "source": [
    "y_pred_prob"
   ]
  },
  {
   "cell_type": "code",
   "execution_count": 97,
   "id": "96fd9aac",
   "metadata": {},
   "outputs": [
    {
     "data": {
      "text/plain": [
       "array([0.        , 0.00241546, 0.02173913, 0.02173913, 0.02657005,\n",
       "       0.02657005, 0.02898551, 0.02898551, 0.03140097, 0.03140097,\n",
       "       0.03864734, 0.03864734, 0.06521739, 0.06521739, 0.06763285,\n",
       "       0.06763285, 0.07004831, 0.07004831, 0.0821256 , 0.0821256 ,\n",
       "       0.0942029 , 0.0942029 , 0.11111111, 0.11111111, 0.12077295,\n",
       "       0.12077295, 0.12318841, 0.12318841, 0.12801932, 0.12801932,\n",
       "       0.15942029, 0.15942029, 0.16425121, 0.16425121, 0.17391304,\n",
       "       0.17391304, 0.17874396, 0.17874396, 0.19323671, 0.19323671,\n",
       "       0.20048309, 0.20048309, 0.20289855, 0.20289855, 0.20772947,\n",
       "       0.20772947, 0.21497585, 0.21497585, 0.22463768, 0.22463768,\n",
       "       0.22705314, 0.22705314, 0.2294686 , 0.2294686 , 0.23671498,\n",
       "       0.23671498, 0.24396135, 0.24396135, 0.24637681, 0.24637681,\n",
       "       0.25362319, 0.25362319, 0.26570048, 0.26570048, 0.26811594,\n",
       "       0.26811594, 0.2705314 , 0.2705314 , 0.27777778, 0.27777778,\n",
       "       0.28502415, 0.28502415, 0.28985507, 0.28985507, 0.29710145,\n",
       "       0.29710145, 0.29951691, 0.29951691, 0.30434783, 0.30434783,\n",
       "       0.30676329, 0.30676329, 0.31400966, 0.31400966, 0.31884058,\n",
       "       0.31884058, 0.3236715 , 0.3236715 , 0.32608696, 0.32608696,\n",
       "       0.33333333, 0.33333333, 0.33574879, 0.33574879, 0.33816425,\n",
       "       0.33816425, 0.34057971, 0.34057971, 0.34299517, 0.34299517,\n",
       "       0.34541063, 0.34541063, 0.352657  , 0.352657  , 0.35990338,\n",
       "       0.35990338, 0.36231884, 0.36231884, 0.36714976, 0.36714976,\n",
       "       0.36956522, 0.36956522, 0.37198068, 0.37198068, 0.37439614,\n",
       "       0.37439614, 0.37922705, 0.37922705, 0.38647343, 0.38647343,\n",
       "       0.39130435, 0.39130435, 0.39371981, 0.39371981, 0.39613527,\n",
       "       0.39613527, 0.39855072, 0.39855072, 0.40096618, 0.40096618,\n",
       "       0.4057971 , 0.4057971 , 0.41304348, 0.41304348, 0.42028986,\n",
       "       0.42028986, 0.42270531, 0.42270531, 0.42512077, 0.42512077,\n",
       "       0.42995169, 0.42995169, 0.43478261, 0.43478261, 0.43961353,\n",
       "       0.43961353, 0.44927536, 0.44927536, 0.45652174, 0.45652174,\n",
       "       0.4589372 , 0.4589372 , 0.47101449, 0.47101449, 0.47342995,\n",
       "       0.47342995, 0.47584541, 0.47584541, 0.47826087, 0.47826087,\n",
       "       0.48309179, 0.48309179, 0.48550725, 0.48550725, 0.48792271,\n",
       "       0.48792271, 0.49516908, 0.49516908, 0.5       , 0.5       ,\n",
       "       0.50724638, 0.50724638, 0.51207729, 0.51207729, 0.51690821,\n",
       "       0.51690821, 0.51932367, 0.51932367, 0.52173913, 0.52173913,\n",
       "       0.52415459, 0.52415459, 0.52898551, 0.52898551, 0.53623188,\n",
       "       0.53623188, 0.54347826, 0.54347826, 0.54589372, 0.54589372,\n",
       "       0.54830918, 0.54830918, 0.5531401 , 0.5531401 , 0.56038647,\n",
       "       0.56038647, 0.57004831, 0.57004831, 0.57246377, 0.57246377,\n",
       "       0.57487923, 0.57487923, 0.57971014, 0.57971014, 0.58937198,\n",
       "       0.58937198, 0.59178744, 0.59178744, 0.5942029 , 0.5942029 ,\n",
       "       0.60144928, 0.60144928, 0.60386473, 0.60386473, 0.60628019,\n",
       "       0.60628019, 0.60869565, 0.60869565, 0.62318841, 0.62318841,\n",
       "       0.62560386, 0.62560386, 0.62801932, 0.62801932, 0.6352657 ,\n",
       "       0.6352657 , 0.64009662, 0.64009662, 0.64251208, 0.64251208,\n",
       "       0.64492754, 0.64492754, 0.65942029, 0.65942029, 0.66183575,\n",
       "       0.66183575, 0.66425121, 0.66425121, 0.67391304, 0.67391304,\n",
       "       0.68115942, 0.68115942, 0.68357488, 0.68357488, 0.6884058 ,\n",
       "       0.6884058 , 0.69082126, 0.69082126, 0.69323671, 0.69323671,\n",
       "       0.69565217, 0.69565217, 0.69806763, 0.69806763, 0.70048309,\n",
       "       0.70048309, 0.70289855, 0.70289855, 0.70531401, 0.70531401,\n",
       "       0.70772947, 0.70772947, 0.71014493, 0.71014493, 0.71256039,\n",
       "       0.71256039, 0.71497585, 0.71497585, 0.7173913 , 0.7173913 ,\n",
       "       0.71980676, 0.71980676, 0.72222222, 0.72222222, 0.72705314,\n",
       "       0.72705314, 0.73188406, 0.73188406, 0.73671498, 0.73671498,\n",
       "       0.73913043, 0.73913043, 0.74154589, 0.74154589, 0.74396135,\n",
       "       0.74396135, 0.75120773, 0.75120773, 0.75603865, 0.75603865,\n",
       "       0.76086957, 0.76086957, 0.76328502, 0.76328502, 0.76811594,\n",
       "       0.76811594, 0.7705314 , 0.7705314 , 0.77294686, 0.77294686,\n",
       "       0.77536232, 0.77536232, 0.78019324, 0.78019324, 0.78743961,\n",
       "       0.78743961, 0.78985507, 0.78985507, 0.79227053, 0.79227053,\n",
       "       0.79468599, 0.79468599, 0.79710145, 0.79710145, 0.79951691,\n",
       "       0.79951691, 0.80193237, 0.80193237, 0.80434783, 0.80434783,\n",
       "       0.80676329, 0.80676329, 0.80917874, 0.80917874, 0.8115942 ,\n",
       "       0.8115942 , 0.81400966, 0.81400966, 0.81642512, 0.81642512,\n",
       "       0.81884058, 0.81884058, 0.82608696, 0.82608696, 0.82850242,\n",
       "       0.82850242, 0.83333333, 0.83333333, 0.83816425, 0.83816425,\n",
       "       0.84057971, 0.84057971, 0.84299517, 0.84299517, 0.85024155,\n",
       "       0.85024155, 0.852657  , 0.852657  , 0.85507246, 0.85507246,\n",
       "       0.85748792, 0.85748792, 0.85990338, 0.85990338, 0.8647343 ,\n",
       "       0.8647343 , 0.86714976, 0.86714976, 0.86956522, 0.86956522,\n",
       "       0.87198068, 0.87198068, 0.87439614, 0.87439614, 0.87681159,\n",
       "       0.87681159, 0.87922705, 0.87922705, 0.88164251, 0.88164251,\n",
       "       0.88405797, 0.88405797, 0.88647343, 0.88647343, 0.88888889,\n",
       "       0.88888889, 0.89130435, 0.89130435, 0.89371981, 0.89371981,\n",
       "       0.89613527, 0.89613527, 0.89855072, 0.89855072, 0.90096618,\n",
       "       0.90096618, 0.90338164, 0.90338164, 0.9057971 , 0.9057971 ,\n",
       "       0.90821256, 0.90821256, 0.91062802, 0.91062802, 0.91304348,\n",
       "       0.91304348, 0.91545894, 0.91545894, 0.9178744 , 0.9178744 ,\n",
       "       0.92028986, 0.92028986, 0.92270531, 0.92270531, 0.92753623,\n",
       "       0.92753623, 0.92995169, 0.92995169, 0.93236715, 0.93236715,\n",
       "       0.93719807, 0.93719807, 0.93961353, 0.93961353, 0.94202899,\n",
       "       0.94202899, 0.94444444, 0.94444444, 0.9468599 , 0.9468599 ,\n",
       "       0.94927536, 0.94927536, 0.95169082, 0.95169082, 0.95410628,\n",
       "       0.95410628, 0.95652174, 0.95652174, 0.9589372 , 0.9589372 ,\n",
       "       0.96135266, 0.96135266, 0.96376812, 0.96376812, 0.96618357,\n",
       "       0.96618357, 0.96859903, 0.96859903, 0.97342995, 0.97342995,\n",
       "       0.97584541, 0.97584541, 0.97826087, 0.97826087, 0.98067633,\n",
       "       0.98067633, 0.98309179, 0.98309179, 0.98550725, 0.98550725,\n",
       "       0.98792271, 0.98792271, 0.99033816, 0.99033816, 0.99275362,\n",
       "       0.99275362, 0.99516908, 0.99516908, 0.99758454, 0.99758454,\n",
       "       1.        , 1.        ])"
      ]
     },
     "execution_count": 97,
     "metadata": {},
     "output_type": "execute_result"
    }
   ],
   "source": [
    "fpr,tpr,thresholds=roc_curve(y_test,y_pred_prob)\n",
    "fpr\n",
    "tpr"
   ]
  },
  {
   "cell_type": "code",
   "execution_count": 98,
   "id": "0813c35e",
   "metadata": {},
   "outputs": [
    {
     "data": {
      "image/png": "[encoded data removed]",
      "text/plain": [
       "<Figure size 432x288 with 1 Axes>"
      ]
     },
     "metadata": {
      "needs_background": "light"
     },
     "output_type": "display_data"
    }
   ],
   "source": [
    "plt.plot([0,1],[0,1],'k--')\n",
    "plt.plot(fpr,tpr,label='GaussianNB')\n",
    "plt.xlabel('false positive rate')\n",
    "plt.ylabel('true positive rate')\n",
    "plt.title('GaussianNB')\n",
    "plt.show()"
   ]
  },
  {
   "cell_type": "code",
   "execution_count": 99,
   "id": "ef7532a7",
   "metadata": {},
   "outputs": [
    {
     "name": "stdout",
     "output_type": "stream",
     "text": [
      "0.7406464754711846\n"
     ]
    }
   ],
   "source": [
    "auc_score=roc_auc_score(y_test,gnb.predict(x_test))\n",
    "print(auc_score)"
   ]
  },
  {
   "cell_type": "markdown",
   "id": "36ad3a7e",
   "metadata": {},
   "source": [
    "Auc_score of GaussianNB is 74%."
   ]
  },
  {
   "cell_type": "code",
   "execution_count": null,
   "id": "824abc10",
   "metadata": {},
   "outputs": [],
   "source": []
  },
  {
   "cell_type": "code",
   "execution_count": null,
   "id": "fc4d5770",
   "metadata": {},
   "outputs": [],
   "source": []
  },
  {
   "cell_type": "code",
   "execution_count": 100,
   "id": "bbc3531e",
   "metadata": {},
   "outputs": [
    {
     "name": "stdout",
     "output_type": "stream",
     "text": [
      "0.7329032258064516\n",
      "[[1136    0]\n",
      " [ 414    0]]\n",
      "              precision    recall  f1-score   support\n",
      "\n",
      "         0.0       0.73      1.00      0.85      1136\n",
      "         1.0       0.00      0.00      0.00       414\n",
      "\n",
      "    accuracy                           0.73      1550\n",
      "   macro avg       0.37      0.50      0.42      1550\n",
      "weighted avg       0.54      0.73      0.62      1550\n",
      "\n"
     ]
    }
   ],
   "source": [
    "# SVC\n",
    "svc=SVC()\n",
    "svc.fit(x_train,y_train)\n",
    "predsvc=svc.predict(x_test)\n",
    "print(accuracy_score(y_test,predsvc))\n",
    "print(confusion_matrix(y_test,predsvc))\n",
    "print(classification_report(y_test,predsvc))"
   ]
  },
  {
   "cell_type": "code",
   "execution_count": 101,
   "id": "082dc97a",
   "metadata": {},
   "outputs": [
    {
     "name": "stdout",
     "output_type": "stream",
     "text": [
      "cross validation score 0.7346301575908123\n"
     ]
    }
   ],
   "source": [
    "# SVC cross validation\n",
    "\n",
    "scr=cross_val_score(svc,x,y,cv=5)\n",
    "print('cross validation score',scr.mean())"
   ]
  },
  {
   "cell_type": "markdown",
   "id": "bd0ac2f3",
   "metadata": {},
   "source": [
    "Accuracy Score is 73% and cv score is 73%"
   ]
  },
  {
   "cell_type": "raw",
   "id": "fcec0ab4",
   "metadata": {},
   "source": [
    "After checking accuracy ,cross validation and auc_score, we can say that our model is predicting well . I will go with AdaBoost  Classifier because it is predicting 80% accuracy after  cross validation and difference between accuracy score and cross validation score is minimum."
   ]
  },
  {
   "cell_type": "code",
   "execution_count": null,
   "id": "76406a3b",
   "metadata": {},
   "outputs": [],
   "source": []
  },
  {
   "cell_type": "markdown",
   "id": "af97317e",
   "metadata": {},
   "source": [
    "# HYPER PARAMETER TUNING OF MODEL\n"
   ]
  },
  {
   "cell_type": "code",
   "execution_count": 51,
   "id": "2336d61b",
   "metadata": {},
   "outputs": [
    {
     "name": "stdout",
     "output_type": "stream",
     "text": [
      "{'algorithm': 'SAMME'}\n",
      "0.8026422067552745\n"
     ]
    }
   ],
   "source": [
    "from sklearn import datasets\n",
    "from sklearn.model_selection import GridSearchCV\n",
    "\n",
    "ad=AdaBoostClassifier(n_estimators = 50, random_state=0)\n",
    "\n",
    "grid_param={'algorithm':['SAMME', 'SAMME.R']}\n",
    "           \n",
    "\n",
    "gd_sr=GridSearchCV(estimator=ad,\n",
    "                  param_grid=grid_param,\n",
    "                  scoring='accuracy',\n",
    "                  cv=5)\n",
    "\n",
    "gd_sr.fit(x,y)\n",
    "\n",
    "best_parameters =gd_sr.best_params_\n",
    "print(best_parameters)\n",
    "best_result=gd_sr.best_score_\n",
    "print(best_result)\n"
   ]
  },
  {
   "cell_type": "markdown",
   "id": "699b4d1f",
   "metadata": {},
   "source": [
    "# FINAL MODEL"
   ]
  },
  {
   "cell_type": "code",
   "execution_count": 53,
   "id": "a5ec92c6",
   "metadata": {},
   "outputs": [
    {
     "name": "stdout",
     "output_type": "stream",
     "text": [
      "79.48387096774194\n"
     ]
    }
   ],
   "source": [
    "\n",
    "final_mod=AdaBoostClassifier(algorithm='SAMME')\n",
    "final_mod.fit(x_train,y_train)\n",
    "pred=final_mod.predict(x_test)\n",
    "acc=accuracy_score(y_test,pred)\n",
    "print(acc*100)"
   ]
  },
  {
   "cell_type": "markdown",
   "id": "e4c0acad",
   "metadata": {},
   "source": [
    "After Hyper parameter tuning the accuracy score is 79.48%."
   ]
  },
  {
   "cell_type": "markdown",
   "id": "7af2a796",
   "metadata": {},
   "source": [
    "# SAVING THE MODEL"
   ]
  },
  {
   "cell_type": "code",
   "execution_count": 54,
   "id": "a3c94895",
   "metadata": {},
   "outputs": [],
   "source": [
    "import pickle\n",
    "filename='churns.pkl'\n",
    "pickle.dump(rf, open(filename, 'wb'))"
   ]
  },
  {
   "cell_type": "markdown",
   "id": "88b863a7",
   "metadata": {},
   "source": [
    "# CONCLUSION"
   ]
  },
  {
   "cell_type": "code",
   "execution_count": 58,
   "id": "890ccec4",
   "metadata": {},
   "outputs": [
    {
     "name": "stdout",
     "output_type": "stream",
     "text": [
      "0.7929032258064516\n"
     ]
    }
   ],
   "source": [
    "loaded_model=pickle.load(open('churns.pkl','rb'))\n",
    "result=loaded_model.score(x_test, y_test)\n",
    "print(result)"
   ]
  },
  {
   "cell_type": "markdown",
   "id": "b5ad86c5",
   "metadata": {},
   "source": [
    "Above predictions from the model , we can say that our model is performing  well, we are getting approx 79%% accuracy ."
   ]
  },
  {
   "cell_type": "code",
   "execution_count": null,
   "id": "dfc65b61",
   "metadata": {},
   "outputs": [],
   "source": []
  },
  {
   "cell_type": "markdown",
   "id": "f799eca2",
   "metadata": {},
   "source": [
    "With the help of MODEL , I learnt how to done EDA.\n",
    "\n",
    "I also learnt ,making use of packages like matplotlib and seaborn to develop better insights of the data.\n",
    "\n",
    "I have also learnt how to remove outliers and skewness to predict better accuracy.\n",
    "\n",
    "I have also seen the impacts on the columns on target columns..\n",
    "\n",
    "I came to know through the analysis ,which model will predict better accuracy.\n",
    "\n",
    "This project helped me to gain deep knowledge , and also get to know where to use models.\n",
    "\n"
   ]
  },
  {
   "cell_type": "code",
   "execution_count": null,
   "id": "e3cc0410",
   "metadata": {},
   "outputs": [],
   "source": []
  }
 ],
 "metadata": {
  "kernelspec": {
   "display_name": "Python 3",
   "language": "python",
   "name": "python3"
  },
  "language_info": {
   "codemirror_mode": {
    "name": "ipython",
    "version": 3
   },
   "file_extension": ".py",
   "mimetype": "text/x-python",
   "name": "python",
   "nbconvert_exporter": "python",
   "pygments_lexer": "ipython3",
   "version": "3.8.8"
  }
 },
 "nbformat": 4,
 "nbformat_minor": 5
}
