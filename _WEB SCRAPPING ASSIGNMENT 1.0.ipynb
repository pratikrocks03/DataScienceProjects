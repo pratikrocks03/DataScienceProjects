{
 "cells": [
  {
   "cell_type": "markdown",
   "id": "acf34be7",
   "metadata": {},
   "source": [
    "# 1)  python program to display all the header tags from ‘en.wikipedia.org/wiki/Main_Page’."
   ]
  },
  {
   "cell_type": "code",
   "execution_count": 1,
   "id": "6823e3dc",
   "metadata": {},
   "outputs": [
    {
     "name": "stdout",
     "output_type": "stream",
     "text": [
      "Requirement already satisfied: bs4 in c:\\programdata\\anaconda2\\lib\\site-packages (0.0.1)\n",
      "Requirement already satisfied: beautifulsoup4 in c:\\programdata\\anaconda2\\lib\\site-packages (from bs4) (4.9.3)\n",
      "Requirement already satisfied: soupsieve>1.2 in c:\\programdata\\anaconda2\\lib\\site-packages (from beautifulsoup4->bs4) (2.2.1)\n",
      "Requirement already satisfied: requests in c:\\programdata\\anaconda2\\lib\\site-packages (2.25.1)\n",
      "Requirement already satisfied: chardet<5,>=3.0.2 in c:\\programdata\\anaconda2\\lib\\site-packages (from requests) (4.0.0)\n",
      "Requirement already satisfied: urllib3<1.27,>=1.21.1 in c:\\programdata\\anaconda2\\lib\\site-packages (from requests) (1.26.4)\n",
      "Requirement already satisfied: certifi>=2017.4.17 in c:\\programdata\\anaconda2\\lib\\site-packages (from requests) (2020.12.5)\n",
      "Requirement already satisfied: idna<3,>=2.5 in c:\\programdata\\anaconda2\\lib\\site-packages (from requests) (2.10)\n"
     ]
    }
   ],
   "source": [
    "!pip install bs4\n",
    "!pip install requests"
   ]
  },
  {
   "cell_type": "markdown",
   "id": "7a61c8d0",
   "metadata": {},
   "source": [
    "IMPORTING LIBRARIES"
   ]
  },
  {
   "cell_type": "code",
   "execution_count": 2,
   "id": "5250d315",
   "metadata": {},
   "outputs": [],
   "source": [
    "from bs4 import BeautifulSoup \n",
    "import requests\n",
    "import pandas as pd\n",
    "import numpy as np"
   ]
  },
  {
   "cell_type": "code",
   "execution_count": null,
   "id": "99113918",
   "metadata": {},
   "outputs": [],
   "source": []
  },
  {
   "cell_type": "markdown",
   "id": "b0eb3d27",
   "metadata": {},
   "source": [
    "SENDING REQUESTS TO THE WEBPAGE"
   ]
  },
  {
   "cell_type": "code",
   "execution_count": 3,
   "id": "0274198d",
   "metadata": {},
   "outputs": [
    {
     "data": {
      "text/plain": [
       "<Response [200]>"
      ]
     },
     "execution_count": 3,
     "metadata": {},
     "output_type": "execute_result"
    }
   ],
   "source": [
    "page=requests.get('https://en.wikipedia.org/wiki/Main_Page?')\n",
    "page"
   ]
  },
  {
   "cell_type": "code",
   "execution_count": null,
   "id": "e8a7a978",
   "metadata": {},
   "outputs": [],
   "source": []
  },
  {
   "cell_type": "code",
   "execution_count": null,
   "id": "47981f4d",
   "metadata": {},
   "outputs": [],
   "source": []
  },
  {
   "cell_type": "markdown",
   "id": "7a0c3794",
   "metadata": {},
   "source": [
    "MODIFYING THE CONTENT IN SEQUENTIAL FORM"
   ]
  },
  {
   "cell_type": "code",
   "execution_count": 5,
   "id": "31c233f4",
   "metadata": {},
   "outputs": [],
   "source": [
    "soup=BeautifulSoup(page.content)\n",
    "\n"
   ]
  },
  {
   "cell_type": "code",
   "execution_count": null,
   "id": "8a851187",
   "metadata": {},
   "outputs": [],
   "source": []
  },
  {
   "cell_type": "markdown",
   "id": "ec6b960b",
   "metadata": {},
   "source": [
    "DISPLAYING HEADER TAGS"
   ]
  },
  {
   "cell_type": "code",
   "execution_count": 7,
   "id": "6d41ff2b",
   "metadata": {},
   "outputs": [],
   "source": [
    "soup=BeautifulSoup(page.text, 'html.parser')"
   ]
  },
  {
   "cell_type": "code",
   "execution_count": 8,
   "id": "5e10421c",
   "metadata": {},
   "outputs": [
    {
     "name": "stdout",
     "output_type": "stream",
     "text": [
      "<h1 class=\"firstHeading\" id=\"firstHeading\">Main Page</h1>\n",
      "<h2 class=\"mp-h2\" id=\"mp-tfa-h2\"><span id=\"From_today.27s_featured_article\"></span><span class=\"mw-headline\" id=\"From_today's_featured_article\">From today's featured article</span></h2>\n",
      "<h2 class=\"mp-h2\" id=\"mp-dyk-h2\"><span class=\"mw-headline\" id=\"Did_you_know_...\">Did you know ...</span></h2>\n",
      "<h2 class=\"mp-h2\" id=\"mp-itn-h2\"><span class=\"mw-headline\" id=\"In_the_news\">In the news</span></h2>\n",
      "<h2 class=\"mp-h2\" id=\"mp-otd-h2\"><span class=\"mw-headline\" id=\"On_this_day\">On this day</span></h2>\n",
      "<h2 class=\"mp-h2\" id=\"mp-tfp-h2\"><span id=\"Today.27s_featured_picture\"></span><span class=\"mw-headline\" id=\"Today's_featured_picture\">Today's featured picture</span></h2>\n",
      "<h2 class=\"mp-h2\" id=\"mp-other\"><span class=\"mw-headline\" id=\"Other_areas_of_Wikipedia\">Other areas of Wikipedia</span></h2>\n",
      "<h2 class=\"mp-h2\" id=\"mp-sister\"><span id=\"Wikipedia.27s_sister_projects\"></span><span class=\"mw-headline\" id=\"Wikipedia's_sister_projects\">Wikipedia's sister projects</span></h2>\n",
      "<h2 class=\"mp-h2\" id=\"mp-lang\"><span class=\"mw-headline\" id=\"Wikipedia_languages\">Wikipedia languages</span></h2>\n",
      "<h2>Navigation menu</h2>\n",
      "<h3 class=\"vector-menu-heading\" id=\"p-personal-label\">\n",
      "<span>Personal tools</span>\n",
      "</h3>\n",
      "<h3 class=\"vector-menu-heading\" id=\"p-namespaces-label\">\n",
      "<span>Namespaces</span>\n",
      "</h3>\n",
      "<h3 class=\"vector-menu-heading\" id=\"p-variants-label\">\n",
      "<span>Variants</span>\n",
      "</h3>\n",
      "<h3 class=\"vector-menu-heading\" id=\"p-views-label\">\n",
      "<span>Views</span>\n",
      "</h3>\n",
      "<h3 class=\"vector-menu-heading\" id=\"p-cactions-label\">\n",
      "<span>More</span>\n",
      "</h3>\n",
      "<h3>\n",
      "<label for=\"searchInput\">Search</label>\n",
      "</h3>\n",
      "<h3 class=\"vector-menu-heading\" id=\"p-navigation-label\">\n",
      "<span>Navigation</span>\n",
      "</h3>\n",
      "<h3 class=\"vector-menu-heading\" id=\"p-interaction-label\">\n",
      "<span>Contribute</span>\n",
      "</h3>\n",
      "<h3 class=\"vector-menu-heading\" id=\"p-tb-label\">\n",
      "<span>Tools</span>\n",
      "</h3>\n",
      "<h3 class=\"vector-menu-heading\" id=\"p-coll-print_export-label\">\n",
      "<span>Print/export</span>\n",
      "</h3>\n",
      "<h3 class=\"vector-menu-heading\" id=\"p-wikibase-otherprojects-label\">\n",
      "<span>In other projects</span>\n",
      "</h3>\n",
      "<h3 class=\"vector-menu-heading\" id=\"p-lang-label\">\n",
      "<span>Languages</span>\n",
      "</h3>\n"
     ]
    }
   ],
   "source": [
    "story=soup.find_all(['h1','h2','h3','h4'])\n",
    "\n",
    "for i in story:\n",
    "    print(i)"
   ]
  },
  {
   "cell_type": "code",
   "execution_count": 9,
   "id": "e2d62fa1",
   "metadata": {},
   "outputs": [
    {
     "name": "stdout",
     "output_type": "stream",
     "text": [
      "all the header tags:\n",
      "\n",
      "<h1 class=\"firstHeading\" id=\"firstHeading\">Main Page</h1>\n",
      "\n",
      "<h2 class=\"mp-h2\" id=\"mp-tfa-h2\"><span id=\"From_today.27s_featured_article\"></span><span class=\"mw-headline\" id=\"From_today's_featured_article\">From today's featured article</span></h2>\n",
      "\n",
      "<h2 class=\"mp-h2\" id=\"mp-dyk-h2\"><span class=\"mw-headline\" id=\"Did_you_know_...\">Did you know ...</span></h2>\n",
      "\n",
      "<h2 class=\"mp-h2\" id=\"mp-itn-h2\"><span class=\"mw-headline\" id=\"In_the_news\">In the news</span></h2>\n",
      "\n",
      "<h2 class=\"mp-h2\" id=\"mp-otd-h2\"><span class=\"mw-headline\" id=\"On_this_day\">On this day</span></h2>\n",
      "\n",
      "<h2 class=\"mp-h2\" id=\"mp-tfp-h2\"><span id=\"Today.27s_featured_picture\"></span><span class=\"mw-headline\" id=\"Today's_featured_picture\">Today's featured picture</span></h2>\n",
      "\n",
      "<h2 class=\"mp-h2\" id=\"mp-other\"><span class=\"mw-headline\" id=\"Other_areas_of_Wikipedia\">Other areas of Wikipedia</span></h2>\n",
      "\n",
      "<h2 class=\"mp-h2\" id=\"mp-sister\"><span id=\"Wikipedia.27s_sister_projects\"></span><span class=\"mw-headline\" id=\"Wikipedia's_sister_projects\">Wikipedia's sister projects</span></h2>\n",
      "\n",
      "<h2 class=\"mp-h2\" id=\"mp-lang\"><span class=\"mw-headline\" id=\"Wikipedia_languages\">Wikipedia languages</span></h2>\n",
      "\n",
      "<h2>Navigation menu</h2>\n",
      "\n",
      "<h3 class=\"vector-menu-heading\" id=\"p-personal-label\">\n",
      "<span>Personal tools</span>\n",
      "</h3>\n",
      "\n",
      "<h3 class=\"vector-menu-heading\" id=\"p-namespaces-label\">\n",
      "<span>Namespaces</span>\n",
      "</h3>\n",
      "\n",
      "<h3 class=\"vector-menu-heading\" id=\"p-variants-label\">\n",
      "<span>Variants</span>\n",
      "</h3>\n",
      "\n",
      "<h3 class=\"vector-menu-heading\" id=\"p-views-label\">\n",
      "<span>Views</span>\n",
      "</h3>\n",
      "\n",
      "<h3 class=\"vector-menu-heading\" id=\"p-cactions-label\">\n",
      "<span>More</span>\n",
      "</h3>\n",
      "\n",
      "<h3>\n",
      "<label for=\"searchInput\">Search</label>\n",
      "</h3>\n",
      "\n",
      "<h3 class=\"vector-menu-heading\" id=\"p-navigation-label\">\n",
      "<span>Navigation</span>\n",
      "</h3>\n",
      "\n",
      "<h3 class=\"vector-menu-heading\" id=\"p-interaction-label\">\n",
      "<span>Contribute</span>\n",
      "</h3>\n",
      "\n",
      "<h3 class=\"vector-menu-heading\" id=\"p-tb-label\">\n",
      "<span>Tools</span>\n",
      "</h3>\n",
      "\n",
      "<h3 class=\"vector-menu-heading\" id=\"p-coll-print_export-label\">\n",
      "<span>Print/export</span>\n",
      "</h3>\n",
      "\n",
      "<h3 class=\"vector-menu-heading\" id=\"p-wikibase-otherprojects-label\">\n",
      "<span>In other projects</span>\n",
      "</h3>\n",
      "\n",
      "<h3 class=\"vector-menu-heading\" id=\"p-lang-label\">\n",
      "<span>Languages</span>\n",
      "</h3>\n"
     ]
    }
   ],
   "source": [
    "print('all the header tags:', *story, sep='\\n\\n')"
   ]
  },
  {
   "cell_type": "markdown",
   "id": "96aa9bce",
   "metadata": {},
   "source": [
    "dispalying the header tags from website https://en.wikipedia.org/wiki/Main_Page"
   ]
  },
  {
   "cell_type": "code",
   "execution_count": null,
   "id": "8f599869",
   "metadata": {},
   "outputs": [],
   "source": []
  },
  {
   "cell_type": "markdown",
   "id": "0b9b36d8",
   "metadata": {},
   "source": [
    "# 2) IMDB’s Top rated 100  movies"
   ]
  },
  {
   "cell_type": "code",
   "execution_count": 388,
   "id": "095bba65",
   "metadata": {},
   "outputs": [],
   "source": [
    "url='https://www.imdb.com/list/ls091520106/?sort=user_rating,desc&st_dt=&mode=detail&page=1'\n",
    "response=requests.get(url)\n",
    "soup=BeautifulSoup(response.content,'html.parser')"
   ]
  },
  {
   "cell_type": "code",
   "execution_count": 389,
   "id": "52647762",
   "metadata": {},
   "outputs": [],
   "source": [
    "movie=[]\n",
    "year=[]\n",
    "rating=[]"
   ]
  },
  {
   "cell_type": "code",
   "execution_count": 390,
   "id": "c9989ba7",
   "metadata": {},
   "outputs": [],
   "source": [
    "movie_data=soup.findAll('div',class_='lister-item mode-detail')"
   ]
  },
  {
   "cell_type": "code",
   "execution_count": 391,
   "id": "95d047d4",
   "metadata": {},
   "outputs": [],
   "source": [
    "for store in movie_data:\n",
    "    name=store.h3.a.text\n",
    "    movie.append(name)\n",
    "    year_of_relese=store.h3.find('span', class_='lister-item-year text-muted unbold').text\n",
    "    year.append(year_of_relese)\n",
    "    rate=store.find('span', class_='ipl-rating-star__rating').text.replace('\\n', '')\n",
    "    rating.append(rate)\n",
    "    "
   ]
  },
  {
   "cell_type": "code",
   "execution_count": 392,
   "id": "286af5d6",
   "metadata": {},
   "outputs": [],
   "source": [
    "df_=pd.DataFrame({'Name of movie':movie,'Year of relese':year, 'Ratings':rating})"
   ]
  },
  {
   "cell_type": "code",
   "execution_count": 393,
   "id": "3899fdc0",
   "metadata": {},
   "outputs": [
    {
     "data": {
      "text/html": [
       "<div>\n",
       "<style scoped>\n",
       "    .dataframe tbody tr th:only-of-type {\n",
       "        vertical-align: middle;\n",
       "    }\n",
       "\n",
       "    .dataframe tbody tr th {\n",
       "        vertical-align: top;\n",
       "    }\n",
       "\n",
       "    .dataframe thead th {\n",
       "        text-align: right;\n",
       "    }\n",
       "</style>\n",
       "<table border=\"1\" class=\"dataframe\">\n",
       "  <thead>\n",
       "    <tr style=\"text-align: right;\">\n",
       "      <th></th>\n",
       "      <th>Name of movie</th>\n",
       "      <th>Year of relese</th>\n",
       "      <th>Ratings</th>\n",
       "    </tr>\n",
       "  </thead>\n",
       "  <tbody>\n",
       "    <tr>\n",
       "      <th>0</th>\n",
       "      <td>The Shawshank Redemption</td>\n",
       "      <td>(1994)</td>\n",
       "      <td>9.3</td>\n",
       "    </tr>\n",
       "    <tr>\n",
       "      <th>1</th>\n",
       "      <td>The Godfather</td>\n",
       "      <td>(1972)</td>\n",
       "      <td>9.2</td>\n",
       "    </tr>\n",
       "    <tr>\n",
       "      <th>2</th>\n",
       "      <td>The Dark Knight</td>\n",
       "      <td>(2008)</td>\n",
       "      <td>9</td>\n",
       "    </tr>\n",
       "    <tr>\n",
       "      <th>3</th>\n",
       "      <td>The Godfather: Part II</td>\n",
       "      <td>(1974)</td>\n",
       "      <td>9</td>\n",
       "    </tr>\n",
       "    <tr>\n",
       "      <th>4</th>\n",
       "      <td>12 Angry Men</td>\n",
       "      <td>(1957)</td>\n",
       "      <td>9</td>\n",
       "    </tr>\n",
       "    <tr>\n",
       "      <th>...</th>\n",
       "      <td>...</td>\n",
       "      <td>...</td>\n",
       "      <td>...</td>\n",
       "    </tr>\n",
       "    <tr>\n",
       "      <th>95</th>\n",
       "      <td>Vertigo</td>\n",
       "      <td>(1958)</td>\n",
       "      <td>8.3</td>\n",
       "    </tr>\n",
       "    <tr>\n",
       "      <th>96</th>\n",
       "      <td>North by Northwest</td>\n",
       "      <td>(1959)</td>\n",
       "      <td>8.3</td>\n",
       "    </tr>\n",
       "    <tr>\n",
       "      <th>97</th>\n",
       "      <td>Das Boot</td>\n",
       "      <td>(1981)</td>\n",
       "      <td>8.3</td>\n",
       "    </tr>\n",
       "    <tr>\n",
       "      <th>98</th>\n",
       "      <td>M - Eine Stadt sucht einen Mörder</td>\n",
       "      <td>(1931)</td>\n",
       "      <td>8.3</td>\n",
       "    </tr>\n",
       "    <tr>\n",
       "      <th>99</th>\n",
       "      <td>The Kid</td>\n",
       "      <td>(1921)</td>\n",
       "      <td>8.3</td>\n",
       "    </tr>\n",
       "  </tbody>\n",
       "</table>\n",
       "<p>100 rows × 3 columns</p>\n",
       "</div>"
      ],
      "text/plain": [
       "                        Name of movie Year of relese Ratings\n",
       "0            The Shawshank Redemption         (1994)     9.3\n",
       "1                       The Godfather         (1972)     9.2\n",
       "2                     The Dark Knight         (2008)       9\n",
       "3              The Godfather: Part II         (1974)       9\n",
       "4                        12 Angry Men         (1957)       9\n",
       "..                                ...            ...     ...\n",
       "95                            Vertigo         (1958)     8.3\n",
       "96                 North by Northwest         (1959)     8.3\n",
       "97                           Das Boot         (1981)     8.3\n",
       "98  M - Eine Stadt sucht einen Mörder         (1931)     8.3\n",
       "99                            The Kid         (1921)     8.3\n",
       "\n",
       "[100 rows x 3 columns]"
      ]
     },
     "execution_count": 393,
     "metadata": {},
     "output_type": "execute_result"
    }
   ],
   "source": [
    "df_"
   ]
  },
  {
   "cell_type": "markdown",
   "id": "52271175",
   "metadata": {},
   "source": [
    "Here is the list of  IMDB’s Top rated 100 movies"
   ]
  },
  {
   "cell_type": "code",
   "execution_count": null,
   "id": "1e392ed5",
   "metadata": {},
   "outputs": [],
   "source": []
  },
  {
   "cell_type": "code",
   "execution_count": 16,
   "id": "47f91dea",
   "metadata": {},
   "outputs": [
    {
     "data": {
      "text/plain": [
       "['Movies_list.csv']"
      ]
     },
     "execution_count": 16,
     "metadata": {},
     "output_type": "execute_result"
    }
   ],
   "source": [
    "#saving the list\n",
    "import joblib\n",
    "joblib.dump(df,'Movies_list.csv')"
   ]
  },
  {
   "cell_type": "code",
   "execution_count": null,
   "id": "fc7ec9ce",
   "metadata": {},
   "outputs": [],
   "source": []
  },
  {
   "cell_type": "code",
   "execution_count": null,
   "id": "3aa1d232",
   "metadata": {},
   "outputs": [],
   "source": []
  },
  {
   "cell_type": "markdown",
   "id": "ec9775fa",
   "metadata": {},
   "source": [
    "# 3) IMDB’s Top rated 100 Indian movies"
   ]
  },
  {
   "cell_type": "code",
   "execution_count": 17,
   "id": "ce7ba342",
   "metadata": {},
   "outputs": [],
   "source": [
    "url='https://www.imdb.com/list/ls056092300/'\n",
    "response=requests.get(url)\n",
    "soup=BeautifulSoup(response.content,'html.parser')"
   ]
  },
  {
   "cell_type": "code",
   "execution_count": 18,
   "id": "f26789d8",
   "metadata": {},
   "outputs": [],
   "source": [
    "movie=[]\n",
    "year=[]\n",
    "rating=[]"
   ]
  },
  {
   "cell_type": "code",
   "execution_count": 19,
   "id": "31aaa3dc",
   "metadata": {},
   "outputs": [],
   "source": [
    "movie_data=soup.findAll('div',class_='lister-item mode-detail')"
   ]
  },
  {
   "cell_type": "code",
   "execution_count": 20,
   "id": "d73c63d4",
   "metadata": {},
   "outputs": [],
   "source": [
    "for store in movie_data:\n",
    "    name=store.h3.a.text\n",
    "    movie.append(name)\n",
    "    year_of_relese=store.h3.find('span', class_='lister-item-year text-muted unbold').text\n",
    "    year.append(year_of_relese)\n",
    "    rate=store.find('span', class_='ipl-rating-star__rating').text.replace('\\n', '')\n",
    "    rating.append(rate)\n",
    "    "
   ]
  },
  {
   "cell_type": "code",
   "execution_count": 21,
   "id": "21c3e8f4",
   "metadata": {},
   "outputs": [],
   "source": [
    "df=pd.DataFrame({'Name of movie':movie,'Year of relese':year, 'Ratings':rating})"
   ]
  },
  {
   "cell_type": "code",
   "execution_count": 22,
   "id": "8d2c0770",
   "metadata": {},
   "outputs": [
    {
     "data": {
      "text/html": [
       "<div>\n",
       "<style scoped>\n",
       "    .dataframe tbody tr th:only-of-type {\n",
       "        vertical-align: middle;\n",
       "    }\n",
       "\n",
       "    .dataframe tbody tr th {\n",
       "        vertical-align: top;\n",
       "    }\n",
       "\n",
       "    .dataframe thead th {\n",
       "        text-align: right;\n",
       "    }\n",
       "</style>\n",
       "<table border=\"1\" class=\"dataframe\">\n",
       "  <thead>\n",
       "    <tr style=\"text-align: right;\">\n",
       "      <th></th>\n",
       "      <th>Name of movie</th>\n",
       "      <th>Year of relese</th>\n",
       "      <th>Ratings</th>\n",
       "    </tr>\n",
       "  </thead>\n",
       "  <tbody>\n",
       "    <tr>\n",
       "      <th>0</th>\n",
       "      <td>Ship of Theseus</td>\n",
       "      <td>(2012)</td>\n",
       "      <td>8.1</td>\n",
       "    </tr>\n",
       "    <tr>\n",
       "      <th>1</th>\n",
       "      <td>Iruvar</td>\n",
       "      <td>(1997)</td>\n",
       "      <td>8.5</td>\n",
       "    </tr>\n",
       "    <tr>\n",
       "      <th>2</th>\n",
       "      <td>Kaagaz Ke Phool</td>\n",
       "      <td>(1959)</td>\n",
       "      <td>8</td>\n",
       "    </tr>\n",
       "    <tr>\n",
       "      <th>3</th>\n",
       "      <td>Lagaan: Once Upon a Time in India</td>\n",
       "      <td>(2001)</td>\n",
       "      <td>8.1</td>\n",
       "    </tr>\n",
       "    <tr>\n",
       "      <th>4</th>\n",
       "      <td>Pather Panchali</td>\n",
       "      <td>(1955)</td>\n",
       "      <td>8.6</td>\n",
       "    </tr>\n",
       "    <tr>\n",
       "      <th>...</th>\n",
       "      <td>...</td>\n",
       "      <td>...</td>\n",
       "      <td>...</td>\n",
       "    </tr>\n",
       "    <tr>\n",
       "      <th>95</th>\n",
       "      <td>Apur Sansar</td>\n",
       "      <td>(1959)</td>\n",
       "      <td>8.5</td>\n",
       "    </tr>\n",
       "    <tr>\n",
       "      <th>96</th>\n",
       "      <td>Kanchivaram</td>\n",
       "      <td>(2008)</td>\n",
       "      <td>8.1</td>\n",
       "    </tr>\n",
       "    <tr>\n",
       "      <th>97</th>\n",
       "      <td>Monsoon Wedding</td>\n",
       "      <td>(2001)</td>\n",
       "      <td>7.4</td>\n",
       "    </tr>\n",
       "    <tr>\n",
       "      <th>98</th>\n",
       "      <td>Black</td>\n",
       "      <td>(2005)</td>\n",
       "      <td>8.2</td>\n",
       "    </tr>\n",
       "    <tr>\n",
       "      <th>99</th>\n",
       "      <td>Deewaar</td>\n",
       "      <td>(1975)</td>\n",
       "      <td>8.1</td>\n",
       "    </tr>\n",
       "  </tbody>\n",
       "</table>\n",
       "<p>100 rows × 3 columns</p>\n",
       "</div>"
      ],
      "text/plain": [
       "                        Name of movie Year of relese Ratings\n",
       "0                     Ship of Theseus         (2012)     8.1\n",
       "1                              Iruvar         (1997)     8.5\n",
       "2                     Kaagaz Ke Phool         (1959)       8\n",
       "3   Lagaan: Once Upon a Time in India         (2001)     8.1\n",
       "4                     Pather Panchali         (1955)     8.6\n",
       "..                                ...            ...     ...\n",
       "95                        Apur Sansar         (1959)     8.5\n",
       "96                        Kanchivaram         (2008)     8.1\n",
       "97                    Monsoon Wedding         (2001)     7.4\n",
       "98                              Black         (2005)     8.2\n",
       "99                            Deewaar         (1975)     8.1\n",
       "\n",
       "[100 rows x 3 columns]"
      ]
     },
     "execution_count": 22,
     "metadata": {},
     "output_type": "execute_result"
    }
   ],
   "source": [
    "df"
   ]
  },
  {
   "cell_type": "markdown",
   "id": "2b1a7370",
   "metadata": {},
   "source": [
    "Here is the list of IMDB’s Top rated 100 indian movies"
   ]
  },
  {
   "cell_type": "code",
   "execution_count": 23,
   "id": "1da869c5",
   "metadata": {},
   "outputs": [
    {
     "data": {
      "text/plain": [
       "['Indian_movies.csv']"
      ]
     },
     "execution_count": 23,
     "metadata": {},
     "output_type": "execute_result"
    }
   ],
   "source": [
    "#saving the list\n",
    "\n",
    "#saving the list\n",
    "import joblib\n",
    "joblib.dump(df,'Indian_movies.csv')"
   ]
  },
  {
   "cell_type": "code",
   "execution_count": null,
   "id": "282f4671",
   "metadata": {},
   "outputs": [],
   "source": []
  },
  {
   "cell_type": "code",
   "execution_count": null,
   "id": "84cac494",
   "metadata": {},
   "outputs": [],
   "source": []
  },
  {
   "cell_type": "markdown",
   "id": "21540279",
   "metadata": {},
   "source": [
    "# 4). 5 books from \n",
    "‘www.bookpage.com’"
   ]
  },
  {
   "cell_type": "code",
   "execution_count": 32,
   "id": "7d119bf5",
   "metadata": {},
   "outputs": [
    {
     "data": {
      "text/plain": [
       "<Response [200]>"
      ]
     },
     "execution_count": 32,
     "metadata": {},
     "output_type": "execute_result"
    }
   ],
   "source": [
    "page=requests.get('https://bookpage.com/reviews')\n",
    "\n",
    "page"
   ]
  },
  {
   "cell_type": "code",
   "execution_count": 214,
   "id": "76158d45",
   "metadata": {},
   "outputs": [],
   "source": [
    "soup=BeautifulSoup(page.content)\n"
   ]
  },
  {
   "cell_type": "code",
   "execution_count": null,
   "id": "ff64b04f",
   "metadata": {},
   "outputs": [],
   "source": []
  },
  {
   "cell_type": "code",
   "execution_count": null,
   "id": "2b3d67e8",
   "metadata": {},
   "outputs": [],
   "source": []
  },
  {
   "cell_type": "markdown",
   "id": "e7f65749",
   "metadata": {},
   "source": [
    "BOOKS TITLE"
   ]
  },
  {
   "cell_type": "code",
   "execution_count": 215,
   "id": "1e0096ae",
   "metadata": {},
   "outputs": [],
   "source": [
    "books=soup.find_all('h4',class_='italic')\n"
   ]
  },
  {
   "cell_type": "code",
   "execution_count": 52,
   "id": "c545fd83",
   "metadata": {},
   "outputs": [
    {
     "data": {
      "text/plain": [
       "['You People',\n",
       " ' ★ Ship in a Bottle',\n",
       " 'Tokyo Ever After',\n",
       " 'The Kingdoms',\n",
       " 'New Yorkers']"
      ]
     },
     "execution_count": 52,
     "metadata": {},
     "output_type": "execute_result"
    }
   ],
   "source": [
    "books_name=[]\n",
    "for i in books:\n",
    "    books_name.append(i.text.replace('\\n',''))\n",
    "books_name[:5]    "
   ]
  },
  {
   "cell_type": "code",
   "execution_count": null,
   "id": "1f5eb7aa",
   "metadata": {},
   "outputs": [],
   "source": []
  },
  {
   "cell_type": "code",
   "execution_count": null,
   "id": "d7d605b2",
   "metadata": {},
   "outputs": [],
   "source": []
  },
  {
   "cell_type": "markdown",
   "id": "c3c210f5",
   "metadata": {},
   "source": [
    "AUTHORS OF THE BOOK"
   ]
  },
  {
   "cell_type": "code",
   "execution_count": 216,
   "id": "cbe72874",
   "metadata": {},
   "outputs": [],
   "source": [
    "books_author=soup.find_all('p',class_='sans bold')\n"
   ]
  },
  {
   "cell_type": "code",
   "execution_count": 54,
   "id": "1b0e1f0d",
   "metadata": {},
   "outputs": [
    {
     "data": {
      "text/plain": [
       "['Nikita Lalwani',\n",
       " 'Andrew Prahin',\n",
       " 'Emiko Jean',\n",
       " 'Natasha Pulley',\n",
       " 'Craig Taylor, Cast']"
      ]
     },
     "execution_count": 54,
     "metadata": {},
     "output_type": "execute_result"
    }
   ],
   "source": [
    "books_authors=[]\n",
    "for i in books_author:\n",
    "    books_authors.append(i.text.replace('\\n',''))\n",
    "books_authors[:5]    "
   ]
  },
  {
   "cell_type": "code",
   "execution_count": null,
   "id": "f360e2d4",
   "metadata": {},
   "outputs": [],
   "source": []
  },
  {
   "cell_type": "markdown",
   "id": "4b5ac196",
   "metadata": {},
   "source": [
    "GENRE OF THE BOOKS"
   ]
  },
  {
   "cell_type": "code",
   "execution_count": 217,
   "id": "d723b898",
   "metadata": {},
   "outputs": [],
   "source": [
    "genre=soup.find_all('p',class_='genre-links hidden-phone')\n"
   ]
  },
  {
   "cell_type": "code",
   "execution_count": 58,
   "id": "6e2da6fc",
   "metadata": {},
   "outputs": [
    {
     "data": {
      "text/plain": [
       "['Fiction / Literary Fiction',\n",
       " \"Children's / Children's Picture Book\",\n",
       " 'YA / YA Fiction',\n",
       " 'Fiction / Speculative Fiction',\n",
       " 'Audio / Nonfiction / Culture']"
      ]
     },
     "execution_count": 58,
     "metadata": {},
     "output_type": "execute_result"
    }
   ],
   "source": [
    "books_genre=[]\n",
    "for i in genre:\n",
    "    books_genre.append(i.text.replace('\\n',''))\n",
    "books_genre[:5]    "
   ]
  },
  {
   "cell_type": "code",
   "execution_count": null,
   "id": "13a34204",
   "metadata": {},
   "outputs": [],
   "source": []
  },
  {
   "cell_type": "markdown",
   "id": "af68bb7c",
   "metadata": {},
   "source": [
    "REVIEWS"
   ]
  },
  {
   "cell_type": "code",
   "execution_count": 218,
   "id": "f730f052",
   "metadata": {},
   "outputs": [],
   "source": [
    "book_review=soup.find_all('p',class_='excerpt')\n"
   ]
  },
  {
   "cell_type": "code",
   "execution_count": 60,
   "id": "8e4e9349",
   "metadata": {},
   "outputs": [
    {
     "data": {
      "text/plain": [
       "[\"Nikita Lalwani's magical novel invites us to ponder generosity and human kindness.\",\n",
       " '',\n",
       " '',\n",
       " 'Natasha Pulley balances the topsy-turvy nature of time travel by grounding her story in naval history and a gradually unfolding queer love story.',\n",
       " '“This city barged into conversations,” Craig Taylor says about New Yorkers. With that kind of attitude, you’ll have no choice but to listen in.']"
      ]
     },
     "execution_count": 60,
     "metadata": {},
     "output_type": "execute_result"
    }
   ],
   "source": [
    "Reviews=[]\n",
    "for i in book_review:\n",
    "    Reviews.append(i.text.replace('\\n',''))\n",
    "Reviews[:5]    "
   ]
  },
  {
   "cell_type": "code",
   "execution_count": null,
   "id": "c61e0ec8",
   "metadata": {},
   "outputs": [],
   "source": []
  },
  {
   "cell_type": "code",
   "execution_count": 61,
   "id": "cbe5a2e7",
   "metadata": {},
   "outputs": [],
   "source": [
    "Books_data=pd.DataFrame({})\n",
    "Books_data['Name']=books_name\n",
    "Books_data['Authors']=books_authors\n",
    "Books_data['Genre']=books_genre\n",
    "Books_data['Reviews.']=Reviews"
   ]
  },
  {
   "cell_type": "code",
   "execution_count": 63,
   "id": "0053a338",
   "metadata": {},
   "outputs": [
    {
     "data": {
      "text/html": [
       "<div>\n",
       "<style scoped>\n",
       "    .dataframe tbody tr th:only-of-type {\n",
       "        vertical-align: middle;\n",
       "    }\n",
       "\n",
       "    .dataframe tbody tr th {\n",
       "        vertical-align: top;\n",
       "    }\n",
       "\n",
       "    .dataframe thead th {\n",
       "        text-align: right;\n",
       "    }\n",
       "</style>\n",
       "<table border=\"1\" class=\"dataframe\">\n",
       "  <thead>\n",
       "    <tr style=\"text-align: right;\">\n",
       "      <th></th>\n",
       "      <th>Name</th>\n",
       "      <th>Authors</th>\n",
       "      <th>Genre</th>\n",
       "      <th>Reviews.</th>\n",
       "    </tr>\n",
       "  </thead>\n",
       "  <tbody>\n",
       "    <tr>\n",
       "      <th>0</th>\n",
       "      <td>You People</td>\n",
       "      <td>Nikita Lalwani</td>\n",
       "      <td>Fiction / Literary Fiction</td>\n",
       "      <td>Nikita Lalwani's magical novel invites us to p...</td>\n",
       "    </tr>\n",
       "    <tr>\n",
       "      <th>1</th>\n",
       "      <td>★ Ship in a Bottle</td>\n",
       "      <td>Andrew Prahin</td>\n",
       "      <td>Children's / Children's Picture Book</td>\n",
       "      <td></td>\n",
       "    </tr>\n",
       "    <tr>\n",
       "      <th>2</th>\n",
       "      <td>Tokyo Ever After</td>\n",
       "      <td>Emiko Jean</td>\n",
       "      <td>YA / YA Fiction</td>\n",
       "      <td></td>\n",
       "    </tr>\n",
       "    <tr>\n",
       "      <th>3</th>\n",
       "      <td>The Kingdoms</td>\n",
       "      <td>Natasha Pulley</td>\n",
       "      <td>Fiction / Speculative Fiction</td>\n",
       "      <td>Natasha Pulley balances the topsy-turvy nature...</td>\n",
       "    </tr>\n",
       "    <tr>\n",
       "      <th>4</th>\n",
       "      <td>New Yorkers</td>\n",
       "      <td>Craig Taylor, Cast</td>\n",
       "      <td>Audio / Nonfiction / Culture</td>\n",
       "      <td>“This city barged into conversations,” Craig T...</td>\n",
       "    </tr>\n",
       "  </tbody>\n",
       "</table>\n",
       "</div>"
      ],
      "text/plain": [
       "                  Name             Authors  \\\n",
       "0           You People      Nikita Lalwani   \n",
       "1   ★ Ship in a Bottle       Andrew Prahin   \n",
       "2     Tokyo Ever After          Emiko Jean   \n",
       "3         The Kingdoms      Natasha Pulley   \n",
       "4          New Yorkers  Craig Taylor, Cast   \n",
       "\n",
       "                                  Genre  \\\n",
       "0            Fiction / Literary Fiction   \n",
       "1  Children's / Children's Picture Book   \n",
       "2                       YA / YA Fiction   \n",
       "3         Fiction / Speculative Fiction   \n",
       "4          Audio / Nonfiction / Culture   \n",
       "\n",
       "                                            Reviews.  \n",
       "0  Nikita Lalwani's magical novel invites us to p...  \n",
       "1                                                     \n",
       "2                                                     \n",
       "3  Natasha Pulley balances the topsy-turvy nature...  \n",
       "4  “This city barged into conversations,” Craig T...  "
      ]
     },
     "execution_count": 63,
     "metadata": {},
     "output_type": "execute_result"
    }
   ],
   "source": [
    "Books_data[:5]"
   ]
  },
  {
   "cell_type": "markdown",
   "id": "8fcb4c34",
   "metadata": {},
   "source": [
    "Books data with Name ,authors ,Genre and Reviews"
   ]
  },
  {
   "cell_type": "code",
   "execution_count": null,
   "id": "5f269b77",
   "metadata": {},
   "outputs": [],
   "source": []
  },
  {
   "cell_type": "code",
   "execution_count": null,
   "id": "ef9292a5",
   "metadata": {},
   "outputs": [],
   "source": []
  },
  {
   "cell_type": "markdown",
   "id": "7d890b55",
   "metadata": {},
   "source": [
    "# 5.i) Top 10 ODI teams in men’s cricket teams"
   ]
  },
  {
   "cell_type": "code",
   "execution_count": 64,
   "id": "50433f71",
   "metadata": {},
   "outputs": [
    {
     "data": {
      "text/plain": [
       "<Response [200]>"
      ]
     },
     "execution_count": 64,
     "metadata": {},
     "output_type": "execute_result"
    }
   ],
   "source": [
    "page=requests.get('https://www.icc-cricket.com/rankings/mens/team-rankings/odi')\n",
    "\n",
    "page"
   ]
  },
  {
   "cell_type": "code",
   "execution_count": 129,
   "id": "7a70b85d",
   "metadata": {},
   "outputs": [],
   "source": [
    "soup=BeautifulSoup(page.content)\n"
   ]
  },
  {
   "cell_type": "code",
   "execution_count": null,
   "id": "25ef2a41",
   "metadata": {},
   "outputs": [],
   "source": []
  },
  {
   "cell_type": "markdown",
   "id": "1de7e616",
   "metadata": {},
   "source": [
    "TOP 10 ODI TEAMS"
   ]
  },
  {
   "cell_type": "code",
   "execution_count": 187,
   "id": "249cad55",
   "metadata": {},
   "outputs": [
    {
     "data": {
      "text/plain": [
       "['New Zealand',\n",
       " 'Australia',\n",
       " 'India',\n",
       " 'England',\n",
       " 'South Africa',\n",
       " 'Pakistan',\n",
       " 'Bangladesh',\n",
       " 'West Indies',\n",
       " 'Sri Lanka',\n",
       " 'Afghanistan']"
      ]
     },
     "execution_count": 187,
     "metadata": {},
     "output_type": "execute_result"
    }
   ],
   "source": [
    "odi_teams=soup.find_all('span',class_='u-hide-phablet')\n",
    "\n",
    "Teams=[]\n",
    "for i in odi_teams:\n",
    "    Teams.append(i.text.replace('\\n',''))\n",
    "Teams[:10]    "
   ]
  },
  {
   "cell_type": "markdown",
   "id": "cf55133b",
   "metadata": {},
   "source": [
    "TOP 10 ODI TEAMS's MATCHES"
   ]
  },
  {
   "cell_type": "code",
   "execution_count": 188,
   "id": "9c64856a",
   "metadata": {},
   "outputs": [
    {
     "data": {
      "text/plain": [
       "['25', '2,945', '29', '3,344', '27', '3,100', '20', '2,137', '24', '2,323']"
      ]
     },
     "execution_count": 188,
     "metadata": {},
     "output_type": "execute_result"
    }
   ],
   "source": [
    "odi_matches=soup.find_all('td',class_='table-body__cell u-center-text')\n",
    "\n",
    "Matches=[]\n",
    "for i in odi_matches:\n",
    "    Matches.append(i.text.replace('\\n',''))\n",
    "Matches[:10]    "
   ]
  },
  {
   "cell_type": "markdown",
   "id": "ea5bc33a",
   "metadata": {},
   "source": [
    "\n",
    "TOP 10 ODI TEAM's POINTS"
   ]
  },
  {
   "cell_type": "code",
   "execution_count": 182,
   "id": "17bb9bda",
   "metadata": {},
   "outputs": [
    {
     "data": {
      "text/plain": [
       "['25', '2,945', '29', '3,344', '27', '3,100', '20', '2,137', '24', '2,323']"
      ]
     },
     "execution_count": 182,
     "metadata": {},
     "output_type": "execute_result"
    }
   ],
   "source": [
    "odi_points=soup.find_all('td',class_='table-body__cell u-center-text')\n",
    "\n",
    "\n",
    "Points=[]\n",
    "for i in odi_points:\n",
    "    Points.append(i.text.replace('\\n',''))\n",
    "Points[:10]    "
   ]
  },
  {
   "cell_type": "markdown",
   "id": "e4ac851a",
   "metadata": {},
   "source": [
    "\n",
    "TOP 10 ODI TEAM's RATINGS"
   ]
  },
  {
   "cell_type": "code",
   "execution_count": 183,
   "id": "c987c3a1",
   "metadata": {},
   "outputs": [
    {
     "data": {
      "text/plain": [
       "['118', '115', '115', '107', '97', '91', '82', '77', '62', '45']"
      ]
     },
     "execution_count": 183,
     "metadata": {},
     "output_type": "execute_result"
    }
   ],
   "source": [
    "odi_ratings=soup.find_all('td',class_='table-body__cell u-text-right rating')\n",
    "\n",
    "\n",
    "Ratings=[]\n",
    "for i in odi_ratings:\n",
    "    Ratings.append(i.text.replace('\\n',''))\n",
    "Ratings[:10]    "
   ]
  },
  {
   "cell_type": "markdown",
   "id": "5229f6b8",
   "metadata": {},
   "source": [
    "TOP TEN ODI TEAMS DETAIL"
   ]
  },
  {
   "cell_type": "code",
   "execution_count": 184,
   "id": "153d0313",
   "metadata": {},
   "outputs": [
    {
     "data": {
      "text/html": [
       "<div>\n",
       "<style scoped>\n",
       "    .dataframe tbody tr th:only-of-type {\n",
       "        vertical-align: middle;\n",
       "    }\n",
       "\n",
       "    .dataframe tbody tr th {\n",
       "        vertical-align: top;\n",
       "    }\n",
       "\n",
       "    .dataframe thead th {\n",
       "        text-align: right;\n",
       "    }\n",
       "</style>\n",
       "<table border=\"1\" class=\"dataframe\">\n",
       "  <thead>\n",
       "    <tr style=\"text-align: right;\">\n",
       "      <th></th>\n",
       "      <th>TEAMS</th>\n",
       "      <th>MATCHES</th>\n",
       "      <th>POINTS</th>\n",
       "      <th>RATINGS</th>\n",
       "    </tr>\n",
       "  </thead>\n",
       "  <tbody>\n",
       "    <tr>\n",
       "      <th>0</th>\n",
       "      <td>[New Zealand]</td>\n",
       "      <td>[25]</td>\n",
       "      <td>[25]</td>\n",
       "      <td>[118]</td>\n",
       "    </tr>\n",
       "    <tr>\n",
       "      <th>1</th>\n",
       "      <td>[Australia]</td>\n",
       "      <td>[2,945]</td>\n",
       "      <td>[2,945]</td>\n",
       "      <td>[115]</td>\n",
       "    </tr>\n",
       "    <tr>\n",
       "      <th>2</th>\n",
       "      <td>[India]</td>\n",
       "      <td>[29]</td>\n",
       "      <td>[29]</td>\n",
       "      <td>[115]</td>\n",
       "    </tr>\n",
       "    <tr>\n",
       "      <th>3</th>\n",
       "      <td>[England]</td>\n",
       "      <td>[3,344]</td>\n",
       "      <td>[3,344]</td>\n",
       "      <td>[107]</td>\n",
       "    </tr>\n",
       "    <tr>\n",
       "      <th>4</th>\n",
       "      <td>[South Africa]</td>\n",
       "      <td>[27]</td>\n",
       "      <td>[27]</td>\n",
       "      <td>[97]</td>\n",
       "    </tr>\n",
       "    <tr>\n",
       "      <th>5</th>\n",
       "      <td>[Pakistan]</td>\n",
       "      <td>[3,100]</td>\n",
       "      <td>[3,100]</td>\n",
       "      <td>[91]</td>\n",
       "    </tr>\n",
       "    <tr>\n",
       "      <th>6</th>\n",
       "      <td>[Bangladesh]</td>\n",
       "      <td>[20]</td>\n",
       "      <td>[20]</td>\n",
       "      <td>[82]</td>\n",
       "    </tr>\n",
       "    <tr>\n",
       "      <th>7</th>\n",
       "      <td>[West Indies]</td>\n",
       "      <td>[2,137]</td>\n",
       "      <td>[2,137]</td>\n",
       "      <td>[77]</td>\n",
       "    </tr>\n",
       "    <tr>\n",
       "      <th>8</th>\n",
       "      <td>[Sri Lanka]</td>\n",
       "      <td>[24]</td>\n",
       "      <td>[24]</td>\n",
       "      <td>[62]</td>\n",
       "    </tr>\n",
       "    <tr>\n",
       "      <th>9</th>\n",
       "      <td>[Afghanistan]</td>\n",
       "      <td>[2,323]</td>\n",
       "      <td>[2,323]</td>\n",
       "      <td>[45]</td>\n",
       "    </tr>\n",
       "  </tbody>\n",
       "</table>\n",
       "</div>"
      ],
      "text/plain": [
       "            TEAMS  MATCHES   POINTS RATINGS\n",
       "0   [New Zealand]     [25]     [25]   [118]\n",
       "1     [Australia]  [2,945]  [2,945]   [115]\n",
       "2         [India]     [29]     [29]   [115]\n",
       "3       [England]  [3,344]  [3,344]   [107]\n",
       "4  [South Africa]     [27]     [27]    [97]\n",
       "5      [Pakistan]  [3,100]  [3,100]    [91]\n",
       "6    [Bangladesh]     [20]     [20]    [82]\n",
       "7   [West Indies]  [2,137]  [2,137]    [77]\n",
       "8     [Sri Lanka]     [24]     [24]    [62]\n",
       "9   [Afghanistan]  [2,323]  [2,323]    [45]"
      ]
     },
     "execution_count": 184,
     "metadata": {},
     "output_type": "execute_result"
    }
   ],
   "source": [
    "TOP_TEAN_ODI_TABLE=pd.DataFrame({})\n",
    "TOP_TEAN_ODI_TABLE['TEAMS']=odi_teams[:10]\n",
    "TOP_TEAN_ODI_TABLE['MATCHES']=odi_matches[:10]\n",
    "TOP_TEAN_ODI_TABLE['POINTS']=odi_points[:10]\n",
    "TOP_TEAN_ODI_TABLE['RATINGS']=odi_ratings[:10]\n",
    "TOP_TEAN_ODI_TABLE"
   ]
  },
  {
   "cell_type": "markdown",
   "id": "e86011d5",
   "metadata": {},
   "source": [
    "Top 10 odi cricket teams data"
   ]
  },
  {
   "cell_type": "code",
   "execution_count": null,
   "id": "4ac2bd7c",
   "metadata": {},
   "outputs": [],
   "source": []
  },
  {
   "cell_type": "markdown",
   "id": "3393c2bc",
   "metadata": {},
   "source": [
    "# 5.ii) Top 10 ODI Batsmen in men"
   ]
  },
  {
   "cell_type": "code",
   "execution_count": 374,
   "id": "7d91d105",
   "metadata": {},
   "outputs": [
    {
     "data": {
      "text/plain": [
       "<Response [200]>"
      ]
     },
     "execution_count": 374,
     "metadata": {},
     "output_type": "execute_result"
    }
   ],
   "source": [
    "page=requests.get('https://www.icc-cricket.com/rankings/mens/player-rankings/odi/batting')\n",
    "\n",
    "page"
   ]
  },
  {
   "cell_type": "code",
   "execution_count": 375,
   "id": "85987039",
   "metadata": {},
   "outputs": [],
   "source": [
    "soup=BeautifulSoup(page.content)\n"
   ]
  },
  {
   "cell_type": "markdown",
   "id": "28a2b9f5",
   "metadata": {},
   "source": [
    "TOP 10 ODI BATSMAN"
   ]
  },
  {
   "cell_type": "code",
   "execution_count": 377,
   "id": "d99f8f44",
   "metadata": {},
   "outputs": [
    {
     "data": {
      "text/plain": [
       "['Virat Kohli',\n",
       " 'Rohit Sharma',\n",
       " 'Ross Taylor',\n",
       " 'Aaron Finch',\n",
       " 'Jonny Bairstow',\n",
       " 'Fakhar Zaman',\n",
       " 'Francois du Plessis',\n",
       " 'David Warner',\n",
       " 'Shai Hope',\n",
       " 'Quinton de Kock']"
      ]
     },
     "execution_count": 377,
     "metadata": {},
     "output_type": "execute_result"
    }
   ],
   "source": [
    "names=soup.find_all('td',class_='table-body__cell rankings-table__name name')\n",
    "Names=[]\n",
    "for i in names:\n",
    "    Names.append(i.text.replace('\\n',''))\n",
    "Names[:10]  "
   ]
  },
  {
   "cell_type": "markdown",
   "id": "d81f36c9",
   "metadata": {},
   "source": [
    "TOP 10 ODI TEAMS"
   ]
  },
  {
   "cell_type": "code",
   "execution_count": 378,
   "id": "a4e92f36",
   "metadata": {},
   "outputs": [
    {
     "data": {
      "text/plain": [
       "['IND', 'IND', 'NZ', 'AUS', 'ENG', 'PAK', 'SA', 'AUS', 'WI', 'SA']"
      ]
     },
     "execution_count": 378,
     "metadata": {},
     "output_type": "execute_result"
    }
   ],
   "source": [
    "teams=soup.find_all('td',class_='table-body__cell nationality-logo rankings-table__team')\n",
    "Teams=[]\n",
    "for i in teams:\n",
    "    Teams.append(i.text.replace('\\n',''))\n",
    "Teams[:10]  "
   ]
  },
  {
   "cell_type": "markdown",
   "id": "ade5d18d",
   "metadata": {},
   "source": [
    "TOP 10 ODI TEMAS RATINGS"
   ]
  },
  {
   "cell_type": "code",
   "execution_count": 379,
   "id": "ffd599e7",
   "metadata": {},
   "outputs": [
    {
     "data": {
      "text/plain": [
       "['857', '825', '801', '791', '785', '778', '778', '773', '773', '756']"
      ]
     },
     "execution_count": 379,
     "metadata": {},
     "output_type": "execute_result"
    }
   ],
   "source": [
    "rating=soup.find_all('td',class_='table-body__cell rating')\n",
    "Rating=[]\n",
    "for i in rating:\n",
    "    Rating.append(i.text.replace('\\n',''))\n",
    "Rating[:10]  "
   ]
  },
  {
   "cell_type": "markdown",
   "id": "cb451c40",
   "metadata": {},
   "source": [
    "TOP 10 ODI MENS PLAYER DETAIL"
   ]
  },
  {
   "cell_type": "code",
   "execution_count": 380,
   "id": "9e0c5e38",
   "metadata": {},
   "outputs": [
    {
     "data": {
      "text/html": [
       "<div>\n",
       "<style scoped>\n",
       "    .dataframe tbody tr th:only-of-type {\n",
       "        vertical-align: middle;\n",
       "    }\n",
       "\n",
       "    .dataframe tbody tr th {\n",
       "        vertical-align: top;\n",
       "    }\n",
       "\n",
       "    .dataframe thead th {\n",
       "        text-align: right;\n",
       "    }\n",
       "</style>\n",
       "<table border=\"1\" class=\"dataframe\">\n",
       "  <thead>\n",
       "    <tr style=\"text-align: right;\">\n",
       "      <th></th>\n",
       "      <th>TEAMS</th>\n",
       "      <th>MATCHES</th>\n",
       "      <th>RATINGS</th>\n",
       "    </tr>\n",
       "  </thead>\n",
       "  <tbody>\n",
       "    <tr>\n",
       "      <th>0</th>\n",
       "      <td>[\\n, [Virat Kohli], \\n]</td>\n",
       "      <td>[\\n, [], \\n, [IND], \\n]</td>\n",
       "      <td>[857]</td>\n",
       "    </tr>\n",
       "    <tr>\n",
       "      <th>1</th>\n",
       "      <td>[\\n, [Rohit Sharma], \\n]</td>\n",
       "      <td>[\\n, [], \\n, [IND], \\n]</td>\n",
       "      <td>[825]</td>\n",
       "    </tr>\n",
       "    <tr>\n",
       "      <th>2</th>\n",
       "      <td>[\\n, [Ross Taylor], \\n]</td>\n",
       "      <td>[\\n, [], \\n, [NZ], \\n]</td>\n",
       "      <td>[801]</td>\n",
       "    </tr>\n",
       "    <tr>\n",
       "      <th>3</th>\n",
       "      <td>[\\n, [Aaron Finch], \\n]</td>\n",
       "      <td>[\\n, [], \\n, [AUS], \\n]</td>\n",
       "      <td>[791]</td>\n",
       "    </tr>\n",
       "    <tr>\n",
       "      <th>4</th>\n",
       "      <td>[\\n, [Jonny Bairstow], \\n]</td>\n",
       "      <td>[\\n, [], \\n, [ENG], \\n]</td>\n",
       "      <td>[785]</td>\n",
       "    </tr>\n",
       "    <tr>\n",
       "      <th>5</th>\n",
       "      <td>[\\n, [Fakhar Zaman], \\n]</td>\n",
       "      <td>[\\n, [], \\n, [PAK], \\n]</td>\n",
       "      <td>[778]</td>\n",
       "    </tr>\n",
       "    <tr>\n",
       "      <th>6</th>\n",
       "      <td>[\\n, [Francois du Plessis], \\n]</td>\n",
       "      <td>[\\n, [], \\n, [SA], \\n]</td>\n",
       "      <td>[778]</td>\n",
       "    </tr>\n",
       "    <tr>\n",
       "      <th>7</th>\n",
       "      <td>[\\n, [David Warner], \\n]</td>\n",
       "      <td>[\\n, [], \\n, [AUS], \\n]</td>\n",
       "      <td>[773]</td>\n",
       "    </tr>\n",
       "    <tr>\n",
       "      <th>8</th>\n",
       "      <td>[\\n, [Shai Hope], \\n]</td>\n",
       "      <td>[\\n, [], \\n, [WI], \\n]</td>\n",
       "      <td>[773]</td>\n",
       "    </tr>\n",
       "    <tr>\n",
       "      <th>9</th>\n",
       "      <td>[\\n, [Quinton de Kock], \\n]</td>\n",
       "      <td>[\\n, [], \\n, [SA], \\n]</td>\n",
       "      <td>[756]</td>\n",
       "    </tr>\n",
       "  </tbody>\n",
       "</table>\n",
       "</div>"
      ],
      "text/plain": [
       "                             TEAMS                  MATCHES RATINGS\n",
       "0          [\\n, [Virat Kohli], \\n]  [\\n, [], \\n, [IND], \\n]   [857]\n",
       "1         [\\n, [Rohit Sharma], \\n]  [\\n, [], \\n, [IND], \\n]   [825]\n",
       "2          [\\n, [Ross Taylor], \\n]   [\\n, [], \\n, [NZ], \\n]   [801]\n",
       "3          [\\n, [Aaron Finch], \\n]  [\\n, [], \\n, [AUS], \\n]   [791]\n",
       "4       [\\n, [Jonny Bairstow], \\n]  [\\n, [], \\n, [ENG], \\n]   [785]\n",
       "5         [\\n, [Fakhar Zaman], \\n]  [\\n, [], \\n, [PAK], \\n]   [778]\n",
       "6  [\\n, [Francois du Plessis], \\n]   [\\n, [], \\n, [SA], \\n]   [778]\n",
       "7         [\\n, [David Warner], \\n]  [\\n, [], \\n, [AUS], \\n]   [773]\n",
       "8            [\\n, [Shai Hope], \\n]   [\\n, [], \\n, [WI], \\n]   [773]\n",
       "9      [\\n, [Quinton de Kock], \\n]   [\\n, [], \\n, [SA], \\n]   [756]"
      ]
     },
     "execution_count": 380,
     "metadata": {},
     "output_type": "execute_result"
    }
   ],
   "source": [
    "TOP_TEAN_mens_TABLE=pd.DataFrame({})\n",
    "TOP_TEAN_mens_TABLE['TEAMS']=names[:10]\n",
    "TOP_TEAN_mens_TABLE['MATCHES']=teams[:10]\n",
    "\n",
    "TOP_TEAN_mens_TABLE['RATINGS']=rating[:10]\n",
    "TOP_TEAN_mens_TABLE"
   ]
  },
  {
   "cell_type": "markdown",
   "id": "f74ba418",
   "metadata": {},
   "source": [
    "Top 10 odi mens cricket batting data."
   ]
  },
  {
   "cell_type": "code",
   "execution_count": null,
   "id": "b73968fb",
   "metadata": {},
   "outputs": [],
   "source": []
  },
  {
   "cell_type": "markdown",
   "id": "0a7eb80c",
   "metadata": {},
   "source": [
    "# 5.iii) Top 10 ODI bowlers"
   ]
  },
  {
   "cell_type": "code",
   "execution_count": 239,
   "id": "8fb8536b",
   "metadata": {},
   "outputs": [
    {
     "data": {
      "text/plain": [
       "<Response [200]>"
      ]
     },
     "execution_count": 239,
     "metadata": {},
     "output_type": "execute_result"
    }
   ],
   "source": [
    "page=requests.get('https://www.icc-cricket.com/rankings/mens/player-rankings/odi/bowling')\n",
    "\n",
    "page"
   ]
  },
  {
   "cell_type": "code",
   "execution_count": 240,
   "id": "ed42c6af",
   "metadata": {},
   "outputs": [],
   "source": [
    "soup=BeautifulSoup(page.content)\n"
   ]
  },
  {
   "cell_type": "markdown",
   "id": "fc54765d",
   "metadata": {},
   "source": [
    "TOP 10 ODI BOWLERS"
   ]
  },
  {
   "cell_type": "code",
   "execution_count": 241,
   "id": "18d736ea",
   "metadata": {},
   "outputs": [
    {
     "data": {
      "text/plain": [
       "['Mujeeb Ur Rahman',\n",
       " 'Matt Henry',\n",
       " 'Jasprit Bumrah',\n",
       " 'Mehedi Hasan',\n",
       " 'Kagiso Rabada',\n",
       " 'Chris Woakes',\n",
       " 'Josh Hazlewood',\n",
       " 'Pat Cummins',\n",
       " 'Mohammad Amir',\n",
       " 'Shaheen Afridi']"
      ]
     },
     "execution_count": 241,
     "metadata": {},
     "output_type": "execute_result"
    }
   ],
   "source": [
    "Names=soup.find_all('td',class_='table-body__cell rankings-table__name name')\n",
    "names=[]\n",
    "for i in Names:\n",
    "    names.append(i.text.replace('\\n',''))\n",
    "names[:10]  "
   ]
  },
  {
   "cell_type": "markdown",
   "id": "d40da85b",
   "metadata": {},
   "source": [
    "TOP 10 ODI BOWLER's TEAM"
   ]
  },
  {
   "cell_type": "code",
   "execution_count": 242,
   "id": "15e577c8",
   "metadata": {},
   "outputs": [
    {
     "data": {
      "text/plain": [
       "['AFG', 'NZ', 'IND', 'BAN', 'SA', 'ENG', 'AUS', 'AUS', 'PAK', 'PAK']"
      ]
     },
     "execution_count": 242,
     "metadata": {},
     "output_type": "execute_result"
    }
   ],
   "source": [
    "teams=soup.find_all('span',class_='table-body__logo-text')\n",
    "Teams=[]\n",
    "for i in teams:\n",
    "    Teams.append(i.text.replace('\\n',''))\n",
    "Teams[:10]  "
   ]
  },
  {
   "cell_type": "markdown",
   "id": "8744f3fe",
   "metadata": {},
   "source": [
    "TOP 10 ODI BOWLERS's RATING"
   ]
  },
  {
   "cell_type": "code",
   "execution_count": 244,
   "id": "6d64b93f",
   "metadata": {},
   "outputs": [
    {
     "data": {
      "text/plain": [
       "['708', '691', '690', '668', '666', '665', '660', '646', '638', '634']"
      ]
     },
     "execution_count": 244,
     "metadata": {},
     "output_type": "execute_result"
    }
   ],
   "source": [
    "ratings=soup.find_all('td',class_='table-body__cell rating')\n",
    "Ratings=[]\n",
    "for i in ratings:\n",
    "    Ratings.append(i.text.replace('\\n',''))\n",
    "Ratings[:10]  "
   ]
  },
  {
   "cell_type": "markdown",
   "id": "4023d08e",
   "metadata": {},
   "source": [
    "TOP 10 ODI BOWLER's TABLE"
   ]
  },
  {
   "cell_type": "code",
   "execution_count": 279,
   "id": "469c34b0",
   "metadata": {},
   "outputs": [
    {
     "data": {
      "text/html": [
       "<div>\n",
       "<style scoped>\n",
       "    .dataframe tbody tr th:only-of-type {\n",
       "        vertical-align: middle;\n",
       "    }\n",
       "\n",
       "    .dataframe tbody tr th {\n",
       "        vertical-align: top;\n",
       "    }\n",
       "\n",
       "    .dataframe thead th {\n",
       "        text-align: right;\n",
       "    }\n",
       "</style>\n",
       "<table border=\"1\" class=\"dataframe\">\n",
       "  <thead>\n",
       "    <tr style=\"text-align: right;\">\n",
       "      <th></th>\n",
       "      <th>TEAMS</th>\n",
       "      <th>MATCHES</th>\n",
       "      <th>RATING</th>\n",
       "    </tr>\n",
       "  </thead>\n",
       "  <tbody>\n",
       "    <tr>\n",
       "      <th>0</th>\n",
       "      <td>Mujeeb Ur Rahman</td>\n",
       "      <td>[AFG]</td>\n",
       "      <td>[857]</td>\n",
       "    </tr>\n",
       "    <tr>\n",
       "      <th>1</th>\n",
       "      <td>Matt Henry</td>\n",
       "      <td>[NZ]</td>\n",
       "      <td>[825]</td>\n",
       "    </tr>\n",
       "    <tr>\n",
       "      <th>2</th>\n",
       "      <td>Jasprit Bumrah</td>\n",
       "      <td>[IND]</td>\n",
       "      <td>[801]</td>\n",
       "    </tr>\n",
       "    <tr>\n",
       "      <th>3</th>\n",
       "      <td>Mehedi Hasan</td>\n",
       "      <td>[BAN]</td>\n",
       "      <td>[791]</td>\n",
       "    </tr>\n",
       "    <tr>\n",
       "      <th>4</th>\n",
       "      <td>Kagiso Rabada</td>\n",
       "      <td>[SA]</td>\n",
       "      <td>[785]</td>\n",
       "    </tr>\n",
       "    <tr>\n",
       "      <th>5</th>\n",
       "      <td>Chris Woakes</td>\n",
       "      <td>[ENG]</td>\n",
       "      <td>[778]</td>\n",
       "    </tr>\n",
       "    <tr>\n",
       "      <th>6</th>\n",
       "      <td>Josh Hazlewood</td>\n",
       "      <td>[AUS]</td>\n",
       "      <td>[778]</td>\n",
       "    </tr>\n",
       "    <tr>\n",
       "      <th>7</th>\n",
       "      <td>Pat Cummins</td>\n",
       "      <td>[AUS]</td>\n",
       "      <td>[773]</td>\n",
       "    </tr>\n",
       "    <tr>\n",
       "      <th>8</th>\n",
       "      <td>Mohammad Amir</td>\n",
       "      <td>[PAK]</td>\n",
       "      <td>[773]</td>\n",
       "    </tr>\n",
       "    <tr>\n",
       "      <th>9</th>\n",
       "      <td>Shaheen Afridi</td>\n",
       "      <td>[PAK]</td>\n",
       "      <td>[708]</td>\n",
       "    </tr>\n",
       "  </tbody>\n",
       "</table>\n",
       "</div>"
      ],
      "text/plain": [
       "              TEAMS MATCHES RATING\n",
       "0  Mujeeb Ur Rahman   [AFG]  [857]\n",
       "1        Matt Henry    [NZ]  [825]\n",
       "2    Jasprit Bumrah   [IND]  [801]\n",
       "3      Mehedi Hasan   [BAN]  [791]\n",
       "4     Kagiso Rabada    [SA]  [785]\n",
       "5      Chris Woakes   [ENG]  [778]\n",
       "6    Josh Hazlewood   [AUS]  [778]\n",
       "7       Pat Cummins   [AUS]  [773]\n",
       "8     Mohammad Amir   [PAK]  [773]\n",
       "9    Shaheen Afridi   [PAK]  [708]"
      ]
     },
     "execution_count": 279,
     "metadata": {},
     "output_type": "execute_result"
    }
   ],
   "source": [
    "TOP_TEAN_bowlers_TABLE=pd.DataFrame({})\n",
    "TOP_TEAN_bowlers_TABLE['TEAMS']=names[:10]\n",
    "TOP_TEAN_bowlers_TABLE['MATCHES']=teams[:10]\n",
    "\n",
    "TOP_TEAN_bowlers_TABLE['RATING']=rating[:10]\n",
    "TOP_TEAN_bowlers_TABLE"
   ]
  },
  {
   "cell_type": "markdown",
   "id": "3612bb9a",
   "metadata": {},
   "source": [
    "Top 10 odi mens cricket bowling data"
   ]
  },
  {
   "cell_type": "code",
   "execution_count": null,
   "id": "2821e58f",
   "metadata": {},
   "outputs": [],
   "source": []
  },
  {
   "cell_type": "markdown",
   "id": "f892addd",
   "metadata": {},
   "source": [
    "\n",
    "# 6.i) Top 10 ODI teams in women’s cricket"
   ]
  },
  {
   "cell_type": "code",
   "execution_count": 248,
   "id": "949ea5cf",
   "metadata": {},
   "outputs": [
    {
     "data": {
      "text/plain": [
       "<Response [200]>"
      ]
     },
     "execution_count": 248,
     "metadata": {},
     "output_type": "execute_result"
    }
   ],
   "source": [
    "page=requests.get('https://www.icc-cricket.com/rankings/womens/team-rankings/odi')\n",
    "\n",
    "page"
   ]
  },
  {
   "cell_type": "code",
   "execution_count": 249,
   "id": "cdcbbc4b",
   "metadata": {},
   "outputs": [],
   "source": [
    "soup=BeautifulSoup(page.content)\n"
   ]
  },
  {
   "cell_type": "markdown",
   "id": "4ad64079",
   "metadata": {},
   "source": [
    "TOP 10 ODI WOMENS TEAM"
   ]
  },
  {
   "cell_type": "code",
   "execution_count": 257,
   "id": "523e14e1",
   "metadata": {},
   "outputs": [
    {
     "data": {
      "text/plain": [
       "['South Africa',\n",
       " 'England',\n",
       " 'India',\n",
       " 'New Zealand',\n",
       " 'West Indies',\n",
       " 'Pakistan',\n",
       " 'Bangladesh',\n",
       " 'Sri Lanka',\n",
       " 'Ireland']"
      ]
     },
     "execution_count": 257,
     "metadata": {},
     "output_type": "execute_result"
    }
   ],
   "source": [
    "odi_womens_teams=soup.find_all('span',class_='u-hide-phablet')\n",
    "\n",
    "womens_team=[]\n",
    "for i in odi_womens_teams:\n",
    "    womens_team.append(i.text.replace('\\n',''))\n",
    "womens_team[1:10]    "
   ]
  },
  {
   "cell_type": "markdown",
   "id": "ce7d029e",
   "metadata": {},
   "source": [
    "TOP 10 ODI WOMENS TEAM PLAYER MATCHES"
   ]
  },
  {
   "cell_type": "code",
   "execution_count": 252,
   "id": "37ca9d23",
   "metadata": {},
   "outputs": [
    {
     "data": {
      "text/plain": [
       "['24', '2,828', '17', '1,993', '20', '2,226', '21', '1,947', '12', '1,025']"
      ]
     },
     "execution_count": 252,
     "metadata": {},
     "output_type": "execute_result"
    }
   ],
   "source": [
    "odi_womens_matches=soup.find_all('td',class_='table-body__cell u-center-text')\n",
    "\n",
    "womens_matches=[]\n",
    "for i in odi_womens_matches:\n",
    "    womens_matches.append(i.text.replace('\\n',''))\n",
    "womens_matches[:10]    "
   ]
  },
  {
   "cell_type": "markdown",
   "id": "b5f5f5e3",
   "metadata": {},
   "source": [
    "TOP 10 ODI WOMENS TEAM POINTS"
   ]
  },
  {
   "cell_type": "code",
   "execution_count": 254,
   "id": "49d22195",
   "metadata": {},
   "outputs": [
    {
     "data": {
      "text/plain": [
       "['24', '2,828', '17', '1,993', '20', '2,226', '21', '1,947', '12', '1,025']"
      ]
     },
     "execution_count": 254,
     "metadata": {},
     "output_type": "execute_result"
    }
   ],
   "source": [
    "odi_womens_points=soup.find_all('td',class_='table-body__cell u-center-text')\n",
    "\n",
    "\n",
    "womens_points=[]\n",
    "for i in odi_womens_points:\n",
    "    womens_points.append(i.text.replace('\\n',''))\n",
    "womens_points[:10]    "
   ]
  },
  {
   "cell_type": "markdown",
   "id": "4ac6a888",
   "metadata": {},
   "source": [
    "TOP 10 ODI WOMENS TEAM RATINGS"
   ]
  },
  {
   "cell_type": "code",
   "execution_count": 255,
   "id": "1973bce8",
   "metadata": {},
   "outputs": [
    {
     "data": {
      "text/plain": [
       "['118', '117', '111', '93', '85', '73', '61', '47', '13']"
      ]
     },
     "execution_count": 255,
     "metadata": {},
     "output_type": "execute_result"
    }
   ],
   "source": [
    "odi_womens_ratings=soup.find_all('td',class_='table-body__cell u-text-right rating')\n",
    "\n",
    "\n",
    "womens_ratings=[]\n",
    "for i in odi_womens_ratings:\n",
    "    womens_ratings.append(i.text.replace('\\n',''))\n",
    "womens_ratings[:10]                          \n",
    "                          \n",
    "                          \n",
    " "
   ]
  },
  {
   "cell_type": "markdown",
   "id": "55063adb",
   "metadata": {},
   "source": [
    "TOP 10 ODI WOMENS TEAM DETAILS"
   ]
  },
  {
   "cell_type": "code",
   "execution_count": 259,
   "id": "62a5788c",
   "metadata": {},
   "outputs": [
    {
     "data": {
      "text/html": [
       "<div>\n",
       "<style scoped>\n",
       "    .dataframe tbody tr th:only-of-type {\n",
       "        vertical-align: middle;\n",
       "    }\n",
       "\n",
       "    .dataframe tbody tr th {\n",
       "        vertical-align: top;\n",
       "    }\n",
       "\n",
       "    .dataframe thead th {\n",
       "        text-align: right;\n",
       "    }\n",
       "</style>\n",
       "<table border=\"1\" class=\"dataframe\">\n",
       "  <thead>\n",
       "    <tr style=\"text-align: right;\">\n",
       "      <th></th>\n",
       "      <th>TEAMS</th>\n",
       "      <th>MATCHES</th>\n",
       "      <th>POINTS</th>\n",
       "      <th>RATINGS</th>\n",
       "    </tr>\n",
       "  </thead>\n",
       "  <tbody>\n",
       "    <tr>\n",
       "      <th>0</th>\n",
       "      <td>[Australia]</td>\n",
       "      <td>[24]</td>\n",
       "      <td>[24]</td>\n",
       "      <td>[118]</td>\n",
       "    </tr>\n",
       "    <tr>\n",
       "      <th>1</th>\n",
       "      <td>[South Africa]</td>\n",
       "      <td>[2,828]</td>\n",
       "      <td>[2,828]</td>\n",
       "      <td>[117]</td>\n",
       "    </tr>\n",
       "    <tr>\n",
       "      <th>2</th>\n",
       "      <td>[England]</td>\n",
       "      <td>[17]</td>\n",
       "      <td>[17]</td>\n",
       "      <td>[111]</td>\n",
       "    </tr>\n",
       "    <tr>\n",
       "      <th>3</th>\n",
       "      <td>[India]</td>\n",
       "      <td>[1,993]</td>\n",
       "      <td>[1,993]</td>\n",
       "      <td>[93]</td>\n",
       "    </tr>\n",
       "    <tr>\n",
       "      <th>4</th>\n",
       "      <td>[New Zealand]</td>\n",
       "      <td>[20]</td>\n",
       "      <td>[20]</td>\n",
       "      <td>[85]</td>\n",
       "    </tr>\n",
       "    <tr>\n",
       "      <th>5</th>\n",
       "      <td>[West Indies]</td>\n",
       "      <td>[2,226]</td>\n",
       "      <td>[2,226]</td>\n",
       "      <td>[73]</td>\n",
       "    </tr>\n",
       "    <tr>\n",
       "      <th>6</th>\n",
       "      <td>[Pakistan]</td>\n",
       "      <td>[21]</td>\n",
       "      <td>[21]</td>\n",
       "      <td>[61]</td>\n",
       "    </tr>\n",
       "    <tr>\n",
       "      <th>7</th>\n",
       "      <td>[Bangladesh]</td>\n",
       "      <td>[1,947]</td>\n",
       "      <td>[1,947]</td>\n",
       "      <td>[47]</td>\n",
       "    </tr>\n",
       "    <tr>\n",
       "      <th>8</th>\n",
       "      <td>[Sri Lanka]</td>\n",
       "      <td>[12]</td>\n",
       "      <td>[12]</td>\n",
       "      <td>[13]</td>\n",
       "    </tr>\n",
       "  </tbody>\n",
       "</table>\n",
       "</div>"
      ],
      "text/plain": [
       "            TEAMS  MATCHES   POINTS RATINGS\n",
       "0     [Australia]     [24]     [24]   [118]\n",
       "1  [South Africa]  [2,828]  [2,828]   [117]\n",
       "2       [England]     [17]     [17]   [111]\n",
       "3         [India]  [1,993]  [1,993]    [93]\n",
       "4   [New Zealand]     [20]     [20]    [85]\n",
       "5   [West Indies]  [2,226]  [2,226]    [73]\n",
       "6      [Pakistan]     [21]     [21]    [61]\n",
       "7    [Bangladesh]  [1,947]  [1,947]    [47]\n",
       "8     [Sri Lanka]     [12]     [12]    [13]"
      ]
     },
     "execution_count": 259,
     "metadata": {},
     "output_type": "execute_result"
    }
   ],
   "source": [
    "TOP_TEAN_womens_ODI_TABLE=pd.DataFrame({})\n",
    "TOP_TEAN_womens_ODI_TABLE['TEAMS']=odi_womens_teams[:9]\n",
    "TOP_TEAN_womens_ODI_TABLE['MATCHES']=odi_womens_matches[:9]\n",
    "TOP_TEAN_womens_ODI_TABLE['POINTS']=odi_womens_points[:9]\n",
    "TOP_TEAN_womens_ODI_TABLE['RATINGS']=odi_womens_ratings[:9]\n",
    "TOP_TEAN_womens_ODI_TABLE"
   ]
  },
  {
   "cell_type": "markdown",
   "id": "a06d0aa8",
   "metadata": {},
   "source": [
    "Top odi womens cricket team"
   ]
  },
  {
   "cell_type": "code",
   "execution_count": null,
   "id": "4c72f676",
   "metadata": {},
   "outputs": [],
   "source": []
  },
  {
   "cell_type": "markdown",
   "id": "f3b07e14",
   "metadata": {},
   "source": [
    "# 6.ii) Top 10 women’s ODI players"
   ]
  },
  {
   "cell_type": "code",
   "execution_count": 260,
   "id": "940627c3",
   "metadata": {},
   "outputs": [
    {
     "data": {
      "text/plain": [
       "<Response [200]>"
      ]
     },
     "execution_count": 260,
     "metadata": {},
     "output_type": "execute_result"
    }
   ],
   "source": [
    "page=requests.get('https://www.icc-cricket.com/rankings/womens/player-rankings/odi')\n",
    "\n",
    "page"
   ]
  },
  {
   "cell_type": "code",
   "execution_count": 261,
   "id": "7be1825c",
   "metadata": {},
   "outputs": [],
   "source": [
    "soup=BeautifulSoup(page.content)\n"
   ]
  },
  {
   "cell_type": "markdown",
   "id": "a0e92b1d",
   "metadata": {},
   "source": [
    "TOP 10 ODI WOMENS PLAYER"
   ]
  },
  {
   "cell_type": "code",
   "execution_count": 276,
   "id": "c06ad86a",
   "metadata": {},
   "outputs": [
    {
     "data": {
      "text/plain": [
       "['Lizelle Lee',\n",
       " 'Alyssa Healy',\n",
       " 'Stafanie Taylor',\n",
       " 'Meg Lanning',\n",
       " 'Amy Satterthwaite',\n",
       " 'Smriti Mandhana',\n",
       " 'Mithali Raj',\n",
       " 'Natalie Sciver',\n",
       " 'Laura Wolvaardt',\n",
       " 'Megan Schutt']"
      ]
     },
     "execution_count": 276,
     "metadata": {},
     "output_type": "execute_result"
    }
   ],
   "source": [
    "players_name=soup.find_all('td',class_='table-body__cell name')\n",
    "Player_Names=[]\n",
    "for i in players_name:\n",
    "    Player_Names.append(i.text.replace('\\n',''))\n",
    "Player_Names[:10]  "
   ]
  },
  {
   "cell_type": "markdown",
   "id": "7ae8f646",
   "metadata": {},
   "source": [
    "TOP 10 ODI WOMENS PLAYERS TEAMS"
   ]
  },
  {
   "cell_type": "code",
   "execution_count": 277,
   "id": "cb7675b9",
   "metadata": {},
   "outputs": [
    {
     "data": {
      "text/plain": [
       "['SA', 'AUS', 'WI', 'AUS', 'NZ', 'IND', 'IND', 'ENG', 'SA', 'AUS']"
      ]
     },
     "execution_count": 277,
     "metadata": {},
     "output_type": "execute_result"
    }
   ],
   "source": [
    "womens_team=soup.find_all('span',class_='table-body__logo-text')\n",
    "w_teams=[]\n",
    "for i in womens_team:\n",
    "    w_teams.append(i.text.replace('\\n',''))\n",
    "w_teams[:10]  "
   ]
  },
  {
   "cell_type": "markdown",
   "id": "a68f44bd",
   "metadata": {},
   "source": [
    "TOP 10 ODI WOMENS PLAYER RATINGS"
   ]
  },
  {
   "cell_type": "code",
   "execution_count": 278,
   "id": "f3f8ff17",
   "metadata": {},
   "outputs": [
    {
     "data": {
      "text/plain": [
       "['758', '756', '746', '723', '715', '710', '709', '685', '683', '762']"
      ]
     },
     "execution_count": 278,
     "metadata": {},
     "output_type": "execute_result"
    }
   ],
   "source": [
    "womens_rating=soup.find_all('td',class_='table-body__cell u-text-right rating')\n",
    "w_rating=[]\n",
    "for i in womens_rating:\n",
    "    w_rating.append(i.text.replace('\\n',''))\n",
    "w_rating[:10]  "
   ]
  },
  {
   "cell_type": "markdown",
   "id": "b61e7705",
   "metadata": {},
   "source": [
    "TOP 10 ODI WOMENS PLAYER DETAILS"
   ]
  },
  {
   "cell_type": "code",
   "execution_count": 382,
   "id": "dcd71fb8",
   "metadata": {},
   "outputs": [
    {
     "data": {
      "text/html": [
       "<div>\n",
       "<style scoped>\n",
       "    .dataframe tbody tr th:only-of-type {\n",
       "        vertical-align: middle;\n",
       "    }\n",
       "\n",
       "    .dataframe tbody tr th {\n",
       "        vertical-align: top;\n",
       "    }\n",
       "\n",
       "    .dataframe thead th {\n",
       "        text-align: right;\n",
       "    }\n",
       "</style>\n",
       "<table border=\"1\" class=\"dataframe\">\n",
       "  <thead>\n",
       "    <tr style=\"text-align: right;\">\n",
       "      <th></th>\n",
       "      <th>TEAMS</th>\n",
       "      <th>MATCHES</th>\n",
       "      <th>RATING</th>\n",
       "    </tr>\n",
       "  </thead>\n",
       "  <tbody>\n",
       "    <tr>\n",
       "      <th>0</th>\n",
       "      <td>[\\n, [Lizelle Lee], \\n]</td>\n",
       "      <td>[SA]</td>\n",
       "      <td>[758]</td>\n",
       "    </tr>\n",
       "    <tr>\n",
       "      <th>1</th>\n",
       "      <td>[\\n, [Alyssa Healy], \\n]</td>\n",
       "      <td>[AUS]</td>\n",
       "      <td>[756]</td>\n",
       "    </tr>\n",
       "    <tr>\n",
       "      <th>2</th>\n",
       "      <td>[\\n, [Stafanie Taylor], \\n]</td>\n",
       "      <td>[WI]</td>\n",
       "      <td>[746]</td>\n",
       "    </tr>\n",
       "    <tr>\n",
       "      <th>3</th>\n",
       "      <td>[\\n, [Meg Lanning], \\n]</td>\n",
       "      <td>[AUS]</td>\n",
       "      <td>[723]</td>\n",
       "    </tr>\n",
       "    <tr>\n",
       "      <th>4</th>\n",
       "      <td>[\\n, [Amy Satterthwaite], \\n]</td>\n",
       "      <td>[NZ]</td>\n",
       "      <td>[715]</td>\n",
       "    </tr>\n",
       "    <tr>\n",
       "      <th>5</th>\n",
       "      <td>[\\n, [Smriti Mandhana], \\n]</td>\n",
       "      <td>[IND]</td>\n",
       "      <td>[710]</td>\n",
       "    </tr>\n",
       "    <tr>\n",
       "      <th>6</th>\n",
       "      <td>[\\n, [Mithali Raj], \\n]</td>\n",
       "      <td>[IND]</td>\n",
       "      <td>[709]</td>\n",
       "    </tr>\n",
       "    <tr>\n",
       "      <th>7</th>\n",
       "      <td>[\\n, [Natalie Sciver], \\n]</td>\n",
       "      <td>[ENG]</td>\n",
       "      <td>[685]</td>\n",
       "    </tr>\n",
       "    <tr>\n",
       "      <th>8</th>\n",
       "      <td>[\\n, [Laura Wolvaardt], \\n]</td>\n",
       "      <td>[SA]</td>\n",
       "      <td>[683]</td>\n",
       "    </tr>\n",
       "    <tr>\n",
       "      <th>9</th>\n",
       "      <td>[\\n, [Megan Schutt], \\n]</td>\n",
       "      <td>[AUS]</td>\n",
       "      <td>[762]</td>\n",
       "    </tr>\n",
       "  </tbody>\n",
       "</table>\n",
       "</div>"
      ],
      "text/plain": [
       "                           TEAMS MATCHES RATING\n",
       "0        [\\n, [Lizelle Lee], \\n]    [SA]  [758]\n",
       "1       [\\n, [Alyssa Healy], \\n]   [AUS]  [756]\n",
       "2    [\\n, [Stafanie Taylor], \\n]    [WI]  [746]\n",
       "3        [\\n, [Meg Lanning], \\n]   [AUS]  [723]\n",
       "4  [\\n, [Amy Satterthwaite], \\n]    [NZ]  [715]\n",
       "5    [\\n, [Smriti Mandhana], \\n]   [IND]  [710]\n",
       "6        [\\n, [Mithali Raj], \\n]   [IND]  [709]\n",
       "7     [\\n, [Natalie Sciver], \\n]   [ENG]  [685]\n",
       "8    [\\n, [Laura Wolvaardt], \\n]    [SA]  [683]\n",
       "9       [\\n, [Megan Schutt], \\n]   [AUS]  [762]"
      ]
     },
     "execution_count": 382,
     "metadata": {},
     "output_type": "execute_result"
    }
   ],
   "source": [
    "TOP_w_odi_w_TABLE=pd.DataFrame({})\n",
    "TOP_w_odi_w_TABLE['TEAMS']=players_name[:10]\n",
    "TOP_w_odi_w_TABLE['MATCHES']=womens_team[:10]\n",
    "\n",
    "TOP_w_odi_w_TABLE['RATING']=womens_rating[:10]\n",
    "TOP_w_odi_w_TABLE"
   ]
  },
  {
   "cell_type": "markdown",
   "id": "a96c3adc",
   "metadata": {},
   "source": [
    "Top womens odi cricket players"
   ]
  },
  {
   "cell_type": "code",
   "execution_count": null,
   "id": "ece86b76",
   "metadata": {},
   "outputs": [],
   "source": []
  },
  {
   "cell_type": "markdown",
   "id": "a0d892ba",
   "metadata": {},
   "source": [
    "# 6.iii) Top 10 women’s ODI all-rounder"
   ]
  },
  {
   "cell_type": "code",
   "execution_count": 285,
   "id": "c4a243c2",
   "metadata": {},
   "outputs": [
    {
     "data": {
      "text/plain": [
       "<Response [200]>"
      ]
     },
     "execution_count": 285,
     "metadata": {},
     "output_type": "execute_result"
    }
   ],
   "source": [
    "page=requests.get('https://www.icc-cricket.com/rankings/womens/player-rankings/odi/all-rounder')\n",
    "\n",
    "page"
   ]
  },
  {
   "cell_type": "code",
   "execution_count": 286,
   "id": "f7781bb4",
   "metadata": {},
   "outputs": [],
   "source": [
    "soup=BeautifulSoup(page.content)\n"
   ]
  },
  {
   "cell_type": "markdown",
   "id": "0fd133ff",
   "metadata": {},
   "source": [
    "TOP 10 WOMENS ALLROUNDERS"
   ]
  },
  {
   "cell_type": "code",
   "execution_count": 291,
   "id": "bc6a3323",
   "metadata": {},
   "outputs": [
    {
     "data": {
      "text/plain": [
       "['Ellyse Perry',\n",
       " 'Stafanie Taylor',\n",
       " 'Natalie Sciver',\n",
       " 'Deepti Sharma',\n",
       " 'Jess Jonassen',\n",
       " 'Ashleigh Gardner',\n",
       " 'Dane van Niekerk',\n",
       " 'Sophie Devine',\n",
       " 'Amelia Kerr',\n",
       " 'Katherine Brunt']"
      ]
     },
     "execution_count": 291,
     "metadata": {},
     "output_type": "execute_result"
    }
   ],
   "source": [
    "w_allrounders_name=soup.find_all('td',class_='table-body__cell rankings-table__name name')\n",
    "al_Names=[]\n",
    "for i in allrounders_name:\n",
    "    al_Names.append(i.text.replace('\\n',''))\n",
    "al_Names[:10]  "
   ]
  },
  {
   "cell_type": "markdown",
   "id": "52ba6e58",
   "metadata": {},
   "source": [
    "TOP 10 WOMENS ALLROUNDERS TEAMS "
   ]
  },
  {
   "cell_type": "code",
   "execution_count": 289,
   "id": "06744c5f",
   "metadata": {},
   "outputs": [
    {
     "data": {
      "text/plain": [
       "['AUS', 'WI', 'ENG', 'IND', 'AUS', 'AUS', 'SA', 'NZ', 'NZ', 'ENG']"
      ]
     },
     "execution_count": 289,
     "metadata": {},
     "output_type": "execute_result"
    }
   ],
   "source": [
    "w_allrounders_team=soup.find_all('td',class_='table-body__cell nationality-logo rankings-table__team')\n",
    "w_al_teams=[]\n",
    "for i in w_allrounders_team:\n",
    "    w_al_teams.append(i.text.replace('\\n',''))\n",
    "w_al_teams[:10]  "
   ]
  },
  {
   "cell_type": "markdown",
   "id": "2b0c5b93",
   "metadata": {},
   "source": [
    "TOP 10 WOMENS ALLROUNDRS RATINGS"
   ]
  },
  {
   "cell_type": "code",
   "execution_count": 290,
   "id": "e99d1316",
   "metadata": {},
   "outputs": [
    {
     "data": {
      "text/plain": [
       "['418', '410', '349', '343', '307', '252', '243', '242', '236', '236']"
      ]
     },
     "execution_count": 290,
     "metadata": {},
     "output_type": "execute_result"
    }
   ],
   "source": [
    "w_allrounders_rating=soup.find_all('td',class_='table-body__cell rating')\n",
    "w_al_rating=[]\n",
    "for i in w_allrounders_rating:\n",
    "    w_al_rating.append(i.text.replace('\\n',''))\n",
    "w_al_rating[:10]  "
   ]
  },
  {
   "cell_type": "markdown",
   "id": "92fada3b",
   "metadata": {},
   "source": [
    "TOP 10 WOMENS ODI ALLROUNDERS DETAILS"
   ]
  },
  {
   "cell_type": "code",
   "execution_count": 384,
   "id": "fadffbbd",
   "metadata": {},
   "outputs": [
    {
     "data": {
      "text/html": [
       "<div>\n",
       "<style scoped>\n",
       "    .dataframe tbody tr th:only-of-type {\n",
       "        vertical-align: middle;\n",
       "    }\n",
       "\n",
       "    .dataframe tbody tr th {\n",
       "        vertical-align: top;\n",
       "    }\n",
       "\n",
       "    .dataframe thead th {\n",
       "        text-align: right;\n",
       "    }\n",
       "</style>\n",
       "<table border=\"1\" class=\"dataframe\">\n",
       "  <thead>\n",
       "    <tr style=\"text-align: right;\">\n",
       "      <th></th>\n",
       "      <th>NAME</th>\n",
       "      <th>TEAMS</th>\n",
       "      <th>RATING</th>\n",
       "    </tr>\n",
       "  </thead>\n",
       "  <tbody>\n",
       "    <tr>\n",
       "      <th>0</th>\n",
       "      <td>[\\n, [Ellyse Perry], \\n]</td>\n",
       "      <td>[\\n, [], \\n, [AUS], \\n]</td>\n",
       "      <td>[418]</td>\n",
       "    </tr>\n",
       "    <tr>\n",
       "      <th>1</th>\n",
       "      <td>[\\n, [Stafanie Taylor], \\n]</td>\n",
       "      <td>[\\n, [], \\n, [WI], \\n]</td>\n",
       "      <td>[410]</td>\n",
       "    </tr>\n",
       "    <tr>\n",
       "      <th>2</th>\n",
       "      <td>[\\n, [Natalie Sciver], \\n]</td>\n",
       "      <td>[\\n, [], \\n, [ENG], \\n]</td>\n",
       "      <td>[349]</td>\n",
       "    </tr>\n",
       "    <tr>\n",
       "      <th>3</th>\n",
       "      <td>[\\n, [Deepti Sharma], \\n]</td>\n",
       "      <td>[\\n, [], \\n, [IND], \\n]</td>\n",
       "      <td>[343]</td>\n",
       "    </tr>\n",
       "    <tr>\n",
       "      <th>4</th>\n",
       "      <td>[\\n, [Jess Jonassen], \\n]</td>\n",
       "      <td>[\\n, [], \\n, [AUS], \\n]</td>\n",
       "      <td>[307]</td>\n",
       "    </tr>\n",
       "    <tr>\n",
       "      <th>5</th>\n",
       "      <td>[\\n, [Ashleigh Gardner], \\n]</td>\n",
       "      <td>[\\n, [], \\n, [AUS], \\n]</td>\n",
       "      <td>[252]</td>\n",
       "    </tr>\n",
       "    <tr>\n",
       "      <th>6</th>\n",
       "      <td>[\\n, [Dane van Niekerk], \\n]</td>\n",
       "      <td>[\\n, [], \\n, [SA], \\n]</td>\n",
       "      <td>[243]</td>\n",
       "    </tr>\n",
       "    <tr>\n",
       "      <th>7</th>\n",
       "      <td>[\\n, [Sophie Devine], \\n]</td>\n",
       "      <td>[\\n, [], \\n, [NZ], \\n]</td>\n",
       "      <td>[242]</td>\n",
       "    </tr>\n",
       "    <tr>\n",
       "      <th>8</th>\n",
       "      <td>[\\n, [Amelia Kerr], \\n]</td>\n",
       "      <td>[\\n, [], \\n, [NZ], \\n]</td>\n",
       "      <td>[236]</td>\n",
       "    </tr>\n",
       "    <tr>\n",
       "      <th>9</th>\n",
       "      <td>[\\n, [Katherine Brunt], \\n]</td>\n",
       "      <td>[\\n, [], \\n, [ENG], \\n]</td>\n",
       "      <td>[236]</td>\n",
       "    </tr>\n",
       "  </tbody>\n",
       "</table>\n",
       "</div>"
      ],
      "text/plain": [
       "                           NAME                    TEAMS RATING\n",
       "0      [\\n, [Ellyse Perry], \\n]  [\\n, [], \\n, [AUS], \\n]  [418]\n",
       "1   [\\n, [Stafanie Taylor], \\n]   [\\n, [], \\n, [WI], \\n]  [410]\n",
       "2    [\\n, [Natalie Sciver], \\n]  [\\n, [], \\n, [ENG], \\n]  [349]\n",
       "3     [\\n, [Deepti Sharma], \\n]  [\\n, [], \\n, [IND], \\n]  [343]\n",
       "4     [\\n, [Jess Jonassen], \\n]  [\\n, [], \\n, [AUS], \\n]  [307]\n",
       "5  [\\n, [Ashleigh Gardner], \\n]  [\\n, [], \\n, [AUS], \\n]  [252]\n",
       "6  [\\n, [Dane van Niekerk], \\n]   [\\n, [], \\n, [SA], \\n]  [243]\n",
       "7     [\\n, [Sophie Devine], \\n]   [\\n, [], \\n, [NZ], \\n]  [242]\n",
       "8       [\\n, [Amelia Kerr], \\n]   [\\n, [], \\n, [NZ], \\n]  [236]\n",
       "9   [\\n, [Katherine Brunt], \\n]  [\\n, [], \\n, [ENG], \\n]  [236]"
      ]
     },
     "execution_count": 384,
     "metadata": {},
     "output_type": "execute_result"
    }
   ],
   "source": [
    "TOP_w_odi_al_TABLE=pd.DataFrame({})\n",
    "TOP_w_odi_al_TABLE['NAME']=w_allrounders_name[:10]\n",
    "TOP_w_odi_al_TABLE['TEAMS']=w_allrounders_team[:10]\n",
    "\n",
    "TOP_w_odi_al_TABLE['RATING']=w_allrounders_rating[:10]\n",
    "TOP_w_odi_al_TABLE"
   ]
  },
  {
   "cell_type": "markdown",
   "id": "959db9a0",
   "metadata": {},
   "source": [
    "Top 10 allrounders of womens odi cricket  team."
   ]
  },
  {
   "cell_type": "code",
   "execution_count": null,
   "id": "02a5c197",
   "metadata": {},
   "outputs": [],
   "source": []
  },
  {
   "cell_type": "code",
   "execution_count": null,
   "id": "f6d7edcb",
   "metadata": {},
   "outputs": [],
   "source": []
  },
  {
   "cell_type": "markdown",
   "id": "fbf837ca",
   "metadata": {},
   "source": [
    "# 7) a python program to scrape details of all the mobile phones under Rs. 20,000 listed on Amazon.in"
   ]
  },
  {
   "cell_type": "code",
   "execution_count": 295,
   "id": "a2492bba",
   "metadata": {},
   "outputs": [
    {
     "data": {
      "text/plain": [
       "<Response [200]>"
      ]
     },
     "execution_count": 295,
     "metadata": {},
     "output_type": "execute_result"
    }
   ],
   "source": [
    "page=requests.get('https://www.amazon.in/s?bbn=1389401031&rh=n%3A1389401031%2Cp_36%3A1318506031&dc&qid=1621938591&rnid=1318502031&ref=lp_1389401031_nr_p_36_3')\n",
    "\n",
    "page"
   ]
  },
  {
   "cell_type": "code",
   "execution_count": 296,
   "id": "45775912",
   "metadata": {},
   "outputs": [],
   "source": [
    "soup=BeautifulSoup(page.content)\n"
   ]
  },
  {
   "cell_type": "markdown",
   "id": "3a944be4",
   "metadata": {},
   "source": [
    "SMARTPHONES NAME"
   ]
  },
  {
   "cell_type": "code",
   "execution_count": 344,
   "id": "12a644d6",
   "metadata": {},
   "outputs": [
    {
     "data": {
      "text/plain": [
       "['Redmi Note 10 (Shadow Black, 4GB RAM, 64GB Storage) - Amoled Dot Display | 48MP Sony Sensor IMX582 | Snapdragon 678 Processor',\n",
       " 'Redmi Note 10 (Aqua Green, 4GB RAM, 64GB Storage)',\n",
       " 'Samsung Galaxy M12 (Blue,4GB RAM, 64GB Storage) 6000 mAh with 8nm Processor | True 48 MP Quad Camera | 90Hz Refresh Rate',\n",
       " 'Redmi Note 10 (Aqua Green, 6GB RAM, 128GB Storage) - Amoled Dot Display | 48MP Sony Sensor IMX582 | Snapdragon 678 Processor',\n",
       " 'Samsung Galaxy M12 (Black,4GB RAM, 64GB Storage) 6000 mAh with 8nm Processor | True 48 MP Quad Camera | 90Hz Refresh Rate',\n",
       " 'Oppo A31 (Fantasy White, 6GB RAM, 128GB Storage) with No Cost EMI/Additional Exchange Offers',\n",
       " 'Redmi 9 Power (Blazing Blue, 4GB RAM, 64GB Storage) - 6000mAh Battery |FHD+ Screen| 48MP Quad Camera',\n",
       " 'Redmi Note 9 (Arctic White, 4GB RAM, 64GB Storage) - 48MP Quad Camera & Full HD+ Display',\n",
       " 'Samsung Galaxy M31 (Ocean Blue, 6GB RAM, 128GB Storage)',\n",
       " 'Redmi Note 10 (Shadow Black, 6GB RAM, 128GB Storage)',\n",
       " 'Redmi Note 9 Shadow Black, 4GB RAM, 64GB Storage',\n",
       " 'Redmi Note 9 (Pebble Grey, 4GB RAM 64GB Storage) - 48MP Quad Camera & Full HD+ Display',\n",
       " 'Oppo A31 (Mystery Black, 6GB RAM, 128GB Storage) with No Cost EMI/Additional Exchange Offers',\n",
       " 'Redmi Note 10 Pro (Dark Night, 6GB RAM, 128GB Storage) -120hz Super Amoled Display|64MP with 5mp Super Tele- Macro',\n",
       " 'Redmi 9 Power (Electric Green, 4GB RAM, 64GB Storage) - 6000mAh Battery |FHD+ Screen| 48MP Quad Camera',\n",
       " 'Redmi 9 Power (Mighty Black 4GB RAM 64GB Storage) - 6000mAh Battery |FHD+ Screen | 48MP Quad Camera',\n",
       " 'OPPO A74 5G (Fluid Black, 6GB RAM, 128GB Storage)',\n",
       " 'OPPO A74 5G (Fantastic Purple, 6GB RAM, 128GB Storage)',\n",
       " 'Redmi Note 10S (Shadow Black, 6GB RAM, 128GB Storage) - Super Amoled Display | 64 MP Quad Camera',\n",
       " 'Samsung Galaxy M31s (Mirage Blue, 6GB RAM, 128GB Storage)',\n",
       " 'Samsung Galaxy M12 (White,4GB RAM, 64GB Storage) 6000 mAh with 8nm Processor | True 48 MP Quad Camera | 90Hz Refresh Rate',\n",
       " 'Redmi Note 10S (Shadow Black, 6GB RAM, 64GB Storage) - Super Amoled Display | 64 MP Quad Camera',\n",
       " 'Samsung Galaxy M12 (Blue,6GB RAM, 128GB Storage) 6000 mAh with 8nm Processor | True 48 MP Quad Camera | 90Hz Refresh Rate',\n",
       " 'Samsung Galaxy M31 (Space Black, 6GB RAM, 128GB Storage)']"
      ]
     },
     "execution_count": 344,
     "metadata": {},
     "output_type": "execute_result"
    }
   ],
   "source": [
    "product_name=soup.find_all('span',class_='a-size-base-plus a-color-base a-text-normal')\n",
    "p_name=[]\n",
    "for i in product_name:\n",
    "    p_name.append(i.text.replace('\\n',''))\n",
    "p_name  "
   ]
  },
  {
   "cell_type": "markdown",
   "id": "c16e4ee0",
   "metadata": {},
   "source": [
    "SMARTPHONES PRICE"
   ]
  },
  {
   "cell_type": "code",
   "execution_count": 345,
   "id": "49b6d9bb",
   "metadata": {},
   "outputs": [
    {
     "data": {
      "text/plain": [
       "['12,499',\n",
       " '12,499',\n",
       " '10,999',\n",
       " '14,499',\n",
       " '10,999',\n",
       " '10,990',\n",
       " '10,499',\n",
       " '10,999',\n",
       " '14,999',\n",
       " '14,499',\n",
       " '10,999',\n",
       " '10,999',\n",
       " '10,990',\n",
       " '16,999',\n",
       " '10,499',\n",
       " '10,499',\n",
       " '17,990',\n",
       " '17,990',\n",
       " '16,999',\n",
       " '10,999',\n",
       " '14,999',\n",
       " '13,499',\n",
       " '14,999']"
      ]
     },
     "execution_count": 345,
     "metadata": {},
     "output_type": "execute_result"
    }
   ],
   "source": [
    "product_price=soup.find_all('span',class_='a-price-whole')\n",
    "p_price=[]\n",
    "for i in product_price:\n",
    "    p_price.append(i.text.replace('\\n',''))\n",
    "p_price  "
   ]
  },
  {
   "cell_type": "code",
   "execution_count": null,
   "id": "7313309c",
   "metadata": {},
   "outputs": [],
   "source": []
  },
  {
   "cell_type": "code",
   "execution_count": 333,
   "id": "e6b9c30a",
   "metadata": {},
   "outputs": [],
   "source": [
    "url=('https://m.media-amazon.com/images/I/71QY6JV6FhS._AC_UL640_FMwebp_QL65_.jpg')"
   ]
  },
  {
   "cell_type": "markdown",
   "id": "a1396c3c",
   "metadata": {},
   "source": [
    "SMARTPHONES RATINGS"
   ]
  },
  {
   "cell_type": "code",
   "execution_count": 346,
   "id": "ca198ce2",
   "metadata": {},
   "outputs": [
    {
     "data": {
      "text/plain": [
       "['4.0 out of 5 stars',\n",
       " '4.0 out of 5 stars',\n",
       " '4.0 out of 5 stars',\n",
       " '4.0 out of 5 stars',\n",
       " '4.0 out of 5 stars',\n",
       " '4.2 out of 5 stars',\n",
       " '4.2 out of 5 stars',\n",
       " '4.0 out of 5 stars',\n",
       " '4.2 out of 5 stars',\n",
       " '4.1 out of 5 stars',\n",
       " '4.2 out of 5 stars',\n",
       " '4.2 out of 5 stars',\n",
       " '4.0 out of 5 stars',\n",
       " '4.0 out of 5 stars']"
      ]
     },
     "execution_count": 346,
     "metadata": {},
     "output_type": "execute_result"
    }
   ],
   "source": [
    "product_rating=soup.find_all('i',class_='a-icon a-icon-star-small a-star-small-4 aok-align-bottom')\n",
    "p_rating=[]\n",
    "for i in product_rating:\n",
    "    p_rating.append(i.text.replace('\\n',''))\n",
    "p_rating  "
   ]
  },
  {
   "cell_type": "markdown",
   "id": "fa5de80d",
   "metadata": {},
   "source": [
    "SMARTPHONES OVERALL DATA"
   ]
  },
  {
   "cell_type": "code",
   "execution_count": 348,
   "id": "f39d10b0",
   "metadata": {},
   "outputs": [
    {
     "data": {
      "text/html": [
       "<div>\n",
       "<style scoped>\n",
       "    .dataframe tbody tr th:only-of-type {\n",
       "        vertical-align: middle;\n",
       "    }\n",
       "\n",
       "    .dataframe tbody tr th {\n",
       "        vertical-align: top;\n",
       "    }\n",
       "\n",
       "    .dataframe thead th {\n",
       "        text-align: right;\n",
       "    }\n",
       "</style>\n",
       "<table border=\"1\" class=\"dataframe\">\n",
       "  <thead>\n",
       "    <tr style=\"text-align: right;\">\n",
       "      <th></th>\n",
       "      <th>NAME</th>\n",
       "      <th>PRICE</th>\n",
       "      <th>RATING</th>\n",
       "    </tr>\n",
       "  </thead>\n",
       "  <tbody>\n",
       "    <tr>\n",
       "      <th>0</th>\n",
       "      <td>[Redmi Note 10 (Shadow Black, 4GB RAM, 64GB St...</td>\n",
       "      <td>[12,499]</td>\n",
       "      <td>[[4.0 out of 5 stars]]</td>\n",
       "    </tr>\n",
       "    <tr>\n",
       "      <th>1</th>\n",
       "      <td>[Redmi Note 10 (Aqua Green, 4GB RAM, 64GB Stor...</td>\n",
       "      <td>[12,499]</td>\n",
       "      <td>[[4.0 out of 5 stars]]</td>\n",
       "    </tr>\n",
       "    <tr>\n",
       "      <th>2</th>\n",
       "      <td>[Samsung Galaxy M12 (Blue,4GB RAM, 64GB Storag...</td>\n",
       "      <td>[10,999]</td>\n",
       "      <td>[[4.0 out of 5 stars]]</td>\n",
       "    </tr>\n",
       "    <tr>\n",
       "      <th>3</th>\n",
       "      <td>[Redmi Note 10 (Aqua Green, 6GB RAM, 128GB Sto...</td>\n",
       "      <td>[14,499]</td>\n",
       "      <td>[[4.0 out of 5 stars]]</td>\n",
       "    </tr>\n",
       "    <tr>\n",
       "      <th>4</th>\n",
       "      <td>[Samsung Galaxy M12 (Black,4GB RAM, 64GB Stora...</td>\n",
       "      <td>[10,999]</td>\n",
       "      <td>[[4.0 out of 5 stars]]</td>\n",
       "    </tr>\n",
       "    <tr>\n",
       "      <th>5</th>\n",
       "      <td>[Oppo A31 (Fantasy White, 6GB RAM, 128GB Stora...</td>\n",
       "      <td>[10,990]</td>\n",
       "      <td>[[4.2 out of 5 stars]]</td>\n",
       "    </tr>\n",
       "    <tr>\n",
       "      <th>6</th>\n",
       "      <td>[Redmi 9 Power (Blazing Blue, 4GB RAM, 64GB St...</td>\n",
       "      <td>[10,499]</td>\n",
       "      <td>[[4.2 out of 5 stars]]</td>\n",
       "    </tr>\n",
       "    <tr>\n",
       "      <th>7</th>\n",
       "      <td>[Redmi Note 9 (Arctic White, 4GB RAM, 64GB Sto...</td>\n",
       "      <td>[10,999]</td>\n",
       "      <td>[[4.0 out of 5 stars]]</td>\n",
       "    </tr>\n",
       "    <tr>\n",
       "      <th>8</th>\n",
       "      <td>[Samsung Galaxy M31 (Ocean Blue, 6GB RAM, 128G...</td>\n",
       "      <td>[14,999]</td>\n",
       "      <td>[[4.2 out of 5 stars]]</td>\n",
       "    </tr>\n",
       "    <tr>\n",
       "      <th>9</th>\n",
       "      <td>[Redmi Note 10 (Shadow Black, 6GB RAM, 128GB S...</td>\n",
       "      <td>[14,499]</td>\n",
       "      <td>[[4.1 out of 5 stars]]</td>\n",
       "    </tr>\n",
       "    <tr>\n",
       "      <th>10</th>\n",
       "      <td>[Redmi Note 9 Shadow Black, 4GB RAM, 64GB Stor...</td>\n",
       "      <td>[10,999]</td>\n",
       "      <td>[[4.2 out of 5 stars]]</td>\n",
       "    </tr>\n",
       "    <tr>\n",
       "      <th>11</th>\n",
       "      <td>[Redmi Note 9 (Pebble Grey, 4GB RAM 64GB Stora...</td>\n",
       "      <td>[10,999]</td>\n",
       "      <td>[[4.2 out of 5 stars]]</td>\n",
       "    </tr>\n",
       "    <tr>\n",
       "      <th>12</th>\n",
       "      <td>[Oppo A31 (Mystery Black, 6GB RAM, 128GB Stora...</td>\n",
       "      <td>[10,990]</td>\n",
       "      <td>[[4.0 out of 5 stars]]</td>\n",
       "    </tr>\n",
       "    <tr>\n",
       "      <th>13</th>\n",
       "      <td>[Redmi Note 10 Pro (Dark Night, 6GB RAM, 128GB...</td>\n",
       "      <td>[16,999]</td>\n",
       "      <td>[[4.0 out of 5 stars]]</td>\n",
       "    </tr>\n",
       "  </tbody>\n",
       "</table>\n",
       "</div>"
      ],
      "text/plain": [
       "                                                 NAME     PRICE  \\\n",
       "0   [Redmi Note 10 (Shadow Black, 4GB RAM, 64GB St...  [12,499]   \n",
       "1   [Redmi Note 10 (Aqua Green, 4GB RAM, 64GB Stor...  [12,499]   \n",
       "2   [Samsung Galaxy M12 (Blue,4GB RAM, 64GB Storag...  [10,999]   \n",
       "3   [Redmi Note 10 (Aqua Green, 6GB RAM, 128GB Sto...  [14,499]   \n",
       "4   [Samsung Galaxy M12 (Black,4GB RAM, 64GB Stora...  [10,999]   \n",
       "5   [Oppo A31 (Fantasy White, 6GB RAM, 128GB Stora...  [10,990]   \n",
       "6   [Redmi 9 Power (Blazing Blue, 4GB RAM, 64GB St...  [10,499]   \n",
       "7   [Redmi Note 9 (Arctic White, 4GB RAM, 64GB Sto...  [10,999]   \n",
       "8   [Samsung Galaxy M31 (Ocean Blue, 6GB RAM, 128G...  [14,999]   \n",
       "9   [Redmi Note 10 (Shadow Black, 6GB RAM, 128GB S...  [14,499]   \n",
       "10  [Redmi Note 9 Shadow Black, 4GB RAM, 64GB Stor...  [10,999]   \n",
       "11  [Redmi Note 9 (Pebble Grey, 4GB RAM 64GB Stora...  [10,999]   \n",
       "12  [Oppo A31 (Mystery Black, 6GB RAM, 128GB Stora...  [10,990]   \n",
       "13  [Redmi Note 10 Pro (Dark Night, 6GB RAM, 128GB...  [16,999]   \n",
       "\n",
       "                    RATING  \n",
       "0   [[4.0 out of 5 stars]]  \n",
       "1   [[4.0 out of 5 stars]]  \n",
       "2   [[4.0 out of 5 stars]]  \n",
       "3   [[4.0 out of 5 stars]]  \n",
       "4   [[4.0 out of 5 stars]]  \n",
       "5   [[4.2 out of 5 stars]]  \n",
       "6   [[4.2 out of 5 stars]]  \n",
       "7   [[4.0 out of 5 stars]]  \n",
       "8   [[4.2 out of 5 stars]]  \n",
       "9   [[4.1 out of 5 stars]]  \n",
       "10  [[4.2 out of 5 stars]]  \n",
       "11  [[4.2 out of 5 stars]]  \n",
       "12  [[4.0 out of 5 stars]]  \n",
       "13  [[4.0 out of 5 stars]]  "
      ]
     },
     "execution_count": 348,
     "metadata": {},
     "output_type": "execute_result"
    }
   ],
   "source": [
    "SMARTPHONES=pd.DataFrame({})\n",
    "SMARTPHONES['NAME']=product_name[:14]\n",
    "SMARTPHONES['PRICE']=product_price[:14]\n",
    "\n",
    "SMARTPHONES['RATING']=product_rating[:14]\n",
    "SMARTPHONES\n"
   ]
  },
  {
   "cell_type": "code",
   "execution_count": 349,
   "id": "16ecff26",
   "metadata": {},
   "outputs": [
    {
     "data": {
      "text/plain": [
       "'https://m.media-amazon.com/images/I/71QY6JV6FhS._AC_UL640_FMwebp_QL65_.jpg'"
      ]
     },
     "execution_count": 349,
     "metadata": {},
     "output_type": "execute_result"
    }
   ],
   "source": [
    "url"
   ]
  },
  {
   "cell_type": "code",
   "execution_count": null,
   "id": "8a7b2e54",
   "metadata": {},
   "outputs": [],
   "source": []
  },
  {
   "cell_type": "code",
   "execution_count": null,
   "id": "47bac711",
   "metadata": {},
   "outputs": [],
   "source": []
  },
  {
   "cell_type": "markdown",
   "id": "3ee93ab4",
   "metadata": {},
   "source": [
    "# 8)  python program to extract information about the local weather from the National Weather Service \n"
   ]
  },
  {
   "cell_type": "code",
   "execution_count": 350,
   "id": "a229dc87",
   "metadata": {},
   "outputs": [
    {
     "data": {
      "text/plain": [
       "<Response [200]>"
      ]
     },
     "execution_count": 350,
     "metadata": {},
     "output_type": "execute_result"
    }
   ],
   "source": [
    "page=requests.get('https://forecast.weather.gov/MapClick.php?lat=37.777120000000025&lon=-122.41963999999996#.YKz8oY3itPY')\n",
    "\n",
    "page"
   ]
  },
  {
   "cell_type": "code",
   "execution_count": 351,
   "id": "970b170a",
   "metadata": {},
   "outputs": [],
   "source": [
    "soup=BeautifulSoup(page.content)\n"
   ]
  },
  {
   "cell_type": "markdown",
   "id": "40d6be0c",
   "metadata": {},
   "source": [
    "WEATHER TIME PERIOD"
   ]
  },
  {
   "cell_type": "code",
   "execution_count": 352,
   "id": "5509b062",
   "metadata": {},
   "outputs": [
    {
     "data": {
      "text/plain": [
       "['Today',\n",
       " 'Tonight',\n",
       " 'Wednesday',\n",
       " 'WednesdayNight',\n",
       " 'Thursday',\n",
       " 'ThursdayNight',\n",
       " 'Friday',\n",
       " 'FridayNight',\n",
       " 'Saturday']"
      ]
     },
     "execution_count": 352,
     "metadata": {},
     "output_type": "execute_result"
    }
   ],
   "source": [
    "period=soup.find_all('p',class_='period-name')\n",
    "w_period=[]\n",
    "for i in period:\n",
    "    w_period.append(i.text.replace('\\n',''))\n",
    "w_period  "
   ]
  },
  {
   "cell_type": "markdown",
   "id": "98922928",
   "metadata": {},
   "source": [
    "WEATHER SHORT DESCRIPTION"
   ]
  },
  {
   "cell_type": "code",
   "execution_count": 353,
   "id": "e54e9af9",
   "metadata": {},
   "outputs": [
    {
     "data": {
      "text/plain": [
       "['Mostly Sunnythen Sunnyand Breezy',\n",
       " 'Mostly Clear',\n",
       " 'Sunny thenSunny andBreezy',\n",
       " 'Mostly Clearand Breezy',\n",
       " 'Sunny andBreezy',\n",
       " 'Mostly Clearand Breezythen PartlyCloudy',\n",
       " 'Sunny',\n",
       " 'Partly Cloudy',\n",
       " 'Mostly Sunny']"
      ]
     },
     "execution_count": 353,
     "metadata": {},
     "output_type": "execute_result"
    }
   ],
   "source": [
    "s_description=soup.find_all('p',class_='short-desc')\n",
    "short_description=[]\n",
    "for i in s_description:\n",
    "    short_description.append(i.text.replace('\\n',''))\n",
    "short_description  "
   ]
  },
  {
   "cell_type": "markdown",
   "id": "ed0a3d23",
   "metadata": {},
   "source": [
    "WEATHER DETAIL DESCRIPION WITH TEMPRATURE"
   ]
  },
  {
   "cell_type": "code",
   "execution_count": 357,
   "id": "11e73df8",
   "metadata": {},
   "outputs": [
    {
     "data": {
      "text/plain": [
       "['Mostly cloudy through mid morning, then gradual clearing, with a high near 64. Breezy, with a west wind 13 to 18 mph increasing to 19 to 24 mph in the afternoon. Winds could gust as high as 32 mph. ',\n",
       " 'Mostly clear, with a low around 49. West southwest wind 15 to 20 mph decreasing to 5 to 10 mph after midnight. Winds could gust as high as 25 mph. ',\n",
       " 'Sunny, with a high near 65. Breezy, with a west southwest wind 5 to 15 mph increasing to 15 to 25 mph in the afternoon. Winds could gust as high as 33 mph. ',\n",
       " 'Mostly clear, with a low around 49. Breezy, with a west wind 21 to 26 mph, with gusts as high as 34 mph. ',\n",
       " 'Sunny, with a high near 67. Breezy, with a west wind 20 to 28 mph, with gusts as high as 37 mph. ',\n",
       " 'Mostly clear, with a low around 51. Breezy. ',\n",
       " 'Sunny, with a high near 65.',\n",
       " 'Partly cloudy, with a low around 51.',\n",
       " 'Mostly sunny, with a high near 64.',\n",
       " 'Partly cloudy, with a low around 51.',\n",
       " 'Sunny, with a high near 68.',\n",
       " 'Mostly clear, with a low around 52.',\n",
       " 'Sunny, with a high near 72.']"
      ]
     },
     "execution_count": 357,
     "metadata": {},
     "output_type": "execute_result"
    }
   ],
   "source": [
    "d_desc=soup.find_all('div',class_='col-sm-10 forecast-text')\n",
    "detail_desc=[]\n",
    "for i in d_desc:\n",
    "    detail_desc.append(i.text.replace('\\n',''))\n",
    "detail_desc  "
   ]
  },
  {
   "cell_type": "markdown",
   "id": "a8af6e53",
   "metadata": {},
   "source": [
    "WEATHER REPORT"
   ]
  },
  {
   "cell_type": "code",
   "execution_count": 365,
   "id": "5132bce8",
   "metadata": {},
   "outputs": [
    {
     "data": {
      "text/html": [
       "<div>\n",
       "<style scoped>\n",
       "    .dataframe tbody tr th:only-of-type {\n",
       "        vertical-align: middle;\n",
       "    }\n",
       "\n",
       "    .dataframe tbody tr th {\n",
       "        vertical-align: top;\n",
       "    }\n",
       "\n",
       "    .dataframe thead th {\n",
       "        text-align: right;\n",
       "    }\n",
       "</style>\n",
       "<table border=\"1\" class=\"dataframe\">\n",
       "  <thead>\n",
       "    <tr style=\"text-align: right;\">\n",
       "      <th></th>\n",
       "      <th>PERIOD</th>\n",
       "      <th>SHORT DESCRIPTION</th>\n",
       "      <th>DETAIL DESCRIPTION WITH TEMPRATURE IN FAHRENHEIT</th>\n",
       "    </tr>\n",
       "  </thead>\n",
       "  <tbody>\n",
       "    <tr>\n",
       "      <th>0</th>\n",
       "      <td>[Today, [], []]</td>\n",
       "      <td>[Mostly Sunny, [], then Sunny, [], and Breezy]</td>\n",
       "      <td>[Mostly cloudy through mid morning, then gradu...</td>\n",
       "    </tr>\n",
       "    <tr>\n",
       "      <th>1</th>\n",
       "      <td>[Tonight, [], []]</td>\n",
       "      <td>[Mostly Clear]</td>\n",
       "      <td>[Mostly clear, with a low around 49. West sout...</td>\n",
       "    </tr>\n",
       "    <tr>\n",
       "      <th>2</th>\n",
       "      <td>[Wednesday, [], []]</td>\n",
       "      <td>[Sunny then, [], Sunny and, [], Breezy]</td>\n",
       "      <td>[Sunny, with a high near 65. Breezy, with a we...</td>\n",
       "    </tr>\n",
       "    <tr>\n",
       "      <th>3</th>\n",
       "      <td>[Wednesday, [], Night]</td>\n",
       "      <td>[Mostly Clear, [], and Breezy]</td>\n",
       "      <td>[Mostly clear, with a low around 49. Breezy, w...</td>\n",
       "    </tr>\n",
       "    <tr>\n",
       "      <th>4</th>\n",
       "      <td>[Thursday, [], []]</td>\n",
       "      <td>[Sunny and, [], Breezy]</td>\n",
       "      <td>[Sunny, with a high near 67. Breezy, with a we...</td>\n",
       "    </tr>\n",
       "    <tr>\n",
       "      <th>5</th>\n",
       "      <td>[Thursday, [], Night]</td>\n",
       "      <td>[Mostly Clear, [], and Breezy, [], then Partly...</td>\n",
       "      <td>[Mostly clear, with a low around 51. Breezy. ]</td>\n",
       "    </tr>\n",
       "    <tr>\n",
       "      <th>6</th>\n",
       "      <td>[Friday, [], []]</td>\n",
       "      <td>[Sunny]</td>\n",
       "      <td>[Sunny, with a high near 65.]</td>\n",
       "    </tr>\n",
       "  </tbody>\n",
       "</table>\n",
       "</div>"
      ],
      "text/plain": [
       "                   PERIOD                                  SHORT DESCRIPTION  \\\n",
       "0         [Today, [], []]     [Mostly Sunny, [], then Sunny, [], and Breezy]   \n",
       "1       [Tonight, [], []]                                     [Mostly Clear]   \n",
       "2     [Wednesday, [], []]            [Sunny then, [], Sunny and, [], Breezy]   \n",
       "3  [Wednesday, [], Night]                     [Mostly Clear, [], and Breezy]   \n",
       "4      [Thursday, [], []]                            [Sunny and, [], Breezy]   \n",
       "5   [Thursday, [], Night]  [Mostly Clear, [], and Breezy, [], then Partly...   \n",
       "6        [Friday, [], []]                                            [Sunny]   \n",
       "\n",
       "    DETAIL DESCRIPTION WITH TEMPRATURE IN FAHRENHEIT  \n",
       "0  [Mostly cloudy through mid morning, then gradu...  \n",
       "1  [Mostly clear, with a low around 49. West sout...  \n",
       "2  [Sunny, with a high near 65. Breezy, with a we...  \n",
       "3  [Mostly clear, with a low around 49. Breezy, w...  \n",
       "4  [Sunny, with a high near 67. Breezy, with a we...  \n",
       "5     [Mostly clear, with a low around 51. Breezy. ]  \n",
       "6                      [Sunny, with a high near 65.]  "
      ]
     },
     "execution_count": 365,
     "metadata": {},
     "output_type": "execute_result"
    }
   ],
   "source": [
    "weather_forcast=pd.DataFrame({})\n",
    "weather_forcast['PERIOD']=period[:7]\n",
    "weather_forcast['SHORT DESCRIPTION']=s_description[:7]\n",
    "\n",
    "\n",
    "weather_forcast['DETAIL DESCRIPTION WITH TEMPRATURE IN FAHRENHEIT']=d_desc[:7]\n",
    "\n",
    "weather_forcast"
   ]
  },
  {
   "cell_type": "code",
   "execution_count": null,
   "id": "e5aeed79",
   "metadata": {},
   "outputs": [],
   "source": []
  },
  {
   "cell_type": "code",
   "execution_count": null,
   "id": "640a0efb",
   "metadata": {},
   "outputs": [],
   "source": []
  },
  {
   "cell_type": "markdown",
   "id": "b5030a0a",
   "metadata": {},
   "source": [
    "# 9) a python program to scrape fresher job listings from ‘https://internshala.com/"
   ]
  },
  {
   "cell_type": "code",
   "execution_count": 10,
   "id": "463076d0",
   "metadata": {},
   "outputs": [
    {
     "data": {
      "text/plain": [
       "<Response [200]>"
      ]
     },
     "execution_count": 10,
     "metadata": {},
     "output_type": "execute_result"
    }
   ],
   "source": [
    "page=requests.get('https://internshala.com/fresher-jobs')\n",
    "\n",
    "page"
   ]
  },
  {
   "cell_type": "markdown",
   "id": "e4f17245",
   "metadata": {},
   "source": [
    "JOBS"
   ]
  },
  {
   "cell_type": "code",
   "execution_count": 11,
   "id": "7b489963",
   "metadata": {},
   "outputs": [],
   "source": [
    "soup=BeautifulSoup(page.content)\n",
    "\n"
   ]
  },
  {
   "cell_type": "code",
   "execution_count": 12,
   "id": "7f9fcde2",
   "metadata": {},
   "outputs": [
    {
     "data": {
      "text/plain": [
       "['Talent Acquisition Executive ',\n",
       " 'Full Stack Developer ',\n",
       " 'Backend Developer ',\n",
       " 'Full Stack Developer ',\n",
       " 'Junior Sales Associate ',\n",
       " 'Digital Marketing Specialist ',\n",
       " 'Android App Developer ',\n",
       " 'Associate Data Scientist ',\n",
       " 'Junior Software Developer ',\n",
       " 'Associate Software Developer ',\n",
       " 'Full Stack Developer ',\n",
       " 'Operations Executive ',\n",
       " 'Associate UI/UX Designer ',\n",
       " 'Web Development Trainee ',\n",
       " 'Business Development Executive ',\n",
       " 'Full Stack Flutter Developer ',\n",
       " 'Associate Software Developer ',\n",
       " 'Hardware Simulation Engineer ',\n",
       " 'Graphic Designer ',\n",
       " 'Marketing Analyst ',\n",
       " 'Mobile App Developer ',\n",
       " 'Software Engineer - AI(NLP)/Front-end(Angular)/Back-end(Python/Java Cloud) ',\n",
       " 'Corporate Sales Executive ',\n",
       " 'Software Tester ',\n",
       " 'Mobile App Developer ',\n",
       " 'Junior Backend Developer ',\n",
       " 'Social Media Strategist And Copywriter ',\n",
       " 'Junior UI Designer ',\n",
       " 'Customer Service Executive ',\n",
       " 'Business Development Associate ',\n",
       " 'JavaScript Developer ',\n",
       " 'Software Engineer ',\n",
       " 'Business Development Manager (Inside Sales) ',\n",
       " 'Proposal & Marketing Engineer ',\n",
       " 'Software Engineer Trainee ',\n",
       " 'Associate Software Developer ',\n",
       " 'Office Manager ',\n",
       " 'Technical Recruiter ',\n",
       " 'Administrative Assistant ',\n",
       " 'Web Developer ']"
      ]
     },
     "execution_count": 12,
     "metadata": {},
     "output_type": "execute_result"
    }
   ],
   "source": [
    "title=soup.find_all('div',class_='heading_4_5 profile')\n",
    "jobs_title=[]\n",
    "for i in title:\n",
    "    jobs_title.append(i.text.replace('\\n',''))\n",
    "jobs_title  "
   ]
  },
  {
   "cell_type": "markdown",
   "id": "b9efa9be",
   "metadata": {},
   "source": [
    "COMPANY"
   ]
  },
  {
   "cell_type": "code",
   "execution_count": 16,
   "id": "6c6d7b4f",
   "metadata": {},
   "outputs": [
    {
     "data": {
      "text/plain": [
       "['                        CrewKarma                    ',\n",
       " '                        Codfirm                    ',\n",
       " '                        WebMOBI                    ',\n",
       " '                        TMBill Software                    ',\n",
       " '                        Kraftshala                    ',\n",
       " '                        Black Jack                    ',\n",
       " '                        Storlyy                    ',\n",
       " '                        Softsensor.ai                    ',\n",
       " '                        ZoryBoard Software Solutions                    ',\n",
       " '                        SNet Labs Private Limited                    ',\n",
       " '                        RavGins International Private Limited (Wobb.ai)                    ',\n",
       " '                        TutorBin                    ',\n",
       " '                        RavGins International Private Limited (Wobb.ai)                    ',\n",
       " '                        Softsensor.ai                    ',\n",
       " '                        Square Select Estates                    ',\n",
       " '                        HeartShirt                    ',\n",
       " '                        Labellerr By Tensor Matics Private Limited                    ',\n",
       " '                        Keysight Technologies                    ',\n",
       " '                        Cynfas                    ',\n",
       " '                        Exhilar Innovative Solutions Private Limited                    ',\n",
       " '                        Wow Labz                    ',\n",
       " '                        RapidKen.AI                    ',\n",
       " '                        Twin Health                    ',\n",
       " '                        Lattice Innovations Private Limited                    ',\n",
       " '                        Fusion Engineering                    ',\n",
       " '                        VPODS.ai                    ',\n",
       " '                        Internshala                    ',\n",
       " '                        Phionike Solutions                    ',\n",
       " '                        Verzeo                    ',\n",
       " '                        Erikka India                    ',\n",
       " '                        Inflolabs                    ',\n",
       " '                        CrewKarma                    ',\n",
       " '                        Vedic Maths Forum India                    ',\n",
       " '                        EnWe Clean Technologies Private Limited                    ',\n",
       " '                        RightRev India Private Limited                    ',\n",
       " '                        Shashank B                    ',\n",
       " '                        Wono Inc                    ',\n",
       " '                        Wono Inc                    ',\n",
       " '                        Wono Inc                    ',\n",
       " '                        Wono Inc                    ']"
      ]
     },
     "execution_count": 16,
     "metadata": {},
     "output_type": "execute_result"
    }
   ],
   "source": [
    "c=soup.find_all('a',class_='link_display_like_text')\n",
    "company=[]\n",
    "for i in c:\n",
    "    company.append(i.text.replace('\\n',''))\n",
    "company "
   ]
  },
  {
   "cell_type": "markdown",
   "id": "2dfe314c",
   "metadata": {},
   "source": [
    "CTC"
   ]
  },
  {
   "cell_type": "code",
   "execution_count": 51,
   "id": "32818687",
   "metadata": {},
   "outputs": [
    {
     "data": {
      "text/plain": [
       "['     Starts\\xa0Immediately                             ',\n",
       " '       3 - 5 LPA                                                    ',\n",
       " \"24 Jun' 21\",\n",
       " '     Starts\\xa0Immediately                             ',\n",
       " '       5 - 8 LPA                                                    ',\n",
       " \"24 Jun' 21\",\n",
       " '     Starts\\xa0Immediately                             ',\n",
       " '       3 LPA                                                    ',\n",
       " \"24 Jun' 21\",\n",
       " '     Starts\\xa0Immediately                             ',\n",
       " '       3 LPA                                                    ',\n",
       " \"24 Jun' 21\",\n",
       " '     Starts\\xa0Immediately                             ',\n",
       " '       4 LPA                                                    ',\n",
       " \"24 Jun' 21\",\n",
       " '     Starts\\xa0Immediately                             ',\n",
       " '       3 - 5 LPA                                                    ',\n",
       " \"24 Jun' 21\",\n",
       " '     Starts\\xa0Immediately                             ',\n",
       " '       3 - 3.5 LPA                                                    ',\n",
       " \"23 Jun' 21\",\n",
       " '     Starts\\xa0Immediately                             ',\n",
       " '       4 - 8 LPA                                                    ',\n",
       " \"24 Jun' 21\",\n",
       " '     Starts\\xa0Immediately                             ',\n",
       " '       3 - 4 LPA                                                    ',\n",
       " \"20 Jun' 21\",\n",
       " '     Starts\\xa0Immediately                             ',\n",
       " '       3 - 3.2 LPA                                                    ',\n",
       " \"20 Jun' 21\",\n",
       " '     Starts\\xa0Immediately                             ',\n",
       " '       3.3 - 4 LPA                                                    ',\n",
       " \"20 Jun' 21\",\n",
       " '     Starts\\xa0Immediately                             ',\n",
       " '       3.6 - 3.84 LPA                                                    ',\n",
       " \"20 Jun' 21\",\n",
       " '     Starts\\xa0Immediately                             ',\n",
       " '       3 - 4 LPA                                                    ',\n",
       " \"20 Jun' 21\",\n",
       " '     Starts\\xa0Immediately                             ',\n",
       " '       3 - 5 LPA                                                    ',\n",
       " \"20 Jun' 21\",\n",
       " '     Starts\\xa0Immediately                             ',\n",
       " '       3 - 5 LPA                                                    ',\n",
       " \"19 Jun' 21\",\n",
       " '     Starts\\xa0Immediately                             ',\n",
       " '       3 - 3.5 LPA                                                    ',\n",
       " \"19 Jun' 21\",\n",
       " '     Starts\\xa0Immediately                             ',\n",
       " '       7 - 10 LPA                                                    ',\n",
       " \"23 Jun' 21\",\n",
       " '     Starts\\xa0Immediately                             ',\n",
       " '       4 - 7 LPA                                                    ',\n",
       " \"19 Jun' 21\",\n",
       " '     Starts\\xa0Immediately                             ',\n",
       " '       3 LPA                                                    ',\n",
       " \"17 Jun' 21\",\n",
       " '     Starts\\xa0Immediately                             ',\n",
       " '       3 - 6 LPA                                                    ',\n",
       " \"17 Jun' 21\",\n",
       " '     Starts\\xa0Immediately                             ',\n",
       " '       3 - 5 LPA                                                    ',\n",
       " \"17 Jun' 21\",\n",
       " '     Starts\\xa0Immediately                             ',\n",
       " '       4 - 8 LPA                                                    ',\n",
       " \"17 Jun' 21\",\n",
       " '     Starts\\xa0Immediately                             ',\n",
       " '       3 - 4 LPA                                                    ',\n",
       " \"17 Jun' 21\",\n",
       " '     Starts\\xa0Immediately                             ',\n",
       " '       3 LPA                                                    ',\n",
       " \"16 Jun' 21\",\n",
       " '     Starts\\xa0Immediately                             ',\n",
       " '       4.5 - 5.25 LPA                                                    ',\n",
       " \"16 Jun' 21\",\n",
       " '     Starts\\xa0Immediately                             ',\n",
       " '       4 - 5 LPA                                                    ',\n",
       " \"16 Jun' 21\",\n",
       " '     Starts\\xa0Immediately                             ',\n",
       " '       5 - 6.8 LPA                                                    ',\n",
       " \"16 Jun' 21\",\n",
       " '     Starts\\xa0Immediately                             ',\n",
       " '       3.5 - 4 LPA                                                    ',\n",
       " \"15 Jun' 21\",\n",
       " '     Starts\\xa0Immediately                             ',\n",
       " '       3 LPA                                                    ',\n",
       " \"14 Jun' 21\",\n",
       " '     Starts\\xa0Immediately                             ',\n",
       " '       3 - 5 LPA                                                    ',\n",
       " \"14 Jun' 21\",\n",
       " '     Starts\\xa0Immediately                             ',\n",
       " '       3 - 5 LPA                                                    ',\n",
       " \"13 Jun' 21\",\n",
       " '     Starts\\xa0Immediately                             ',\n",
       " '       3 - 5 LPA                                                    ',\n",
       " \"13 Jun' 21\",\n",
       " '     Starts\\xa0Immediately                             ',\n",
       " '       3 - 4 LPA                                                    ',\n",
       " \"13 Jun' 21\",\n",
       " '     Starts\\xa0Immediately                             ',\n",
       " '       3 - 3.25 LPA                                                    ',\n",
       " \"12 Jun' 21\",\n",
       " '     Starts\\xa0Immediately                             ',\n",
       " '       3 LPA                                                    ',\n",
       " \"12 Jun' 21\",\n",
       " '     Starts\\xa0Immediately                             ',\n",
       " '       5 - 6 LPA                                                    ',\n",
       " \"12 Jun' 21\",\n",
       " '     Starts\\xa0Immediately                             ',\n",
       " '       5.1 - 6.1 LPA                                                    ',\n",
       " \"12 Jun' 21\",\n",
       " '     Starts\\xa0Immediately                             ',\n",
       " '       5.1 - 6.1 LPA                                                    ',\n",
       " \"12 Jun' 21\",\n",
       " '     Starts\\xa0Immediately                             ',\n",
       " '       5 - 6.5 LPA                                                    ',\n",
       " \"12 Jun' 21\",\n",
       " '     Starts\\xa0Immediately                             ',\n",
       " '       5.5 - 6.5 LPA                                                    ',\n",
       " \"12 Jun' 21\"]"
      ]
     },
     "execution_count": 51,
     "metadata": {},
     "output_type": "execute_result"
    }
   ],
   "source": [
    "ctc=soup.find_all('div',class_='item_body')\n",
    "CTC=[]\n",
    "for i in ctc:\n",
    "    CTC.append(i.text.replace('\\n','     '))\n",
    "CTC"
   ]
  },
  {
   "cell_type": "markdown",
   "id": "5eeb584f",
   "metadata": {},
   "source": [
    "APPLYING DATE"
   ]
  },
  {
   "cell_type": "code",
   "execution_count": 47,
   "id": "05f7874e",
   "metadata": {},
   "outputs": [
    {
     "data": {
      "text/plain": [
       "['                                Start date                            Starts\\xa0Immediately                        CTC  3 - 5 LPA                                                    ',\n",
       " \"Apply By24 Jun' 21\",\n",
       " '                                Start date                            Starts\\xa0Immediately                        CTC  5 - 8 LPA                                                    ',\n",
       " \"Apply By24 Jun' 21\",\n",
       " '                                Start date                            Starts\\xa0Immediately                        CTC  3 LPA                                                    ',\n",
       " \"Apply By24 Jun' 21\",\n",
       " '                                Start date                            Starts\\xa0Immediately                        CTC  3 LPA                                                    ',\n",
       " \"Apply By24 Jun' 21\",\n",
       " '                                Start date                            Starts\\xa0Immediately                        CTC  4 LPA                                                    ',\n",
       " \"Apply By24 Jun' 21\",\n",
       " '                                Start date                            Starts\\xa0Immediately                        CTC  3 - 5 LPA                                                    ',\n",
       " \"Apply By24 Jun' 21\",\n",
       " '                                Start date                            Starts\\xa0Immediately                        CTC  3 - 3.5 LPA                                                    ',\n",
       " \"Apply By23 Jun' 21\",\n",
       " '                                Start date                            Starts\\xa0Immediately                        CTC  4 - 8 LPA                                                    ',\n",
       " \"Apply By24 Jun' 21\",\n",
       " '                                Start date                            Starts\\xa0Immediately                        CTC  3 - 4 LPA                                                    ',\n",
       " \"Apply By20 Jun' 21\",\n",
       " '                                Start date                            Starts\\xa0Immediately                        CTC  3 - 3.2 LPA                                                    ',\n",
       " \"Apply By20 Jun' 21\",\n",
       " '                                Start date                            Starts\\xa0Immediately                        CTC  3.3 - 4 LPA                                                    ',\n",
       " \"Apply By20 Jun' 21\",\n",
       " '                                Start date                            Starts\\xa0Immediately                        CTC  3.6 - 3.84 LPA                                                    ',\n",
       " \"Apply By20 Jun' 21\",\n",
       " '                                Start date                            Starts\\xa0Immediately                        CTC  3 - 4 LPA                                                    ',\n",
       " \"Apply By20 Jun' 21\",\n",
       " '                                Start date                            Starts\\xa0Immediately                        CTC  3 - 5 LPA                                                    ',\n",
       " \"Apply By20 Jun' 21\",\n",
       " '                                Start date                            Starts\\xa0Immediately                        CTC  3 - 5 LPA                                                    ',\n",
       " \"Apply By19 Jun' 21\",\n",
       " '                                Start date                            Starts\\xa0Immediately                        CTC  3 - 3.5 LPA                                                    ',\n",
       " \"Apply By19 Jun' 21\",\n",
       " '                                Start date                            Starts\\xa0Immediately                        CTC  7 - 10 LPA                                                    ',\n",
       " \"Apply By23 Jun' 21\",\n",
       " '                                Start date                            Starts\\xa0Immediately                        CTC  4 - 7 LPA                                                    ',\n",
       " \"Apply By19 Jun' 21\",\n",
       " '                                Start date                            Starts\\xa0Immediately                        CTC  3 LPA                                                    ',\n",
       " \"Apply By17 Jun' 21\",\n",
       " '                                Start date                            Starts\\xa0Immediately                        CTC  3 - 6 LPA                                                    ',\n",
       " \"Apply By17 Jun' 21\",\n",
       " '                                Start date                            Starts\\xa0Immediately                        CTC  3 - 5 LPA                                                    ',\n",
       " \"Apply By17 Jun' 21\",\n",
       " '                                Start date                            Starts\\xa0Immediately                        CTC  4 - 8 LPA                                                    ',\n",
       " \"Apply By17 Jun' 21\",\n",
       " '                                Start date                            Starts\\xa0Immediately                        CTC  3 - 4 LPA                                                    ',\n",
       " \"Apply By17 Jun' 21\",\n",
       " '                                Start date                            Starts\\xa0Immediately                        CTC  3 LPA                                                    ',\n",
       " \"Apply By16 Jun' 21\",\n",
       " '                                Start date                            Starts\\xa0Immediately                        CTC  4.5 - 5.25 LPA                                                    ',\n",
       " \"Apply By16 Jun' 21\",\n",
       " '                                Start date                            Starts\\xa0Immediately                        CTC  4 - 5 LPA                                                    ',\n",
       " \"Apply By16 Jun' 21\",\n",
       " '                                Start date                            Starts\\xa0Immediately                        CTC  5 - 6.8 LPA                                                    ',\n",
       " \"Apply By16 Jun' 21\",\n",
       " '                                Start date                            Starts\\xa0Immediately                        CTC  3.5 - 4 LPA                                                    ',\n",
       " \"Apply By15 Jun' 21\",\n",
       " '                                Start date                            Starts\\xa0Immediately                        CTC  3 LPA                                                    ',\n",
       " \"Apply By14 Jun' 21\",\n",
       " '                                Start date                            Starts\\xa0Immediately                        CTC  3 - 5 LPA                                                    ',\n",
       " \"Apply By14 Jun' 21\",\n",
       " '                                Start date                            Starts\\xa0Immediately                        CTC  3 - 5 LPA                                                    ',\n",
       " \"Apply By13 Jun' 21\",\n",
       " '                                Start date                            Starts\\xa0Immediately                        CTC  3 - 5 LPA                                                    ',\n",
       " \"Apply By13 Jun' 21\",\n",
       " '                                Start date                            Starts\\xa0Immediately                        CTC  3 - 4 LPA                                                    ',\n",
       " \"Apply By13 Jun' 21\",\n",
       " '                                Start date                            Starts\\xa0Immediately                        CTC  3 - 3.25 LPA                                                    ',\n",
       " \"Apply By12 Jun' 21\",\n",
       " '                                Start date                            Starts\\xa0Immediately                        CTC  3 LPA                                                    ',\n",
       " \"Apply By12 Jun' 21\",\n",
       " '                                Start date                            Starts\\xa0Immediately                        CTC  5 - 6 LPA                                                    ',\n",
       " \"Apply By12 Jun' 21\",\n",
       " '                                Start date                            Starts\\xa0Immediately                        CTC  5.1 - 6.1 LPA                                                    ',\n",
       " \"Apply By12 Jun' 21\",\n",
       " '                                Start date                            Starts\\xa0Immediately                        CTC  5.1 - 6.1 LPA                                                    ',\n",
       " \"Apply By12 Jun' 21\",\n",
       " '                                Start date                            Starts\\xa0Immediately                        CTC  5 - 6.5 LPA                                                    ',\n",
       " \"Apply By12 Jun' 21\",\n",
       " '                                Start date                            Starts\\xa0Immediately                        CTC  5.5 - 6.5 LPA                                                    ',\n",
       " \"Apply By12 Jun' 21\"]"
      ]
     },
     "execution_count": 47,
     "metadata": {},
     "output_type": "execute_result"
    }
   ],
   "source": [
    "date=soup.find_all('div',class_='other_detail_item_row')\n",
    "a_date=[]\n",
    "for i in date:\n",
    "    a_date.append(i.text.replace('\\n',''))\n",
    "a_date"
   ]
  },
  {
   "cell_type": "code",
   "execution_count": 27,
   "id": "103e2c7c",
   "metadata": {},
   "outputs": [
    {
     "data": {
      "text/plain": [
       "120"
      ]
     },
     "execution_count": 27,
     "metadata": {},
     "output_type": "execute_result"
    }
   ],
   "source": [
    "len(date)"
   ]
  },
  {
   "cell_type": "markdown",
   "id": "8f5a8a2a",
   "metadata": {},
   "source": [
    "FRESHERS JOB DATA"
   ]
  },
  {
   "cell_type": "code",
   "execution_count": 52,
   "id": "78c7dada",
   "metadata": {},
   "outputs": [
    {
     "data": {
      "text/html": [
       "<div>\n",
       "<style scoped>\n",
       "    .dataframe tbody tr th:only-of-type {\n",
       "        vertical-align: middle;\n",
       "    }\n",
       "\n",
       "    .dataframe tbody tr th {\n",
       "        vertical-align: top;\n",
       "    }\n",
       "\n",
       "    .dataframe thead th {\n",
       "        text-align: right;\n",
       "    }\n",
       "</style>\n",
       "<table border=\"1\" class=\"dataframe\">\n",
       "  <thead>\n",
       "    <tr style=\"text-align: right;\">\n",
       "      <th></th>\n",
       "      <th>JOBS</th>\n",
       "      <th>COMPANY</th>\n",
       "      <th>CTC</th>\n",
       "      <th>APPLY BY</th>\n",
       "    </tr>\n",
       "  </thead>\n",
       "  <tbody>\n",
       "    <tr>\n",
       "      <th>0</th>\n",
       "      <td>[\\n, [Talent Acquisition Executive],  ]</td>\n",
       "      <td>[\\n                        CrewKarma          ...</td>\n",
       "      <td>[\\n, [Starts ], Immediately\\n                 ...</td>\n",
       "      <td>Start date    ...</td>\n",
       "    </tr>\n",
       "    <tr>\n",
       "      <th>1</th>\n",
       "      <td>[\\n, [Full Stack Developer],  ]</td>\n",
       "      <td>[\\n                        Codfirm            ...</td>\n",
       "      <td>[\\n, [],   3 - 5 LPA                          ...</td>\n",
       "      <td>Apply By24 Jun' 21</td>\n",
       "    </tr>\n",
       "    <tr>\n",
       "      <th>2</th>\n",
       "      <td>[\\n, [Backend Developer],  ]</td>\n",
       "      <td>[\\n                        WebMOBI            ...</td>\n",
       "      <td>[24 Jun' 21]</td>\n",
       "      <td>Start date    ...</td>\n",
       "    </tr>\n",
       "    <tr>\n",
       "      <th>3</th>\n",
       "      <td>[\\n, [Full Stack Developer],  ]</td>\n",
       "      <td>[\\n                        TMBill Software    ...</td>\n",
       "      <td>[\\n, [Starts ], Immediately\\n                 ...</td>\n",
       "      <td>Apply By24 Jun' 21</td>\n",
       "    </tr>\n",
       "    <tr>\n",
       "      <th>4</th>\n",
       "      <td>[\\n, [Junior Sales Associate],  ]</td>\n",
       "      <td>[\\n                        Kraftshala         ...</td>\n",
       "      <td>[\\n, [],   5 - 8 LPA                          ...</td>\n",
       "      <td>Start date    ...</td>\n",
       "    </tr>\n",
       "    <tr>\n",
       "      <th>5</th>\n",
       "      <td>[\\n, [Digital Marketing Specialist],  ]</td>\n",
       "      <td>[\\n                        Black Jack         ...</td>\n",
       "      <td>[24 Jun' 21]</td>\n",
       "      <td>Apply By24 Jun' 21</td>\n",
       "    </tr>\n",
       "    <tr>\n",
       "      <th>6</th>\n",
       "      <td>[\\n, [Android App Developer],  ]</td>\n",
       "      <td>[\\n                        Storlyy            ...</td>\n",
       "      <td>[\\n, [Starts ], Immediately\\n                 ...</td>\n",
       "      <td>Start date    ...</td>\n",
       "    </tr>\n",
       "    <tr>\n",
       "      <th>7</th>\n",
       "      <td>[\\n, [Associate Data Scientist],  ]</td>\n",
       "      <td>[\\n                        Softsensor.ai      ...</td>\n",
       "      <td>[\\n, [],   3 LPA                              ...</td>\n",
       "      <td>Apply By24 Jun' 21</td>\n",
       "    </tr>\n",
       "    <tr>\n",
       "      <th>8</th>\n",
       "      <td>[\\n, [Junior Software Developer],  ]</td>\n",
       "      <td>[\\n                        ZoryBoard Software ...</td>\n",
       "      <td>[24 Jun' 21]</td>\n",
       "      <td>Start date    ...</td>\n",
       "    </tr>\n",
       "    <tr>\n",
       "      <th>9</th>\n",
       "      <td>[\\n, [Associate Software Developer],  ]</td>\n",
       "      <td>[\\n                        SNet Labs Private L...</td>\n",
       "      <td>[\\n, [Starts ], Immediately\\n                 ...</td>\n",
       "      <td>Apply By24 Jun' 21</td>\n",
       "    </tr>\n",
       "    <tr>\n",
       "      <th>10</th>\n",
       "      <td>[\\n, [Full Stack Developer],  ]</td>\n",
       "      <td>[\\n                        RavGins Internation...</td>\n",
       "      <td>[\\n, [],   3 LPA                              ...</td>\n",
       "      <td>Start date    ...</td>\n",
       "    </tr>\n",
       "    <tr>\n",
       "      <th>11</th>\n",
       "      <td>[\\n, [Operations Executive],  ]</td>\n",
       "      <td>[\\n                        TutorBin           ...</td>\n",
       "      <td>[24 Jun' 21]</td>\n",
       "      <td>Apply By24 Jun' 21</td>\n",
       "    </tr>\n",
       "    <tr>\n",
       "      <th>12</th>\n",
       "      <td>[\\n, [Associate UI/UX Designer],  ]</td>\n",
       "      <td>[\\n                        RavGins Internation...</td>\n",
       "      <td>[\\n, [Starts ], Immediately\\n                 ...</td>\n",
       "      <td>Start date    ...</td>\n",
       "    </tr>\n",
       "    <tr>\n",
       "      <th>13</th>\n",
       "      <td>[\\n, [Web Development Trainee],  ]</td>\n",
       "      <td>[\\n                        Softsensor.ai      ...</td>\n",
       "      <td>[\\n, [],   4 LPA                              ...</td>\n",
       "      <td>Apply By23 Jun' 21</td>\n",
       "    </tr>\n",
       "    <tr>\n",
       "      <th>14</th>\n",
       "      <td>[\\n, [Business Development Executive],  ]</td>\n",
       "      <td>[\\n                        Square Select Estat...</td>\n",
       "      <td>[24 Jun' 21]</td>\n",
       "      <td>Start date    ...</td>\n",
       "    </tr>\n",
       "    <tr>\n",
       "      <th>15</th>\n",
       "      <td>[\\n, [Full Stack Flutter Developer],  ]</td>\n",
       "      <td>[\\n                        HeartShirt         ...</td>\n",
       "      <td>[\\n, [Starts ], Immediately\\n                 ...</td>\n",
       "      <td>Apply By24 Jun' 21</td>\n",
       "    </tr>\n",
       "    <tr>\n",
       "      <th>16</th>\n",
       "      <td>[\\n, [Associate Software Developer],  ]</td>\n",
       "      <td>[\\n                        Labellerr By Tensor...</td>\n",
       "      <td>[\\n, [],   3 - 5 LPA                          ...</td>\n",
       "      <td>Start date    ...</td>\n",
       "    </tr>\n",
       "    <tr>\n",
       "      <th>17</th>\n",
       "      <td>[\\n, [Hardware Simulation Engineer],  ]</td>\n",
       "      <td>[\\n                        Keysight Technologi...</td>\n",
       "      <td>[24 Jun' 21]</td>\n",
       "      <td>Apply By20 Jun' 21</td>\n",
       "    </tr>\n",
       "    <tr>\n",
       "      <th>18</th>\n",
       "      <td>[\\n, [Graphic Designer],  ]</td>\n",
       "      <td>[\\n                        Cynfas             ...</td>\n",
       "      <td>[\\n, [Starts ], Immediately\\n                 ...</td>\n",
       "      <td>Start date    ...</td>\n",
       "    </tr>\n",
       "    <tr>\n",
       "      <th>19</th>\n",
       "      <td>[\\n, [Marketing Analyst],  ]</td>\n",
       "      <td>[\\n                        Exhilar Innovative ...</td>\n",
       "      <td>[\\n, [],   3 - 3.5 LPA                        ...</td>\n",
       "      <td>Apply By20 Jun' 21</td>\n",
       "    </tr>\n",
       "    <tr>\n",
       "      <th>20</th>\n",
       "      <td>[\\n, [Mobile App Developer],  ]</td>\n",
       "      <td>[\\n                        Wow Labz           ...</td>\n",
       "      <td>[23 Jun' 21]</td>\n",
       "      <td>Start date    ...</td>\n",
       "    </tr>\n",
       "    <tr>\n",
       "      <th>21</th>\n",
       "      <td>[\\n, [Software Engineer - AI(NLP)/Front-end(An...</td>\n",
       "      <td>[\\n                        RapidKen.AI        ...</td>\n",
       "      <td>[\\n, [Starts ], Immediately\\n                 ...</td>\n",
       "      <td>Apply By20 Jun' 21</td>\n",
       "    </tr>\n",
       "    <tr>\n",
       "      <th>22</th>\n",
       "      <td>[\\n, [Corporate Sales Executive],  ]</td>\n",
       "      <td>[\\n                        Twin Health        ...</td>\n",
       "      <td>[\\n, [],   4 - 8 LPA                          ...</td>\n",
       "      <td>Start date    ...</td>\n",
       "    </tr>\n",
       "    <tr>\n",
       "      <th>23</th>\n",
       "      <td>[\\n, [Software Tester],  ]</td>\n",
       "      <td>[\\n                        Lattice Innovations...</td>\n",
       "      <td>[24 Jun' 21]</td>\n",
       "      <td>Apply By20 Jun' 21</td>\n",
       "    </tr>\n",
       "    <tr>\n",
       "      <th>24</th>\n",
       "      <td>[\\n, [Mobile App Developer],  ]</td>\n",
       "      <td>[\\n                        Fusion Engineering ...</td>\n",
       "      <td>[\\n, [Starts ], Immediately\\n                 ...</td>\n",
       "      <td>Start date    ...</td>\n",
       "    </tr>\n",
       "    <tr>\n",
       "      <th>25</th>\n",
       "      <td>[\\n, [Junior Backend Developer],  ]</td>\n",
       "      <td>[\\n                        VPODS.ai           ...</td>\n",
       "      <td>[\\n, [],   3 - 4 LPA                          ...</td>\n",
       "      <td>Apply By20 Jun' 21</td>\n",
       "    </tr>\n",
       "    <tr>\n",
       "      <th>26</th>\n",
       "      <td>[\\n, [Social Media Strategist And Copywriter],  ]</td>\n",
       "      <td>[\\n                        Internshala        ...</td>\n",
       "      <td>[20 Jun' 21]</td>\n",
       "      <td>Start date    ...</td>\n",
       "    </tr>\n",
       "    <tr>\n",
       "      <th>27</th>\n",
       "      <td>[\\n, [Junior UI Designer],  ]</td>\n",
       "      <td>[\\n                        Phionike Solutions ...</td>\n",
       "      <td>[\\n, [Starts ], Immediately\\n                 ...</td>\n",
       "      <td>Apply By20 Jun' 21</td>\n",
       "    </tr>\n",
       "    <tr>\n",
       "      <th>28</th>\n",
       "      <td>[\\n, [Customer Service Executive],  ]</td>\n",
       "      <td>[\\n                        Verzeo             ...</td>\n",
       "      <td>[\\n, [],   3 - 3.2 LPA                        ...</td>\n",
       "      <td>Start date    ...</td>\n",
       "    </tr>\n",
       "    <tr>\n",
       "      <th>29</th>\n",
       "      <td>[\\n, [Business Development Associate],  ]</td>\n",
       "      <td>[\\n                        Erikka India       ...</td>\n",
       "      <td>[20 Jun' 21]</td>\n",
       "      <td>Apply By19 Jun' 21</td>\n",
       "    </tr>\n",
       "    <tr>\n",
       "      <th>30</th>\n",
       "      <td>[\\n, [JavaScript Developer],  ]</td>\n",
       "      <td>[\\n                        Inflolabs          ...</td>\n",
       "      <td>[\\n, [Starts ], Immediately\\n                 ...</td>\n",
       "      <td>Start date    ...</td>\n",
       "    </tr>\n",
       "    <tr>\n",
       "      <th>31</th>\n",
       "      <td>[\\n, [Software Engineer],  ]</td>\n",
       "      <td>[\\n                        CrewKarma          ...</td>\n",
       "      <td>[\\n, [],   3.3 - 4 LPA                        ...</td>\n",
       "      <td>Apply By19 Jun' 21</td>\n",
       "    </tr>\n",
       "    <tr>\n",
       "      <th>32</th>\n",
       "      <td>[\\n, [Business Development Manager (Inside Sal...</td>\n",
       "      <td>[\\n                        Vedic Maths Forum I...</td>\n",
       "      <td>[20 Jun' 21]</td>\n",
       "      <td>Start date    ...</td>\n",
       "    </tr>\n",
       "    <tr>\n",
       "      <th>33</th>\n",
       "      <td>[\\n, [Proposal &amp; Marketing Engineer],  ]</td>\n",
       "      <td>[\\n                        EnWe Clean Technolo...</td>\n",
       "      <td>[\\n, [Starts ], Immediately\\n                 ...</td>\n",
       "      <td>Apply By23 Jun' 21</td>\n",
       "    </tr>\n",
       "    <tr>\n",
       "      <th>34</th>\n",
       "      <td>[\\n, [Software Engineer Trainee],  ]</td>\n",
       "      <td>[\\n                        RightRev India Priv...</td>\n",
       "      <td>[\\n, [],   3.6 - 3.84 LPA                     ...</td>\n",
       "      <td>Start date    ...</td>\n",
       "    </tr>\n",
       "    <tr>\n",
       "      <th>35</th>\n",
       "      <td>[\\n, [Associate Software Developer],  ]</td>\n",
       "      <td>[\\n                        Shashank B         ...</td>\n",
       "      <td>[20 Jun' 21]</td>\n",
       "      <td>Apply By19 Jun' 21</td>\n",
       "    </tr>\n",
       "    <tr>\n",
       "      <th>36</th>\n",
       "      <td>[\\n, [Office Manager],  ]</td>\n",
       "      <td>[\\n                        Wono Inc           ...</td>\n",
       "      <td>[\\n, [Starts ], Immediately\\n                 ...</td>\n",
       "      <td>Start date    ...</td>\n",
       "    </tr>\n",
       "    <tr>\n",
       "      <th>37</th>\n",
       "      <td>[\\n, [Technical Recruiter],  ]</td>\n",
       "      <td>[\\n                        Wono Inc           ...</td>\n",
       "      <td>[\\n, [],   3 - 4 LPA                          ...</td>\n",
       "      <td>Apply By17 Jun' 21</td>\n",
       "    </tr>\n",
       "    <tr>\n",
       "      <th>38</th>\n",
       "      <td>[\\n, [Administrative Assistant],  ]</td>\n",
       "      <td>[\\n                        Wono Inc           ...</td>\n",
       "      <td>[20 Jun' 21]</td>\n",
       "      <td>Start date    ...</td>\n",
       "    </tr>\n",
       "    <tr>\n",
       "      <th>39</th>\n",
       "      <td>[\\n, [Web Developer],  ]</td>\n",
       "      <td>[\\n                        Wono Inc           ...</td>\n",
       "      <td>[\\n, [Starts ], Immediately\\n                 ...</td>\n",
       "      <td>Apply By17 Jun' 21</td>\n",
       "    </tr>\n",
       "  </tbody>\n",
       "</table>\n",
       "</div>"
      ],
      "text/plain": [
       "                                                 JOBS  \\\n",
       "0             [\\n, [Talent Acquisition Executive],  ]   \n",
       "1                     [\\n, [Full Stack Developer],  ]   \n",
       "2                        [\\n, [Backend Developer],  ]   \n",
       "3                     [\\n, [Full Stack Developer],  ]   \n",
       "4                   [\\n, [Junior Sales Associate],  ]   \n",
       "5             [\\n, [Digital Marketing Specialist],  ]   \n",
       "6                    [\\n, [Android App Developer],  ]   \n",
       "7                 [\\n, [Associate Data Scientist],  ]   \n",
       "8                [\\n, [Junior Software Developer],  ]   \n",
       "9             [\\n, [Associate Software Developer],  ]   \n",
       "10                    [\\n, [Full Stack Developer],  ]   \n",
       "11                    [\\n, [Operations Executive],  ]   \n",
       "12                [\\n, [Associate UI/UX Designer],  ]   \n",
       "13                 [\\n, [Web Development Trainee],  ]   \n",
       "14          [\\n, [Business Development Executive],  ]   \n",
       "15            [\\n, [Full Stack Flutter Developer],  ]   \n",
       "16            [\\n, [Associate Software Developer],  ]   \n",
       "17            [\\n, [Hardware Simulation Engineer],  ]   \n",
       "18                        [\\n, [Graphic Designer],  ]   \n",
       "19                       [\\n, [Marketing Analyst],  ]   \n",
       "20                    [\\n, [Mobile App Developer],  ]   \n",
       "21  [\\n, [Software Engineer - AI(NLP)/Front-end(An...   \n",
       "22               [\\n, [Corporate Sales Executive],  ]   \n",
       "23                         [\\n, [Software Tester],  ]   \n",
       "24                    [\\n, [Mobile App Developer],  ]   \n",
       "25                [\\n, [Junior Backend Developer],  ]   \n",
       "26  [\\n, [Social Media Strategist And Copywriter],  ]   \n",
       "27                      [\\n, [Junior UI Designer],  ]   \n",
       "28              [\\n, [Customer Service Executive],  ]   \n",
       "29          [\\n, [Business Development Associate],  ]   \n",
       "30                    [\\n, [JavaScript Developer],  ]   \n",
       "31                       [\\n, [Software Engineer],  ]   \n",
       "32  [\\n, [Business Development Manager (Inside Sal...   \n",
       "33           [\\n, [Proposal & Marketing Engineer],  ]   \n",
       "34               [\\n, [Software Engineer Trainee],  ]   \n",
       "35            [\\n, [Associate Software Developer],  ]   \n",
       "36                          [\\n, [Office Manager],  ]   \n",
       "37                     [\\n, [Technical Recruiter],  ]   \n",
       "38                [\\n, [Administrative Assistant],  ]   \n",
       "39                           [\\n, [Web Developer],  ]   \n",
       "\n",
       "                                              COMPANY  \\\n",
       "0   [\\n                        CrewKarma          ...   \n",
       "1   [\\n                        Codfirm            ...   \n",
       "2   [\\n                        WebMOBI            ...   \n",
       "3   [\\n                        TMBill Software    ...   \n",
       "4   [\\n                        Kraftshala         ...   \n",
       "5   [\\n                        Black Jack         ...   \n",
       "6   [\\n                        Storlyy            ...   \n",
       "7   [\\n                        Softsensor.ai      ...   \n",
       "8   [\\n                        ZoryBoard Software ...   \n",
       "9   [\\n                        SNet Labs Private L...   \n",
       "10  [\\n                        RavGins Internation...   \n",
       "11  [\\n                        TutorBin           ...   \n",
       "12  [\\n                        RavGins Internation...   \n",
       "13  [\\n                        Softsensor.ai      ...   \n",
       "14  [\\n                        Square Select Estat...   \n",
       "15  [\\n                        HeartShirt         ...   \n",
       "16  [\\n                        Labellerr By Tensor...   \n",
       "17  [\\n                        Keysight Technologi...   \n",
       "18  [\\n                        Cynfas             ...   \n",
       "19  [\\n                        Exhilar Innovative ...   \n",
       "20  [\\n                        Wow Labz           ...   \n",
       "21  [\\n                        RapidKen.AI        ...   \n",
       "22  [\\n                        Twin Health        ...   \n",
       "23  [\\n                        Lattice Innovations...   \n",
       "24  [\\n                        Fusion Engineering ...   \n",
       "25  [\\n                        VPODS.ai           ...   \n",
       "26  [\\n                        Internshala        ...   \n",
       "27  [\\n                        Phionike Solutions ...   \n",
       "28  [\\n                        Verzeo             ...   \n",
       "29  [\\n                        Erikka India       ...   \n",
       "30  [\\n                        Inflolabs          ...   \n",
       "31  [\\n                        CrewKarma          ...   \n",
       "32  [\\n                        Vedic Maths Forum I...   \n",
       "33  [\\n                        EnWe Clean Technolo...   \n",
       "34  [\\n                        RightRev India Priv...   \n",
       "35  [\\n                        Shashank B         ...   \n",
       "36  [\\n                        Wono Inc           ...   \n",
       "37  [\\n                        Wono Inc           ...   \n",
       "38  [\\n                        Wono Inc           ...   \n",
       "39  [\\n                        Wono Inc           ...   \n",
       "\n",
       "                                                  CTC  \\\n",
       "0   [\\n, [Starts ], Immediately\\n                 ...   \n",
       "1   [\\n, [],   3 - 5 LPA                          ...   \n",
       "2                                        [24 Jun' 21]   \n",
       "3   [\\n, [Starts ], Immediately\\n                 ...   \n",
       "4   [\\n, [],   5 - 8 LPA                          ...   \n",
       "5                                        [24 Jun' 21]   \n",
       "6   [\\n, [Starts ], Immediately\\n                 ...   \n",
       "7   [\\n, [],   3 LPA                              ...   \n",
       "8                                        [24 Jun' 21]   \n",
       "9   [\\n, [Starts ], Immediately\\n                 ...   \n",
       "10  [\\n, [],   3 LPA                              ...   \n",
       "11                                       [24 Jun' 21]   \n",
       "12  [\\n, [Starts ], Immediately\\n                 ...   \n",
       "13  [\\n, [],   4 LPA                              ...   \n",
       "14                                       [24 Jun' 21]   \n",
       "15  [\\n, [Starts ], Immediately\\n                 ...   \n",
       "16  [\\n, [],   3 - 5 LPA                          ...   \n",
       "17                                       [24 Jun' 21]   \n",
       "18  [\\n, [Starts ], Immediately\\n                 ...   \n",
       "19  [\\n, [],   3 - 3.5 LPA                        ...   \n",
       "20                                       [23 Jun' 21]   \n",
       "21  [\\n, [Starts ], Immediately\\n                 ...   \n",
       "22  [\\n, [],   4 - 8 LPA                          ...   \n",
       "23                                       [24 Jun' 21]   \n",
       "24  [\\n, [Starts ], Immediately\\n                 ...   \n",
       "25  [\\n, [],   3 - 4 LPA                          ...   \n",
       "26                                       [20 Jun' 21]   \n",
       "27  [\\n, [Starts ], Immediately\\n                 ...   \n",
       "28  [\\n, [],   3 - 3.2 LPA                        ...   \n",
       "29                                       [20 Jun' 21]   \n",
       "30  [\\n, [Starts ], Immediately\\n                 ...   \n",
       "31  [\\n, [],   3.3 - 4 LPA                        ...   \n",
       "32                                       [20 Jun' 21]   \n",
       "33  [\\n, [Starts ], Immediately\\n                 ...   \n",
       "34  [\\n, [],   3.6 - 3.84 LPA                     ...   \n",
       "35                                       [20 Jun' 21]   \n",
       "36  [\\n, [Starts ], Immediately\\n                 ...   \n",
       "37  [\\n, [],   3 - 4 LPA                          ...   \n",
       "38                                       [20 Jun' 21]   \n",
       "39  [\\n, [Starts ], Immediately\\n                 ...   \n",
       "\n",
       "                                             APPLY BY  \n",
       "0                                   Start date    ...  \n",
       "1                                  Apply By24 Jun' 21  \n",
       "2                                   Start date    ...  \n",
       "3                                  Apply By24 Jun' 21  \n",
       "4                                   Start date    ...  \n",
       "5                                  Apply By24 Jun' 21  \n",
       "6                                   Start date    ...  \n",
       "7                                  Apply By24 Jun' 21  \n",
       "8                                   Start date    ...  \n",
       "9                                  Apply By24 Jun' 21  \n",
       "10                                  Start date    ...  \n",
       "11                                 Apply By24 Jun' 21  \n",
       "12                                  Start date    ...  \n",
       "13                                 Apply By23 Jun' 21  \n",
       "14                                  Start date    ...  \n",
       "15                                 Apply By24 Jun' 21  \n",
       "16                                  Start date    ...  \n",
       "17                                 Apply By20 Jun' 21  \n",
       "18                                  Start date    ...  \n",
       "19                                 Apply By20 Jun' 21  \n",
       "20                                  Start date    ...  \n",
       "21                                 Apply By20 Jun' 21  \n",
       "22                                  Start date    ...  \n",
       "23                                 Apply By20 Jun' 21  \n",
       "24                                  Start date    ...  \n",
       "25                                 Apply By20 Jun' 21  \n",
       "26                                  Start date    ...  \n",
       "27                                 Apply By20 Jun' 21  \n",
       "28                                  Start date    ...  \n",
       "29                                 Apply By19 Jun' 21  \n",
       "30                                  Start date    ...  \n",
       "31                                 Apply By19 Jun' 21  \n",
       "32                                  Start date    ...  \n",
       "33                                 Apply By23 Jun' 21  \n",
       "34                                  Start date    ...  \n",
       "35                                 Apply By19 Jun' 21  \n",
       "36                                  Start date    ...  \n",
       "37                                 Apply By17 Jun' 21  \n",
       "38                                  Start date    ...  \n",
       "39                                 Apply By17 Jun' 21  "
      ]
     },
     "execution_count": 52,
     "metadata": {},
     "output_type": "execute_result"
    }
   ],
   "source": [
    "JOBS_DATA=pd.DataFrame({})\n",
    "JOBS_DATA['JOBS']=title\n",
    "JOBS_DATA['COMPANY']=c\n",
    "\n",
    "JOBS_DATA['CTC']=ctc[:40]\n",
    "JOBS_DATA['APPLY BY']=a_date[:40]\n",
    "JOBS_DATA"
   ]
  },
  {
   "cell_type": "markdown",
   "id": "71e17ad4",
   "metadata": {},
   "source": [
    "FRESHERS JOB OPENINGS DATA"
   ]
  },
  {
   "cell_type": "code",
   "execution_count": null,
   "id": "a26de937",
   "metadata": {},
   "outputs": [],
   "source": []
  },
  {
   "cell_type": "markdown",
   "id": "477cfebe",
   "metadata": {},
   "source": [
    "#                                          ASSIGNMENT SUMMARY"
   ]
  },
  {
   "cell_type": "markdown",
   "id": "06213f07",
   "metadata": {},
   "source": [
    "\n",
    "\n",
    "\n",
    "# 1) python program to display all the header tags from ‘en.wikipedia.org/wiki/Main_Page"
   ]
  },
  {
   "cell_type": "code",
   "execution_count": 386,
   "id": "04fb2495",
   "metadata": {},
   "outputs": [
    {
     "name": "stdout",
     "output_type": "stream",
     "text": [
      "all the header tags:\n",
      "\n",
      "<h1 class=\"firstHeading\" id=\"firstHeading\">Main Page</h1>\n",
      "\n",
      "<h2 class=\"mp-h2\" id=\"mp-tfa-h2\"><span id=\"From_today.27s_featured_article\"></span><span class=\"mw-headline\" id=\"From_today's_featured_article\">From today's featured article</span></h2>\n",
      "\n",
      "<h2 class=\"mp-h2\" id=\"mp-dyk-h2\"><span class=\"mw-headline\" id=\"Did_you_know_...\">Did you know ...</span></h2>\n",
      "\n",
      "<h2 class=\"mp-h2\" id=\"mp-itn-h2\"><span class=\"mw-headline\" id=\"In_the_news\">In the news</span></h2>\n",
      "\n",
      "<h2 class=\"mp-h2\" id=\"mp-otd-h2\"><span class=\"mw-headline\" id=\"On_this_day\">On this day</span></h2>\n",
      "\n",
      "<h2 class=\"mp-h2\" id=\"mp-tfp-h2\"><span id=\"Today.27s_featured_picture\"></span><span class=\"mw-headline\" id=\"Today's_featured_picture\">Today's featured picture</span></h2>\n",
      "\n",
      "<h2 class=\"mp-h2\" id=\"mp-other\"><span class=\"mw-headline\" id=\"Other_areas_of_Wikipedia\">Other areas of Wikipedia</span></h2>\n",
      "\n",
      "<h2 class=\"mp-h2\" id=\"mp-sister\"><span id=\"Wikipedia.27s_sister_projects\"></span><span class=\"mw-headline\" id=\"Wikipedia's_sister_projects\">Wikipedia's sister projects</span></h2>\n",
      "\n",
      "<h2 class=\"mp-h2\" id=\"mp-lang\"><span class=\"mw-headline\" id=\"Wikipedia_languages\">Wikipedia languages</span></h2>\n",
      "\n",
      "<h2>Navigation menu</h2>\n",
      "\n",
      "<h3 class=\"vector-menu-heading\" id=\"p-personal-label\">\n",
      "<span>Personal tools</span>\n",
      "</h3>\n",
      "\n",
      "<h3 class=\"vector-menu-heading\" id=\"p-namespaces-label\">\n",
      "<span>Namespaces</span>\n",
      "</h3>\n",
      "\n",
      "<h3 class=\"vector-menu-heading\" id=\"p-variants-label\">\n",
      "<span>Variants</span>\n",
      "</h3>\n",
      "\n",
      "<h3 class=\"vector-menu-heading\" id=\"p-views-label\">\n",
      "<span>Views</span>\n",
      "</h3>\n",
      "\n",
      "<h3 class=\"vector-menu-heading\" id=\"p-cactions-label\">\n",
      "<span>More</span>\n",
      "</h3>\n",
      "\n",
      "<h3>\n",
      "<label for=\"searchInput\">Search</label>\n",
      "</h3>\n",
      "\n",
      "<h3 class=\"vector-menu-heading\" id=\"p-navigation-label\">\n",
      "<span>Navigation</span>\n",
      "</h3>\n",
      "\n",
      "<h3 class=\"vector-menu-heading\" id=\"p-interaction-label\">\n",
      "<span>Contribute</span>\n",
      "</h3>\n",
      "\n",
      "<h3 class=\"vector-menu-heading\" id=\"p-tb-label\">\n",
      "<span>Tools</span>\n",
      "</h3>\n",
      "\n",
      "<h3 class=\"vector-menu-heading\" id=\"p-coll-print_export-label\">\n",
      "<span>Print/export</span>\n",
      "</h3>\n",
      "\n",
      "<h3 class=\"vector-menu-heading\" id=\"p-wikibase-otherprojects-label\">\n",
      "<span>In other projects</span>\n",
      "</h3>\n",
      "\n",
      "<h3 class=\"vector-menu-heading\" id=\"p-lang-label\">\n",
      "<span>Languages</span>\n",
      "</h3>\n"
     ]
    }
   ],
   "source": [
    "print('all the header tags:', *story, sep='\\n\\n')"
   ]
  },
  {
   "cell_type": "code",
   "execution_count": null,
   "id": "e1610e4c",
   "metadata": {},
   "outputs": [],
   "source": []
  },
  {
   "cell_type": "markdown",
   "id": "91b196d9",
   "metadata": {},
   "source": [
    "# 2) IMDB’s Top rated 100 movies"
   ]
  },
  {
   "cell_type": "code",
   "execution_count": 394,
   "id": "6b54fc47",
   "metadata": {},
   "outputs": [
    {
     "data": {
      "text/html": [
       "<div>\n",
       "<style scoped>\n",
       "    .dataframe tbody tr th:only-of-type {\n",
       "        vertical-align: middle;\n",
       "    }\n",
       "\n",
       "    .dataframe tbody tr th {\n",
       "        vertical-align: top;\n",
       "    }\n",
       "\n",
       "    .dataframe thead th {\n",
       "        text-align: right;\n",
       "    }\n",
       "</style>\n",
       "<table border=\"1\" class=\"dataframe\">\n",
       "  <thead>\n",
       "    <tr style=\"text-align: right;\">\n",
       "      <th></th>\n",
       "      <th>Name of movie</th>\n",
       "      <th>Year of relese</th>\n",
       "      <th>Ratings</th>\n",
       "    </tr>\n",
       "  </thead>\n",
       "  <tbody>\n",
       "    <tr>\n",
       "      <th>0</th>\n",
       "      <td>The Shawshank Redemption</td>\n",
       "      <td>(1994)</td>\n",
       "      <td>9.3</td>\n",
       "    </tr>\n",
       "    <tr>\n",
       "      <th>1</th>\n",
       "      <td>The Godfather</td>\n",
       "      <td>(1972)</td>\n",
       "      <td>9.2</td>\n",
       "    </tr>\n",
       "    <tr>\n",
       "      <th>2</th>\n",
       "      <td>The Dark Knight</td>\n",
       "      <td>(2008)</td>\n",
       "      <td>9</td>\n",
       "    </tr>\n",
       "    <tr>\n",
       "      <th>3</th>\n",
       "      <td>The Godfather: Part II</td>\n",
       "      <td>(1974)</td>\n",
       "      <td>9</td>\n",
       "    </tr>\n",
       "    <tr>\n",
       "      <th>4</th>\n",
       "      <td>12 Angry Men</td>\n",
       "      <td>(1957)</td>\n",
       "      <td>9</td>\n",
       "    </tr>\n",
       "    <tr>\n",
       "      <th>...</th>\n",
       "      <td>...</td>\n",
       "      <td>...</td>\n",
       "      <td>...</td>\n",
       "    </tr>\n",
       "    <tr>\n",
       "      <th>95</th>\n",
       "      <td>Vertigo</td>\n",
       "      <td>(1958)</td>\n",
       "      <td>8.3</td>\n",
       "    </tr>\n",
       "    <tr>\n",
       "      <th>96</th>\n",
       "      <td>North by Northwest</td>\n",
       "      <td>(1959)</td>\n",
       "      <td>8.3</td>\n",
       "    </tr>\n",
       "    <tr>\n",
       "      <th>97</th>\n",
       "      <td>Das Boot</td>\n",
       "      <td>(1981)</td>\n",
       "      <td>8.3</td>\n",
       "    </tr>\n",
       "    <tr>\n",
       "      <th>98</th>\n",
       "      <td>M - Eine Stadt sucht einen Mörder</td>\n",
       "      <td>(1931)</td>\n",
       "      <td>8.3</td>\n",
       "    </tr>\n",
       "    <tr>\n",
       "      <th>99</th>\n",
       "      <td>The Kid</td>\n",
       "      <td>(1921)</td>\n",
       "      <td>8.3</td>\n",
       "    </tr>\n",
       "  </tbody>\n",
       "</table>\n",
       "<p>100 rows × 3 columns</p>\n",
       "</div>"
      ],
      "text/plain": [
       "                        Name of movie Year of relese Ratings\n",
       "0            The Shawshank Redemption         (1994)     9.3\n",
       "1                       The Godfather         (1972)     9.2\n",
       "2                     The Dark Knight         (2008)       9\n",
       "3              The Godfather: Part II         (1974)       9\n",
       "4                        12 Angry Men         (1957)       9\n",
       "..                                ...            ...     ...\n",
       "95                            Vertigo         (1958)     8.3\n",
       "96                 North by Northwest         (1959)     8.3\n",
       "97                           Das Boot         (1981)     8.3\n",
       "98  M - Eine Stadt sucht einen Mörder         (1931)     8.3\n",
       "99                            The Kid         (1921)     8.3\n",
       "\n",
       "[100 rows x 3 columns]"
      ]
     },
     "execution_count": 394,
     "metadata": {},
     "output_type": "execute_result"
    }
   ],
   "source": [
    "df_"
   ]
  },
  {
   "cell_type": "code",
   "execution_count": null,
   "id": "953d0e55",
   "metadata": {},
   "outputs": [],
   "source": []
  },
  {
   "cell_type": "markdown",
   "id": "d892bae1",
   "metadata": {},
   "source": [
    "# 3 IMDB’s Top rated 100 Indian movies"
   ]
  },
  {
   "cell_type": "code",
   "execution_count": 395,
   "id": "34d8467e",
   "metadata": {},
   "outputs": [
    {
     "data": {
      "text/html": [
       "<div>\n",
       "<style scoped>\n",
       "    .dataframe tbody tr th:only-of-type {\n",
       "        vertical-align: middle;\n",
       "    }\n",
       "\n",
       "    .dataframe tbody tr th {\n",
       "        vertical-align: top;\n",
       "    }\n",
       "\n",
       "    .dataframe thead th {\n",
       "        text-align: right;\n",
       "    }\n",
       "</style>\n",
       "<table border=\"1\" class=\"dataframe\">\n",
       "  <thead>\n",
       "    <tr style=\"text-align: right;\">\n",
       "      <th></th>\n",
       "      <th>Name of movie</th>\n",
       "      <th>Year of relese</th>\n",
       "      <th>Ratings</th>\n",
       "    </tr>\n",
       "  </thead>\n",
       "  <tbody>\n",
       "    <tr>\n",
       "      <th>0</th>\n",
       "      <td>Ship of Theseus</td>\n",
       "      <td>(2012)</td>\n",
       "      <td>8.1</td>\n",
       "    </tr>\n",
       "    <tr>\n",
       "      <th>1</th>\n",
       "      <td>Iruvar</td>\n",
       "      <td>(1997)</td>\n",
       "      <td>8.5</td>\n",
       "    </tr>\n",
       "    <tr>\n",
       "      <th>2</th>\n",
       "      <td>Kaagaz Ke Phool</td>\n",
       "      <td>(1959)</td>\n",
       "      <td>8</td>\n",
       "    </tr>\n",
       "    <tr>\n",
       "      <th>3</th>\n",
       "      <td>Lagaan: Once Upon a Time in India</td>\n",
       "      <td>(2001)</td>\n",
       "      <td>8.1</td>\n",
       "    </tr>\n",
       "    <tr>\n",
       "      <th>4</th>\n",
       "      <td>Pather Panchali</td>\n",
       "      <td>(1955)</td>\n",
       "      <td>8.6</td>\n",
       "    </tr>\n",
       "    <tr>\n",
       "      <th>...</th>\n",
       "      <td>...</td>\n",
       "      <td>...</td>\n",
       "      <td>...</td>\n",
       "    </tr>\n",
       "    <tr>\n",
       "      <th>95</th>\n",
       "      <td>Apur Sansar</td>\n",
       "      <td>(1959)</td>\n",
       "      <td>8.5</td>\n",
       "    </tr>\n",
       "    <tr>\n",
       "      <th>96</th>\n",
       "      <td>Kanchivaram</td>\n",
       "      <td>(2008)</td>\n",
       "      <td>8.1</td>\n",
       "    </tr>\n",
       "    <tr>\n",
       "      <th>97</th>\n",
       "      <td>Monsoon Wedding</td>\n",
       "      <td>(2001)</td>\n",
       "      <td>7.4</td>\n",
       "    </tr>\n",
       "    <tr>\n",
       "      <th>98</th>\n",
       "      <td>Black</td>\n",
       "      <td>(2005)</td>\n",
       "      <td>8.2</td>\n",
       "    </tr>\n",
       "    <tr>\n",
       "      <th>99</th>\n",
       "      <td>Deewaar</td>\n",
       "      <td>(1975)</td>\n",
       "      <td>8.1</td>\n",
       "    </tr>\n",
       "  </tbody>\n",
       "</table>\n",
       "<p>100 rows × 3 columns</p>\n",
       "</div>"
      ],
      "text/plain": [
       "                        Name of movie Year of relese Ratings\n",
       "0                     Ship of Theseus         (2012)     8.1\n",
       "1                              Iruvar         (1997)     8.5\n",
       "2                     Kaagaz Ke Phool         (1959)       8\n",
       "3   Lagaan: Once Upon a Time in India         (2001)     8.1\n",
       "4                     Pather Panchali         (1955)     8.6\n",
       "..                                ...            ...     ...\n",
       "95                        Apur Sansar         (1959)     8.5\n",
       "96                        Kanchivaram         (2008)     8.1\n",
       "97                    Monsoon Wedding         (2001)     7.4\n",
       "98                              Black         (2005)     8.2\n",
       "99                            Deewaar         (1975)     8.1\n",
       "\n",
       "[100 rows x 3 columns]"
      ]
     },
     "execution_count": 395,
     "metadata": {},
     "output_type": "execute_result"
    }
   ],
   "source": [
    "df"
   ]
  },
  {
   "cell_type": "code",
   "execution_count": null,
   "id": "0abdc157",
   "metadata": {},
   "outputs": [],
   "source": []
  },
  {
   "cell_type": "markdown",
   "id": "80e6d044",
   "metadata": {},
   "source": [
    "# 4) 5 books from¶\n",
    "‘www.bookpage.com"
   ]
  },
  {
   "cell_type": "code",
   "execution_count": 396,
   "id": "5a1e66cc",
   "metadata": {},
   "outputs": [
    {
     "data": {
      "text/html": [
       "<div>\n",
       "<style scoped>\n",
       "    .dataframe tbody tr th:only-of-type {\n",
       "        vertical-align: middle;\n",
       "    }\n",
       "\n",
       "    .dataframe tbody tr th {\n",
       "        vertical-align: top;\n",
       "    }\n",
       "\n",
       "    .dataframe thead th {\n",
       "        text-align: right;\n",
       "    }\n",
       "</style>\n",
       "<table border=\"1\" class=\"dataframe\">\n",
       "  <thead>\n",
       "    <tr style=\"text-align: right;\">\n",
       "      <th></th>\n",
       "      <th>Name</th>\n",
       "      <th>Authors</th>\n",
       "      <th>Genre</th>\n",
       "      <th>Reviews.</th>\n",
       "    </tr>\n",
       "  </thead>\n",
       "  <tbody>\n",
       "    <tr>\n",
       "      <th>0</th>\n",
       "      <td>You People</td>\n",
       "      <td>Nikita Lalwani</td>\n",
       "      <td>Fiction / Literary Fiction</td>\n",
       "      <td>Nikita Lalwani's magical novel invites us to p...</td>\n",
       "    </tr>\n",
       "    <tr>\n",
       "      <th>1</th>\n",
       "      <td>★ Ship in a Bottle</td>\n",
       "      <td>Andrew Prahin</td>\n",
       "      <td>Children's / Children's Picture Book</td>\n",
       "      <td></td>\n",
       "    </tr>\n",
       "    <tr>\n",
       "      <th>2</th>\n",
       "      <td>Tokyo Ever After</td>\n",
       "      <td>Emiko Jean</td>\n",
       "      <td>YA / YA Fiction</td>\n",
       "      <td></td>\n",
       "    </tr>\n",
       "    <tr>\n",
       "      <th>3</th>\n",
       "      <td>The Kingdoms</td>\n",
       "      <td>Natasha Pulley</td>\n",
       "      <td>Fiction / Speculative Fiction</td>\n",
       "      <td>Natasha Pulley balances the topsy-turvy nature...</td>\n",
       "    </tr>\n",
       "    <tr>\n",
       "      <th>4</th>\n",
       "      <td>New Yorkers</td>\n",
       "      <td>Craig Taylor, Cast</td>\n",
       "      <td>Audio / Nonfiction / Culture</td>\n",
       "      <td>“This city barged into conversations,” Craig T...</td>\n",
       "    </tr>\n",
       "    <tr>\n",
       "      <th>5</th>\n",
       "      <td>★ Hazel Bly and the Deep Blue Sea</td>\n",
       "      <td>Ashley Herring Blake</td>\n",
       "      <td>Children's / Middle Grade</td>\n",
       "      <td>Nothing has been the same for Hazel or her fam...</td>\n",
       "    </tr>\n",
       "    <tr>\n",
       "      <th>6</th>\n",
       "      <td>★ The Final Revival of Opal &amp; Nev</td>\n",
       "      <td>Dawnie Walton, Cast</td>\n",
       "      <td>Audio / Fiction / Literary Fiction</td>\n",
       "      <td>After listening to this incredible audiobook, ...</td>\n",
       "    </tr>\n",
       "    <tr>\n",
       "      <th>7</th>\n",
       "      <td>Sisters of the Neversea</td>\n",
       "      <td>Cynthia Leitich Smith</td>\n",
       "      <td>Children's / Middle Grade</td>\n",
       "      <td></td>\n",
       "    </tr>\n",
       "    <tr>\n",
       "      <th>8</th>\n",
       "      <td>★ American Republics</td>\n",
       "      <td>Alan Taylor</td>\n",
       "      <td>Nonfiction / History / American History</td>\n",
       "      <td>Pulitzer Prize winner Alan Taylor’s latest Ame...</td>\n",
       "    </tr>\n",
       "    <tr>\n",
       "      <th>9</th>\n",
       "      <td>★ Light Perpetual</td>\n",
       "      <td>Francis Spufford</td>\n",
       "      <td>Fiction / Literary Fiction</td>\n",
       "      <td>The biggest message of Francis Spufford’s seco...</td>\n",
       "    </tr>\n",
       "  </tbody>\n",
       "</table>\n",
       "</div>"
      ],
      "text/plain": [
       "                                 Name                Authors  \\\n",
       "0                          You People         Nikita Lalwani   \n",
       "1                  ★ Ship in a Bottle          Andrew Prahin   \n",
       "2                    Tokyo Ever After             Emiko Jean   \n",
       "3                        The Kingdoms         Natasha Pulley   \n",
       "4                         New Yorkers     Craig Taylor, Cast   \n",
       "5   ★ Hazel Bly and the Deep Blue Sea   Ashley Herring Blake   \n",
       "6   ★ The Final Revival of Opal & Nev    Dawnie Walton, Cast   \n",
       "7             Sisters of the Neversea  Cynthia Leitich Smith   \n",
       "8                ★ American Republics            Alan Taylor   \n",
       "9                   ★ Light Perpetual       Francis Spufford   \n",
       "\n",
       "                                     Genre  \\\n",
       "0               Fiction / Literary Fiction   \n",
       "1     Children's / Children's Picture Book   \n",
       "2                          YA / YA Fiction   \n",
       "3            Fiction / Speculative Fiction   \n",
       "4             Audio / Nonfiction / Culture   \n",
       "5                Children's / Middle Grade   \n",
       "6       Audio / Fiction / Literary Fiction   \n",
       "7                Children's / Middle Grade   \n",
       "8  Nonfiction / History / American History   \n",
       "9               Fiction / Literary Fiction   \n",
       "\n",
       "                                            Reviews.  \n",
       "0  Nikita Lalwani's magical novel invites us to p...  \n",
       "1                                                     \n",
       "2                                                     \n",
       "3  Natasha Pulley balances the topsy-turvy nature...  \n",
       "4  “This city barged into conversations,” Craig T...  \n",
       "5  Nothing has been the same for Hazel or her fam...  \n",
       "6  After listening to this incredible audiobook, ...  \n",
       "7                                                     \n",
       "8  Pulitzer Prize winner Alan Taylor’s latest Ame...  \n",
       "9  The biggest message of Francis Spufford’s seco...  "
      ]
     },
     "execution_count": 396,
     "metadata": {},
     "output_type": "execute_result"
    }
   ],
   "source": [
    "Books_data"
   ]
  },
  {
   "cell_type": "code",
   "execution_count": null,
   "id": "b0d7a2cd",
   "metadata": {},
   "outputs": [],
   "source": []
  },
  {
   "cell_type": "markdown",
   "id": "b8b18b46",
   "metadata": {},
   "source": [
    "# 5.i) Top 10 ODI teams in men’s cricket teams"
   ]
  },
  {
   "cell_type": "code",
   "execution_count": 397,
   "id": "30b8c158",
   "metadata": {},
   "outputs": [
    {
     "data": {
      "text/html": [
       "<div>\n",
       "<style scoped>\n",
       "    .dataframe tbody tr th:only-of-type {\n",
       "        vertical-align: middle;\n",
       "    }\n",
       "\n",
       "    .dataframe tbody tr th {\n",
       "        vertical-align: top;\n",
       "    }\n",
       "\n",
       "    .dataframe thead th {\n",
       "        text-align: right;\n",
       "    }\n",
       "</style>\n",
       "<table border=\"1\" class=\"dataframe\">\n",
       "  <thead>\n",
       "    <tr style=\"text-align: right;\">\n",
       "      <th></th>\n",
       "      <th>TEAMS</th>\n",
       "      <th>MATCHES</th>\n",
       "      <th>POINTS</th>\n",
       "      <th>RATINGS</th>\n",
       "    </tr>\n",
       "  </thead>\n",
       "  <tbody>\n",
       "    <tr>\n",
       "      <th>0</th>\n",
       "      <td>[New Zealand]</td>\n",
       "      <td>[25]</td>\n",
       "      <td>[25]</td>\n",
       "      <td>[118]</td>\n",
       "    </tr>\n",
       "    <tr>\n",
       "      <th>1</th>\n",
       "      <td>[Australia]</td>\n",
       "      <td>[2,945]</td>\n",
       "      <td>[2,945]</td>\n",
       "      <td>[115]</td>\n",
       "    </tr>\n",
       "    <tr>\n",
       "      <th>2</th>\n",
       "      <td>[India]</td>\n",
       "      <td>[29]</td>\n",
       "      <td>[29]</td>\n",
       "      <td>[115]</td>\n",
       "    </tr>\n",
       "    <tr>\n",
       "      <th>3</th>\n",
       "      <td>[England]</td>\n",
       "      <td>[3,344]</td>\n",
       "      <td>[3,344]</td>\n",
       "      <td>[107]</td>\n",
       "    </tr>\n",
       "    <tr>\n",
       "      <th>4</th>\n",
       "      <td>[South Africa]</td>\n",
       "      <td>[27]</td>\n",
       "      <td>[27]</td>\n",
       "      <td>[97]</td>\n",
       "    </tr>\n",
       "    <tr>\n",
       "      <th>5</th>\n",
       "      <td>[Pakistan]</td>\n",
       "      <td>[3,100]</td>\n",
       "      <td>[3,100]</td>\n",
       "      <td>[91]</td>\n",
       "    </tr>\n",
       "    <tr>\n",
       "      <th>6</th>\n",
       "      <td>[Bangladesh]</td>\n",
       "      <td>[20]</td>\n",
       "      <td>[20]</td>\n",
       "      <td>[82]</td>\n",
       "    </tr>\n",
       "    <tr>\n",
       "      <th>7</th>\n",
       "      <td>[West Indies]</td>\n",
       "      <td>[2,137]</td>\n",
       "      <td>[2,137]</td>\n",
       "      <td>[77]</td>\n",
       "    </tr>\n",
       "    <tr>\n",
       "      <th>8</th>\n",
       "      <td>[Sri Lanka]</td>\n",
       "      <td>[24]</td>\n",
       "      <td>[24]</td>\n",
       "      <td>[62]</td>\n",
       "    </tr>\n",
       "    <tr>\n",
       "      <th>9</th>\n",
       "      <td>[Afghanistan]</td>\n",
       "      <td>[2,323]</td>\n",
       "      <td>[2,323]</td>\n",
       "      <td>[45]</td>\n",
       "    </tr>\n",
       "  </tbody>\n",
       "</table>\n",
       "</div>"
      ],
      "text/plain": [
       "            TEAMS  MATCHES   POINTS RATINGS\n",
       "0   [New Zealand]     [25]     [25]   [118]\n",
       "1     [Australia]  [2,945]  [2,945]   [115]\n",
       "2         [India]     [29]     [29]   [115]\n",
       "3       [England]  [3,344]  [3,344]   [107]\n",
       "4  [South Africa]     [27]     [27]    [97]\n",
       "5      [Pakistan]  [3,100]  [3,100]    [91]\n",
       "6    [Bangladesh]     [20]     [20]    [82]\n",
       "7   [West Indies]  [2,137]  [2,137]    [77]\n",
       "8     [Sri Lanka]     [24]     [24]    [62]\n",
       "9   [Afghanistan]  [2,323]  [2,323]    [45]"
      ]
     },
     "execution_count": 397,
     "metadata": {},
     "output_type": "execute_result"
    }
   ],
   "source": [
    "TOP_TEAN_ODI_TABLE"
   ]
  },
  {
   "cell_type": "code",
   "execution_count": null,
   "id": "294a27f9",
   "metadata": {},
   "outputs": [],
   "source": []
  },
  {
   "cell_type": "markdown",
   "id": "1b47557f",
   "metadata": {},
   "source": [
    "# 5.ii) Top 10 ODI Batsmen in mens"
   ]
  },
  {
   "cell_type": "code",
   "execution_count": 406,
   "id": "be477ee1",
   "metadata": {},
   "outputs": [
    {
     "data": {
      "text/html": [
       "<div>\n",
       "<style scoped>\n",
       "    .dataframe tbody tr th:only-of-type {\n",
       "        vertical-align: middle;\n",
       "    }\n",
       "\n",
       "    .dataframe tbody tr th {\n",
       "        vertical-align: top;\n",
       "    }\n",
       "\n",
       "    .dataframe thead th {\n",
       "        text-align: right;\n",
       "    }\n",
       "</style>\n",
       "<table border=\"1\" class=\"dataframe\">\n",
       "  <thead>\n",
       "    <tr style=\"text-align: right;\">\n",
       "      <th></th>\n",
       "      <th>TEAMS</th>\n",
       "      <th>MATCHES</th>\n",
       "      <th>RATINGS</th>\n",
       "    </tr>\n",
       "  </thead>\n",
       "  <tbody>\n",
       "    <tr>\n",
       "      <th>0</th>\n",
       "      <td>[\\n, [Virat Kohli], \\n]</td>\n",
       "      <td>[\\n, [], \\n, [IND], \\n]</td>\n",
       "      <td>[857]</td>\n",
       "    </tr>\n",
       "    <tr>\n",
       "      <th>1</th>\n",
       "      <td>[\\n, [Rohit Sharma], \\n]</td>\n",
       "      <td>[\\n, [], \\n, [IND], \\n]</td>\n",
       "      <td>[825]</td>\n",
       "    </tr>\n",
       "    <tr>\n",
       "      <th>2</th>\n",
       "      <td>[\\n, [Ross Taylor], \\n]</td>\n",
       "      <td>[\\n, [], \\n, [NZ], \\n]</td>\n",
       "      <td>[801]</td>\n",
       "    </tr>\n",
       "    <tr>\n",
       "      <th>3</th>\n",
       "      <td>[\\n, [Aaron Finch], \\n]</td>\n",
       "      <td>[\\n, [], \\n, [AUS], \\n]</td>\n",
       "      <td>[791]</td>\n",
       "    </tr>\n",
       "    <tr>\n",
       "      <th>4</th>\n",
       "      <td>[\\n, [Jonny Bairstow], \\n]</td>\n",
       "      <td>[\\n, [], \\n, [ENG], \\n]</td>\n",
       "      <td>[785]</td>\n",
       "    </tr>\n",
       "    <tr>\n",
       "      <th>5</th>\n",
       "      <td>[\\n, [Fakhar Zaman], \\n]</td>\n",
       "      <td>[\\n, [], \\n, [PAK], \\n]</td>\n",
       "      <td>[778]</td>\n",
       "    </tr>\n",
       "    <tr>\n",
       "      <th>6</th>\n",
       "      <td>[\\n, [Francois du Plessis], \\n]</td>\n",
       "      <td>[\\n, [], \\n, [SA], \\n]</td>\n",
       "      <td>[778]</td>\n",
       "    </tr>\n",
       "    <tr>\n",
       "      <th>7</th>\n",
       "      <td>[\\n, [David Warner], \\n]</td>\n",
       "      <td>[\\n, [], \\n, [AUS], \\n]</td>\n",
       "      <td>[773]</td>\n",
       "    </tr>\n",
       "    <tr>\n",
       "      <th>8</th>\n",
       "      <td>[\\n, [Shai Hope], \\n]</td>\n",
       "      <td>[\\n, [], \\n, [WI], \\n]</td>\n",
       "      <td>[773]</td>\n",
       "    </tr>\n",
       "    <tr>\n",
       "      <th>9</th>\n",
       "      <td>[\\n, [Quinton de Kock], \\n]</td>\n",
       "      <td>[\\n, [], \\n, [SA], \\n]</td>\n",
       "      <td>[756]</td>\n",
       "    </tr>\n",
       "  </tbody>\n",
       "</table>\n",
       "</div>"
      ],
      "text/plain": [
       "                             TEAMS                  MATCHES RATINGS\n",
       "0          [\\n, [Virat Kohli], \\n]  [\\n, [], \\n, [IND], \\n]   [857]\n",
       "1         [\\n, [Rohit Sharma], \\n]  [\\n, [], \\n, [IND], \\n]   [825]\n",
       "2          [\\n, [Ross Taylor], \\n]   [\\n, [], \\n, [NZ], \\n]   [801]\n",
       "3          [\\n, [Aaron Finch], \\n]  [\\n, [], \\n, [AUS], \\n]   [791]\n",
       "4       [\\n, [Jonny Bairstow], \\n]  [\\n, [], \\n, [ENG], \\n]   [785]\n",
       "5         [\\n, [Fakhar Zaman], \\n]  [\\n, [], \\n, [PAK], \\n]   [778]\n",
       "6  [\\n, [Francois du Plessis], \\n]   [\\n, [], \\n, [SA], \\n]   [778]\n",
       "7         [\\n, [David Warner], \\n]  [\\n, [], \\n, [AUS], \\n]   [773]\n",
       "8            [\\n, [Shai Hope], \\n]   [\\n, [], \\n, [WI], \\n]   [773]\n",
       "9      [\\n, [Quinton de Kock], \\n]   [\\n, [], \\n, [SA], \\n]   [756]"
      ]
     },
     "execution_count": 406,
     "metadata": {},
     "output_type": "execute_result"
    }
   ],
   "source": [
    "TOP_TEAN_mens_TABLE"
   ]
  },
  {
   "cell_type": "code",
   "execution_count": null,
   "id": "0ac7788e",
   "metadata": {},
   "outputs": [],
   "source": []
  },
  {
   "cell_type": "markdown",
   "id": "f3f32d4a",
   "metadata": {},
   "source": [
    "# 5.iii) Top 10 ODI bowlers"
   ]
  },
  {
   "cell_type": "code",
   "execution_count": 400,
   "id": "93c91b08",
   "metadata": {},
   "outputs": [
    {
     "data": {
      "text/html": [
       "<div>\n",
       "<style scoped>\n",
       "    .dataframe tbody tr th:only-of-type {\n",
       "        vertical-align: middle;\n",
       "    }\n",
       "\n",
       "    .dataframe tbody tr th {\n",
       "        vertical-align: top;\n",
       "    }\n",
       "\n",
       "    .dataframe thead th {\n",
       "        text-align: right;\n",
       "    }\n",
       "</style>\n",
       "<table border=\"1\" class=\"dataframe\">\n",
       "  <thead>\n",
       "    <tr style=\"text-align: right;\">\n",
       "      <th></th>\n",
       "      <th>TEAMS</th>\n",
       "      <th>MATCHES</th>\n",
       "      <th>RATING</th>\n",
       "    </tr>\n",
       "  </thead>\n",
       "  <tbody>\n",
       "    <tr>\n",
       "      <th>0</th>\n",
       "      <td>Mujeeb Ur Rahman</td>\n",
       "      <td>[AFG]</td>\n",
       "      <td>[857]</td>\n",
       "    </tr>\n",
       "    <tr>\n",
       "      <th>1</th>\n",
       "      <td>Matt Henry</td>\n",
       "      <td>[NZ]</td>\n",
       "      <td>[825]</td>\n",
       "    </tr>\n",
       "    <tr>\n",
       "      <th>2</th>\n",
       "      <td>Jasprit Bumrah</td>\n",
       "      <td>[IND]</td>\n",
       "      <td>[801]</td>\n",
       "    </tr>\n",
       "    <tr>\n",
       "      <th>3</th>\n",
       "      <td>Mehedi Hasan</td>\n",
       "      <td>[BAN]</td>\n",
       "      <td>[791]</td>\n",
       "    </tr>\n",
       "    <tr>\n",
       "      <th>4</th>\n",
       "      <td>Kagiso Rabada</td>\n",
       "      <td>[SA]</td>\n",
       "      <td>[785]</td>\n",
       "    </tr>\n",
       "    <tr>\n",
       "      <th>5</th>\n",
       "      <td>Chris Woakes</td>\n",
       "      <td>[ENG]</td>\n",
       "      <td>[778]</td>\n",
       "    </tr>\n",
       "    <tr>\n",
       "      <th>6</th>\n",
       "      <td>Josh Hazlewood</td>\n",
       "      <td>[AUS]</td>\n",
       "      <td>[778]</td>\n",
       "    </tr>\n",
       "    <tr>\n",
       "      <th>7</th>\n",
       "      <td>Pat Cummins</td>\n",
       "      <td>[AUS]</td>\n",
       "      <td>[773]</td>\n",
       "    </tr>\n",
       "    <tr>\n",
       "      <th>8</th>\n",
       "      <td>Mohammad Amir</td>\n",
       "      <td>[PAK]</td>\n",
       "      <td>[773]</td>\n",
       "    </tr>\n",
       "    <tr>\n",
       "      <th>9</th>\n",
       "      <td>Shaheen Afridi</td>\n",
       "      <td>[PAK]</td>\n",
       "      <td>[708]</td>\n",
       "    </tr>\n",
       "  </tbody>\n",
       "</table>\n",
       "</div>"
      ],
      "text/plain": [
       "              TEAMS MATCHES RATING\n",
       "0  Mujeeb Ur Rahman   [AFG]  [857]\n",
       "1        Matt Henry    [NZ]  [825]\n",
       "2    Jasprit Bumrah   [IND]  [801]\n",
       "3      Mehedi Hasan   [BAN]  [791]\n",
       "4     Kagiso Rabada    [SA]  [785]\n",
       "5      Chris Woakes   [ENG]  [778]\n",
       "6    Josh Hazlewood   [AUS]  [778]\n",
       "7       Pat Cummins   [AUS]  [773]\n",
       "8     Mohammad Amir   [PAK]  [773]\n",
       "9    Shaheen Afridi   [PAK]  [708]"
      ]
     },
     "execution_count": 400,
     "metadata": {},
     "output_type": "execute_result"
    }
   ],
   "source": [
    "TOP_TEAN_bowlers_TABLE"
   ]
  },
  {
   "cell_type": "code",
   "execution_count": null,
   "id": "9b4fe1f9",
   "metadata": {},
   "outputs": [],
   "source": []
  },
  {
   "cell_type": "markdown",
   "id": "21a5c49f",
   "metadata": {},
   "source": [
    "# 6.i) Top 10 ODI teams in women’s cricket"
   ]
  },
  {
   "cell_type": "code",
   "execution_count": 402,
   "id": "2bba390f",
   "metadata": {},
   "outputs": [
    {
     "data": {
      "text/html": [
       "<div>\n",
       "<style scoped>\n",
       "    .dataframe tbody tr th:only-of-type {\n",
       "        vertical-align: middle;\n",
       "    }\n",
       "\n",
       "    .dataframe tbody tr th {\n",
       "        vertical-align: top;\n",
       "    }\n",
       "\n",
       "    .dataframe thead th {\n",
       "        text-align: right;\n",
       "    }\n",
       "</style>\n",
       "<table border=\"1\" class=\"dataframe\">\n",
       "  <thead>\n",
       "    <tr style=\"text-align: right;\">\n",
       "      <th></th>\n",
       "      <th>TEAMS</th>\n",
       "      <th>MATCHES</th>\n",
       "      <th>POINTS</th>\n",
       "      <th>RATINGS</th>\n",
       "    </tr>\n",
       "  </thead>\n",
       "  <tbody>\n",
       "    <tr>\n",
       "      <th>0</th>\n",
       "      <td>[Australia]</td>\n",
       "      <td>[24]</td>\n",
       "      <td>[24]</td>\n",
       "      <td>[118]</td>\n",
       "    </tr>\n",
       "    <tr>\n",
       "      <th>1</th>\n",
       "      <td>[South Africa]</td>\n",
       "      <td>[2,828]</td>\n",
       "      <td>[2,828]</td>\n",
       "      <td>[117]</td>\n",
       "    </tr>\n",
       "    <tr>\n",
       "      <th>2</th>\n",
       "      <td>[England]</td>\n",
       "      <td>[17]</td>\n",
       "      <td>[17]</td>\n",
       "      <td>[111]</td>\n",
       "    </tr>\n",
       "    <tr>\n",
       "      <th>3</th>\n",
       "      <td>[India]</td>\n",
       "      <td>[1,993]</td>\n",
       "      <td>[1,993]</td>\n",
       "      <td>[93]</td>\n",
       "    </tr>\n",
       "    <tr>\n",
       "      <th>4</th>\n",
       "      <td>[New Zealand]</td>\n",
       "      <td>[20]</td>\n",
       "      <td>[20]</td>\n",
       "      <td>[85]</td>\n",
       "    </tr>\n",
       "    <tr>\n",
       "      <th>5</th>\n",
       "      <td>[West Indies]</td>\n",
       "      <td>[2,226]</td>\n",
       "      <td>[2,226]</td>\n",
       "      <td>[73]</td>\n",
       "    </tr>\n",
       "    <tr>\n",
       "      <th>6</th>\n",
       "      <td>[Pakistan]</td>\n",
       "      <td>[21]</td>\n",
       "      <td>[21]</td>\n",
       "      <td>[61]</td>\n",
       "    </tr>\n",
       "    <tr>\n",
       "      <th>7</th>\n",
       "      <td>[Bangladesh]</td>\n",
       "      <td>[1,947]</td>\n",
       "      <td>[1,947]</td>\n",
       "      <td>[47]</td>\n",
       "    </tr>\n",
       "    <tr>\n",
       "      <th>8</th>\n",
       "      <td>[Sri Lanka]</td>\n",
       "      <td>[12]</td>\n",
       "      <td>[12]</td>\n",
       "      <td>[13]</td>\n",
       "    </tr>\n",
       "  </tbody>\n",
       "</table>\n",
       "</div>"
      ],
      "text/plain": [
       "            TEAMS  MATCHES   POINTS RATINGS\n",
       "0     [Australia]     [24]     [24]   [118]\n",
       "1  [South Africa]  [2,828]  [2,828]   [117]\n",
       "2       [England]     [17]     [17]   [111]\n",
       "3         [India]  [1,993]  [1,993]    [93]\n",
       "4   [New Zealand]     [20]     [20]    [85]\n",
       "5   [West Indies]  [2,226]  [2,226]    [73]\n",
       "6      [Pakistan]     [21]     [21]    [61]\n",
       "7    [Bangladesh]  [1,947]  [1,947]    [47]\n",
       "8     [Sri Lanka]     [12]     [12]    [13]"
      ]
     },
     "execution_count": 402,
     "metadata": {},
     "output_type": "execute_result"
    }
   ],
   "source": [
    "TOP_TEAN_womens_ODI_TABLE"
   ]
  },
  {
   "cell_type": "code",
   "execution_count": null,
   "id": "0832b318",
   "metadata": {},
   "outputs": [],
   "source": []
  },
  {
   "cell_type": "markdown",
   "id": "4557a397",
   "metadata": {},
   "source": [
    "# 6.ii) Top 10 women’s ODI players"
   ]
  },
  {
   "cell_type": "code",
   "execution_count": 403,
   "id": "1ca5fc7e",
   "metadata": {},
   "outputs": [
    {
     "data": {
      "text/html": [
       "<div>\n",
       "<style scoped>\n",
       "    .dataframe tbody tr th:only-of-type {\n",
       "        vertical-align: middle;\n",
       "    }\n",
       "\n",
       "    .dataframe tbody tr th {\n",
       "        vertical-align: top;\n",
       "    }\n",
       "\n",
       "    .dataframe thead th {\n",
       "        text-align: right;\n",
       "    }\n",
       "</style>\n",
       "<table border=\"1\" class=\"dataframe\">\n",
       "  <thead>\n",
       "    <tr style=\"text-align: right;\">\n",
       "      <th></th>\n",
       "      <th>TEAMS</th>\n",
       "      <th>MATCHES</th>\n",
       "      <th>RATING</th>\n",
       "    </tr>\n",
       "  </thead>\n",
       "  <tbody>\n",
       "    <tr>\n",
       "      <th>0</th>\n",
       "      <td>[\\n, [Lizelle Lee], \\n]</td>\n",
       "      <td>[SA]</td>\n",
       "      <td>[758]</td>\n",
       "    </tr>\n",
       "    <tr>\n",
       "      <th>1</th>\n",
       "      <td>[\\n, [Alyssa Healy], \\n]</td>\n",
       "      <td>[AUS]</td>\n",
       "      <td>[756]</td>\n",
       "    </tr>\n",
       "    <tr>\n",
       "      <th>2</th>\n",
       "      <td>[\\n, [Stafanie Taylor], \\n]</td>\n",
       "      <td>[WI]</td>\n",
       "      <td>[746]</td>\n",
       "    </tr>\n",
       "    <tr>\n",
       "      <th>3</th>\n",
       "      <td>[\\n, [Meg Lanning], \\n]</td>\n",
       "      <td>[AUS]</td>\n",
       "      <td>[723]</td>\n",
       "    </tr>\n",
       "    <tr>\n",
       "      <th>4</th>\n",
       "      <td>[\\n, [Amy Satterthwaite], \\n]</td>\n",
       "      <td>[NZ]</td>\n",
       "      <td>[715]</td>\n",
       "    </tr>\n",
       "    <tr>\n",
       "      <th>5</th>\n",
       "      <td>[\\n, [Smriti Mandhana], \\n]</td>\n",
       "      <td>[IND]</td>\n",
       "      <td>[710]</td>\n",
       "    </tr>\n",
       "    <tr>\n",
       "      <th>6</th>\n",
       "      <td>[\\n, [Mithali Raj], \\n]</td>\n",
       "      <td>[IND]</td>\n",
       "      <td>[709]</td>\n",
       "    </tr>\n",
       "    <tr>\n",
       "      <th>7</th>\n",
       "      <td>[\\n, [Natalie Sciver], \\n]</td>\n",
       "      <td>[ENG]</td>\n",
       "      <td>[685]</td>\n",
       "    </tr>\n",
       "    <tr>\n",
       "      <th>8</th>\n",
       "      <td>[\\n, [Laura Wolvaardt], \\n]</td>\n",
       "      <td>[SA]</td>\n",
       "      <td>[683]</td>\n",
       "    </tr>\n",
       "    <tr>\n",
       "      <th>9</th>\n",
       "      <td>[\\n, [Megan Schutt], \\n]</td>\n",
       "      <td>[AUS]</td>\n",
       "      <td>[762]</td>\n",
       "    </tr>\n",
       "  </tbody>\n",
       "</table>\n",
       "</div>"
      ],
      "text/plain": [
       "                           TEAMS MATCHES RATING\n",
       "0        [\\n, [Lizelle Lee], \\n]    [SA]  [758]\n",
       "1       [\\n, [Alyssa Healy], \\n]   [AUS]  [756]\n",
       "2    [\\n, [Stafanie Taylor], \\n]    [WI]  [746]\n",
       "3        [\\n, [Meg Lanning], \\n]   [AUS]  [723]\n",
       "4  [\\n, [Amy Satterthwaite], \\n]    [NZ]  [715]\n",
       "5    [\\n, [Smriti Mandhana], \\n]   [IND]  [710]\n",
       "6        [\\n, [Mithali Raj], \\n]   [IND]  [709]\n",
       "7     [\\n, [Natalie Sciver], \\n]   [ENG]  [685]\n",
       "8    [\\n, [Laura Wolvaardt], \\n]    [SA]  [683]\n",
       "9       [\\n, [Megan Schutt], \\n]   [AUS]  [762]"
      ]
     },
     "execution_count": 403,
     "metadata": {},
     "output_type": "execute_result"
    }
   ],
   "source": [
    "TOP_w_odi_w_TABLE"
   ]
  },
  {
   "cell_type": "code",
   "execution_count": null,
   "id": "3438c6b5",
   "metadata": {},
   "outputs": [],
   "source": []
  },
  {
   "cell_type": "markdown",
   "id": "f8db9ac9",
   "metadata": {},
   "source": [
    "# 6.iii) Top 10 women’s ODI all-rounder"
   ]
  },
  {
   "cell_type": "code",
   "execution_count": 407,
   "id": "c82bb23f",
   "metadata": {},
   "outputs": [
    {
     "data": {
      "text/html": [
       "<div>\n",
       "<style scoped>\n",
       "    .dataframe tbody tr th:only-of-type {\n",
       "        vertical-align: middle;\n",
       "    }\n",
       "\n",
       "    .dataframe tbody tr th {\n",
       "        vertical-align: top;\n",
       "    }\n",
       "\n",
       "    .dataframe thead th {\n",
       "        text-align: right;\n",
       "    }\n",
       "</style>\n",
       "<table border=\"1\" class=\"dataframe\">\n",
       "  <thead>\n",
       "    <tr style=\"text-align: right;\">\n",
       "      <th></th>\n",
       "      <th>NAME</th>\n",
       "      <th>TEAMS</th>\n",
       "      <th>RATING</th>\n",
       "    </tr>\n",
       "  </thead>\n",
       "  <tbody>\n",
       "    <tr>\n",
       "      <th>0</th>\n",
       "      <td>[\\n, [Ellyse Perry], \\n]</td>\n",
       "      <td>[\\n, [], \\n, [AUS], \\n]</td>\n",
       "      <td>[418]</td>\n",
       "    </tr>\n",
       "    <tr>\n",
       "      <th>1</th>\n",
       "      <td>[\\n, [Stafanie Taylor], \\n]</td>\n",
       "      <td>[\\n, [], \\n, [WI], \\n]</td>\n",
       "      <td>[410]</td>\n",
       "    </tr>\n",
       "    <tr>\n",
       "      <th>2</th>\n",
       "      <td>[\\n, [Natalie Sciver], \\n]</td>\n",
       "      <td>[\\n, [], \\n, [ENG], \\n]</td>\n",
       "      <td>[349]</td>\n",
       "    </tr>\n",
       "    <tr>\n",
       "      <th>3</th>\n",
       "      <td>[\\n, [Deepti Sharma], \\n]</td>\n",
       "      <td>[\\n, [], \\n, [IND], \\n]</td>\n",
       "      <td>[343]</td>\n",
       "    </tr>\n",
       "    <tr>\n",
       "      <th>4</th>\n",
       "      <td>[\\n, [Jess Jonassen], \\n]</td>\n",
       "      <td>[\\n, [], \\n, [AUS], \\n]</td>\n",
       "      <td>[307]</td>\n",
       "    </tr>\n",
       "    <tr>\n",
       "      <th>5</th>\n",
       "      <td>[\\n, [Ashleigh Gardner], \\n]</td>\n",
       "      <td>[\\n, [], \\n, [AUS], \\n]</td>\n",
       "      <td>[252]</td>\n",
       "    </tr>\n",
       "    <tr>\n",
       "      <th>6</th>\n",
       "      <td>[\\n, [Dane van Niekerk], \\n]</td>\n",
       "      <td>[\\n, [], \\n, [SA], \\n]</td>\n",
       "      <td>[243]</td>\n",
       "    </tr>\n",
       "    <tr>\n",
       "      <th>7</th>\n",
       "      <td>[\\n, [Sophie Devine], \\n]</td>\n",
       "      <td>[\\n, [], \\n, [NZ], \\n]</td>\n",
       "      <td>[242]</td>\n",
       "    </tr>\n",
       "    <tr>\n",
       "      <th>8</th>\n",
       "      <td>[\\n, [Amelia Kerr], \\n]</td>\n",
       "      <td>[\\n, [], \\n, [NZ], \\n]</td>\n",
       "      <td>[236]</td>\n",
       "    </tr>\n",
       "    <tr>\n",
       "      <th>9</th>\n",
       "      <td>[\\n, [Katherine Brunt], \\n]</td>\n",
       "      <td>[\\n, [], \\n, [ENG], \\n]</td>\n",
       "      <td>[236]</td>\n",
       "    </tr>\n",
       "  </tbody>\n",
       "</table>\n",
       "</div>"
      ],
      "text/plain": [
       "                           NAME                    TEAMS RATING\n",
       "0      [\\n, [Ellyse Perry], \\n]  [\\n, [], \\n, [AUS], \\n]  [418]\n",
       "1   [\\n, [Stafanie Taylor], \\n]   [\\n, [], \\n, [WI], \\n]  [410]\n",
       "2    [\\n, [Natalie Sciver], \\n]  [\\n, [], \\n, [ENG], \\n]  [349]\n",
       "3     [\\n, [Deepti Sharma], \\n]  [\\n, [], \\n, [IND], \\n]  [343]\n",
       "4     [\\n, [Jess Jonassen], \\n]  [\\n, [], \\n, [AUS], \\n]  [307]\n",
       "5  [\\n, [Ashleigh Gardner], \\n]  [\\n, [], \\n, [AUS], \\n]  [252]\n",
       "6  [\\n, [Dane van Niekerk], \\n]   [\\n, [], \\n, [SA], \\n]  [243]\n",
       "7     [\\n, [Sophie Devine], \\n]   [\\n, [], \\n, [NZ], \\n]  [242]\n",
       "8       [\\n, [Amelia Kerr], \\n]   [\\n, [], \\n, [NZ], \\n]  [236]\n",
       "9   [\\n, [Katherine Brunt], \\n]  [\\n, [], \\n, [ENG], \\n]  [236]"
      ]
     },
     "execution_count": 407,
     "metadata": {},
     "output_type": "execute_result"
    }
   ],
   "source": [
    "TOP_w_odi_al_TABLE"
   ]
  },
  {
   "cell_type": "code",
   "execution_count": null,
   "id": "7a2a9ddf",
   "metadata": {},
   "outputs": [],
   "source": []
  },
  {
   "cell_type": "markdown",
   "id": "7da3392a",
   "metadata": {},
   "source": [
    "# 7)  a python program to scrape details of all the mobile phones under Rs. 20,000 listed on Amazon.in\n"
   ]
  },
  {
   "cell_type": "code",
   "execution_count": 409,
   "id": "7a7e05d9",
   "metadata": {},
   "outputs": [
    {
     "data": {
      "text/html": [
       "<div>\n",
       "<style scoped>\n",
       "    .dataframe tbody tr th:only-of-type {\n",
       "        vertical-align: middle;\n",
       "    }\n",
       "\n",
       "    .dataframe tbody tr th {\n",
       "        vertical-align: top;\n",
       "    }\n",
       "\n",
       "    .dataframe thead th {\n",
       "        text-align: right;\n",
       "    }\n",
       "</style>\n",
       "<table border=\"1\" class=\"dataframe\">\n",
       "  <thead>\n",
       "    <tr style=\"text-align: right;\">\n",
       "      <th></th>\n",
       "      <th>NAME</th>\n",
       "      <th>PRICE</th>\n",
       "      <th>RATING</th>\n",
       "    </tr>\n",
       "  </thead>\n",
       "  <tbody>\n",
       "    <tr>\n",
       "      <th>0</th>\n",
       "      <td>[Redmi Note 10 (Shadow Black, 4GB RAM, 64GB St...</td>\n",
       "      <td>[12,499]</td>\n",
       "      <td>[[4.0 out of 5 stars]]</td>\n",
       "    </tr>\n",
       "    <tr>\n",
       "      <th>1</th>\n",
       "      <td>[Redmi Note 10 (Aqua Green, 4GB RAM, 64GB Stor...</td>\n",
       "      <td>[12,499]</td>\n",
       "      <td>[[4.0 out of 5 stars]]</td>\n",
       "    </tr>\n",
       "    <tr>\n",
       "      <th>2</th>\n",
       "      <td>[Samsung Galaxy M12 (Blue,4GB RAM, 64GB Storag...</td>\n",
       "      <td>[10,999]</td>\n",
       "      <td>[[4.0 out of 5 stars]]</td>\n",
       "    </tr>\n",
       "    <tr>\n",
       "      <th>3</th>\n",
       "      <td>[Redmi Note 10 (Aqua Green, 6GB RAM, 128GB Sto...</td>\n",
       "      <td>[14,499]</td>\n",
       "      <td>[[4.0 out of 5 stars]]</td>\n",
       "    </tr>\n",
       "    <tr>\n",
       "      <th>4</th>\n",
       "      <td>[Samsung Galaxy M12 (Black,4GB RAM, 64GB Stora...</td>\n",
       "      <td>[10,999]</td>\n",
       "      <td>[[4.0 out of 5 stars]]</td>\n",
       "    </tr>\n",
       "    <tr>\n",
       "      <th>5</th>\n",
       "      <td>[Oppo A31 (Fantasy White, 6GB RAM, 128GB Stora...</td>\n",
       "      <td>[10,990]</td>\n",
       "      <td>[[4.2 out of 5 stars]]</td>\n",
       "    </tr>\n",
       "    <tr>\n",
       "      <th>6</th>\n",
       "      <td>[Redmi 9 Power (Blazing Blue, 4GB RAM, 64GB St...</td>\n",
       "      <td>[10,499]</td>\n",
       "      <td>[[4.2 out of 5 stars]]</td>\n",
       "    </tr>\n",
       "    <tr>\n",
       "      <th>7</th>\n",
       "      <td>[Redmi Note 9 (Arctic White, 4GB RAM, 64GB Sto...</td>\n",
       "      <td>[10,999]</td>\n",
       "      <td>[[4.0 out of 5 stars]]</td>\n",
       "    </tr>\n",
       "    <tr>\n",
       "      <th>8</th>\n",
       "      <td>[Samsung Galaxy M31 (Ocean Blue, 6GB RAM, 128G...</td>\n",
       "      <td>[14,999]</td>\n",
       "      <td>[[4.2 out of 5 stars]]</td>\n",
       "    </tr>\n",
       "    <tr>\n",
       "      <th>9</th>\n",
       "      <td>[Redmi Note 10 (Shadow Black, 6GB RAM, 128GB S...</td>\n",
       "      <td>[14,499]</td>\n",
       "      <td>[[4.1 out of 5 stars]]</td>\n",
       "    </tr>\n",
       "    <tr>\n",
       "      <th>10</th>\n",
       "      <td>[Redmi Note 9 Shadow Black, 4GB RAM, 64GB Stor...</td>\n",
       "      <td>[10,999]</td>\n",
       "      <td>[[4.2 out of 5 stars]]</td>\n",
       "    </tr>\n",
       "    <tr>\n",
       "      <th>11</th>\n",
       "      <td>[Redmi Note 9 (Pebble Grey, 4GB RAM 64GB Stora...</td>\n",
       "      <td>[10,999]</td>\n",
       "      <td>[[4.2 out of 5 stars]]</td>\n",
       "    </tr>\n",
       "    <tr>\n",
       "      <th>12</th>\n",
       "      <td>[Oppo A31 (Mystery Black, 6GB RAM, 128GB Stora...</td>\n",
       "      <td>[10,990]</td>\n",
       "      <td>[[4.0 out of 5 stars]]</td>\n",
       "    </tr>\n",
       "    <tr>\n",
       "      <th>13</th>\n",
       "      <td>[Redmi Note 10 Pro (Dark Night, 6GB RAM, 128GB...</td>\n",
       "      <td>[16,999]</td>\n",
       "      <td>[[4.0 out of 5 stars]]</td>\n",
       "    </tr>\n",
       "  </tbody>\n",
       "</table>\n",
       "</div>"
      ],
      "text/plain": [
       "                                                 NAME     PRICE  \\\n",
       "0   [Redmi Note 10 (Shadow Black, 4GB RAM, 64GB St...  [12,499]   \n",
       "1   [Redmi Note 10 (Aqua Green, 4GB RAM, 64GB Stor...  [12,499]   \n",
       "2   [Samsung Galaxy M12 (Blue,4GB RAM, 64GB Storag...  [10,999]   \n",
       "3   [Redmi Note 10 (Aqua Green, 6GB RAM, 128GB Sto...  [14,499]   \n",
       "4   [Samsung Galaxy M12 (Black,4GB RAM, 64GB Stora...  [10,999]   \n",
       "5   [Oppo A31 (Fantasy White, 6GB RAM, 128GB Stora...  [10,990]   \n",
       "6   [Redmi 9 Power (Blazing Blue, 4GB RAM, 64GB St...  [10,499]   \n",
       "7   [Redmi Note 9 (Arctic White, 4GB RAM, 64GB Sto...  [10,999]   \n",
       "8   [Samsung Galaxy M31 (Ocean Blue, 6GB RAM, 128G...  [14,999]   \n",
       "9   [Redmi Note 10 (Shadow Black, 6GB RAM, 128GB S...  [14,499]   \n",
       "10  [Redmi Note 9 Shadow Black, 4GB RAM, 64GB Stor...  [10,999]   \n",
       "11  [Redmi Note 9 (Pebble Grey, 4GB RAM 64GB Stora...  [10,999]   \n",
       "12  [Oppo A31 (Mystery Black, 6GB RAM, 128GB Stora...  [10,990]   \n",
       "13  [Redmi Note 10 Pro (Dark Night, 6GB RAM, 128GB...  [16,999]   \n",
       "\n",
       "                    RATING  \n",
       "0   [[4.0 out of 5 stars]]  \n",
       "1   [[4.0 out of 5 stars]]  \n",
       "2   [[4.0 out of 5 stars]]  \n",
       "3   [[4.0 out of 5 stars]]  \n",
       "4   [[4.0 out of 5 stars]]  \n",
       "5   [[4.2 out of 5 stars]]  \n",
       "6   [[4.2 out of 5 stars]]  \n",
       "7   [[4.0 out of 5 stars]]  \n",
       "8   [[4.2 out of 5 stars]]  \n",
       "9   [[4.1 out of 5 stars]]  \n",
       "10  [[4.2 out of 5 stars]]  \n",
       "11  [[4.2 out of 5 stars]]  \n",
       "12  [[4.0 out of 5 stars]]  \n",
       "13  [[4.0 out of 5 stars]]  "
      ]
     },
     "execution_count": 409,
     "metadata": {},
     "output_type": "execute_result"
    }
   ],
   "source": [
    "SMARTPHONES"
   ]
  },
  {
   "cell_type": "code",
   "execution_count": null,
   "id": "e11fce24",
   "metadata": {},
   "outputs": [],
   "source": []
  },
  {
   "cell_type": "markdown",
   "id": "306a32c3",
   "metadata": {},
   "source": [
    "# 8) python program to extract information about the local weather from the National Weather Service"
   ]
  },
  {
   "cell_type": "code",
   "execution_count": 410,
   "id": "d98c5d7e",
   "metadata": {},
   "outputs": [
    {
     "data": {
      "text/html": [
       "<div>\n",
       "<style scoped>\n",
       "    .dataframe tbody tr th:only-of-type {\n",
       "        vertical-align: middle;\n",
       "    }\n",
       "\n",
       "    .dataframe tbody tr th {\n",
       "        vertical-align: top;\n",
       "    }\n",
       "\n",
       "    .dataframe thead th {\n",
       "        text-align: right;\n",
       "    }\n",
       "</style>\n",
       "<table border=\"1\" class=\"dataframe\">\n",
       "  <thead>\n",
       "    <tr style=\"text-align: right;\">\n",
       "      <th></th>\n",
       "      <th>PERIOD</th>\n",
       "      <th>SHORT DESCRIPTION</th>\n",
       "      <th>DETAIL DESCRIPTION WITH TEMPRATURE IN FAHRENHEIT</th>\n",
       "    </tr>\n",
       "  </thead>\n",
       "  <tbody>\n",
       "    <tr>\n",
       "      <th>0</th>\n",
       "      <td>[Today, [], []]</td>\n",
       "      <td>[Mostly Sunny, [], then Sunny, [], and Breezy]</td>\n",
       "      <td>[Mostly cloudy through mid morning, then gradu...</td>\n",
       "    </tr>\n",
       "    <tr>\n",
       "      <th>1</th>\n",
       "      <td>[Tonight, [], []]</td>\n",
       "      <td>[Mostly Clear]</td>\n",
       "      <td>[Mostly clear, with a low around 49. West sout...</td>\n",
       "    </tr>\n",
       "    <tr>\n",
       "      <th>2</th>\n",
       "      <td>[Wednesday, [], []]</td>\n",
       "      <td>[Sunny then, [], Sunny and, [], Breezy]</td>\n",
       "      <td>[Sunny, with a high near 65. Breezy, with a we...</td>\n",
       "    </tr>\n",
       "    <tr>\n",
       "      <th>3</th>\n",
       "      <td>[Wednesday, [], Night]</td>\n",
       "      <td>[Mostly Clear, [], and Breezy]</td>\n",
       "      <td>[Mostly clear, with a low around 49. Breezy, w...</td>\n",
       "    </tr>\n",
       "    <tr>\n",
       "      <th>4</th>\n",
       "      <td>[Thursday, [], []]</td>\n",
       "      <td>[Sunny and, [], Breezy]</td>\n",
       "      <td>[Sunny, with a high near 67. Breezy, with a we...</td>\n",
       "    </tr>\n",
       "    <tr>\n",
       "      <th>5</th>\n",
       "      <td>[Thursday, [], Night]</td>\n",
       "      <td>[Mostly Clear, [], and Breezy, [], then Partly...</td>\n",
       "      <td>[Mostly clear, with a low around 51. Breezy. ]</td>\n",
       "    </tr>\n",
       "    <tr>\n",
       "      <th>6</th>\n",
       "      <td>[Friday, [], []]</td>\n",
       "      <td>[Sunny]</td>\n",
       "      <td>[Sunny, with a high near 65.]</td>\n",
       "    </tr>\n",
       "  </tbody>\n",
       "</table>\n",
       "</div>"
      ],
      "text/plain": [
       "                   PERIOD                                  SHORT DESCRIPTION  \\\n",
       "0         [Today, [], []]     [Mostly Sunny, [], then Sunny, [], and Breezy]   \n",
       "1       [Tonight, [], []]                                     [Mostly Clear]   \n",
       "2     [Wednesday, [], []]            [Sunny then, [], Sunny and, [], Breezy]   \n",
       "3  [Wednesday, [], Night]                     [Mostly Clear, [], and Breezy]   \n",
       "4      [Thursday, [], []]                            [Sunny and, [], Breezy]   \n",
       "5   [Thursday, [], Night]  [Mostly Clear, [], and Breezy, [], then Partly...   \n",
       "6        [Friday, [], []]                                            [Sunny]   \n",
       "\n",
       "    DETAIL DESCRIPTION WITH TEMPRATURE IN FAHRENHEIT  \n",
       "0  [Mostly cloudy through mid morning, then gradu...  \n",
       "1  [Mostly clear, with a low around 49. West sout...  \n",
       "2  [Sunny, with a high near 65. Breezy, with a we...  \n",
       "3  [Mostly clear, with a low around 49. Breezy, w...  \n",
       "4  [Sunny, with a high near 67. Breezy, with a we...  \n",
       "5     [Mostly clear, with a low around 51. Breezy. ]  \n",
       "6                      [Sunny, with a high near 65.]  "
      ]
     },
     "execution_count": 410,
     "metadata": {},
     "output_type": "execute_result"
    }
   ],
   "source": [
    "weather_forcast"
   ]
  },
  {
   "cell_type": "code",
   "execution_count": null,
   "id": "33fd23a5",
   "metadata": {},
   "outputs": [],
   "source": []
  },
  {
   "cell_type": "markdown",
   "id": "d63c315c",
   "metadata": {},
   "source": [
    "# 9)a python program to scrape fresher job listings from ‘https://internshala.com"
   ]
  },
  {
   "cell_type": "code",
   "execution_count": 53,
   "id": "5d9fee60",
   "metadata": {},
   "outputs": [
    {
     "data": {
      "text/html": [
       "<div>\n",
       "<style scoped>\n",
       "    .dataframe tbody tr th:only-of-type {\n",
       "        vertical-align: middle;\n",
       "    }\n",
       "\n",
       "    .dataframe tbody tr th {\n",
       "        vertical-align: top;\n",
       "    }\n",
       "\n",
       "    .dataframe thead th {\n",
       "        text-align: right;\n",
       "    }\n",
       "</style>\n",
       "<table border=\"1\" class=\"dataframe\">\n",
       "  <thead>\n",
       "    <tr style=\"text-align: right;\">\n",
       "      <th></th>\n",
       "      <th>JOBS</th>\n",
       "      <th>COMPANY</th>\n",
       "      <th>CTC</th>\n",
       "      <th>APPLY BY</th>\n",
       "    </tr>\n",
       "  </thead>\n",
       "  <tbody>\n",
       "    <tr>\n",
       "      <th>0</th>\n",
       "      <td>[\\n, [Talent Acquisition Executive],  ]</td>\n",
       "      <td>[\\n                        CrewKarma          ...</td>\n",
       "      <td>[\\n, [Starts ], Immediately\\n                 ...</td>\n",
       "      <td>Start date    ...</td>\n",
       "    </tr>\n",
       "    <tr>\n",
       "      <th>1</th>\n",
       "      <td>[\\n, [Full Stack Developer],  ]</td>\n",
       "      <td>[\\n                        Codfirm            ...</td>\n",
       "      <td>[\\n, [],   3 - 5 LPA                          ...</td>\n",
       "      <td>Apply By24 Jun' 21</td>\n",
       "    </tr>\n",
       "    <tr>\n",
       "      <th>2</th>\n",
       "      <td>[\\n, [Backend Developer],  ]</td>\n",
       "      <td>[\\n                        WebMOBI            ...</td>\n",
       "      <td>[24 Jun' 21]</td>\n",
       "      <td>Start date    ...</td>\n",
       "    </tr>\n",
       "    <tr>\n",
       "      <th>3</th>\n",
       "      <td>[\\n, [Full Stack Developer],  ]</td>\n",
       "      <td>[\\n                        TMBill Software    ...</td>\n",
       "      <td>[\\n, [Starts ], Immediately\\n                 ...</td>\n",
       "      <td>Apply By24 Jun' 21</td>\n",
       "    </tr>\n",
       "    <tr>\n",
       "      <th>4</th>\n",
       "      <td>[\\n, [Junior Sales Associate],  ]</td>\n",
       "      <td>[\\n                        Kraftshala         ...</td>\n",
       "      <td>[\\n, [],   5 - 8 LPA                          ...</td>\n",
       "      <td>Start date    ...</td>\n",
       "    </tr>\n",
       "    <tr>\n",
       "      <th>5</th>\n",
       "      <td>[\\n, [Digital Marketing Specialist],  ]</td>\n",
       "      <td>[\\n                        Black Jack         ...</td>\n",
       "      <td>[24 Jun' 21]</td>\n",
       "      <td>Apply By24 Jun' 21</td>\n",
       "    </tr>\n",
       "    <tr>\n",
       "      <th>6</th>\n",
       "      <td>[\\n, [Android App Developer],  ]</td>\n",
       "      <td>[\\n                        Storlyy            ...</td>\n",
       "      <td>[\\n, [Starts ], Immediately\\n                 ...</td>\n",
       "      <td>Start date    ...</td>\n",
       "    </tr>\n",
       "    <tr>\n",
       "      <th>7</th>\n",
       "      <td>[\\n, [Associate Data Scientist],  ]</td>\n",
       "      <td>[\\n                        Softsensor.ai      ...</td>\n",
       "      <td>[\\n, [],   3 LPA                              ...</td>\n",
       "      <td>Apply By24 Jun' 21</td>\n",
       "    </tr>\n",
       "    <tr>\n",
       "      <th>8</th>\n",
       "      <td>[\\n, [Junior Software Developer],  ]</td>\n",
       "      <td>[\\n                        ZoryBoard Software ...</td>\n",
       "      <td>[24 Jun' 21]</td>\n",
       "      <td>Start date    ...</td>\n",
       "    </tr>\n",
       "    <tr>\n",
       "      <th>9</th>\n",
       "      <td>[\\n, [Associate Software Developer],  ]</td>\n",
       "      <td>[\\n                        SNet Labs Private L...</td>\n",
       "      <td>[\\n, [Starts ], Immediately\\n                 ...</td>\n",
       "      <td>Apply By24 Jun' 21</td>\n",
       "    </tr>\n",
       "    <tr>\n",
       "      <th>10</th>\n",
       "      <td>[\\n, [Full Stack Developer],  ]</td>\n",
       "      <td>[\\n                        RavGins Internation...</td>\n",
       "      <td>[\\n, [],   3 LPA                              ...</td>\n",
       "      <td>Start date    ...</td>\n",
       "    </tr>\n",
       "    <tr>\n",
       "      <th>11</th>\n",
       "      <td>[\\n, [Operations Executive],  ]</td>\n",
       "      <td>[\\n                        TutorBin           ...</td>\n",
       "      <td>[24 Jun' 21]</td>\n",
       "      <td>Apply By24 Jun' 21</td>\n",
       "    </tr>\n",
       "    <tr>\n",
       "      <th>12</th>\n",
       "      <td>[\\n, [Associate UI/UX Designer],  ]</td>\n",
       "      <td>[\\n                        RavGins Internation...</td>\n",
       "      <td>[\\n, [Starts ], Immediately\\n                 ...</td>\n",
       "      <td>Start date    ...</td>\n",
       "    </tr>\n",
       "    <tr>\n",
       "      <th>13</th>\n",
       "      <td>[\\n, [Web Development Trainee],  ]</td>\n",
       "      <td>[\\n                        Softsensor.ai      ...</td>\n",
       "      <td>[\\n, [],   4 LPA                              ...</td>\n",
       "      <td>Apply By23 Jun' 21</td>\n",
       "    </tr>\n",
       "    <tr>\n",
       "      <th>14</th>\n",
       "      <td>[\\n, [Business Development Executive],  ]</td>\n",
       "      <td>[\\n                        Square Select Estat...</td>\n",
       "      <td>[24 Jun' 21]</td>\n",
       "      <td>Start date    ...</td>\n",
       "    </tr>\n",
       "    <tr>\n",
       "      <th>15</th>\n",
       "      <td>[\\n, [Full Stack Flutter Developer],  ]</td>\n",
       "      <td>[\\n                        HeartShirt         ...</td>\n",
       "      <td>[\\n, [Starts ], Immediately\\n                 ...</td>\n",
       "      <td>Apply By24 Jun' 21</td>\n",
       "    </tr>\n",
       "    <tr>\n",
       "      <th>16</th>\n",
       "      <td>[\\n, [Associate Software Developer],  ]</td>\n",
       "      <td>[\\n                        Labellerr By Tensor...</td>\n",
       "      <td>[\\n, [],   3 - 5 LPA                          ...</td>\n",
       "      <td>Start date    ...</td>\n",
       "    </tr>\n",
       "    <tr>\n",
       "      <th>17</th>\n",
       "      <td>[\\n, [Hardware Simulation Engineer],  ]</td>\n",
       "      <td>[\\n                        Keysight Technologi...</td>\n",
       "      <td>[24 Jun' 21]</td>\n",
       "      <td>Apply By20 Jun' 21</td>\n",
       "    </tr>\n",
       "    <tr>\n",
       "      <th>18</th>\n",
       "      <td>[\\n, [Graphic Designer],  ]</td>\n",
       "      <td>[\\n                        Cynfas             ...</td>\n",
       "      <td>[\\n, [Starts ], Immediately\\n                 ...</td>\n",
       "      <td>Start date    ...</td>\n",
       "    </tr>\n",
       "    <tr>\n",
       "      <th>19</th>\n",
       "      <td>[\\n, [Marketing Analyst],  ]</td>\n",
       "      <td>[\\n                        Exhilar Innovative ...</td>\n",
       "      <td>[\\n, [],   3 - 3.5 LPA                        ...</td>\n",
       "      <td>Apply By20 Jun' 21</td>\n",
       "    </tr>\n",
       "    <tr>\n",
       "      <th>20</th>\n",
       "      <td>[\\n, [Mobile App Developer],  ]</td>\n",
       "      <td>[\\n                        Wow Labz           ...</td>\n",
       "      <td>[23 Jun' 21]</td>\n",
       "      <td>Start date    ...</td>\n",
       "    </tr>\n",
       "    <tr>\n",
       "      <th>21</th>\n",
       "      <td>[\\n, [Software Engineer - AI(NLP)/Front-end(An...</td>\n",
       "      <td>[\\n                        RapidKen.AI        ...</td>\n",
       "      <td>[\\n, [Starts ], Immediately\\n                 ...</td>\n",
       "      <td>Apply By20 Jun' 21</td>\n",
       "    </tr>\n",
       "    <tr>\n",
       "      <th>22</th>\n",
       "      <td>[\\n, [Corporate Sales Executive],  ]</td>\n",
       "      <td>[\\n                        Twin Health        ...</td>\n",
       "      <td>[\\n, [],   4 - 8 LPA                          ...</td>\n",
       "      <td>Start date    ...</td>\n",
       "    </tr>\n",
       "    <tr>\n",
       "      <th>23</th>\n",
       "      <td>[\\n, [Software Tester],  ]</td>\n",
       "      <td>[\\n                        Lattice Innovations...</td>\n",
       "      <td>[24 Jun' 21]</td>\n",
       "      <td>Apply By20 Jun' 21</td>\n",
       "    </tr>\n",
       "    <tr>\n",
       "      <th>24</th>\n",
       "      <td>[\\n, [Mobile App Developer],  ]</td>\n",
       "      <td>[\\n                        Fusion Engineering ...</td>\n",
       "      <td>[\\n, [Starts ], Immediately\\n                 ...</td>\n",
       "      <td>Start date    ...</td>\n",
       "    </tr>\n",
       "    <tr>\n",
       "      <th>25</th>\n",
       "      <td>[\\n, [Junior Backend Developer],  ]</td>\n",
       "      <td>[\\n                        VPODS.ai           ...</td>\n",
       "      <td>[\\n, [],   3 - 4 LPA                          ...</td>\n",
       "      <td>Apply By20 Jun' 21</td>\n",
       "    </tr>\n",
       "    <tr>\n",
       "      <th>26</th>\n",
       "      <td>[\\n, [Social Media Strategist And Copywriter],  ]</td>\n",
       "      <td>[\\n                        Internshala        ...</td>\n",
       "      <td>[20 Jun' 21]</td>\n",
       "      <td>Start date    ...</td>\n",
       "    </tr>\n",
       "    <tr>\n",
       "      <th>27</th>\n",
       "      <td>[\\n, [Junior UI Designer],  ]</td>\n",
       "      <td>[\\n                        Phionike Solutions ...</td>\n",
       "      <td>[\\n, [Starts ], Immediately\\n                 ...</td>\n",
       "      <td>Apply By20 Jun' 21</td>\n",
       "    </tr>\n",
       "    <tr>\n",
       "      <th>28</th>\n",
       "      <td>[\\n, [Customer Service Executive],  ]</td>\n",
       "      <td>[\\n                        Verzeo             ...</td>\n",
       "      <td>[\\n, [],   3 - 3.2 LPA                        ...</td>\n",
       "      <td>Start date    ...</td>\n",
       "    </tr>\n",
       "    <tr>\n",
       "      <th>29</th>\n",
       "      <td>[\\n, [Business Development Associate],  ]</td>\n",
       "      <td>[\\n                        Erikka India       ...</td>\n",
       "      <td>[20 Jun' 21]</td>\n",
       "      <td>Apply By19 Jun' 21</td>\n",
       "    </tr>\n",
       "    <tr>\n",
       "      <th>30</th>\n",
       "      <td>[\\n, [JavaScript Developer],  ]</td>\n",
       "      <td>[\\n                        Inflolabs          ...</td>\n",
       "      <td>[\\n, [Starts ], Immediately\\n                 ...</td>\n",
       "      <td>Start date    ...</td>\n",
       "    </tr>\n",
       "    <tr>\n",
       "      <th>31</th>\n",
       "      <td>[\\n, [Software Engineer],  ]</td>\n",
       "      <td>[\\n                        CrewKarma          ...</td>\n",
       "      <td>[\\n, [],   3.3 - 4 LPA                        ...</td>\n",
       "      <td>Apply By19 Jun' 21</td>\n",
       "    </tr>\n",
       "    <tr>\n",
       "      <th>32</th>\n",
       "      <td>[\\n, [Business Development Manager (Inside Sal...</td>\n",
       "      <td>[\\n                        Vedic Maths Forum I...</td>\n",
       "      <td>[20 Jun' 21]</td>\n",
       "      <td>Start date    ...</td>\n",
       "    </tr>\n",
       "    <tr>\n",
       "      <th>33</th>\n",
       "      <td>[\\n, [Proposal &amp; Marketing Engineer],  ]</td>\n",
       "      <td>[\\n                        EnWe Clean Technolo...</td>\n",
       "      <td>[\\n, [Starts ], Immediately\\n                 ...</td>\n",
       "      <td>Apply By23 Jun' 21</td>\n",
       "    </tr>\n",
       "    <tr>\n",
       "      <th>34</th>\n",
       "      <td>[\\n, [Software Engineer Trainee],  ]</td>\n",
       "      <td>[\\n                        RightRev India Priv...</td>\n",
       "      <td>[\\n, [],   3.6 - 3.84 LPA                     ...</td>\n",
       "      <td>Start date    ...</td>\n",
       "    </tr>\n",
       "    <tr>\n",
       "      <th>35</th>\n",
       "      <td>[\\n, [Associate Software Developer],  ]</td>\n",
       "      <td>[\\n                        Shashank B         ...</td>\n",
       "      <td>[20 Jun' 21]</td>\n",
       "      <td>Apply By19 Jun' 21</td>\n",
       "    </tr>\n",
       "    <tr>\n",
       "      <th>36</th>\n",
       "      <td>[\\n, [Office Manager],  ]</td>\n",
       "      <td>[\\n                        Wono Inc           ...</td>\n",
       "      <td>[\\n, [Starts ], Immediately\\n                 ...</td>\n",
       "      <td>Start date    ...</td>\n",
       "    </tr>\n",
       "    <tr>\n",
       "      <th>37</th>\n",
       "      <td>[\\n, [Technical Recruiter],  ]</td>\n",
       "      <td>[\\n                        Wono Inc           ...</td>\n",
       "      <td>[\\n, [],   3 - 4 LPA                          ...</td>\n",
       "      <td>Apply By17 Jun' 21</td>\n",
       "    </tr>\n",
       "    <tr>\n",
       "      <th>38</th>\n",
       "      <td>[\\n, [Administrative Assistant],  ]</td>\n",
       "      <td>[\\n                        Wono Inc           ...</td>\n",
       "      <td>[20 Jun' 21]</td>\n",
       "      <td>Start date    ...</td>\n",
       "    </tr>\n",
       "    <tr>\n",
       "      <th>39</th>\n",
       "      <td>[\\n, [Web Developer],  ]</td>\n",
       "      <td>[\\n                        Wono Inc           ...</td>\n",
       "      <td>[\\n, [Starts ], Immediately\\n                 ...</td>\n",
       "      <td>Apply By17 Jun' 21</td>\n",
       "    </tr>\n",
       "  </tbody>\n",
       "</table>\n",
       "</div>"
      ],
      "text/plain": [
       "                                                 JOBS  \\\n",
       "0             [\\n, [Talent Acquisition Executive],  ]   \n",
       "1                     [\\n, [Full Stack Developer],  ]   \n",
       "2                        [\\n, [Backend Developer],  ]   \n",
       "3                     [\\n, [Full Stack Developer],  ]   \n",
       "4                   [\\n, [Junior Sales Associate],  ]   \n",
       "5             [\\n, [Digital Marketing Specialist],  ]   \n",
       "6                    [\\n, [Android App Developer],  ]   \n",
       "7                 [\\n, [Associate Data Scientist],  ]   \n",
       "8                [\\n, [Junior Software Developer],  ]   \n",
       "9             [\\n, [Associate Software Developer],  ]   \n",
       "10                    [\\n, [Full Stack Developer],  ]   \n",
       "11                    [\\n, [Operations Executive],  ]   \n",
       "12                [\\n, [Associate UI/UX Designer],  ]   \n",
       "13                 [\\n, [Web Development Trainee],  ]   \n",
       "14          [\\n, [Business Development Executive],  ]   \n",
       "15            [\\n, [Full Stack Flutter Developer],  ]   \n",
       "16            [\\n, [Associate Software Developer],  ]   \n",
       "17            [\\n, [Hardware Simulation Engineer],  ]   \n",
       "18                        [\\n, [Graphic Designer],  ]   \n",
       "19                       [\\n, [Marketing Analyst],  ]   \n",
       "20                    [\\n, [Mobile App Developer],  ]   \n",
       "21  [\\n, [Software Engineer - AI(NLP)/Front-end(An...   \n",
       "22               [\\n, [Corporate Sales Executive],  ]   \n",
       "23                         [\\n, [Software Tester],  ]   \n",
       "24                    [\\n, [Mobile App Developer],  ]   \n",
       "25                [\\n, [Junior Backend Developer],  ]   \n",
       "26  [\\n, [Social Media Strategist And Copywriter],  ]   \n",
       "27                      [\\n, [Junior UI Designer],  ]   \n",
       "28              [\\n, [Customer Service Executive],  ]   \n",
       "29          [\\n, [Business Development Associate],  ]   \n",
       "30                    [\\n, [JavaScript Developer],  ]   \n",
       "31                       [\\n, [Software Engineer],  ]   \n",
       "32  [\\n, [Business Development Manager (Inside Sal...   \n",
       "33           [\\n, [Proposal & Marketing Engineer],  ]   \n",
       "34               [\\n, [Software Engineer Trainee],  ]   \n",
       "35            [\\n, [Associate Software Developer],  ]   \n",
       "36                          [\\n, [Office Manager],  ]   \n",
       "37                     [\\n, [Technical Recruiter],  ]   \n",
       "38                [\\n, [Administrative Assistant],  ]   \n",
       "39                           [\\n, [Web Developer],  ]   \n",
       "\n",
       "                                              COMPANY  \\\n",
       "0   [\\n                        CrewKarma          ...   \n",
       "1   [\\n                        Codfirm            ...   \n",
       "2   [\\n                        WebMOBI            ...   \n",
       "3   [\\n                        TMBill Software    ...   \n",
       "4   [\\n                        Kraftshala         ...   \n",
       "5   [\\n                        Black Jack         ...   \n",
       "6   [\\n                        Storlyy            ...   \n",
       "7   [\\n                        Softsensor.ai      ...   \n",
       "8   [\\n                        ZoryBoard Software ...   \n",
       "9   [\\n                        SNet Labs Private L...   \n",
       "10  [\\n                        RavGins Internation...   \n",
       "11  [\\n                        TutorBin           ...   \n",
       "12  [\\n                        RavGins Internation...   \n",
       "13  [\\n                        Softsensor.ai      ...   \n",
       "14  [\\n                        Square Select Estat...   \n",
       "15  [\\n                        HeartShirt         ...   \n",
       "16  [\\n                        Labellerr By Tensor...   \n",
       "17  [\\n                        Keysight Technologi...   \n",
       "18  [\\n                        Cynfas             ...   \n",
       "19  [\\n                        Exhilar Innovative ...   \n",
       "20  [\\n                        Wow Labz           ...   \n",
       "21  [\\n                        RapidKen.AI        ...   \n",
       "22  [\\n                        Twin Health        ...   \n",
       "23  [\\n                        Lattice Innovations...   \n",
       "24  [\\n                        Fusion Engineering ...   \n",
       "25  [\\n                        VPODS.ai           ...   \n",
       "26  [\\n                        Internshala        ...   \n",
       "27  [\\n                        Phionike Solutions ...   \n",
       "28  [\\n                        Verzeo             ...   \n",
       "29  [\\n                        Erikka India       ...   \n",
       "30  [\\n                        Inflolabs          ...   \n",
       "31  [\\n                        CrewKarma          ...   \n",
       "32  [\\n                        Vedic Maths Forum I...   \n",
       "33  [\\n                        EnWe Clean Technolo...   \n",
       "34  [\\n                        RightRev India Priv...   \n",
       "35  [\\n                        Shashank B         ...   \n",
       "36  [\\n                        Wono Inc           ...   \n",
       "37  [\\n                        Wono Inc           ...   \n",
       "38  [\\n                        Wono Inc           ...   \n",
       "39  [\\n                        Wono Inc           ...   \n",
       "\n",
       "                                                  CTC  \\\n",
       "0   [\\n, [Starts ], Immediately\\n                 ...   \n",
       "1   [\\n, [],   3 - 5 LPA                          ...   \n",
       "2                                        [24 Jun' 21]   \n",
       "3   [\\n, [Starts ], Immediately\\n                 ...   \n",
       "4   [\\n, [],   5 - 8 LPA                          ...   \n",
       "5                                        [24 Jun' 21]   \n",
       "6   [\\n, [Starts ], Immediately\\n                 ...   \n",
       "7   [\\n, [],   3 LPA                              ...   \n",
       "8                                        [24 Jun' 21]   \n",
       "9   [\\n, [Starts ], Immediately\\n                 ...   \n",
       "10  [\\n, [],   3 LPA                              ...   \n",
       "11                                       [24 Jun' 21]   \n",
       "12  [\\n, [Starts ], Immediately\\n                 ...   \n",
       "13  [\\n, [],   4 LPA                              ...   \n",
       "14                                       [24 Jun' 21]   \n",
       "15  [\\n, [Starts ], Immediately\\n                 ...   \n",
       "16  [\\n, [],   3 - 5 LPA                          ...   \n",
       "17                                       [24 Jun' 21]   \n",
       "18  [\\n, [Starts ], Immediately\\n                 ...   \n",
       "19  [\\n, [],   3 - 3.5 LPA                        ...   \n",
       "20                                       [23 Jun' 21]   \n",
       "21  [\\n, [Starts ], Immediately\\n                 ...   \n",
       "22  [\\n, [],   4 - 8 LPA                          ...   \n",
       "23                                       [24 Jun' 21]   \n",
       "24  [\\n, [Starts ], Immediately\\n                 ...   \n",
       "25  [\\n, [],   3 - 4 LPA                          ...   \n",
       "26                                       [20 Jun' 21]   \n",
       "27  [\\n, [Starts ], Immediately\\n                 ...   \n",
       "28  [\\n, [],   3 - 3.2 LPA                        ...   \n",
       "29                                       [20 Jun' 21]   \n",
       "30  [\\n, [Starts ], Immediately\\n                 ...   \n",
       "31  [\\n, [],   3.3 - 4 LPA                        ...   \n",
       "32                                       [20 Jun' 21]   \n",
       "33  [\\n, [Starts ], Immediately\\n                 ...   \n",
       "34  [\\n, [],   3.6 - 3.84 LPA                     ...   \n",
       "35                                       [20 Jun' 21]   \n",
       "36  [\\n, [Starts ], Immediately\\n                 ...   \n",
       "37  [\\n, [],   3 - 4 LPA                          ...   \n",
       "38                                       [20 Jun' 21]   \n",
       "39  [\\n, [Starts ], Immediately\\n                 ...   \n",
       "\n",
       "                                             APPLY BY  \n",
       "0                                   Start date    ...  \n",
       "1                                  Apply By24 Jun' 21  \n",
       "2                                   Start date    ...  \n",
       "3                                  Apply By24 Jun' 21  \n",
       "4                                   Start date    ...  \n",
       "5                                  Apply By24 Jun' 21  \n",
       "6                                   Start date    ...  \n",
       "7                                  Apply By24 Jun' 21  \n",
       "8                                   Start date    ...  \n",
       "9                                  Apply By24 Jun' 21  \n",
       "10                                  Start date    ...  \n",
       "11                                 Apply By24 Jun' 21  \n",
       "12                                  Start date    ...  \n",
       "13                                 Apply By23 Jun' 21  \n",
       "14                                  Start date    ...  \n",
       "15                                 Apply By24 Jun' 21  \n",
       "16                                  Start date    ...  \n",
       "17                                 Apply By20 Jun' 21  \n",
       "18                                  Start date    ...  \n",
       "19                                 Apply By20 Jun' 21  \n",
       "20                                  Start date    ...  \n",
       "21                                 Apply By20 Jun' 21  \n",
       "22                                  Start date    ...  \n",
       "23                                 Apply By20 Jun' 21  \n",
       "24                                  Start date    ...  \n",
       "25                                 Apply By20 Jun' 21  \n",
       "26                                  Start date    ...  \n",
       "27                                 Apply By20 Jun' 21  \n",
       "28                                  Start date    ...  \n",
       "29                                 Apply By19 Jun' 21  \n",
       "30                                  Start date    ...  \n",
       "31                                 Apply By19 Jun' 21  \n",
       "32                                  Start date    ...  \n",
       "33                                 Apply By23 Jun' 21  \n",
       "34                                  Start date    ...  \n",
       "35                                 Apply By19 Jun' 21  \n",
       "36                                  Start date    ...  \n",
       "37                                 Apply By17 Jun' 21  \n",
       "38                                  Start date    ...  \n",
       "39                                 Apply By17 Jun' 21  "
      ]
     },
     "execution_count": 53,
     "metadata": {},
     "output_type": "execute_result"
    }
   ],
   "source": [
    "JOBS_DATA"
   ]
  },
  {
   "cell_type": "code",
   "execution_count": null,
   "id": "55ae3f70",
   "metadata": {},
   "outputs": [],
   "source": []
  }
 ],
 "metadata": {
  "kernelspec": {
   "display_name": "Python 3",
   "language": "python",
   "name": "python3"
  },
  "language_info": {
   "codemirror_mode": {
    "name": "ipython",
    "version": 3
   },
   "file_extension": ".py",
   "mimetype": "text/x-python",
   "name": "python",
   "nbconvert_exporter": "python",
   "pygments_lexer": "ipython3",
   "version": "3.8.8"
  }
 },
 "nbformat": 4,
 "nbformat_minor": 5
}
