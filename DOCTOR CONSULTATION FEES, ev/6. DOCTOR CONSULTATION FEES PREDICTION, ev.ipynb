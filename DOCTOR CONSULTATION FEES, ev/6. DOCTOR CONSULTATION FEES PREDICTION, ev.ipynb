{
 "cells": [
  {
   "cell_type": "markdown",
   "id": "8bc950f1",
   "metadata": {},
   "source": [
    "# Doctor's Consultation Fees Prediction\n",
    "Problem Statement:\n",
    "Predict A Doctor's Consultation Fee \n",
    "\n",
    "\n",
    "\n",
    "We have all been in situation where we go to a doctor in emergency and find that the consultation fees are too high. As a data scientist we all should do better. What if you have data that records important details about a doctor and you get to build a model to predict the doctor’s consulting fee.? This is the use case that let's you do that. \n",
    "\n",
    "Size of training set: 5961 records\n",
    "\n",
    "Size of test set: 1987 records\n",
    "\n",
    "\n",
    "\n",
    "FEATURES:\n",
    "\n",
    "Qualification: Qualification and degrees held by the doctor\n",
    "\n",
    "Experience: Experience of the doctor in number of years\n",
    "\n",
    "Rating: Rating given by patients\n",
    "\n",
    "Profile: Type of the doctor\n",
    "\n",
    "Miscellaneous_Info: Extra information about the doctor\n",
    "\n",
    "Fees: Fees charged by the doctor (Target Variable)\n",
    "\n",
    "Place: Area and the city where the doctor is located.\n",
    "\n"
   ]
  },
  {
   "cell_type": "markdown",
   "id": "93494372",
   "metadata": {},
   "source": [
    "# IMPORTING LIBRARIES"
   ]
  },
  {
   "cell_type": "code",
   "execution_count": 1,
   "id": "f2f325dd",
   "metadata": {},
   "outputs": [],
   "source": [
    "import pandas as pd\n",
    "import numpy as np\n",
    "import seaborn as sns\n",
    "import matplotlib.pyplot as plt\n",
    "import warnings\n",
    "warnings.filterwarnings('ignore')"
   ]
  },
  {
   "cell_type": "markdown",
   "id": "b404fd5d",
   "metadata": {},
   "source": [
    "# LOADING THE DATA SETS(train_data)"
   ]
  },
  {
   "cell_type": "code",
   "execution_count": 2,
   "id": "e2468df2",
   "metadata": {},
   "outputs": [
    {
     "data": {
      "text/html": [
       "<div>\n",
       "<style scoped>\n",
       "    .dataframe tbody tr th:only-of-type {\n",
       "        vertical-align: middle;\n",
       "    }\n",
       "\n",
       "    .dataframe tbody tr th {\n",
       "        vertical-align: top;\n",
       "    }\n",
       "\n",
       "    .dataframe thead th {\n",
       "        text-align: right;\n",
       "    }\n",
       "</style>\n",
       "<table border=\"1\" class=\"dataframe\">\n",
       "  <thead>\n",
       "    <tr style=\"text-align: right;\">\n",
       "      <th></th>\n",
       "      <th>Qualification</th>\n",
       "      <th>Experience</th>\n",
       "      <th>Rating</th>\n",
       "      <th>Place</th>\n",
       "      <th>Profile</th>\n",
       "      <th>Miscellaneous_Info</th>\n",
       "      <th>Fees</th>\n",
       "    </tr>\n",
       "  </thead>\n",
       "  <tbody>\n",
       "    <tr>\n",
       "      <th>0</th>\n",
       "      <td>BHMS, MD - Homeopathy</td>\n",
       "      <td>24 years experience</td>\n",
       "      <td>100%</td>\n",
       "      <td>Kakkanad, Ernakulam</td>\n",
       "      <td>Homeopath</td>\n",
       "      <td>100% 16 Feedback Kakkanad, Ernakulam</td>\n",
       "      <td>100</td>\n",
       "    </tr>\n",
       "    <tr>\n",
       "      <th>1</th>\n",
       "      <td>BAMS, MD - Ayurveda Medicine</td>\n",
       "      <td>12 years experience</td>\n",
       "      <td>98%</td>\n",
       "      <td>Whitefield, Bangalore</td>\n",
       "      <td>Ayurveda</td>\n",
       "      <td>98% 76 Feedback Whitefield, Bangalore</td>\n",
       "      <td>350</td>\n",
       "    </tr>\n",
       "    <tr>\n",
       "      <th>2</th>\n",
       "      <td>MBBS, MS - Otorhinolaryngology</td>\n",
       "      <td>9 years experience</td>\n",
       "      <td>NaN</td>\n",
       "      <td>Mathikere - BEL, Bangalore</td>\n",
       "      <td>ENT Specialist</td>\n",
       "      <td>NaN</td>\n",
       "      <td>300</td>\n",
       "    </tr>\n",
       "    <tr>\n",
       "      <th>3</th>\n",
       "      <td>BSc - Zoology, BAMS</td>\n",
       "      <td>12 years experience</td>\n",
       "      <td>NaN</td>\n",
       "      <td>Bannerghatta Road, Bangalore</td>\n",
       "      <td>Ayurveda</td>\n",
       "      <td>Bannerghatta Road, Bangalore ₹250 Available on...</td>\n",
       "      <td>250</td>\n",
       "    </tr>\n",
       "    <tr>\n",
       "      <th>4</th>\n",
       "      <td>BAMS</td>\n",
       "      <td>20 years experience</td>\n",
       "      <td>100%</td>\n",
       "      <td>Keelkattalai, Chennai</td>\n",
       "      <td>Ayurveda</td>\n",
       "      <td>100% 4 Feedback Keelkattalai, Chennai</td>\n",
       "      <td>250</td>\n",
       "    </tr>\n",
       "    <tr>\n",
       "      <th>...</th>\n",
       "      <td>...</td>\n",
       "      <td>...</td>\n",
       "      <td>...</td>\n",
       "      <td>...</td>\n",
       "      <td>...</td>\n",
       "      <td>...</td>\n",
       "      <td>...</td>\n",
       "    </tr>\n",
       "    <tr>\n",
       "      <th>5956</th>\n",
       "      <td>MBBS, MS - ENT</td>\n",
       "      <td>19 years experience</td>\n",
       "      <td>98%</td>\n",
       "      <td>Basavanagudi, Bangalore</td>\n",
       "      <td>ENT Specialist</td>\n",
       "      <td>98% 45 Feedback Basavanagudi, Bangalore</td>\n",
       "      <td>300</td>\n",
       "    </tr>\n",
       "    <tr>\n",
       "      <th>5957</th>\n",
       "      <td>MBBS</td>\n",
       "      <td>33 years experience</td>\n",
       "      <td>NaN</td>\n",
       "      <td>Nungambakkam, Chennai</td>\n",
       "      <td>General Medicine</td>\n",
       "      <td>NaN</td>\n",
       "      <td>100</td>\n",
       "    </tr>\n",
       "    <tr>\n",
       "      <th>5958</th>\n",
       "      <td>MBBS</td>\n",
       "      <td>41 years experience</td>\n",
       "      <td>97%</td>\n",
       "      <td>Greater Kailash Part 2, Delhi</td>\n",
       "      <td>General Medicine</td>\n",
       "      <td>97% 11 Feedback Greater Kailash Part 2, Delhi</td>\n",
       "      <td>600</td>\n",
       "    </tr>\n",
       "    <tr>\n",
       "      <th>5959</th>\n",
       "      <td>MBBS, MD - General Medicine</td>\n",
       "      <td>15 years experience</td>\n",
       "      <td>90%</td>\n",
       "      <td>Vileparle West, Mumbai</td>\n",
       "      <td>General Medicine</td>\n",
       "      <td>General Medical Consultation Viral Fever Treat...</td>\n",
       "      <td>100</td>\n",
       "    </tr>\n",
       "    <tr>\n",
       "      <th>5960</th>\n",
       "      <td>BDS, MDS - Orthodontics</td>\n",
       "      <td>17 years experience</td>\n",
       "      <td>100%</td>\n",
       "      <td>Pitampura, Delhi</td>\n",
       "      <td>Dentist</td>\n",
       "      <td>Acrylic Partial Denture Crowns and Bridges Fix...</td>\n",
       "      <td>200</td>\n",
       "    </tr>\n",
       "  </tbody>\n",
       "</table>\n",
       "<p>5961 rows × 7 columns</p>\n",
       "</div>"
      ],
      "text/plain": [
       "                       Qualification           Experience Rating  \\\n",
       "0              BHMS, MD - Homeopathy  24 years experience   100%   \n",
       "1       BAMS, MD - Ayurveda Medicine  12 years experience    98%   \n",
       "2     MBBS, MS - Otorhinolaryngology   9 years experience    NaN   \n",
       "3                BSc - Zoology, BAMS  12 years experience    NaN   \n",
       "4                               BAMS  20 years experience   100%   \n",
       "...                              ...                  ...    ...   \n",
       "5956                  MBBS, MS - ENT  19 years experience    98%   \n",
       "5957                            MBBS  33 years experience    NaN   \n",
       "5958                            MBBS  41 years experience    97%   \n",
       "5959     MBBS, MD - General Medicine  15 years experience    90%   \n",
       "5960         BDS, MDS - Orthodontics  17 years experience   100%   \n",
       "\n",
       "                              Place           Profile  \\\n",
       "0               Kakkanad, Ernakulam         Homeopath   \n",
       "1             Whitefield, Bangalore          Ayurveda   \n",
       "2        Mathikere - BEL, Bangalore    ENT Specialist   \n",
       "3      Bannerghatta Road, Bangalore          Ayurveda   \n",
       "4             Keelkattalai, Chennai          Ayurveda   \n",
       "...                             ...               ...   \n",
       "5956        Basavanagudi, Bangalore    ENT Specialist   \n",
       "5957          Nungambakkam, Chennai  General Medicine   \n",
       "5958  Greater Kailash Part 2, Delhi  General Medicine   \n",
       "5959         Vileparle West, Mumbai  General Medicine   \n",
       "5960               Pitampura, Delhi           Dentist   \n",
       "\n",
       "                                     Miscellaneous_Info  Fees  \n",
       "0                  100% 16 Feedback Kakkanad, Ernakulam   100  \n",
       "1                 98% 76 Feedback Whitefield, Bangalore   350  \n",
       "2                                                   NaN   300  \n",
       "3     Bannerghatta Road, Bangalore ₹250 Available on...   250  \n",
       "4                 100% 4 Feedback Keelkattalai, Chennai   250  \n",
       "...                                                 ...   ...  \n",
       "5956            98% 45 Feedback Basavanagudi, Bangalore   300  \n",
       "5957                                                NaN   100  \n",
       "5958      97% 11 Feedback Greater Kailash Part 2, Delhi   600  \n",
       "5959  General Medical Consultation Viral Fever Treat...   100  \n",
       "5960  Acrylic Partial Denture Crowns and Bridges Fix...   200  \n",
       "\n",
       "[5961 rows x 7 columns]"
      ]
     },
     "execution_count": 2,
     "metadata": {},
     "output_type": "execute_result"
    }
   ],
   "source": [
    "df=pd.read_excel('Final_Train.xlsx')\n",
    "df"
   ]
  },
  {
   "cell_type": "code",
   "execution_count": 3,
   "id": "0ad76c1a",
   "metadata": {},
   "outputs": [
    {
     "data": {
      "text/plain": [
       "(5961, 7)"
      ]
     },
     "execution_count": 3,
     "metadata": {},
     "output_type": "execute_result"
    }
   ],
   "source": [
    "df.shape"
   ]
  },
  {
   "cell_type": "markdown",
   "id": "f676198d",
   "metadata": {},
   "source": [
    "There is 5961 rows and 7 columns in the dataset."
   ]
  },
  {
   "cell_type": "markdown",
   "id": "b62f5325",
   "metadata": {},
   "source": [
    "# CHECKING NULL VALUES IN THE DATASET"
   ]
  },
  {
   "cell_type": "code",
   "execution_count": 4,
   "id": "41c3b1ee",
   "metadata": {},
   "outputs": [
    {
     "data": {
      "text/plain": [
       "Qualification            0\n",
       "Experience               0\n",
       "Rating                3302\n",
       "Place                   25\n",
       "Profile                  0\n",
       "Miscellaneous_Info    2620\n",
       "Fees                     0\n",
       "dtype: int64"
      ]
     },
     "execution_count": 4,
     "metadata": {},
     "output_type": "execute_result"
    }
   ],
   "source": [
    "df.isnull().sum()"
   ]
  },
  {
   "cell_type": "markdown",
   "id": "19acd662",
   "metadata": {},
   "source": [
    "There is 3302 missing values in rating column and 2620 missing values in  There is 3302 missing values in rating column and 2620 missing values in  There is 3302 missing values in rating column and 2620 missing values in Miscellaneous_Info column, so the number of missing values is too high so we have to drop both columns. "
   ]
  },
  {
   "cell_type": "markdown",
   "id": "809d0a56",
   "metadata": {},
   "source": [
    "# DROPPING UNNECESSARY COLUMNS"
   ]
  },
  {
   "cell_type": "code",
   "execution_count": 5,
   "id": "a9476ed4",
   "metadata": {},
   "outputs": [],
   "source": [
    "del df['Rating']"
   ]
  },
  {
   "cell_type": "code",
   "execution_count": 6,
   "id": "70834fa4",
   "metadata": {},
   "outputs": [],
   "source": [
    "del df['Miscellaneous_Info']"
   ]
  },
  {
   "cell_type": "code",
   "execution_count": 7,
   "id": "cc6f5c87",
   "metadata": {},
   "outputs": [
    {
     "data": {
      "text/plain": [
       "(5961, 5)"
      ]
     },
     "execution_count": 7,
     "metadata": {},
     "output_type": "execute_result"
    }
   ],
   "source": [
    "df.shape"
   ]
  },
  {
   "cell_type": "code",
   "execution_count": 8,
   "id": "840bec16",
   "metadata": {},
   "outputs": [
    {
     "data": {
      "text/html": [
       "<div>\n",
       "<style scoped>\n",
       "    .dataframe tbody tr th:only-of-type {\n",
       "        vertical-align: middle;\n",
       "    }\n",
       "\n",
       "    .dataframe tbody tr th {\n",
       "        vertical-align: top;\n",
       "    }\n",
       "\n",
       "    .dataframe thead th {\n",
       "        text-align: right;\n",
       "    }\n",
       "</style>\n",
       "<table border=\"1\" class=\"dataframe\">\n",
       "  <thead>\n",
       "    <tr style=\"text-align: right;\">\n",
       "      <th></th>\n",
       "      <th>Qualification</th>\n",
       "      <th>Experience</th>\n",
       "      <th>Place</th>\n",
       "      <th>Profile</th>\n",
       "      <th>Fees</th>\n",
       "    </tr>\n",
       "  </thead>\n",
       "  <tbody>\n",
       "    <tr>\n",
       "      <th>0</th>\n",
       "      <td>BHMS, MD - Homeopathy</td>\n",
       "      <td>24 years experience</td>\n",
       "      <td>Kakkanad, Ernakulam</td>\n",
       "      <td>Homeopath</td>\n",
       "      <td>100</td>\n",
       "    </tr>\n",
       "    <tr>\n",
       "      <th>1</th>\n",
       "      <td>BAMS, MD - Ayurveda Medicine</td>\n",
       "      <td>12 years experience</td>\n",
       "      <td>Whitefield, Bangalore</td>\n",
       "      <td>Ayurveda</td>\n",
       "      <td>350</td>\n",
       "    </tr>\n",
       "    <tr>\n",
       "      <th>2</th>\n",
       "      <td>MBBS, MS - Otorhinolaryngology</td>\n",
       "      <td>9 years experience</td>\n",
       "      <td>Mathikere - BEL, Bangalore</td>\n",
       "      <td>ENT Specialist</td>\n",
       "      <td>300</td>\n",
       "    </tr>\n",
       "    <tr>\n",
       "      <th>3</th>\n",
       "      <td>BSc - Zoology, BAMS</td>\n",
       "      <td>12 years experience</td>\n",
       "      <td>Bannerghatta Road, Bangalore</td>\n",
       "      <td>Ayurveda</td>\n",
       "      <td>250</td>\n",
       "    </tr>\n",
       "    <tr>\n",
       "      <th>4</th>\n",
       "      <td>BAMS</td>\n",
       "      <td>20 years experience</td>\n",
       "      <td>Keelkattalai, Chennai</td>\n",
       "      <td>Ayurveda</td>\n",
       "      <td>250</td>\n",
       "    </tr>\n",
       "  </tbody>\n",
       "</table>\n",
       "</div>"
      ],
      "text/plain": [
       "                    Qualification           Experience  \\\n",
       "0           BHMS, MD - Homeopathy  24 years experience   \n",
       "1    BAMS, MD - Ayurveda Medicine  12 years experience   \n",
       "2  MBBS, MS - Otorhinolaryngology   9 years experience   \n",
       "3             BSc - Zoology, BAMS  12 years experience   \n",
       "4                            BAMS  20 years experience   \n",
       "\n",
       "                          Place         Profile  Fees  \n",
       "0           Kakkanad, Ernakulam       Homeopath   100  \n",
       "1         Whitefield, Bangalore        Ayurveda   350  \n",
       "2    Mathikere - BEL, Bangalore  ENT Specialist   300  \n",
       "3  Bannerghatta Road, Bangalore        Ayurveda   250  \n",
       "4         Keelkattalai, Chennai        Ayurveda   250  "
      ]
     },
     "execution_count": 8,
     "metadata": {},
     "output_type": "execute_result"
    }
   ],
   "source": [
    "df.head()"
   ]
  },
  {
   "cell_type": "markdown",
   "id": "717dbfdf",
   "metadata": {},
   "source": [
    "Now we can see both the columns has been deleted from the dataset."
   ]
  },
  {
   "cell_type": "markdown",
   "id": "2f449e82",
   "metadata": {},
   "source": [
    "# CHECKING DATATYPES OF THE COLUMNS"
   ]
  },
  {
   "cell_type": "code",
   "execution_count": 9,
   "id": "3b42eb0b",
   "metadata": {},
   "outputs": [
    {
     "name": "stdout",
     "output_type": "stream",
     "text": [
      "<class 'pandas.core.frame.DataFrame'>\n",
      "RangeIndex: 5961 entries, 0 to 5960\n",
      "Data columns (total 5 columns):\n",
      " #   Column         Non-Null Count  Dtype \n",
      "---  ------         --------------  ----- \n",
      " 0   Qualification  5961 non-null   object\n",
      " 1   Experience     5961 non-null   object\n",
      " 2   Place          5936 non-null   object\n",
      " 3   Profile        5961 non-null   object\n",
      " 4   Fees           5961 non-null   int64 \n",
      "dtypes: int64(1), object(4)\n",
      "memory usage: 233.0+ KB\n"
     ]
    }
   ],
   "source": [
    "df.info()"
   ]
  },
  {
   "cell_type": "markdown",
   "id": "43a0a9fa",
   "metadata": {},
   "source": [
    "There is 1 integer datatype column and 4 object datatype column."
   ]
  },
  {
   "cell_type": "markdown",
   "id": "83aca7b2",
   "metadata": {},
   "source": [
    "#  VISUALIZATION OF CATEGORICAL DATA BY COUNT PLOT"
   ]
  },
  {
   "cell_type": "code",
   "execution_count": 10,
   "id": "1625a1b8",
   "metadata": {},
   "outputs": [],
   "source": [
    "# Visulaization by graph is not possible due to more number of unique values ,so only checking unique values by countplot"
   ]
  },
  {
   "cell_type": "code",
   "execution_count": 11,
   "id": "bdefece9",
   "metadata": {},
   "outputs": [
    {
     "name": "stdout",
     "output_type": "stream",
     "text": [
      "BDS                                                                                              488\n",
      "BHMS                                                                                             477\n",
      "BAMS                                                                                             471\n",
      "MBBS                                                                                             334\n",
      "MBBS, MS - ENT                                                                                   220\n",
      "                                                                                                ... \n",
      "MBBS, DEMS                                                                                         1\n",
      "Certified In Panchkarma, Certification In Yoga, Paanchabhautic Ayurveda Certificate, BAMS          1\n",
      "MD - General Medicine, DM - Critical Care Medicine, Post Graduate Course in Diabetology, MBBS      1\n",
      "BDS, DMD - Doctor of Dental Medicine                                                               1\n",
      "MBBS, DO                                                                                           1\n",
      "Name: Qualification, Length: 1420, dtype: int64\n"
     ]
    }
   ],
   "source": [
    "print(df['Qualification'].value_counts())"
   ]
  },
  {
   "cell_type": "markdown",
   "id": "cb88138a",
   "metadata": {},
   "source": [
    "488 Doctors are BDS and 477 Doctors are BHMS , and there is not much differnce between BDS and BHMS.\n",
    "MBBS Doctors are 334."
   ]
  },
  {
   "cell_type": "code",
   "execution_count": null,
   "id": "af0a617e",
   "metadata": {},
   "outputs": [],
   "source": []
  },
  {
   "cell_type": "code",
   "execution_count": 12,
   "id": "715f8214",
   "metadata": {},
   "outputs": [
    {
     "name": "stdout",
     "output_type": "stream",
     "text": [
      "9 years experience     323\n",
      "10 years experience    294\n",
      "11 years experience    288\n",
      "8 years experience     282\n",
      "12 years experience    279\n",
      "                      ... \n",
      "66 years experience      1\n",
      "58 years experience      1\n",
      "60 years experience      1\n",
      "64 years experience      1\n",
      "59 years experience      1\n",
      "Name: Experience, Length: 64, dtype: int64\n"
     ]
    }
   ],
   "source": [
    "print(df['Experience'].value_counts())"
   ]
  },
  {
   "cell_type": "markdown",
   "id": "6044dddc",
   "metadata": {},
   "source": [
    "Most of the doctors have 9 years of experience showing maximum number of count that is 323, 294 doctors have 10 years of experience, 288 Doctors have 11 years of experience, 282 doctors have 8 years of experience and 279 doctors have 12 years  of experience, and there is not much difference between them."
   ]
  },
  {
   "cell_type": "code",
   "execution_count": null,
   "id": "2460d5d2",
   "metadata": {},
   "outputs": [],
   "source": []
  },
  {
   "cell_type": "code",
   "execution_count": 13,
   "id": "2d7c8550",
   "metadata": {},
   "outputs": [
    {
     "name": "stdout",
     "output_type": "stream",
     "text": [
      "HSR Layout, Bangalore              75\n",
      "Andheri West, Mumbai               70\n",
      "Dwarka, Delhi                      67\n",
      "Banjara Hills, Hyderabad           64\n",
      "Mulund West, Mumbai                54\n",
      "                                   ..\n",
      "Chullickal, Ernakulam               1\n",
      "Tiruvottiyur, Chennai               1\n",
      "SG Palya (Kormangla), Bangalore     1\n",
      "Parassala, Thiruvananthapuram       1\n",
      "Thudiyalur, Coimbatore              1\n",
      "Name: Place, Length: 877, dtype: int64\n"
     ]
    }
   ],
   "source": [
    "print(df['Place'].value_counts())"
   ]
  },
  {
   "cell_type": "markdown",
   "id": "6e525a8c",
   "metadata": {},
   "source": [
    "75 doctors are from Bangalore , 70 doctors are from Andheri West Mumbai, 67 doctors are from Dwarka Delhi, 64 doctors are from Banjara Hills Hyderabad  and 54 doctors are from Mulund West Mumbai.  "
   ]
  },
  {
   "cell_type": "code",
   "execution_count": null,
   "id": "73898281",
   "metadata": {},
   "outputs": [],
   "source": []
  },
  {
   "cell_type": "code",
   "execution_count": 14,
   "id": "75b38b81",
   "metadata": {},
   "outputs": [
    {
     "name": "stdout",
     "output_type": "stream",
     "text": [
      "Dentist             1397\n",
      "General Medicine    1173\n",
      "Dermatologists      1034\n",
      "Homeopath            843\n",
      "Ayurveda             786\n",
      "ENT Specialist       728\n",
      "Name: Profile, dtype: int64\n"
     ]
    },
    {
     "data": {
      "image/png": "[encoded data removed]",
      "text/plain": [
       "<Figure size 432x288 with 1 Axes>"
      ]
     },
     "metadata": {
      "needs_background": "light"
     },
     "output_type": "display_data"
    }
   ],
   "source": [
    "ax=sns.countplot(x='Profile',data=df)\n",
    "print(df['Profile'].value_counts())\n",
    "ax.set_xticklabels(ax.get_xticklabels(),rotation=40, ha='right')\n",
    "plt.tight_layout()"
   ]
  },
  {
   "cell_type": "markdown",
   "id": "e10d789c",
   "metadata": {},
   "source": [
    "Dentist are maximum that 1397 , doctors with profile of General medicine is 1397, and all the profiles bars is looking approx normal not much difference."
   ]
  },
  {
   "cell_type": "markdown",
   "id": "0448a621",
   "metadata": {},
   "source": [
    "# VISUALIZATION OF INTEGER DATA"
   ]
  },
  {
   "cell_type": "code",
   "execution_count": 15,
   "id": "a25ff47b",
   "metadata": {},
   "outputs": [
    {
     "data": {
      "text/plain": [
       "<AxesSubplot:xlabel='Fees', ylabel='Density'>"
      ]
     },
     "execution_count": 15,
     "metadata": {},
     "output_type": "execute_result"
    },
    {
     "data": {
      "image/png": "[encoded data removed]",
      "text/plain": [
       "<Figure size 432x288 with 1 Axes>"
      ]
     },
     "metadata": {
      "needs_background": "light"
     },
     "output_type": "display_data"
    }
   ],
   "source": [
    "sns.distplot(df['Fees'])"
   ]
  },
  {
   "cell_type": "markdown",
   "id": "45a1856d",
   "metadata": {},
   "source": [
    "Fees rages from approx 100 to 1000."
   ]
  },
  {
   "cell_type": "markdown",
   "id": "8b8c3ba8",
   "metadata": {},
   "source": [
    "# CONVERTING STRING COLUMNS TO NUMERIC COLUMNS"
   ]
  },
  {
   "cell_type": "code",
   "execution_count": 16,
   "id": "2098c1df",
   "metadata": {},
   "outputs": [],
   "source": [
    "from sklearn.preprocessing import LabelEncoder\n",
    "le=LabelEncoder()"
   ]
  },
  {
   "cell_type": "code",
   "execution_count": 17,
   "id": "f6386222",
   "metadata": {},
   "outputs": [],
   "source": [
    "for i in df.columns:\n",
    "    if df[i].dtypes=='object':\n",
    "        df[i]=le.fit_transform(df[i])"
   ]
  },
  {
   "cell_type": "code",
   "execution_count": 18,
   "id": "243c6276",
   "metadata": {},
   "outputs": [
    {
     "data": {
      "text/html": [
       "<div>\n",
       "<style scoped>\n",
       "    .dataframe tbody tr th:only-of-type {\n",
       "        vertical-align: middle;\n",
       "    }\n",
       "\n",
       "    .dataframe tbody tr th {\n",
       "        vertical-align: top;\n",
       "    }\n",
       "\n",
       "    .dataframe thead th {\n",
       "        text-align: right;\n",
       "    }\n",
       "</style>\n",
       "<table border=\"1\" class=\"dataframe\">\n",
       "  <thead>\n",
       "    <tr style=\"text-align: right;\">\n",
       "      <th></th>\n",
       "      <th>Qualification</th>\n",
       "      <th>Experience</th>\n",
       "      <th>Place</th>\n",
       "      <th>Profile</th>\n",
       "      <th>Fees</th>\n",
       "    </tr>\n",
       "  </thead>\n",
       "  <tbody>\n",
       "    <tr>\n",
       "      <th>0</th>\n",
       "      <td>401</td>\n",
       "      <td>16</td>\n",
       "      <td>299</td>\n",
       "      <td>5</td>\n",
       "      <td>100</td>\n",
       "    </tr>\n",
       "    <tr>\n",
       "      <th>1</th>\n",
       "      <td>73</td>\n",
       "      <td>3</td>\n",
       "      <td>866</td>\n",
       "      <td>0</td>\n",
       "      <td>350</td>\n",
       "    </tr>\n",
       "    <tr>\n",
       "      <th>2</th>\n",
       "      <td>1135</td>\n",
       "      <td>63</td>\n",
       "      <td>457</td>\n",
       "      <td>3</td>\n",
       "      <td>300</td>\n",
       "    </tr>\n",
       "    <tr>\n",
       "      <th>3</th>\n",
       "      <td>464</td>\n",
       "      <td>3</td>\n",
       "      <td>68</td>\n",
       "      <td>0</td>\n",
       "      <td>250</td>\n",
       "    </tr>\n",
       "    <tr>\n",
       "      <th>4</th>\n",
       "      <td>10</td>\n",
       "      <td>12</td>\n",
       "      <td>337</td>\n",
       "      <td>0</td>\n",
       "      <td>250</td>\n",
       "    </tr>\n",
       "    <tr>\n",
       "      <th>...</th>\n",
       "      <td>...</td>\n",
       "      <td>...</td>\n",
       "      <td>...</td>\n",
       "      <td>...</td>\n",
       "      <td>...</td>\n",
       "    </tr>\n",
       "    <tr>\n",
       "      <th>5956</th>\n",
       "      <td>1075</td>\n",
       "      <td>10</td>\n",
       "      <td>70</td>\n",
       "      <td>3</td>\n",
       "      <td>300</td>\n",
       "    </tr>\n",
       "    <tr>\n",
       "      <th>5957</th>\n",
       "      <td>596</td>\n",
       "      <td>26</td>\n",
       "      <td>541</td>\n",
       "      <td>4</td>\n",
       "      <td>100</td>\n",
       "    </tr>\n",
       "    <tr>\n",
       "      <th>5958</th>\n",
       "      <td>596</td>\n",
       "      <td>35</td>\n",
       "      <td>216</td>\n",
       "      <td>4</td>\n",
       "      <td>600</td>\n",
       "    </tr>\n",
       "    <tr>\n",
       "      <th>5959</th>\n",
       "      <td>943</td>\n",
       "      <td>6</td>\n",
       "      <td>850</td>\n",
       "      <td>4</td>\n",
       "      <td>100</td>\n",
       "    </tr>\n",
       "    <tr>\n",
       "      <th>5960</th>\n",
       "      <td>243</td>\n",
       "      <td>8</td>\n",
       "      <td>603</td>\n",
       "      <td>1</td>\n",
       "      <td>200</td>\n",
       "    </tr>\n",
       "  </tbody>\n",
       "</table>\n",
       "<p>5961 rows × 5 columns</p>\n",
       "</div>"
      ],
      "text/plain": [
       "      Qualification  Experience  Place  Profile  Fees\n",
       "0               401          16    299        5   100\n",
       "1                73           3    866        0   350\n",
       "2              1135          63    457        3   300\n",
       "3               464           3     68        0   250\n",
       "4                10          12    337        0   250\n",
       "...             ...         ...    ...      ...   ...\n",
       "5956           1075          10     70        3   300\n",
       "5957            596          26    541        4   100\n",
       "5958            596          35    216        4   600\n",
       "5959            943           6    850        4   100\n",
       "5960            243           8    603        1   200\n",
       "\n",
       "[5961 rows x 5 columns]"
      ]
     },
     "execution_count": 18,
     "metadata": {},
     "output_type": "execute_result"
    }
   ],
   "source": [
    "\n",
    "df"
   ]
  },
  {
   "cell_type": "markdown",
   "id": "acee14d9",
   "metadata": {},
   "source": [
    "Now object data type column is converted into numeric one."
   ]
  },
  {
   "cell_type": "markdown",
   "id": "96ab96a4",
   "metadata": {},
   "source": [
    "# CHECKING OUTLIERS"
   ]
  },
  {
   "cell_type": "code",
   "execution_count": 19,
   "id": "13829fed",
   "metadata": {},
   "outputs": [
    {
     "data": {
      "text/plain": [
       "Qualification       AxesSubplot(0.125,0.71587;0.0945122x0.16413)\n",
       "Experience       AxesSubplot(0.238415,0.71587;0.0945122x0.16413)\n",
       "Place            AxesSubplot(0.351829,0.71587;0.0945122x0.16413)\n",
       "Profile          AxesSubplot(0.465244,0.71587;0.0945122x0.16413)\n",
       "Fees             AxesSubplot(0.578659,0.71587;0.0945122x0.16413)\n",
       "dtype: object"
      ]
     },
     "execution_count": 19,
     "metadata": {},
     "output_type": "execute_result"
    },
    {
     "data": {
      "image/png": "[encoded data removed]",
      "text/plain": [
       "<Figure size 1080x720 with 28 Axes>"
      ]
     },
     "metadata": {
      "needs_background": "light"
     },
     "output_type": "display_data"
    }
   ],
   "source": [
    "df.plot(kind='box', subplots=True ,layout=(4,7),figsize=(15,10))"
   ]
  },
  {
   "cell_type": "markdown",
   "id": "29438946",
   "metadata": {},
   "source": [
    "Outliers are not present in any of the columns."
   ]
  },
  {
   "cell_type": "code",
   "execution_count": null,
   "id": "59ebd825",
   "metadata": {},
   "outputs": [],
   "source": []
  },
  {
   "cell_type": "markdown",
   "id": "fdae3fcf",
   "metadata": {},
   "source": [
    "# CHECKING SKEWNESS"
   ]
  },
  {
   "cell_type": "code",
   "execution_count": 20,
   "id": "ef7b3c67",
   "metadata": {},
   "outputs": [
    {
     "data": {
      "text/plain": [
       "Qualification    0.239720\n",
       "Experience       0.823531\n",
       "Place            0.116574\n",
       "Profile          0.108803\n",
       "Fees             0.751870\n",
       "dtype: float64"
      ]
     },
     "execution_count": 20,
     "metadata": {},
     "output_type": "execute_result"
    }
   ],
   "source": [
    "df.skew()"
   ]
  },
  {
   "cell_type": "markdown",
   "id": "bc98dfc8",
   "metadata": {},
   "source": [
    "Skewness is present in Experience and Fees columns, so Experience is the Object data type column and Fees is the target column so skewness cannot be treated."
   ]
  },
  {
   "cell_type": "markdown",
   "id": "2b10d7ff",
   "metadata": {},
   "source": [
    "# CORRELATION MATRIX"
   ]
  },
  {
   "cell_type": "code",
   "execution_count": 21,
   "id": "6ef493d3",
   "metadata": {},
   "outputs": [
    {
     "data": {
      "text/html": [
       "<div>\n",
       "<style scoped>\n",
       "    .dataframe tbody tr th:only-of-type {\n",
       "        vertical-align: middle;\n",
       "    }\n",
       "\n",
       "    .dataframe tbody tr th {\n",
       "        vertical-align: top;\n",
       "    }\n",
       "\n",
       "    .dataframe thead th {\n",
       "        text-align: right;\n",
       "    }\n",
       "</style>\n",
       "<table border=\"1\" class=\"dataframe\">\n",
       "  <thead>\n",
       "    <tr style=\"text-align: right;\">\n",
       "      <th></th>\n",
       "      <th>Qualification</th>\n",
       "      <th>Experience</th>\n",
       "      <th>Place</th>\n",
       "      <th>Profile</th>\n",
       "      <th>Fees</th>\n",
       "    </tr>\n",
       "  </thead>\n",
       "  <tbody>\n",
       "    <tr>\n",
       "      <th>Qualification</th>\n",
       "      <td>1.000000</td>\n",
       "      <td>0.003325</td>\n",
       "      <td>0.006321</td>\n",
       "      <td>0.393123</td>\n",
       "      <td>0.263214</td>\n",
       "    </tr>\n",
       "    <tr>\n",
       "      <th>Experience</th>\n",
       "      <td>0.003325</td>\n",
       "      <td>1.000000</td>\n",
       "      <td>-0.009908</td>\n",
       "      <td>-0.032711</td>\n",
       "      <td>-0.048529</td>\n",
       "    </tr>\n",
       "    <tr>\n",
       "      <th>Place</th>\n",
       "      <td>0.006321</td>\n",
       "      <td>-0.009908</td>\n",
       "      <td>1.000000</td>\n",
       "      <td>0.016631</td>\n",
       "      <td>-0.063510</td>\n",
       "    </tr>\n",
       "    <tr>\n",
       "      <th>Profile</th>\n",
       "      <td>0.393123</td>\n",
       "      <td>-0.032711</td>\n",
       "      <td>0.016631</td>\n",
       "      <td>1.000000</td>\n",
       "      <td>0.145226</td>\n",
       "    </tr>\n",
       "    <tr>\n",
       "      <th>Fees</th>\n",
       "      <td>0.263214</td>\n",
       "      <td>-0.048529</td>\n",
       "      <td>-0.063510</td>\n",
       "      <td>0.145226</td>\n",
       "      <td>1.000000</td>\n",
       "    </tr>\n",
       "  </tbody>\n",
       "</table>\n",
       "</div>"
      ],
      "text/plain": [
       "               Qualification  Experience     Place   Profile      Fees\n",
       "Qualification       1.000000    0.003325  0.006321  0.393123  0.263214\n",
       "Experience          0.003325    1.000000 -0.009908 -0.032711 -0.048529\n",
       "Place               0.006321   -0.009908  1.000000  0.016631 -0.063510\n",
       "Profile             0.393123   -0.032711  0.016631  1.000000  0.145226\n",
       "Fees                0.263214   -0.048529 -0.063510  0.145226  1.000000"
      ]
     },
     "execution_count": 21,
     "metadata": {},
     "output_type": "execute_result"
    }
   ],
   "source": [
    "cor=df.corr()\n",
    "cor"
   ]
  },
  {
   "cell_type": "code",
   "execution_count": 22,
   "id": "1ce8025a",
   "metadata": {},
   "outputs": [
    {
     "data": {
      "text/plain": [
       "(array([0.5, 1.5, 2.5, 3.5, 4.5]),\n",
       " [Text(0, 0.5, 'Qualification'),\n",
       "  Text(0, 1.5, 'Experience'),\n",
       "  Text(0, 2.5, 'Place'),\n",
       "  Text(0, 3.5, 'Profile'),\n",
       "  Text(0, 4.5, 'Fees')])"
      ]
     },
     "execution_count": 22,
     "metadata": {},
     "output_type": "execute_result"
    },
    {
     "data": {
      "image/png": "[encoded data removed]",
      "text/plain": [
       "<Figure size 720x720 with 2 Axes>"
      ]
     },
     "metadata": {
      "needs_background": "light"
     },
     "output_type": "display_data"
    }
   ],
   "source": [
    "plt.figure(figsize=(10,10))\n",
    "sns.heatmap(df.corr(),linewidths=.1,cmap=\"vlag\", annot=True, annot_kws={\"size\": 10})\n",
    "plt.yticks(rotation=0)"
   ]
  },
  {
   "cell_type": "markdown",
   "id": "5a4a997f",
   "metadata": {},
   "source": [
    "Fess is negatively correlated with Experience and Place.\n",
    "\n",
    "columns are not showing much correlations with each other."
   ]
  },
  {
   "cell_type": "code",
   "execution_count": null,
   "id": "14dcb9f6",
   "metadata": {},
   "outputs": [],
   "source": []
  },
  {
   "cell_type": "code",
   "execution_count": null,
   "id": "50949406",
   "metadata": {},
   "outputs": [],
   "source": []
  },
  {
   "cell_type": "code",
   "execution_count": null,
   "id": "b50435fc",
   "metadata": {},
   "outputs": [],
   "source": []
  },
  {
   "cell_type": "markdown",
   "id": "d8a34ea2",
   "metadata": {},
   "source": [
    "# LOADING THE DATA SETS(test_data)"
   ]
  },
  {
   "cell_type": "code",
   "execution_count": 23,
   "id": "cd4be45d",
   "metadata": {},
   "outputs": [
    {
     "data": {
      "text/html": [
       "<div>\n",
       "<style scoped>\n",
       "    .dataframe tbody tr th:only-of-type {\n",
       "        vertical-align: middle;\n",
       "    }\n",
       "\n",
       "    .dataframe tbody tr th {\n",
       "        vertical-align: top;\n",
       "    }\n",
       "\n",
       "    .dataframe thead th {\n",
       "        text-align: right;\n",
       "    }\n",
       "</style>\n",
       "<table border=\"1\" class=\"dataframe\">\n",
       "  <thead>\n",
       "    <tr style=\"text-align: right;\">\n",
       "      <th></th>\n",
       "      <th>Qualification</th>\n",
       "      <th>Experience</th>\n",
       "      <th>Rating</th>\n",
       "      <th>Place</th>\n",
       "      <th>Profile</th>\n",
       "      <th>Miscellaneous_Info</th>\n",
       "    </tr>\n",
       "  </thead>\n",
       "  <tbody>\n",
       "    <tr>\n",
       "      <th>0</th>\n",
       "      <td>MBBS</td>\n",
       "      <td>35 years experience</td>\n",
       "      <td>NaN</td>\n",
       "      <td>Ghatkopar East, Mumbai</td>\n",
       "      <td>General Medicine</td>\n",
       "      <td>NaN</td>\n",
       "    </tr>\n",
       "    <tr>\n",
       "      <th>1</th>\n",
       "      <td>MBBS, Diploma in Otorhinolaryngology (DLO)</td>\n",
       "      <td>31 years experience</td>\n",
       "      <td>NaN</td>\n",
       "      <td>West Marredpally, Hyderabad</td>\n",
       "      <td>ENT Specialist</td>\n",
       "      <td>NaN</td>\n",
       "    </tr>\n",
       "    <tr>\n",
       "      <th>2</th>\n",
       "      <td>MBBS, DDVL</td>\n",
       "      <td>40 years experience</td>\n",
       "      <td>70%</td>\n",
       "      <td>KK Nagar, Chennai</td>\n",
       "      <td>Dermatologists</td>\n",
       "      <td>70% 4 Feedback KK Nagar, Chennai</td>\n",
       "    </tr>\n",
       "    <tr>\n",
       "      <th>3</th>\n",
       "      <td>BAMS</td>\n",
       "      <td>0 years experience</td>\n",
       "      <td>NaN</td>\n",
       "      <td>New Ashok Nagar, Delhi</td>\n",
       "      <td>Ayurveda</td>\n",
       "      <td>NaN</td>\n",
       "    </tr>\n",
       "    <tr>\n",
       "      <th>4</th>\n",
       "      <td>BDS, MDS - Conservative Dentistry &amp; Endodontics</td>\n",
       "      <td>16 years experience</td>\n",
       "      <td>100%</td>\n",
       "      <td>Kanakpura Road, Bangalore</td>\n",
       "      <td>Dentist</td>\n",
       "      <td>General Dentistry Conservative Dentistry Cosme...</td>\n",
       "    </tr>\n",
       "    <tr>\n",
       "      <th>...</th>\n",
       "      <td>...</td>\n",
       "      <td>...</td>\n",
       "      <td>...</td>\n",
       "      <td>...</td>\n",
       "      <td>...</td>\n",
       "      <td>...</td>\n",
       "    </tr>\n",
       "    <tr>\n",
       "      <th>1982</th>\n",
       "      <td>BAMS, Doctor of Medicine</td>\n",
       "      <td>10 years experience</td>\n",
       "      <td>NaN</td>\n",
       "      <td>Basavanagudi, Bangalore</td>\n",
       "      <td>Ayurveda</td>\n",
       "      <td>NaN</td>\n",
       "    </tr>\n",
       "    <tr>\n",
       "      <th>1983</th>\n",
       "      <td>MD - Dermatology , Venereology &amp; Leprosy, MBBS</td>\n",
       "      <td>4 years experience</td>\n",
       "      <td>NaN</td>\n",
       "      <td>Choolai, Chennai</td>\n",
       "      <td>Dermatologists</td>\n",
       "      <td>NaN</td>\n",
       "    </tr>\n",
       "    <tr>\n",
       "      <th>1984</th>\n",
       "      <td>MBBS, MD / MS - Obstetrics &amp; Gynaecology</td>\n",
       "      <td>9 years experience</td>\n",
       "      <td>NaN</td>\n",
       "      <td>Porur, Chennai</td>\n",
       "      <td>General Medicine</td>\n",
       "      <td>NaN</td>\n",
       "    </tr>\n",
       "    <tr>\n",
       "      <th>1985</th>\n",
       "      <td>BDS</td>\n",
       "      <td>12 years experience</td>\n",
       "      <td>98%</td>\n",
       "      <td>Arekere, Bangalore</td>\n",
       "      <td>Dentist</td>\n",
       "      <td>RCT - Root Canal Treatment Root Canal Treatmen...</td>\n",
       "    </tr>\n",
       "    <tr>\n",
       "      <th>1986</th>\n",
       "      <td>MBBS, MD - Dermatology , Venereology &amp; Leprosy</td>\n",
       "      <td>8 years experience</td>\n",
       "      <td>NaN</td>\n",
       "      <td>Pallikaranai, Chennai</td>\n",
       "      <td>Dermatologists</td>\n",
       "      <td>1 Feedback Pallikaranai, Chennai ₹500</td>\n",
       "    </tr>\n",
       "  </tbody>\n",
       "</table>\n",
       "<p>1987 rows × 6 columns</p>\n",
       "</div>"
      ],
      "text/plain": [
       "                                        Qualification           Experience  \\\n",
       "0                                                MBBS  35 years experience   \n",
       "1          MBBS, Diploma in Otorhinolaryngology (DLO)  31 years experience   \n",
       "2                                          MBBS, DDVL  40 years experience   \n",
       "3                                                BAMS   0 years experience   \n",
       "4     BDS, MDS - Conservative Dentistry & Endodontics  16 years experience   \n",
       "...                                               ...                  ...   \n",
       "1982                         BAMS, Doctor of Medicine  10 years experience   \n",
       "1983   MD - Dermatology , Venereology & Leprosy, MBBS   4 years experience   \n",
       "1984         MBBS, MD / MS - Obstetrics & Gynaecology   9 years experience   \n",
       "1985                                              BDS  12 years experience   \n",
       "1986   MBBS, MD - Dermatology , Venereology & Leprosy   8 years experience   \n",
       "\n",
       "     Rating                        Place           Profile  \\\n",
       "0       NaN       Ghatkopar East, Mumbai  General Medicine   \n",
       "1       NaN  West Marredpally, Hyderabad    ENT Specialist   \n",
       "2       70%            KK Nagar, Chennai    Dermatologists   \n",
       "3       NaN       New Ashok Nagar, Delhi          Ayurveda   \n",
       "4      100%    Kanakpura Road, Bangalore           Dentist   \n",
       "...     ...                          ...               ...   \n",
       "1982    NaN      Basavanagudi, Bangalore          Ayurveda   \n",
       "1983    NaN             Choolai, Chennai    Dermatologists   \n",
       "1984    NaN               Porur, Chennai  General Medicine   \n",
       "1985    98%           Arekere, Bangalore           Dentist   \n",
       "1986    NaN        Pallikaranai, Chennai    Dermatologists   \n",
       "\n",
       "                                     Miscellaneous_Info  \n",
       "0                                                   NaN  \n",
       "1                                                   NaN  \n",
       "2                      70% 4 Feedback KK Nagar, Chennai  \n",
       "3                                                   NaN  \n",
       "4     General Dentistry Conservative Dentistry Cosme...  \n",
       "...                                                 ...  \n",
       "1982                                                NaN  \n",
       "1983                                                NaN  \n",
       "1984                                                NaN  \n",
       "1985  RCT - Root Canal Treatment Root Canal Treatmen...  \n",
       "1986              1 Feedback Pallikaranai, Chennai ₹500  \n",
       "\n",
       "[1987 rows x 6 columns]"
      ]
     },
     "execution_count": 23,
     "metadata": {},
     "output_type": "execute_result"
    }
   ],
   "source": [
    "df_test=pd.read_excel('Final_Test.xlsx')\n",
    "df_test"
   ]
  },
  {
   "cell_type": "markdown",
   "id": "a8649748",
   "metadata": {},
   "source": [
    "There is 1987 rows and 6 columns in the dataset and Fees column is missing here."
   ]
  },
  {
   "cell_type": "markdown",
   "id": "4d674e9a",
   "metadata": {},
   "source": [
    "# CHECKING NULL VALUES IN THE DATASET"
   ]
  },
  {
   "cell_type": "code",
   "execution_count": 24,
   "id": "63214925",
   "metadata": {},
   "outputs": [
    {
     "data": {
      "text/plain": [
       "Qualification            0\n",
       "Experience               0\n",
       "Rating                1090\n",
       "Place                    6\n",
       "Profile                  0\n",
       "Miscellaneous_Info     834\n",
       "dtype: int64"
      ]
     },
     "execution_count": 24,
     "metadata": {},
     "output_type": "execute_result"
    }
   ],
   "source": [
    "df_test.isnull().sum()"
   ]
  },
  {
   "cell_type": "markdown",
   "id": "bc36edcc",
   "metadata": {},
   "source": [
    "In Rating column there is 1090 missing values and in Miscellaneous_Info  column there is 834 missing values that is too much , so dropping of both the columns is necessary."
   ]
  },
  {
   "cell_type": "markdown",
   "id": "ad716370",
   "metadata": {},
   "source": [
    "# DROPPING UNNECESSARY COLUMNS"
   ]
  },
  {
   "cell_type": "code",
   "execution_count": 36,
   "id": "46dfd952",
   "metadata": {},
   "outputs": [],
   "source": [
    "del df_test['Rating']"
   ]
  },
  {
   "cell_type": "code",
   "execution_count": null,
   "id": "aad4d235",
   "metadata": {},
   "outputs": [],
   "source": [
    "del df_test['Miscellaneous_Info']"
   ]
  },
  {
   "cell_type": "code",
   "execution_count": 38,
   "id": "748c6fd2",
   "metadata": {},
   "outputs": [
    {
     "data": {
      "text/html": [
       "<div>\n",
       "<style scoped>\n",
       "    .dataframe tbody tr th:only-of-type {\n",
       "        vertical-align: middle;\n",
       "    }\n",
       "\n",
       "    .dataframe tbody tr th {\n",
       "        vertical-align: top;\n",
       "    }\n",
       "\n",
       "    .dataframe thead th {\n",
       "        text-align: right;\n",
       "    }\n",
       "</style>\n",
       "<table border=\"1\" class=\"dataframe\">\n",
       "  <thead>\n",
       "    <tr style=\"text-align: right;\">\n",
       "      <th></th>\n",
       "      <th>Qualification</th>\n",
       "      <th>Experience</th>\n",
       "      <th>Place</th>\n",
       "      <th>Profile</th>\n",
       "    </tr>\n",
       "  </thead>\n",
       "  <tbody>\n",
       "    <tr>\n",
       "      <th>0</th>\n",
       "      <td>241</td>\n",
       "      <td>28</td>\n",
       "      <td>142</td>\n",
       "      <td>4</td>\n",
       "    </tr>\n",
       "    <tr>\n",
       "      <th>1</th>\n",
       "      <td>340</td>\n",
       "      <td>24</td>\n",
       "      <td>580</td>\n",
       "      <td>3</td>\n",
       "    </tr>\n",
       "    <tr>\n",
       "      <th>2</th>\n",
       "      <td>258</td>\n",
       "      <td>34</td>\n",
       "      <td>212</td>\n",
       "      <td>2</td>\n",
       "    </tr>\n",
       "    <tr>\n",
       "      <th>3</th>\n",
       "      <td>6</td>\n",
       "      <td>0</td>\n",
       "      <td>374</td>\n",
       "      <td>0</td>\n",
       "    </tr>\n",
       "    <tr>\n",
       "      <th>4</th>\n",
       "      <td>79</td>\n",
       "      <td>7</td>\n",
       "      <td>231</td>\n",
       "      <td>1</td>\n",
       "    </tr>\n",
       "    <tr>\n",
       "      <th>...</th>\n",
       "      <td>...</td>\n",
       "      <td>...</td>\n",
       "      <td>...</td>\n",
       "      <td>...</td>\n",
       "    </tr>\n",
       "    <tr>\n",
       "      <th>1982</th>\n",
       "      <td>17</td>\n",
       "      <td>1</td>\n",
       "      <td>58</td>\n",
       "      <td>0</td>\n",
       "    </tr>\n",
       "    <tr>\n",
       "      <th>1983</th>\n",
       "      <td>548</td>\n",
       "      <td>33</td>\n",
       "      <td>96</td>\n",
       "      <td>2</td>\n",
       "    </tr>\n",
       "    <tr>\n",
       "      <th>1984</th>\n",
       "      <td>474</td>\n",
       "      <td>56</td>\n",
       "      <td>424</td>\n",
       "      <td>4</td>\n",
       "    </tr>\n",
       "    <tr>\n",
       "      <th>1985</th>\n",
       "      <td>51</td>\n",
       "      <td>3</td>\n",
       "      <td>26</td>\n",
       "      <td>1</td>\n",
       "    </tr>\n",
       "    <tr>\n",
       "      <th>1986</th>\n",
       "      <td>384</td>\n",
       "      <td>55</td>\n",
       "      <td>394</td>\n",
       "      <td>2</td>\n",
       "    </tr>\n",
       "  </tbody>\n",
       "</table>\n",
       "<p>1987 rows × 4 columns</p>\n",
       "</div>"
      ],
      "text/plain": [
       "      Qualification  Experience  Place  Profile\n",
       "0               241          28    142        4\n",
       "1               340          24    580        3\n",
       "2               258          34    212        2\n",
       "3                 6           0    374        0\n",
       "4                79           7    231        1\n",
       "...             ...         ...    ...      ...\n",
       "1982             17           1     58        0\n",
       "1983            548          33     96        2\n",
       "1984            474          56    424        4\n",
       "1985             51           3     26        1\n",
       "1986            384          55    394        2\n",
       "\n",
       "[1987 rows x 4 columns]"
      ]
     },
     "execution_count": 38,
     "metadata": {},
     "output_type": "execute_result"
    }
   ],
   "source": [
    "df_test"
   ]
  },
  {
   "cell_type": "markdown",
   "id": "15c60285",
   "metadata": {},
   "source": [
    "Now we can see both the columns has been dropped."
   ]
  },
  {
   "cell_type": "markdown",
   "id": "42975470",
   "metadata": {},
   "source": [
    " # CHECKING DATATYPES OF THE COLUMNS"
   ]
  },
  {
   "cell_type": "code",
   "execution_count": 39,
   "id": "09ba89f6",
   "metadata": {},
   "outputs": [
    {
     "name": "stdout",
     "output_type": "stream",
     "text": [
      "<class 'pandas.core.frame.DataFrame'>\n",
      "RangeIndex: 1987 entries, 0 to 1986\n",
      "Data columns (total 4 columns):\n",
      " #   Column         Non-Null Count  Dtype\n",
      "---  ------         --------------  -----\n",
      " 0   Qualification  1987 non-null   int32\n",
      " 1   Experience     1987 non-null   int32\n",
      " 2   Place          1987 non-null   int32\n",
      " 3   Profile        1987 non-null   int32\n",
      "dtypes: int32(4)\n",
      "memory usage: 31.2 KB\n"
     ]
    }
   ],
   "source": [
    "df_test.info()"
   ]
  },
  {
   "cell_type": "markdown",
   "id": "771dcdff",
   "metadata": {},
   "source": [
    "We have only 4 object data type columns."
   ]
  },
  {
   "cell_type": "markdown",
   "id": "9e07062c",
   "metadata": {},
   "source": [
    " # VISUALIZATION OF CATEGORICAL DATA BY COUNT PLOT"
   ]
  },
  {
   "cell_type": "code",
   "execution_count": 40,
   "id": "15e3f4cd",
   "metadata": {},
   "outputs": [
    {
     "name": "stdout",
     "output_type": "stream",
     "text": [
      "6      153\n",
      "128    150\n",
      "51     144\n",
      "241    107\n",
      "383     64\n",
      "      ... \n",
      "223      1\n",
      "222      1\n",
      "221      1\n",
      "220      1\n",
      "629      1\n",
      "Name: Qualification, Length: 630, dtype: int64\n"
     ]
    }
   ],
   "source": [
    "print(df_test['Qualification'].value_counts())"
   ]
  },
  {
   "cell_type": "markdown",
   "id": "2106934f",
   "metadata": {},
   "source": [
    "153 doctors are BAMS, 150 doctors are BHMS, 144 doctors are BDS and 107 doctors are MBBS and showing not much difference and BAMS is maximum. "
   ]
  },
  {
   "cell_type": "code",
   "execution_count": null,
   "id": "89115f0a",
   "metadata": {},
   "outputs": [],
   "source": []
  },
  {
   "cell_type": "code",
   "execution_count": null,
   "id": "1ef69359",
   "metadata": {},
   "outputs": [],
   "source": []
  },
  {
   "cell_type": "code",
   "execution_count": 41,
   "id": "9166e39d",
   "metadata": {},
   "outputs": [
    {
     "name": "stdout",
     "output_type": "stream",
     "text": [
      "1     110\n",
      "55     98\n",
      "56     96\n",
      "10     92\n",
      "54     89\n",
      "2      86\n",
      "4      83\n",
      "5      81\n",
      "3      79\n",
      "8      72\n",
      "9      70\n",
      "52     62\n",
      "6      57\n",
      "7      51\n",
      "44     50\n",
      "15     49\n",
      "12     48\n",
      "13     48\n",
      "21     46\n",
      "33     44\n",
      "14     37\n",
      "16     34\n",
      "17     33\n",
      "22     33\n",
      "18     32\n",
      "0      31\n",
      "20     29\n",
      "27     27\n",
      "29     27\n",
      "19     27\n",
      "24     26\n",
      "31     23\n",
      "23     18\n",
      "25     16\n",
      "38     16\n",
      "34     15\n",
      "30     14\n",
      "28     13\n",
      "32     13\n",
      "35     12\n",
      "11     11\n",
      "26     11\n",
      "40     11\n",
      "37     10\n",
      "36     10\n",
      "41      9\n",
      "43      8\n",
      "39      7\n",
      "42      6\n",
      "51      4\n",
      "45      3\n",
      "46      3\n",
      "47      2\n",
      "49      2\n",
      "48      1\n",
      "50      1\n",
      "53      1\n",
      "Name: Experience, dtype: int64\n"
     ]
    }
   ],
   "source": [
    "print(df_test['Experience'].value_counts())"
   ]
  },
  {
   "cell_type": "markdown",
   "id": "103ccc09",
   "metadata": {},
   "source": [
    "Doctors with 10 years experience is maximum and the value counts of these doctors is 110."
   ]
  },
  {
   "cell_type": "code",
   "execution_count": null,
   "id": "951b9352",
   "metadata": {},
   "outputs": [],
   "source": []
  },
  {
   "cell_type": "code",
   "execution_count": null,
   "id": "e818af33",
   "metadata": {},
   "outputs": [],
   "source": []
  },
  {
   "cell_type": "code",
   "execution_count": 42,
   "id": "ecb4aec5",
   "metadata": {},
   "outputs": [
    {
     "name": "stdout",
     "output_type": "stream",
     "text": [
      "20     27\n",
      "345    27\n",
      "124    26\n",
      "582    23\n",
      "163    22\n",
      "       ..\n",
      "313     1\n",
      "312     1\n",
      "311     1\n",
      "44      1\n",
      "296     1\n",
      "Name: Place, Length: 593, dtype: int64\n"
     ]
    }
   ],
   "source": [
    "print(df_test['Place'].value_counts())"
   ]
  },
  {
   "cell_type": "markdown",
   "id": "1e492bb2",
   "metadata": {},
   "source": [
    "27 Doctors are from Mulund West Mumbai and Andheri West Mumbai.\n",
    "26 doctors are from Dwarka Delhi , 23 Doctors are from Whitefield Bangalore and 23 doctors are from HSR Layout Bangalore.\n",
    "\n",
    "Doctors from Mumbai is Maximum."
   ]
  },
  {
   "cell_type": "code",
   "execution_count": null,
   "id": "af4cd3ba",
   "metadata": {},
   "outputs": [],
   "source": []
  },
  {
   "cell_type": "code",
   "execution_count": 43,
   "id": "74e44ed2",
   "metadata": {},
   "outputs": [
    {
     "name": "stdout",
     "output_type": "stream",
     "text": [
      "4    444\n",
      "1    441\n",
      "2    339\n",
      "5    277\n",
      "0    251\n",
      "3    235\n",
      "Name: Profile, dtype: int64\n"
     ]
    },
    {
     "data": {
      "image/png": "[encoded data removed]",
      "text/plain": [
       "<Figure size 432x288 with 1 Axes>"
      ]
     },
     "metadata": {
      "needs_background": "light"
     },
     "output_type": "display_data"
    }
   ],
   "source": [
    "ax=sns.countplot(x='Profile',data=df_test)\n",
    "print(df_test['Profile'].value_counts())\n",
    "ax.set_xticklabels(ax.get_xticklabels(),rotation=40, ha='right')\n",
    "plt.tight_layout()"
   ]
  },
  {
   "cell_type": "markdown",
   "id": "d9fcfd99",
   "metadata": {},
   "source": [
    "444 profiles are General Medicine, 441 Profiles are Dentist, 339 profiles are Dermatologists.\n",
    "General Medicine is maximum and there is not much difference between other profiles."
   ]
  },
  {
   "cell_type": "markdown",
   "id": "0acdd71a",
   "metadata": {},
   "source": [
    "# CONVERTING STRING COLUMNS TO NUMERIC COLUMNS"
   ]
  },
  {
   "cell_type": "code",
   "execution_count": 44,
   "id": "c32af14d",
   "metadata": {},
   "outputs": [],
   "source": [
    "from sklearn.preprocessing import LabelEncoder\n",
    "le=LabelEncoder()"
   ]
  },
  {
   "cell_type": "code",
   "execution_count": 45,
   "id": "e00b3fe8",
   "metadata": {},
   "outputs": [],
   "source": [
    "for i in df_test.columns:\n",
    "    if df_test[i].dtypes=='object':\n",
    "        df_test[i]=le.fit_transform(df_test[i])"
   ]
  },
  {
   "cell_type": "code",
   "execution_count": 46,
   "id": "21a37459",
   "metadata": {},
   "outputs": [
    {
     "data": {
      "text/html": [
       "<div>\n",
       "<style scoped>\n",
       "    .dataframe tbody tr th:only-of-type {\n",
       "        vertical-align: middle;\n",
       "    }\n",
       "\n",
       "    .dataframe tbody tr th {\n",
       "        vertical-align: top;\n",
       "    }\n",
       "\n",
       "    .dataframe thead th {\n",
       "        text-align: right;\n",
       "    }\n",
       "</style>\n",
       "<table border=\"1\" class=\"dataframe\">\n",
       "  <thead>\n",
       "    <tr style=\"text-align: right;\">\n",
       "      <th></th>\n",
       "      <th>Qualification</th>\n",
       "      <th>Experience</th>\n",
       "      <th>Place</th>\n",
       "      <th>Profile</th>\n",
       "    </tr>\n",
       "  </thead>\n",
       "  <tbody>\n",
       "    <tr>\n",
       "      <th>0</th>\n",
       "      <td>241</td>\n",
       "      <td>28</td>\n",
       "      <td>142</td>\n",
       "      <td>4</td>\n",
       "    </tr>\n",
       "    <tr>\n",
       "      <th>1</th>\n",
       "      <td>340</td>\n",
       "      <td>24</td>\n",
       "      <td>580</td>\n",
       "      <td>3</td>\n",
       "    </tr>\n",
       "    <tr>\n",
       "      <th>2</th>\n",
       "      <td>258</td>\n",
       "      <td>34</td>\n",
       "      <td>212</td>\n",
       "      <td>2</td>\n",
       "    </tr>\n",
       "    <tr>\n",
       "      <th>3</th>\n",
       "      <td>6</td>\n",
       "      <td>0</td>\n",
       "      <td>374</td>\n",
       "      <td>0</td>\n",
       "    </tr>\n",
       "    <tr>\n",
       "      <th>4</th>\n",
       "      <td>79</td>\n",
       "      <td>7</td>\n",
       "      <td>231</td>\n",
       "      <td>1</td>\n",
       "    </tr>\n",
       "    <tr>\n",
       "      <th>...</th>\n",
       "      <td>...</td>\n",
       "      <td>...</td>\n",
       "      <td>...</td>\n",
       "      <td>...</td>\n",
       "    </tr>\n",
       "    <tr>\n",
       "      <th>1982</th>\n",
       "      <td>17</td>\n",
       "      <td>1</td>\n",
       "      <td>58</td>\n",
       "      <td>0</td>\n",
       "    </tr>\n",
       "    <tr>\n",
       "      <th>1983</th>\n",
       "      <td>548</td>\n",
       "      <td>33</td>\n",
       "      <td>96</td>\n",
       "      <td>2</td>\n",
       "    </tr>\n",
       "    <tr>\n",
       "      <th>1984</th>\n",
       "      <td>474</td>\n",
       "      <td>56</td>\n",
       "      <td>424</td>\n",
       "      <td>4</td>\n",
       "    </tr>\n",
       "    <tr>\n",
       "      <th>1985</th>\n",
       "      <td>51</td>\n",
       "      <td>3</td>\n",
       "      <td>26</td>\n",
       "      <td>1</td>\n",
       "    </tr>\n",
       "    <tr>\n",
       "      <th>1986</th>\n",
       "      <td>384</td>\n",
       "      <td>55</td>\n",
       "      <td>394</td>\n",
       "      <td>2</td>\n",
       "    </tr>\n",
       "  </tbody>\n",
       "</table>\n",
       "<p>1987 rows × 4 columns</p>\n",
       "</div>"
      ],
      "text/plain": [
       "      Qualification  Experience  Place  Profile\n",
       "0               241          28    142        4\n",
       "1               340          24    580        3\n",
       "2               258          34    212        2\n",
       "3                 6           0    374        0\n",
       "4                79           7    231        1\n",
       "...             ...         ...    ...      ...\n",
       "1982             17           1     58        0\n",
       "1983            548          33     96        2\n",
       "1984            474          56    424        4\n",
       "1985             51           3     26        1\n",
       "1986            384          55    394        2\n",
       "\n",
       "[1987 rows x 4 columns]"
      ]
     },
     "execution_count": 46,
     "metadata": {},
     "output_type": "execute_result"
    }
   ],
   "source": [
    "df_test"
   ]
  },
  {
   "cell_type": "markdown",
   "id": "5cb486c9",
   "metadata": {},
   "source": [
    "Now object data type columns has been converted into numeric columns."
   ]
  },
  {
   "cell_type": "markdown",
   "id": "243fa3c7",
   "metadata": {},
   "source": [
    "# CHECKING OUTLIERS"
   ]
  },
  {
   "cell_type": "code",
   "execution_count": 47,
   "id": "a563289d",
   "metadata": {},
   "outputs": [
    {
     "data": {
      "text/plain": [
       "Qualification       AxesSubplot(0.125,0.71587;0.0945122x0.16413)\n",
       "Experience       AxesSubplot(0.238415,0.71587;0.0945122x0.16413)\n",
       "Place            AxesSubplot(0.351829,0.71587;0.0945122x0.16413)\n",
       "Profile          AxesSubplot(0.465244,0.71587;0.0945122x0.16413)\n",
       "dtype: object"
      ]
     },
     "execution_count": 47,
     "metadata": {},
     "output_type": "execute_result"
    },
    {
     "data": {
      "image/png": "[encoded data removed]",
      "text/plain": [
       "<Figure size 1080x720 with 28 Axes>"
      ]
     },
     "metadata": {
      "needs_background": "light"
     },
     "output_type": "display_data"
    }
   ],
   "source": [
    "df_test.plot(kind='box', subplots=True ,layout=(4,7),figsize=(15,10))"
   ]
  },
  {
   "cell_type": "markdown",
   "id": "e2f3fedf",
   "metadata": {},
   "source": [
    "Outliers are not present in any of the column."
   ]
  },
  {
   "cell_type": "markdown",
   "id": "b13df830",
   "metadata": {},
   "source": [
    "# CHECKING SKEWNESS"
   ]
  },
  {
   "cell_type": "code",
   "execution_count": 48,
   "id": "523a25fc",
   "metadata": {},
   "outputs": [
    {
     "data": {
      "text/plain": [
       "Qualification    0.280822\n",
       "Experience       0.687595\n",
       "Place            0.043620\n",
       "Profile          0.028926\n",
       "dtype: float64"
      ]
     },
     "execution_count": 48,
     "metadata": {},
     "output_type": "execute_result"
    }
   ],
   "source": [
    "df_test.skew()"
   ]
  },
  {
   "cell_type": "markdown",
   "id": "dd9267aa",
   "metadata": {},
   "source": [
    "Skewness is present in Experience column , but is is object column so Skewness cannot be treated."
   ]
  },
  {
   "cell_type": "markdown",
   "id": "51e034ab",
   "metadata": {},
   "source": [
    "# CORRELATION MATRIX"
   ]
  },
  {
   "cell_type": "code",
   "execution_count": 49,
   "id": "d4a8f5ed",
   "metadata": {},
   "outputs": [
    {
     "data": {
      "text/html": [
       "<div>\n",
       "<style scoped>\n",
       "    .dataframe tbody tr th:only-of-type {\n",
       "        vertical-align: middle;\n",
       "    }\n",
       "\n",
       "    .dataframe tbody tr th {\n",
       "        vertical-align: top;\n",
       "    }\n",
       "\n",
       "    .dataframe thead th {\n",
       "        text-align: right;\n",
       "    }\n",
       "</style>\n",
       "<table border=\"1\" class=\"dataframe\">\n",
       "  <thead>\n",
       "    <tr style=\"text-align: right;\">\n",
       "      <th></th>\n",
       "      <th>Qualification</th>\n",
       "      <th>Experience</th>\n",
       "      <th>Place</th>\n",
       "      <th>Profile</th>\n",
       "    </tr>\n",
       "  </thead>\n",
       "  <tbody>\n",
       "    <tr>\n",
       "      <th>Qualification</th>\n",
       "      <td>1.000000</td>\n",
       "      <td>0.018786</td>\n",
       "      <td>0.020851</td>\n",
       "      <td>0.372002</td>\n",
       "    </tr>\n",
       "    <tr>\n",
       "      <th>Experience</th>\n",
       "      <td>0.018786</td>\n",
       "      <td>1.000000</td>\n",
       "      <td>-0.008140</td>\n",
       "      <td>0.017496</td>\n",
       "    </tr>\n",
       "    <tr>\n",
       "      <th>Place</th>\n",
       "      <td>0.020851</td>\n",
       "      <td>-0.008140</td>\n",
       "      <td>1.000000</td>\n",
       "      <td>-0.005826</td>\n",
       "    </tr>\n",
       "    <tr>\n",
       "      <th>Profile</th>\n",
       "      <td>0.372002</td>\n",
       "      <td>0.017496</td>\n",
       "      <td>-0.005826</td>\n",
       "      <td>1.000000</td>\n",
       "    </tr>\n",
       "  </tbody>\n",
       "</table>\n",
       "</div>"
      ],
      "text/plain": [
       "               Qualification  Experience     Place   Profile\n",
       "Qualification       1.000000    0.018786  0.020851  0.372002\n",
       "Experience          0.018786    1.000000 -0.008140  0.017496\n",
       "Place               0.020851   -0.008140  1.000000 -0.005826\n",
       "Profile             0.372002    0.017496 -0.005826  1.000000"
      ]
     },
     "execution_count": 49,
     "metadata": {},
     "output_type": "execute_result"
    }
   ],
   "source": [
    "df_test.corr()"
   ]
  },
  {
   "cell_type": "code",
   "execution_count": 50,
   "id": "3723643c",
   "metadata": {},
   "outputs": [
    {
     "data": {
      "text/plain": [
       "(array([0.5, 1.5, 2.5, 3.5, 4.5]),\n",
       " [Text(0, 0.5, 'Qualification'),\n",
       "  Text(0, 1.5, 'Experience'),\n",
       "  Text(0, 2.5, 'Place'),\n",
       "  Text(0, 3.5, 'Profile'),\n",
       "  Text(0, 4.5, 'Fees')])"
      ]
     },
     "execution_count": 50,
     "metadata": {},
     "output_type": "execute_result"
    },
    {
     "data": {
      "image/png": "[encoded data removed]",
      "text/plain": [
       "<Figure size 720x720 with 2 Axes>"
      ]
     },
     "metadata": {
      "needs_background": "light"
     },
     "output_type": "display_data"
    }
   ],
   "source": [
    "plt.figure(figsize=(10,10))\n",
    "sns.heatmap(df.corr(),linewidths=.1,cmap=\"vlag\", annot=True, annot_kws={\"size\": 10})\n",
    "plt.yticks(rotation=0)"
   ]
  },
  {
   "cell_type": "markdown",
   "id": "fb5ef98a",
   "metadata": {},
   "source": [
    "Little bit positive correlations between fees and Qualification"
   ]
  },
  {
   "cell_type": "code",
   "execution_count": null,
   "id": "40e9abf8",
   "metadata": {},
   "outputs": [],
   "source": []
  },
  {
   "cell_type": "code",
   "execution_count": null,
   "id": "46347786",
   "metadata": {},
   "outputs": [],
   "source": []
  },
  {
   "cell_type": "markdown",
   "id": "63d04aad",
   "metadata": {},
   "source": [
    "# SPLITTING THE DATASETS(train_data)"
   ]
  },
  {
   "cell_type": "code",
   "execution_count": 51,
   "id": "b36a35ba",
   "metadata": {},
   "outputs": [],
   "source": [
    "x=df.drop('Fees',axis=1)\n",
    "y=df['Fees']"
   ]
  },
  {
   "cell_type": "code",
   "execution_count": 52,
   "id": "17960a44",
   "metadata": {},
   "outputs": [
    {
     "data": {
      "text/plain": [
       "(5961, 4)"
      ]
     },
     "execution_count": 52,
     "metadata": {},
     "output_type": "execute_result"
    }
   ],
   "source": [
    "x.shape"
   ]
  },
  {
   "cell_type": "code",
   "execution_count": 53,
   "id": "167fced8",
   "metadata": {},
   "outputs": [
    {
     "data": {
      "text/plain": [
       "(5961,)"
      ]
     },
     "execution_count": 53,
     "metadata": {},
     "output_type": "execute_result"
    }
   ],
   "source": [
    "y.shape"
   ]
  },
  {
   "cell_type": "code",
   "execution_count": null,
   "id": "1c6dbeda",
   "metadata": {},
   "outputs": [],
   "source": []
  },
  {
   "cell_type": "markdown",
   "id": "e901c51b",
   "metadata": {},
   "source": [
    "# TRAIN TEST SPLIT"
   ]
  },
  {
   "cell_type": "code",
   "execution_count": 78,
   "id": "408b32d1",
   "metadata": {},
   "outputs": [
    {
     "name": "stdout",
     "output_type": "stream",
     "text": [
      "(4470, 5)\n",
      "(1491, 5)\n",
      "(4470,)\n",
      "(1491,)\n"
     ]
    }
   ],
   "source": [
    "from sklearn.model_selection import train_test_split\n",
    "x_train, x_test, y_train, y_test= train_test_split(x,y,test_size=.25, random_state=48)\n",
    "print(x_train.shape)\n",
    "print(x_test.shape)\n",
    "print(y_train.shape)\n",
    "print(y_test.shape)"
   ]
  },
  {
   "cell_type": "markdown",
   "id": "c747ce12",
   "metadata": {},
   "source": [
    "# Lets bring all features to a common scale"
   ]
  },
  {
   "cell_type": "code",
   "execution_count": 79,
   "id": "a802de9b",
   "metadata": {},
   "outputs": [],
   "source": [
    "from sklearn.preprocessing import StandardScaler\n",
    "sc=StandardScaler()\n",
    "\n",
    "x=sc.fit_transform(df)\n",
    "\n",
    "x=pd.DataFrame(x,columns=df.columns)"
   ]
  },
  {
   "cell_type": "markdown",
   "id": "38b2b8a3",
   "metadata": {},
   "source": [
    " # MODEL BUILDING"
   ]
  },
  {
   "cell_type": "code",
   "execution_count": 80,
   "id": "d363ff1d",
   "metadata": {},
   "outputs": [],
   "source": [
    "# importing libraries\n",
    "from sklearn.linear_model import LinearRegression ,Lasso ,Ridge ,ElasticNet\n",
    "from sklearn.metrics import r2_score\n",
    "from sklearn.metrics import mean_squared_error, mean_absolute_error\n",
    "from sklearn.model_selection import cross_val_score"
   ]
  },
  {
   "cell_type": "code",
   "execution_count": 81,
   "id": "0d15f807",
   "metadata": {},
   "outputs": [
    {
     "name": "stdout",
     "output_type": "stream",
     "text": [
      "r2 score 1.0\n",
      "error\n",
      "mean absolute error 6.637450854236536e-14\n",
      "mean squared error 7.985833116558483e-27\n",
      "root mean squared error 8.936348872195222e-14\n"
     ]
    }
   ],
   "source": [
    "\n",
    "\n",
    "\n",
    "#for Linear Regression\n",
    "\n",
    "lr=LinearRegression()\n",
    "lr.fit(x_train,y_train)\n",
    "pred_y=lr.predict(x_test)\n",
    "print('r2 score',r2_score(y_test,pred_y))\n",
    "\n",
    "print('error')\n",
    "print('mean absolute error', mean_absolute_error(y_test,pred_y))\n",
    "print('mean squared error', mean_squared_error(y_test,pred_y))\n",
    "\n",
    "print('root mean squared error', np.sqrt(mean_squared_error(y_test,pred_y)))"
   ]
  },
  {
   "cell_type": "code",
   "execution_count": 82,
   "id": "28a40686",
   "metadata": {},
   "outputs": [
    {
     "name": "stdout",
     "output_type": "stream",
     "text": [
      "cross validation score 1.0\n"
     ]
    }
   ],
   "source": [
    "# Cross validation Linear Regression\n",
    "scr=cross_val_score(lr,x,y,cv=5)\n",
    "print('cross validation score',scr.mean())"
   ]
  },
  {
   "cell_type": "markdown",
   "id": "2eeedbf4",
   "metadata": {},
   "source": [
    "r2 score is predicting 100% accuracy and cv score is predicting 100% accuracy."
   ]
  },
  {
   "cell_type": "markdown",
   "id": "83bea967",
   "metadata": {},
   "source": [
    "# GRAPHH SHOWING THE PERFORMANCE OF MODEL\n"
   ]
  },
  {
   "cell_type": "code",
   "execution_count": 83,
   "id": "9880b11c",
   "metadata": {},
   "outputs": [
    {
     "data": {
      "image/png": "[encoded data removed]",
      "text/plain": [
       "<Figure size 576x432 with 1 Axes>"
      ]
     },
     "metadata": {
      "needs_background": "light"
     },
     "output_type": "display_data"
    }
   ],
   "source": [
    "# Linear Regression\n",
    "\n",
    "plt.figure(figsize=(8,6))\n",
    "plt.scatter(x=y_test, y=pred_y, color='b')\n",
    "plt.plot(y_test,y_test, color='r')\n",
    "plt.xlabel('actual',fontsize=14)\n",
    "plt.ylabel('predicted',fontsize=18)\n",
    "plt.show()"
   ]
  },
  {
   "cell_type": "markdown",
   "id": "c0326cd3",
   "metadata": {},
   "source": [
    "Best fit Line is covering most of the data points."
   ]
  },
  {
   "cell_type": "markdown",
   "id": "5bf5b796",
   "metadata": {},
   "source": [
    "# REGULARIZATION"
   ]
  },
  {
   "cell_type": "code",
   "execution_count": 84,
   "id": "6e08ce2c",
   "metadata": {},
   "outputs": [
    {
     "name": "stdout",
     "output_type": "stream",
     "text": [
      "r2 score 0.9999999442168234\n",
      "error\n",
      "mean absolute error 0.03753030567805215\n",
      "mean squared error 0.002125857732388262\n",
      "root mean squared error 0.04610702476183279\n"
     ]
    }
   ],
   "source": [
    "\n",
    "\n",
    "#For Ridge\n",
    "\n",
    "rd=Ridge()\n",
    "\n",
    "rd.fit(x_train,y_train)\n",
    "pred_y=rd.predict(x_test)\n",
    "print('r2 score',r2_score(y_test,pred_y))\n",
    "\n",
    "print('error')\n",
    "print('mean absolute error', mean_absolute_error(y_test,pred_y))\n",
    "print('mean squared error', mean_squared_error(y_test,pred_y))\n",
    "\n",
    "print('root mean squared error', np.sqrt(mean_squared_error(y_test,pred_y)))\n",
    "\n"
   ]
  },
  {
   "cell_type": "code",
   "execution_count": 85,
   "id": "624a80f4",
   "metadata": {},
   "outputs": [
    {
     "name": "stdout",
     "output_type": "stream",
     "text": [
      "cv score 0.9999999621999649\n"
     ]
    }
   ],
   "source": [
    "# For Ridge (cross  validation)\n",
    "\n",
    "\n",
    "score=cross_val_score(rd,x,y,cv=10)\n",
    "print('cv score',np.mean(score))"
   ]
  },
  {
   "cell_type": "markdown",
   "id": "f10176d1",
   "metadata": {},
   "source": [
    "r2 score is predicting 99% and cv score is predicting 99% accuracy score for Ridge"
   ]
  },
  {
   "cell_type": "code",
   "execution_count": null,
   "id": "a24adf39",
   "metadata": {},
   "outputs": [],
   "source": []
  },
  {
   "cell_type": "code",
   "execution_count": 86,
   "id": "09817cad",
   "metadata": {},
   "outputs": [
    {
     "name": "stdout",
     "output_type": "stream",
     "text": [
      "r2 score 0.9999716940649278\n",
      "error\n",
      "mean absolute error 0.8544401378544806\n",
      "mean squared error 1.0787193312960885\n",
      "root mean squared error 1.0386141397535895\n"
     ]
    }
   ],
   "source": [
    "# for Lasso\n",
    "\n",
    "ls=Lasso()\n",
    "\n",
    "ls.fit(x_train,y_train)\n",
    "pred_y=ls.predict(x_test)\n",
    "print('r2 score',r2_score(y_test,pred_y))\n",
    "\n",
    "print('error')\n",
    "print('mean absolute error', mean_absolute_error(y_test,pred_y))\n",
    "print('mean squared error', mean_squared_error(y_test,pred_y))\n",
    "\n",
    "print('root mean squared error', np.sqrt(mean_squared_error(y_test,pred_y)))\n"
   ]
  },
  {
   "cell_type": "code",
   "execution_count": 87,
   "id": "5ce6d58a",
   "metadata": {},
   "outputs": [
    {
     "name": "stdout",
     "output_type": "stream",
     "text": [
      "cv score 0.9999725129344961\n"
     ]
    }
   ],
   "source": [
    "# For Lasso (cross validation)\n",
    "\n",
    "\n",
    "score=cross_val_score(ls,x,y,cv=10)\n",
    "print('cv score',np.mean(score))"
   ]
  },
  {
   "cell_type": "markdown",
   "id": "150d4c4b",
   "metadata": {},
   "source": [
    "r2 score is predicting 99% and cv score is predicting 99% accuracy score for Lasso"
   ]
  },
  {
   "cell_type": "code",
   "execution_count": null,
   "id": "4e0e7080",
   "metadata": {},
   "outputs": [],
   "source": []
  },
  {
   "cell_type": "code",
   "execution_count": 88,
   "id": "93032e7e",
   "metadata": {},
   "outputs": [
    {
     "name": "stdout",
     "output_type": "stream",
     "text": [
      "r2 score 0.8857726145956352\n",
      "error\n",
      "mean absolute error 54.14751169188582\n",
      "mean squared error 4353.125536566229\n",
      "root mean squared error 65.97822016822089\n"
     ]
    }
   ],
   "source": [
    "\n",
    "#For ElasticNet\n",
    "\n",
    "\n",
    "\n",
    "en=ElasticNet()\n",
    "\n",
    "en.fit(x_train,y_train)\n",
    "pred_y=en.predict(x_test)\n",
    "print('r2 score',r2_score(y_test,pred_y))\n",
    "\n",
    "print('error')\n",
    "print('mean absolute error', mean_absolute_error(y_test,pred_y))\n",
    "print('mean squared error', mean_squared_error(y_test,pred_y))\n",
    "\n",
    "print('root mean squared error', np.sqrt(mean_squared_error(y_test,pred_y)))\n"
   ]
  },
  {
   "cell_type": "code",
   "execution_count": 89,
   "id": "d70e7749",
   "metadata": {},
   "outputs": [
    {
     "name": "stdout",
     "output_type": "stream",
     "text": [
      "cv score 0.8874913566686271\n"
     ]
    }
   ],
   "source": [
    "\n",
    "#For ElasticNet (cross validation)\n",
    "\n",
    "score=cross_val_score(en,x,y,cv=10)\n",
    "print('cv score',np.mean(score))"
   ]
  },
  {
   "cell_type": "markdown",
   "id": "6b8fc765",
   "metadata": {},
   "source": [
    "r2 score is predicting 88% and cv score is predicting 88% accuracy score for Elastic net"
   ]
  },
  {
   "cell_type": "code",
   "execution_count": null,
   "id": "3ead6fb1",
   "metadata": {},
   "outputs": [],
   "source": []
  },
  {
   "cell_type": "markdown",
   "id": "360facba",
   "metadata": {},
   "source": [
    "# CLASSIFICATION ALGORITHMS A REGRESSION MODEL"
   ]
  },
  {
   "cell_type": "code",
   "execution_count": 93,
   "id": "89991cf7",
   "metadata": {},
   "outputs": [],
   "source": [
    "from sklearn.tree import DecisionTreeRegressor"
   ]
  },
  {
   "cell_type": "code",
   "execution_count": 94,
   "id": "c3168767",
   "metadata": {},
   "outputs": [
    {
     "name": "stdout",
     "output_type": "stream",
     "text": [
      "1.0\n"
     ]
    }
   ],
   "source": [
    "dt=DecisionTreeRegressor()\n",
    "dt.fit(x_train,y_train)\n",
    "print(dt.score(x_train,y_train))"
   ]
  },
  {
   "cell_type": "code",
   "execution_count": 95,
   "id": "16b18396",
   "metadata": {},
   "outputs": [
    {
     "name": "stdout",
     "output_type": "stream",
     "text": [
      "cv score 0.9999553381907227\n"
     ]
    }
   ],
   "source": [
    "\n",
    "#For dt (cross validation)\n",
    "\n",
    "score=cross_val_score(dt,x,y,cv=10)\n",
    "print('cv score',np.mean(score))"
   ]
  },
  {
   "cell_type": "markdown",
   "id": "bf07d6fe",
   "metadata": {},
   "source": [
    "Accuracy score is 100% and cv score is 99% of DecisionTreeRegressor."
   ]
  },
  {
   "cell_type": "code",
   "execution_count": null,
   "id": "df2a1903",
   "metadata": {},
   "outputs": [],
   "source": []
  },
  {
   "cell_type": "raw",
   "id": "cb648f83",
   "metadata": {},
   "source": [
    "Above predictions from the model , we can say that our model is performing very well,\n",
    "\n",
    "and Linear regression model is predicting 100 % accuracy in both r2 score and cross validation score.\n",
    "\n",
    "Ridge model and Lasso is predicting 99 % accuracy in both r2 score and cross validation score."
   ]
  },
  {
   "cell_type": "code",
   "execution_count": null,
   "id": "46a62bdf",
   "metadata": {},
   "outputs": [],
   "source": []
  },
  {
   "cell_type": "markdown",
   "id": "b6fbff5f",
   "metadata": {},
   "source": [
    "# ENSEMBLE TECHNIQUE"
   ]
  },
  {
   "cell_type": "code",
   "execution_count": 96,
   "id": "06d311b5",
   "metadata": {},
   "outputs": [
    {
     "name": "stdout",
     "output_type": "stream",
     "text": [
      "{'criterion': 'mae', 'max_features': 'auto'}\n"
     ]
    }
   ],
   "source": [
    "from sklearn.ensemble import RandomForestRegressor\n",
    "from sklearn.model_selection import GridSearchCV\n",
    "parameters={'criterion':['mse','mae'],'max_features':['auto','sqrt','log2']}\n",
    "\n",
    "rf=RandomForestRegressor()\n",
    "clf=GridSearchCV(rf,parameters)\n",
    "clf.fit(x_train,y_train)\n",
    "\n",
    "print(clf.best_params_)"
   ]
  },
  {
   "cell_type": "code",
   "execution_count": 98,
   "id": "e9844840",
   "metadata": {},
   "outputs": [
    {
     "name": "stdout",
     "output_type": "stream",
     "text": [
      "r2 score: 99.99857578094353\n",
      "cross val score 99.996490901609\n"
     ]
    }
   ],
   "source": [
    "rf=RandomForestRegressor(criterion='mae',max_features='auto')\n",
    "rf.fit(x_train,y_train)\n",
    "rf.score(x_train,y_train)\n",
    "pred_decision=rf.predict(x_test)\n",
    "\n",
    "rfs=r2_score(y_test,pred_decision)\n",
    "print('r2 score:', rfs*100)\n",
    "\n",
    "rfscore=cross_val_score(rf,x,y,cv=5)\n",
    "rfc=rfscore.mean()\n",
    "print('cross val score',rfc*100)"
   ]
  },
  {
   "cell_type": "markdown",
   "id": "b567d37c",
   "metadata": {},
   "source": [
    "We are getting model accuracy and cross validation both as 99.99% which shows our model is performing extremly well."
   ]
  },
  {
   "cell_type": "code",
   "execution_count": null,
   "id": "99b5bef2",
   "metadata": {},
   "outputs": [],
   "source": []
  },
  {
   "cell_type": "markdown",
   "id": "8d9c9220",
   "metadata": {},
   "source": [
    "# SAVING THE MODEL"
   ]
  },
  {
   "cell_type": "code",
   "execution_count": 99,
   "id": "0f2d011c",
   "metadata": {},
   "outputs": [],
   "source": [
    "import pickle\n",
    "filename='doctor_fees.pkl'\n",
    "pickle.dump(rf, open(filename,'wb'))"
   ]
  },
  {
   "cell_type": "code",
   "execution_count": null,
   "id": "5c64062b",
   "metadata": {},
   "outputs": [],
   "source": []
  },
  {
   "cell_type": "markdown",
   "id": "451538c7",
   "metadata": {},
   "source": [
    "# CONCLUSION 1"
   ]
  },
  {
   "cell_type": "code",
   "execution_count": 100,
   "id": "c09b504f",
   "metadata": {},
   "outputs": [
    {
     "name": "stdout",
     "output_type": "stream",
     "text": [
      "0.9999857578094352\n"
     ]
    }
   ],
   "source": [
    "loaded_model=pickle.load(open('doctor_fees.pkl','rb'))\n",
    "result=loaded_model.score(x_test, y_test)\n",
    "print(result)"
   ]
  },
  {
   "cell_type": "code",
   "execution_count": 101,
   "id": "9af1bd7d",
   "metadata": {},
   "outputs": [
    {
     "data": {
      "text/html": [
       "<div>\n",
       "<style scoped>\n",
       "    .dataframe tbody tr th:only-of-type {\n",
       "        vertical-align: middle;\n",
       "    }\n",
       "\n",
       "    .dataframe tbody tr th {\n",
       "        vertical-align: top;\n",
       "    }\n",
       "\n",
       "    .dataframe thead th {\n",
       "        text-align: right;\n",
       "    }\n",
       "</style>\n",
       "<table border=\"1\" class=\"dataframe\">\n",
       "  <thead>\n",
       "    <tr style=\"text-align: right;\">\n",
       "      <th></th>\n",
       "      <th>0</th>\n",
       "      <th>1</th>\n",
       "      <th>2</th>\n",
       "      <th>3</th>\n",
       "      <th>4</th>\n",
       "      <th>5</th>\n",
       "      <th>6</th>\n",
       "      <th>7</th>\n",
       "      <th>8</th>\n",
       "      <th>9</th>\n",
       "      <th>...</th>\n",
       "      <th>1481</th>\n",
       "      <th>1482</th>\n",
       "      <th>1483</th>\n",
       "      <th>1484</th>\n",
       "      <th>1485</th>\n",
       "      <th>1486</th>\n",
       "      <th>1487</th>\n",
       "      <th>1488</th>\n",
       "      <th>1489</th>\n",
       "      <th>1490</th>\n",
       "    </tr>\n",
       "  </thead>\n",
       "  <tbody>\n",
       "    <tr>\n",
       "      <th>predicted</th>\n",
       "      <td>600.0</td>\n",
       "      <td>400.0</td>\n",
       "      <td>150.0</td>\n",
       "      <td>100.0</td>\n",
       "      <td>150.0</td>\n",
       "      <td>500.0</td>\n",
       "      <td>100.0</td>\n",
       "      <td>300.0</td>\n",
       "      <td>200.0</td>\n",
       "      <td>800.0</td>\n",
       "      <td>...</td>\n",
       "      <td>100.0</td>\n",
       "      <td>100.0</td>\n",
       "      <td>300.0</td>\n",
       "      <td>100.0</td>\n",
       "      <td>500.0</td>\n",
       "      <td>500.0</td>\n",
       "      <td>250.0</td>\n",
       "      <td>300.0</td>\n",
       "      <td>200.0</td>\n",
       "      <td>300.0</td>\n",
       "    </tr>\n",
       "    <tr>\n",
       "      <th>original</th>\n",
       "      <td>600.0</td>\n",
       "      <td>400.0</td>\n",
       "      <td>150.0</td>\n",
       "      <td>100.0</td>\n",
       "      <td>150.0</td>\n",
       "      <td>500.0</td>\n",
       "      <td>100.0</td>\n",
       "      <td>300.0</td>\n",
       "      <td>200.0</td>\n",
       "      <td>800.0</td>\n",
       "      <td>...</td>\n",
       "      <td>100.0</td>\n",
       "      <td>100.0</td>\n",
       "      <td>300.0</td>\n",
       "      <td>100.0</td>\n",
       "      <td>500.0</td>\n",
       "      <td>500.0</td>\n",
       "      <td>250.0</td>\n",
       "      <td>300.0</td>\n",
       "      <td>200.0</td>\n",
       "      <td>300.0</td>\n",
       "    </tr>\n",
       "  </tbody>\n",
       "</table>\n",
       "<p>2 rows × 1491 columns</p>\n",
       "</div>"
      ],
      "text/plain": [
       "            0      1      2      3      4      5      6      7      8     \\\n",
       "predicted  600.0  400.0  150.0  100.0  150.0  500.0  100.0  300.0  200.0   \n",
       "original   600.0  400.0  150.0  100.0  150.0  500.0  100.0  300.0  200.0   \n",
       "\n",
       "            9     ...   1481   1482   1483   1484   1485   1486   1487   1488  \\\n",
       "predicted  800.0  ...  100.0  100.0  300.0  100.0  500.0  500.0  250.0  300.0   \n",
       "original   800.0  ...  100.0  100.0  300.0  100.0  500.0  500.0  250.0  300.0   \n",
       "\n",
       "            1489   1490  \n",
       "predicted  200.0  300.0  \n",
       "original   200.0  300.0  \n",
       "\n",
       "[2 rows x 1491 columns]"
      ]
     },
     "execution_count": 101,
     "metadata": {},
     "output_type": "execute_result"
    }
   ],
   "source": [
    "conclusion=pd.DataFrame([loaded_model.predict(x_test)[:],pred_decision[:]],index=['predicted','original'])\n",
    "conclusion\n",
    "                "
   ]
  },
  {
   "cell_type": "markdown",
   "id": "65882950",
   "metadata": {},
   "source": [
    "Above predictions from the model , we can say that our model is performing extremly well, we are getting 99% accuracy ."
   ]
  },
  {
   "cell_type": "markdown",
   "id": "a981b3a0",
   "metadata": {},
   "source": [
    "# PREDICTIING THE MODEL ON TEST DATA"
   ]
  },
  {
   "cell_type": "code",
   "execution_count": 114,
   "id": "cd79dbaa",
   "metadata": {},
   "outputs": [],
   "source": [
    "y_pred=rf.predict(x_test)"
   ]
  },
  {
   "cell_type": "code",
   "execution_count": 115,
   "id": "d2fdddc2",
   "metadata": {},
   "outputs": [
    {
     "data": {
      "text/plain": [
       "array([600., 400., 150., ..., 300., 200., 300.])"
      ]
     },
     "execution_count": 115,
     "metadata": {},
     "output_type": "execute_result"
    }
   ],
   "source": [
    "y_pred"
   ]
  },
  {
   "cell_type": "markdown",
   "id": "8dbca86e",
   "metadata": {},
   "source": [
    "# SAVING THE RESULT ON THE CSV FILE"
   ]
  },
  {
   "cell_type": "code",
   "execution_count": 120,
   "id": "dc13c32d",
   "metadata": {},
   "outputs": [],
   "source": [
    "result=pd.DataFrame()\n",
    "\n",
    "\n",
    "result[\"Fees\"]=y_pred\n",
    "result=result.sort_index()\n",
    "result.to_csv('doctor_fees.csv',index=True)"
   ]
  },
  {
   "cell_type": "code",
   "execution_count": 121,
   "id": "86b8a7b6",
   "metadata": {},
   "outputs": [
    {
     "data": {
      "text/html": [
       "<div>\n",
       "<style scoped>\n",
       "    .dataframe tbody tr th:only-of-type {\n",
       "        vertical-align: middle;\n",
       "    }\n",
       "\n",
       "    .dataframe tbody tr th {\n",
       "        vertical-align: top;\n",
       "    }\n",
       "\n",
       "    .dataframe thead th {\n",
       "        text-align: right;\n",
       "    }\n",
       "</style>\n",
       "<table border=\"1\" class=\"dataframe\">\n",
       "  <thead>\n",
       "    <tr style=\"text-align: right;\">\n",
       "      <th></th>\n",
       "      <th>Unnamed: 0</th>\n",
       "      <th>Fees</th>\n",
       "    </tr>\n",
       "  </thead>\n",
       "  <tbody>\n",
       "    <tr>\n",
       "      <th>0</th>\n",
       "      <td>0</td>\n",
       "      <td>600.0</td>\n",
       "    </tr>\n",
       "    <tr>\n",
       "      <th>1</th>\n",
       "      <td>1</td>\n",
       "      <td>400.0</td>\n",
       "    </tr>\n",
       "    <tr>\n",
       "      <th>2</th>\n",
       "      <td>2</td>\n",
       "      <td>150.0</td>\n",
       "    </tr>\n",
       "    <tr>\n",
       "      <th>3</th>\n",
       "      <td>3</td>\n",
       "      <td>100.0</td>\n",
       "    </tr>\n",
       "    <tr>\n",
       "      <th>4</th>\n",
       "      <td>4</td>\n",
       "      <td>150.0</td>\n",
       "    </tr>\n",
       "    <tr>\n",
       "      <th>...</th>\n",
       "      <td>...</td>\n",
       "      <td>...</td>\n",
       "    </tr>\n",
       "    <tr>\n",
       "      <th>1486</th>\n",
       "      <td>1486</td>\n",
       "      <td>500.0</td>\n",
       "    </tr>\n",
       "    <tr>\n",
       "      <th>1487</th>\n",
       "      <td>1487</td>\n",
       "      <td>250.0</td>\n",
       "    </tr>\n",
       "    <tr>\n",
       "      <th>1488</th>\n",
       "      <td>1488</td>\n",
       "      <td>300.0</td>\n",
       "    </tr>\n",
       "    <tr>\n",
       "      <th>1489</th>\n",
       "      <td>1489</td>\n",
       "      <td>200.0</td>\n",
       "    </tr>\n",
       "    <tr>\n",
       "      <th>1490</th>\n",
       "      <td>1490</td>\n",
       "      <td>300.0</td>\n",
       "    </tr>\n",
       "  </tbody>\n",
       "</table>\n",
       "<p>1491 rows × 2 columns</p>\n",
       "</div>"
      ],
      "text/plain": [
       "      Unnamed: 0   Fees\n",
       "0              0  600.0\n",
       "1              1  400.0\n",
       "2              2  150.0\n",
       "3              3  100.0\n",
       "4              4  150.0\n",
       "...          ...    ...\n",
       "1486        1486  500.0\n",
       "1487        1487  250.0\n",
       "1488        1488  300.0\n",
       "1489        1489  200.0\n",
       "1490        1490  300.0\n",
       "\n",
       "[1491 rows x 2 columns]"
      ]
     },
     "execution_count": 121,
     "metadata": {},
     "output_type": "execute_result"
    }
   ],
   "source": [
    "# Now Loding the data\n",
    "ds=pd.read_csv('doctor_fees.csv')\n",
    "ds"
   ]
  },
  {
   "cell_type": "code",
   "execution_count": null,
   "id": "14dc22e4",
   "metadata": {},
   "outputs": [],
   "source": []
  },
  {
   "cell_type": "markdown",
   "id": "1834cf29",
   "metadata": {},
   "source": [
    "# conclusion 2\n",
    "With the help of EDA , I learnt how to done EDA.\n",
    "\n",
    "I also learnt ,making use of packages like matplotlib and seaborn to develop better insights of the data.\n",
    "\n",
    "I have also learnt how to remove outliers and skewness to predict better accuracy.\n",
    "\n",
    "I have also seen the impacts on the columns on Fees.\n",
    "\n",
    "I came to know through the analysis ,which model will predict better accuracy.\n",
    "\n",
    "This project helped me to gain deep knowledge , and also get to know where to use models.\n",
    "\n",
    "​"
   ]
  },
  {
   "cell_type": "code",
   "execution_count": null,
   "id": "bfe979b7",
   "metadata": {},
   "outputs": [],
   "source": []
  }
 ],
 "metadata": {
  "kernelspec": {
   "display_name": "Python 3",
   "language": "python",
   "name": "python3"
  },
  "language_info": {
   "codemirror_mode": {
    "name": "ipython",
    "version": 3
   },
   "file_extension": ".py",
   "mimetype": "text/x-python",
   "name": "python",
   "nbconvert_exporter": "python",
   "pygments_lexer": "ipython3",
   "version": "3.8.8"
  }
 },
 "nbformat": 4,
 "nbformat_minor": 5
}
