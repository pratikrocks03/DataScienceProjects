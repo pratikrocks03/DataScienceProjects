{
 "cells": [
  {
   "cell_type": "markdown",
   "id": "fd76a8b6",
   "metadata": {},
   "source": [
    "# FLIGHT PRICE PREDICTION\n",
    "Anyone who has booked a flight ticket knows how unexpectedly the prices vary. The cheapest \n",
    "available ticket on a given flight gets more and less expensive over time. This usually happens as \n",
    "an attempt to maximize revenue based on -\n",
    "1. Time of purchase patterns (making sure last-minute purchases are expensive)\n",
    "2. Keeping the flight as full as they want it (raising prices on a flight which is filling up in order \n",
    "to reduce sales and hold back inventory for those expensive last-minute expensive \n",
    "purchases)\n",
    "So, you have to work on a project where you collect data of flight fares with other features and \n",
    "work to make a model to predict fares of flights.\n"
   ]
  },
  {
   "cell_type": "markdown",
   "id": "247a6974",
   "metadata": {},
   "source": [
    "## WebScrapping"
   ]
  },
  {
   "cell_type": "code",
   "execution_count": 1,
   "id": "b2606f8e",
   "metadata": {},
   "outputs": [
    {
     "name": "stdout",
     "output_type": "stream",
     "text": [
      "Requirement already satisfied: selenium in c:\\programdata\\anaconda2\\lib\\site-packages (3.141.0)\n",
      "Requirement already satisfied: urllib3 in c:\\programdata\\anaconda2\\lib\\site-packages (from selenium) (1.26.6)\n"
     ]
    },
    {
     "name": "stderr",
     "output_type": "stream",
     "text": [
      "WARNING: Ignoring invalid distribution -ikit-learn (c:\\programdata\\anaconda2\\lib\\site-packages)\n",
      "WARNING: Ignoring invalid distribution -ikit-learn (c:\\programdata\\anaconda2\\lib\\site-packages)\n",
      "WARNING: Ignoring invalid distribution - (c:\\programdata\\anaconda2\\lib\\site-packages)\n",
      "WARNING: Ignoring invalid distribution -cikit-learn (c:\\programdata\\anaconda2\\lib\\site-packages)\n",
      "WARNING: Ignoring invalid distribution -ikit-learn (c:\\programdata\\anaconda2\\lib\\site-packages)\n",
      "WARNING: Ignoring invalid distribution -ikit-learn (c:\\programdata\\anaconda2\\lib\\site-packages)\n",
      "WARNING: Ignoring invalid distribution - (c:\\programdata\\anaconda2\\lib\\site-packages)\n",
      "WARNING: Ignoring invalid distribution -cikit-learn (c:\\programdata\\anaconda2\\lib\\site-packages)\n",
      "WARNING: Ignoring invalid distribution -ikit-learn (c:\\programdata\\anaconda2\\lib\\site-packages)\n",
      "WARNING: Ignoring invalid distribution -ikit-learn (c:\\programdata\\anaconda2\\lib\\site-packages)\n",
      "WARNING: Ignoring invalid distribution - (c:\\programdata\\anaconda2\\lib\\site-packages)\n",
      "WARNING: Ignoring invalid distribution -cikit-learn (c:\\programdata\\anaconda2\\lib\\site-packages)\n",
      "WARNING: Ignoring invalid distribution -ikit-learn (c:\\programdata\\anaconda2\\lib\\site-packages)\n",
      "WARNING: Ignoring invalid distribution -ikit-learn (c:\\programdata\\anaconda2\\lib\\site-packages)\n",
      "WARNING: Ignoring invalid distribution - (c:\\programdata\\anaconda2\\lib\\site-packages)\n",
      "WARNING: Ignoring invalid distribution -cikit-learn (c:\\programdata\\anaconda2\\lib\\site-packages)\n",
      "WARNING: Ignoring invalid distribution -ikit-learn (c:\\programdata\\anaconda2\\lib\\site-packages)\n",
      "WARNING: Ignoring invalid distribution -ikit-learn (c:\\programdata\\anaconda2\\lib\\site-packages)\n",
      "WARNING: Ignoring invalid distribution - (c:\\programdata\\anaconda2\\lib\\site-packages)\n",
      "WARNING: Ignoring invalid distribution -cikit-learn (c:\\programdata\\anaconda2\\lib\\site-packages)\n",
      "WARNING: Ignoring invalid distribution -ikit-learn (c:\\programdata\\anaconda2\\lib\\site-packages)\n",
      "WARNING: Ignoring invalid distribution -ikit-learn (c:\\programdata\\anaconda2\\lib\\site-packages)\n",
      "WARNING: Ignoring invalid distribution - (c:\\programdata\\anaconda2\\lib\\site-packages)\n",
      "WARNING: Ignoring invalid distribution -cikit-learn (c:\\programdata\\anaconda2\\lib\\site-packages)\n"
     ]
    }
   ],
   "source": [
    "!pip install selenium"
   ]
  },
  {
   "cell_type": "markdown",
   "id": "15a1c7a1",
   "metadata": {},
   "source": [
    "## Importing the Libraries"
   ]
  },
  {
   "cell_type": "code",
   "execution_count": 2,
   "id": "d25e1dc4",
   "metadata": {},
   "outputs": [],
   "source": [
    "import pandas as pd\n",
    "import selenium\n",
    "from selenium import webdriver\n",
    "import time\n",
    "from selenium.common.exceptions import StaleElementReferenceException, NoSuchElementException"
   ]
  },
  {
   "cell_type": "markdown",
   "id": "93de5cab",
   "metadata": {},
   "source": [
    "## Scrapping Data for Flight"
   ]
  },
  {
   "cell_type": "code",
   "execution_count": 3,
   "id": "e1431b85",
   "metadata": {},
   "outputs": [],
   "source": [
    "driver=webdriver.Chrome(\"chromedriver.exe\") "
   ]
  },
  {
   "cell_type": "code",
   "execution_count": 4,
   "id": "5ae1f37f",
   "metadata": {},
   "outputs": [],
   "source": [
    "# creating empty list\n",
    "flight=[]\n",
    "city=[]\n",
    "arrival=[]\n",
    "departure=[]\n",
    "duration=[]\n",
    "stops=[]\n",
    "price=[]\n"
   ]
  },
  {
   "cell_type": "code",
   "execution_count": 6,
   "id": "dacd64ed",
   "metadata": {},
   "outputs": [],
   "source": [
    "# scrapping detail\n",
    "start=0\n",
    "end=25\n",
    "for page in range(start,end):\n",
    "    flights=driver.find_elements_by_xpath(\"//span[@class='i-b text ellipsis']\")\n",
    "    for i in flights:\n",
    "        try:\n",
    "            flight.append(i.text)\n",
    "        except NoSuchElementException:\n",
    "            flight.append(\"-\")\n",
    "            \n",
    "            \n",
    "   \n",
    "            \n",
    "    dep=driver.find_elements_by_xpath(\"//div[@class='fs-15 bold time']\")\n",
    "    for i in dep:\n",
    "        try:\n",
    "            departure.append(i.text)\n",
    "        except NoSuchElementException:\n",
    "            departure.appned(\"--\")\n",
    "            \n",
    "            \n",
    "    \n",
    "    arrv=driver.find_elements_by_xpath(\"//p[@class='bold fs-15 mb-2 pr time']\")\n",
    "    for i in arrv:\n",
    "        try:\n",
    "            arrival.append(i.text)\n",
    "        except NoSuchElementException:\n",
    "            arrival.append(\"--\")\n",
    "            \n",
    "            \n",
    "   \n",
    "            \n",
    "    dur=driver.find_elements_by_xpath(\"//p[@class='fs-12 bold du mb-2']\")\n",
    "    for i in dur:\n",
    "        try:\n",
    "            duration.append(i.text)\n",
    "        except NoSuchElementException:\n",
    "            duration.append('--')\n",
    "            \n",
    "            \n",
    "            \n",
    "    prc=driver.find_elements_by_xpath(\"//div[@class='i-b tipsy fare-summary-tooltip fs-18']\")\n",
    "    for i in prc:\n",
    "        try:\n",
    "            price.append(i.text)\n",
    "        except NoSuchElementException:\n",
    "            price.append(\"--\")\n",
    "            \n",
    "    stp=driver.find_elements_by_xpath(\"//span[@class='dotted-borderbtm']\")\n",
    "    for i in stp:\n",
    "        try:\n",
    "            stops.append(i.text)\n",
    "        except NoSuchElementException:\n",
    "            stops.append(\"--\")\n",
    "        \n",
    "        \n",
    "            "
   ]
  },
  {
   "cell_type": "code",
   "execution_count": 22,
   "id": "7b3c75f9",
   "metadata": {},
   "outputs": [],
   "source": [
    "start=0\n",
    "end=25\n",
    "for page in range(start,end):\n",
    "    ct=driver.find_elements_by_xpath(\"//p[@title='New Delhi']\")\n",
    "    for i in ct:\n",
    "        try:\n",
    "            city.append(i.text)\n",
    "        except NoSuchElementException:\n",
    "            city.append(\"-\")"
   ]
  },
  {
   "cell_type": "code",
   "execution_count": 25,
   "id": "f59f7ba5",
   "metadata": {},
   "outputs": [],
   "source": [
    "start=0\n",
    "end=25\n",
    "destinations=[]\n",
    "for page in range(start,end):\n",
    "    dest=driver.find_elements_by_xpath(\"//p[@title='Mumbai']\")\n",
    "    for i in dest:\n",
    "        try:\n",
    "            destinations.append(i.text)\n",
    "        except NoSuchElementException:\n",
    "            destinations.append(\"-\")"
   ]
  },
  {
   "cell_type": "code",
   "execution_count": 28,
   "id": "62676cbb",
   "metadata": {},
   "outputs": [],
   "source": [
    "# creating dataframe\n",
    "df=pd.DataFrame({})\n",
    "df['Flight']=flight[:2100]\n",
    "df['Boarding City']=city[:2100]\n",
    "df['Destination']=destination[:2100]\n",
    "df['Departure']=departure[:2100]\n",
    "df['Arrival']=arrival[:2100]\n",
    "df['duration']=duration[:2100]\n",
    "df['Stops']=stops[:2100]\n",
    "df['Price']=price[:2100]"
   ]
  },
  {
   "cell_type": "code",
   "execution_count": 30,
   "id": "b2b0fe77",
   "metadata": {},
   "outputs": [
    {
     "data": {
      "text/html": [
       "<div>\n",
       "<style scoped>\n",
       "    .dataframe tbody tr th:only-of-type {\n",
       "        vertical-align: middle;\n",
       "    }\n",
       "\n",
       "    .dataframe tbody tr th {\n",
       "        vertical-align: top;\n",
       "    }\n",
       "\n",
       "    .dataframe thead th {\n",
       "        text-align: right;\n",
       "    }\n",
       "</style>\n",
       "<table border=\"1\" class=\"dataframe\">\n",
       "  <thead>\n",
       "    <tr style=\"text-align: right;\">\n",
       "      <th></th>\n",
       "      <th>Flight</th>\n",
       "      <th>Boarding City</th>\n",
       "      <th>Destination</th>\n",
       "      <th>Departure</th>\n",
       "      <th>Arrival</th>\n",
       "      <th>duration</th>\n",
       "      <th>Stops</th>\n",
       "      <th>Price</th>\n",
       "    </tr>\n",
       "  </thead>\n",
       "  <tbody>\n",
       "    <tr>\n",
       "      <th>0</th>\n",
       "      <td>Air Asia</td>\n",
       "      <td>New Delhi</td>\n",
       "      <td>New Delhi</td>\n",
       "      <td>18:40</td>\n",
       "      <td>06:20\\n+ 1 day</td>\n",
       "      <td>11h 40m</td>\n",
       "      <td>1 Stop</td>\n",
       "      <td>5,953</td>\n",
       "    </tr>\n",
       "    <tr>\n",
       "      <th>1</th>\n",
       "      <td>Go First</td>\n",
       "      <td>New Delhi</td>\n",
       "      <td>Mumbai</td>\n",
       "      <td>18:50</td>\n",
       "      <td>20:45</td>\n",
       "      <td>1h 55m</td>\n",
       "      <td>1 Stop</td>\n",
       "      <td>5,954</td>\n",
       "    </tr>\n",
       "    <tr>\n",
       "      <th>2</th>\n",
       "      <td>Go First</td>\n",
       "      <td>New Delhi</td>\n",
       "      <td>New Delhi</td>\n",
       "      <td>09:05</td>\n",
       "      <td>11:05</td>\n",
       "      <td>2h 00m</td>\n",
       "      <td>1 Stop</td>\n",
       "      <td>5,954</td>\n",
       "    </tr>\n",
       "    <tr>\n",
       "      <th>3</th>\n",
       "      <td>Go First</td>\n",
       "      <td>New Delhi</td>\n",
       "      <td>Mumbai</td>\n",
       "      <td>06:15</td>\n",
       "      <td>08:20</td>\n",
       "      <td>2h 05m</td>\n",
       "      <td>1 Stop</td>\n",
       "      <td>5,954</td>\n",
       "    </tr>\n",
       "    <tr>\n",
       "      <th>4</th>\n",
       "      <td>Go First</td>\n",
       "      <td>New Delhi</td>\n",
       "      <td>New Delhi</td>\n",
       "      <td>14:20</td>\n",
       "      <td>16:25</td>\n",
       "      <td>2h 05m</td>\n",
       "      <td>1 Stop</td>\n",
       "      <td>5,954</td>\n",
       "    </tr>\n",
       "    <tr>\n",
       "      <th>...</th>\n",
       "      <td>...</td>\n",
       "      <td>...</td>\n",
       "      <td>...</td>\n",
       "      <td>...</td>\n",
       "      <td>...</td>\n",
       "      <td>...</td>\n",
       "      <td>...</td>\n",
       "      <td>...</td>\n",
       "    </tr>\n",
       "    <tr>\n",
       "      <th>2095</th>\n",
       "      <td>Air India</td>\n",
       "      <td>New Delhi</td>\n",
       "      <td>Mumbai</td>\n",
       "      <td>20:10</td>\n",
       "      <td>20:00\\n+ 1 day</td>\n",
       "      <td>23h 50m</td>\n",
       "      <td></td>\n",
       "      <td>9,000</td>\n",
       "    </tr>\n",
       "    <tr>\n",
       "      <th>2096</th>\n",
       "      <td>Vistara</td>\n",
       "      <td>New Delhi</td>\n",
       "      <td>New Delhi</td>\n",
       "      <td>17:10</td>\n",
       "      <td>15:00\\n+ 1 day</td>\n",
       "      <td>21h 50m</td>\n",
       "      <td></td>\n",
       "      <td>9,210</td>\n",
       "    </tr>\n",
       "    <tr>\n",
       "      <th>2097</th>\n",
       "      <td>Vistara</td>\n",
       "      <td>New Delhi</td>\n",
       "      <td>Mumbai</td>\n",
       "      <td>13:40</td>\n",
       "      <td>15:00\\n+ 1 day</td>\n",
       "      <td>25h 20m</td>\n",
       "      <td></td>\n",
       "      <td>9,210</td>\n",
       "    </tr>\n",
       "    <tr>\n",
       "      <th>2098</th>\n",
       "      <td>Vistara</td>\n",
       "      <td>New Delhi</td>\n",
       "      <td>New Delhi</td>\n",
       "      <td>17:10</td>\n",
       "      <td>21:35</td>\n",
       "      <td>4h 25m</td>\n",
       "      <td></td>\n",
       "      <td>9,315</td>\n",
       "    </tr>\n",
       "    <tr>\n",
       "      <th>2099</th>\n",
       "      <td>Vistara</td>\n",
       "      <td>New Delhi</td>\n",
       "      <td>Mumbai</td>\n",
       "      <td>13:40</td>\n",
       "      <td>21:35</td>\n",
       "      <td>7h 55m</td>\n",
       "      <td></td>\n",
       "      <td>9,315</td>\n",
       "    </tr>\n",
       "  </tbody>\n",
       "</table>\n",
       "<p>2100 rows × 8 columns</p>\n",
       "</div>"
      ],
      "text/plain": [
       "         Flight Boarding City Destination Departure         Arrival duration  \\\n",
       "0      Air Asia     New Delhi   New Delhi     18:40  06:20\\n+ 1 day  11h 40m   \n",
       "1      Go First     New Delhi      Mumbai     18:50           20:45   1h 55m   \n",
       "2      Go First     New Delhi   New Delhi     09:05           11:05   2h 00m   \n",
       "3      Go First     New Delhi      Mumbai     06:15           08:20   2h 05m   \n",
       "4      Go First     New Delhi   New Delhi     14:20           16:25   2h 05m   \n",
       "...         ...           ...         ...       ...             ...      ...   \n",
       "2095  Air India     New Delhi      Mumbai     20:10  20:00\\n+ 1 day  23h 50m   \n",
       "2096    Vistara     New Delhi   New Delhi     17:10  15:00\\n+ 1 day  21h 50m   \n",
       "2097    Vistara     New Delhi      Mumbai     13:40  15:00\\n+ 1 day  25h 20m   \n",
       "2098    Vistara     New Delhi   New Delhi     17:10           21:35   4h 25m   \n",
       "2099    Vistara     New Delhi      Mumbai     13:40           21:35   7h 55m   \n",
       "\n",
       "       Stops  Price  \n",
       "0     1 Stop  5,953  \n",
       "1     1 Stop  5,954  \n",
       "2     1 Stop  5,954  \n",
       "3     1 Stop  5,954  \n",
       "4     1 Stop  5,954  \n",
       "...      ...    ...  \n",
       "2095          9,000  \n",
       "2096          9,210  \n",
       "2097          9,210  \n",
       "2098          9,315  \n",
       "2099          9,315  \n",
       "\n",
       "[2100 rows x 8 columns]"
      ]
     },
     "execution_count": 30,
     "metadata": {},
     "output_type": "execute_result"
    }
   ],
   "source": [
    "df"
   ]
  },
  {
   "cell_type": "code",
   "execution_count": 31,
   "id": "6d6e4905",
   "metadata": {},
   "outputs": [],
   "source": [
    "# saving Dataframe into csv\n",
    "df.to_csv('airlines_price.csv')"
   ]
  },
  {
   "cell_type": "code",
   "execution_count": null,
   "id": "f4ba1b16",
   "metadata": {},
   "outputs": [],
   "source": []
  },
  {
   "cell_type": "markdown",
   "id": "ecfea4d5",
   "metadata": {},
   "source": [
    "## Model builing phase"
   ]
  },
  {
   "cell_type": "markdown",
   "id": "52fa84f5",
   "metadata": {},
   "source": [
    "## Importing Libraries"
   ]
  },
  {
   "cell_type": "code",
   "execution_count": 1,
   "id": "8418fcef",
   "metadata": {},
   "outputs": [],
   "source": [
    "import pandas as pd\n",
    "import numpy as np\n",
    "import seaborn as sns\n",
    "import matplotlib.pyplot as plt\n",
    "import warnings\n",
    "warnings.filterwarnings('ignore')"
   ]
  },
  {
   "cell_type": "markdown",
   "id": "90675c1c",
   "metadata": {},
   "source": [
    "## Loading the Dataset"
   ]
  },
  {
   "cell_type": "code",
   "execution_count": 3,
   "id": "e341e95a",
   "metadata": {},
   "outputs": [
    {
     "data": {
      "text/html": [
       "<div>\n",
       "<style scoped>\n",
       "    .dataframe tbody tr th:only-of-type {\n",
       "        vertical-align: middle;\n",
       "    }\n",
       "\n",
       "    .dataframe tbody tr th {\n",
       "        vertical-align: top;\n",
       "    }\n",
       "\n",
       "    .dataframe thead th {\n",
       "        text-align: right;\n",
       "    }\n",
       "</style>\n",
       "<table border=\"1\" class=\"dataframe\">\n",
       "  <thead>\n",
       "    <tr style=\"text-align: right;\">\n",
       "      <th></th>\n",
       "      <th>Unnamed: 0</th>\n",
       "      <th>Flight</th>\n",
       "      <th>Boarding City</th>\n",
       "      <th>Destination</th>\n",
       "      <th>Departure</th>\n",
       "      <th>Arrival</th>\n",
       "      <th>duration</th>\n",
       "      <th>Stops</th>\n",
       "      <th>Price</th>\n",
       "    </tr>\n",
       "  </thead>\n",
       "  <tbody>\n",
       "    <tr>\n",
       "      <th>0</th>\n",
       "      <td>0</td>\n",
       "      <td>Air Asia</td>\n",
       "      <td>New Delhi</td>\n",
       "      <td>Mumbai</td>\n",
       "      <td>18:40</td>\n",
       "      <td>06:20\\n+ 1 day</td>\n",
       "      <td>11h 40m</td>\n",
       "      <td>1 Stop</td>\n",
       "      <td>5,953</td>\n",
       "    </tr>\n",
       "    <tr>\n",
       "      <th>1</th>\n",
       "      <td>1</td>\n",
       "      <td>Go First</td>\n",
       "      <td>New Delhi</td>\n",
       "      <td>Mumbai</td>\n",
       "      <td>18:50</td>\n",
       "      <td>20:45</td>\n",
       "      <td>1h 55m</td>\n",
       "      <td>1 Stop</td>\n",
       "      <td>5,954</td>\n",
       "    </tr>\n",
       "    <tr>\n",
       "      <th>2</th>\n",
       "      <td>2</td>\n",
       "      <td>Go First</td>\n",
       "      <td>New Delhi</td>\n",
       "      <td>Mumbai</td>\n",
       "      <td>09:05</td>\n",
       "      <td>11:05</td>\n",
       "      <td>2h 00m</td>\n",
       "      <td>1 Stop</td>\n",
       "      <td>5,954</td>\n",
       "    </tr>\n",
       "    <tr>\n",
       "      <th>3</th>\n",
       "      <td>3</td>\n",
       "      <td>Go First</td>\n",
       "      <td>New Delhi</td>\n",
       "      <td>Mumbai</td>\n",
       "      <td>06:15</td>\n",
       "      <td>08:20</td>\n",
       "      <td>2h 05m</td>\n",
       "      <td>1 Stop</td>\n",
       "      <td>5,954</td>\n",
       "    </tr>\n",
       "    <tr>\n",
       "      <th>4</th>\n",
       "      <td>4</td>\n",
       "      <td>Go First</td>\n",
       "      <td>New Delhi</td>\n",
       "      <td>Mumbai</td>\n",
       "      <td>14:20</td>\n",
       "      <td>16:25</td>\n",
       "      <td>2h 05m</td>\n",
       "      <td>1 Stop</td>\n",
       "      <td>5,954</td>\n",
       "    </tr>\n",
       "  </tbody>\n",
       "</table>\n",
       "</div>"
      ],
      "text/plain": [
       "   Unnamed: 0    Flight Boarding City Destination Departure         Arrival  \\\n",
       "0           0  Air Asia     New Delhi      Mumbai     18:40  06:20\\n+ 1 day   \n",
       "1           1  Go First     New Delhi      Mumbai     18:50           20:45   \n",
       "2           2  Go First     New Delhi      Mumbai     09:05           11:05   \n",
       "3           3  Go First     New Delhi      Mumbai     06:15           08:20   \n",
       "4           4  Go First     New Delhi      Mumbai     14:20           16:25   \n",
       "\n",
       "  duration   Stops  Price  \n",
       "0  11h 40m  1 Stop  5,953  \n",
       "1   1h 55m  1 Stop  5,954  \n",
       "2   2h 00m  1 Stop  5,954  \n",
       "3   2h 05m  1 Stop  5,954  \n",
       "4   2h 05m  1 Stop  5,954  "
      ]
     },
     "execution_count": 3,
     "metadata": {},
     "output_type": "execute_result"
    }
   ],
   "source": [
    "df=pd.read_csv('airlines_price.csv')\n",
    "df.head()"
   ]
  },
  {
   "cell_type": "markdown",
   "id": "1c44aaf7",
   "metadata": {},
   "source": [
    "We have top 5 heads of the dataset."
   ]
  },
  {
   "cell_type": "markdown",
   "id": "e9d7d74f",
   "metadata": {},
   "source": [
    "## EDA"
   ]
  },
  {
   "cell_type": "code",
   "execution_count": 6,
   "id": "a6e81db3",
   "metadata": {},
   "outputs": [
    {
     "data": {
      "text/plain": [
       "(2100, 9)"
      ]
     },
     "execution_count": 6,
     "metadata": {},
     "output_type": "execute_result"
    }
   ],
   "source": [
    "# checking shape\n",
    "df.shape"
   ]
  },
  {
   "cell_type": "markdown",
   "id": "1e6d82bf",
   "metadata": {},
   "source": [
    "2100 rows and 9 columns is present in the dataset."
   ]
  },
  {
   "cell_type": "code",
   "execution_count": 9,
   "id": "40e792e9",
   "metadata": {},
   "outputs": [
    {
     "data": {
      "text/plain": [
       "Unnamed: 0        int64\n",
       "Flight           object\n",
       "Boarding City    object\n",
       "Destination      object\n",
       "Departure        object\n",
       "Arrival          object\n",
       "duration         object\n",
       "Stops            object\n",
       "Price            object\n",
       "dtype: object"
      ]
     },
     "execution_count": 9,
     "metadata": {},
     "output_type": "execute_result"
    }
   ],
   "source": [
    "# checking datatype\n",
    "df.dtypes"
   ]
  },
  {
   "cell_type": "markdown",
   "id": "ed99fce0",
   "metadata": {},
   "source": [
    "All of the column is object data type."
   ]
  },
  {
   "cell_type": "code",
   "execution_count": 10,
   "id": "7f35567d",
   "metadata": {},
   "outputs": [
    {
     "data": {
      "text/plain": [
       "Unnamed: 0         0\n",
       "Flight             0\n",
       "Boarding City      0\n",
       "Destination        0\n",
       "Departure          0\n",
       "Arrival            0\n",
       "duration           0\n",
       "Stops            145\n",
       "Price              0\n",
       "dtype: int64"
      ]
     },
     "execution_count": 10,
     "metadata": {},
     "output_type": "execute_result"
    }
   ],
   "source": [
    "# checking null values\n",
    "df.isnull().sum()"
   ]
  },
  {
   "cell_type": "markdown",
   "id": "76954843",
   "metadata": {},
   "source": [
    "we have 145 null values in stops column."
   ]
  },
  {
   "cell_type": "code",
   "execution_count": 4,
   "id": "f5b4b136",
   "metadata": {},
   "outputs": [],
   "source": [
    "# Treating null values\n",
    "df['Stops'].fillna(\" Non Stop\", inplace =True)"
   ]
  },
  {
   "cell_type": "code",
   "execution_count": 5,
   "id": "57e22a9d",
   "metadata": {},
   "outputs": [],
   "source": [
    "# Delting unnecessary columns\n",
    "del df['Unnamed: 0']"
   ]
  },
  {
   "cell_type": "markdown",
   "id": "cf8f66e1",
   "metadata": {},
   "source": [
    "## visualization of data through count plot"
   ]
  },
  {
   "cell_type": "code",
   "execution_count": 6,
   "id": "d8ce3ef4",
   "metadata": {},
   "outputs": [
    {
     "name": "stdout",
     "output_type": "stream",
     "text": [
      "IndiGo       510\n",
      "Air India    494\n",
      "Vistara      481\n",
      "Go First     343\n",
      "Air Asia     160\n",
      "SpiceJet     112\n",
      "Name: Flight, dtype: int64\n"
     ]
    },
    {
     "data": {
      "image/png": "[encoded data removed]",
      "text/plain": [
       "<Figure size 432x288 with 1 Axes>"
      ]
     },
     "metadata": {
      "needs_background": "light"
     },
     "output_type": "display_data"
    }
   ],
   "source": [
    "ax=sns.countplot(df['Flight'])\n",
    "print(df['Flight'].value_counts())"
   ]
  },
  {
   "cell_type": "markdown",
   "id": "0ffe0710",
   "metadata": {},
   "source": [
    "There is not much difference between Indigo , Air India, Vistara and Go First, and there is not much diffrence between Air Asis and SpiceJet but they are few."
   ]
  },
  {
   "cell_type": "code",
   "execution_count": null,
   "id": "5e7de3b1",
   "metadata": {},
   "outputs": [],
   "source": []
  },
  {
   "cell_type": "code",
   "execution_count": 8,
   "id": "f2244d42",
   "metadata": {},
   "outputs": [
    {
     "name": "stdout",
     "output_type": "stream",
     "text": [
      "1 Stop       1871\n",
      " Non Stop     145\n",
      "2 Stop(s)      84\n",
      "Name: Stops, dtype: int64\n"
     ]
    },
    {
     "data": {
      "image/png": "[encoded data removed]",
      "text/plain": [
       "<Figure size 432x288 with 1 Axes>"
      ]
     },
     "metadata": {
      "needs_background": "light"
     },
     "output_type": "display_data"
    }
   ],
   "source": [
    "ax=sns.countplot(df['Stops'])\n",
    "print(df['Stops'].value_counts())"
   ]
  },
  {
   "cell_type": "markdown",
   "id": "122d5e4f",
   "metadata": {},
   "source": [
    "Flights having 1 stops are more."
   ]
  },
  {
   "cell_type": "markdown",
   "id": "8d8ff63f",
   "metadata": {},
   "source": [
    "##   Label Encoding to convert object column into numerical column for further analysis"
   ]
  },
  {
   "cell_type": "code",
   "execution_count": 11,
   "id": "65d7d43d",
   "metadata": {},
   "outputs": [],
   "source": [
    "\n",
    "from sklearn.preprocessing import LabelEncoder\n",
    "\n",
    "enc=LabelEncoder()\n",
    "for i in df.columns:\n",
    "    if df[i].dtypes=='object':\n",
    "        df[i]=enc.fit_transform(df[i])"
   ]
  },
  {
   "cell_type": "code",
   "execution_count": null,
   "id": "610b730d",
   "metadata": {},
   "outputs": [],
   "source": []
  },
  {
   "cell_type": "markdown",
   "id": "ef863c5e",
   "metadata": {},
   "source": [
    "## visualization of data through distribution plot"
   ]
  },
  {
   "cell_type": "code",
   "execution_count": 13,
   "id": "007e379d",
   "metadata": {},
   "outputs": [
    {
     "data": {
      "text/plain": [
       "<AxesSubplot:xlabel='Departure', ylabel='Density'>"
      ]
     },
     "execution_count": 13,
     "metadata": {},
     "output_type": "execute_result"
    },
    {
     "data": {
      "image/png": "[encoded data removed]",
      "text/plain": [
       "<Figure size 432x288 with 1 Axes>"
      ]
     },
     "metadata": {
      "needs_background": "light"
     },
     "output_type": "display_data"
    }
   ],
   "source": [
    "sns.distplot(df['Departure'])"
   ]
  },
  {
   "cell_type": "markdown",
   "id": "c16bb6f4",
   "metadata": {},
   "source": [
    "Departure column is looking somehow normal means there is not much difference between departure timing of the flight."
   ]
  },
  {
   "cell_type": "code",
   "execution_count": null,
   "id": "bafc47a8",
   "metadata": {},
   "outputs": [],
   "source": []
  },
  {
   "cell_type": "code",
   "execution_count": 14,
   "id": "7cda98ae",
   "metadata": {},
   "outputs": [
    {
     "data": {
      "text/plain": [
       "<AxesSubplot:xlabel='Arrival', ylabel='Density'>"
      ]
     },
     "execution_count": 14,
     "metadata": {},
     "output_type": "execute_result"
    },
    {
     "data": {
      "image/png": "[encoded data removed]",
      "text/plain": [
       "<Figure size 432x288 with 1 Axes>"
      ]
     },
     "metadata": {
      "needs_background": "light"
     },
     "output_type": "display_data"
    }
   ],
   "source": [
    "sns.distplot(df['Arrival'])"
   ]
  },
  {
   "cell_type": "markdown",
   "id": "52ff3608",
   "metadata": {},
   "source": [
    "Arrival timing of the flight is showing not much diffrence and looking normally distributed."
   ]
  },
  {
   "cell_type": "code",
   "execution_count": null,
   "id": "097be605",
   "metadata": {},
   "outputs": [],
   "source": []
  },
  {
   "cell_type": "code",
   "execution_count": 15,
   "id": "8505429f",
   "metadata": {},
   "outputs": [
    {
     "data": {
      "text/plain": [
       "<AxesSubplot:xlabel='duration', ylabel='Density'>"
      ]
     },
     "execution_count": 15,
     "metadata": {},
     "output_type": "execute_result"
    },
    {
     "data": {
      "image/png": "[encoded data removed]",
      "text/plain": [
       "<Figure size 432x288 with 1 Axes>"
      ]
     },
     "metadata": {
      "needs_background": "light"
     },
     "output_type": "display_data"
    }
   ],
   "source": [
    "sns.distplot(df['duration'])"
   ]
  },
  {
   "cell_type": "markdown",
   "id": "2cd6e3a5",
   "metadata": {},
   "source": [
    "distribution plot is showing that every flights are showing the different time duration."
   ]
  },
  {
   "cell_type": "code",
   "execution_count": null,
   "id": "2aa58f25",
   "metadata": {},
   "outputs": [],
   "source": []
  },
  {
   "cell_type": "code",
   "execution_count": 16,
   "id": "ff89c6b9",
   "metadata": {},
   "outputs": [
    {
     "data": {
      "text/plain": [
       "<AxesSubplot:xlabel='Price', ylabel='Density'>"
      ]
     },
     "execution_count": 16,
     "metadata": {},
     "output_type": "execute_result"
    },
    {
     "data": {
      "image/png": "[encoded data removed]",
      "text/plain": [
       "<Figure size 432x288 with 1 Axes>"
      ]
     },
     "metadata": {
      "needs_background": "light"
     },
     "output_type": "display_data"
    }
   ],
   "source": [
    "sns.distplot(df['Price'])"
   ]
  },
  {
   "cell_type": "markdown",
   "id": "42dbf636",
   "metadata": {},
   "source": [
    "Price is varrying starting from rupees 5000 approx(that i found in analysis)"
   ]
  },
  {
   "cell_type": "code",
   "execution_count": null,
   "id": "93b0dfac",
   "metadata": {},
   "outputs": [],
   "source": []
  },
  {
   "cell_type": "raw",
   "id": "be7d7294",
   "metadata": {},
   "source": [
    "In analysis I found that the Date of all the Flights are in between 20-octber-2021 to 25-october-2021, and all the flights are from New Delhi to Mumbai."
   ]
  },
  {
   "cell_type": "markdown",
   "id": "c4a0416a",
   "metadata": {},
   "source": [
    "## Checking Outliers"
   ]
  },
  {
   "cell_type": "code",
   "execution_count": 17,
   "id": "9a8a3fd9",
   "metadata": {},
   "outputs": [
    {
     "data": {
      "text/plain": [
       "Flight              AxesSubplot(0.125,0.657941;0.227941x0.222059)\n",
       "Boarding City    AxesSubplot(0.398529,0.657941;0.227941x0.222059)\n",
       "Destination      AxesSubplot(0.672059,0.657941;0.227941x0.222059)\n",
       "Departure           AxesSubplot(0.125,0.391471;0.227941x0.222059)\n",
       "Arrival          AxesSubplot(0.398529,0.391471;0.227941x0.222059)\n",
       "duration         AxesSubplot(0.672059,0.391471;0.227941x0.222059)\n",
       "Stops                  AxesSubplot(0.125,0.125;0.227941x0.222059)\n",
       "Price               AxesSubplot(0.398529,0.125;0.227941x0.222059)\n",
       "dtype: object"
      ]
     },
     "execution_count": 17,
     "metadata": {},
     "output_type": "execute_result"
    },
    {
     "data": {
      "image/png": "[encoded data removed]",
      "text/plain": [
       "<Figure size 1584x504 with 9 Axes>"
      ]
     },
     "metadata": {
      "needs_background": "light"
     },
     "output_type": "display_data"
    }
   ],
   "source": [
    "df.plot(kind='box', subplots=True, layout=(3,3), figsize=(22,7))"
   ]
  },
  {
   "cell_type": "markdown",
   "id": "4b7bb7e6",
   "metadata": {},
   "source": [
    "Few outliers are presnt in Stops columns but I will not treat it and also outliers are Present in the target column Price, we cant treat outliers on Traget columns."
   ]
  },
  {
   "cell_type": "code",
   "execution_count": null,
   "id": "a460b859",
   "metadata": {},
   "outputs": [],
   "source": []
  },
  {
   "cell_type": "markdown",
   "id": "c54d167b",
   "metadata": {},
   "source": [
    "## Statistical Summary"
   ]
  },
  {
   "cell_type": "code",
   "execution_count": 18,
   "id": "b4177e99",
   "metadata": {},
   "outputs": [
    {
     "data": {
      "text/html": [
       "<div>\n",
       "<style scoped>\n",
       "    .dataframe tbody tr th:only-of-type {\n",
       "        vertical-align: middle;\n",
       "    }\n",
       "\n",
       "    .dataframe tbody tr th {\n",
       "        vertical-align: top;\n",
       "    }\n",
       "\n",
       "    .dataframe thead th {\n",
       "        text-align: right;\n",
       "    }\n",
       "</style>\n",
       "<table border=\"1\" class=\"dataframe\">\n",
       "  <thead>\n",
       "    <tr style=\"text-align: right;\">\n",
       "      <th></th>\n",
       "      <th>Flight</th>\n",
       "      <th>Boarding City</th>\n",
       "      <th>Destination</th>\n",
       "      <th>Departure</th>\n",
       "      <th>Arrival</th>\n",
       "      <th>duration</th>\n",
       "      <th>Stops</th>\n",
       "      <th>Price</th>\n",
       "    </tr>\n",
       "  </thead>\n",
       "  <tbody>\n",
       "    <tr>\n",
       "      <th>count</th>\n",
       "      <td>2100.000000</td>\n",
       "      <td>2100.0</td>\n",
       "      <td>2100.000000</td>\n",
       "      <td>2100.000000</td>\n",
       "      <td>2100.000000</td>\n",
       "      <td>2100.000000</td>\n",
       "      <td>2100.000000</td>\n",
       "      <td>2100.000000</td>\n",
       "    </tr>\n",
       "    <tr>\n",
       "      <th>mean</th>\n",
       "      <td>2.649048</td>\n",
       "      <td>0.0</td>\n",
       "      <td>0.491905</td>\n",
       "      <td>40.534762</td>\n",
       "      <td>43.322857</td>\n",
       "      <td>41.350952</td>\n",
       "      <td>0.970952</td>\n",
       "      <td>19.346190</td>\n",
       "    </tr>\n",
       "    <tr>\n",
       "      <th>std</th>\n",
       "      <td>1.624073</td>\n",
       "      <td>0.0</td>\n",
       "      <td>0.500054</td>\n",
       "      <td>23.625436</td>\n",
       "      <td>25.200001</td>\n",
       "      <td>21.031798</td>\n",
       "      <td>0.329022</td>\n",
       "      <td>9.857375</td>\n",
       "    </tr>\n",
       "    <tr>\n",
       "      <th>min</th>\n",
       "      <td>0.000000</td>\n",
       "      <td>0.0</td>\n",
       "      <td>0.000000</td>\n",
       "      <td>0.000000</td>\n",
       "      <td>0.000000</td>\n",
       "      <td>0.000000</td>\n",
       "      <td>0.000000</td>\n",
       "      <td>0.000000</td>\n",
       "    </tr>\n",
       "    <tr>\n",
       "      <th>25%</th>\n",
       "      <td>1.000000</td>\n",
       "      <td>0.0</td>\n",
       "      <td>0.000000</td>\n",
       "      <td>18.000000</td>\n",
       "      <td>22.000000</td>\n",
       "      <td>30.000000</td>\n",
       "      <td>1.000000</td>\n",
       "      <td>16.000000</td>\n",
       "    </tr>\n",
       "    <tr>\n",
       "      <th>50%</th>\n",
       "      <td>3.000000</td>\n",
       "      <td>0.0</td>\n",
       "      <td>0.000000</td>\n",
       "      <td>42.000000</td>\n",
       "      <td>44.000000</td>\n",
       "      <td>38.000000</td>\n",
       "      <td>1.000000</td>\n",
       "      <td>17.000000</td>\n",
       "    </tr>\n",
       "    <tr>\n",
       "      <th>75%</th>\n",
       "      <td>4.000000</td>\n",
       "      <td>0.0</td>\n",
       "      <td>1.000000</td>\n",
       "      <td>62.000000</td>\n",
       "      <td>65.000000</td>\n",
       "      <td>57.000000</td>\n",
       "      <td>1.000000</td>\n",
       "      <td>25.000000</td>\n",
       "    </tr>\n",
       "    <tr>\n",
       "      <th>max</th>\n",
       "      <td>5.000000</td>\n",
       "      <td>0.0</td>\n",
       "      <td>1.000000</td>\n",
       "      <td>83.000000</td>\n",
       "      <td>87.000000</td>\n",
       "      <td>82.000000</td>\n",
       "      <td>2.000000</td>\n",
       "      <td>40.000000</td>\n",
       "    </tr>\n",
       "  </tbody>\n",
       "</table>\n",
       "</div>"
      ],
      "text/plain": [
       "            Flight  Boarding City  Destination    Departure      Arrival  \\\n",
       "count  2100.000000         2100.0  2100.000000  2100.000000  2100.000000   \n",
       "mean      2.649048            0.0     0.491905    40.534762    43.322857   \n",
       "std       1.624073            0.0     0.500054    23.625436    25.200001   \n",
       "min       0.000000            0.0     0.000000     0.000000     0.000000   \n",
       "25%       1.000000            0.0     0.000000    18.000000    22.000000   \n",
       "50%       3.000000            0.0     0.000000    42.000000    44.000000   \n",
       "75%       4.000000            0.0     1.000000    62.000000    65.000000   \n",
       "max       5.000000            0.0     1.000000    83.000000    87.000000   \n",
       "\n",
       "          duration        Stops        Price  \n",
       "count  2100.000000  2100.000000  2100.000000  \n",
       "mean     41.350952     0.970952    19.346190  \n",
       "std      21.031798     0.329022     9.857375  \n",
       "min       0.000000     0.000000     0.000000  \n",
       "25%      30.000000     1.000000    16.000000  \n",
       "50%      38.000000     1.000000    17.000000  \n",
       "75%      57.000000     1.000000    25.000000  \n",
       "max      82.000000     2.000000    40.000000  "
      ]
     },
     "execution_count": 18,
     "metadata": {},
     "output_type": "execute_result"
    }
   ],
   "source": [
    "df.describe()"
   ]
  },
  {
   "cell_type": "markdown",
   "id": "6ac6a420",
   "metadata": {},
   "source": [
    "Number of values are same in every column.\n",
    "\n",
    "Not much difference between mean and median in any of the column.\n",
    "\n",
    "Data is not much deviated.\n",
    "\n",
    "Not much difference between 75% and max in any of the column."
   ]
  },
  {
   "cell_type": "code",
   "execution_count": null,
   "id": "139b8f85",
   "metadata": {},
   "outputs": [],
   "source": []
  },
  {
   "cell_type": "markdown",
   "id": "adf24b4f",
   "metadata": {},
   "source": [
    "## Splitting the Dataset"
   ]
  },
  {
   "cell_type": "code",
   "execution_count": 20,
   "id": "d6bc3390",
   "metadata": {},
   "outputs": [],
   "source": [
    "x=df.drop('Price',axis=1)\n",
    "y=df['Price']"
   ]
  },
  {
   "cell_type": "code",
   "execution_count": 21,
   "id": "9d41c966",
   "metadata": {},
   "outputs": [
    {
     "data": {
      "text/plain": [
       "(2100, 7)"
      ]
     },
     "execution_count": 21,
     "metadata": {},
     "output_type": "execute_result"
    }
   ],
   "source": [
    "x.shape"
   ]
  },
  {
   "cell_type": "code",
   "execution_count": 22,
   "id": "721639d8",
   "metadata": {},
   "outputs": [
    {
     "data": {
      "text/plain": [
       "(2100,)"
      ]
     },
     "execution_count": 22,
     "metadata": {},
     "output_type": "execute_result"
    }
   ],
   "source": [
    "y.shape"
   ]
  },
  {
   "cell_type": "markdown",
   "id": "61f6246c",
   "metadata": {},
   "source": [
    "## Lets bring all features to a common scale"
   ]
  },
  {
   "cell_type": "code",
   "execution_count": 30,
   "id": "899f2ab1",
   "metadata": {},
   "outputs": [],
   "source": [
    "from sklearn.preprocessing import StandardScaler\n",
    "sc=StandardScaler()\n",
    "\n",
    "x=sc.fit_transform(df)\n",
    "\n",
    "x=pd.DataFrame(x,columns=df.columns)"
   ]
  },
  {
   "cell_type": "markdown",
   "id": "7668bc31",
   "metadata": {},
   "source": [
    "## Train Test Split"
   ]
  },
  {
   "cell_type": "code",
   "execution_count": 31,
   "id": "2668d2dc",
   "metadata": {},
   "outputs": [
    {
     "name": "stdout",
     "output_type": "stream",
     "text": [
      "(1680, 8)\n",
      "(420, 8)\n",
      "(1680,)\n",
      "(420,)\n"
     ]
    }
   ],
   "source": [
    "from sklearn.model_selection import train_test_split\n",
    "x_train, x_test, y_train, y_test=train_test_split(x,y,test_size=.20, random_state=43)\n",
    "print(x_train.shape)\n",
    "print(x_test.shape)\n",
    "print(y_train.shape)\n",
    "print(y_test.shape)"
   ]
  },
  {
   "cell_type": "markdown",
   "id": "a08b9305",
   "metadata": {},
   "source": [
    "## Model Building"
   ]
  },
  {
   "cell_type": "code",
   "execution_count": 32,
   "id": "a2cf7f05",
   "metadata": {},
   "outputs": [],
   "source": [
    "from sklearn.linear_model import LinearRegression, Lasso, Ridge, ElasticNet\n",
    "from sklearn.metrics import r2_score, mean_squared_error, mean_absolute_error\n",
    "from sklearn.model_selection import cross_val_score"
   ]
  },
  {
   "cell_type": "code",
   "execution_count": 33,
   "id": "b64dcabd",
   "metadata": {},
   "outputs": [
    {
     "name": "stdout",
     "output_type": "stream",
     "text": [
      "r2 score 1.0\n",
      "error\n",
      "mean absolute error 8.51805398702882e-15\n",
      "mean squared error 1.0824674211832703e-28\n",
      "root mean squared error 1.0404169458362691e-14\n"
     ]
    }
   ],
   "source": [
    "# for linear Regreesion\n",
    "lr=LinearRegression()\n",
    "lr.fit(x_train,y_train)\n",
    "pred_y=lr.predict(x_test)\n",
    "\n",
    "print('r2 score',r2_score(y_test,pred_y))\n",
    "\n",
    "print('error')\n",
    "print('mean absolute error',mean_absolute_error(y_test,pred_y))\n",
    "print('mean squared error',mean_squared_error(y_test,pred_y))\n",
    "print('root mean squared error',np.sqrt(mean_squared_error(y_test,pred_y)))"
   ]
  },
  {
   "cell_type": "code",
   "execution_count": 34,
   "id": "fcf54131",
   "metadata": {},
   "outputs": [
    {
     "name": "stdout",
     "output_type": "stream",
     "text": [
      "cv score 1.0\n"
     ]
    }
   ],
   "source": [
    "# cross validation Linear Regression\n",
    "score=cross_val_score(lr,x,y,cv=10)\n",
    "print('cv score',np.mean(score))"
   ]
  },
  {
   "cell_type": "markdown",
   "id": "acd0273a",
   "metadata": {},
   "source": [
    "Both r2 score and cv score is 100%."
   ]
  },
  {
   "cell_type": "code",
   "execution_count": null,
   "id": "e55519db",
   "metadata": {},
   "outputs": [],
   "source": []
  },
  {
   "cell_type": "code",
   "execution_count": 35,
   "id": "90b84a3f",
   "metadata": {},
   "outputs": [
    {
     "name": "stdout",
     "output_type": "stream",
     "text": [
      "r2 score 0.9896507987856674\n",
      "error\n",
      "mean absolute error 0.7716643245023824\n",
      "mean squared error 1.0077197922734296\n",
      "root mean squared error 1.00385247535354\n"
     ]
    }
   ],
   "source": [
    "# for Lasso\n",
    "\n",
    "ls=Lasso()\n",
    "\n",
    "ls.fit(x_train,y_train)\n",
    "pred_y=ls.predict(x_test)\n",
    "print('r2 score',r2_score(y_test,pred_y))\n",
    "\n",
    "print('error')\n",
    "print('mean absolute error', mean_absolute_error(y_test,pred_y))\n",
    "print('mean squared error', mean_squared_error(y_test,pred_y))\n",
    "\n",
    "print('root mean squared error', np.sqrt(mean_squared_error(y_test,pred_y)))\n"
   ]
  },
  {
   "cell_type": "code",
   "execution_count": 36,
   "id": "1361603b",
   "metadata": {},
   "outputs": [
    {
     "name": "stdout",
     "output_type": "stream",
     "text": [
      "cv score 0.989531075441511\n"
     ]
    }
   ],
   "source": [
    "# cross validation Lasso\n",
    "score=cross_val_score(ls,x,y,cv=10)\n",
    "print('cv score',np.mean(score))"
   ]
  },
  {
   "cell_type": "markdown",
   "id": "6cdd3c9f",
   "metadata": {},
   "source": [
    "Both r2 score and cv score is 98%."
   ]
  },
  {
   "cell_type": "code",
   "execution_count": null,
   "id": "bbdcf982",
   "metadata": {},
   "outputs": [],
   "source": []
  },
  {
   "cell_type": "code",
   "execution_count": 39,
   "id": "52e98da0",
   "metadata": {},
   "outputs": [
    {
     "name": "stdout",
     "output_type": "stream",
     "text": [
      "r2 score 0.9999996133335763\n",
      "error\n",
      "mean absolute error 0.004704199082138801\n",
      "mean squared error 3.7650384801730695e-05\n",
      "root mean squared error 0.006135990938856632\n"
     ]
    }
   ],
   "source": [
    "# for Ridge\n",
    "rd=Ridge()\n",
    "rd.fit(x_train,y_train)\n",
    "pred_y=rd.predict(x_test)\n",
    "print('r2 score',r2_score(y_test,pred_y))\n",
    "\n",
    "print('error')\n",
    "print('mean absolute error',mean_absolute_error(y_test,pred_y))\n",
    "print('mean squared error',mean_squared_error(y_test,pred_y))\n",
    "print('root mean squared error',np.sqrt(mean_squared_error(y_test,pred_y)))"
   ]
  },
  {
   "cell_type": "code",
   "execution_count": 40,
   "id": "e9666773",
   "metadata": {},
   "outputs": [
    {
     "name": "stdout",
     "output_type": "stream",
     "text": [
      "cv score 0.9999996776927356\n"
     ]
    }
   ],
   "source": [
    "# Cross validation Ridge\n",
    "score=cross_val_score(rd,x,y,cv=10)\n",
    "print('cv score',np.mean(score))"
   ]
  },
  {
   "cell_type": "markdown",
   "id": "7c9738ef",
   "metadata": {},
   "source": [
    "r2 score is 99% and cv score is 99%."
   ]
  },
  {
   "cell_type": "code",
   "execution_count": null,
   "id": "63c8cca5",
   "metadata": {},
   "outputs": [],
   "source": []
  },
  {
   "cell_type": "code",
   "execution_count": 41,
   "id": "2d2547df",
   "metadata": {},
   "outputs": [
    {
     "name": "stdout",
     "output_type": "stream",
     "text": [
      "r2 score 0.8675862507418696\n",
      "error\n",
      "mean absolute error 2.7792173447488633\n",
      "mean squared error 12.89335796387398\n",
      "root mean squared error 3.590732232271571\n"
     ]
    }
   ],
   "source": [
    "# for elasticnet\n",
    "en=ElasticNet()\n",
    "en.fit(x_train,y_train)\n",
    "pred_y=en.predict(x_test)\n",
    "print('r2 score',r2_score(y_test,pred_y))\n",
    "\n",
    "print('error')\n",
    "print('mean absolute error',mean_absolute_error(y_test,pred_y))\n",
    "print('mean squared error',mean_squared_error(y_test,pred_y))\n",
    "print('root mean squared error',np.sqrt(mean_squared_error(y_test,pred_y)))"
   ]
  },
  {
   "cell_type": "code",
   "execution_count": 42,
   "id": "2455279d",
   "metadata": {},
   "outputs": [
    {
     "name": "stdout",
     "output_type": "stream",
     "text": [
      "cv score 0.8643330730037695\n"
     ]
    }
   ],
   "source": [
    "# cross validation score\n",
    "score=cross_val_score(en,x,y,cv=10)\n",
    "print('cv score',np.mean(score))"
   ]
  },
  {
   "cell_type": "markdown",
   "id": "2a109cd7",
   "metadata": {},
   "source": [
    "Both r2 score and cv score is 86%."
   ]
  },
  {
   "cell_type": "markdown",
   "id": "9a5aebb0",
   "metadata": {},
   "source": [
    "## Hyper Parameter Tuning RandomForest Regreesor"
   ]
  },
  {
   "cell_type": "code",
   "execution_count": 43,
   "id": "9d84777a",
   "metadata": {},
   "outputs": [],
   "source": [
    "from sklearn.ensemble import RandomForestRegressor\n",
    "from sklearn.model_selection import GridSearchCV"
   ]
  },
  {
   "cell_type": "code",
   "execution_count": 44,
   "id": "07280c64",
   "metadata": {},
   "outputs": [
    {
     "name": "stdout",
     "output_type": "stream",
     "text": [
      "{'criterion': 'mse', 'max_depth': 5, 'max_features': 'auto'}\n"
     ]
    }
   ],
   "source": [
    "parameters={'criterion':['mse','mae'],'max_features':['auto','sqrt','log'],'max_depth':[0,5]}\n",
    "rf=RandomForestRegressor()\n",
    "clf=GridSearchCV(rf,parameters)\n",
    "clf.fit(x_train,y_train)\n",
    "print(clf.best_params_)"
   ]
  },
  {
   "cell_type": "code",
   "execution_count": null,
   "id": "05302a19",
   "metadata": {},
   "outputs": [],
   "source": []
  },
  {
   "cell_type": "code",
   "execution_count": 45,
   "id": "e86b013d",
   "metadata": {},
   "outputs": [
    {
     "name": "stdout",
     "output_type": "stream",
     "text": [
      "r2 score 99.96922109940547\n",
      "cv score 99.96708725481447\n"
     ]
    }
   ],
   "source": [
    "rf=RandomForestRegressor(criterion='mse',max_features='auto',max_depth=5)\n",
    "rf.fit(x_train,y_train)\n",
    "rf.score(x_train,y_train)\n",
    "pred_y=rf.predict(x_test)\n",
    "\n",
    "rfs=r2_score(y_test,pred_y)\n",
    "print('r2 score',rfs*100)\n",
    "\n",
    "rfscore=cross_val_score(rf,x,y,cv=5)\n",
    "rfc=rfscore.mean()\n",
    "print('cv score',rfc*100)"
   ]
  },
  {
   "cell_type": "code",
   "execution_count": null,
   "id": "fc7ae3e4",
   "metadata": {},
   "outputs": [],
   "source": []
  },
  {
   "cell_type": "markdown",
   "id": "e8d1fd9f",
   "metadata": {},
   "source": [
    "## Hyper Parameter Tuning For Lasso"
   ]
  },
  {
   "cell_type": "code",
   "execution_count": 47,
   "id": "f5203e7b",
   "metadata": {},
   "outputs": [
    {
     "name": "stdout",
     "output_type": "stream",
     "text": [
      "{'fit_intercept': 'bool'}\n"
     ]
    }
   ],
   "source": [
    "clf = ls\n",
    "parameters={'fit_intercept':['bool']}\n",
    "clf.fit([[0,0], [1, 1], [2, 2]], [0, 1, 2])\n",
    "clf=GridSearchCV(ls,parameters)\n",
    "clf.fit(x_train,y_train)\n",
    "\n",
    "print(clf.best_params_)"
   ]
  },
  {
   "cell_type": "code",
   "execution_count": 48,
   "id": "7ea81e10",
   "metadata": {},
   "outputs": [
    {
     "name": "stdout",
     "output_type": "stream",
     "text": [
      "r2 score: 98.96507987856674\n",
      "cross val score: 98.96951672769555\n"
     ]
    }
   ],
   "source": [
    "\n",
    "ls.fit(x_train,y_train)\n",
    "ls.score(x_train,y_train)\n",
    "pred_decision=ls.predict(x_test)\n",
    "\n",
    "lfs=r2_score(y_test,pred_decision)\n",
    "print('r2 score:', lfs*100)\n",
    "\n",
    "lsscore=cross_val_score(ls,x,y,cv=5)\n",
    "lsc=lsscore.mean()\n",
    "print('cross val score:',lsc*100)"
   ]
  },
  {
   "cell_type": "raw",
   "id": "8ca0b42d",
   "metadata": {},
   "source": [
    "I found that after Hyper Paremeter Tuning of the  Random Forest Regressor model it is overfiited then , I performed Hyper Parameter tuning for the lasso model.\n"
   ]
  },
  {
   "cell_type": "markdown",
   "id": "1f112c93",
   "metadata": {},
   "source": [
    "## Conclusion"
   ]
  },
  {
   "cell_type": "raw",
   "id": "5f9bd208",
   "metadata": {},
   "source": [
    "Lasso Regularization model is prdeicting 98.96 score , so for this Project Lasso is best suited model.\n"
   ]
  },
  {
   "cell_type": "markdown",
   "id": "f28fcac6",
   "metadata": {},
   "source": [
    "## saving the model"
   ]
  },
  {
   "cell_type": "code",
   "execution_count": 50,
   "id": "a7e36796",
   "metadata": {},
   "outputs": [],
   "source": [
    "import pickle\n",
    "filename='airlines_price_pred.pkl'\n",
    "pickle.dump(ls,open(filename,'wb'))"
   ]
  },
  {
   "cell_type": "code",
   "execution_count": null,
   "id": "3d7cafd4",
   "metadata": {},
   "outputs": [],
   "source": []
  },
  {
   "cell_type": "code",
   "execution_count": null,
   "id": "c10620d7",
   "metadata": {},
   "outputs": [],
   "source": []
  },
  {
   "cell_type": "code",
   "execution_count": 52,
   "id": "81cb6dfd",
   "metadata": {},
   "outputs": [
    {
     "name": "stdout",
     "output_type": "stream",
     "text": [
      "0.9896507987856674\n"
     ]
    }
   ],
   "source": [
    "loaded_model=pickle.load(open('airlines_price_pred.pkl','rb'))\n",
    "result=loaded_model.score(x_test,y_test)\n",
    "print(result)"
   ]
  },
  {
   "cell_type": "code",
   "execution_count": 53,
   "id": "9487203b",
   "metadata": {},
   "outputs": [
    {
     "data": {
      "text/html": [
       "<div>\n",
       "<style scoped>\n",
       "    .dataframe tbody tr th:only-of-type {\n",
       "        vertical-align: middle;\n",
       "    }\n",
       "\n",
       "    .dataframe tbody tr th {\n",
       "        vertical-align: top;\n",
       "    }\n",
       "\n",
       "    .dataframe thead th {\n",
       "        text-align: right;\n",
       "    }\n",
       "</style>\n",
       "<table border=\"1\" class=\"dataframe\">\n",
       "  <thead>\n",
       "    <tr style=\"text-align: right;\">\n",
       "      <th></th>\n",
       "      <th>0</th>\n",
       "      <th>1</th>\n",
       "      <th>2</th>\n",
       "      <th>3</th>\n",
       "      <th>4</th>\n",
       "      <th>5</th>\n",
       "      <th>6</th>\n",
       "      <th>7</th>\n",
       "      <th>8</th>\n",
       "      <th>9</th>\n",
       "      <th>...</th>\n",
       "      <th>410</th>\n",
       "      <th>411</th>\n",
       "      <th>412</th>\n",
       "      <th>413</th>\n",
       "      <th>414</th>\n",
       "      <th>415</th>\n",
       "      <th>416</th>\n",
       "      <th>417</th>\n",
       "      <th>418</th>\n",
       "      <th>419</th>\n",
       "    </tr>\n",
       "  </thead>\n",
       "  <tbody>\n",
       "    <tr>\n",
       "      <th>predicted</th>\n",
       "      <td>37.013812</td>\n",
       "      <td>16.350433</td>\n",
       "      <td>17.24884</td>\n",
       "      <td>21.740879</td>\n",
       "      <td>17.24884</td>\n",
       "      <td>16.350433</td>\n",
       "      <td>16.350433</td>\n",
       "      <td>5.569539</td>\n",
       "      <td>32.521773</td>\n",
       "      <td>27.131326</td>\n",
       "      <td>...</td>\n",
       "      <td>1.975907</td>\n",
       "      <td>2.874315</td>\n",
       "      <td>10.959986</td>\n",
       "      <td>7.366354</td>\n",
       "      <td>17.24884</td>\n",
       "      <td>17.24884</td>\n",
       "      <td>3.772723</td>\n",
       "      <td>16.350433</td>\n",
       "      <td>35.216997</td>\n",
       "      <td>35.216997</td>\n",
       "    </tr>\n",
       "    <tr>\n",
       "      <th>original</th>\n",
       "      <td>37.013812</td>\n",
       "      <td>16.350433</td>\n",
       "      <td>17.24884</td>\n",
       "      <td>21.740879</td>\n",
       "      <td>17.24884</td>\n",
       "      <td>16.350433</td>\n",
       "      <td>16.350433</td>\n",
       "      <td>5.569539</td>\n",
       "      <td>32.521773</td>\n",
       "      <td>27.131326</td>\n",
       "      <td>...</td>\n",
       "      <td>1.975907</td>\n",
       "      <td>2.874315</td>\n",
       "      <td>10.959986</td>\n",
       "      <td>7.366354</td>\n",
       "      <td>17.24884</td>\n",
       "      <td>17.24884</td>\n",
       "      <td>3.772723</td>\n",
       "      <td>16.350433</td>\n",
       "      <td>35.216997</td>\n",
       "      <td>35.216997</td>\n",
       "    </tr>\n",
       "  </tbody>\n",
       "</table>\n",
       "<p>2 rows × 420 columns</p>\n",
       "</div>"
      ],
      "text/plain": [
       "                 0          1         2          3         4          5    \\\n",
       "predicted  37.013812  16.350433  17.24884  21.740879  17.24884  16.350433   \n",
       "original   37.013812  16.350433  17.24884  21.740879  17.24884  16.350433   \n",
       "\n",
       "                 6         7          8          9    ...       410       411  \\\n",
       "predicted  16.350433  5.569539  32.521773  27.131326  ...  1.975907  2.874315   \n",
       "original   16.350433  5.569539  32.521773  27.131326  ...  1.975907  2.874315   \n",
       "\n",
       "                 412       413       414       415       416        417  \\\n",
       "predicted  10.959986  7.366354  17.24884  17.24884  3.772723  16.350433   \n",
       "original   10.959986  7.366354  17.24884  17.24884  3.772723  16.350433   \n",
       "\n",
       "                 418        419  \n",
       "predicted  35.216997  35.216997  \n",
       "original   35.216997  35.216997  \n",
       "\n",
       "[2 rows x 420 columns]"
      ]
     },
     "execution_count": 53,
     "metadata": {},
     "output_type": "execute_result"
    }
   ],
   "source": [
    "conclusion=pd.DataFrame([loaded_model.predict(x_test)[:],pred_decision[:]],index=['predicted','original'])\n",
    "conclusion"
   ]
  },
  {
   "cell_type": "raw",
   "id": "2b63075a",
   "metadata": {},
   "source": [
    "As our conclusion we proclaim that, after checking r2 score, cross validation, Ensemble Techniques, I declare Lasso is best suited model for our purpose of predicting Flight price."
   ]
  },
  {
   "cell_type": "code",
   "execution_count": null,
   "id": "f6b736e9",
   "metadata": {},
   "outputs": [],
   "source": []
  }
 ],
 "metadata": {
  "kernelspec": {
   "display_name": "Python 3",
   "language": "python",
   "name": "python3"
  },
  "language_info": {
   "codemirror_mode": {
    "name": "ipython",
    "version": 3
   },
   "file_extension": ".py",
   "mimetype": "text/x-python",
   "name": "python",
   "nbconvert_exporter": "python",
   "pygments_lexer": "ipython3",
   "version": "3.8.10"
  }
 },
 "nbformat": 4,
 "nbformat_minor": 5
}
