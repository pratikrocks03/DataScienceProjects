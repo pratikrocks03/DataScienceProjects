{
 "cells": [
  {
   "cell_type": "markdown",
   "id": "828ceda1",
   "metadata": {},
   "source": [
    "IMPORTING NECESSARY LIBRARIES"
   ]
  },
  {
   "cell_type": "code",
   "execution_count": 1,
   "id": "8cbe71f1",
   "metadata": {},
   "outputs": [],
   "source": [
    "import pandas as pd\n",
    "import numpy as np\n",
    "import matplotlib.pyplot as plt\n",
    "import seaborn as sns\n",
    "import warnings\n",
    "warnings.filterwarnings('ignore')"
   ]
  },
  {
   "cell_type": "markdown",
   "id": "f127c9bc",
   "metadata": {},
   "source": [
    "LOADING THE DATASET"
   ]
  },
  {
   "cell_type": "code",
   "execution_count": 2,
   "id": "cef3263f",
   "metadata": {},
   "outputs": [
    {
     "data": {
      "text/html": [
       "<div>\n",
       "<style scoped>\n",
       "    .dataframe tbody tr th:only-of-type {\n",
       "        vertical-align: middle;\n",
       "    }\n",
       "\n",
       "    .dataframe tbody tr th {\n",
       "        vertical-align: top;\n",
       "    }\n",
       "\n",
       "    .dataframe thead th {\n",
       "        text-align: right;\n",
       "    }\n",
       "</style>\n",
       "<table border=\"1\" class=\"dataframe\">\n",
       "  <thead>\n",
       "    <tr style=\"text-align: right;\">\n",
       "      <th></th>\n",
       "      <th>Unnamed: 0</th>\n",
       "      <th>TV</th>\n",
       "      <th>radio</th>\n",
       "      <th>newspaper</th>\n",
       "      <th>sales</th>\n",
       "    </tr>\n",
       "  </thead>\n",
       "  <tbody>\n",
       "    <tr>\n",
       "      <th>0</th>\n",
       "      <td>1</td>\n",
       "      <td>230.1</td>\n",
       "      <td>37.8</td>\n",
       "      <td>69.2</td>\n",
       "      <td>22.1</td>\n",
       "    </tr>\n",
       "    <tr>\n",
       "      <th>1</th>\n",
       "      <td>2</td>\n",
       "      <td>44.5</td>\n",
       "      <td>39.3</td>\n",
       "      <td>45.1</td>\n",
       "      <td>10.4</td>\n",
       "    </tr>\n",
       "    <tr>\n",
       "      <th>2</th>\n",
       "      <td>3</td>\n",
       "      <td>17.2</td>\n",
       "      <td>45.9</td>\n",
       "      <td>69.3</td>\n",
       "      <td>9.3</td>\n",
       "    </tr>\n",
       "    <tr>\n",
       "      <th>3</th>\n",
       "      <td>4</td>\n",
       "      <td>151.5</td>\n",
       "      <td>41.3</td>\n",
       "      <td>58.5</td>\n",
       "      <td>18.5</td>\n",
       "    </tr>\n",
       "    <tr>\n",
       "      <th>4</th>\n",
       "      <td>5</td>\n",
       "      <td>180.8</td>\n",
       "      <td>10.8</td>\n",
       "      <td>58.4</td>\n",
       "      <td>12.9</td>\n",
       "    </tr>\n",
       "  </tbody>\n",
       "</table>\n",
       "</div>"
      ],
      "text/plain": [
       "   Unnamed: 0     TV  radio  newspaper  sales\n",
       "0           1  230.1   37.8       69.2   22.1\n",
       "1           2   44.5   39.3       45.1   10.4\n",
       "2           3   17.2   45.9       69.3    9.3\n",
       "3           4  151.5   41.3       58.5   18.5\n",
       "4           5  180.8   10.8       58.4   12.9"
      ]
     },
     "execution_count": 2,
     "metadata": {},
     "output_type": "execute_result"
    }
   ],
   "source": [
    "df=pd.read_csv('advertisement.csv')\n",
    "df.head()"
   ]
  },
  {
   "cell_type": "markdown",
   "id": "dc04cb39",
   "metadata": {},
   "source": [
    "top 5 heads of the datset"
   ]
  },
  {
   "cell_type": "code",
   "execution_count": 3,
   "id": "15f5444d",
   "metadata": {},
   "outputs": [
    {
     "data": {
      "text/plain": [
       "(200, 5)"
      ]
     },
     "execution_count": 3,
     "metadata": {},
     "output_type": "execute_result"
    }
   ],
   "source": [
    "df.shape\n"
   ]
  },
  {
   "cell_type": "markdown",
   "id": "70744628",
   "metadata": {},
   "source": [
    "we have 200 rows and 5 columns in overall dataset"
   ]
  },
  {
   "cell_type": "code",
   "execution_count": 4,
   "id": "5570ec0f",
   "metadata": {},
   "outputs": [
    {
     "data": {
      "text/plain": [
       "Unnamed: 0      int64\n",
       "TV            float64\n",
       "radio         float64\n",
       "newspaper     float64\n",
       "sales         float64\n",
       "dtype: object"
      ]
     },
     "execution_count": 4,
     "metadata": {},
     "output_type": "execute_result"
    }
   ],
   "source": [
    "df.dtypes"
   ]
  },
  {
   "cell_type": "markdown",
   "id": "7b4c96f5",
   "metadata": {},
   "source": [
    "In 5 columns 1 column is for integer datatype and left other columns is for float datatype."
   ]
  },
  {
   "cell_type": "code",
   "execution_count": 5,
   "id": "deafb30f",
   "metadata": {},
   "outputs": [
    {
     "data": {
      "text/plain": [
       "<bound method DataFrame.info of      Unnamed: 0     TV  radio  newspaper  sales\n",
       "0             1  230.1   37.8       69.2   22.1\n",
       "1             2   44.5   39.3       45.1   10.4\n",
       "2             3   17.2   45.9       69.3    9.3\n",
       "3             4  151.5   41.3       58.5   18.5\n",
       "4             5  180.8   10.8       58.4   12.9\n",
       "..          ...    ...    ...        ...    ...\n",
       "195         196   38.2    3.7       13.8    7.6\n",
       "196         197   94.2    4.9        8.1    9.7\n",
       "197         198  177.0    9.3        6.4   12.8\n",
       "198         199  283.6   42.0       66.2   25.5\n",
       "199         200  232.1    8.6        8.7   13.4\n",
       "\n",
       "[200 rows x 5 columns]>"
      ]
     },
     "execution_count": 5,
     "metadata": {},
     "output_type": "execute_result"
    }
   ],
   "source": [
    "df.info"
   ]
  },
  {
   "cell_type": "markdown",
   "id": "9d0c03cf",
   "metadata": {},
   "source": [
    "overall information about the dataset"
   ]
  },
  {
   "cell_type": "code",
   "execution_count": 6,
   "id": "9d935a1c",
   "metadata": {},
   "outputs": [
    {
     "name": "stdout",
     "output_type": "stream",
     "text": [
      "<class 'pandas.core.frame.DataFrame'>\n",
      "RangeIndex: 200 entries, 0 to 199\n",
      "Data columns (total 5 columns):\n",
      " #   Column      Non-Null Count  Dtype  \n",
      "---  ------      --------------  -----  \n",
      " 0   Unnamed: 0  200 non-null    int64  \n",
      " 1   TV          200 non-null    float64\n",
      " 2   radio       200 non-null    float64\n",
      " 3   newspaper   200 non-null    float64\n",
      " 4   sales       200 non-null    float64\n",
      "dtypes: float64(4), int64(1)\n",
      "memory usage: 7.9 KB\n"
     ]
    }
   ],
   "source": [
    "df.info()"
   ]
  },
  {
   "cell_type": "markdown",
   "id": "f12e10d0",
   "metadata": {},
   "source": [
    "There is no null value in any  of the columns 4 columns is for float type and 1 column is for integer type data."
   ]
  },
  {
   "cell_type": "code",
   "execution_count": null,
   "id": "3d0d6c5f",
   "metadata": {},
   "outputs": [],
   "source": []
  },
  {
   "cell_type": "markdown",
   "id": "23784452",
   "metadata": {},
   "source": [
    "STATISTICAL SUMMARY"
   ]
  },
  {
   "cell_type": "code",
   "execution_count": 7,
   "id": "c02b72ad",
   "metadata": {},
   "outputs": [
    {
     "data": {
      "text/html": [
       "<div>\n",
       "<style scoped>\n",
       "    .dataframe tbody tr th:only-of-type {\n",
       "        vertical-align: middle;\n",
       "    }\n",
       "\n",
       "    .dataframe tbody tr th {\n",
       "        vertical-align: top;\n",
       "    }\n",
       "\n",
       "    .dataframe thead th {\n",
       "        text-align: right;\n",
       "    }\n",
       "</style>\n",
       "<table border=\"1\" class=\"dataframe\">\n",
       "  <thead>\n",
       "    <tr style=\"text-align: right;\">\n",
       "      <th></th>\n",
       "      <th>Unnamed: 0</th>\n",
       "      <th>TV</th>\n",
       "      <th>radio</th>\n",
       "      <th>newspaper</th>\n",
       "      <th>sales</th>\n",
       "    </tr>\n",
       "  </thead>\n",
       "  <tbody>\n",
       "    <tr>\n",
       "      <th>count</th>\n",
       "      <td>200.000000</td>\n",
       "      <td>200.000000</td>\n",
       "      <td>200.000000</td>\n",
       "      <td>200.000000</td>\n",
       "      <td>200.000000</td>\n",
       "    </tr>\n",
       "    <tr>\n",
       "      <th>mean</th>\n",
       "      <td>100.500000</td>\n",
       "      <td>147.042500</td>\n",
       "      <td>23.264000</td>\n",
       "      <td>30.554000</td>\n",
       "      <td>14.022500</td>\n",
       "    </tr>\n",
       "    <tr>\n",
       "      <th>std</th>\n",
       "      <td>57.879185</td>\n",
       "      <td>85.854236</td>\n",
       "      <td>14.846809</td>\n",
       "      <td>21.778621</td>\n",
       "      <td>5.217457</td>\n",
       "    </tr>\n",
       "    <tr>\n",
       "      <th>min</th>\n",
       "      <td>1.000000</td>\n",
       "      <td>0.700000</td>\n",
       "      <td>0.000000</td>\n",
       "      <td>0.300000</td>\n",
       "      <td>1.600000</td>\n",
       "    </tr>\n",
       "    <tr>\n",
       "      <th>25%</th>\n",
       "      <td>50.750000</td>\n",
       "      <td>74.375000</td>\n",
       "      <td>9.975000</td>\n",
       "      <td>12.750000</td>\n",
       "      <td>10.375000</td>\n",
       "    </tr>\n",
       "    <tr>\n",
       "      <th>50%</th>\n",
       "      <td>100.500000</td>\n",
       "      <td>149.750000</td>\n",
       "      <td>22.900000</td>\n",
       "      <td>25.750000</td>\n",
       "      <td>12.900000</td>\n",
       "    </tr>\n",
       "    <tr>\n",
       "      <th>75%</th>\n",
       "      <td>150.250000</td>\n",
       "      <td>218.825000</td>\n",
       "      <td>36.525000</td>\n",
       "      <td>45.100000</td>\n",
       "      <td>17.400000</td>\n",
       "    </tr>\n",
       "    <tr>\n",
       "      <th>max</th>\n",
       "      <td>200.000000</td>\n",
       "      <td>296.400000</td>\n",
       "      <td>49.600000</td>\n",
       "      <td>114.000000</td>\n",
       "      <td>27.000000</td>\n",
       "    </tr>\n",
       "  </tbody>\n",
       "</table>\n",
       "</div>"
      ],
      "text/plain": [
       "       Unnamed: 0          TV       radio   newspaper       sales\n",
       "count  200.000000  200.000000  200.000000  200.000000  200.000000\n",
       "mean   100.500000  147.042500   23.264000   30.554000   14.022500\n",
       "std     57.879185   85.854236   14.846809   21.778621    5.217457\n",
       "min      1.000000    0.700000    0.000000    0.300000    1.600000\n",
       "25%     50.750000   74.375000    9.975000   12.750000   10.375000\n",
       "50%    100.500000  149.750000   22.900000   25.750000   12.900000\n",
       "75%    150.250000  218.825000   36.525000   45.100000   17.400000\n",
       "max    200.000000  296.400000   49.600000  114.000000   27.000000"
      ]
     },
     "execution_count": 7,
     "metadata": {},
     "output_type": "execute_result"
    }
   ],
   "source": [
    "df.describe()"
   ]
  },
  {
   "cell_type": "markdown",
   "id": "8c0541a9",
   "metadata": {},
   "source": [
    "The  mean and median is almost equal in every columns.\n",
    "\n",
    "There is difference between 75% and max in every columns."
   ]
  },
  {
   "cell_type": "code",
   "execution_count": null,
   "id": "6b49e400",
   "metadata": {},
   "outputs": [],
   "source": []
  },
  {
   "cell_type": "markdown",
   "id": "cf84932d",
   "metadata": {},
   "source": [
    "PREPROCESSING THE DATASET"
   ]
  },
  {
   "cell_type": "code",
   "execution_count": 8,
   "id": "15d3a6e6",
   "metadata": {},
   "outputs": [
    {
     "data": {
      "text/plain": [
       "Unnamed: 0    0\n",
       "TV            0\n",
       "radio         0\n",
       "newspaper     0\n",
       "sales         0\n",
       "dtype: int64"
      ]
     },
     "execution_count": 8,
     "metadata": {},
     "output_type": "execute_result"
    }
   ],
   "source": [
    "# Checking null values\n",
    "df.isnull().sum()"
   ]
  },
  {
   "cell_type": "markdown",
   "id": "68e93578",
   "metadata": {},
   "source": [
    "no null-missing values in the dataset\n"
   ]
  },
  {
   "cell_type": "code",
   "execution_count": 9,
   "id": "15a8b978",
   "metadata": {},
   "outputs": [
    {
     "data": {
      "text/plain": [
       "<AxesSubplot:>"
      ]
     },
     "execution_count": 9,
     "metadata": {},
     "output_type": "execute_result"
    },
    {
     "data": {
      "image/png": "[encoded data removed]",
      "text/plain": [
       "<Figure size 432x288 with 2 Axes>"
      ]
     },
     "metadata": {
      "needs_background": "light"
     },
     "output_type": "display_data"
    }
   ],
   "source": [
    "# Checking null value through heatmap\n",
    "sns.heatmap(df.isnull())"
   ]
  },
  {
   "cell_type": "markdown",
   "id": "076c9fd6",
   "metadata": {},
   "source": [
    "no null-missing values in the dataset"
   ]
  },
  {
   "cell_type": "code",
   "execution_count": null,
   "id": "3f626867",
   "metadata": {},
   "outputs": [],
   "source": []
  },
  {
   "cell_type": "markdown",
   "id": "f5fbd5e3",
   "metadata": {},
   "source": [
    "EDA \n",
    "\n",
    "CHECKING OUTLIERS"
   ]
  },
  {
   "cell_type": "code",
   "execution_count": 10,
   "id": "dff571cc",
   "metadata": {},
   "outputs": [
    {
     "data": {
      "text/plain": [
       "Unnamed: 0       AxesSubplot(0.125,0.536818;0.227941x0.343182)\n",
       "TV            AxesSubplot(0.398529,0.536818;0.227941x0.343182)\n",
       "radio         AxesSubplot(0.672059,0.536818;0.227941x0.343182)\n",
       "newspaper           AxesSubplot(0.125,0.125;0.227941x0.343182)\n",
       "sales            AxesSubplot(0.398529,0.125;0.227941x0.343182)\n",
       "dtype: object"
      ]
     },
     "execution_count": 10,
     "metadata": {},
     "output_type": "execute_result"
    },
    {
     "data": {
      "image/png": "[encoded data removed]",
      "text/plain": [
       "<Figure size 432x288 with 6 Axes>"
      ]
     },
     "metadata": {
      "needs_background": "light"
     },
     "output_type": "display_data"
    }
   ],
   "source": [
    "df.plot(kind='box', subplots=True, layout=(2,3))"
   ]
  },
  {
   "cell_type": "markdown",
   "id": "823cbf19",
   "metadata": {},
   "source": [
    "Apart from the newspaper columns no outliers are present in any of the columns,\n",
    "but in newspaper columns outlier is not very far so removal of this outlier is not needed."
   ]
  },
  {
   "cell_type": "code",
   "execution_count": null,
   "id": "49a37b6a",
   "metadata": {},
   "outputs": [],
   "source": []
  },
  {
   "cell_type": "markdown",
   "id": "eaadaeb4",
   "metadata": {},
   "source": [
    "CHECKING SKEWNESS"
   ]
  },
  {
   "cell_type": "code",
   "execution_count": 11,
   "id": "376460db",
   "metadata": {},
   "outputs": [
    {
     "data": {
      "text/plain": [
       "Unnamed: 0    0.000000\n",
       "TV           -0.069853\n",
       "radio         0.094175\n",
       "newspaper     0.894720\n",
       "sales         0.407571\n",
       "dtype: float64"
      ]
     },
     "execution_count": 11,
     "metadata": {},
     "output_type": "execute_result"
    }
   ],
   "source": [
    "df.skew()"
   ]
  },
  {
   "cell_type": "markdown",
   "id": "5639bcb9",
   "metadata": {},
   "source": [
    "data is in range between +5 and -5 are not skewed \n",
    ",there is very little skewness is present in the newspaper column."
   ]
  },
  {
   "cell_type": "code",
   "execution_count": null,
   "id": "29b3558a",
   "metadata": {},
   "outputs": [],
   "source": [
    "\n"
   ]
  },
  {
   "cell_type": "markdown",
   "id": "77a8477e",
   "metadata": {},
   "source": [
    "DISTRIBUTION OF THE DATSET"
   ]
  },
  {
   "cell_type": "code",
   "execution_count": 12,
   "id": "62015c52",
   "metadata": {},
   "outputs": [
    {
     "data": {
      "text/plain": [
       "<AxesSubplot:xlabel='TV', ylabel='Density'>"
      ]
     },
     "execution_count": 12,
     "metadata": {},
     "output_type": "execute_result"
    },
    {
     "data": {
      "image/png": "[encoded data removed]",
      "text/plain": [
       "<Figure size 432x288 with 1 Axes>"
      ]
     },
     "metadata": {
      "needs_background": "light"
     },
     "output_type": "display_data"
    }
   ],
   "source": [
    "sns.distplot(df['TV'])"
   ]
  },
  {
   "cell_type": "code",
   "execution_count": 13,
   "id": "a11bc7fa",
   "metadata": {},
   "outputs": [
    {
     "data": {
      "text/plain": [
       "<AxesSubplot:xlabel='radio', ylabel='Density'>"
      ]
     },
     "execution_count": 13,
     "metadata": {},
     "output_type": "execute_result"
    },
    {
     "data": {
      "image/png": "[encoded data removed]",
      "text/plain": [
       "<Figure size 432x288 with 1 Axes>"
      ]
     },
     "metadata": {
      "needs_background": "light"
     },
     "output_type": "display_data"
    }
   ],
   "source": [
    "sns.distplot(df['radio'])"
   ]
  },
  {
   "cell_type": "code",
   "execution_count": 14,
   "id": "d00d8be6",
   "metadata": {},
   "outputs": [
    {
     "data": {
      "text/plain": [
       "<AxesSubplot:xlabel='newspaper', ylabel='Density'>"
      ]
     },
     "execution_count": 14,
     "metadata": {},
     "output_type": "execute_result"
    },
    {
     "data": {
      "image/png": "[encoded data removed]",
      "text/plain": [
       "<Figure size 432x288 with 1 Axes>"
      ]
     },
     "metadata": {
      "needs_background": "light"
     },
     "output_type": "display_data"
    }
   ],
   "source": [
    "sns.distplot(df['newspaper'])"
   ]
  },
  {
   "cell_type": "markdown",
   "id": "95dd43ad",
   "metadata": {},
   "source": [
    "distribution plot is showing little skewness in ewspaper column"
   ]
  },
  {
   "cell_type": "markdown",
   "id": "5450a0d5",
   "metadata": {},
   "source": [
    "CORRELATION MATRIX"
   ]
  },
  {
   "cell_type": "code",
   "execution_count": 16,
   "id": "720dd16f",
   "metadata": {},
   "outputs": [
    {
     "data": {
      "text/html": [
       "<div>\n",
       "<style scoped>\n",
       "    .dataframe tbody tr th:only-of-type {\n",
       "        vertical-align: middle;\n",
       "    }\n",
       "\n",
       "    .dataframe tbody tr th {\n",
       "        vertical-align: top;\n",
       "    }\n",
       "\n",
       "    .dataframe thead th {\n",
       "        text-align: right;\n",
       "    }\n",
       "</style>\n",
       "<table border=\"1\" class=\"dataframe\">\n",
       "  <thead>\n",
       "    <tr style=\"text-align: right;\">\n",
       "      <th></th>\n",
       "      <th>Unnamed: 0</th>\n",
       "      <th>TV</th>\n",
       "      <th>radio</th>\n",
       "      <th>newspaper</th>\n",
       "      <th>sales</th>\n",
       "    </tr>\n",
       "  </thead>\n",
       "  <tbody>\n",
       "    <tr>\n",
       "      <th>Unnamed: 0</th>\n",
       "      <td>1.000000</td>\n",
       "      <td>0.017715</td>\n",
       "      <td>-0.110680</td>\n",
       "      <td>-0.154944</td>\n",
       "      <td>-0.051616</td>\n",
       "    </tr>\n",
       "    <tr>\n",
       "      <th>TV</th>\n",
       "      <td>0.017715</td>\n",
       "      <td>1.000000</td>\n",
       "      <td>0.054809</td>\n",
       "      <td>0.056648</td>\n",
       "      <td>0.782224</td>\n",
       "    </tr>\n",
       "    <tr>\n",
       "      <th>radio</th>\n",
       "      <td>-0.110680</td>\n",
       "      <td>0.054809</td>\n",
       "      <td>1.000000</td>\n",
       "      <td>0.354104</td>\n",
       "      <td>0.576223</td>\n",
       "    </tr>\n",
       "    <tr>\n",
       "      <th>newspaper</th>\n",
       "      <td>-0.154944</td>\n",
       "      <td>0.056648</td>\n",
       "      <td>0.354104</td>\n",
       "      <td>1.000000</td>\n",
       "      <td>0.228299</td>\n",
       "    </tr>\n",
       "    <tr>\n",
       "      <th>sales</th>\n",
       "      <td>-0.051616</td>\n",
       "      <td>0.782224</td>\n",
       "      <td>0.576223</td>\n",
       "      <td>0.228299</td>\n",
       "      <td>1.000000</td>\n",
       "    </tr>\n",
       "  </tbody>\n",
       "</table>\n",
       "</div>"
      ],
      "text/plain": [
       "            Unnamed: 0        TV     radio  newspaper     sales\n",
       "Unnamed: 0    1.000000  0.017715 -0.110680  -0.154944 -0.051616\n",
       "TV            0.017715  1.000000  0.054809   0.056648  0.782224\n",
       "radio        -0.110680  0.054809  1.000000   0.354104  0.576223\n",
       "newspaper    -0.154944  0.056648  0.354104   1.000000  0.228299\n",
       "sales        -0.051616  0.782224  0.576223   0.228299  1.000000"
      ]
     },
     "execution_count": 16,
     "metadata": {},
     "output_type": "execute_result"
    }
   ],
   "source": [
    "cor=df.corr()\n",
    "cor"
   ]
  },
  {
   "cell_type": "markdown",
   "id": "3fad7f65",
   "metadata": {},
   "source": [
    "TV is positively correlated with sales"
   ]
  },
  {
   "cell_type": "code",
   "execution_count": 17,
   "id": "523c3c1e",
   "metadata": {},
   "outputs": [
    {
     "data": {
      "text/plain": [
       "(array([0.5, 1.5, 2.5, 3.5, 4.5]),\n",
       " [Text(0, 0.5, 'Unnamed: 0'),\n",
       "  Text(0, 1.5, 'TV'),\n",
       "  Text(0, 2.5, 'radio'),\n",
       "  Text(0, 3.5, 'newspaper'),\n",
       "  Text(0, 4.5, 'sales')])"
      ]
     },
     "execution_count": 17,
     "metadata": {},
     "output_type": "execute_result"
    },
    {
     "data": {
      "image/png": "[encoded data removed]",
      "text/plain": [
       "<Figure size 1008x864 with 2 Axes>"
      ]
     },
     "metadata": {
      "needs_background": "light"
     },
     "output_type": "display_data"
    }
   ],
   "source": [
    "plt.figure(figsize=(14,12))\n",
    "sns.heatmap(df.corr(),linewidths=.1,cmap=\"Purples\", annot=True, annot_kws={\"size\": 7})\n",
    "plt.yticks(rotation=0)"
   ]
  },
  {
   "cell_type": "markdown",
   "id": "2bcd6576",
   "metadata": {},
   "source": [
    "heatmap is showing very positive correlation from sales column with tv and radio and some correlation with newspaper also.\n",
    "\n",
    "dark shades is indicating positive correlations"
   ]
  },
  {
   "cell_type": "code",
   "execution_count": null,
   "id": "2543d5af",
   "metadata": {},
   "outputs": [],
   "source": []
  },
  {
   "cell_type": "markdown",
   "id": "d1945d49",
   "metadata": {},
   "source": [
    "PAIRPLOT"
   ]
  },
  {
   "cell_type": "code",
   "execution_count": 18,
   "id": "1b25e30a",
   "metadata": {},
   "outputs": [
    {
     "data": {
      "text/plain": [
       "<seaborn.axisgrid.PairGrid at 0x131bde1a8b0>"
      ]
     },
     "execution_count": 18,
     "metadata": {},
     "output_type": "execute_result"
    },
    {
     "data": {
      "image/png": "[encoded data removed]",
      "text/plain": [
       "<Figure size 768.75x720 with 20 Axes>"
      ]
     },
     "metadata": {
      "needs_background": "light"
     },
     "output_type": "display_data"
    }
   ],
   "source": [
    "sns.pairplot(df,hue='sales')"
   ]
  },
  {
   "cell_type": "markdown",
   "id": "214042bf",
   "metadata": {},
   "source": [
    "All the columns are showing positivity with sales"
   ]
  },
  {
   "cell_type": "code",
   "execution_count": null,
   "id": "3ccfbb7a",
   "metadata": {},
   "outputs": [],
   "source": []
  },
  {
   "cell_type": "markdown",
   "id": "746a2b43",
   "metadata": {},
   "source": [
    "SPLITTING THE DATASET"
   ]
  },
  {
   "cell_type": "code",
   "execution_count": 19,
   "id": "fe29b2b1",
   "metadata": {},
   "outputs": [],
   "source": [
    "x=df.drop('sales',axis=1)\n",
    "y=df['sales']"
   ]
  },
  {
   "cell_type": "code",
   "execution_count": 20,
   "id": "01e8a5bd",
   "metadata": {},
   "outputs": [
    {
     "data": {
      "text/html": [
       "<div>\n",
       "<style scoped>\n",
       "    .dataframe tbody tr th:only-of-type {\n",
       "        vertical-align: middle;\n",
       "    }\n",
       "\n",
       "    .dataframe tbody tr th {\n",
       "        vertical-align: top;\n",
       "    }\n",
       "\n",
       "    .dataframe thead th {\n",
       "        text-align: right;\n",
       "    }\n",
       "</style>\n",
       "<table border=\"1\" class=\"dataframe\">\n",
       "  <thead>\n",
       "    <tr style=\"text-align: right;\">\n",
       "      <th></th>\n",
       "      <th>Unnamed: 0</th>\n",
       "      <th>TV</th>\n",
       "      <th>radio</th>\n",
       "      <th>newspaper</th>\n",
       "    </tr>\n",
       "  </thead>\n",
       "  <tbody>\n",
       "    <tr>\n",
       "      <th>0</th>\n",
       "      <td>1</td>\n",
       "      <td>230.1</td>\n",
       "      <td>37.8</td>\n",
       "      <td>69.2</td>\n",
       "    </tr>\n",
       "    <tr>\n",
       "      <th>1</th>\n",
       "      <td>2</td>\n",
       "      <td>44.5</td>\n",
       "      <td>39.3</td>\n",
       "      <td>45.1</td>\n",
       "    </tr>\n",
       "    <tr>\n",
       "      <th>2</th>\n",
       "      <td>3</td>\n",
       "      <td>17.2</td>\n",
       "      <td>45.9</td>\n",
       "      <td>69.3</td>\n",
       "    </tr>\n",
       "    <tr>\n",
       "      <th>3</th>\n",
       "      <td>4</td>\n",
       "      <td>151.5</td>\n",
       "      <td>41.3</td>\n",
       "      <td>58.5</td>\n",
       "    </tr>\n",
       "    <tr>\n",
       "      <th>4</th>\n",
       "      <td>5</td>\n",
       "      <td>180.8</td>\n",
       "      <td>10.8</td>\n",
       "      <td>58.4</td>\n",
       "    </tr>\n",
       "    <tr>\n",
       "      <th>...</th>\n",
       "      <td>...</td>\n",
       "      <td>...</td>\n",
       "      <td>...</td>\n",
       "      <td>...</td>\n",
       "    </tr>\n",
       "    <tr>\n",
       "      <th>195</th>\n",
       "      <td>196</td>\n",
       "      <td>38.2</td>\n",
       "      <td>3.7</td>\n",
       "      <td>13.8</td>\n",
       "    </tr>\n",
       "    <tr>\n",
       "      <th>196</th>\n",
       "      <td>197</td>\n",
       "      <td>94.2</td>\n",
       "      <td>4.9</td>\n",
       "      <td>8.1</td>\n",
       "    </tr>\n",
       "    <tr>\n",
       "      <th>197</th>\n",
       "      <td>198</td>\n",
       "      <td>177.0</td>\n",
       "      <td>9.3</td>\n",
       "      <td>6.4</td>\n",
       "    </tr>\n",
       "    <tr>\n",
       "      <th>198</th>\n",
       "      <td>199</td>\n",
       "      <td>283.6</td>\n",
       "      <td>42.0</td>\n",
       "      <td>66.2</td>\n",
       "    </tr>\n",
       "    <tr>\n",
       "      <th>199</th>\n",
       "      <td>200</td>\n",
       "      <td>232.1</td>\n",
       "      <td>8.6</td>\n",
       "      <td>8.7</td>\n",
       "    </tr>\n",
       "  </tbody>\n",
       "</table>\n",
       "<p>200 rows × 4 columns</p>\n",
       "</div>"
      ],
      "text/plain": [
       "     Unnamed: 0     TV  radio  newspaper\n",
       "0             1  230.1   37.8       69.2\n",
       "1             2   44.5   39.3       45.1\n",
       "2             3   17.2   45.9       69.3\n",
       "3             4  151.5   41.3       58.5\n",
       "4             5  180.8   10.8       58.4\n",
       "..          ...    ...    ...        ...\n",
       "195         196   38.2    3.7       13.8\n",
       "196         197   94.2    4.9        8.1\n",
       "197         198  177.0    9.3        6.4\n",
       "198         199  283.6   42.0       66.2\n",
       "199         200  232.1    8.6        8.7\n",
       "\n",
       "[200 rows x 4 columns]"
      ]
     },
     "execution_count": 20,
     "metadata": {},
     "output_type": "execute_result"
    }
   ],
   "source": [
    "x"
   ]
  },
  {
   "cell_type": "markdown",
   "id": "3ecc1c10",
   "metadata": {},
   "source": [
    "Now we have 200 rows and 4 columns in x variable"
   ]
  },
  {
   "cell_type": "code",
   "execution_count": 21,
   "id": "68493a5e",
   "metadata": {},
   "outputs": [
    {
     "data": {
      "text/plain": [
       "0      22.1\n",
       "1      10.4\n",
       "2       9.3\n",
       "3      18.5\n",
       "4      12.9\n",
       "       ... \n",
       "195     7.6\n",
       "196     9.7\n",
       "197    12.8\n",
       "198    25.5\n",
       "199    13.4\n",
       "Name: sales, Length: 200, dtype: float64"
      ]
     },
     "execution_count": 21,
     "metadata": {},
     "output_type": "execute_result"
    }
   ],
   "source": [
    "y"
   ]
  },
  {
   "cell_type": "markdown",
   "id": "4caee2a8",
   "metadata": {},
   "source": [
    "In y variable we have only sales column with length of 200 and data type is float"
   ]
  },
  {
   "cell_type": "markdown",
   "id": "992137d7",
   "metadata": {},
   "source": [
    "now dateset has been splitted into x and y variable."
   ]
  },
  {
   "cell_type": "code",
   "execution_count": null,
   "id": "c1e1b3f8",
   "metadata": {},
   "outputs": [],
   "source": []
  },
  {
   "cell_type": "markdown",
   "id": "eb81b461",
   "metadata": {},
   "source": [
    "TRAIN TEST SPLIT"
   ]
  },
  {
   "cell_type": "code",
   "execution_count": 23,
   "id": "95a92766",
   "metadata": {},
   "outputs": [],
   "source": [
    "from sklearn.model_selection import train_test_split\n",
    "\n",
    "x_train,x_test,y_train,y_test=train_test_split(x,y, test_size=0.2,random_state=42)"
   ]
  },
  {
   "cell_type": "code",
   "execution_count": 33,
   "id": "3412a86c",
   "metadata": {},
   "outputs": [
    {
     "data": {
      "text/plain": [
       "(160, 4)"
      ]
     },
     "execution_count": 33,
     "metadata": {},
     "output_type": "execute_result"
    }
   ],
   "source": [
    "x_train.shape"
   ]
  },
  {
   "cell_type": "markdown",
   "id": "7fcc09c3",
   "metadata": {},
   "source": [
    "in x_train we have 160 rows and 4 columns after train_test_split"
   ]
  },
  {
   "cell_type": "code",
   "execution_count": 24,
   "id": "7788557e",
   "metadata": {},
   "outputs": [
    {
     "data": {
      "text/plain": [
       "(40, 4)"
      ]
     },
     "execution_count": 24,
     "metadata": {},
     "output_type": "execute_result"
    }
   ],
   "source": [
    "x_test.shape"
   ]
  },
  {
   "cell_type": "markdown",
   "id": "e97bf7dc",
   "metadata": {},
   "source": [
    "in x_test we have 40 rows and 4 columns after train_test_split"
   ]
  },
  {
   "cell_type": "code",
   "execution_count": 25,
   "id": "36a2eeb3",
   "metadata": {},
   "outputs": [
    {
     "data": {
      "text/plain": [
       "(160,)"
      ]
     },
     "execution_count": 25,
     "metadata": {},
     "output_type": "execute_result"
    }
   ],
   "source": [
    "y_train.shape"
   ]
  },
  {
   "cell_type": "code",
   "execution_count": 26,
   "id": "96420311",
   "metadata": {},
   "outputs": [
    {
     "data": {
      "text/plain": [
       "(40,)"
      ]
     },
     "execution_count": 26,
     "metadata": {},
     "output_type": "execute_result"
    }
   ],
   "source": [
    "y_test.shape"
   ]
  },
  {
   "cell_type": "code",
   "execution_count": null,
   "id": "1674cd2e",
   "metadata": {},
   "outputs": [],
   "source": []
  },
  {
   "cell_type": "code",
   "execution_count": null,
   "id": "a04a506d",
   "metadata": {},
   "outputs": [],
   "source": []
  },
  {
   "cell_type": "markdown",
   "id": "7e34e559",
   "metadata": {},
   "source": [
    "MODEL BUILDING"
   ]
  },
  {
   "cell_type": "markdown",
   "id": "52f704c2",
   "metadata": {},
   "source": [
    "IMPORTING THE LIBRARIES FOR MODEL BUILDING"
   ]
  },
  {
   "cell_type": "code",
   "execution_count": 28,
   "id": "1a04c271",
   "metadata": {},
   "outputs": [],
   "source": [
    "from sklearn.linear_model import LinearRegression\n",
    "from sklearn.metrics import r2_score\n",
    "from sklearn.metrics import mean_squared_error, mean_absolute_error"
   ]
  },
  {
   "cell_type": "code",
   "execution_count": 34,
   "id": "1f39b6fd",
   "metadata": {},
   "outputs": [
    {
     "name": "stdout",
     "output_type": "stream",
     "text": [
      "r2 score 0.8986489151417081\n",
      "error\n",
      "mean absolute error 1.4650601050102927\n",
      "mean squared error 3.1990044685889005\n",
      "root mean squared error 1.7885761008659655\n"
     ]
    }
   ],
   "source": [
    "\n",
    "\n",
    "\n",
    "#for Linear Regression\n",
    "\n",
    "lr=LinearRegression()\n",
    "lr.fit(x_train,y_train)\n",
    "pred_y=lr.predict(x_test)\n",
    "print('r2 score',r2_score(y_test,pred_y))\n",
    "\n",
    "print('error')\n",
    "print('mean absolute error', mean_absolute_error(y_test,pred_y))\n",
    "print('mean squared error', mean_squared_error(y_test,pred_y))\n",
    "\n",
    "print('root mean squared error', np.sqrt(mean_squared_error(y_test,pred_y)))"
   ]
  },
  {
   "cell_type": "markdown",
   "id": "76b30001",
   "metadata": {},
   "source": [
    "Linear Regression model is predicting 89% r2 score.\n",
    "mean absolute error for Linear Regression is 1.46,\n",
    "mean squared error for Linear Regression is 3.19,\n",
    "root mean squared error for Linear Regression is 1.78"
   ]
  },
  {
   "cell_type": "code",
   "execution_count": 45,
   "id": "69dff0ae",
   "metadata": {},
   "outputs": [
    {
     "data": {
      "text/plain": [
       "array([0.00064359, 0.04471835, 0.18925118, 0.00304577])"
      ]
     },
     "execution_count": 45,
     "metadata": {},
     "output_type": "execute_result"
    }
   ],
   "source": [
    "lr.coef_"
   ]
  },
  {
   "cell_type": "markdown",
   "id": "ad11ae8f",
   "metadata": {},
   "source": [
    "coefficient of the Linear Regression"
   ]
  },
  {
   "cell_type": "code",
   "execution_count": null,
   "id": "58165b90",
   "metadata": {},
   "outputs": [],
   "source": []
  },
  {
   "cell_type": "code",
   "execution_count": 33,
   "id": "f878cf49",
   "metadata": {},
   "outputs": [
    {
     "name": "stdout",
     "output_type": "stream",
     "text": [
      "r2 score 0.9001586308815881\n",
      "error\n",
      "mean absolute error 1.4530467578554116\n",
      "mean squared error 3.1513524142973472\n",
      "root mean squared error 1.7752048936101283\n"
     ]
    }
   ],
   "source": [
    "#For Lasso\n",
    "from sklearn.linear_model import Lasso\n",
    "\n",
    "ls=Lasso()\n",
    "\n",
    "ls.fit(x_train,y_train)\n",
    "pred_y=ls.predict(x_test)\n",
    "print('r2 score',r2_score(y_test,pred_y))\n",
    "\n",
    "print('error')\n",
    "print('mean absolute error', mean_absolute_error(y_test,pred_y))\n",
    "print('mean squared error', mean_squared_error(y_test,pred_y))\n",
    "\n",
    "print('root mean squared error', np.sqrt(mean_squared_error(y_test,pred_y)))\n"
   ]
  },
  {
   "cell_type": "markdown",
   "id": "d1194425",
   "metadata": {},
   "source": [
    "Lasso Regression is predicing 90% r2 score.\n",
    "mean absolute error for Lasso Regression is 1.45,\n",
    "mean squared error for Lasso Regression is 3.15,\n",
    "root mean squared error for Lasso Regression is 1.77\n"
   ]
  },
  {
   "cell_type": "code",
   "execution_count": 50,
   "id": "b723bf25",
   "metadata": {},
   "outputs": [
    {
     "data": {
      "text/plain": [
       "array([0.00020037, 0.04462722, 0.18536764, 0.00151066])"
      ]
     },
     "execution_count": 50,
     "metadata": {},
     "output_type": "execute_result"
    }
   ],
   "source": [
    "ls.coef_"
   ]
  },
  {
   "cell_type": "markdown",
   "id": "2a987d56",
   "metadata": {},
   "source": [
    "coefficient of the Lasso Regression"
   ]
  },
  {
   "cell_type": "code",
   "execution_count": null,
   "id": "177278d5",
   "metadata": {},
   "outputs": [],
   "source": []
  },
  {
   "cell_type": "code",
   "execution_count": 35,
   "id": "8295a1ff",
   "metadata": {},
   "outputs": [
    {
     "name": "stdout",
     "output_type": "stream",
     "text": [
      "r2 score 0.8986489976571697\n",
      "error\n",
      "mean absolute error 1.465068752816445\n",
      "mean squared error 3.199001864104396\n",
      "root mean squared error 1.7885753727770033\n"
     ]
    }
   ],
   "source": [
    "# for Ridge\n",
    "from sklearn.linear_model import Ridge\n",
    "\n",
    "#For Ridge\n",
    "\n",
    "rd=Ridge()\n",
    "\n",
    "rd.fit(x_train,y_train)\n",
    "pred_y=rd.predict(x_test)\n",
    "print('r2 score',r2_score(y_test,pred_y))\n",
    "\n",
    "print('error')\n",
    "print('mean absolute error', mean_absolute_error(y_test,pred_y))\n",
    "print('mean squared error', mean_squared_error(y_test,pred_y))\n",
    "\n",
    "print('root mean squared error', np.sqrt(mean_squared_error(y_test,pred_y)))\n",
    "\n"
   ]
  },
  {
   "cell_type": "markdown",
   "id": "675bcaaf",
   "metadata": {},
   "source": [
    "Ridge Regression is predictic 89% r2 score.\n",
    "mean absolute error for Ridge Regression is 1.46, mean squared error for Ridge Regression is 3.19, root mean squared error for Ridge Regression is 1.78"
   ]
  },
  {
   "cell_type": "code",
   "execution_count": 51,
   "id": "0eb38d18",
   "metadata": {},
   "outputs": [
    {
     "data": {
      "text/plain": [
       "array([0.00064356, 0.04471836, 0.18924481, 0.0030475 ])"
      ]
     },
     "execution_count": 51,
     "metadata": {},
     "output_type": "execute_result"
    }
   ],
   "source": [
    "rd.coef_"
   ]
  },
  {
   "cell_type": "markdown",
   "id": "73117daa",
   "metadata": {},
   "source": [
    "coefficient of the Ridge Regression "
   ]
  },
  {
   "cell_type": "code",
   "execution_count": null,
   "id": "351286a3",
   "metadata": {},
   "outputs": [],
   "source": []
  },
  {
   "cell_type": "code",
   "execution_count": 36,
   "id": "84f42869",
   "metadata": {},
   "outputs": [
    {
     "name": "stdout",
     "output_type": "stream",
     "text": [
      "r2 score 0.8994476480588866\n",
      "error\n",
      "mean absolute error 1.4594611152047146\n",
      "mean squared error 3.173793587276327\n",
      "root mean squared error 1.781514408383027\n"
     ]
    }
   ],
   "source": [
    "#For ElasticNet\n",
    "from sklearn.linear_model import ElasticNet\n",
    "\n",
    "\n",
    "en=ElasticNet()\n",
    "\n",
    "en.fit(x_train,y_train)\n",
    "pred_y=en.predict(x_test)\n",
    "print('r2 score',r2_score(y_test,pred_y))\n",
    "\n",
    "print('error')\n",
    "print('mean absolute error', mean_absolute_error(y_test,pred_y))\n",
    "print('mean squared error', mean_squared_error(y_test,pred_y))\n",
    "\n",
    "print('root mean squared error', np.sqrt(mean_squared_error(y_test,pred_y)))\n"
   ]
  },
  {
   "cell_type": "markdown",
   "id": "7f8b7c09",
   "metadata": {},
   "source": [
    "ElasticNet is predicting 89% r2 score.\n",
    " mean absolute error for ElasticNet Regression is 1.45, mean squared error for ElasticNet Regression is 3.17, root mean squared error for ElasticNet Regression is 1.78"
   ]
  },
  {
   "cell_type": "code",
   "execution_count": 52,
   "id": "3aeb9d55",
   "metadata": {},
   "outputs": [
    {
     "data": {
      "text/plain": [
       "array([0.00041956, 0.0446737 , 0.18680747, 0.00241589])"
      ]
     },
     "execution_count": 52,
     "metadata": {},
     "output_type": "execute_result"
    }
   ],
   "source": [
    "en.coef_"
   ]
  },
  {
   "cell_type": "markdown",
   "id": "c014d3bf",
   "metadata": {},
   "source": [
    "coefficient of ElasticNet Regression"
   ]
  },
  {
   "cell_type": "code",
   "execution_count": null,
   "id": "a0be9d95",
   "metadata": {},
   "outputs": [],
   "source": []
  },
  {
   "cell_type": "code",
   "execution_count": null,
   "id": "bfa69de5",
   "metadata": {},
   "outputs": [],
   "source": []
  },
  {
   "cell_type": "markdown",
   "id": "ec58dcd2",
   "metadata": {},
   "source": [
    "CHECKING R2 SCORE THROUGH CROSS VALIDATION"
   ]
  },
  {
   "cell_type": "code",
   "execution_count": 37,
   "id": "b682af8c",
   "metadata": {},
   "outputs": [],
   "source": [
    "from sklearn.model_selection import cross_val_score"
   ]
  },
  {
   "cell_type": "code",
   "execution_count": 40,
   "id": "d224bb6c",
   "metadata": {},
   "outputs": [
    {
     "name": "stdout",
     "output_type": "stream",
     "text": [
      "cv score 0.8842777844741689\n"
     ]
    }
   ],
   "source": [
    "# For Linear Regression\n",
    "\n",
    "\n",
    "score=cross_val_score(lr,x,y,cv=5)\n",
    "print('cv score',np.mean(score))\n"
   ]
  },
  {
   "cell_type": "markdown",
   "id": "f93c1e78",
   "metadata": {},
   "source": [
    "cross validation score of linear regression is 88%"
   ]
  },
  {
   "cell_type": "code",
   "execution_count": 41,
   "id": "1c68e7e1",
   "metadata": {},
   "outputs": [
    {
     "name": "stdout",
     "output_type": "stream",
     "text": [
      "cv score 0.8858863329447579\n"
     ]
    }
   ],
   "source": [
    "# For Lasso\n",
    "\n",
    "\n",
    "score=cross_val_score(ls,x,y,cv=5)\n",
    "print('cv score',np.mean(score))"
   ]
  },
  {
   "cell_type": "markdown",
   "id": "6dd22f1f",
   "metadata": {},
   "source": [
    "cross validation score of lasso is 88%"
   ]
  },
  {
   "cell_type": "code",
   "execution_count": 42,
   "id": "612a31ed",
   "metadata": {},
   "outputs": [
    {
     "name": "stdout",
     "output_type": "stream",
     "text": [
      "cv score 0.884278138075364\n"
     ]
    }
   ],
   "source": [
    "# For Ridge\n",
    "\n",
    "\n",
    "score=cross_val_score(rd,x,y,cv=5)\n",
    "print('cv score',np.mean(score))"
   ]
  },
  {
   "cell_type": "markdown",
   "id": "a1f61e18",
   "metadata": {},
   "source": [
    "cross validation score of ridge is 88%"
   ]
  },
  {
   "cell_type": "code",
   "execution_count": 43,
   "id": "2e0df6f4",
   "metadata": {},
   "outputs": [
    {
     "name": "stdout",
     "output_type": "stream",
     "text": [
      "cv score 0.8851877809767806\n"
     ]
    }
   ],
   "source": [
    "\n",
    "#For ElasticNet\n",
    "\n",
    "score=cross_val_score(en,x,y,cv=5)\n",
    "print('cv score',np.mean(score))"
   ]
  },
  {
   "cell_type": "markdown",
   "id": "419c1c9c",
   "metadata": {},
   "source": [
    "cross validation score of ridge is 88%"
   ]
  },
  {
   "cell_type": "code",
   "execution_count": null,
   "id": "77d0f2d6",
   "metadata": {},
   "outputs": [],
   "source": []
  },
  {
   "cell_type": "markdown",
   "id": "f241791d",
   "metadata": {},
   "source": [
    "CLASSIFICATION ALGORITHMS A REGRESSION MODEL"
   ]
  },
  {
   "cell_type": "code",
   "execution_count": 53,
   "id": "f1b11000",
   "metadata": {},
   "outputs": [
    {
     "name": "stdout",
     "output_type": "stream",
     "text": [
      "0.8890256692188028\n",
      "0.8759650005077199\n",
      "0.7660598050103244\n"
     ]
    }
   ],
   "source": [
    "\n",
    "\n",
    "from sklearn.svm import SVR\n",
    "\n",
    "kernellist=['linear','poly','rbf']\n",
    "for i in kernellist:\n",
    "    sv=SVR(kernel=i)\n",
    "    sv.fit(x_train,y_train)\n",
    "    print(sv.score(x_train,y_train))"
   ]
  },
  {
   "cell_type": "markdown",
   "id": "39e7d544",
   "metadata": {},
   "source": [
    "Support vector regression is predicting 88% score for kernel 'liner',\n",
    "87% for kernel 'poly' and 76% score for kernel 'rbf'."
   ]
  },
  {
   "cell_type": "code",
   "execution_count": null,
   "id": "49a60095",
   "metadata": {},
   "outputs": [],
   "source": []
  },
  {
   "cell_type": "code",
   "execution_count": null,
   "id": "1d403e4c",
   "metadata": {},
   "outputs": [],
   "source": []
  },
  {
   "cell_type": "markdown",
   "id": "0a974e7d",
   "metadata": {},
   "source": [
    "HYPER PARAMETER TUNING\n",
    "\n",
    "for getting best model"
   ]
  },
  {
   "cell_type": "code",
   "execution_count": 72,
   "id": "39834a98",
   "metadata": {},
   "outputs": [],
   "source": [
    "from sklearn.ensemble import RandomForestRegressor"
   ]
  },
  {
   "cell_type": "code",
   "execution_count": 80,
   "id": "52d211dc",
   "metadata": {},
   "outputs": [
    {
     "data": {
      "text/plain": [
       "GridSearchCV(estimator=RandomForestRegressor(max_depth=5, random_state=0),\n",
       "             param_grid={'criterion': ['mse', 'mae'],\n",
       "                         'max_features': ['auto', 'sqrt', 'log2']})"
      ]
     },
     "execution_count": 80,
     "metadata": {},
     "output_type": "execute_result"
    }
   ],
   "source": [
    "parameters={'criterion':['mse','mae'],'max_features':['auto','sqrt','log2']}\n",
    "\n",
    "rf=RandomForestRegressor(max_depth=5, random_state=0)\n",
    "clf=GridSearchCV(rf,parameters)\n",
    "clf.fit(x_train,y_train)"
   ]
  },
  {
   "cell_type": "code",
   "execution_count": 85,
   "id": "2481a6ed",
   "metadata": {},
   "outputs": [
    {
     "name": "stdout",
     "output_type": "stream",
     "text": [
      "r2 score: 97.50450990768994\n",
      "cross val score 96.7267651792473\n"
     ]
    }
   ],
   "source": [
    "rf=RandomForestRegressor(criterion='mse',max_features='auto',max_depth=5, random_state=42)\n",
    "rf.fit(x_train,y_train)\n",
    "rf.score(x_train,y_train)\n",
    "pred_decision=rf.predict(x_test)\n",
    "\n",
    "\n",
    "rfs=r2_score(y_test,pred_decision)\n",
    "print('r2 score:', rfs*100)\n",
    "\n",
    "rfscore=cross_val_score(rf,x,y,cv=5)\n",
    "rfc=rfscore.mean()\n",
    "print('cross val score',rfc*100)"
   ]
  },
  {
   "cell_type": "code",
   "execution_count": 84,
   "id": "d2f2a561",
   "metadata": {},
   "outputs": [
    {
     "name": "stdout",
     "output_type": "stream",
     "text": [
      "r2 score: 97.34124936264584\n",
      "cross val score 96.50253744560453\n"
     ]
    }
   ],
   "source": [
    "rf=RandomForestRegressor(criterion='mae',max_features='auto',max_depth=5, random_state=42)\n",
    "rf.fit(x_train,y_train)\n",
    "rf.score(x_train,y_train)\n",
    "pred_decision=rf.predict(x_test)\n",
    "\n",
    "\n",
    "rfs=r2_score(y_test,pred_decision)\n",
    "print('r2 score:', rfs*100)\n",
    "\n",
    "rfscore=cross_val_score(rf,x,y,cv=5)\n",
    "rfc=rfscore.mean()\n",
    "print('cross val score',rfc*100)"
   ]
  },
  {
   "cell_type": "markdown",
   "id": "10639578",
   "metadata": {},
   "source": [
    "After optimization of hyper parameter tuning with taking both criterion 'mse' and 'mae',max_features and ,max_depth and random state ,we can say that models is predicting extremly well.\n",
    "other than that if we take (criterion='mse',max_features='auto',max_depth=5, random_state=42) then the performance will be best."
   ]
  },
  {
   "cell_type": "markdown",
   "id": "c49f2097",
   "metadata": {},
   "source": []
  }
 ],
 "metadata": {
  "kernelspec": {
   "display_name": "Python 3",
   "language": "python",
   "name": "python3"
  },
  "language_info": {
   "codemirror_mode": {
    "name": "ipython",
    "version": 3
   },
   "file_extension": ".py",
   "mimetype": "text/x-python",
   "name": "python",
   "nbconvert_exporter": "python",
   "pygments_lexer": "ipython3",
   "version": "3.8.8"
  }
 },
 "nbformat": 4,
 "nbformat_minor": 5
}
